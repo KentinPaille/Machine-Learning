{
 "cells": [
  {
   "cell_type": "code",
   "execution_count": 41,
   "id": "cdfa0b80",
   "metadata": {},
   "outputs": [],
   "source": [
    "from tensorflow import keras\n",
    "from keras.utils import to_categorical\n",
    "from tensorflow.keras.models import Sequential\n",
    "from tensorflow.keras.layers import Conv2D, MaxPooling2D, Flatten, Dense, Dropout\n",
    "from tensorflow.keras.callbacks import EarlyStopping\n",
    "from tensorflow.keras.regularizers import l2"
   ]
  },
  {
   "cell_type": "markdown",
   "id": "f89428c9",
   "metadata": {},
   "source": [
    "**Load MNIST and Preprocess the dataset**"
   ]
  },
  {
   "cell_type": "code",
   "execution_count": 42,
   "id": "652a4274",
   "metadata": {},
   "outputs": [],
   "source": [
    "(x_train, y_train), (x_test, y_test) = keras.datasets.mnist.load_data()\n",
    "\n",
    "# cast the data to floats in order to work with decimal division\n",
    "x_train = x_train.astype(\"float32\")\n",
    "x_test = x_test.astype(\"float32\")\n",
    "\n",
    "# Normalize the vectors codes\n",
    "# Initially, their maximum value is 255\n",
    "x_train = x_train / 255\n",
    "x_test = x_test / 255\n",
    "\n",
    "# One-hot encode the labels\n",
    "y_train = to_categorical(y_train, num_classes=10)\n",
    "y_test = to_categorical(y_test, num_classes=10)\n"
   ]
  },
  {
   "cell_type": "markdown",
   "id": "6aa6e18a",
   "metadata": {},
   "source": [
    "**Building the convolutional network using Tenserflow**"
   ]
  },
  {
   "cell_type": "code",
   "execution_count": 43,
   "id": "f352d482",
   "metadata": {},
   "outputs": [
    {
     "name": "stdout",
     "output_type": "stream",
     "text": [
      "\n",
      "Compile and fit the model\n",
      "Epoch 1/20\n",
      "\u001b[1m375/375\u001b[0m \u001b[32m━━━━━━━━━━━━━━━━━━━━\u001b[0m\u001b[37m\u001b[0m \u001b[1m3s\u001b[0m 6ms/step - accuracy: 0.8334 - loss: 0.5877 - val_accuracy: 0.9722 - val_loss: 0.1360\n",
      "Epoch 2/20\n",
      "\u001b[1m375/375\u001b[0m \u001b[32m━━━━━━━━━━━━━━━━━━━━\u001b[0m\u001b[37m\u001b[0m \u001b[1m2s\u001b[0m 6ms/step - accuracy: 0.9638 - loss: 0.1600 - val_accuracy: 0.9794 - val_loss: 0.1128\n",
      "Epoch 3/20\n",
      "\u001b[1m375/375\u001b[0m \u001b[32m━━━━━━━━━━━━━━━━━━━━\u001b[0m\u001b[37m\u001b[0m \u001b[1m2s\u001b[0m 6ms/step - accuracy: 0.9747 - loss: 0.1234 - val_accuracy: 0.9827 - val_loss: 0.1029\n",
      "Epoch 4/20\n",
      "\u001b[1m375/375\u001b[0m \u001b[32m━━━━━━━━━━━━━━━━━━━━\u001b[0m\u001b[37m\u001b[0m \u001b[1m2s\u001b[0m 6ms/step - accuracy: 0.9790 - loss: 0.1100 - val_accuracy: 0.9830 - val_loss: 0.0976\n",
      "Epoch 5/20\n",
      "\u001b[1m375/375\u001b[0m \u001b[32m━━━━━━━━━━━━━━━━━━━━\u001b[0m\u001b[37m\u001b[0m \u001b[1m2s\u001b[0m 6ms/step - accuracy: 0.9826 - loss: 0.0986 - val_accuracy: 0.9852 - val_loss: 0.0909\n",
      "Epoch 6/20\n",
      "\u001b[1m375/375\u001b[0m \u001b[32m━━━━━━━━━━━━━━━━━━━━\u001b[0m\u001b[37m\u001b[0m \u001b[1m2s\u001b[0m 6ms/step - accuracy: 0.9856 - loss: 0.0886 - val_accuracy: 0.9858 - val_loss: 0.0899\n",
      "Epoch 7/20\n",
      "\u001b[1m375/375\u001b[0m \u001b[32m━━━━━━━━━━━━━━━━━━━━\u001b[0m\u001b[37m\u001b[0m \u001b[1m2s\u001b[0m 6ms/step - accuracy: 0.9862 - loss: 0.0855 - val_accuracy: 0.9852 - val_loss: 0.0906\n",
      "\n",
      "Evaluate the model\n",
      "✅ Test accuracy: 0.9851\n"
     ]
    }
   ],
   "source": [
    "model = Sequential()\n",
    "\n",
    "# Convolution layer with L2 regularization = Feature extractor\n",
    "model.add(Conv2D(32, kernel_size=(3, 3), activation=\"relu\",\n",
    "                 kernel_regularizer=l2(1e-4),\n",
    "                 input_shape=(28, 28, 1)))\n",
    "model.add(MaxPooling2D(pool_size=(2, 2)))\n",
    "\n",
    "# Flatten + hidden layer = Classifier\n",
    "model.add(Flatten())\n",
    "model.add(Dense(128, activation=\"relu\", kernel_regularizer=l2(1e-4)))\n",
    "model.add(Dropout(0.3)) # Dropout to reduce overfitting\n",
    "model.add(Dense(10, activation=\"softmax\"))\n",
    "\n",
    "# Early stopping\n",
    "early_stopping_monitor = EarlyStopping(\n",
    "    monitor=\"val_loss\",\n",
    "    patience=1,\n",
    "    mode=\"min\", # \"min\" for val_loss, \"max\" for val_accuracy\n",
    "    restore_best_weights=True,\n",
    ")\n",
    "\n",
    "print(\"\\nCompile and fit the model\")\n",
    "\n",
    "# Compile\n",
    "model.compile(\n",
    "    optimizer=\"adam\",\n",
    "    loss=\"categorical_crossentropy\",\n",
    "    metrics=[\"accuracy\"],\n",
    ")\n",
    "\n",
    "# Fit\n",
    "history = model.fit(\n",
    "    x=x_train,\n",
    "    y=y_train,\n",
    "    batch_size=128,     # bigger batch size = faster on GPU\n",
    "    epochs=20,          # but will stop early if no improvement\n",
    "    validation_split=0.2,\n",
    "    callbacks=[early_stopping_monitor],\n",
    "    verbose=1,\n",
    ")\n",
    "\n",
    "# Evaluate\n",
    "print(\"\\nEvaluate the model\")\n",
    "test_loss, test_acc = model.evaluate(x_test, y_test, verbose=0)\n",
    "print(f\"✅ Test accuracy: {test_acc:.4f}\")\n",
    "\n",
    "# Save\n",
    "model.save(\"trained_model.keras\")\n"
   ]
  }
 ],
 "metadata": {
  "kernelspec": {
   "display_name": "Python 3",
   "language": "python",
   "name": "python3"
  },
  "language_info": {
   "codemirror_mode": {
    "name": "ipython",
    "version": 3
   },
   "file_extension": ".py",
   "mimetype": "text/x-python",
   "name": "python",
   "nbconvert_exporter": "python",
   "pygments_lexer": "ipython3",
   "version": "3.11.9"
  }
 },
 "nbformat": 4,
 "nbformat_minor": 5
}
