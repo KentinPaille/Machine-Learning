{
 "cells": [
  {
   "cell_type": "markdown",
   "id": "1b9f70d6",
   "metadata": {},
   "source": [
    "# Breast Cancer — Modern Analysis: t-SNE, UMAP, KDE, 2D & 3D visualizations, and Model Comparison\n",
    "\n",
    "This notebook:\n",
    "- loads `data.csv` (expects column `diagnosis` with 'M'/'B' or a numeric `target`),\n",
    "- preprocesses (encodes categorical cols, scaling),\n",
    "- computes PCA, t-SNE (2D & 3D) and UMAP ,\n",
    "- estimates densities (KDE) and visualizes them,\n",
    "- trains models with GridSearchCV and shows metrics,\n",
    "- includes interactive Plotly visualizations (2D + 3D) and an analysis section.\n",
    "\n",
    "**Instructions**: place `data.csv` next to this notebook and run all cells. The notebook uses Plotly for interactive plots — install `plotly` and `umap-learn` if needed (`pip install plotly umap-learn`)."
   ]
  },
  {
   "cell_type": "code",
   "execution_count": 8,
   "id": "74cb7bdc",
   "metadata": {},
   "outputs": [],
   "source": [
    "# Imports\n",
    "import os\n",
    "import numpy as np\n",
    "import pandas as pd\n",
    "import matplotlib.pyplot as plt\n",
    "import seaborn as sns\n",
    "import plotly.express as px\n",
    "import plotly.graph_objects as go\n",
    "from sklearn.model_selection import train_test_split, GridSearchCV\n",
    "from sklearn.preprocessing import StandardScaler\n",
    "from sklearn.decomposition import PCA\n",
    "from sklearn.manifold import TSNE\n",
    "try:\n",
    "    import umap\n",
    "    _umap_available = True\n",
    "except Exception:\n",
    "    _umap_available = False\n",
    "from sklearn.neighbors import KernelDensity\n",
    "from sklearn.ensemble import RandomForestClassifier\n",
    "from sklearn.linear_model import LogisticRegression\n",
    "from sklearn.svm import SVC\n",
    "from sklearn.neural_network import MLPClassifier\n",
    "from sklearn.metrics import accuracy_score, f1_score, roc_auc_score, confusion_matrix\n",
    "sns.set(style='whitegrid')"
   ]
  },
  {
   "cell_type": "code",
   "execution_count": 9,
   "id": "2c871b72",
   "metadata": {},
   "outputs": [
    {
     "name": "stdout",
     "output_type": "stream",
     "text": [
      "X shape (after encoding): (569, 31)\n",
      "Classes distribution:\n",
      " target\n",
      "0    357\n",
      "1    212\n",
      "Name: count, dtype: int64\n"
     ]
    }
   ],
   "source": [
    "# Load & Preprocess\n",
    "DATA_PATH = 'data.csv'\n",
    "if not os.path.exists(DATA_PATH):\n",
    "    raise FileNotFoundError(f\"Le fichier {DATA_PATH} est introuvable. Place data.csv à côté du notebook.\")\n",
    "\n",
    "df = pd.read_csv(DATA_PATH)\n",
    "# if diagnosis present, map to target\n",
    "if 'diagnosis' in df.columns and 'target' not in df.columns:\n",
    "    df['target'] = df['diagnosis'].map({'M':1, 'B':0})\n",
    "\n",
    "# drop obvious id/unnamed\n",
    "df = df.drop(columns=[c for c in df.columns if c.lower().startswith('id') or c.lower().startswith('unnamed')], errors='ignore')\n",
    "\n",
    "# Fill na\n",
    "if df.isna().sum().sum() > 0:\n",
    "    df = df.fillna(df.median())\n",
    "\n",
    "# Separate target, encode categorical features if any\n",
    "if 'target' not in df.columns:\n",
    "    raise ValueError('Aucune colonne `target` trouvée. Assure-toi que `diagnosis` ou `target` est présent.')\n",
    "\n",
    "X_raw = df.drop(columns=['target']).copy()\n",
    "y = df['target'].astype(int).copy()\n",
    "\n",
    "# One-hot encode non-numeric columns (including diagnosis if still present)\n",
    "X = pd.get_dummies(X_raw, drop_first=True)\n",
    "\n",
    "# Scale\n",
    "scaler = StandardScaler()\n",
    "X_scaled = scaler.fit_transform(X)\n",
    "\n",
    "print('X shape (after encoding):', X.shape)\n",
    "print('Classes distribution:\\n', y.value_counts())"
   ]
  },
  {
   "cell_type": "code",
   "execution_count": 10,
   "id": "c0b7babf",
   "metadata": {},
   "outputs": [
    {
     "name": "stdout",
     "output_type": "stream",
     "text": [
      "Explained variance (first 10): [0.449 0.185 0.092 0.064 0.054 0.039 0.022 0.016 0.013 0.011]\n"
     ]
    },
    {
     "data": {
      "application/vnd.plotly.v1+json": {
       "config": {
        "plotlyServerURL": "https://plot.ly"
       },
       "data": [
        {
         "hovertemplate": "x=%{x}<br>y=%{y}<br>target=%{marker.color}<extra></extra>",
         "legendgroup": "",
         "marker": {
          "color": {
           "bdata": "AQAAAAEAAAABAAAAAQAAAAEAAAABAAAAAQAAAAEAAAABAAAAAQAAAAEAAAABAAAAAQAAAAEAAAABAAAAAQAAAAEAAAABAAAAAQAAAAAAAAAAAAAAAAAAAAEAAAABAAAAAQAAAAEAAAABAAAAAQAAAAEAAAABAAAAAQAAAAEAAAABAAAAAQAAAAEAAAABAAAAAQAAAAAAAAABAAAAAQAAAAEAAAABAAAAAQAAAAEAAAABAAAAAQAAAAAAAAABAAAAAAAAAAAAAAAAAAAAAAAAAAAAAAABAAAAAQAAAAAAAAABAAAAAQAAAAAAAAAAAAAAAAAAAAAAAAABAAAAAAAAAAEAAAABAAAAAAAAAAAAAAAAAAAAAAAAAAEAAAAAAAAAAQAAAAEAAAAAAAAAAQAAAAAAAAABAAAAAQAAAAAAAAAAAAAAAAAAAAEAAAABAAAAAAAAAAEAAAABAAAAAQAAAAAAAAAAAAAAAAAAAAEAAAAAAAAAAAAAAAEAAAABAAAAAAAAAAAAAAAAAAAAAQAAAAEAAAAAAAAAAAAAAAAAAAAAAAAAAQAAAAAAAAAAAAAAAQAAAAAAAAAAAAAAAAAAAAAAAAAAAAAAAAAAAAAAAAAAAAAAAQAAAAEAAAABAAAAAAAAAAEAAAABAAAAAAAAAAAAAAAAAAAAAQAAAAEAAAAAAAAAAQAAAAAAAAABAAAAAQAAAAAAAAABAAAAAQAAAAAAAAAAAAAAAQAAAAAAAAAAAAAAAQAAAAAAAAAAAAAAAAAAAAAAAAABAAAAAAAAAAAAAAAAAAAAAAAAAAAAAAAAAAAAAAAAAAAAAAAAAAAAAQAAAAAAAAAAAAAAAAAAAAAAAAABAAAAAQAAAAAAAAABAAAAAAAAAAAAAAABAAAAAQAAAAAAAAAAAAAAAQAAAAEAAAAAAAAAAAAAAAAAAAAAAAAAAQAAAAAAAAAAAAAAAQAAAAEAAAABAAAAAAAAAAEAAAAAAAAAAQAAAAAAAAAAAAAAAAAAAAEAAAAAAAAAAAAAAAEAAAABAAAAAAAAAAEAAAABAAAAAQAAAAEAAAAAAAAAAQAAAAEAAAABAAAAAAAAAAEAAAAAAAAAAQAAAAAAAAAAAAAAAQAAAAAAAAABAAAAAQAAAAEAAAABAAAAAAAAAAAAAAABAAAAAQAAAAAAAAAAAAAAAAAAAAEAAAAAAAAAAAAAAAAAAAAAAAAAAAAAAAEAAAABAAAAAAAAAAAAAAABAAAAAAAAAAAAAAABAAAAAQAAAAAAAAABAAAAAAAAAAAAAAAAAAAAAAAAAAEAAAAAAAAAAAAAAAAAAAAAAAAAAAAAAAEAAAAAAAAAAQAAAAEAAAABAAAAAQAAAAEAAAABAAAAAQAAAAEAAAABAAAAAQAAAAEAAAABAAAAAQAAAAEAAAAAAAAAAAAAAAAAAAAAAAAAAAAAAAAAAAABAAAAAAAAAAEAAAAAAAAAAAAAAAEAAAAAAAAAAAAAAAEAAAAAAAAAAQAAAAEAAAAAAAAAAAAAAAAAAAAAAAAAAAAAAAAAAAAAAAAAAAAAAAAAAAAAAAAAAAAAAAAAAAAAAAAAAQAAAAAAAAAAAAAAAQAAAAAAAAABAAAAAAAAAAAAAAAAAAAAAAAAAAAAAAAAAAAAAAAAAAAAAAAAAAAAAAAAAAAAAAAAAAAAAAAAAAAAAAABAAAAAAAAAAAAAAAAAAAAAQAAAAAAAAABAAAAAAAAAAAAAAAAAAAAAAAAAAEAAAABAAAAAQAAAAAAAAAAAAAAAAAAAAAAAAABAAAAAAAAAAEAAAAAAAAAAQAAAAAAAAAAAAAAAAAAAAEAAAAAAAAAAAAAAAAAAAAAAAAAAAAAAAAAAAAAAAAAAQAAAAEAAAABAAAAAAAAAAAAAAAAAAAAAAAAAAAAAAAAAAAAAAAAAAAAAAAAAAAAAAAAAAAAAAABAAAAAQAAAAAAAAABAAAAAQAAAAEAAAAAAAAAAQAAAAEAAAAAAAAAAAAAAAAAAAAAAAAAAAAAAAEAAAAAAAAAAAAAAAAAAAAAAAAAAAAAAAEAAAAAAAAAAAAAAAAAAAABAAAAAAAAAAAAAAABAAAAAQAAAAAAAAAAAAAAAAAAAAAAAAAAAAAAAAAAAAEAAAAAAAAAAAAAAAAAAAAAAAAAAAAAAAAAAAAAAAAAAQAAAAAAAAAAAAAAAAAAAAAAAAAAAAAAAQAAAAAAAAAAAAAAAQAAAAAAAAAAAAAAAAAAAAAAAAAAAAAAAAAAAAAAAAAAAAAAAAAAAAAAAAAAAAAAAAAAAAEAAAAAAAAAAQAAAAEAAAAAAAAAAQAAAAAAAAAAAAAAAAAAAAAAAAAAAAAAAQAAAAAAAAAAAAAAAQAAAAAAAAABAAAAAAAAAAAAAAABAAAAAAAAAAEAAAAAAAAAAAAAAAAAAAAAAAAAAAAAAAAAAAAAAAAAAAAAAAEAAAABAAAAAAAAAAAAAAAAAAAAAAAAAAAAAAAAAAAAAQAAAAAAAAAAAAAAAAAAAAAAAAAAAAAAAAAAAAAAAAAAAAAAAAAAAAAAAAABAAAAAAAAAAAAAAAAAAAAAAAAAAAAAAAAAAAAAAAAAAEAAAAAAAAAAQAAAAAAAAAAAAAAAQAAAAAAAAAAAAAAAAAAAAAAAAAAAAAAAQAAAAEAAAAAAAAAAQAAAAAAAAABAAAAAAAAAAAAAAAAAAAAAAAAAAAAAAABAAAAAAAAAAAAAAABAAAAAAAAAAEAAAAAAAAAAQAAAAEAAAAAAAAAAAAAAAAAAAABAAAAAAAAAAAAAAAAAAAAAAAAAAAAAAAAAAAAAAAAAAAAAAAAAAAAAAAAAAAAAAABAAAAAAAAAAEAAAABAAAAAAAAAAAAAAAAAAAAAAAAAAAAAAAAAAAAAAAAAAAAAAAAAAAAAAAAAAAAAAAAAAAAAAAAAAAAAAAAAAAAAAAAAAAAAAAAAAAAAAAAAAAAAAAAAAAAAAAAAAAAAAAAAAAAAAAAAAEAAAABAAAAAQAAAAEAAAABAAAAAQAAAAAAAAA=",
           "dtype": "i4"
          },
          "coloraxis": "coloraxis",
          "opacity": 0.8,
          "size": 6,
          "symbol": "circle"
         },
         "mode": "markers",
         "name": "",
         "orientation": "v",
         "showlegend": false,
         "type": "scatter",
         "x": {
          "bdata": "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",
          "dtype": "f4"
         },
         "xaxis": "x",
         "y": {
          "bdata": "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",
          "dtype": "f4"
         },
         "yaxis": "y"
        }
       ],
       "layout": {
        "coloraxis": {
         "colorbar": {
          "title": {
           "text": "target"
          }
         },
         "colorscale": [
          [
           0,
           "#0d0887"
          ],
          [
           0.1111111111111111,
           "#46039f"
          ],
          [
           0.2222222222222222,
           "#7201a8"
          ],
          [
           0.3333333333333333,
           "#9c179e"
          ],
          [
           0.4444444444444444,
           "#bd3786"
          ],
          [
           0.5555555555555556,
           "#d8576b"
          ],
          [
           0.6666666666666666,
           "#ed7953"
          ],
          [
           0.7777777777777778,
           "#fb9f3a"
          ],
          [
           0.8888888888888888,
           "#fdca26"
          ],
          [
           1,
           "#f0f921"
          ]
         ]
        },
        "height": 600,
        "legend": {
         "tracegroupgap": 0
        },
        "template": {
         "data": {
          "bar": [
           {
            "error_x": {
             "color": "#2a3f5f"
            },
            "error_y": {
             "color": "#2a3f5f"
            },
            "marker": {
             "line": {
              "color": "#E5ECF6",
              "width": 0.5
             },
             "pattern": {
              "fillmode": "overlay",
              "size": 10,
              "solidity": 0.2
             }
            },
            "type": "bar"
           }
          ],
          "barpolar": [
           {
            "marker": {
             "line": {
              "color": "#E5ECF6",
              "width": 0.5
             },
             "pattern": {
              "fillmode": "overlay",
              "size": 10,
              "solidity": 0.2
             }
            },
            "type": "barpolar"
           }
          ],
          "carpet": [
           {
            "aaxis": {
             "endlinecolor": "#2a3f5f",
             "gridcolor": "white",
             "linecolor": "white",
             "minorgridcolor": "white",
             "startlinecolor": "#2a3f5f"
            },
            "baxis": {
             "endlinecolor": "#2a3f5f",
             "gridcolor": "white",
             "linecolor": "white",
             "minorgridcolor": "white",
             "startlinecolor": "#2a3f5f"
            },
            "type": "carpet"
           }
          ],
          "choropleth": [
           {
            "colorbar": {
             "outlinewidth": 0,
             "ticks": ""
            },
            "type": "choropleth"
           }
          ],
          "contour": [
           {
            "colorbar": {
             "outlinewidth": 0,
             "ticks": ""
            },
            "colorscale": [
             [
              0,
              "#0d0887"
             ],
             [
              0.1111111111111111,
              "#46039f"
             ],
             [
              0.2222222222222222,
              "#7201a8"
             ],
             [
              0.3333333333333333,
              "#9c179e"
             ],
             [
              0.4444444444444444,
              "#bd3786"
             ],
             [
              0.5555555555555556,
              "#d8576b"
             ],
             [
              0.6666666666666666,
              "#ed7953"
             ],
             [
              0.7777777777777778,
              "#fb9f3a"
             ],
             [
              0.8888888888888888,
              "#fdca26"
             ],
             [
              1,
              "#f0f921"
             ]
            ],
            "type": "contour"
           }
          ],
          "contourcarpet": [
           {
            "colorbar": {
             "outlinewidth": 0,
             "ticks": ""
            },
            "type": "contourcarpet"
           }
          ],
          "heatmap": [
           {
            "colorbar": {
             "outlinewidth": 0,
             "ticks": ""
            },
            "colorscale": [
             [
              0,
              "#0d0887"
             ],
             [
              0.1111111111111111,
              "#46039f"
             ],
             [
              0.2222222222222222,
              "#7201a8"
             ],
             [
              0.3333333333333333,
              "#9c179e"
             ],
             [
              0.4444444444444444,
              "#bd3786"
             ],
             [
              0.5555555555555556,
              "#d8576b"
             ],
             [
              0.6666666666666666,
              "#ed7953"
             ],
             [
              0.7777777777777778,
              "#fb9f3a"
             ],
             [
              0.8888888888888888,
              "#fdca26"
             ],
             [
              1,
              "#f0f921"
             ]
            ],
            "type": "heatmap"
           }
          ],
          "histogram": [
           {
            "marker": {
             "pattern": {
              "fillmode": "overlay",
              "size": 10,
              "solidity": 0.2
             }
            },
            "type": "histogram"
           }
          ],
          "histogram2d": [
           {
            "colorbar": {
             "outlinewidth": 0,
             "ticks": ""
            },
            "colorscale": [
             [
              0,
              "#0d0887"
             ],
             [
              0.1111111111111111,
              "#46039f"
             ],
             [
              0.2222222222222222,
              "#7201a8"
             ],
             [
              0.3333333333333333,
              "#9c179e"
             ],
             [
              0.4444444444444444,
              "#bd3786"
             ],
             [
              0.5555555555555556,
              "#d8576b"
             ],
             [
              0.6666666666666666,
              "#ed7953"
             ],
             [
              0.7777777777777778,
              "#fb9f3a"
             ],
             [
              0.8888888888888888,
              "#fdca26"
             ],
             [
              1,
              "#f0f921"
             ]
            ],
            "type": "histogram2d"
           }
          ],
          "histogram2dcontour": [
           {
            "colorbar": {
             "outlinewidth": 0,
             "ticks": ""
            },
            "colorscale": [
             [
              0,
              "#0d0887"
             ],
             [
              0.1111111111111111,
              "#46039f"
             ],
             [
              0.2222222222222222,
              "#7201a8"
             ],
             [
              0.3333333333333333,
              "#9c179e"
             ],
             [
              0.4444444444444444,
              "#bd3786"
             ],
             [
              0.5555555555555556,
              "#d8576b"
             ],
             [
              0.6666666666666666,
              "#ed7953"
             ],
             [
              0.7777777777777778,
              "#fb9f3a"
             ],
             [
              0.8888888888888888,
              "#fdca26"
             ],
             [
              1,
              "#f0f921"
             ]
            ],
            "type": "histogram2dcontour"
           }
          ],
          "mesh3d": [
           {
            "colorbar": {
             "outlinewidth": 0,
             "ticks": ""
            },
            "type": "mesh3d"
           }
          ],
          "parcoords": [
           {
            "line": {
             "colorbar": {
              "outlinewidth": 0,
              "ticks": ""
             }
            },
            "type": "parcoords"
           }
          ],
          "pie": [
           {
            "automargin": true,
            "type": "pie"
           }
          ],
          "scatter": [
           {
            "fillpattern": {
             "fillmode": "overlay",
             "size": 10,
             "solidity": 0.2
            },
            "type": "scatter"
           }
          ],
          "scatter3d": [
           {
            "line": {
             "colorbar": {
              "outlinewidth": 0,
              "ticks": ""
             }
            },
            "marker": {
             "colorbar": {
              "outlinewidth": 0,
              "ticks": ""
             }
            },
            "type": "scatter3d"
           }
          ],
          "scattercarpet": [
           {
            "marker": {
             "colorbar": {
              "outlinewidth": 0,
              "ticks": ""
             }
            },
            "type": "scattercarpet"
           }
          ],
          "scattergeo": [
           {
            "marker": {
             "colorbar": {
              "outlinewidth": 0,
              "ticks": ""
             }
            },
            "type": "scattergeo"
           }
          ],
          "scattergl": [
           {
            "marker": {
             "colorbar": {
              "outlinewidth": 0,
              "ticks": ""
             }
            },
            "type": "scattergl"
           }
          ],
          "scattermap": [
           {
            "marker": {
             "colorbar": {
              "outlinewidth": 0,
              "ticks": ""
             }
            },
            "type": "scattermap"
           }
          ],
          "scattermapbox": [
           {
            "marker": {
             "colorbar": {
              "outlinewidth": 0,
              "ticks": ""
             }
            },
            "type": "scattermapbox"
           }
          ],
          "scatterpolar": [
           {
            "marker": {
             "colorbar": {
              "outlinewidth": 0,
              "ticks": ""
             }
            },
            "type": "scatterpolar"
           }
          ],
          "scatterpolargl": [
           {
            "marker": {
             "colorbar": {
              "outlinewidth": 0,
              "ticks": ""
             }
            },
            "type": "scatterpolargl"
           }
          ],
          "scatterternary": [
           {
            "marker": {
             "colorbar": {
              "outlinewidth": 0,
              "ticks": ""
             }
            },
            "type": "scatterternary"
           }
          ],
          "surface": [
           {
            "colorbar": {
             "outlinewidth": 0,
             "ticks": ""
            },
            "colorscale": [
             [
              0,
              "#0d0887"
             ],
             [
              0.1111111111111111,
              "#46039f"
             ],
             [
              0.2222222222222222,
              "#7201a8"
             ],
             [
              0.3333333333333333,
              "#9c179e"
             ],
             [
              0.4444444444444444,
              "#bd3786"
             ],
             [
              0.5555555555555556,
              "#d8576b"
             ],
             [
              0.6666666666666666,
              "#ed7953"
             ],
             [
              0.7777777777777778,
              "#fb9f3a"
             ],
             [
              0.8888888888888888,
              "#fdca26"
             ],
             [
              1,
              "#f0f921"
             ]
            ],
            "type": "surface"
           }
          ],
          "table": [
           {
            "cells": {
             "fill": {
              "color": "#EBF0F8"
             },
             "line": {
              "color": "white"
             }
            },
            "header": {
             "fill": {
              "color": "#C8D4E3"
             },
             "line": {
              "color": "white"
             }
            },
            "type": "table"
           }
          ]
         },
         "layout": {
          "annotationdefaults": {
           "arrowcolor": "#2a3f5f",
           "arrowhead": 0,
           "arrowwidth": 1
          },
          "autotypenumbers": "strict",
          "coloraxis": {
           "colorbar": {
            "outlinewidth": 0,
            "ticks": ""
           }
          },
          "colorscale": {
           "diverging": [
            [
             0,
             "#8e0152"
            ],
            [
             0.1,
             "#c51b7d"
            ],
            [
             0.2,
             "#de77ae"
            ],
            [
             0.3,
             "#f1b6da"
            ],
            [
             0.4,
             "#fde0ef"
            ],
            [
             0.5,
             "#f7f7f7"
            ],
            [
             0.6,
             "#e6f5d0"
            ],
            [
             0.7,
             "#b8e186"
            ],
            [
             0.8,
             "#7fbc41"
            ],
            [
             0.9,
             "#4d9221"
            ],
            [
             1,
             "#276419"
            ]
           ],
           "sequential": [
            [
             0,
             "#0d0887"
            ],
            [
             0.1111111111111111,
             "#46039f"
            ],
            [
             0.2222222222222222,
             "#7201a8"
            ],
            [
             0.3333333333333333,
             "#9c179e"
            ],
            [
             0.4444444444444444,
             "#bd3786"
            ],
            [
             0.5555555555555556,
             "#d8576b"
            ],
            [
             0.6666666666666666,
             "#ed7953"
            ],
            [
             0.7777777777777778,
             "#fb9f3a"
            ],
            [
             0.8888888888888888,
             "#fdca26"
            ],
            [
             1,
             "#f0f921"
            ]
           ],
           "sequentialminus": [
            [
             0,
             "#0d0887"
            ],
            [
             0.1111111111111111,
             "#46039f"
            ],
            [
             0.2222222222222222,
             "#7201a8"
            ],
            [
             0.3333333333333333,
             "#9c179e"
            ],
            [
             0.4444444444444444,
             "#bd3786"
            ],
            [
             0.5555555555555556,
             "#d8576b"
            ],
            [
             0.6666666666666666,
             "#ed7953"
            ],
            [
             0.7777777777777778,
             "#fb9f3a"
            ],
            [
             0.8888888888888888,
             "#fdca26"
            ],
            [
             1,
             "#f0f921"
            ]
           ]
          },
          "colorway": [
           "#636efa",
           "#EF553B",
           "#00cc96",
           "#ab63fa",
           "#FFA15A",
           "#19d3f3",
           "#FF6692",
           "#B6E880",
           "#FF97FF",
           "#FECB52"
          ],
          "font": {
           "color": "#2a3f5f"
          },
          "geo": {
           "bgcolor": "white",
           "lakecolor": "white",
           "landcolor": "#E5ECF6",
           "showlakes": true,
           "showland": true,
           "subunitcolor": "white"
          },
          "hoverlabel": {
           "align": "left"
          },
          "hovermode": "closest",
          "mapbox": {
           "style": "light"
          },
          "paper_bgcolor": "white",
          "plot_bgcolor": "#E5ECF6",
          "polar": {
           "angularaxis": {
            "gridcolor": "white",
            "linecolor": "white",
            "ticks": ""
           },
           "bgcolor": "#E5ECF6",
           "radialaxis": {
            "gridcolor": "white",
            "linecolor": "white",
            "ticks": ""
           }
          },
          "scene": {
           "xaxis": {
            "backgroundcolor": "#E5ECF6",
            "gridcolor": "white",
            "gridwidth": 2,
            "linecolor": "white",
            "showbackground": true,
            "ticks": "",
            "zerolinecolor": "white"
           },
           "yaxis": {
            "backgroundcolor": "#E5ECF6",
            "gridcolor": "white",
            "gridwidth": 2,
            "linecolor": "white",
            "showbackground": true,
            "ticks": "",
            "zerolinecolor": "white"
           },
           "zaxis": {
            "backgroundcolor": "#E5ECF6",
            "gridcolor": "white",
            "gridwidth": 2,
            "linecolor": "white",
            "showbackground": true,
            "ticks": "",
            "zerolinecolor": "white"
           }
          },
          "shapedefaults": {
           "line": {
            "color": "#2a3f5f"
           }
          },
          "ternary": {
           "aaxis": {
            "gridcolor": "white",
            "linecolor": "white",
            "ticks": ""
           },
           "baxis": {
            "gridcolor": "white",
            "linecolor": "white",
            "ticks": ""
           },
           "bgcolor": "#E5ECF6",
           "caxis": {
            "gridcolor": "white",
            "linecolor": "white",
            "ticks": ""
           }
          },
          "title": {
           "x": 0.05
          },
          "xaxis": {
           "automargin": true,
           "gridcolor": "white",
           "linecolor": "white",
           "ticks": "",
           "title": {
            "standoff": 15
           },
           "zerolinecolor": "white",
           "zerolinewidth": 2
          },
          "yaxis": {
           "automargin": true,
           "gridcolor": "white",
           "linecolor": "white",
           "ticks": "",
           "title": {
            "standoff": 15
           },
           "zerolinecolor": "white",
           "zerolinewidth": 2
          }
         }
        },
        "title": {
         "text": "t-SNE 2D (interactive)"
        },
        "width": 800,
        "xaxis": {
         "anchor": "y",
         "domain": [
          0,
          1
         ],
         "title": {
          "text": "x"
         }
        },
        "yaxis": {
         "anchor": "x",
         "domain": [
          0,
          1
         ],
         "title": {
          "text": "y"
         }
        }
       }
      }
     },
     "metadata": {},
     "output_type": "display_data"
    }
   ],
   "source": [
    "# PCA + t-SNE (2D) + UMAP (2D if available)\n",
    "pca = PCA(n_components=min(30, X_scaled.shape[1]), random_state=42)\n",
    "X_pca = pca.fit_transform(X_scaled)\n",
    "\n",
    "print('Explained variance (first 10):', np.round(pca.explained_variance_ratio_[:10],3))\n",
    "\n",
    "# t-SNE 2D (using PCA pre-reduction)\n",
    "tsne2 = TSNE(n_components=2, perplexity=30, max_iter=1000, init='pca', random_state=42)\n",
    "X_tsne2 = tsne2.fit_transform(X_pca)\n",
    "\n",
    "# UMAP 2D\n",
    "if _umap_available:\n",
    "    reducer = umap.UMAP(n_components=2, random_state=42)\n",
    "    X_umap2 = reducer.fit_transform(X_scaled)\n",
    "else:\n",
    "    X_umap2 = None\n",
    "\n",
    "# Plotly interactive 2D t-SNE\n",
    "df_tsne2 = pd.DataFrame(X_tsne2, columns=['x','y'])\n",
    "df_tsne2['target'] = y.values\n",
    "fig = px.scatter(df_tsne2, x='x', y='y', color='target', title='t-SNE 2D (interactive)', labels={'color':'target'}, width=800, height=600)\n",
    "fig.update_traces(marker=dict(size=6, opacity=0.8))\n",
    "fig.show()\n",
    "\n",
    "# If UMAP available, show side-by-side using two figures\n",
    "if X_umap2 is not None:\n",
    "    df_umap2 = pd.DataFrame(X_umap2, columns=['x','y'])\n",
    "    df_umap2['target'] = y.values\n",
    "    fig2 = px.scatter(df_umap2, x='x', y='y', color='target', title='UMAP 2D (interactive)', width=800, height=600)\n",
    "    fig2.update_traces(marker=dict(size=6, opacity=0.8))\n",
    "    fig2.show()"
   ]
  },
  {
   "cell_type": "code",
   "execution_count": 11,
   "id": "c04025ab",
   "metadata": {},
   "outputs": [
    {
     "data": {
      "application/vnd.plotly.v1+json": {
       "config": {
        "plotlyServerURL": "https://plot.ly"
       },
       "data": [
        {
         "hovertemplate": "x=%{x}<br>y=%{y}<br>z=%{z}<br>density=%{marker.color}<extra></extra>",
         "legendgroup": "",
         "marker": {
          "color": {
           "bdata": "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",
           "dtype": "f8"
          },
          "coloraxis": "coloraxis",
          "size": 3,
          "symbol": "circle"
         },
         "mode": "markers",
         "name": "",
         "scene": "scene",
         "showlegend": false,
         "type": "scatter3d",
         "x": {
          "bdata": "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",
          "dtype": "f4"
         },
         "y": {
          "bdata": "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",
          "dtype": "f4"
         },
         "z": {
          "bdata": "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",
          "dtype": "f4"
         }
        }
       ],
       "layout": {
        "coloraxis": {
         "colorbar": {
          "title": {
           "text": "density"
          }
         },
         "colorscale": [
          [
           0,
           "#440154"
          ],
          [
           0.1111111111111111,
           "#482878"
          ],
          [
           0.2222222222222222,
           "#3e4989"
          ],
          [
           0.3333333333333333,
           "#31688e"
          ],
          [
           0.4444444444444444,
           "#26828e"
          ],
          [
           0.5555555555555556,
           "#1f9e89"
          ],
          [
           0.6666666666666666,
           "#35b779"
          ],
          [
           0.7777777777777778,
           "#6ece58"
          ],
          [
           0.8888888888888888,
           "#b5de2b"
          ],
          [
           1,
           "#fde725"
          ]
         ]
        },
        "height": 700,
        "legend": {
         "tracegroupgap": 0
        },
        "scene": {
         "domain": {
          "x": [
           0,
           1
          ],
          "y": [
           0,
           1
          ]
         },
         "xaxis": {
          "title": {
           "text": "x"
          }
         },
         "yaxis": {
          "title": {
           "text": "y"
          }
         },
         "zaxis": {
          "title": {
           "text": "z"
          }
         }
        },
        "template": {
         "data": {
          "bar": [
           {
            "error_x": {
             "color": "#2a3f5f"
            },
            "error_y": {
             "color": "#2a3f5f"
            },
            "marker": {
             "line": {
              "color": "#E5ECF6",
              "width": 0.5
             },
             "pattern": {
              "fillmode": "overlay",
              "size": 10,
              "solidity": 0.2
             }
            },
            "type": "bar"
           }
          ],
          "barpolar": [
           {
            "marker": {
             "line": {
              "color": "#E5ECF6",
              "width": 0.5
             },
             "pattern": {
              "fillmode": "overlay",
              "size": 10,
              "solidity": 0.2
             }
            },
            "type": "barpolar"
           }
          ],
          "carpet": [
           {
            "aaxis": {
             "endlinecolor": "#2a3f5f",
             "gridcolor": "white",
             "linecolor": "white",
             "minorgridcolor": "white",
             "startlinecolor": "#2a3f5f"
            },
            "baxis": {
             "endlinecolor": "#2a3f5f",
             "gridcolor": "white",
             "linecolor": "white",
             "minorgridcolor": "white",
             "startlinecolor": "#2a3f5f"
            },
            "type": "carpet"
           }
          ],
          "choropleth": [
           {
            "colorbar": {
             "outlinewidth": 0,
             "ticks": ""
            },
            "type": "choropleth"
           }
          ],
          "contour": [
           {
            "colorbar": {
             "outlinewidth": 0,
             "ticks": ""
            },
            "colorscale": [
             [
              0,
              "#0d0887"
             ],
             [
              0.1111111111111111,
              "#46039f"
             ],
             [
              0.2222222222222222,
              "#7201a8"
             ],
             [
              0.3333333333333333,
              "#9c179e"
             ],
             [
              0.4444444444444444,
              "#bd3786"
             ],
             [
              0.5555555555555556,
              "#d8576b"
             ],
             [
              0.6666666666666666,
              "#ed7953"
             ],
             [
              0.7777777777777778,
              "#fb9f3a"
             ],
             [
              0.8888888888888888,
              "#fdca26"
             ],
             [
              1,
              "#f0f921"
             ]
            ],
            "type": "contour"
           }
          ],
          "contourcarpet": [
           {
            "colorbar": {
             "outlinewidth": 0,
             "ticks": ""
            },
            "type": "contourcarpet"
           }
          ],
          "heatmap": [
           {
            "colorbar": {
             "outlinewidth": 0,
             "ticks": ""
            },
            "colorscale": [
             [
              0,
              "#0d0887"
             ],
             [
              0.1111111111111111,
              "#46039f"
             ],
             [
              0.2222222222222222,
              "#7201a8"
             ],
             [
              0.3333333333333333,
              "#9c179e"
             ],
             [
              0.4444444444444444,
              "#bd3786"
             ],
             [
              0.5555555555555556,
              "#d8576b"
             ],
             [
              0.6666666666666666,
              "#ed7953"
             ],
             [
              0.7777777777777778,
              "#fb9f3a"
             ],
             [
              0.8888888888888888,
              "#fdca26"
             ],
             [
              1,
              "#f0f921"
             ]
            ],
            "type": "heatmap"
           }
          ],
          "histogram": [
           {
            "marker": {
             "pattern": {
              "fillmode": "overlay",
              "size": 10,
              "solidity": 0.2
             }
            },
            "type": "histogram"
           }
          ],
          "histogram2d": [
           {
            "colorbar": {
             "outlinewidth": 0,
             "ticks": ""
            },
            "colorscale": [
             [
              0,
              "#0d0887"
             ],
             [
              0.1111111111111111,
              "#46039f"
             ],
             [
              0.2222222222222222,
              "#7201a8"
             ],
             [
              0.3333333333333333,
              "#9c179e"
             ],
             [
              0.4444444444444444,
              "#bd3786"
             ],
             [
              0.5555555555555556,
              "#d8576b"
             ],
             [
              0.6666666666666666,
              "#ed7953"
             ],
             [
              0.7777777777777778,
              "#fb9f3a"
             ],
             [
              0.8888888888888888,
              "#fdca26"
             ],
             [
              1,
              "#f0f921"
             ]
            ],
            "type": "histogram2d"
           }
          ],
          "histogram2dcontour": [
           {
            "colorbar": {
             "outlinewidth": 0,
             "ticks": ""
            },
            "colorscale": [
             [
              0,
              "#0d0887"
             ],
             [
              0.1111111111111111,
              "#46039f"
             ],
             [
              0.2222222222222222,
              "#7201a8"
             ],
             [
              0.3333333333333333,
              "#9c179e"
             ],
             [
              0.4444444444444444,
              "#bd3786"
             ],
             [
              0.5555555555555556,
              "#d8576b"
             ],
             [
              0.6666666666666666,
              "#ed7953"
             ],
             [
              0.7777777777777778,
              "#fb9f3a"
             ],
             [
              0.8888888888888888,
              "#fdca26"
             ],
             [
              1,
              "#f0f921"
             ]
            ],
            "type": "histogram2dcontour"
           }
          ],
          "mesh3d": [
           {
            "colorbar": {
             "outlinewidth": 0,
             "ticks": ""
            },
            "type": "mesh3d"
           }
          ],
          "parcoords": [
           {
            "line": {
             "colorbar": {
              "outlinewidth": 0,
              "ticks": ""
             }
            },
            "type": "parcoords"
           }
          ],
          "pie": [
           {
            "automargin": true,
            "type": "pie"
           }
          ],
          "scatter": [
           {
            "fillpattern": {
             "fillmode": "overlay",
             "size": 10,
             "solidity": 0.2
            },
            "type": "scatter"
           }
          ],
          "scatter3d": [
           {
            "line": {
             "colorbar": {
              "outlinewidth": 0,
              "ticks": ""
             }
            },
            "marker": {
             "colorbar": {
              "outlinewidth": 0,
              "ticks": ""
             }
            },
            "type": "scatter3d"
           }
          ],
          "scattercarpet": [
           {
            "marker": {
             "colorbar": {
              "outlinewidth": 0,
              "ticks": ""
             }
            },
            "type": "scattercarpet"
           }
          ],
          "scattergeo": [
           {
            "marker": {
             "colorbar": {
              "outlinewidth": 0,
              "ticks": ""
             }
            },
            "type": "scattergeo"
           }
          ],
          "scattergl": [
           {
            "marker": {
             "colorbar": {
              "outlinewidth": 0,
              "ticks": ""
             }
            },
            "type": "scattergl"
           }
          ],
          "scattermap": [
           {
            "marker": {
             "colorbar": {
              "outlinewidth": 0,
              "ticks": ""
             }
            },
            "type": "scattermap"
           }
          ],
          "scattermapbox": [
           {
            "marker": {
             "colorbar": {
              "outlinewidth": 0,
              "ticks": ""
             }
            },
            "type": "scattermapbox"
           }
          ],
          "scatterpolar": [
           {
            "marker": {
             "colorbar": {
              "outlinewidth": 0,
              "ticks": ""
             }
            },
            "type": "scatterpolar"
           }
          ],
          "scatterpolargl": [
           {
            "marker": {
             "colorbar": {
              "outlinewidth": 0,
              "ticks": ""
             }
            },
            "type": "scatterpolargl"
           }
          ],
          "scatterternary": [
           {
            "marker": {
             "colorbar": {
              "outlinewidth": 0,
              "ticks": ""
             }
            },
            "type": "scatterternary"
           }
          ],
          "surface": [
           {
            "colorbar": {
             "outlinewidth": 0,
             "ticks": ""
            },
            "colorscale": [
             [
              0,
              "#0d0887"
             ],
             [
              0.1111111111111111,
              "#46039f"
             ],
             [
              0.2222222222222222,
              "#7201a8"
             ],
             [
              0.3333333333333333,
              "#9c179e"
             ],
             [
              0.4444444444444444,
              "#bd3786"
             ],
             [
              0.5555555555555556,
              "#d8576b"
             ],
             [
              0.6666666666666666,
              "#ed7953"
             ],
             [
              0.7777777777777778,
              "#fb9f3a"
             ],
             [
              0.8888888888888888,
              "#fdca26"
             ],
             [
              1,
              "#f0f921"
             ]
            ],
            "type": "surface"
           }
          ],
          "table": [
           {
            "cells": {
             "fill": {
              "color": "#EBF0F8"
             },
             "line": {
              "color": "white"
             }
            },
            "header": {
             "fill": {
              "color": "#C8D4E3"
             },
             "line": {
              "color": "white"
             }
            },
            "type": "table"
           }
          ]
         },
         "layout": {
          "annotationdefaults": {
           "arrowcolor": "#2a3f5f",
           "arrowhead": 0,
           "arrowwidth": 1
          },
          "autotypenumbers": "strict",
          "coloraxis": {
           "colorbar": {
            "outlinewidth": 0,
            "ticks": ""
           }
          },
          "colorscale": {
           "diverging": [
            [
             0,
             "#8e0152"
            ],
            [
             0.1,
             "#c51b7d"
            ],
            [
             0.2,
             "#de77ae"
            ],
            [
             0.3,
             "#f1b6da"
            ],
            [
             0.4,
             "#fde0ef"
            ],
            [
             0.5,
             "#f7f7f7"
            ],
            [
             0.6,
             "#e6f5d0"
            ],
            [
             0.7,
             "#b8e186"
            ],
            [
             0.8,
             "#7fbc41"
            ],
            [
             0.9,
             "#4d9221"
            ],
            [
             1,
             "#276419"
            ]
           ],
           "sequential": [
            [
             0,
             "#0d0887"
            ],
            [
             0.1111111111111111,
             "#46039f"
            ],
            [
             0.2222222222222222,
             "#7201a8"
            ],
            [
             0.3333333333333333,
             "#9c179e"
            ],
            [
             0.4444444444444444,
             "#bd3786"
            ],
            [
             0.5555555555555556,
             "#d8576b"
            ],
            [
             0.6666666666666666,
             "#ed7953"
            ],
            [
             0.7777777777777778,
             "#fb9f3a"
            ],
            [
             0.8888888888888888,
             "#fdca26"
            ],
            [
             1,
             "#f0f921"
            ]
           ],
           "sequentialminus": [
            [
             0,
             "#0d0887"
            ],
            [
             0.1111111111111111,
             "#46039f"
            ],
            [
             0.2222222222222222,
             "#7201a8"
            ],
            [
             0.3333333333333333,
             "#9c179e"
            ],
            [
             0.4444444444444444,
             "#bd3786"
            ],
            [
             0.5555555555555556,
             "#d8576b"
            ],
            [
             0.6666666666666666,
             "#ed7953"
            ],
            [
             0.7777777777777778,
             "#fb9f3a"
            ],
            [
             0.8888888888888888,
             "#fdca26"
            ],
            [
             1,
             "#f0f921"
            ]
           ]
          },
          "colorway": [
           "#636efa",
           "#EF553B",
           "#00cc96",
           "#ab63fa",
           "#FFA15A",
           "#19d3f3",
           "#FF6692",
           "#B6E880",
           "#FF97FF",
           "#FECB52"
          ],
          "font": {
           "color": "#2a3f5f"
          },
          "geo": {
           "bgcolor": "white",
           "lakecolor": "white",
           "landcolor": "#E5ECF6",
           "showlakes": true,
           "showland": true,
           "subunitcolor": "white"
          },
          "hoverlabel": {
           "align": "left"
          },
          "hovermode": "closest",
          "mapbox": {
           "style": "light"
          },
          "paper_bgcolor": "white",
          "plot_bgcolor": "#E5ECF6",
          "polar": {
           "angularaxis": {
            "gridcolor": "white",
            "linecolor": "white",
            "ticks": ""
           },
           "bgcolor": "#E5ECF6",
           "radialaxis": {
            "gridcolor": "white",
            "linecolor": "white",
            "ticks": ""
           }
          },
          "scene": {
           "xaxis": {
            "backgroundcolor": "#E5ECF6",
            "gridcolor": "white",
            "gridwidth": 2,
            "linecolor": "white",
            "showbackground": true,
            "ticks": "",
            "zerolinecolor": "white"
           },
           "yaxis": {
            "backgroundcolor": "#E5ECF6",
            "gridcolor": "white",
            "gridwidth": 2,
            "linecolor": "white",
            "showbackground": true,
            "ticks": "",
            "zerolinecolor": "white"
           },
           "zaxis": {
            "backgroundcolor": "#E5ECF6",
            "gridcolor": "white",
            "gridwidth": 2,
            "linecolor": "white",
            "showbackground": true,
            "ticks": "",
            "zerolinecolor": "white"
           }
          },
          "shapedefaults": {
           "line": {
            "color": "#2a3f5f"
           }
          },
          "ternary": {
           "aaxis": {
            "gridcolor": "white",
            "linecolor": "white",
            "ticks": ""
           },
           "baxis": {
            "gridcolor": "white",
            "linecolor": "white",
            "ticks": ""
           },
           "bgcolor": "#E5ECF6",
           "caxis": {
            "gridcolor": "white",
            "linecolor": "white",
            "ticks": ""
           }
          },
          "title": {
           "x": 0.05
          },
          "xaxis": {
           "automargin": true,
           "gridcolor": "white",
           "linecolor": "white",
           "ticks": "",
           "title": {
            "standoff": 15
           },
           "zerolinecolor": "white",
           "zerolinewidth": 2
          },
          "yaxis": {
           "automargin": true,
           "gridcolor": "white",
           "linecolor": "white",
           "ticks": "",
           "title": {
            "standoff": 15
           },
           "zerolinecolor": "white",
           "zerolinewidth": 2
          }
         }
        },
        "title": {
         "text": "t-SNE 3D colored by KDE density"
        },
        "width": 900
       }
      }
     },
     "metadata": {},
     "output_type": "display_data"
    },
    {
     "data": {
      "application/vnd.plotly.v1+json": {
       "config": {
        "plotlyServerURL": "https://plot.ly"
       },
       "data": [
        {
         "hovertemplate": "x=%{x}<br>y=%{y}<br>z=%{z}<br>target=%{marker.color}<extra></extra>",
         "legendgroup": "",
         "marker": {
          "color": {
           "bdata": "AQAAAAEAAAABAAAAAQAAAAEAAAABAAAAAQAAAAEAAAABAAAAAQAAAAEAAAABAAAAAQAAAAEAAAABAAAAAQAAAAEAAAABAAAAAQAAAAAAAAAAAAAAAAAAAAEAAAABAAAAAQAAAAEAAAABAAAAAQAAAAEAAAABAAAAAQAAAAEAAAABAAAAAQAAAAEAAAABAAAAAQAAAAAAAAABAAAAAQAAAAEAAAABAAAAAQAAAAEAAAABAAAAAQAAAAAAAAABAAAAAAAAAAAAAAAAAAAAAAAAAAAAAAABAAAAAQAAAAAAAAABAAAAAQAAAAAAAAAAAAAAAAAAAAAAAAABAAAAAAAAAAEAAAABAAAAAAAAAAAAAAAAAAAAAAAAAAEAAAAAAAAAAQAAAAEAAAAAAAAAAQAAAAAAAAABAAAAAQAAAAAAAAAAAAAAAAAAAAEAAAABAAAAAAAAAAEAAAABAAAAAQAAAAAAAAAAAAAAAAAAAAEAAAAAAAAAAAAAAAEAAAABAAAAAAAAAAAAAAAAAAAAAQAAAAEAAAAAAAAAAAAAAAAAAAAAAAAAAQAAAAAAAAAAAAAAAQAAAAAAAAAAAAAAAAAAAAAAAAAAAAAAAAAAAAAAAAAAAAAAAQAAAAEAAAABAAAAAAAAAAEAAAABAAAAAAAAAAAAAAAAAAAAAQAAAAEAAAAAAAAAAQAAAAAAAAABAAAAAQAAAAAAAAABAAAAAQAAAAAAAAAAAAAAAQAAAAAAAAAAAAAAAQAAAAAAAAAAAAAAAAAAAAAAAAABAAAAAAAAAAAAAAAAAAAAAAAAAAAAAAAAAAAAAAAAAAAAAAAAAAAAAQAAAAAAAAAAAAAAAAAAAAAAAAABAAAAAQAAAAAAAAABAAAAAAAAAAAAAAABAAAAAQAAAAAAAAAAAAAAAQAAAAEAAAAAAAAAAAAAAAAAAAAAAAAAAQAAAAAAAAAAAAAAAQAAAAEAAAABAAAAAAAAAAEAAAAAAAAAAQAAAAAAAAAAAAAAAAAAAAEAAAAAAAAAAAAAAAEAAAABAAAAAAAAAAEAAAABAAAAAQAAAAEAAAAAAAAAAQAAAAEAAAABAAAAAAAAAAEAAAAAAAAAAQAAAAAAAAAAAAAAAQAAAAAAAAABAAAAAQAAAAEAAAABAAAAAAAAAAAAAAABAAAAAQAAAAAAAAAAAAAAAAAAAAEAAAAAAAAAAAAAAAAAAAAAAAAAAAAAAAEAAAABAAAAAAAAAAAAAAABAAAAAAAAAAAAAAABAAAAAQAAAAAAAAABAAAAAAAAAAAAAAAAAAAAAAAAAAEAAAAAAAAAAAAAAAAAAAAAAAAAAAAAAAEAAAAAAAAAAQAAAAEAAAABAAAAAQAAAAEAAAABAAAAAQAAAAEAAAABAAAAAQAAAAEAAAABAAAAAQAAAAEAAAAAAAAAAAAAAAAAAAAAAAAAAAAAAAAAAAABAAAAAAAAAAEAAAAAAAAAAAAAAAEAAAAAAAAAAAAAAAEAAAAAAAAAAQAAAAEAAAAAAAAAAAAAAAAAAAAAAAAAAAAAAAAAAAAAAAAAAAAAAAAAAAAAAAAAAAAAAAAAAAAAAAAAAQAAAAAAAAAAAAAAAQAAAAAAAAABAAAAAAAAAAAAAAAAAAAAAAAAAAAAAAAAAAAAAAAAAAAAAAAAAAAAAAAAAAAAAAAAAAAAAAAAAAAAAAABAAAAAAAAAAAAAAAAAAAAAQAAAAAAAAABAAAAAAAAAAAAAAAAAAAAAAAAAAEAAAABAAAAAQAAAAAAAAAAAAAAAAAAAAAAAAABAAAAAAAAAAEAAAAAAAAAAQAAAAAAAAAAAAAAAAAAAAEAAAAAAAAAAAAAAAAAAAAAAAAAAAAAAAAAAAAAAAAAAQAAAAEAAAABAAAAAAAAAAAAAAAAAAAAAAAAAAAAAAAAAAAAAAAAAAAAAAAAAAAAAAAAAAAAAAABAAAAAQAAAAAAAAABAAAAAQAAAAEAAAAAAAAAAQAAAAEAAAAAAAAAAAAAAAAAAAAAAAAAAAAAAAEAAAAAAAAAAAAAAAAAAAAAAAAAAAAAAAEAAAAAAAAAAAAAAAAAAAABAAAAAAAAAAAAAAABAAAAAQAAAAAAAAAAAAAAAAAAAAAAAAAAAAAAAAAAAAEAAAAAAAAAAAAAAAAAAAAAAAAAAAAAAAAAAAAAAAAAAQAAAAAAAAAAAAAAAAAAAAAAAAAAAAAAAQAAAAAAAAAAAAAAAQAAAAAAAAAAAAAAAAAAAAAAAAAAAAAAAAAAAAAAAAAAAAAAAAAAAAAAAAAAAAAAAAAAAAEAAAAAAAAAAQAAAAEAAAAAAAAAAQAAAAAAAAAAAAAAAAAAAAAAAAAAAAAAAQAAAAAAAAAAAAAAAQAAAAAAAAABAAAAAAAAAAAAAAABAAAAAAAAAAEAAAAAAAAAAAAAAAAAAAAAAAAAAAAAAAAAAAAAAAAAAAAAAAEAAAABAAAAAAAAAAAAAAAAAAAAAAAAAAAAAAAAAAAAAQAAAAAAAAAAAAAAAAAAAAAAAAAAAAAAAAAAAAAAAAAAAAAAAAAAAAAAAAABAAAAAAAAAAAAAAAAAAAAAAAAAAAAAAAAAAAAAAAAAAEAAAAAAAAAAQAAAAAAAAAAAAAAAQAAAAAAAAAAAAAAAAAAAAAAAAAAAAAAAQAAAAEAAAAAAAAAAQAAAAAAAAABAAAAAAAAAAAAAAAAAAAAAAAAAAAAAAABAAAAAAAAAAAAAAABAAAAAAAAAAEAAAAAAAAAAQAAAAEAAAAAAAAAAAAAAAAAAAABAAAAAAAAAAAAAAAAAAAAAAAAAAAAAAAAAAAAAAAAAAAAAAAAAAAAAAAAAAAAAAABAAAAAAAAAAEAAAABAAAAAAAAAAAAAAAAAAAAAAAAAAAAAAAAAAAAAAAAAAAAAAAAAAAAAAAAAAAAAAAAAAAAAAAAAAAAAAAAAAAAAAAAAAAAAAAAAAAAAAAAAAAAAAAAAAAAAAAAAAAAAAAAAAAAAAAAAAEAAAABAAAAAQAAAAEAAAABAAAAAQAAAAAAAAA=",
           "dtype": "i4"
          },
          "coloraxis": "coloraxis",
          "size": 3,
          "symbol": "circle"
         },
         "mode": "markers",
         "name": "",
         "scene": "scene",
         "showlegend": false,
         "type": "scatter3d",
         "x": {
          "bdata": "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",
          "dtype": "f4"
         },
         "y": {
          "bdata": "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",
          "dtype": "f4"
         },
         "z": {
          "bdata": "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",
          "dtype": "f4"
         }
        }
       ],
       "layout": {
        "coloraxis": {
         "colorbar": {
          "title": {
           "text": "target"
          }
         },
         "colorscale": [
          [
           0,
           "#0d0887"
          ],
          [
           0.1111111111111111,
           "#46039f"
          ],
          [
           0.2222222222222222,
           "#7201a8"
          ],
          [
           0.3333333333333333,
           "#9c179e"
          ],
          [
           0.4444444444444444,
           "#bd3786"
          ],
          [
           0.5555555555555556,
           "#d8576b"
          ],
          [
           0.6666666666666666,
           "#ed7953"
          ],
          [
           0.7777777777777778,
           "#fb9f3a"
          ],
          [
           0.8888888888888888,
           "#fdca26"
          ],
          [
           1,
           "#f0f921"
          ]
         ]
        },
        "height": 700,
        "legend": {
         "tracegroupgap": 0
        },
        "scene": {
         "domain": {
          "x": [
           0,
           1
          ],
          "y": [
           0,
           1
          ]
         },
         "xaxis": {
          "title": {
           "text": "x"
          }
         },
         "yaxis": {
          "title": {
           "text": "y"
          }
         },
         "zaxis": {
          "title": {
           "text": "z"
          }
         }
        },
        "template": {
         "data": {
          "bar": [
           {
            "error_x": {
             "color": "#2a3f5f"
            },
            "error_y": {
             "color": "#2a3f5f"
            },
            "marker": {
             "line": {
              "color": "#E5ECF6",
              "width": 0.5
             },
             "pattern": {
              "fillmode": "overlay",
              "size": 10,
              "solidity": 0.2
             }
            },
            "type": "bar"
           }
          ],
          "barpolar": [
           {
            "marker": {
             "line": {
              "color": "#E5ECF6",
              "width": 0.5
             },
             "pattern": {
              "fillmode": "overlay",
              "size": 10,
              "solidity": 0.2
             }
            },
            "type": "barpolar"
           }
          ],
          "carpet": [
           {
            "aaxis": {
             "endlinecolor": "#2a3f5f",
             "gridcolor": "white",
             "linecolor": "white",
             "minorgridcolor": "white",
             "startlinecolor": "#2a3f5f"
            },
            "baxis": {
             "endlinecolor": "#2a3f5f",
             "gridcolor": "white",
             "linecolor": "white",
             "minorgridcolor": "white",
             "startlinecolor": "#2a3f5f"
            },
            "type": "carpet"
           }
          ],
          "choropleth": [
           {
            "colorbar": {
             "outlinewidth": 0,
             "ticks": ""
            },
            "type": "choropleth"
           }
          ],
          "contour": [
           {
            "colorbar": {
             "outlinewidth": 0,
             "ticks": ""
            },
            "colorscale": [
             [
              0,
              "#0d0887"
             ],
             [
              0.1111111111111111,
              "#46039f"
             ],
             [
              0.2222222222222222,
              "#7201a8"
             ],
             [
              0.3333333333333333,
              "#9c179e"
             ],
             [
              0.4444444444444444,
              "#bd3786"
             ],
             [
              0.5555555555555556,
              "#d8576b"
             ],
             [
              0.6666666666666666,
              "#ed7953"
             ],
             [
              0.7777777777777778,
              "#fb9f3a"
             ],
             [
              0.8888888888888888,
              "#fdca26"
             ],
             [
              1,
              "#f0f921"
             ]
            ],
            "type": "contour"
           }
          ],
          "contourcarpet": [
           {
            "colorbar": {
             "outlinewidth": 0,
             "ticks": ""
            },
            "type": "contourcarpet"
           }
          ],
          "heatmap": [
           {
            "colorbar": {
             "outlinewidth": 0,
             "ticks": ""
            },
            "colorscale": [
             [
              0,
              "#0d0887"
             ],
             [
              0.1111111111111111,
              "#46039f"
             ],
             [
              0.2222222222222222,
              "#7201a8"
             ],
             [
              0.3333333333333333,
              "#9c179e"
             ],
             [
              0.4444444444444444,
              "#bd3786"
             ],
             [
              0.5555555555555556,
              "#d8576b"
             ],
             [
              0.6666666666666666,
              "#ed7953"
             ],
             [
              0.7777777777777778,
              "#fb9f3a"
             ],
             [
              0.8888888888888888,
              "#fdca26"
             ],
             [
              1,
              "#f0f921"
             ]
            ],
            "type": "heatmap"
           }
          ],
          "histogram": [
           {
            "marker": {
             "pattern": {
              "fillmode": "overlay",
              "size": 10,
              "solidity": 0.2
             }
            },
            "type": "histogram"
           }
          ],
          "histogram2d": [
           {
            "colorbar": {
             "outlinewidth": 0,
             "ticks": ""
            },
            "colorscale": [
             [
              0,
              "#0d0887"
             ],
             [
              0.1111111111111111,
              "#46039f"
             ],
             [
              0.2222222222222222,
              "#7201a8"
             ],
             [
              0.3333333333333333,
              "#9c179e"
             ],
             [
              0.4444444444444444,
              "#bd3786"
             ],
             [
              0.5555555555555556,
              "#d8576b"
             ],
             [
              0.6666666666666666,
              "#ed7953"
             ],
             [
              0.7777777777777778,
              "#fb9f3a"
             ],
             [
              0.8888888888888888,
              "#fdca26"
             ],
             [
              1,
              "#f0f921"
             ]
            ],
            "type": "histogram2d"
           }
          ],
          "histogram2dcontour": [
           {
            "colorbar": {
             "outlinewidth": 0,
             "ticks": ""
            },
            "colorscale": [
             [
              0,
              "#0d0887"
             ],
             [
              0.1111111111111111,
              "#46039f"
             ],
             [
              0.2222222222222222,
              "#7201a8"
             ],
             [
              0.3333333333333333,
              "#9c179e"
             ],
             [
              0.4444444444444444,
              "#bd3786"
             ],
             [
              0.5555555555555556,
              "#d8576b"
             ],
             [
              0.6666666666666666,
              "#ed7953"
             ],
             [
              0.7777777777777778,
              "#fb9f3a"
             ],
             [
              0.8888888888888888,
              "#fdca26"
             ],
             [
              1,
              "#f0f921"
             ]
            ],
            "type": "histogram2dcontour"
           }
          ],
          "mesh3d": [
           {
            "colorbar": {
             "outlinewidth": 0,
             "ticks": ""
            },
            "type": "mesh3d"
           }
          ],
          "parcoords": [
           {
            "line": {
             "colorbar": {
              "outlinewidth": 0,
              "ticks": ""
             }
            },
            "type": "parcoords"
           }
          ],
          "pie": [
           {
            "automargin": true,
            "type": "pie"
           }
          ],
          "scatter": [
           {
            "fillpattern": {
             "fillmode": "overlay",
             "size": 10,
             "solidity": 0.2
            },
            "type": "scatter"
           }
          ],
          "scatter3d": [
           {
            "line": {
             "colorbar": {
              "outlinewidth": 0,
              "ticks": ""
             }
            },
            "marker": {
             "colorbar": {
              "outlinewidth": 0,
              "ticks": ""
             }
            },
            "type": "scatter3d"
           }
          ],
          "scattercarpet": [
           {
            "marker": {
             "colorbar": {
              "outlinewidth": 0,
              "ticks": ""
             }
            },
            "type": "scattercarpet"
           }
          ],
          "scattergeo": [
           {
            "marker": {
             "colorbar": {
              "outlinewidth": 0,
              "ticks": ""
             }
            },
            "type": "scattergeo"
           }
          ],
          "scattergl": [
           {
            "marker": {
             "colorbar": {
              "outlinewidth": 0,
              "ticks": ""
             }
            },
            "type": "scattergl"
           }
          ],
          "scattermap": [
           {
            "marker": {
             "colorbar": {
              "outlinewidth": 0,
              "ticks": ""
             }
            },
            "type": "scattermap"
           }
          ],
          "scattermapbox": [
           {
            "marker": {
             "colorbar": {
              "outlinewidth": 0,
              "ticks": ""
             }
            },
            "type": "scattermapbox"
           }
          ],
          "scatterpolar": [
           {
            "marker": {
             "colorbar": {
              "outlinewidth": 0,
              "ticks": ""
             }
            },
            "type": "scatterpolar"
           }
          ],
          "scatterpolargl": [
           {
            "marker": {
             "colorbar": {
              "outlinewidth": 0,
              "ticks": ""
             }
            },
            "type": "scatterpolargl"
           }
          ],
          "scatterternary": [
           {
            "marker": {
             "colorbar": {
              "outlinewidth": 0,
              "ticks": ""
             }
            },
            "type": "scatterternary"
           }
          ],
          "surface": [
           {
            "colorbar": {
             "outlinewidth": 0,
             "ticks": ""
            },
            "colorscale": [
             [
              0,
              "#0d0887"
             ],
             [
              0.1111111111111111,
              "#46039f"
             ],
             [
              0.2222222222222222,
              "#7201a8"
             ],
             [
              0.3333333333333333,
              "#9c179e"
             ],
             [
              0.4444444444444444,
              "#bd3786"
             ],
             [
              0.5555555555555556,
              "#d8576b"
             ],
             [
              0.6666666666666666,
              "#ed7953"
             ],
             [
              0.7777777777777778,
              "#fb9f3a"
             ],
             [
              0.8888888888888888,
              "#fdca26"
             ],
             [
              1,
              "#f0f921"
             ]
            ],
            "type": "surface"
           }
          ],
          "table": [
           {
            "cells": {
             "fill": {
              "color": "#EBF0F8"
             },
             "line": {
              "color": "white"
             }
            },
            "header": {
             "fill": {
              "color": "#C8D4E3"
             },
             "line": {
              "color": "white"
             }
            },
            "type": "table"
           }
          ]
         },
         "layout": {
          "annotationdefaults": {
           "arrowcolor": "#2a3f5f",
           "arrowhead": 0,
           "arrowwidth": 1
          },
          "autotypenumbers": "strict",
          "coloraxis": {
           "colorbar": {
            "outlinewidth": 0,
            "ticks": ""
           }
          },
          "colorscale": {
           "diverging": [
            [
             0,
             "#8e0152"
            ],
            [
             0.1,
             "#c51b7d"
            ],
            [
             0.2,
             "#de77ae"
            ],
            [
             0.3,
             "#f1b6da"
            ],
            [
             0.4,
             "#fde0ef"
            ],
            [
             0.5,
             "#f7f7f7"
            ],
            [
             0.6,
             "#e6f5d0"
            ],
            [
             0.7,
             "#b8e186"
            ],
            [
             0.8,
             "#7fbc41"
            ],
            [
             0.9,
             "#4d9221"
            ],
            [
             1,
             "#276419"
            ]
           ],
           "sequential": [
            [
             0,
             "#0d0887"
            ],
            [
             0.1111111111111111,
             "#46039f"
            ],
            [
             0.2222222222222222,
             "#7201a8"
            ],
            [
             0.3333333333333333,
             "#9c179e"
            ],
            [
             0.4444444444444444,
             "#bd3786"
            ],
            [
             0.5555555555555556,
             "#d8576b"
            ],
            [
             0.6666666666666666,
             "#ed7953"
            ],
            [
             0.7777777777777778,
             "#fb9f3a"
            ],
            [
             0.8888888888888888,
             "#fdca26"
            ],
            [
             1,
             "#f0f921"
            ]
           ],
           "sequentialminus": [
            [
             0,
             "#0d0887"
            ],
            [
             0.1111111111111111,
             "#46039f"
            ],
            [
             0.2222222222222222,
             "#7201a8"
            ],
            [
             0.3333333333333333,
             "#9c179e"
            ],
            [
             0.4444444444444444,
             "#bd3786"
            ],
            [
             0.5555555555555556,
             "#d8576b"
            ],
            [
             0.6666666666666666,
             "#ed7953"
            ],
            [
             0.7777777777777778,
             "#fb9f3a"
            ],
            [
             0.8888888888888888,
             "#fdca26"
            ],
            [
             1,
             "#f0f921"
            ]
           ]
          },
          "colorway": [
           "#636efa",
           "#EF553B",
           "#00cc96",
           "#ab63fa",
           "#FFA15A",
           "#19d3f3",
           "#FF6692",
           "#B6E880",
           "#FF97FF",
           "#FECB52"
          ],
          "font": {
           "color": "#2a3f5f"
          },
          "geo": {
           "bgcolor": "white",
           "lakecolor": "white",
           "landcolor": "#E5ECF6",
           "showlakes": true,
           "showland": true,
           "subunitcolor": "white"
          },
          "hoverlabel": {
           "align": "left"
          },
          "hovermode": "closest",
          "mapbox": {
           "style": "light"
          },
          "paper_bgcolor": "white",
          "plot_bgcolor": "#E5ECF6",
          "polar": {
           "angularaxis": {
            "gridcolor": "white",
            "linecolor": "white",
            "ticks": ""
           },
           "bgcolor": "#E5ECF6",
           "radialaxis": {
            "gridcolor": "white",
            "linecolor": "white",
            "ticks": ""
           }
          },
          "scene": {
           "xaxis": {
            "backgroundcolor": "#E5ECF6",
            "gridcolor": "white",
            "gridwidth": 2,
            "linecolor": "white",
            "showbackground": true,
            "ticks": "",
            "zerolinecolor": "white"
           },
           "yaxis": {
            "backgroundcolor": "#E5ECF6",
            "gridcolor": "white",
            "gridwidth": 2,
            "linecolor": "white",
            "showbackground": true,
            "ticks": "",
            "zerolinecolor": "white"
           },
           "zaxis": {
            "backgroundcolor": "#E5ECF6",
            "gridcolor": "white",
            "gridwidth": 2,
            "linecolor": "white",
            "showbackground": true,
            "ticks": "",
            "zerolinecolor": "white"
           }
          },
          "shapedefaults": {
           "line": {
            "color": "#2a3f5f"
           }
          },
          "ternary": {
           "aaxis": {
            "gridcolor": "white",
            "linecolor": "white",
            "ticks": ""
           },
           "baxis": {
            "gridcolor": "white",
            "linecolor": "white",
            "ticks": ""
           },
           "bgcolor": "#E5ECF6",
           "caxis": {
            "gridcolor": "white",
            "linecolor": "white",
            "ticks": ""
           }
          },
          "title": {
           "x": 0.05
          },
          "xaxis": {
           "automargin": true,
           "gridcolor": "white",
           "linecolor": "white",
           "ticks": "",
           "title": {
            "standoff": 15
           },
           "zerolinecolor": "white",
           "zerolinewidth": 2
          },
          "yaxis": {
           "automargin": true,
           "gridcolor": "white",
           "linecolor": "white",
           "ticks": "",
           "title": {
            "standoff": 15
           },
           "zerolinecolor": "white",
           "zerolinewidth": 2
          }
         }
        },
        "title": {
         "text": "t-SNE 3D colored by class"
        },
        "width": 900
       }
      }
     },
     "metadata": {},
     "output_type": "display_data"
    }
   ],
   "source": [
    "# t-SNE 3D and KDE-based coloring (color points by estimated local density)\n",
    "tsne3 = TSNE(n_components=3, perplexity=30, max_iter=1000, init='pca', random_state=42)\n",
    "X_tsne3 = tsne3.fit_transform(X_pca)\n",
    "\n",
    "# Estimate density at each sample using KDE in 3D\n",
    "kde3 = KernelDensity(bandwidth=1.0)\n",
    "kde3.fit(X_tsne3)\n",
    "sample_log_dens = kde3.score_samples(X_tsne3)\n",
    "sample_dens = np.exp(sample_log_dens)\n",
    "\n",
    "df_tsne3 = pd.DataFrame(X_tsne3, columns=['x','y','z'])\n",
    "df_tsne3['density'] = sample_dens\n",
    "df_tsne3['target'] = y.values\n",
    "\n",
    "# 3D scatter colored by density\n",
    "fig3d = px.scatter_3d(df_tsne3, x='x', y='y', z='z', color='density', color_continuous_scale='Viridis',\n",
    "                      title='t-SNE 3D colored by KDE density', width=900, height=700)\n",
    "fig3d.update_traces(marker=dict(size=3))\n",
    "fig3d.show()\n",
    "\n",
    "# 3D scatter colored by class\n",
    "fig3d_cls = px.scatter_3d(df_tsne3, x='x', y='y', z='z', color='target', title='t-SNE 3D colored by class', width=900, height=700)\n",
    "fig3d_cls.update_traces(marker=dict(size=3))\n",
    "fig3d_cls.show()"
   ]
  },
  {
   "cell_type": "code",
   "execution_count": 12,
   "id": "ee0ad3b5",
   "metadata": {},
   "outputs": [
    {
     "data": {
      "application/vnd.plotly.v1+json": {
       "config": {
        "plotlyServerURL": "https://plot.ly"
       },
       "data": [
        {
         "colorscale": [
          [
           0,
           "#440154"
          ],
          [
           0.1111111111111111,
           "#482878"
          ],
          [
           0.2222222222222222,
           "#3e4989"
          ],
          [
           0.3333333333333333,
           "#31688e"
          ],
          [
           0.4444444444444444,
           "#26828e"
          ],
          [
           0.5555555555555556,
           "#1f9e89"
          ],
          [
           0.6666666666666666,
           "#35b779"
          ],
          [
           0.7777777777777778,
           "#6ece58"
          ],
          [
           0.8888888888888888,
           "#b5de2b"
          ],
          [
           1,
           "#fde725"
          ]
         ],
         "opacity": 0.8,
         "showscale": true,
         "type": "heatmap",
         "x": {
          "bdata": "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",
          "dtype": "f8"
         },
         "y": {
          "bdata": "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",
          "dtype": "f8"
         },
         "z": {
          "bdata": "4Aul6I4hgSvHLnqU9YYzLBQGgSioydcs+IyuPhX4bi3r88SwjIv1LRyMqWRlBXAuOvKF/zp62S7tknZHBLE1Lz6eVY+y34MvPzzq9I7vwy83YffhaiH3Lz6sgZU7uiEwcLfnIfH1RDCK48uVnIliMBOAyhojvnQwU+NPfD9NejAa+S5zhSJyMFaha6XE21owp0ppsgBJNTC5j6TfwggCMKCTJSPYVMAvYEQmB7Ggby8zH/i1IxIRL8E8aauLxsUuO+8Np0/dqy4rOMgQubXWLv6N05qPyWgvMwEknWsLKjC+ReJRn7XyMFMN7bDMja0xAmxKawcbWTKyV1MdUcX9MgurBYV8iRI4vDXEMn2d4Dd9PnI+j1gUON1/2VdvvIc2tQ1hHc0PdDdy5553wusCOe5HtGSy6Fs5mS8yP2Qs4zn6fxljH5WVOgNxSTqj9jk7a/mj+JGw0DssADXuV+5WPJdr7qLg1dA8w9ANADhrOj0PQPNuHyeWPV/xnEoV2uM99NTgYR0DIz5/3S46e3VTPnINMCbSSHU+HQeIrXnhiD4EOoDMOhWPPuwHkD/iv4Q+J9qU6L6ebT6ESQHWuzlIPt9hP87ALkw+ADUkT0QXez6V4z2bTEmePhOLantOLLI+uNffbaAMuD6kcpBaMo61Pm4l92TxLrk+W0jbw1Y5wj6EH5c7nGvBPhipDdVMILc+3Du9XQma0D7KH65Sbkr5PvSicceglhY/q0DWGuHxJT/K3/6UEjInP5fkiUOruRs/hztebEmICT/qy5mv+IcCP+OG3hiM9fw+3cHrUndc6z7pTsRrmwDMPls9ugYHrZ4+Fftq/9/2YT7TLusTkX4WPsvfe3INKb49tiJSgkHpWj2vRg1sezI1PWkWeUtUwyU950O0ATsOKz3DRviNsoN3Pbk+jXyM5cU99mH+cI+6DT5lulZF+jtIPr1S86yE0XU+2juyyusrlT4RFbALuACmPmBqjWGsc6g+TyXxqu4LnT5BR1qS+XKCPn2M2qr8RFk+/qwfQG4wKD76H5+gbZUyPpKuOMWv4FU+yDilaJdWbT5dpxjnOhd1PpeDMI8gNXA+HG4Z4kmfWj5t2YGS/F03PljlQHhc6wU+9Oolz1/5xT1GsgcH54p3PTDbKwu+9Bo9bxqZHBN+sDxm/Zm8VZE1PGl/adp+JK47T/vImauCFjsb5YZgOvdxOntaTpC7pb45J+7CprPv+zhK4iWb8jYrOM2alDBBVUw3C/QtGCGGXzYw/HLS8b1iNZJSKU8D0Vc0AbLXKA4sQDMn8IR7uXgXMiT6JQ7/M+Iw8OmGbpksni8vVZR3w2m1LpVN7+OV07QvF0Pf+1rcpTDrtV/x2oWIMX1FTzstZl0yyIpnJE7VIjMiXQlXfcnZM67xxdL93YI0bMqR7VGBHTXaE6YD2aeoNc1cd4TLBCY2IYh5b8kDlTbrUGrSQG/1NrIa6oljXUc3rN7R5vc3izccOFaxevHANwvOBOkPi+Y3zWjIOf8GADi4/80C9loIOCJezpzUxgM4nWwIu34p8TeID4J1LtXPN2RqvonnjJ83isIlwKC1YDe0kfy8QuoSN5wPy6sD4rY29CacybqVTTaJUw8GWHDUNRt1TAVFLk41LgsnAlzQtzSRjAnv0FWFODlbet0hahM4JO7SukKdazds1KcGu9ZbNh/fDew6ezU2ReVyUhmfMzXNXEYF57yJNGUJ/yFLCtIzUn4vgeYGCzP2HI8L2qI1MivIXwq0glIx031toK3sYDCRCECPm4lgL9ErP98ERVEuhEp8Ee5FMy3FqRvRuvwGLBq7cDhPTc0qleI8PkH2gyllSU6LBRUtKP4N3h1SrsYmgYcxDxIFUyWF9UiOMWXRI1pzzJyu9ZMi2CgsQGUlSyIlIeO45030IUNxpJn1OpAhqRW89+u6GyH3eAepPlGZIGmFVAl41AggQmg6qiIveB87kZthYKowH8wxtPAC5+kezRDVCQOolR6cBprC2VkzHpM7NvagesIdMMGtXtTbQh1T3Aixh5G0HPhXBT94+Rcc/4dyMEndbRsV2+lD6uCzGg+1b0UWSOwZ6yVH6imAFRljAMovJn0xGLWV1az/+EMXul8MA6gNoxZNKRXL/uwTFl4B11FdnCYsVaxKK/nF2SxZZyqYjGV/LQjXl3kCcBQuVPwJIMRvnC7SBf6RMyUVLyUPLGPxz4Av67VW/2af3C9MmU6ZCjUqMLAZYoLoOmowFOFvKsE4njCWxG57BMnGMNaOwbNqXOowJw9nibr7BjFf24HI45IZMfJ/UlGDLyAxb72RiPxOFjGG0WAug4QAMXwpVn/gLdowZWHaDDgupjDo5dL1ExZkMEwC7CRbdBMwOMgFEV9vtS+izgQ2ZqNyL0mUNMeZd1kvp744d+uOdS9LX4w5z/0AMFQ6zN1kcq4wsDyGJrV8dDF86TT57ygwMlOZXpvlUdsyN1jacTwPejPnhJzVZw4oNN4khfMVgf801oGRzljvaDhC9Ampcx6xNmUMNd52Xn84r957aH4xrjjvKKh3SqFFOSeIUHjNxwY6ajG0wfbWwDq34rtBYUJfO5lhtDfm1vM7uzJNmq0+ezwYpEThpwD0PDh/U5+FY189K6PV1/pRuj36LokpIZYHPl5O9Zi4lkY+2scAOJoedz41t8i620mZPoOXzgW1j60+4IZVXxN3sj5QViE/KKeoPkNCgcdAmJE+pCZc49p0bD4nMd8vQmBsPm2kU2Eh2Zo+bjxbSWwFvj5Y7fUQNQbSPjtwv5eE29c+mDSiFcQ41T7J2B2VdSnYPrpOX0MuOuE+J3FQYUtc4D44gp38IubTPhm9TvZoxeM+c9UHTn5BDD80EbCzEtQoP419immwzTc/SnWNMtTqOD8y+F3s3QsuP15x0oj8zx4/txB0IAwYGj9lRAhnbi0VPx8h/Wo/HAQ/x2zEG/Cb5D6Boeu56Zm2PhSJoJ3pgHo+RQpPIimeMD5Qv5moRXLWPQnfh1o6XoE9zK22Glkxcj0MVv7mvOBiPQSmJPYU6109t5Y96S1Moj2A46m2pHvrPT/jbe+fljA+hcVgkb8Daj4K49exQiyXPn54mJuja7Y+xpPh3JBHxz4AwPZGZtzJPhs7xdv9tr4+x9HZfzaEoz7Y63wQ5fJ6PtDc1zxg70w+ObpM/aj5WD57nwYzItl8Pj8urcz2TZM+4bOCJ8W/mz7d19qfm1KVPpsRpdXlgoE+yQNEyEe9Xj7iOdYmidUsPlNPEGXU5+w9TJaKfOf3nj2ucspeo7pBPe2+rumysdU8AfNX+bJeXDxoICOSEtPTO/nIIvcXnD07/xRda7ahlzo3KPa6CCjkORQbHsOSXyI5JYeVEg/mUTievyoAW6JyN+rXrkuZu4Q2ZEJ5qRCniDURGjz80FN/NLOvShKyRWUzVRB7ia7fPjLp2J+Nm/EHMaHX7NBX2MMv4M8hAhwNKC/BwiTcPZ0nMJfKG8BzyRgxbmP0eSzO+zFAlGZTy6rQMp5uinqoWpUzMbhQwyA9TTSSXS3PgWT1NJiBD7suupA1RnK1W7f0GzY2Lx0ETveYNiMJeBvl0wc3ngKAA79NaDd5NKAjBn66N18X31mp3P43hK7m5RE2MzgBYPxNi49ZOLtot30zLHI4CIXlsomdeziyvbg6g2x2OONL5GmVdWM4tTR8G/4LQjjqrp5MBOMROCvBDw018tI3PgebKGtyhTdRdhanIvIpN8Kdyt7AxcA2HBaPXrcsRzamNyWSOxzBNcr9fNQQgEU51HWRV97pFzgutbDpOoC2N/rcuv45dnQ3TGoZhxMQ0TaLo/YtUcKLNqowUZFeI6E17ZVuvwB79jRjsT3jl4M/NA2FQGs8m3czOD+2G9nlojLQ0hm69yrAMackCkapkM0wa1erh5rjzC/ZsHkrAyu+LvMYtJ2M1aAt0M9EjDUUdCyy02T5DZk5K2HKXc4XcvEpgABYZqdzmSin5sPimfEzJy/1Om1+/cAlA5QEz71eQCRa0QoJHsd2I7HlQQB44C8jOdrC6L7X1yIKpmijCw9zIoms1fMGSAAiHNNaMey6fSGxz3XLRUftIAdlHvOyhGMgJ2vQ8ZWSISBlM5ycyGTbH/9UykhO54YfOD3t/Cd3JB8TLFwRFIuzHmCGCpTg8TMe4LCpPMnApR33ue1u8VoJHbR9djWZlV8cW14Z2f8FpRtk1uA0EOndGkLwP8U1vQYagXWMBz+JIhkAfndajoE+GFTHrFdUeqwXWSRk3EAhHhfoj7ZM2HnJLMPwjjULCn0tar77cgSwIS7jQqCO+wa3Lq5yTFEYBUAvnhHp+AfTty9Ea9ELAfEiMH9/P2n6HoAw9w7eONSAzTBoiYCbnncNMSHek/453UAxt3ei4HcHaTGZlvqW9FSMMXJKxpJ4VqgxbBOV3aLrujFmcoG9mAHBMRqitg5VbbcxIfsRQtxXoTFzlmmHjXx7MTzxfeK0SUcxDBqE6s0WBTFEpqGT9G60MBwlzqrRMVcwHyXxKUvNGzDd/sBGsOsDMCcsfNZ+DxIwPh2d0nQVmDA6JrLG/1AxMSkCWrz0NPMxKtAoaBQtrjLA6G59uHtZM1J/DDvLO/czjP3nSaQykTTFn4mLDUCeODS2aLdqMCM20fBTpdZjrTg+ULTei8S8N3KGXpGAk5Y4WkTFI6L1ZTnI1GUfgSRAOjeV7qgNzN06ZT0b/gl3fzvlWUe8qBwUPKCoRRQOops8xC16t51JFD3lxqWSA9Z/Pfw6W/L7sdo9cqBChynsJz6Y/VpZHelmPkZrnZrucpc+LHzwbxmmuT7yo5eYiPvNPlFheZptutI+FD9UyhMByT7F3/kVIdixPmRTOhwDlow+htc6ymJ2iD4ZvwJ1M7i2PiKhIZMwatk+cKUiS42M7j7/V+0V8D70Plj7PF8P7PE+V9L4+hXn8z5UWIgG6eP7Pm3SYbEyTPo+vghGGqAw7j5A4cE+uuj0PjEIyDDMWxs/yzXEf9maNz839ioOzExGP2YR7XwsGEc/m5wrqvI2PD94Y0CnvGEwPwOzjmABzi8/NLysgniOKj+zbjS6yFIZP+K3Athy/vk+bPTsNW+NzD5yYFhF58WQPmk48NDjFUU+X2PvZeFR7T0GlmyeTY+wPSx0Iv0tEas9up3ug/AQnD0MbsqHn52PPZaV7UwG1co9AoLB2p8yED6Kz4JL/YBQPuRhetq+LIg+rwDURWsbtT7Ry0g5Fk/UPrg5CFQUDeU+tyxDpoRe5z5QaOJVFr/bPlCwhNMDpcE+qaFppqa+mD64I0545HZvPrF9GdVpFn0+2yMdSwFDoD6g6XmX77G1Po4HRuxjLL8+OvovImPztz7PnAF5+aqjPnVuTJTpQoE+gwfXk9MwUD4RK8Gs8zoQPp8IRnRYY8E97gXGH5joYz3dqmcNWlz4PIsMJV1V2388lntyyMlC9jvvKF6Sz59gO2Yffgwkibo6o50hSh2iBjqubx7HjKFEOSnnoEUYGXQ4CNVRp4XslDda9wtJxkenNubxaaCJrqs1GNV0oJ+WoTTqOJaJ1OKHM7klHBVrVWEynC6/HMbiKjH7O5JElUjmL8vTsCiPRZcv318DWVTbljB/dmcC6f2HMUvpImfY6WoyBMjl1O0hQDPK5QkaTqsENEdWIWIHTbw04O1Yjta0ZDWJuHnf0jAANkQ4V8kmD4s2Fomtv0oqCDewvd3MOhB3N3QU7Boshtc3UFVjanqkKTjocpC/O99tOJl3S1hQmKI4W53p5aW9yDjq//kp+ZbhOEqu2wHFuuo4r00gDWC05TjMSuBOytXSOG6enkTMd7E4d2kM8SJQgTgUv43FoFZCOI/kgq9NwvQ3DXyYrxMdmTedWMMKBjwwN3msj/5pbrY2hEuVt7qPMDbmyjkRb0DUOLViyXWS1IE4g/cyx4kDYDjZtJ8jRKa5NzNMcrxKITI3OqyeuBqW8jbzm/Y5mY4JNprdtJYoDuk2kdYQq1Z/pzTMUN9E8ZnhMyIimGVeLgwzJZNS1iwcKDLUR8IAVQs2MfwAC7FPijUw15bj9Ht+Ji8AcsZC0hoJLj6uJiJc8t0s+ngt63UYoyvwR06bEw9aKlGRW4WpFQMp/hKebkFPnidJMaDZavIqJqPOoVCE+bIkNErr8ArUViSpgIwIQfQPJDnxd2CL5rcj4/BE9t8aUyNc6rA+IlLgIgy7uqG3zV0iwAtFO4eRzSFBsZ4qfytNIaKtC5hOrQ8hs7pbJju7yCAlAYghha10IGZJxUQGehIgX3/1ZuOkoR+St5WFsgEiH29owByfo5Me/cJxPSrk9h0BHmrK2oNMHerU84f8+pIcY88k3/YAyxvoY7Oroof0GgOuR6Fw1hAacGC2nNTTORlSxZWhikKyGBjZ+kuEeiMYrrADg+eAaC0uw4CnSO4bLogdwSUuA8EuPgBvVvYlVi+6w1CwEtHeLx9Rui8h6lYwkerTb6E3wjD7uIitJwEfMdLMC1vWWmwx6xA6+MxDrDFwVuolYxPgMUszR8pJfwcywX5S5uAFKjKiGqjjMgNGMpoCn34FMlgy+IwHnD6CXjJ+hY0tcgBVMmJ6qk0lFz8yJvT4RseiGDLNc4YPV9/kMdBpKZbW5qIxV0IJKwJTUjGR0524VLb1MCl+gIcR+cEwYv6so7WjqjDQu7Y1Ny2rML0ZZFzeZi8xbFobfAgutjFCLvzyqQtvMpdPK29QDigzVY6hyIRO1DO/3nVS8ltyNCWcKFWIbgM1ousmH4WEBDknV4DzyUwDOUQ0Vs8eYBg5jpDsVhaF6TjO5nXxzTW2OCcjx9d/NYM5Q0DjjXIuSToA2JAACoX2Ov+8EQnPIZs7z/SwPjFqMTxqW9+o3Oy3PGWGWlK9kDE95SM3/XKQmz3mxDvpAB33PSw739dstkQ+JmCb7yLWgz4K22crdk20Pv57WzsQNdY+C8+aYKL16T5lyBU4HTfwPpOirJMupuU+QZxhuuzlzj7ZyiWrHI2oPob+u9O6EKI+Z0FU4T1r0D5nFzR4TWHyPpxYKjr6IQY/rdiwEt1tDT9KISnXJAcKPyEBKUliOww/3uY4mMFdEz9Rwi/BfRgSP2UZVQTu+wM/w6vLGirKAz+HvV0+hvsmP2A5vhCAbkM/YC8ss1QRUj/rlyjlaH9SP3+dROc5Bkc/qLSQ42eyPj8eB9Z5qb5AP6IlG8pPkjw/1u0Q0uJZKz8J2tviCiQMP0YJps2o/d4+ILj4f1ZDoj6ndm1szxBXPju8l4jRCgI+avYDcV+S4j2s7AmSrT7hPe41PFP22NE9w3Wiu2Fivz0N9N0DSxryPbvYrOs6JzI+pxM1P6wCbj6aelWliaqjPuL3IBB7jdA+fPjuArmF7z64gCOp7EgAPz3ARr0nDgI/NjmV2NBs9T6X4EgaO0vbPimPnaCMtbM+T+fJi4jAjz5FFJDVjYudPi1WQmCTYb8+UMJ3ytnT1D463v9eTejdPt7O/vbv+NY+QXF7PIPcwj7lh383M42gPrhJSyMPDG8+U50gufIeLz6AchkkbavgPf1eJnfWFYM9ayXUnE1aFz1q+ubLuYmePFmGt1XLVhU8KDDqWQ7ffztt432GtG/ZOje6oeUIsiU6slWhpK/GYzleIJiZ3kOTOEqR87iFDrQ3+x8xUsNQxjZ367ET0YjKNctmnOz+28A0RqAc2l/lpjPbOpzkfJ2AMjcP+ix7xUkxMuj2GCpcBTDF+C77hDoDMA//8U/O4gIx17hNyefS8zGOaXXE5zzWMpdVOozpqKozXymRZhIUcTS7PeBvYmInNRrP8OLyG9E1yoyUyYbBajbx+iYCu1v2NmmwcbST93M3NGZaGYQO4zc4waUQ+G9DOJBkJwwQMJU4StI2S7eu2DhQ/fGIp7oOOezyO2RVcTQ5hOPy7GIRTTkpfRABAhZWOfj3orYX71E5Pkp8TT8gPzk49zIb3t0cOZdPvzxTnOw44OAh/hpOrji6OYMwEydhOJ6MLysvwAQ4TWL/EQnUmjfUjeIC0IgiNzxYkn4MS385d7CTF+KbcDlr8h5HKysVOZRndaZ1W4U4SEP1TQnXFTgJOKnDYRSXN/2JfmG3gQo31TC7SmBEcDbmI+UpFjtbN4LR/GqM6Q01tlwy+hRoRjQy4o/X9e9xM4zDoH01sY4y8Us5LQEQnDE/e0vOz2ubMMhs2M/Uoowviyi6klr2by46pVLfpxFDLTb6Ae65VwgsdU7Fi1SqwCqyqLpfhK9oKRfWyQLgUwQopTrll5kVlCah5nukHLBuJehmToDliDMlkzgEqRBY6yQSCbjmzXOUJCpSjBFBWTAkAq/7IrDuuyOZWmCTe4E5IzB/b6Tlo6kiPFhvXPrhMyL3Zo89DmT4IXDb7b50D7Mhg+Pp12/fXyGhTRhS3Xr8IJ7CPBBWMosghcP9ZGTBCyAY41y3lEV+H92hTqBupOEeW5zkbQD6NR5mp1GKpUF9HbqAJ4/Tz7Qcd2AzhJGl3xtnCWlVn2f6GmQq+QyRLTcaxgaGYJcHtBn/ag+8GIwlGSA3ZkKDHgQuQ+3Rq+futi4IIhUP1+9bL4YAQ5hyL/Iv6JRMEXpNeTDMxG/QcdDyMDglf/vs6V0xolMMBaZzuTGBalEQrUMHMkHCerbpJUcy+YNKkV8tejKWyZuQDtqiMqKQkAJ4bcQyqfheNWsB4TLrjvc7QpHyMlylAlLOXPcyGPVev44S8DJ/NhPIBsrXMlsMN4p32bIyVlXfjobwfzL/hdsekew8MutwcNJSEOwxQ4CThhCrkTHw8n6GTA5kMbLAMuXUbk4x4yek6pLeQjHO25oTzufBMWIxHvZJM0Ey4TVnxQsd5jJt1IHQVWGgM1L/P8CYoUs0gZGl6lzx6DRZE2imvnp4NT4Ij653FAg21XN2PBGIxTYSlYjfgW6ENxXCZeTz8jU4xrOX+VBRVjkkARwha3qfOcwyubY1aWM6Nv4ISKGnEDsRl/jFLwq0OwYU4NvbvUk8b5pSBvmu0TyfsIDhNPdJPcr/gFSFX7Q9rwgtLVcVET4kgD2qMZ5ePvmFM+akUp0+TXG+rQgDzj6gNX0J6WnwPmJzDbrhLwM/lnclLEv4Bz8j7imqTQAAPxzNRIsR1uY+jS2W8wUGwj5+31nm0t62Pi2cksyIReQ+h+mX4cq4Bj9d2MnsU3EbP1DAJRo+WiI/S9okSwVPID+fpmNEyFAhP3FULE30ISc/tyHnVxtZJT88kXCmS+8WPwjI4w+33xA/OZMm8+HDMD8TU+mxzLhLP4vgntspWVk//n3PyoGlWT9EpZF3hWBQP6a+PVGvUEk/pVRkkHhxTj8Vv874jGpKPzxf+7k7Zjk/entohqU6Gj/4nAaIEwPtPng/Qi+HMLE+Y98INqvuZT7ePviTQaUZPuLT+35xnxM+s6AMMXbFEj4GBIo7XWYDPnwxRFGvvuw9OwoV1anvFT5b1ZZOny1TPpcgGTKVkok+7QDmpV6DvD4cKXCXPILmPmMnbUhVBQU/EtRn1gSXFT9QLYCVyOEXP1Z1+kuzTww/LFtB5ZoX8j5si36ah5fLPl3tGL0WHK4+2AVE5MFjuj5kdWW64PTZPslz/9rjFvE+lEV/jiuD+D48TUl74dHyPn3EnRb05N4+x/8BFNUauz6RinmlxmqJPszv3JBueUk+vn4D46dJ+z1C2tBcbz2fPeZPDRqUHDM9UrkeR7T9uDxS7ngHZ3YxPBOIqxi3FJo7oQeDUpPQ9DqGIL8t28BBOmwqrJfALoA5ldPd+lyHrzjs6++bfWnQN/s80KmjQuI2uEdub2m25TVwjm/oWpfbNMq7Zso3vMIzrNGwiQoxmzLDW9LlixZlMU+nQrNXeyEwaMrH8T8gazBHfRqyg6RqMYKJC7k591sy0bXtegtfPzMKscVk/c0SNPQgLfu6F9g0CHpPk4d+kDWBwv6o1yI4NkGZDwJa39I2+FvVvYeKXzfUXxxd9SrcNzUndkAt4ko4+Fvwn6drqzjdMvEXyeP9OGApYgLxaEE5EspM1smsdTnniKzJuNacOSgmTsLSgLQ5TcGE9CsovzkBzF+WtEy5OeAx45By9KU5rxD19XtchDlUkHvmQC5UOZgDlxE5YBU5vauD3YkyyDh1puQ/9UVtONZuV2Bo7AI43R5gRJ0OFjrFH9Hq1gDhOWeMcxEXTrE5PrHFE4+qSDm36l1K4oHnOKqqcwSkVnc4p24i6vAG+jfV6VzyzCCyN95L6BR3rdE2qmxTZiUwJzbDev6Iw0BwNWMM5xF0Wag0SphO5CB+0zOHoGnJQq3wMjH1ZaT9fv4xRu38NbjM/TAZbYSCSR/vLy9Xw6xzX9EuQBNEtSq/pC1rxff9G49qLGamuNj6WiIrhrfvxXkKzCl3i9XRHk9pKLNDaYxtAv8mqESu/BDMRSbs4/OGSYoMJnbvRCiI+cMlAO0glHzhbSVE7Qs8o+IHJauZoOyQZ5QkxRvpOXeiEiT/1jgzqSyDI9/tZXKXQxgjyxLH++8J4CIgfI7HgRSZInweaYk1+EQi7DNIXsO84iHm7ZaknuRxIcp2a/68QvIgb94QJo/qYyBbXrp32TbHH1QqBEHa6hwfVHjwc4s/Yx6fEWyHgmKbHfyvhnYf08QcwAm3hIs34husz8+OcAI0G7+KgGEsxrIavPn9alBoJBqPXhPiJDScLnPX9msBE1AvoYt3wdSU8y+Dyse7I36JMOi4kIEkvBExa9y3y7xfijGtQ/IjRff0MYI7fUEL1lEy+99MXJNLoDIVTsH1oC/gMhzMN38QNBIzIgxjvsnZOTOOHcQwxWhbM5kQhjd/cXYzdsk5/vBUiDPg90K8youOM4AHVP0oAIUzK+Ceet4TbzPPXlswjZ9IMy+szH513BQzEzMU5E7k0jKuOJA6SVqCMnYQDL0hJCkyx2z5VMpAAzJuR14Qs7DtMUhlVxKN1dgxN08VKsyPUTKLtcVXVfzMMmY3UCtpll0zlG45f5wUEzQEmctDeAzANJiCTzwQ91w1Nh09BP4F7DXBhVPO0thwNkDYohWrsBM3NMgpbYQjiTmq+CHB8K+BOP5W9qr3x6E56mwa0KxHxDmBl0kPGM12OrleI8dNJyU7+hMXqF9JyTtQNhwK6z1gPJBpsaWaUOY8MqgrqQ5iYD24tJe5d7XJPWWGrVK4jiU+ofoUioJRcz79bv2GUYCyPkXBxZKc7+I+7hw9YWS2BD/Uz7YpTjYYPymyRCBkPx4/N4JSGiAxFD8I1dXE39D8PlV2RNxxndY+ION3nHnVyD6Mc3bQcWP1PsfdDJ2VBhg/VevQ5dUoLT9g6moHZ7IzP7wswOAiujE/pTdzdlF7Mj/zK6C2R903P2EfIyMqozU/xA8bmuq9Jj+bl/pAogcaP2F3Cv2gQTU/uTh9ZPojUT+WHV6ZiNBeP3lfgyFw0V4/UuwgXm9eVD+DhbIlelpSP8KGlreQ6lc/4INMR6QOVT/FXNIyNV5EPyp3p4jBKSU/Roc2TomV9z6JXQKERjW8PomqD/dGfHI+0uHiCM1HOj6ocRD3th1CPvDm6w0IckE+jucMDXUDMj7dJDaQjtcXPiMlbmVFeDc+TSDFOGOncj5B2m3HeLOkPiDVQFPV3tI+Y0ZOatnZ+j5IV1YT6zYYP3OiHB4amSg/JL5Lk5EYKz/T7xy9kAggPxol9NUFoAQ/qNfvFWtT4T7pqx1RcsLKPs0S1eVY7dQ+PHDWaV108j7du+esQP4HP06Q68mvLBE/89XqDKZZCj+3dUGSl531Po4CB83I9NI+STCRCjLFoT5Mw13OYs5hPjzRCr4IEhM+uSyOBmzUtT3ora5x/7RKPR1L6fvVddE8QpE6f0hmSDy9ViozWjiyOwi2RcrfFA076vLBlcLNWDplYQr94JuWOUyn5pE5BsY4uzhTdNPt5jfUJh79z4L5Niqpa6R4Vf41oOMUvvhF8zQi27Z8mCzaM0wieBF7/rIyvug0Hg92fTGAvuAMi444MCnEW9ZaVdAw1tV8kdkK0DGCuKpyzNbAMkg84bq/46IzrvQ1gFCldjRGGIJQkwM9NX86yksK3fM1VGwRD/UQnTY45mD9OLo2N0cZDNLu/cI36Y0K3vL1QDhUdiyO+i+wOKy7gTbCghA50bjMgGL/YTkpPrV+VfekOXTDj7g0Gto5rU8AeF9dAToR04X+97AYOjGFu0S1wiI6v74fuKl3Hjrxmw2hgHAKOm21Yv00heg5hpWxeIhNuDlCLglNAL55OSp+jjTcIy05UqQ/Plqg0Ti2BlKrPXQNOxM7qDs8dnQ64Wk942EfRjrYN5sK4fD7OZ8HKErf4aY5GhO/JAOIRTkq55axiabVOGVqe1VURFc4+MRZm8i4yjcLgt8Gme/hN6LH1t3TgoU2YHC8WLEnzjW53+LbopYGNcGMogI9FTI08b2ryAzxTjPseNJPjEpcMig1qEWXpVsxAn1m+zXhTDDI5rUP3iEwL580C62STwMuBuf8kx7ryCyD6xnTkK2BK9v7uu+MPC0qiRYst4sC0CjkEuNk1PxvJ1u4WFcxLRsnQ8m2qynM4SbE7Ko5i+mYJp7Nmx4uokImqK8b1hzK3SWRs5udyXJpJf8yoZA7P+ck36gxT5LpWCSQri52PRL6Iw/CsEe+AsIjsMmywO0rfCP9YHEQ7o0nI3YCVTgLDMUiFvVo0UEZVCKys5Iy+oLUIbdK/owKX0YhuAA8gWcTqiD8aXVBsD0AIPVjg0rynkUfYpQy26/Cfh6qaNDPbGenHZi0DezqKcccuenGvnIKLxynQI3T4RCuG70uHxVikCAbha8XUxzgMC9974oEWzzjL3aJBTXEbocwd7/WwbWBHjEOATzZFjmlMS0U9XGTjx8yb1sQx5kWiTJjeWYIIlflMn3/23/gfDMzcFg+QohTczMW4SqTU5+lM0C0MbPiSs4z8/AyD6Nu7zNdRNYuJ00JNMJpDH2/ORs0zmjDuEgMITRpoL+LtWwXNNXqVmM1VAE0DVoZ/lp12zMfaUGjR0OnMwt2noQuEWUzLalcRfyAFDMCQTwufni/MigBl6x8uZ8yCrOoG2O7iDKp8Nnnzk5vMnsNbe4Yet0yQmWHdCIjVzO/2eR5kDjVM1UyjHGRGYM0C4IocTjVLzXHLQELZLjMNZ4EKqfTtls2x50+uA1t3TaP3opjb6HqOVTToIlNXd45uttVmMo/yTjsQAYa1/NrOQJmP00vsAM6lXfI6vdYlDrPkewcNVw4O+4G0C1bX9s7ETsNbM+AcTyVh1JF+An4PD0m7/j5pXE9TNwHdsKx2z2yLV4k7zg3Pg2dn190z4Q+oUecaxvuwz7lcdDW/mX0PjRWBR7mTxY/XaPWBAEVKj9WCtNztUowP63ZobZWwCU/YlA4YVcKDz+EOIRD/D7oPot/R6KwJdc+2BtdYTtMAz/4YIryl8ElP7mIWXggnTo/pieoYR9FQj81rlCzSdVAPzEyGwa8TkE/sPsI7JhkRT+QPgHHx+lCP5Kt7BZtezM/9/jtbbcvIj8sQ3skW3E3P0Fr+h/5XlI/idRyrEw8YD+qRyrmAxFgP/+qks41OFY/MIRh5t1kVz8QghV07UtgP4fcNRYEHl0/gk2ZY0dsTD+3vTE3+tYtP2ibt08+1gA/FQcMQqt0xD7PH/p2vBh9PnKyJ41YEWE+R0QKQPezbD7mrUnll65rPighM0d3kVw+JGb84TyaQT6x8CZDiP5VPsJv7pb1R5A+d3cws3Wevz4HNNCLb1/nPiTmhgfRnAw/6QYvQHhNKD8n8SOxKDQ4P4noTbKEdjo/W/WjyzE6Lz/YKLJj5VYUP0XhLalbDvQ+tW2JDEPv5T4Mgd2Qt77tPiym0vrVpwY/YA+aGxPfHD8uwzZPKZkkP78F1Xj9jR8/oQRtjnXbCT/n9mmEe6jmPrrKnlBuOrU+QpQJlg1DdT5KFb7PpMMmPubAvMREDco9w+Ps5+TdXz2aobi9tNTkPG8LZJJdG1081P8ryta7xTuBeFY2DFghO12j7MWRlW06GdcXAjL3qjkW7y8tj0TaOPTkMjysWPs395oT5+hsDjfq43KmqhYSNo3Z9ERd/AY16al5zz037zNhPmkDDqfGMhkfXmRdkZExflwlDSXYUDC//XirjcowMT+tiMf1fTAy9iK0EKBPITOBynIQSmsDNI6oqm7OR9c0ffC3/MLTnTUAurJjkWtUNs82ScCE4f02BDry8Uxdlzfpur4INYYjOPmZQv+lb6E4uWbtLCGkEDkgpXXPOvlwOeQH2DyGgMI5gKpRJ8aNBTpFO+4VgNU6Ot+wPLX42WE6nijxWCNieTqot+CGUkmDOlDS3EZHUn86dM5vOjcuazrGeCxgJjVJOtb5i2nq+xg6Yx59N7Z22jmoXGnc8/SNOU6ndfhhjmg7v151+u129jobzC7ByO3TOsMBx76U+5g6W2IQoOuUVDpNMwkQ9R4COgf2FA0JDaE5+tZ1uVEmMTn8/17M3eyzOKCT/tzwZVk4rYS78MHASjgi6o2Q9QjhNn6kKuFe4Sc2MAOhfmLjYTW4jDICAaSMNEnCCBn1gKgziBs61upntjIHlxD8POa1MSFh+yir46YwcWdzInefiS85baQ0reBeLvYLvtk/XiQtdkM5aL/x3itvmM8hfXSOKnK6J9tIWjYp7MZsTXIeGSiOMtWtGe/sJ3YZT2HS8rIncYohEv+FaidHHVwkrtYTJ1+7IkNQt68mfU+grCIYOyaAHovmGcO4Jcn6egEYcCwlOXBNDoNe2CRWG/E1eEShJFxihglnA1skuWlkHwKWBiTQEu1ygy6kI/M4rX61RTMjMtIiHhWrsyKLEwKrknMlIuLyHKTxAIkhJ9EWJH0l3yCgsqJTYLskINZzF7L1fl0fMVp84rB5hh7TuTNzbpWtHejn9NkT9SQdJdOrkj2RpBwaIqD0ZhIXHC+N5kA9PcEvdXHYdIKmczBC/IeNFPAXMVA4LmAOKq8xifzTzTCuNTJaVCsb0h6wMqCAtua/oBkzeiSxyPnLdTPvTj1GZuXDMyKlp2ikswM0dWflNFjvNTSI+9N6dVVeNHiJsQ65zn40NcgIWYxdmDSkQo9Y9QKqNHpOwFHePrA0NvvfrCFOpjReIvTETX+QNHv+YqWZI2o0TMVaiQolNjS9yWoRGg70M3+vDfGokqMzdbewxiZsUTOHOq5T6WQ2Mydc597CliEzEIWyvT2oAjMCV5FkYyNlM59/69DYVOAzbT38U+VfUjQddOCi3a7wNLl42IYK9po1yBOw56xPODYHOUiXw3LHNouqEWuhTEg3H3IXtigwwTe6CMOmyuEDOhKIvIx85w45Zt4xTw8ALTq6zJdCPChEOkUTMqFQkss6OqaD6FHfUjuoUj+AyozqO1k8+gRsKYA89ppkG9gcBj3GzAmZwzqAPTb4y9mnd+k9frhfFeFaRT6e/SB/DSOTPosvCnvTU9I+JRk11hLCAj+uJFjtlIQkP3vq4iIU/Dc//+eHWab2PT+YE/CPkAA0PzRe1UMmixw/aX47bD019j4s5laHb4niPv6KQGKNzw0/qRBGKcznMD+K7SconfBEPw182QgAek0/j/X3QGAuTD+G/DFJ/LpMP5lXhMQsz1A/1o3d4d+yTD/F7SGZtfM8P2PxNflECyc/Ppm0K4+HNj8e0zmjxg5RP3C5CwH0qF0/Ee+AKX8ZXT94X5JSx1dVP7VwvWOuSVo/ekSORadoYz9isAAP06NhP/MM1ZGReFE/vaaR0FKnMj948Wfv63kFP/tSyBqewso+XasutVBQiD5wy7O/Lu6FPgPD8YbwbpM+i5ksT6q/kj4pkF20zFeDPse0sLb60GY+yQogNcwOcj7/D60RKwOpPucQEf/8RdY+CZA6WM10+z4mFTdwWOIbP4rqz43PizU/t9j+0JK8RD9uHNA8uWBGP0qs9ICpRzo/8/1ssL+HIT8FJggMwPQFPxprFz0xPgA/YPqtuuQTAz9WhitLQS4YP4byd8U53y0/0zANCeEwNT/1GOsjjy8wP90I0uFleRo/1TFohDAq9z4u6c696a3FPrzcrpM7soU+6ASzlB43Nz5ZWlcyZ47aPRKdXRyPPHA9lnNprdk49TxYL45y7aVtPNi8jXOLItY7cUB90I+pMTuXxbcEDCB+Omf7c+sIdbs5zpnbMd6+6jgrp9zEytcLOGd1Yfoq+h43TjpOI5JqIjb8hj+i6WYXNW1VWdvdx/8zrFltifcP1zIMK4CbtOKhMYxY80hivYMwUpKADbB4jTGAKE+zQPKMMlCNLxtAYn4zkuMz2LkKYTRAec6sO240NYL2rnsGLfo11Lf4zqHrsTae3ssgGTlaNxPxE5gYgfQ3QcxEQFkigTh3Ky/adJr+OOAGpR0/NW05rtknlZzKzTlZ9GYsszwgOpAS6/pP6mI6nB6P+5CMlzqRDvtJElW/OsfvNSWqRtY6S6S+yOrs4DpCF6NWt3zbOsf1ufdr2sc6Ac7pGC8fpjqk8N/S9Ox1Ok5nLeVhOTc6MHbe3j/QcTsnHAinH4BmO6zQvbzQrVA7XlM1bKroJTuVJ3mdbunwOpTNKKDj06s6HrGyDR+AWDrHsm9kmw33OYVYjlQSL4c5FEIWiorpCDnPM4KRipx8OFNGXl4Nj+E30e8AbEEINzegtr9tzySANtxdYaubL7g1Mf66bbhc4zQnuluB8ZAANO4dEdraTA4zD2hnmjWhDTIvEZ/TVgX/MKY1fvQCduEvKnbipolwtS66Uw4Sbf59Lf2rmhtOnTosaRL8fa9a8Sowf9dxQe2gKcB7YLVUeuUoGt10AA9MuihGhB7NvjiBKFuwfskxGzgoY29LidYH4ie2MiyLXdN8JzQkmQ8MoAgnwZgH40eGhiaueUAk7fr8JdfTZ6BIqbMlt+bXbzFEfCV22ymrqRw2JT4l5mLqfOIkjU3SwBiFgCSBGQKcEI0PJB6f/T2DGZAjb+pJVC2PASMBu+sMjXdkIiw1C5/Ffrkhi89Mx2b4ACEk+fMtASU4IJJUOEzIeWIfp2pnlkiylB4uI4iWflQYHr5YznheC5gd3uezOBaeCx0MY0ZPNxFOMHhtNITnIgExU+0U6wzgpDEH7PW0VS07MljZx9kU6MIy4W7H85QdPDOVvhVxHlmmM7eN8cFRAQM0ZP+rxEpXUTSyqWPrySWRNP8yFFP5AMM0GI3ILLD06TSCFz39yM4JNe58tnpXCyQ1z50Jc1w4NTXhAIP+zm46NeZwVuelITI15/Ao/n/QGjXrStak3j31NHEeaBPR/sE0ptdxa0pMgDRCRcYqifEvNOJ63GgVIOEzHudscHAOyzMoxFoMqVu1M3nFlNl1cpQzZ/+YO7Lm6TNYpLmIY+VjNHFSkUqJItI07LWXcTCiWjWvHnL37IQDNm31P1VokaE23samt0LxMDcF+tyNtXqxN2UxUxojPyQ4Cs8qbW1KpTg/p/qVNMBoOk55QqbGwfE5bnRcIffqhDoU02aAWYsKO4wCRrSsuoM7RGn4INMtADx00WXQ1nqKPAt/33lbahE97g0FRa58iT3gQBAuG/7zPbHP4/OSw1A+8qHWBaILnj7lg2SIR8bcPpAH93hecw0/mtkCjVYbMD9/GV5uCNRCPw/JrWWMhUc/eE0rGWdnPz+aO/W8EWgmPyLNmds+YAE/6BENYF2J6T4YkF5F6r4TP4wSGghsnTY/FhsJOo+PTD+6U385SttUP6KHeG5OAVU/JqPo0jRcVT8sx4pa3mtXP/dEDEmNGlM/1/hjPPHbQj+mShK+KqoqPzqW8Fzk9TI/ghZvfvNtSz9Jt4haKXtXP7Mm+aLX6lY/4phbkz8qUj+7bCWjOj9aP8a6JdDOdmQ/WBqIhjgHYz+9kCHWKEVTP+TzEyjOGjU/aaTMTqADCT+UBJc9WzTQPtzxfmWe65k+Rs+/AGUFqT4cxUpGTHi2Pryi76IVrrU+3N+XBQVdpj4x5i/w0bOJPkTGOMRoMIo+iPt4bW24wD6ZBJUR/DfsPssB1UQ3Zg4/CsbJzPVqKT9QkABCBDRBP9554FFNVE8/A9hUybWJUD9hno6i1UVDP1PTVTqK2So/PQvrXrv6Fj8Sbx/OY1oVP235PqI0JhY/QfxzqZatJj944Hy44rk6P8FGzNxSxkI/iYNIfPSIPD+noWIefEAnPwx7oYhUSgQ/wkGM9HPz0j518I558++SPkItQUabPUQ+ODjtYGUi5z1qgvn0fEV8PWEs0qK+dwI9OrMyO6PKeTyLBpomN0DjO2OSRGRitz47StRlsAkxijpltpRil97HOXAKIdLHP/c4kZ9HsaIzGDhLVAmNy+wqN7rpv4K3ATA2piwO6fFWJDWD+sf2F58LNANuA2s6C+QyHYR9EcYWrzFK1CacpznYMIZEEKsnFOYx5bzxUXCv5TIg+2xPIMPWMwJ8CGy6iLk0Gf/9d4acjjXdL/e0HZxTNmGJMji12Qo37ARBFSmlszcXjqGyybhOOEUOYVIfrNk4mv8StTvtVjlVMFuMoOHFOXxTR2SGUSY6B5p9ZQlUeDpHaD96TFe8Og8X8s5WpPE6tBJ0fQl5FzuDU4YRMLAwO7KliLkQXDk7NSfT45mXNDtXTaVKqt4hO2CFfGeckgA77AUsovts0Do4AGU6SmXBO4onOSBmj8Q7pnTXZEj4uTtY6CDLPoehOxmhWK54SXk7AYV8aj5+QztG51hULg8AOzcTL9M5R6w6/Tg3P5qbSjosj+H8sMHaOZCM5GCWQ185hLHtrYQ1DjksLt+VJkQ0OOeVbutplYo30oBwuRKi0jbpRvNyZ+oLNg1G/FdKWTY1ZrxX07IfUzTNn9+gD39hM6NR+asXImEytf/IqtwFUjGqwdMT5Zw0MPT+C2++nAovZLkXEKBc1S2QP4Pmp8KYLDDVbHVOq1UrCenYVQIDCyoMzMsg2aWwKcI0s1ciZ4QpcCpdHyO5SimPdMRw+7MCKdkBu698+qsocSh8lVpdRiixqWoKGhvTJ+tTg76ogFEnKGmPd0rdyiYRuthbVEGLJtPUXRouwFMmARlcSf3mDibrqsf+bda5JbqllthSFlclj1PhuAAM5iT6zjKJ+H9mJGgIplouitgjmPGO0XiaPCOpr17FtNCRIipWSqt3t9chtUGn9EnfECGXIrHAySE6IN5DrvpNi38f5fCtLgEtCB+7oHWCugaIHs2jSeO/dvwdT1xE8R1i1jAJVLpTk4OJMaMPp2ymFC8y3ZPbs1A7xDLo3zyxRyZMM+f44wUc7sQz9Q2/J9yiMDTF8W+k1UqMNJ7xob8qztk0sn7ekft7GTWHlKNgDB9MNe9gSrtL+nI1eMwEcm16kjUHbFAyZSysNbvJDmhZkL01Rwx6ndJbwjW03GunBCq5NTXY5klbmqI1wJGORrN4fTXXWifOjPdINWkf3cURnQY12OuvqwBMtjQkacDij+ltNNgbFPHT81s0cTCNE+4jRjTCnptT6QokNF/RxMKWIGs00PigVUXC5DQkRZxmuJpRNfnorEp6s8U1P+3iNls8aDaR6muqJK0FN/jUuSbg5pQ3zU5JRvyLFTiif7E/dPSHOH/1+rBrd6o6c1y5AyjTjTkFzyJ7qeGOOtdWYs18osI62WchqmJ3Rzssnxiv7t+/O7H9+CFm8yk8JT25jeCgmTwN6vANhCYYPUJqa+7NH5E9BkUN2gLN+j0a/2G793dWPuE/qUZxIqQ+TRk9C2ZI4z5EKNKjYrwTP/8zFcleljU/qr75LB88ST/RZllVd4ZPP6e4sXh1C0U/5qwdmLMHLj+k6xCzfDkHP5TtKNWbTO4+EnVKmJd+Fj9ZAvR5jCo6P5vUc99ZA1E/k0aCVFkoWj9lxtGJ4CJcPyFbztntslw/9P9WmxNXXT+yHG2VMbZWPzRY+DOAB0Y/F8PkPx/cLD8F9FkuDmAsP8umPWKvHUM/VeWawmghUD8JNO/IdIFPP2YKlcfouUs/dFTLmP+gVz+4G5i6vndjPxG+tTX4qWI/ge4xQ5Z/Uz+kfUAJqBc2P0++87xYKQs/uHK+wvqw0j4QquQBRdexPgYa3zrRnMg+Q3A7sDou1j4Ze2xVpWbVPpL3Lz7TEsY+Dlf3A/L+qD77AF27mwuhPpsexmcVY9M+WnrgqX2J/z5z9Xy4eAwfP4MKU7fK5jU/qgUj1EBJST+ZOG7LsDpVP5rrPjCVp1U/nCDi6kLySD8+DbD4QrMyPxiAaMdjwiY/rZYSsqSiKD8KRyC0rD4nP0qhEBbf+DI/8/wVyj/gRD+qxnGf79lMP2sR8YZJukU/+GA9o8eWMT/yrID93osOP6lygBeybNw+uKVTT1ZTnD4RvixKaTZOPioa+FFKPfE9yguPdR4LhT2ovVIrFngLPduV8bdRK4M8RiWEGz2a7DtVvwEnm89GOwCMcuUacpM6JY/oA+e30TkssWCFZUEBOcU75zro9SE4nTz10OP6MzcqNvQLL8E3NrfjeMr/Li41WHGJ2oN+FDQWZRVJOb7tMrdWfinoELcx+2LZpC29LjEMRspJZT08MtcLwBiMvDszUVeqaikdLTRMYv0uY1QQNVqWxyqjk+M1sjH1VPUUqTaZzF3C5CthN2IjYM2GIAk4zYWlQbalozgnA83RBWswOTwtvKEEU605GnGa1rz8GzpekT8v3It8OueHgrXxHc86rmEJAO4fEjs4q2/EmpBGO7yLTmvVBW479N9t6lJYhTtgswwW0zeQO3qnBqCeVoo7Y6/U9TTbdjuRJ8v+/QjeO+lgxMCc9xY8suAZnsEjETxgaoDo8EEUPJTnN8Rxlgk8YeoWnzVF8TsBy2uiNOrIO/TSmUHONJM73A2nmkylTztSQTjtsNz7Og9JMhNXN5o6URX7d7tcKjqPyk9yk1SsOcutI5bBRCA5KiXRQM73gzh6FmeeSTHaN2vtmgXvWyI3lH0JkoiBWzZS9uQW6AWGNeTtfNAE2qI0BvR/94NEsTMNq6oXEvqwMmRP9PMwGaIxvTADts2ahTDjF8JpaXtfL2f0wJL6OzAuyKXZ+R5y+Sw1SrZr/hi7K4MirMMkgJcqbfVal1ANdio6mSLEwQZLKq6j2AYDsxEq0yHVp1bGyCkSLZQI2YdyKeMEYzUEoA0pCvNeZwpPmSjNuEcojT8XKGl2/SWfBJcnBKMpDjUvYCfXLxoR9I8nJ1Zsb3X6buImArERYyPTjib/cQVmIIsrJiIpUJ9mTbol7lszvcDXOiUQD0trwkatJGve10bsDxEkrISL9wFBZSMQ58GqYEusIjs5a+ymIeQhbtFFzeUdECF6C1lwGelnIBTIMW6Dh/QfCINBt5eHdB83FSlqwVDpHkGr/lbxclwxRkc6qss2EDJySpzWbMCzMtc55zzftkkzJDt4Io7j0TPkySyFDZpKNDce1C/IJLU0ptDbLy76ETWebBUrLmRgNXGyRFDuKqA1ReY0x7rE0TW1MmaxT7b3NaZsknzEnRY2HBdsEUPqMDb3kyGW2pVBNkFlN+yHxUU2ADewmnzQPTbeiezN8AgmNmwPqbX2cwE22sUuKv6RzTUoH3+8IMmKNc3NLo28pjo1u9jk7JUo9zSPDTX9GK7oNJL8cs/Ol9M0Jz3ki+s4sTS7QtmQ+0/oNP8Tl+DcgWI11SQNFgSyzjW6wo7639Q0Nj2kuL9oE8o2+nBVc2jWZjdF1IyCaAP2N0Jk2u5psHY4PQjCk6sI6ThcI5iXLGzUOvOJg2ibCdU6yzVvsWyGuTpD2ay79Vv8OpRFYrsd2oE73gHvapYE+DtiePaYJHphPIXwG3MkU788ykwT3ny9Ij3fTRHTQSKUPTBb/qCbuv49EfnakVq2WT60CI53pwmnPhO9hIIOEOY+/E/cbLeUFj/nh6PF/bI4P70ge8NO30w/8cdDmt4IUj9ZLTht/BNIP6bgPPXPLTE/I/QB6RGDCj/ktGy8WgTvPlokfcMjIhY/ehkmVvBeOj+hrXtALeJRP/M5jAcXY10/wEeCjoYGYT8z088SCn9hP4otxhomxGA/ISuXDS/EWD/WhFHA9wRIP5BL/FNJvi4/Vz3XwInJIz/EuXyf3FE3P61wD9x0bkM/jifLpLQ0Qz9jsnRolHNDPwVMKX9Ll1M/9KjVK28VYT9Ep9kX0wFhP6jVAzOrclI/yqYJ1ci4NT81+qTXlMQLP1GcbFxoMNU+HGAbdFBlyj7diIiEeLnkPlCjS8sQsfI+iQRn97UI8j5mQPHHn5niPtjqvb0l5sQ+Mme9Y/FgtD7f7yYXhZjjPldF2dhmxg4/LyM0GgGNLD83zBcUIrNBP2dU1dS2Y1E/8oMuDIRPWj+MXBnZ+41ZP33gSb1l/Ew/1kAlTWZTOD/PtGR+N9s0PwIx9f+k0Tg//CJLXDX5NT/Pvn6LTNk8P4yZVQTc50w/CohTeyFzUz+sT2UVFthMP1aSZ+/3FDc/FuKl+v/dEz/ZEOThLF3iPkhF7qEzNaI+dOwlt+hYUz7tp3qaSgT2PQoTpdhv0Yo9Gbd+adl5ET0zxpTEz1yIPD3Mb+3xKPI7QY3A2G/yTDtAsymMLKqYOgWhXfA/d9Y53fNJWoXfBTlyEbA5NMMmOHrbQFp5UTk3mgCaYR4ZPjYfpP0L1R4zNR1F8i+l9hk0i1zn8ObW8jJb6oNSLji9MdIxaU28yIAxSD59f8LVjjLhYIyd3kiOM1P3purcyX80IBg/Sm3UYTWYQAt/CmA1Nk5HEPPUYvs2JHBPDbu/sjfzgUl5dm9bOFa+wqPGc/U4kFlaMCTtgTkJ6IIOVQIAOspFV5jwjm46txiv4jUrzzpArpIX4PwgO3JcF4UvymM76xA9h0ijmDtO1yMn9GPAOz6K6INQTtc7D4WTvWNefDzTUrjAP9tzPAV+i+c+zGg8hG1VbXxIKTzTeHPHuxJKPEi6n9kK1Vw8VdygE94JYTzctsU8i4VVPKrnRLtPDT08FF43F670FDzpEaHDfyfgOzlAsrD1nZo7kVwsuURvRzsqeDbB3wzmOgH9psFSLHY6FhY6zRrU9zkHilQ66l1rOSJc/p2Gy9A4jLnoQNcHJjjy0XDFdeJuN56tqFhQI6c25QMn2/eH0jWKYkOfqsHvNMHHUN2aL/0zmJrdDOwE/TL8wf2CzwrwMQTrsmWgSdUwVU2yjZ6Rsy8XL5fZtGSLLhYpQ2Umo1otl80ffR0pHyynKdV70NJVK96FCHKk7zgr3R/Me6KPDit9vCMGmwPUKnW7OSjUA4wqlNqLDEf0NCpkYDqF87/QKRrixjygnlwpw3/pSiRr2igssKLb9lViKPTECATqcDAoM31cXQb/9ye5I/Dr8cWyJ/ktItSQZF8neCddxBIN/Ca3Z8v/fcmKJoHGGthkVgsmEPNby+HQfSXeRuOca2DhJKmnvP5HpTUkrbQjmuDQfCO7Y9G7ioK0ImEer7FY8uEhBF44xj2ZUCFo9c+R/sfdIBAzgd6NBF4gAuxNe5V60x+xXmB48d3eMU4xJrCVl5Eyc0hKjy9uNTMbXsG1XebLMziXMtzFaFM0iz30FcrczDSZpKOBoPA2NU8/cpe1gJM1nhV4Z8nG4TV/m2YvmIMhNl3HrMzOLFM2OJJZLopQeTanlfAX06iXNkCGPglRWrE2oQtNFkbdwTbGinvL6QrGNijaVoDJJ7422SXaO9lHpjYkEa8Eb6WBNjHWsp2n5U02h4D1lfsVCzZxKbR3UlC7Ndvho7IopH81DtktbradcjU//T9MY5pdNQjRsjc6oTk1FSVe6F2wYjWJo+xkty3cNQ6iBkswNkc2ShN6piuvpzYgMppyaR8pN5c0ZIXujsQ36NyKvJvKUzgnjo115mXUOAH0FQSaeUY5Q/zltgDhqjlY4eeqr6SIOqRo1Rpo/J86xAls0mxtMjvSOsjlLTC3O0xWiTlpLC88jhHN/YptljzHNmRmbH/xPKsDkK6aXkE9SZAOf/dImT2Llr2j5q7+PZMRvw+xKVk+yeIdTHaCpj7iI37Go43lPlzaLvjtDhY/v25iXG0gOD+eYyJexjNMP3wn3ImfnVE/bAEW3rGERz+O+WCCd8cwP1McQOcM2Qk/S+V26hp46z6taYS2+vASP4JDBCrKYDc/a3694JzHUD84pf4IZ9JdP7IIGDvGnWI/qLJDCypXYz/qgBKDZ7VhP4AdXIqsolk/rY/dm9jMST977zQrYSkxP/aD+Yn6/xw/Llw5EPdBKj+X8d7hwsw1P/l37N+9WzY/mlkYhhuAOj932McWZ6BOP/mZAsTGI1w/L9vylyYmXT+H2xDmrmtQPwaJxcIgDDQ/QeslMp+OCj8cs4IP9sHYPkpK+svQOeI+Jy0HjqTT/T6Ju+6dA+UKP6bx4QEs8gk/a17E+KHC+j6ljnHC3PjdPiGIbjE978Y+H8/JY9SU8T5E0omdGTYaPyqRNC0CODc/FYSJqTtISj8agdakyG9WP5RMej3lRF4/Wn+SyImmWz+z//J47dFOP3yKR6uILj4/cpRgqJhTQT/0wxO3GdlFP327L9ikp0I/0elysy9PRD9ls1VRnRxSP08qG5Y3alc/EYVLRP3uUD/m2t8kbJU6P0zOOCWtiRY/xoTEJuuW5D4llYe8RTukPg7MEfzcWVU+eek6jPMr+D2VT8rTLlSNPZqhL8J9DhM9xu81KCuCijwjD1DaRbrzO7k47RR+aE87dTUwS+q8mjrvKDjmjFbYObyPl6czrwc537qIDnKjKDhkszViv2U7N9YxZfEbSEA2lhdrHPiuNDWZ9+yZMxUcNLDNcbMqYPQySRo8L7aZvzHRXkAXtGPPMb8tb6ALv9wyetb1pGQ63DPE7BDYJqHNNJNA6sVpnrA1JAv+rmHsgzZp4aprqIZJN5xB6+67eQE4+k+mTG6SqTjUF3ibxv5DOUMZu61ytdA5RV/N8PLXTTq4GtuLm3u8OotebLBDDR07ohtTZwCrbzst1J1uF3KyO4ngKOvk9uY71ekpau6NDjzyFKOw8ftiPAYCoUKEy0k8r8L22YX1LzwNAFVi6XBVPPEQxiw+LHI8le0EHqi4kjxk14mPpLOkPH00BT6zd6g8ioCaVcfnnjxJ4PUPCtyEPI3/l6C+F1481OBNx6EyJzyz/6X1dxzjO1ExdNKD05A7KuGQzR+qLztcGpG2Jti/OjFgmVvrG0E6QtVolE6mszkLDxkyOx4YOemarzUho284ZTFAMHgttjc9QnbRc57wNkMqfmxupBo2wBiGb4vkNjUlk9VffT1FNLIfGFtgyEUzLZP6bW9nOjLO0B1sKK8lMT4MP/6UDAswtKQImUrx5y6elcsmc+25LQX4O2ZRCoAsOmn4A7v9FCwb8OLDJxL4KwWRLYkvgM0rMDgDOtZRkytNKSyr/gpLKzWc1Y8oOvQqGMnpfS0rkCqZ8WUXzKAbKl51QmE7upkpTZAw097zKimcToPDF4z8KBkKAyij3MQoyVxQDz1SgChaizso6EorKN0bYo8mY8gntA81ItVJVyeK9YDAVMTXJg69w8vy60km5+sOLtI2riUD9U5QiNECJcadr79nDUkkwY3Af3/ZgSNb9+VuS2WzIr/NyVTdODQiFQDEOQhzwiHMp+blc8pCIUMhs57ZALogOKhy0eCWXDJErDOsRksQM+V8F2Zf2bMzc3YcBVjXSTSV/me4IPrRNAZ+mumGu0o1TCxcph8/tTWiAT0jxQ8SNuYHPf07dWA2pc4zPp4yoDZq3dnpsqvRNk9RN34fF/c20qzG/a4nFTfJpEoALmsuN08gW4xz/j43QHFP+5ANQzdo7TfUngk6N0Jsm/d4OyM3dN/yORh2/jaEOAAr0c3JNhllMgYSYoc2xIcbtYUMODaesqItz/UCNl7WH1iG/Pc1j57asE8X4zUlebfEyWbANd8XCfHbwNg1/6N97mxQUjZlS2GCphy+Nlk1Sm8CtBs3Ax7LfqKlhzfRnrPvY7EfOLMz9Q2cYa44NNCsqVxPLznCZrNspD6hOX2aMMa7WwQ64GwqCBt5XTrsbt8HCncmO635rQPFeWQ7YrRpM8q06TukVALvykhhPKrG5NMG2Mg8zoLSpqgbIz2Z4nUwuP5vPfkd/4EJurE90UVWpEV7/z1r70fkqGNVPvE1EWvF0qI+6Lgp7d3+4T5XoviIE2kSP2nArJDXITQ/hDVszmeHRz+FmY6eqmNNP7X7r3nMnUM/rmelIfH8Kz+ThICO+4YFP/bvidWgL+U+1qHCrPiNDD9Fn7vuqHkyP4NzYiOtbEw/SmjmFQdtWz9kHmj//ktiP33LzmOOSWM/srnl4N9vYT9Gr8IZ/vdZP/AWDcUCXkw/0LTby4Z2ND9/1U4hx20aP3zxs1e/0yA/7PpiQ8UCLT+osq+vEf0vP+mQXG+SpzM/R2qvsosCRz/yAOzfrNJVPzFqARd4ZFc/hxkrJ1M1Sz/Yv017qRcxPwRstx74Ygc/v18LFuMK4D4rhR4E8Tz2PmNdBCJjVxI/7/tykfKEID9nydcy8N0fPz8rr9YLbxA/GFZ+WpNo8j5C8fQ7sLDYPvpO7pSYFv0+t8RrzSW6Iz/p88eANpNAP62AU6L4iVE/3BqF8GTQWj/YJsIDgTdgP9I/o65quls/87t82ad8Tj/MgppG+QZCP7WRA4Vr2kk/Eswhk+DnUD/FeJduqXFMPzF35uGF0Uo/BrWXPEsFVT+/smSM2LxZP0vInQsc8lE/X8geMA9ZOz9EPY511KAWP3f1FlaUReQ+TpAu9Uedoz5rvx3p+3NUPmIPAvdi8fY9m121qsKkiz06s4765d0RPepcEb40wYg82ZB33SBe8jssdRryli1NO1UwCslhzJg6mdxzM3mL1jlMg/uYUusFOQWvaK1nySY48G2d4lxTOTfkAf2x9BY+NsHOWZhiGzM1q3nvfOHvGTTNSXbp39DyMk4Exiw1ML0xTZIwn72OGTLSKLYpcecmM4d1rzdgdiY0hl4pUWCTFzWIrHI+SXL6NUU+vi+EtM82i1PefHpPlDckfLXfS89LOMU8cHzYWPQ4HrBwQ8nRjzmuNYN575YaOq3/c9zuvpc6dolqCcSpBjsQpVRdqR1nO+XOV2KOMrk7C/NmY4Va/Tto4d28s0UyPHkS4d7BT1g8n4oDVmpJcTw4Lx+WmjWKPNR47CW4fHg8aqbxB9+Gizx5fcQh5k62PDxPX/9i89Y8KWH9c6Vg6Tzoh2Tadf7tPAjRt8lh8eI8qmyBvCiSyTwDPkKO3nGiPARVoKHzb2w8Cn9Eln9tJzxXVf/lbKDUO6NnnLx/aHM73RGdHS6EAzse8eXnMfmEOkgxFPiDFvg5ZvrGqPSQXTkWguSdo2SzONV08mHUMfs3W65WLotkNDcQQMUWiWJgNghz+WU9Ynw1EsCnNPsIizQgePGUsQWOM3AWElZYFoYylz6OJMOCeDHG09/SMa9jMJ0OESF7tEMv+3Ta/pdKFi6QFSv4GdXtLCmoqonmS9EsZk6yAtvVsyxtArJnS0+ILAW5w6Ef108s4r0OGtFIBixsR8z7AKuwK9goQMWwpUorWxAabdHE1ipAnjazBYlVKh3luTzj+PEp8vHVjIsrxSkVW0rwL/eOKYPLoqHZOUgp1VXRrWhB9CjockQQbBmSKBrLIYyjSCEowlbcbY2joSeoyqj38DwTJ8JRKUV7bHYmkXE7vcTuyyX5L/eb1JcSJS/qzfiXkkokprq8SzVohiNvQ87UwD4VI6QdtVFFhqMicZ0GAuopJCICsJlZPzGeIS9LWbLNmtYyqSefiDDEiTNcGpduW2MvNFBkv7mJbsQ04J9Ijn5tTDWc9t666SLFNTt2+1NpzDA2qBSipfCOjDaJCf/t8QPaNkHDrT4llBk3uehpjr7PSzdCSwqAhP5xN7slLcroKpA3MOMKSILHpjfW9cWGufW2N8X6VILYHrw3mOQ/KksxszcWinYL61ecN2jQMciocXY3IxuwIRUDQzd3uCMDAzwBN46aAJ/WPbI2ryFA6rPPgzYcRvjIaGR6Nih9F90yBWU2tlVC/Qr9QTYOey4J63pMNrFE5hOeUsQ2MEQky3myMDe+nq5kKruNN0roMl2aLuk3RMJNxFARdTgQ3pk/6OgDOZUggTlkg4Q51Q1bLFyY9jktOcw7rZxaOjUNKelIMrE6XjTst9KrCzsJ8pVPa5eTO6ieXYIBWRg8LGwlev5ckDxlZh4Nd4T3PKJNG2k3EFI9CBY9zTe1nT1Osq7Td7raPV+I7IyQtxA+4DrVkZguUj6h6Cy6vG+bPp49YrL42Nk+phd2VrZfCj9n7scqzMwsP/nOzHfWz0A/0Our1Fz7RD/0/qS+v/07P8cTgFJQ9SM/oIzTcd6t/j4TaWvDpjrdPmuhMZ94lgM/+kdc0n+ZKj/40VJrevRFP1IqyFPDz1Y/ZQPSOl8JYD+xMhSxMUBhP3kYxQHlD2A/2pYL7hn6WT9cYyvespFPP/BZLdTKvzg/h3bmDsFgHj+eJm0LRy8hP5G/QOyaKjA/ZgKxujzFMj+rEdKV8IIyP+yI6NIY60A/CYmk3dKCTz9oUkJf2UNRP3Rg7EqQikQ/4JhO9wxYKj/cgJt0ld0CP/LIoWRde+g+nBbOayWlBz8M2PNIiEojP9saKOUHVDE//KTtHtq0MD+yWrx9NjshP//MyM2aWwM/cHsL5Jxn6T5EgepTV38HPy/OX7/0FCs/YixO+sTjRD+t6ct+tL1UPwpSBIEwGV0/b8hkNVkGYD87LFail8FZPy5TAXR3Wkw/9PFip5TPRD87IBR8ZGZRP8hOXkzbQlc/bYDCHGSLUz+J3hoDnqVQP0FjoII1+FY/7Mxl9LJgWj+0Pkf13o5RP6PQL/0Xsjk/uoGSn9+FFD+PoRN1s9fhPuyNSuqR16A+fEtv8zU3UT5Qq9SafQLzPcsXcYguoIY9kdS/ViD5DD0Nebj7ke2DPKFMu/Kvae07FjUd71ZERzth/uSn2baTOiDnPL7G4dE5P11hqTNbATkVaYQZOgUiOMJ5FtRtAjQ3hg7OssjBNzZ/3daI5ScuNSfb43e9dRQ0sQdeXz6t7TICuZKLUq+3MY+iCFzDNmQysNyVmB9rbzOBLz64WIhuNNzp3zKeA2A1Zvq2cKT2QTbFA6FoCIkVN7sv6y1Yl9s3oFNQOa7jkjhis3VlEaQ7OQIIR6fonNU5WCY3eYMPYjp46hBCByHgOsxgtGuIyU47qEvzXPlmrzszANq3ch0BPIoLS5Eh8EM8kdbYhYbSeDyziiIf7SShPANaO0eee7c8WInTb8vmwTwddOaWPbPAPJWzGp2JWs48kiWD/vpi9zxaRDzo7AQYPYatqCSNjio9//aTBj1jLz2ucavIt9IjPRerpG5Xwgo9iwnOPUhN4zzJq45jO8KtPJ3pbcwvhGg89cgIN8uVFTwu2BnoXk+0OzuQUn1ZbEQ7y0FfI7nyxTqq51EIMjU5OviGjOg88Z45Y5IySZtM9DhLyMQiZXs8ONT1PTGXZnU3eeTAFpRPoTb88QQ3Xam+NYwK6L3xRs80s/IdKUmt1DNZ5OV7YmTUMsiTq//2nc0xrbfX6HlauzAHoEor79GcL3jWtTd4kXAuSHvJjlf/li3a+TRTlFWILcn7ycoA6GstVaIfzsEZQS2p00fg4WUGLeaQtS0SWr8sSoSHkzhzZywR6wqls74CLF2JnJ34BJArKa5wLnIlDyutcrfzDVi1KoBPy2Qj0IoqsciY7EOeUyqRdJTBYLIOKu186XFxqrkp3D8E/ATvVik8UDZAeOblKEgzXKOqWWYobZo1b2dg2CeRhvrixmk8J0o7brtgspEmfui3J2GP1yXtxjps1fkQJYUDCSD8pFwklx8MJaQf8yOyGzsyw6aBIxbu5GF3kQIjYlmvK2ePfiJcscrGt4NOM3mj+2cpZAE0Fcb8hYovpTRrYZzUzJQ7NQvz3SUBMMM1afwqJD2IPDZmWjZ7C62mNtmQvvEWRgM3HPcx6o+NUTcNyCF1Cj6RN/QKdAdRsMI34P57Md/15zcn12woMB8FOKhboL6IJh04FYmrDJUMLTgDfStNgbcxOD9pdul5Jyg4XOAgy0PUETiL0E8ZzDvsN25LrM106rc3HeuspPCwdTf001wZ3e0nNxXhCY2R8wE3To/tVZvL+DaoPvzd7sHjNlbBWKjb38A2NxmtT5bhvDZvC0UlbkAzN1ZxwJjPoJ83tqF+ZJLh+zdDIogGdDhQOLIUuhdJt8g4O7Qv/i1KVjlIr/BhI/LWOfAZE2opRkk6ks3lIyXBrTrxBLuKXZ6CO5wKY4QxzE87abCpekIDwjuyk9XkjLJDPCmepB76cro8tE9JXIEBIz1wyWS6QDF9PZKRr6jY9sc9G5Mr+60TBT49SXdpl3Q0Pqp3ZWjKpF0+YydHNN4RlD4fs1V8IaLQPnl3zOa3pQA/AwEz2kQGIj8ZnefIlOk0PzHzqrG9+Dk/iTlixLhBMT+TBwrWwogYPyL7yXX+4PI+TVZWFvhU1D7nnnfbonL7PkhrKL1ZcyI/pP4R+Gd+Pz+H7Gnbmx9RP4LSEn5D5Vg/GyFVqPSQWz9rIjbiq6JbP3+Szs0/LFk/dFrgbi/pUD81blOt3zs8P3z7Dv6lzyI/AEFd/BgfKT8Ait6keic5P1euuRPPWD0/qR77dBuQNj+FhCrj9TM5P/wOS3kG2EQ/o1iOxDPtRj9kXiqNT6g7Pw9Dxzv7DCI/k5BbCo+B/T47a2hN4sn1PqmAAoPIAhY/AKlR7LZiMT/GridWVg0/Px0mW7bv6D0/lqRG4F7ZLj+pnVTIO20RP0Q2EpJ4lfg+PzR8IFpxEz9wI4vMWuUxP0g39F0dz0c/rgvUXWWwVT8Ff0uXjS5cP7zeXgoHtVw/1IMp4DzxVT+zCJVPdQ5JPzsGgT95i0c/sTRYr6aIVT+X2d4jJPBcP1mfxUVFX1g/9MxMGDBLUz/Bqf7WHqlXP3x65X1zclk/PcdMOA0eUD/KCFpdAII2P94rrbNaMhE/2E7ImGu23D4DFMRnqCaaPtFMkZcN7kk+3/c+46jr6z1dJTdwHkiAPfdyggZehAQ9LWQnFmbfezzY5twQUF/kO/zgu9HQ/j87raB3qbz1ijpUUKYOMFrIOZWnUIkHkPc4YTQyTj9oGDgBpVjS3A0rN271/tgrCjA27g+C2iZXJDXuXTUgyZQLNCP9ZdAP/uMyRoNFbb9o1jE0nZVljLO3Mq9OcS0ZfLMzIwbLG/rGsTR5gVKRfJOiNQ7ME9oI1YQ2mAfUqVH5WDc9LUxpJv8fOHoLEHfK59U4eMIh+PIGgDk80o/+VxAZOvTxYf2+8aQ69FdEik60IjvWufs7/NmROzGpe3FGNfI7mgQjxQfZQzy3+jmOGh+HPHyVPNclybw8r67kemAm4zzPb+LMUzv7PH69HqSfxQQ9PJPtJ55TAj2ZmgYYabIMPTN1TQS98DQ9JiWHxjJ1VT0CEKakULlnPXrkf58TCmw9G0rhyl61YT1K9FsflOdHPc2VVUQrPiE9B1lC8I2V6jwP8ORIrOalPAuE8YlUSFM8171USLwk8jsl0mWXoz6COzNCo2pvmwM7VKnipCaFdjrIUQAHs6XbOZY+HJSCJTI5GpDCbxWBeTj6hHNHqkWzN0Ni3rH9xN82k3bX30fX/TVIMpFv9cgRNbPKw/KOKh80ITlbwYdlJDO44nmialchMsVETZDNABExUiCZmLxC8i+tWVvwnjjFLoMkBlv2PUsuubGY3cE5PS7Vqy4W/sEgLnkcbIe1ifQtONZPMmzmui1of5w2rdNyLc4YO17mKRwtD4/EyUaDtizwngFq0T5DLJsw6kMGn8MrW4nHn646ditDa+CJ8/5MK8kBbIxuOBUrJbbAJBea0CpgCekVD8N7KgdbeTODzhgqOi8mT1uwpynagv819iwoKW0jU60QXpoorVCGtNW7/icGKaR3YSRTJ7PbBhWMfJkmBj2t27nL0iUW+EX/8d0yJflyxcUobs0kbCdWlJpFWyRCKcCR62TdI+baDbAYAlsjKCr8PP2UwTOqu6//hwp0NO/seebqaRg1IE4xzqPIrzWuRnulbRw2Ng6U/pmOcLA2t2XQLGAhGjfaV9RiWjV2N8s+/sR8OMQ32dnjEn3YAzh3+MxtgXI1ONv8kA+vQVs4L16rh8eVdzh3qHb50t+POK/6K4gOY584TqL1gkUPozjqCCbcavOZOKSH/UvuJYM458lnRLNRXjia/PA+lK4pOJ8RQru6T+c3MxH6LuZFmzc0YCc8oxZ8N3pGar6a43M3a4Ljcr20Xzc/lwAgaA07N1qzZ0RxaCo3EzWeXyEjnzexfERlKJMJODvXzy6LemY4F9ZXzLqWtjjWhyC7TlIbOTeTJQekWKU5gPHHoVvpJToP5R6NMiKYOrYPoUnbaPw6eSG1tNbiUTv+ssA/jiuZO4IivHIBoe87a4c/Nt5Yazzwop302D/iPMjAL6ttOUo9ehAVmrgjpD34wRg0oofwPdxH0w2PAi0+UpEzuIBVWz6gURJxKxZ9PppYCDEI0Jo+7fxc6Yjwxz5A6rUI7kT1Pq30Y1rDBhY/U2RQMua+KD+CSPGtLPEtP/eiDQFeeiM/pNgTnYQ6Cz8L+EnktSLlPsz1RKXh9dM+c3GzJMKA+j5DgleAWD0dP8bqDgVSbDY/hRivHDGPRz+XhnO0cR1RP5NkXqa8rFM/hVMGI+wPVj8kfnJ5btZWP0yrdc8WlFA/i2A7hU/lPD+Wxv6ohjomP+f0YVD2wzI/Fv6oRqVeQz/s57VxxX1GP9611wu9UT4/PGxq1EMqND+DPAgDax85P+nMt+7B5zo/D0SV799XMD+9AygLQyAWP7DEsJyUFPw+IO3QVrRmBT9SZTkH+0UiP4PM9ss99jo/WAheyBnIRz9mKK01btxGP1s7KSOKkzc/nnIujAngGj9JAGpISeIFP9XWG7ktZSA/0FQP+bESOD8wN69On79JPz2aF5FUXlQ/RELFFsYpWD9fmsjj2e1WP376d4Hi91A/iDcKFx6oRT95wZCQefNKP3IMfRV5RFk/QoXcYh2eYD+j8gKPsMxbP6yWJnk0pVQ/oeQeooOpVj9loI6xXO9WPyvzbYJcx0s/JkZ057uKMj/yXl/RSAsLP42Rui7+jNU+Jcm5Qc/Fkj4rjzODE95BPsiT8J9GjuI9VgoDSbz7dD3gH4EPCsb5PMcAsfz3JXE8+qmlMfSo2DvqUJ8mXx4zO+tQXkpi5386qghZUUCavDmXUSpprYTrOIaXvpwQYgw4JYsib01cHzfe7QvDZ4wiNuPNk1fcehc1ZriS6svL/zNi2MX5YQbXMgYerLJYdUAyvjWUJvFiGzM9AWvb+Ff8M+KEdzijHfI0VTNO+Eds4jUOyd5ROKDENk3XkX09uZg3PcR+3PCsXzi5LjuUfq8VObLyzZiDu785JtOzxuzPWDra+FM56rvkOsa1Kp47hGI7h8jTchqs0TtPPMEKegYyPGh8kI0EpoM8qstmaq3jxjyyzo6Hh4z8PH9O8QEh9iI9ZUPn/CH2Oj1vh0ob5oVEPem6u0jewUE95ooVlxCLRz3KTEmVXwRwPfEoP8t0XZA9g3M8H3sXoj06xcbL82GlPVLtxfY7Aps9d4c2sb86gj0ZmK42bkxaPSRk4sHeRSQ9EbOR1Zyz4DyvQ2TA1WiNPO7HJVYerCs8POw0W+HTuzvHdRjx+Oc9O20R9Kk7LbE6dIuD5ZcYFTr/iEEddbtrOXY3pl3XlLM4UvCv8hYR7jfbkPVKzw8aNx8+GBDcGTw2kLzpWjXiVTX3828NvbppNIuPZFezFnQz0GCT2c9PcjJSKkVPeV1iMd7Nvjnl20MwpEsuFmL2HS8tWZPOYuz7LmFKtimm9u0uD3SNSE0u0S4KgUNMcw6lLhvuFbZIlGsukNT+4FtNIy443Y2g7d/MLd81lDDNFGctiNl/AQi+8ywfCazqu891LLvcUFwOFjQsuSqoJEPFCiwAQnclLZjTK4hoaC3eqI4rE2E15n2iOSvqHGgf6ufWKq5q9Fiv32UqtHXhC75S5iklutYi2lhYKaAqXnT5YLwoBzLvquasESg7Smv8IYpXJ/heRmGofpImFNW9dkpTByYs3ZUg91ejJR7JWjscAjIlAheVGGEJtCT1iPOBwNo0JM+kAb6/SzE0Q0FbBAy34zT+j1DINwSINfGeOXA8RB82Cvs0qE/ApTa659APDCwgN+NRwmddtIk3VLlsQlnY5TfRRo4cpuIzOOWNhO42gHM4Hdg3tUUEpTg7wMgg6XzKOA6Vx/1XguY4oAfEYOzH/ThZcn2jOvYMOREv5PaCgRE5zHaf4UTNBzkSQqNvMY7xOCJbvo5Ky8s4Fw6GO+6Klzjvt6GZHmVVOKMgWQNSKQs4kuthfuHo8jfdB+SJnD3rNx5UHFuct9U3w1mwMTiFsjcXVImoi2mWN4FM/9sRfwU4DNPqH4KncTj0+ytO0QHPOC+2KQl9sx05k5fHOsBFcDmClKYKd5LxOcjSYZ4u3XE6dyEoCRes4zoh/FEXSihHO/8I2m81I507q6Fpc6jA4zvWL8iud2skPOQafEstqJA8uAf2tnyCBT2nghfkruNuPXKOiR7KuMc9CRggMTh4Ez6oNQFvcRRRPotroT8rCYA+4uoHO0hWoD4+VcFlKLS0PojswNb7P9A+sAYUBZ+E9D6VrVs0ncISPweA7lr1MCM/hm7yYytZJT/vfiSgQ8AZP4ulrec02QA/j9jNiy7p2j6dEmQkPETgPpy5Zrs8twQ/e3KDgZ4RIT9fo90OgxozP0MwM25SG0A/14hVFL5TRT9NzDazqz5JPwAV0e0GLlA/nzE4GgjIUj++5+zBCcZMP+5ICae44Dk/rlzb6CrqJz+fYPkjLQA5P5OQKSntPEo/0MIqsuRgTj9ZAsIoaGZDP8AjypuK6DE/DNpZk+EiLD+4VyrC8qMrPxuy79yE3SA/zcemyxJ+Cj+PKIGA7hwFP/zsNSJu3hU/mmBYI/P0Kz9gWJ7SJSRCP3deeG7MLk8/Af6qkxjZTT9CHwONocU+PxObdso2xSE/gEkFIHCQET/AGUUDtrkqP27P3DoPqEA//rkTxOgJTD+VwweRl99RP0y/yoSodVI/osY5w9otUD/Lfq0w7t9HP/CGN742eEM/rz02fssRUD+jJOLSRQVdPw6YSUjc/mE/ILh27AI2XT/HiwKDdTFUP/QyZZAyyVM/SSlo/i3vUj8swT0cPSJGP9HdJaQsfiw/TPN/HQD0Az+S0ukFimzOPnsJXa3xTIk+ozGj+vv7Nj4jwu1l+dLWPdwC8o8pxGg9xWWpQbhT7TxMbx2WKeliPM8n+VD1fso7e6RPuRAdJDuFgkPf7IBwOl9lXCIyNa05KJYpgbTR2ziu5fzdUHn8NwyK7NpKRw83SUlC3EprEja8mFDRZT0HNRNALUHdZO8zz0jkFGOxxjJQmjJ1Kq2qMsVuImCZfIMzk4lTbPrTUzQPwjyG03EyNfew/IOGhx82BDsOnghyATfHdpWoNOXUN/wgiKPbxJo426HIzIJTUjmbr6OpFNH6OfNWndvt95Q6xuDgKaaFITu+aDwJ0UufOwEOryOF3g08rQYBXUR3bjwqDmFSzZrAPGo8wboZWQM9tE74lwwVOD2msLNAcQVgPSuM6d0NyHY9K/S4ffdVgT2+KMYkb5N9PQZoefvcuYA97pG8zWbvpD0Mi2dsQk/FPSLlP6wljtc9/JNQWQPX2z3elV7BHpXRPbWhc3ALvLc9/RPklsQekT2bOAoSJWVaPcXGi2fMvhU91PDOEz4lwzwYsXu+xwNiPNUYPlOxHfI7YcSPLLp4cztWiaIu/1/mOsfVtdJdg0s6cMPxsRwoojkznFKSiPzpOACrr2ef0yQ4KVdAXcphVDfShN2Szj58Nnme5/9/vZ01QqW8rhNEtTTYJxSQWQDCM6QBuelr2sAymznV1FYKsTGlo8p+rniSMDnMKmCPrakvQYbh/U9wqC+bf1kYbTmaLxv8mmHfEn4vmDJRNMZtUi+uaKyQOiMYL3Ag75u55NAuF27KuXxFeS79A5SeeDMULsi2F8fKS6EtAjCp7ffCJS2+e97g4kfvLBWGEOqpGcUsBRcpifjjjiz3btoy2SpILEy+ULXdNPQruFSg5jYOkiuwGoSr7z0hK9K8UEGhmKEqJMdwSQcxEyrPLVuamF52KabuCCCA3cson8tfVn2REii8grTnViJRJ21WMHvAltkmmNOmgQO3dSbdeYA2c1YEJmUjCV8AlIcl7IMRbIkgDCWksb5KjQydNGLmRXJXjlA1BRQTVBEr9DWx2XDxr0GKNns7++MSRBI3ZcO8i00pizduhwhK2JX1NyaAr/zhV1I4lHkKMbOxoDhWLYjv6FvgOIoW3S7TlRE50EBDRkD9NTlzCotiXlxSOYdEXkLcxmc540bqN7jSdjnCmFfYlnR7OUu064gCo3I5fhMte9l6WzkPS4/gLsA1Obd3QZpobAI5fwsiWMHFwDhGXJI5Ech3OEZHK8gQ22U417PgCxLaXzhZrXjvnGVJOPJPQ+EnpyU4/wJ44TsZAjgrTl7d/VZpODOF7rWSztQ4qnloq3JEMjmiIApLgD6BOR2JBWubbsc5f3MgVhZEOTrXHnmRMOC4OgU/hM3FYCs73O1UCy0dkDuYv3lKxkXkO5iPAHYgTCs8fDxJREMtZTw1em60+9OzPILZaxQAtSU9lPdxgb8Pjz302qv2NdrnPeI9W7OekzM+dN1P1zUscT5l0zVabxygPqqmgYIFRsA+nwX7nODi0j6S2aEw25fjPg3FO1PpTQE/o84Cw/j3Gz8SanJ88DsqP+qhEZHgsio/Rrwf7d1NHT+yMav7D2UBP6fQzoNRkNw+4RO/+UYm7z6ZIu3nxVsTP3Sr2ae2hSs/nOLI3ossNz8/s5FqvbA6P6LwldWaVTo/S+njTaWrPT+mPWHA0IlFP4Xggxs3XEs/cH7Vq7i2RT+wgUbBWxM0P7eH5yLSFCc/zxWKUTfGPD+3udnv6oJOP5YS+E14pFE/yH3ymYkSRj/GQzUcYMswPyGcZ7728R4/U+h7qgnqGD++ItlxfBwPP+nO8EjQsAQ/DVRIzuPcFD+ppHjNtuwlPxjBrLa6gjQ/3armbBOJRT9RtP6/lo5RPyxayqayp1A/JeW3i8coQT90ZKu+CzMkP23B+AUICxk/ptR4qkLoMz83Up2xv6VGP8G9H7zKkU8/kmXKIKcdTz9zCHC9gdpJP+K4w2KFOkQ/4o7e4BeLPz/TxF8UHl1DPwj1//1zzlM/N4KgrmaPYD83eH1yw6piPzK1lgmTbVw/8FaYHf3wUT8tg5GrS/ZOP3apH2CEBEw/xXUFdf/jPz8r3dSu7AEkP6p1cBy8Mfs+IHSk1goExD7HXHiRg/t/PhdrIGv/zSs+vMxm5atcyj1FOt7YHk1bPR22ZYzn59487+DnbMMdUzy/SPqMfs+5O1hmeS8A+xI7cHdzb6hVXjpv1JGny0WaOehQlvqnmcg4GuidLYTY6DfaSx6CmwP7Nhh+bg1pkf81lUUnLGHM8zSKrgnbIqHaM6RQ+o7IV7MyHZlzQjFpFDO8sm23xq7pM/i/1810rrU0ZGWNlbCcfTVJyz/gp75YNisBknOyTzk3U8GzIXspDjiNC4VBD1DTODff7/4jcYo5WXA6NZZYMzoRdzkWA0HOOnop5OkGSFk7DUIngNeT1jsKRu+7T4xFPF6/u2+B+qU8LlVH1kYB+Dw5evRZzeg7PUYw2ZqZX3E9ZAZ4cI4dlz0GdS2jS2+wPXvXLdrxALk9WJEgnwAYtT1hwHM1d5y0PZq8s3eyYtc9Bg5A8y2w9z0O6QeVPS4KPvrshcNS8Q4+Ngk3x8WKAz4vurtuOWHqPQIIuns7B8M9Tm15Pz5WjT0aEyolPytIPc816VuOR/U8pWS4Y/YFlDyrxRcbOSMkPHnGJYegpqU7I92OS3bnGDvhNXSLDrp+OlR6lbQXgtQ5wNpNZxlyHjmU9jCJ2iFbOBGG/WStwZA327SMN/uDvzYOozxUB5TkNU0FHoibJwA1tsBDw3w5DDQSIQjQSa4KMzRNSgcGDvsxdzBX1otj3TAOGeVViDNSMMiF3fpFQlIwIFQ78MuXQzDnTs9rDXgmMObESNySifsv43Mro64Iwi8XbJmxQT55L4v1sQSL4SIvVuU4+5gvvi5u+uO3QeRJLpLtL7zK2tMtY15nMKTnpC1iJH81L2V8LepfzLA3yUQtgh9IZRZDAC1WcDhPkjGrLGdupiGDTEgsemk82TY01yu4Z9fARK5XKyWoKr3i08kqpgbJI8YaLirT/2uSHsCCKYWkORM7Cskoi3XPwJJsEChBLEyJ5U+oJ0wiuq4d0UQnkkHWLjmn0ybA4PJSqAJYJqvxy374iuAljhc3PBDTBDWKJZWItLy3NYKdhd2G6lw2/g07D5jS8ja3q7iISjB6N0OG7g6bePM3FiCVVX3yXjgSMLNHMEy6OHInjHu47Qc5w0bIQ4puRznjgHG9oSB5OXCRBSLmL58531ChUuOZuTnQb3wGxzjQOT/LM3abuN45SE1sYcNh4jlrne9NROrYOepF63k0XMI5fl9MEZkPnTlNKXmLhJ1oOWvh2MAFeCY5J5sc+bBo4jg7cLnhbqXVOPPLOU5yy884vxeJj41auTjo553sBZ2VOJqB1KqR+Ws4AXhLnvSAyTgHfIR9Eu80OeZGDWafYJI5YdUO5spF4TnyrmvgbSQjOo6IJzPeo4A6n7KR042c/TrGhG1AdkNwO+MzaT/WJNM7IGDba3YVKDzBdjQx9jFwPM2EI93Tmqc8Zn3DDlmn3zy1OIEq8AFDPUttcDkNrKo9XGyJRlV5BD6KKNRsvs1QPuueVETZeo0+z8mjglSmuz7b0aImuNbbPqs/iVrpPe8+MTh1Dsws+j4Qc79j1CMRP7z++dLfTSk/q5mtnanwNj/dqdY0KaE2P05ZdKYf9ic/ePVHHt1FCz/OtF4UOT/mPq07crpOjPs+CW83XWP1ID90olb8ZhU3P2GdtO5bTEE/ZXca73huPj+ln8wUgoIzP/NWnXsnxjA/tmeZQ/+9OT/n6JlbQ2VBP08/PSewPzw/ZbdSrNboKj/BTrIrptkjPyTg0C2DZzw/lEHVepNSTj+q8sVbx4ZRPxmyPty3wUU/F597VD5lLj/E+EaHqOkRP3pUsc+LLwQ/iSMGKsko/T4Tv195zDAKP98X94q9TiQ/XoJvurxxND8k6+8xfp49P4xv2K/aNEc/+DO5vvQYUT/DyFr+nthPP8aNAMr1ZEA/rsLqJazbIz+13bfE8GgfP5sBno2DJzo/0Xa3K6l+TD86QRcZa8FRP1FePpyYDUw/YCvCyvKHQT+SH7unt+82P6/e65NaFjU/euMASkkORT8xWWrlox1YPzlDHobVkGI/NfVndWinYj+U0lOGTb1ZPxtEPdE16kw/tePetlt9RT+2ioou3UJCP/Vb55PQWTQ/5vSB/wQdGT943GkVRLzwPsgN+SzcC7g+FP1sI6encj51XvMgPFQfPtIH39UsjLw9CRkNj/ZMTD39YsWoh5fOPFN6wh0KD0I89UWjtgdOpzsXX3CzDW8AO94AifzzTEk6ImpYVEQ4hTl82CyaaVizOIkPlmB7H9M34j3Aftdy5DYUF75V15vnNffrLo/+ZN00mvp3aZS7wzM6y7wJwzbAMkjS1MVKEYAz8IsnuUo6TjRL+uy6M6kXNQ3BTwSFtdY1ncEzJo8MmDbOsNLZhC5wN8AgqeoBoEI4QauWy0fLBznGu6uZ8EjAOdS5h8YX1Gc6JJo6XLahAjviQ7pYfCOPO2WFO5ftzgs8MkmGb1eKejzWFEHsEBLbPAW77KTtgy09Mw9AnhAwcT0tiauh/GWlPVyj7LWLeMw9cTmguQg+5D3X9vlg1MnuPVIwDYYywOk93KO0tpwL5j1OoYarHFUGPq+csFPTeiY+RXSILBzXOD7VFS3HvFs9Pv524SufijI+ypLWKnMHGT5uMJit0g3yPd0Ah8i71bs9wXyBGYTudj1YNkrfzzAkPatVQCULAMM8zB7I3godUzy0P6V7MpHUO2qrwomiuUc7XBJdlJGNrTqMxJ+nCVkEOhPln2lokFA5uiHJfCJHkjjbGdLbT6LON0RVI2JHNQI3YkmhGPh4Kjaw2vtbGZFFNeAtcpiqDlM0ukj8Lp8TUjPVs1q4OVlCMm9opTR6dCUxPt9Ka0oy9zAygYt7bkr3MJKqRM0S/ugwUsa85TqpzDCPJFwGKpChMM4uMRr4AGcwzXwQ7ZMZIDCWrIwhmBXILzasldGyQGMvRAZOPDqR8C7cR7xAV8uALt6bOEW07FcuwSDCaHhPMC4HiPdwOuH3LTOT4v64rrIt6WuY3rs9Xy10RjMGYOr7LOXV44NbqIosOKbLEZQ0CyypCjQuAKx9K0isNzXtSuEqRX4SebCKNSoXPkfJAO98KS18twvTb9Eok93Pq1fScyjZicd08woRKL8wnYpeQ6AnYtZuNFw3JSfoxPgiZe+wJlK862LWfGk1DIqK5nINHTZeeVA3FLLBNhw88uebCVc3XqCqM8cG4DeJJH6lw9RXONUqNo0u8MI4J5D8LJAXIDmSt4xKhkdtOW4lECEZp6w5qyStrCqo3jltIyCAPOQCOkTC5P41gh46fKPM51zqMjq8rlwZrahBOvEE19HnA0U6TheMN3RvPDoJiaElpfEkOnwRGh2vkgA69jXDUl0TzDnodSm8kLqJOdfaZ/GLS0k554o/kEhZQjlT4cVLDRg7OW+Jkv5ImyU5H2jUyvhqAjlImvn0+1XUOCkLIv6N6yU5XzPxlbr6kTnPGbfTGpHvOVvTbL5/oT0632qGGjOifjoGxkmAUHvGOpIgT6BVOz47HpEUX/R+sDsxTts5TGoTPIh6IdnObGg8va56bo9rsDy+gjnfBqjnPItNzDvdoxQ9L+2a/VPmXj2BIsnW3pXDPSTmLWlkAR4+ElkkhSOgaD4/Rq9H3ZmlPu76Sfr0QdQ+DRtw0FRd9D4SApNu9XYGP6FOxKLWeBA/lm5fAsgpID+4BiCnhmQ1P2ShunWv9kI/41VfCkuGQj/UE4onpXIzP8/ThUxw7BU/D+Bdwa6H8T7y+8cB9iMFPxJioXJL6yk/hINBVxtzQT+NyqXgRk5JP5dnPxbEIkQ/hOMSa9hTMz/3PuPR+jUkPzlVMWKggCs/V5l3yiolMz/ozxtyCYsvP5xEubXsMR8/KJ2c9gs8Hj/viEa7N/83PztngZtdu0k/3x5B7U6+TT9XV6KfH2hCPy7iiZBP1yg/rb38LEwuBj90SYzwHqHvPpH4qakDNvM+Q5VTzhtBFD+Nqrcvu3wxP0LPD9qhDkE/FB/d+TbcRD/gHc9iLqBHPwaoiZQuPE0//qrnAYJHSj++0XDFdSI7P0i3ybwcPCE/8clSCnZDIT8tXrKbdMQ9P34erYey0k8/p51yvl3DUj9A1hk7wsJJP3PA+SfGczg/+EnwAJboKD9jcTgVcRUvP/jOikbrG0c/roQ6CIaWWz9i8GuEjt5jP0QmkbCs3GE/fHBz05rKVT9GebVz+DVFP37GZqwYYjo/zZfK42q+ND+JWAcE36smP/Uqmk9+rQs/x0tgo9w54j5EvOzgCMypPrrhBxaVomM+icgLU7kZED7wqwQSWIGsPSuSZuaNTjs9uHpy+adhvDxG9w8wTAswPE2wTrF8x5M7k4mCuZOj6jrDytfuo58zOtr6xNH0pm85fm+dtDT4mzhNx6bxASK7NycSDk1+Cs02n/x6MlZW0TVhtD5Hy47HNLu6xrWrvbIzij2XzqI2LzOTK7aoqs7rM3ljDmWbkbA0LisZNkfWdjX4RjXq10Y0NlCNy5sk/uY26rkqOFdopTdRlgWxz+tzOKgVm2o5Djk5qWIhMV0g8TmiDj7+LQ6ZOrtj94gblzM7tX1qKsNewDsEt4LhFz09PLmqQZnO56s8mApePIN2DD3x9ucurgZfPVgFI+ViEqI9ptIjj8J/1j1KYgCid+/9Pan8+saWSBU+i+Lya88uID670/NDtOMaPiSEUjM9eRQ+J6n6rWw9Mj5D4GfsUDZSPo30In+XHmQ+FFeYDF3HZz49uFFqCwlePuvv3Ny2RUQ+m8wxUuk+HT7oXwGPi4vmPcFVVfj4kqI9zyKwXeNaUD01SmB8vcnuPI56sV9u/n48V2C0Q0G3ADxTvfJqSnBzO5Up68GJ3Ng6WYe8npWKMjqoaGtvG1SCOarCkwIdVMs41FCHPYZ5DTh0a6kwXs5DN4AYM1XQE242acBn9sXWiDXnI7maxAmWNCAEe6Tl7ZQzlQjnHHZAhTLy12WLc1OQMQEE6VQuQpkx6ODlqJBcmTFoMvHc8DaLMbsBNZ6ZNW8xWsdar+0fQzHtV0kpkgwJMSCeNWwJiMEwXrbT9so5ajDHLFfHG/cEMMy9mndYJZIvuk49c/djKi824sAr0GkHL+oorwrM/d8umrvXIFdrpy4ngkAcflJiLvrAQ22Bow4ufWrQfJBgqy2ZWSCvwSQ6LRoWYQJGrrospuMb+oQZLSzJuv8Ij/WQKxok0++sIOUqeGSdgUbXLCpJuODGH7iTKZifL+e8pDspmi78bdPV1ygTH5MTbBJnKLpEdIhZT/AnfBDz2iMZfic5JDTaP6HKNUt/lkPCWn42f0SYKBh9IjdYrAqM6BG4N94R/WijvkA4Mn9iQCPmuDgXfggjXMkjOVwM0l/lz4A5/N6xapKVzjlFQbuyUOkNOteFljih7z86pDCiHqmMYzrSfKwyhxJ/Ol8L045h2ZI6Nku2xM1WoTpVHtQQa4OkOoHMfkaDtJs6o6w1MS9lhDrJu9Ha7CJgOp6Uz0Q7Vis6mPx3yQMz6TlSdL9pF+KuOQdq2Cv6mao5Ikx9G7a1ozl0bPmn7W+POQfbN3D8y2o5cjzqyNoEOzmMtLazKRiAOVGeduU9Xeo5x3GyStkkRzo+0QVtXbeVOoA7YcQu+dU6Ay10kq7zETvLiPoc+cJ6O13CFmj3kuw76MANrxbPUDwFgYsgZSWlPOsVquYzbuw8yGHvK0pvJD0BUR8KqhNQPZSRwcQD3309FhE262jK2D1i9mrT3sUyPpr7EsKnzn4+qtIjLQcGuz5muJZcoFfpPp/8uo1xdQk/Ws5/G9TVGz9Ni2EnjswiP0o2lI2HOiw/R0LQjIwEQD+wtwnBrHRLPxNsFc9nj0o/prQo7t3BOz/Xonln7DAfPxKqz38PbPg+NCZJ9FrXCz85iwNU8QUxP/QgiAJj3UY/VAhFFAVyUD8ocZfovnRJP7i1Z0FI3TU/1FHf+MECHT95yztebY8aP65HHWa8KCI/4kd935QrHj9y0eWrRGIPP/v39fJXQBQ/ET+t/YhVMT/1w0LEcqRCP1c7uql5jEU/ZanKcR6kOj9pOj9XebwhP/pNkqxVpfs+SbO8Savr2z7a+J4+DdLzPpSJLRaBdx0/ajTrgi3zOT+QSpC2IuJIPyMkTDeNpEs/7NbqBR+RRz+Ezwuu9ahGP1dxAQC1OkM/wWyiei5aND8C8Pq/9VscP+4HumCJwCA/kLrVHZQgPT/aHG4Aet5OP+B9nVeUwVE/kmckyv+vRj/kp3HYl8QxP6Ia/09P/hs/ox6koGVkKT8nXmWzzcBHP+0uYk6NpFw/CLyv+060Yz+D+ubNpStgP9Visx9rV1E/vt01yficPD+yNyXc4MUsP9jSVgnAbCQ/cO5FyjbYFT+zmJJk7Xf6PuUKkhX6TtE+hpNn0NZImD7eaIyBaEZSPhYu54oxif09QJqFxPOqmT1DkXJZ9wgoPSJ/rI4OUKg8CitFE4SpGjzt4q4IzN1/O4IMYJLI79Q6/EXOBTa3HjqFhvQ6C9ZZOeZyeFE874k49Nmgq6EwsDeOeccuLITJNmOvfpL4udg1WMzn43Yg3DSwfFiragrSM/jksGCxQaEzM3wkQmqNWTRfYrQuYnESNTGY92NJedM1r7TIaIZnkDb9MZ/+VBdAN9YtQ6OGq+c3VhiGWz3vozjC/eFd3q5mOWdglRGUxh46uS3uJlJ+xjqGqlT+nZVhO1IRZgMRY+07zzSd3GE+ajxAzfbACQzZPBbugp0fjDk91XT7rR3Ziz1Y9kq3fjjQPeIhSEbJMQQ+Xx6UUYfeKj69QYc4iBpDPnE+hUXuC00+tskx/e0BSD4bzFiyooFAPocj9w7aflk+qZXRhmMxeT7Tecs2gdKLPvv2VhjscJA+8rLhkVzEhD4FhbS6kQhsPnPFpQOoOEQ+YZ4/4V4tDz6OwRC49q/JPTSQc3tqn3Y9e6FF5HlOFT2ej1H3MH6lPFDLJrWfVyc8K0bGx3/CmzuwzTIytAQDO4SCAoPx5GA61OWw6BVjtjmh0CNf+NQFOaQYBINYEUs4PHG0MgwkgzdQ3CqE/YmtNti6uEE8g8g1vPYjS6LH1TQoXUlYW7HUM5wCX46ABcUyeym2abAUKTKtS+BTsHo3MlXkzko3kzcydq4fAi1MKTI9v2sAzAINMldghLIMx+ExhFX/VttIpzFKzLUB5EtgMcqys8PcYAgxyMUxjVp9ozCLIFaVXAsxMGV2PnGtDNMvGWsbYA2Usy/u0XOYaciKL5ByiYBFm1Mvi5mo3betDi+CcMAXjKa5Lsxv8cyJ61YuEQFUOSXj5S2lkAYgRlZmLe1bqC+0XNgsE/kvoHhlPCybJtOK6LCRK7GiWPYOQdkqUxatVM2PVSpit8bImHcAKvXlAQtMepwpVTqUZ+QXLCktHp/0YN21KHA45yV6J0co8E7dK2fAJzby8Num2RLbNpPcE3CDfYA3FrwTHuR3FTgisK/Bnd6dOOYocPcnNRY5iSHtxsmlgTkomCSn7/zdOVN0imjBRSs6PbsUoEKoajr9auhdzWecOi0KUgCTR8E6Ab6rr8sL2zqfmEdTWQ3wOqV14sE1Ff061Gf0GaQYATu3B96iZwv3Oo3o2F1n9OA6KfWOOwrTujr/RzACGLmGOpoW2CgsIUU6IyC0zgi4EDoVdvKGA3sQOr4GqOjjegg61leQxP6F8zkwNAksLqTQOfRIH5Ny8585bjI42R401DnWiK8DPYBAOpJXzgWC+Jw6BAavwTku6zrSp7M0Y1MrO57K/7Bf7GA7V7n/0lBAtTsQWCvvZCUlPLTA/oWc2Ig8/4ncuqBB3zwpKkc++QIlPcHxAvRiMV49lWW4cOtIhz0zHuwdHY+nPeiorn/kLuw9fnRIYcwSRD4R01NKXXOQPkkGIY0y3Mw+sHnhStAQ+z7O+fJ1uy8bP8Qkk2+Qmy0/fWMr0BYZMz/aF8DHXhM3P3fY7F+hb0U/anrI2cxPUT97zJjSF3BQP9aJ208kDEE/4ZX0k5MVIz+BbLEYIk39Pu/OHVA3gg8/6wYMd007Mz+bzznDktRJP2dKIXiYjVI/A+G4ZFqJTD9fW/ZXy7g3P5n76yOYeBg/k76YYtw3CD/OVksyUK0NP6m0wv4Xswg/NmxfP+qK+z7oWEOj8rIHP7PWrvdhZiU/28H0XWkPNz9RicdT8qc6P6MgHHZ+eDA/Zv1DHUXRFT+o3aMdDxPwPhhuPsxMG9A+6O798JgZ9z4NkOL+4akiP4NwLXfhe0A/YUeFInxZTz83FKnEVJRQP2WvNPv4PUc/w7EUhnb6QD8Or0v5QVs7P19M5rNdGTA/wQM/f8ujGj/vXsXMqq4dP3WNe8jVdTg/W/7JdszAST885veeAVBNP5UZdl5nIEI/LPYnbLOYKT+veC5KevwQP7pQr5TFKiU/m6em9nzxRT9AwWEktXlaP2EOf+rhtGE/OB1f0L86Wz9Q+fTNYQxKP2Z2mT5EFDI/+w76r2NOHD8DVouaCW4RPwKf7DleHQI/feIHNWfP5T6GZGfqB2m8PgIZBXLU1oM+HecNo22xPT5nzlJ94dfnPRE+3DsOmoQ9iHEPJp9EEz1LmLxgz8GTPEitAcn50AY8eBAdAs0tbzuwPcE/OufKOhDCWP3Wcx46I/hOrB3/ZTm3KBPcEgOjOCGi9ID1odI38Z0y4lwV9DYgYFbpIHYHNrshBfm9gQ01nwBb8NfrAzRs66P8tKQQNIWXhOVqusY0ylqYPWB6djWqT3zd/6AuNpJXZSuGFOc205JJstDUlTeNfGJM0uM3OAlwi3PrQdo4TzRfy5ZPkjm3T0JnZbNHOiH31lbPP/E62UTjlcTzijs8drRbk4QWPMA3SlfJG5Q88FwEPAIxAz1xsbWuI5NjPai80g1qVrU90Y3fhmzb+D1/7x7JZfIuPm/TQYGFllQ+7OTbi6BGbT5UQpf8LUF2PmSKB5ctUnI+1Wlihe4WZz693OQx1YN+PlSQEGCiwJ0+shhQ4gJssD4zSGrMhWizPlVeg7PYg6g+Yug0v+yLkD5VUAAxGt9nPhfX9NFQZzI+JGNCs8BU7j0EHGH6CrqaPe98OmBHNzk9V4QchaGVyTygoEux8lFMPMfGaoo53sE72YU+P2ufLDstHFc0W9mQOo6vnZHOnO05Do0DwX/lQDkASdxFQjyGOMbNxdO9BsA3FO6VQBPg6DYPBkB1gq0ENv6CsiXEYRI1WoW4N6t3ETR3sChFohgCMw7pl3Am1cMyiKMkSaCh0jIWedLUFrXSMlhrcV0AE8Qyv4vSlVcFpzLsiEAfvDZ8MniiU1gVekIyEkKCyv3c+TFW4m0jR1ijMRyhaa4+7z4x2ZAI7zOOyzA7c0f1C9B4MGLBfiZL91swRVukyRskMzDizYyWUwb8LyTCvFvh7LUvGP0aqPdUYi9wbMGpZmEAL5n8e/XjSI8u2lJtO3PtDy5Dv0lQPGmBLU/tN2BXS+Qs4Xf31qJMOSxD4Astvk2EK5iOYRtnPRUrzi6pWvLAwCpd6LNzABNdKq3bsnJpaO0pXceEp4GYeSngDAuMoMIOKfl/j26OFYI2VWAuRROdNDch0Vq5bRzZN/sbjJmCWHA4cwTb+Qq+9jixH8CumOhwOU/oCo1639o5hzJzWszUNjqFEI6Cu8KEOieyyKsUSMQ6nBQBhF6S9TrW3fosJRcaOywAITloHjQ7wUCIvKpdRzsXpOYHN9VUO2E15FfHVFg7xaG+VyNdUDuXBxsVcRA4O1CJPfFzCBM7XaFrbekf4Domcza4c2CeOqs5ng1i9m86vebBBCpycToWX0bUm/RpOsVNXkBVs1Q6e6rcaP+kMTr7QSg/UoIAOhVMk2vetSU6MHSfwfChkTpMBhbQHvXuOp8l2qspCz07GgjYQZskfTt3tBpZb1WwOz0VoyYfjvA7ankpjXbNWjxKA2iOelq/PLQvJZdAuBM9Hl1jbTSDWj1IX7BpIQyTPWzoojCYRb093hMQCIMI2T1oSuH0UCgBPjN7kJclbVI+Iaeq2rP/nT7Ic4NRuE/aPinfbRB6rQg/9R8KKU7LKD8FxYny0vs6Pxkii/MIDEE/7GroKCPHQT+BWvHr+m5KP34/QjkAVFM/k/SOReWrUT+Nm3cB9QZCPw3lrz3PBiQ/uQkNR3g3/j6s5RxSo/oOP4Vw3T7P5zI/VCcOQotvST+yMsgieUxSPwlbacAcKkw/B8rBvNhDNz84xdPByrUVP7VdhJkh/PY+F5atO6IK9T5qJlS4z0/xPp/yf9HGN+U+UGyoCw0V+D4wYBwij5EWP5bwfSzkWSg/N+HJXykmLD8pK9Mx8mMhPxkJLXma/QY/QkwpK1ai4D54YOTUNi7HPvgYZY5Xpfg+6k7uG4JCJD/fWK05huVBP5f6GNzB81A/ptytEOGGUT/WqzBzcipGP/KCMQjdRDs/8qjB/X5qNz9dAT1gw1QxPx9/nMdXQSE/19Kpoys5Gj9WVnb317MxP2bDp5RWZ0I/3Vn6Yn3YRD/jvBmGFm05P6QWvbXFIiE/bnk2Z5GIBT9avXDxS6QgPzL0Ov936kE/TjJc6B+XVT/SL8PGW3VcP8d2tZldD1U/4Zzl86yZQj8Uqry7KUUmPzqZ5D+/Ywo/rlJg7kQd+j5/Q0fL5drpPtkEMlnm684+/OEsvicmpD6RcPqQFkpsPmVTfUTogSU+SWjVE6b/0T0yC1ugIitxPQ8gJiXG0wM9S8YMDl2ejTx0Pvs/LxwNPCSKTc2b54E7Hcn0omPH6TpjjIKGvMBEOk6EysRTQZI58+Yg8fBc0Tigc02rwsUBOIH3ha17iCM3aS1MB/AFNzZIdVP9ihQ9Ned/frLmwzM017F7Tq60ezQJDYkgL0AyNaIHxJu9Y901zYhYp94jiDYmN5qLXIU8N2T7hhcp4Ok3QncoEQe/ijgLFn2d+gshOfPF+j/eBsA5YarVNPvebzop65gn06UWO0NDkxSJpLE7awNbhYp2PTxizYaOiE66PKk0OqMjGyk9R4wuknObiT3+nGRgy+nbPfL8u5JBQiA+z8QaywM+VD5V8inf++56PgW6MftxJpM+JYO+pB4dnT4U475pXOWXPqnDh28C/Ys+6yVhSoJMnz7igMvLyv+9Pkmt4aGLjNA+vnHE++mO0z5PfdgfZrTIPv1Vto/KrLA+jFno5d0OiD4VGZEA5IxSPrlyfqNslg4+C20SYWn+uj2KwurNOJhZPaLDuBG4ZOo8cg+8ZsK9bjyjIGScOUfmO2CIcZ1SUFc709KwSEZmwjq7aw95vkYjOhl3WyAclHc5o5eVwIu8vzj3BFQVBQj3Nz+VmdAU6SE37KMNQHLLPTYUF3Xf/n1KNbIww257LUk078V/X5MwTDMINaMVEt5aM1KvWgTePWkzh+OuYjxYaTNLbjWdSzJbM02JYc1FMD8z11Gc9KkcEzPcSvOKSwjZMttL2lULhZEy7/A901Q1OjJ4PcOdk/XUMZOC8/FQSGMxPXQJwLKjHDEC31PjNw4BMdOqhe8AW9cwZMOzhvwYoTAaFpMRusBaMOiraGBEXgYw52cBurT8oy/KYdVSJRYzL0LY5MKKerMuEFRZwaE+JS4/QyR/ScOILeRSQ6fS6d4sY30DXYxNMCymI7dbOjvSK+HWvAvWG30rShNznZZfGSsSg3SWS4SqKjybzUXnLToqflUh1/+Z0SnJzvKrHYLXNslQ9KnWy4o3EUmv3EFSMDhF8MGYkj/FOOc4rZc+kE05hBdWPtr6xTkncfw3W3cxOo96L9JsrY06kb01wHP72jqdC0TTslgaO+OV/71f+Us7RyS+VLTScDs8QuiVPpSJO5Phxpx5EZ07gIbqBG1+qTvZ9Gpp/pCtOza/TEoJ16M7q+O8izkojTsyxZtIlA5nO/7QIHuGiTM72IUQPT7B8jpFkbpVwNDKOlB0AXcijM868LL8DiJ+xzqF8/RTkLyyOuBNoube8I86+Zw3I2J+XToNqPDXGAZ0OtDR4u+hFeA6Ild790s9PDt9cFdxSn6KO8bv0p+okco7CD+uO07b/Dulc2jHV1EtPOo2mTVDT408JNDYTQHk8DwDkhOFvj1FPT/GHiDUjow91VKEPECExD13W+nESILvPVFq7l8kDQo+WWe9ORntHz7Ka3SmtMRdPrpWslobXac+Yy4tUVZ65D7J4OH0eDUTP60Gem+WTzM/1WYbOw0NRT/ifZR8IIJKP0jhEfXYo0k/UW5cnGk8Tz8EWt78AMFTPxH7ceVPzlA/eufEwEKOQD+VAjsGdRYiPwc6HwKe9fo++1vj6iFMCz9lpt2EFbswPx7YdDVKoEY/FxKVfkpfUD+H8F+6MmBJP1U1U0zkITU/NoOIcblWEz9YbB80iJHqPnZb515R6do+mcb3nXbW1D7MPMqGgeLMPgLoZZ2UJeU+9wgkfMJTBD/U3z90mvMVPyfpCQQ2YBk/D+2oOzFaDz/0OeKrp7X0PiaF2SvDBc4+zqJLH02rwT4TTq3p7cX2PjrGOQcmyiI/e/BYW3SYQD8uCUbYe2NPPwSVSIj5F1A/DVLH3dDbQz9N8XMGPr45P7LYKT77+zs/4DSLQG5hOT81i9YByI4rP27tkt0CVBo/+9af3q90Jj+KEDVL0YE2P/GQJxnTaDk/aj/BTy3TLj88SNdijYIUP3vFpwADwfs+i+BcUY44GD+mEwzypOU5P22gJKrnFE8/U75N39VxVD9toey5UyFOP5SJgYx2RTo/9wyiXBD1HT9LKyyImiH8PndddP8N2eI+FOr0ID9o0D6fGzU6576zPnJqxEmyZIs+qZl3b5QoVj4SA204CywWPinEYzWB28w96sZmMcM3eD2mTjHj5rwYPUI68MYcCq08RC3fCGfpMjwAjVF2atyqO7v4oaLpohQ7+98gyxMWcTri0zGZT26+OSyv7V3+G/04liwJ6ELiLThSksOaY3NQNz6jO7edaWM24kEXoVyKaDVTsHYz8tBhNKXzkYee6+M0xLugkNCYmTWZx268GdNCNuQy0wcNtuQ2zG/51e8ckDdAGkXrC386OI254Hniz9o4FyitAz1IbjndR4V9fZL4OXbEfkQ1u5Q6MEDizpO7OTsZ92H5jMPTO2ELrlm1dmA8uaK9ey9i3Ty6jW2AxwlMPbRgtpbPmKw91EOndwQs/z1yda09NChCPrc8fDkfm3Y+fbTS818Unj6zFwVcbGO1Ptnb629JQsA+6IQKZqyhuj5CYI/qOVytPgNesnwrirs+z7m4S3bT2T4SQQoiM3nsPuJl7HVK0/A+n6ZB7dJA5T5PAkTPQbHMPnj4wHaTs6Q+VcP1aEXwbz4cdiWcBV4qPkAg65qeXtc97M1jMut3dj0OlYduozQIPVgVHySC2488Q5ZGCHyrDTxQmBFOuPaEOxD3q72sGvQ67r/Qm83TVjod3FFU+6ysOQjEqw7HdPM4gkVUPbhOLDj+FXibngdWN5lyFzgWVHI2xa1NfcFMgDXqcGYUOv9+NFBsUJsCDNIzMDjoPKoS7zPT5wqjWTH9M2SZVbDYT/0z1PyaaBx07zP/y/ScBwnSM6wgdpGEGqYzINRrdmTzbDNYTarZF0MkMyA+4jaRT84y3fW7l74/aDLSETb1xJX3MXDZW5uN4rwxO9P18P/CoTF8Z++U0VN4MWuZkakjz0ExBh45a77d+zCPJMJdkkynMOO97aCk0UQwxBiI53zh0y8UEFTvD0pUL0e7R3H3IMYucuuymzPLKS7Nj0VJHyqALcZASQMrl9wsuFcvIuTqiiwHExpyppc1LK7MqTDu79Irq1wLA7KkZCugCnrp/WH3KsF/7+qNUZEq/GIS4k8WKje1pY46WbzdNwe18dyYHII49SAEEEWUFzn/6zg4OGegORTviLgRZBg6kyUtbcZhgzqkDlgLNHfgOhYG14fK7y07EHmCosE3bTszZDfkB/meO/96e0Zyh8I734Ad95/K2zvO09ipG+juOycsjKAepvo7oO1O1U6t/jsjsCZXJYn0Owxn5GyRKN472lTSkxzYtzuF9wBuyjWEO6QIMuzi8UM7a62xc0igIztX5VvZpFsoO4AV9eziJiI7y+dtN0z0DDvRy9ZM/a3oOm00efbforY6BSYiDivdvzq1+j5H5gwpOxcqqzqA/YU779esLGah1DuzfdQNma8UPEaNQ3cSQUY8X5YXbtVdbzwC1/1dnlG8PCuzhU0kFx89a0Xz3CuIcz37bugIbUK6PaM1XpiE3fI9VSa3AC34HD7MRTg/js03PsgfnJeUYUY+asqBhkbHZz7c/mRGdSuvPouP/sicNus+2CQPlr+HGT+KifVycbA5P8S8nrkNG0w/pv2iL8ncUT9e/79/wAVRPzq1z4eeK1I/2yYfK2JhUz8I8bGwNUVNPxFpPkFe7Do/NkTlATBlHD+qpxCjMDP1Pnv/A8fLLgc/TuARm33SLD+h3xfU87lDP3YBVC0E9Uw/htE29IXfRj/x0n5jtqEzP6acjlAHzBI/meMSYwa85j7FPvFUDovDPrcSxqH/G7Y+LFzH9018sT7ifdseivnPPj0whkSARO8+UnYQbIrkAD8+gEkINocDP8OBefV6IPg+c8M4yBTe3z4DBVjzJ4m3PtOvgXiQfbk++nNCuCcH8j6rjM3s08UdP/lmLJWxSjo/KrCxeLXaSD/ZTDiGRIdJP4QX1lNBhUA/TqawV9A6PD/xjG/rdbtDP655YAjelkM/buuG5y2+NT9OeFJbySUfPziYcqMrNBo/VBPG4WqXJz8PDpuTqH0qP6P5ElOfEyA/LJf3UBFFBj/sqBzY7dn1PjUOAoJYNhI/aURuNQRWMT8F4OcsKkNEP2IQ/THGHUs/OWdFX1ZJRT9Lsmx3sQE1P70p/XL34hs/TYXz1nfT+T7UT0oqAzLVPiQUdeGXlLs+A8sQPt5SpT5b6pgs2v+HPqGvNamgEWE+GY7+X9WsLD7Df0TXLDTrPQH5Rj6icJw9So2sQTowQD3lJ13XsfTTPN93sXfFj1o8EoDrLMUN0ztCedjKxW09O4BaGEn2cJg6jdQvqprP5TmJcc96kOUkOTan9HfIelU4ioJp3Tisdzfkjv0NT/WLNtOdgIIXr5E1lWAEvO6gmjQbgu9DhgNJNXxGxPMh+/41qKSbwLfrpTZVgbuuJTtDN5icMGxvA+I30cRVSjy8hzhe7rJyLS8nOYSccyzlhrk5osyWSQETQDrJX/Wlc//COjSfGuBNwlo7XcPCa1wX8zulYw56o3t/PDxfflyBCPw8eoWprBO8aj27j8mRakPLPeVxT42mtx0+8PKmI1dPYT63CWQ1TI2VPlGt6LPQrbw+IGMDbBVl1D7zdyA/NQPfPgRQf+mmXNk+ZePS/oOeyj4v4zGdo9DUPgWpDwAC/PI+qMQzNjnpBD+MhuvNn7YIP9GhlGkmOP8+cQRAdrcT5T6Lpf0zYW2+PimFwNZHgIc+xDsV9MF5Qz73ynCsdXjxPf9a6x5BcZE9U0Tw2KDrJD1h13HC71+xPAfjtziR6zU87aDO9ectszuOZ/Zsvi4kO1z2SnO3pYc61NcE2IT+3TkCsHQy6mgkOb3T6O2tuF04/zdUIEMjhzc7SAMvUEGjNttftQOcIbE14nmWEwl7sDSJL8/Ha5FhNBM8dQF3rX40vW4ldkzSjDR75UhBaPCMNPInFNWyDX80U5Cznk7OYTTNLpeAjNI1NOkH9A4hlfwzhcSqxB4BtDPVIx7o5+xdMwDYQBDc9Pcy0bZWyaSRiTJi2m/KhTdZMo2nmARSlT8yq2uqE6uhFTJQR5UK0qvfMV/Vb5c0x5gxjBlY45i3RDFVl9l/B4PiMNEgV8J8rXEwjt+DHHkK8i+YhXexMa1jL+jSh4S078Yu7iJ8b9ASHS5jT4JXvWaLLdUlII0tAkEtAWtPF8Ra6yxK5GqlXTCILK9/AY+I0hss6vymWxk2siubNZSUrEBNK9VGVIJytng3xqtLATcrLDgEZ7u5QSjROA+HLBkpVmY503XMotUT7zlXUFoj/BpnOm+57Ew6XNI66jMp+r8xLztSM8cPsVp8O5w0bWhUqbs7UAOTJFtH7Tuy4OdQ920RPAzoGQqRzSk8yFu5ewIWPDzaii4tpctHPM+s4KN9LUs8DnNGBIElQjx8+nFyM6EqPB8wBGvGDAU8NRQ6UI/Z0TuPo/SRR1WSO8uopMTm7Hg7LmsKM/4OgDukEIWSE/J3O4D65yIaGWM76mH4rUxHQDvNaVhXjsINO7qniquhEwY7jx5DRgancDvwyiT6ZzzNO8BwFoqZbRs8my4JXiGAWzwJWhOEeICNPILbhgPFC7I8NOhGhejd6TyxGNXNknpIPcH4E5Mzqp49iethy8ic5D3nZ8Wb350dPr2fPz02vUY+JNfOYaSpYj6cnT4eQ5RwPjuAclrFDHo+VurQs6ASsj7tozkN2uLuPouN8FnY+Bw/3+0WT4swPT+VZe0xfg5QP7R8U92X0FQ/K2gk0kRvVD8QULKVN7NUP2rnNkLb/lI/ZBGwiiOFSD8yyDh+oBQ0PwiYh/pUxBM/DaNUMsur7j6s9JeHWzkFPxY985PPEys/bLXR8AjoQj8O6m2/qXNMP0nAVMoYUEc/xEkGMcRRNT/Ez6ZOb94WP2ODio47Pu8+7QXBLetkwD7NohL/h5qaPl9cGuHNIJM+BupETifCtD47nTHkb4jUPr7md8jcMeY+KmkCrVyo6T6MryPXFrPfPhalkLXJ78Q+ckbYOXMmoD7G9C0RKo+wPlgjnSUYfug+dIpZjZ42FD+TS2QOoNYxP+ztdfXo3UA/nxTz8c6HQT+XTvBXpN45Pyp9IiETQUA/BA5txdrASj+Ir0EHPGdLP+CcnULxij4/Ide8Ok5hIz8nggsWwUQPPyhQz9T4WBU/Kdyda46iFz/jKoorhUgNPxuL4QI/z/o+50Tlow+K/z4eS7h+C+kTPyTE2qt2Dio/a/WpWQrROj8vDoQDH7lCPx3xIrWfp0E/le9cZ8PdNj8tqr3K2WEjPyqfYCfXKQQ/Ml7by+T23j6RIgsaxOfHPra2f86LULw++RAyUkZnpT4QmW7+eN+BPtPjNKJEOlA+0KiPJMXqDz78wcdlCvjAPciyJAm0fGM9mqDLfJkl+Dyzm/HYlyCAPODs8pl7M/c7/kBkMhT1YTuSCVRcS+K9OokPV7rRtQo6XaXRmPifSTlIf74Vhl56OJwHJqm+Fp03jY8g8dcwsTZo/5J6xcK1NTrgDaGcgPc0Pwsl6B4lrDU27VeL6ilgNjvpI1wiWgY3iX8BMXy3oTebZH+WeME1OPA7s58dS9M4x5K5WbNFcTk40vWj8rgCOvPO60qSYoY6w5Y3SuuEADsm9BmoVDOAO9YhZGP7eBA8wAoSwQbsmTwFefhke+EWPa+ZjncqxoU9qOc93Cox5j0NBYE6ry84PmwYNjsSLXw++snLgZyKsT7rN9HoVVjXPmLMAbD/mvA+zrNrl45C+T6CzwHK3qT0PtJ2olpe1uQ+KomiF/wS6z5liE2wo9UHPxvPLE+0OBo/Iil7nbn9Hj8YukcNJZQTP7pMOzvNcvo+sF+6US0d0z5izIygGKGdPrK9ezMJ0Vg+Xa/x1eUABz7Wg7KKKjypPcTE8frSvUI95ev3MIgP1TwDGExiIsBgPCaqQeyHTeA7laPsExzNUTsTWX7bFxm1OjFziSmB2go6lAozwNdKUjkgL8wCKKaKOPTSEk7XwLQ3W3TRgx1I0TZo4Y7O0MveNTBzryIB8uc0UyK5bwKX7TTjb1ML4doJNZOhTAduShg1BOl3L85jGDUp9dF2ASwKNUG5ZHF7A+405urU21dkwjSFozhQ4BaINCJqV4MU3EA0x6tGP6g46TMZbH228zaEMxvi6KVCBBkzOBmtQ7jx8jKw6RF41/jXMk9mh7Boa7AygcYL/00KeDLM63Qc3M4yMtrjtF15c98xKkoGCWUafDF3Jo2ZNtYKMQPp9FxgY4swD6d0+Qvf/S8wO+NugGlhLxO3B1djxrYuRATkWbdEOi7Orqal7l3yLZwKDVlwmJ0tCuenxt11Oi3gKzqLAkbQLNhyLg5yrmgsgg/wyI4tBSx3aLQNLPzDN8msZxuRx3Y4z90MSM6/Gzm3WjRcHBCyOb8Zw96jITk6T4G41kCvsjqinFw3xbEdOxaMDjiNOXk75K/zSffsxjsnCDI0QlsGPOcL1nZZoTc8hpbvwwkBXDz7WHoWqHh0PDL5D0Rp0IU8V81eg5kmkjz8hzalI4+UPCvkfjAYYYs8wE04K7sSdDzuD/u9OrpPPAx+RihU7Bo8WrhD9H1E3TvrOwDtkVfLO16GXMIFFNI7fqznKkL3yjsSxJMKyIG1O3A2nt/uVJI7JFoUXWO6YDv5OWZQYBJLOxhPwjtj5rI7vk1WcSiXEDxWCkIBDyFfPN1WaDb5NZ88UWIToyK60DzIyewqkIrzPCU7BMInlxk9EAgkxE2ScD3Lmgh0NI3EPWL7TljBnws+hinI0HXYQz5iht+JUnluPj4ZA8p4AYk+Khih7bT6lT7nGXYi4ySXPlZcs4j8nbM+MvGbFFr/7T7Iz/CEwRUcP84+blUmWDw/GtB/4aZsTz9FDFI0oPdUP9/KMKnf21U/syvfHTNXVj+0jd4qhZtSP4b3su2nmEQ/Zpq0XarhLD+lv3jRjFIJP9CKR7nNCOY+Pz+km6kqBj8YJq4QJA4tP+427KyauUQ/kDfw30gRUD+x+D4Veq1LP8MZHo3Urzs/k0ZOorQzIT90LVYM4wX8Pnt9bfbu5c0+LoeaQAE9lj75hBa1pWJ1Pj7/teToHZc+AV+jaSQGtz5T9AIqwOTIPh63J5Aax8w+48QxF/jGwT5bBAseMX6nPlJkVMKY54M+3Ulm94J/oz5Kbo3Fzk7dPrbpSiDjDQg/zDiMT/khJT+o032hE/MzPzCjuCG0QzU/1/8cJaayMz/QUX9NBOJBP4pQ1uytClA/IPDrVDacUD98eWLR0IVCP+T9KVZ/hyY/4bHRUseLBT84QkBKPxABP4PBNYfzNQI/M+R8OpUN+j7nBrzmVoH9Pu3RUQs9dBE/eNtsr9vuIT+WUTlVT5cuPxzitklqozc/EtnglL/CQD/8WiF+/rxDP0oEP/dJAUA/ySQPaxwTLz99idHqangRP8H2zo0+5/A+Pi/teONt5D5wKoIu9nDbPrEHhI/tYMU+d3qVRAEWoj4yG1HBCItwPqm4Hr37WTA+yrYVDch04T3Fkha0YR2EPRHMZhq7/xg96zpCE429oDzg2hTrlSMYPOVsU6SUuII7hA7fEoo13zqjHRAvqe8rOvqNPk2z1Wo5oul1V7qkmzhr+z/ee4W+NwyZN/z1DNI2WweHSPjc1jWbDyoTX+5hNRkXilsTwQ02yvNrOt9NvTZGdGTVQa1jN40TqdBm5v03Zal6TKOkjDiTc9obsaUeOdvTv83AcbY50i9rncqWRzrFbMvD1MXLOgpFEKI2R0I7QEABQfNasTsE0GrROn4tPDn21W1+4LI8ywh1FWATMD2AqSm3OFiePSWAR/w93P49Wtqt9q7OUD7t9smW/JOTPpRkn0UaYcg+VJK0ZOw58D5/K1pl+xcHP4A79xoalBE/0kXSl1S+DD/OVacrZij8PkxpZTa9X/4+MIhqeCCPGT/XQYmZ9xIsP/7YWMvxlzA/fI2l0SX6JD+uSfFdpl8MP7bBSpsOk+Q+oiuXeRMasD52gvy338NrPhiUIvY09hs+vbNKmhWjwj0H/2D49J9iPXQWERjJ0fo8npkffjsUiDyuDf7XJnkIPHvh+NLsFns7yGI+7rce4DqQKGJjV4s0OqyqwU4VAXw5cKDj7LlotDi4pHDjOtHfN/qWHXDQjPo2Yi01esjaBzb0/OYivzRaNfEU2oswR3U1vwPaXQWakjXneJQt7XmhNVcjFfAujKE1N08A/2bUkjWYLskI+pd1NSCkIbXzdko1bGwG8NVUETUE4xfwg0LINObEirxhJXI0gjOoRmEmDTQ6DRVu5n2mM9HHUHS9aIgzuXWuhMQQbzNthCDTaEdFM8mir9msJw8zIrGyHNJfyDIvIKYVKGF0MqLrmk7KNRIyJ4NgjbpjoTFQBNTvMr8hMfs2e50aW5Mwoza9qq+S9i+cNvBygA9QL0XtDBvoJOcuXzoKUiHwoC6YL+HFe1lLLoqyKjyI0Ogt3kqBWe2QgC07g+X0PQcdLaOT14RvQrosivlfGTuYCzh8MYcWo3O/OOWOGg8DKGM5I+MxwlPw+DkJZ7u6UVmBOrekkO3/y/k6Dlo+waV/ZDvdxaTao2nBO8BoASvUpQ88NLceQrnZTjzk6oWnXEiAPApa45ZwNqM8oYhZxIHBuzzJrZXIUfbMPAEFhY+3p9c8DlAPX1WP2jyHqRENMKLRPBBu0lJ41bk8tUGAz2RplDyp+Wum71ZhPJ5MPP+/ZiQ8vAK4PybRGTy3+25mGWAhPGuIc8tO7Bk8YXrleuKsBDwREF5ld5/hOx6aVYM6EbA7T0J10tQajjt4M1hU50/yO0bhAF3XElA8JFQJ18konjzhlxa9BD3ePPqLaouvMxA9a0O1x+epMj1L98H6j6NOPfopfoLEnJM9i/RliauG5z1xl1+hb5ovPnoD+348tGY+Ecp+pX9ukT6CFVQEQJusPg4VQiuDGLk+9N63xdYLuD5B5OHeuOa5PhFjMTLCMek+BIyzRsBOFz8CfWsnK5M3PyldANYWaEo/pvQo2uJMUj9I5OAf46RUPwMyy8pFAFY/maxDFGyDUT+RWS6ku1dBP22qRF+12yQ/MusspuBo/z4zJS9cXv7gPid/smCIiwg/ouj6bANkMD+IEPDr8NBHP9awF9eVDlM/pFD8Ac5qUT8Ew0Wb5lNDP9MKuciMtis/DFlvTyPnCT8Ls+9acO3dPti4bOmkPKQ+5/SHKgRoZj6q1Mn+2C52Pl1WLPeqCpY+x29EUbDVpz70/Zz6542rPg+C+7odBqE+sVqxRiiPhj4XVx8ZUvFoPnRY8CMEo5g+Pw7jMw4T0j7miF7xW8T8PiB/Ag3Vnhg/HH6rPPvPJj+0mfub4AMpP6oj/nNAci4/igKXvTbZQT8aRDbH46VQPySAdEnhSlE/o0NZpWhFQz8p0D6MExsnPySl+8paDAE/pjDmRrSv6T4uC51G/cHpPpaysdEbbvE+QL04RfJzCz8Qs0lcbn0jP2/2D/68jTI/rXMux7b9OT85Eztk5EY/PxmPp1aFVUQ/DtBH7lYcSj8SD2am0AxHP+xrLPnZazc/3UQcpRQKHD/xJvLWOZgDP7A38EQUygA/DBJUWVuc9z7lXIx4Z4biPpsM5Nudeb8+dIwnwQTmjD4UCgTiP6pMPpARb0IItP49bE/DKnm+oT3oarpxPR02PXauMTQJsb083/Zplkx0NTyMUeBowKugO9iOfl5l1vs6cRMoowj0SDo4I2LMfP+HOdJ2Emryvrg40rkt50pY2zeS6nnD4i7wNo0n0ewVg/Q1BcZ+xZj2yzVG/4U0d2RvNiWFYDaZixc33oMUD6LTvTdm/pcXzylWOIT4+zcD8+I4R4PpFLoOajnRnxOfwEj6OeTruKw3kok6sn55R++zDTsBoa70e/mCO8fbaeNQguw70OWT3WrLUzwiNmao6/fKPJ5WU7If6EM9eS/IlnUzsj2/pyRC/lsSPprU0/po9GM+QobtQaw7pz5lHBn50O7cPujG0HTMQwM/7c8a49twGz9V1zwlT+skP70w06gBIyE/wcIvZwBwED+g5Gu0bX8NP0JUMVaiayc/XcVn3d6rOT806XNTTF0+P5pjgaGCODM/gDdsALUWGj+fHNQa/BfzPsWEtzOFrr4+LKBc4gF6fD7Ca5HXQhwxPtQG/Z+wZN495QNnLwy4gz1MKIbFb0YgPdgcpjrYva48FHlt50zBLzyFNJsNn6mhO9D0VyHmDQU7JvQfMwzaWjoAQXsnbFCiOQbU7Vkhu9o4g66wTJrmBDhsx0MGfJAhN2FP/p3OITM2wehl9QsP3jWsP+m1+R/6Ndor0EFo2RY2CQRazop3JTaD4LTV940lNuVMALAiIRc2RXBfnEiG+jVTAWKLAEHQNegRhFz7SZU1koU7Jq7MTTUaD17vR0r2NODUlP/q+JE0GQ2H9ebIMjQC0fMDs+oaNHoaYuL6LgE04McE63SK1zO8X6F1vDuhM+5BMK0Z91ozmSbTp7qLBjM3h1ocVCWkMlbD1hvwPDMyXJA2nyGiszHe0jw612klMUVMSukx/4gw8W//kdDe5S960i9juuuRL+jMQLqdrEov6FZW3oSX9S4dQfskBPqTLpTLkpz3aS0u6tv4YCSMzS35HWUqftxrLTSodrXMQ1A45Gn5QTyJAjnq615vFZSmOV8yj/2yZD06QaUGzJVyxDp0OQBGgGc+OzzpcPrXKKg7JeuPlpmFBDx5DGTjx6VSPGOY8M3jK5I8aUib7W4owzwTbPucW4PmPEeGEm7kEwA9SFNHTdVuED2dWDCgVFYaPUk21jGTTB09CKPOzTBkEz2gJQbGCGL8PGDXMHmda9Y8n8cWfsUTozzSnhIsef1oPJyjTZwF7mQ8cFClYpaDbDzkqwvNEEZlPA4C4MiY91A8Hm/sUKfsLDydO0CRE1z6O9ZoZdXLQs87OiyscjRLLjwk0e0FdpaKPN6Ha9GS8dg8h5ukA0wCGT1PFVfAR8xKPaXgRBKnvW49xUOLPdW2hD04iTa0NVG1PdfRjyTuBQc+kdbbnIfdTj7xnuNLUyyGPhur2aUlBrE+Mn2MKPbvyz6HIUDyFIDYPoA9laYzDtc+UnK1B0MNzD4VPTWzWEzjPuI111HvvBA/+1E6ntD4MD+sghxyIkRDP0y5A2fl8Es/ttKPV8IqUT+fEoY5wz9TP/0PeLzBNk4/eujlWfQUPD/INy3R0y8eP3LkZJclofM+IcJT58Yy3D4/Cl/LX9kJP//F2wtIfDE/tPXi/V3lST9uQM5YfYlVP7xkuinGMFU/xII817BfSj+m8liF3Hw1P2Ly2zg9JhY/KfgQ3FEE6z6kwp6oNoayPrgfTtJoJm0+9Vyvh8JeUz7o8JO4lwZyPlEYuBFWfIM+9FDvZxKLhj7dxLDfqAN8PtqdYSMFrGM+CKIUSxrvXj796Ib4ah+bPvtkcYBGa9I+WAAvqsAx+z77yXk2860VPzvFq+iG0CI/FyW8oefCIz+ppI7y7JopPzkL2+Fc9T8/2QjoiQz6TT9OJzW/zw5PPzoRTsOcQUE/iGpYA9WNJD/Zs1v8k237PpMwHRAJz9Q+s6oTzax+1j5+ZT6o7e72PppLzTP+hxo/9dcEcKcsMz9vVgbQcp1BP/MGKEPU3EY/cZzOd9/7Rz+0c8r/uR9LP+nG2XCe11A/fZMYEt4NTj+1rn69QAM/P0jytMJeciQ/E/YYWKuiFj8EfB15PDkYP5EVouqJahE/bXdpyax1+z6zP1/j/2nXPpqTQsb0kqU+qjkRhRd5ZT4vRuvn8BIXPiJyWgTPv7o9u8OjfrK2UD028Ycrmn7WPJVpA2XPSVA891Kd8iFcuTvgwNXd4zQVO51ud6zoCGM6hsezs6NTojl9WnVHaOrSODu/riMv6/Q3o72ny6zGCDfShW1CuY0PNq/0sfXFSDQ290R3bkEU0TYff8TOmnNxN6hboIzXjxM4xLgC/jljrDgonReHkyg3OdG78UtLSLg5A3Knwyy3PTot1Iyt4xzIOuyvbg8+QEs7dmW721EuwTvjGb1WCSgoPAhlz8c3SIY8f39TWP7z6DyoCGTSfp1XPbRHpCBFOcM99o+udsrOIj7AUUTAREZ0Prp2MEGZjrc+2bsu29ZU7T60w1OILosTP41Wk0mP4Ss/D3so8gFRNT+KZdI7QosxP7UV65DDoiA//RjrU93yGD8ObRvO8FoyP19DW+h/EEQ/id/ziJDFRz8h1AfChTY+PxFskrgLsyQ/oh//wQMQ/z6SdJvu067KPhfs0nMeEY0+8KhaQqn1Rj5WStOtQbb6PcEfT3lqLKQ9W4vb9oeoQT13PGL/KgDRPJ4EVOinqlE8S1EXrgqxwzs7UN9yqn4nO/AUZGbO/n063OFtZ/1/xDkoSI8Z6w7+OE+mbU1Rvyc4UI4e8gB4RDfQzPouwceKNrD/rPqYSF42ueyWe/phezZq/V/+m/WXNqbgObSQgqY2zEtXtBSapjbVhjl51kCYNqkzPI030Hs2ORPJZC4LUTZdmhGRylIWNv2Vbz1aP881OU+36MpfdzWmOkK47vkSNbMjMdIlFr00RGLGhuVfqTSad3prWTqQNOZ5Np9hO2Y0cPda0XBGMDTU9oGHSHfpMzG9sy/RSpUzln/a4JMGMzMyg+arGyvCMtGd+d2sikIyB+j/nxk5tDH1ot24L6wXMWDxMpaSrn8wi8eT4fzxNzBGlImM0O7xL/gBrtEmIp0vhBRMMvOnOy/Rr1liGc7WLqBPplFs9nkuPe/QVoxHGS6e93YQXl+QOA5n0RhCp0I5VyssGfa35jnwf/SKCZN9Ory856C2kgQ73cqz/TGXfjtM+3BzrU7oOzO+PY6YpUQ8ZrY092nCkjzN+VHbQ0bSPBakk06UPgM9tF49YjaHJj3Y8/vtUdQ/PUD/2fWZ4E89TVKmXlMNWT2ICJIaaZlbPTvP6NqXNFI9vD2j4uyeOj2gNowJ8AUVPcUxe/PK7uE85r10u7wMqzyZV6p7fhWtPG1Hh/k++bM870S/SYDOrTxIALDI1cWXPDlMqyJZQ3Q8CwmC+1Z2QjxlBaMERfwOPJknWOWMZGU8C/jQP43FwjwPop+gZJwRPb9PtdYyqFE9ecqsc3Hrgj2sKY0JMa2lPcNtAxc7Urs9lQJ7Bcjh1z3h7EzE5lMjPsB7WupDvGk+ET8dB1Z8oj6RuiDFvGLMPo4xV9aQSuc+Aj5l6Lxs9D5a1frqYSjzPoOtUP7j/eM+Mv74TKia4D4qz7vn3NwFPwDZ1ScMLiY/rMST5DmVOT/sq9GtO1pDP6e4YbbHbEk/zBqlDLaPTT8DV/25MR1HP4q80Zj70DQ/IA6wd0/4FD+EP9DJsqjoPmxQcP5Aa9c+5ZICrtxLCD8zdZ8pf6UwP0QZ4OUoTEk/DB+KhwgxVj/WCCrc+fZXP0FyG16i01A/5QlLTa6HPj9IzIS+5tYgP+bn7jE4P/U+DRMnHRaOvT6u4h5NtYd2PnjYacwwsDc+lZmi4SjLST6+S3w/vH1bPhjsexBiZWA+pMkvIYfrWD6r+tbpyAlWPuZGYDlEjHA+HS7rRzmJqj5lU7CV0g3hPgRfmbLjFgg/cyg2BypTIj+7NjC54yUuP5++tLPMiCw/7epKnIOpKj/0mZhOwMA6P9sxo9CDI0g/WYDBmK6mSD+75WI5lxw7P9M3b9pd/R8/YKrUxeCE9D5Tpv5laO/EPqFH3mOJP9M+87sGqKVNAj8fbh7Y25wmP8WJateJNkA/3iGEmD4HTT++wampSwNSP4yb8VdUWVE/77oNyzMFUT8Uz5mF52dTP4bO4kamBVE/4PB9OknIQT8rKSUWwe4rP42Gfa9r7Sg/qaANHJoyLj/NyucflfklP2w8GEEdZRE/shosa6zF7T4gGnNYcYe7Po7Wu60Gfns+1L8LuZCiLT6DAfVFMDrRPUvYYVaSlWU9strIP/Ad7Tz91rvlUiBlPF76EbyRedA7TCukWziYKzvjI7PTyMx4Oi4HZ5Uc57c5m5DuVFux6DjMnuTn5FMLOFimI9J8MSA3NSji+02zJzZEVGI+D0OaNrEme30DpzI3lZ6HmG1QyTedhkvtPYxmOEmyvQsyR/849rh/IfTziDncLXNvTQkHOlKUi8eLy4E6MlkrYbVdBDt6Dmn9VX6FO7pwVc8Cwvo74MKNDoRWYjxDbXT/n2u9PGvq17WOnhI9KwhNnCGncD0d5jIgbEnTPYHUIxrH9zA+XVr3Fjm+gT4jXqivBHPEPrLsX+KVbPk+pLxXFQP1ID9yRcKai0I4PyQU+i4+pkI/DXYfaw/9Pj8MAYrBwGUtP+jYQ3rDkyI/MyCwelWpOD/+sKqxEN1KP80pHlax+E8/x6aQyuOHRD8VqJwvdtgsP21Ta31qCwc/WsUfanbp1j6rfjln7yKgPq35bzPcvmA+tcO+V7j/Fj4pbKT0sJXCPX6uTD1ZpGA99SInjngj8DxcRyHv4s9wPEWt85s6w+I7hcBOLZFrRjvo9cJ2vLWcOkGjlwolweM5vyrxsv9oHTlz0Rjo3AdIOMFcWrIGg2g3kce6mUURBDe8x/f03xraNjei7ShzgPg2w3bUnmZyFTcX9lo8RyYkN60ldPhTOyQ30bqKusC1FTfbqc+cj+X4NtygrHxHg842Or1vn4P7kzb3hHGDgvhLNpQ7rUu17PQ1lB8H0XUykTWgKW1haZZENVznjlO5bzQ1MA1Q8WAqGjUYvCqyWuzxNIj5Rh7qPbo0+B97uc2HdDRWs5fEaSohNJ+I23hBrb4zaKbAymJLTTPpRahdeuXNMmZShOHdTUAyVs2K5jU8ozHU1JZ0NmwZMegDr6rSatswmZy9EmGWlDAzxP1SLs1AMErgptlufuAvDWFopnLlfi8trAq0zaUjL4ZZsWoom8MuXfy8a5MozDjdfi3abweAOeSmB8VBhCM632fvATFnuTpquXWAp6tBOxwlfn8tRro7OdS9+YzgJDwxvbG/lbuBPCpEKEs+HNA8+YlSIM5gDz3gDOiJDYFAPYY6svA1QGM9QtzwJVPrej0bF9owPm2KPZgBS6XyW5Q9GOwRxFUzlj2jsVqeNS+NPbM8PmaYUHU9J6WjmyTUUD1+T/uaItEcPWbw5yy1+uk83ecYQPhL8TxaE41rXuP3PPfEdWpH0/E8XfOYwAtv3DxqncDzZTy4PLr8TwNgFIY8cUGYVlRWTTyggYqlRcyZPDolS3+roPY8QzXHdXg6RT03/71Qs0iFPbZpeV9OzrY9tZR5yZEe2j1K2DJZoR/wPf4R+IL2uf89DkZEiXMnPD47LMbDuVKCPplAhZ72T7o+32H1M6wz5D6Uo8F9hpMAP4jKq56fEg0/LHbHcYhBCz9H5vmEz5f7Pmza1Wq9heY+Ppw74BEm/z4MNATAJEEfP+ePIVGYPDI/x8UJ15aQOz8Z8iLZNrBBPzzFdHWLEkQ/4YerZ93mPj+uoj/qK1UrPz9jcj5sswo/+j0i0ViH3j6uOXfWz47SPuzXmmzk5wM/9+vlrDS6Kz/tQO76weRFP9TvOArtrVQ/hvXLHhPxWD8Q6er6zahTP5uS68fyYkM/5FVca7xgJj86O0/JCNX8PqXryedgQsQ+A2mR0+f7fz6MiS2gaxVAPln8OJAbMTE+i9JJCln/OD5HY3CqjWFLPigGFv+ir2I+WgedsLDOdj53JT+l5/2LPvO/lAMqpbw+QM8uplKP8T7DzRgmkpIYPz0SidJihzI/ujIatnMbPj8FddNleCM7PwCczeYRZzI/phdzffPWNz/QQm+ueCZDP3kjU6qjtUI/Hr0p72nsMz+0D5EgcOQWP5549YVhdew+VdMcU5ePuj4bEasfoD3YPnXBe5asoAo/jALC+VeKMD8jTfuWr3dHPzz7SRD1iFQ/Asd2OvWRWD+F8c6iiytWP3f1Dp+/DlM/UlHv/2Z5Uz8rOqVdHJRQP9a6uOv8vEE/m2/hb92hMj+8sNfw4Ak5P2AFRzeQKkA/webmEDO0Nz9Y5rhQ8NUiP9cvETxPLQA/1g8RtDYFzj4i9h2rQhSOPiYmqxPwQkA+IyLylIL14j0FqIN4SNB3PWFIWakHGQA9FSDCF7Zndzxc7yhoSEjiOwl4WNpZqj47kSm2QL6XizowN8ORCZ/KOTlDHWUrhvs4F6OZIXR7Hjg4PWAfqRIyN9N7pDv17GM2J7gwqYvW/TYMabEuB0STN9zaqRCr1yI4V1G/WG6Ytzj4Yjt4N7xNOUq6tEMTQdc5G1fiKhxfVDpqBeUlmXDHOnYQwWmgakA7RyFcJNFtvTsAlk1kKt8xPIXjU6g1KJg8p+ywQzpP8jzEP+0+BQRCPRw8GWzhS5E9uzD6Qlke5j24kf9xsQc9PuiAzispYIs+BXR8Crmbzj5h8SP9XeQCP5phSDnGNyk//1OFw04hQj+7k5HOJChMP8d6Tid0z0c/flzc/X/4Nj9GeMU1FNUoP39tqYsYjTw/ETfO0n/4Tj+CQoBLPKdSP5TtfuFKnUg/pS5BfdVkMj9QhLbTE9UQP3/pDeDIPuU+UntaMRmSsz4LS652oTx4PkQrueGY+DE+ErAE2m7V3T0voY0fcvN6PVZdvLSaNwo9Qcaa4sNbizwfmqL5mpn+O1FMSIFMXWI7StkVxIzAtzpjtRBNLbYAOn+78+ieGzo5NsNaQOaEZzhj6pOAN1WwN/rNhxmFHnw3Y3elgIU+UzfwU9NvUbdyNwnpvxhsY5A3vyWRLknLnjchXoKxdOueNyABkK7llpA301F2yUkGczegL9S751BHN7jspjbuiQ437mV/kaFfxTb96ASepftvNrzCV2W03Ao2dTOrQYEmyjWRaweDFh28NZR0k2flAaI1JP46soereDUeraksWw9CNQCL/ow5Qvw02krkppWgpzTteLh2thxFNF6r7ccsKdQzoWSshzmTVDODDd2Zf3HGMlgx2/C+ECsyKDIaTqgjtTEwD6X729V6MTDX9VdTLjQxJ6LL9e2S4DB0ci2ffv2AMGXBiyFSRiIwM4J4fNqPyS+wLZf4m/xpL02CDicotQQ5+Mv/u5qItzmdQ+HZHKJcOifOvoQSofI6CpI/BfvpeTttf4j1v0PzOyXEPJo6nV486y2pCaEAujyB1VvJF58HPQQSZuVL/0Y9gtUQfvAqeD1AQk+gSBicPTFO2rh4c7M9MzbGUa65wj24NPCVxkXMPexQaavXf8492gK2iZf4wz3Yt2UzhyOtPXVi1e0QAIc9a+1KUX7NUz2wI+xyxismPbYj7F06mDE95p7Em7FjOD33rT5ZPDMyPZktvBUdCB09FxTSG96++DzcAZDE6YrGPC0w05D/+ok88tKASoSRyjwcjkamtUgnPcaSwCQe2HU9vbVuoMLmtT2IsX0ZqHfnPaD+ChPI3wo+QyBDsa98ID6Wl0uAcMsoPt0+qaPHbVI+lruHv4NLlj7X+Soy7vjPPvBQJk8DjPg+s3nhUkskFD+rabYH/6khPzLp7voQkCA/TfaEsoywED+KGB+tAc/1Pn6bPu2CXwA/lIScsB3XHz9UhNg4wnsyP1iSSwuVvDk/Vkz3rKLgOj8SdLEhYWE5P998zEQ2JjI/UrYnENJdHz+1F5ywldH+Phh0dso8dNU+AjOZfPvtzz5gJpFgHH/8PkZ+A+yiKyQ/SJxVIbrZQD8CdhkDeoVRP4HdCOOZx1c/cre1MgmyVD+KwGRVjqpFP7devDIHwCk/5J8N/MjOAD+8MsYqOPLHPkCfUJn7z4Y+9iWr389IYT4EWkrT8otQPsjVcBXMWkw+TtaSdgn4aT4uXm4WoFSHPvQ9M2OE5Jw+GSJihdW7qj6rEp2mMFDNPnUdklbLOwA/tRAvhOqcJj92E3PYWg5BP83P7Ss8tEs/EZ2zS32tSD+oPbhooUk9P2890RBJhjo/bHURodHvQT9pRue4/hdAP4NEM6xE9S8/t4bWailAET8Lmf690z/kPvXnl+5SMLQ+MAI5zQqz3T5TL1ahPLIQP3Bic/horzQ/JzI7kxMNTT+wG5L0GuRYP8qRwuqxzVw/Ywe5obGaWD+UsEZrXsZSP8ChZ5ba8FA/4ZpAVg28Sz9qE+hJXkw/PzEP1ZEowjg/troivYs8Rj/ihbT4GqdNP3aENcD/2kU/5b8/WHFuMT+gsATcbAwOPxErEIsJ+ts+6dTr3DofnD4cHdy0XX9OPpItliaS0/E9R1dUgPNxhj3n27Sa6mgOPdl9ysHPJYY8Zqhr5NZT8TsgdlbRVBpNO6kCVrljN5o67oY4xDdR2Tk2KXuWTTIKOXa+WBPmBy049UHZoM04QTf+YIaRcx/HNnnQBF3j1F034G/Ym+rs8TdOMTBD35R8OGDch9dAqgc5tWRFQU2smDnoSYMUTqIiOqS1CTAH5p86lijGX/XVDzsN6yym5Ld7Ozvk/HZd8vE7R692/m+DZDw0whCYuV/LPNWPKgZ5LCQ9oZvRuxyjcT0V64fkl7K3Pb/X27R5ZwE+PFoHXWT5Sz7V9vGCrAyUPjIEPYZXO9Q+/USBomdECD9fnZWoLyUwP1wVlldnZ0c/BeJ/xfGAUj96JAR9pSRQPzzTcEZ6MUA/D/Z1nIK9Lj94xtrhTtc8P8Jz9mJfKk8/Afuy+IFaUz96Wo0AQD5LP6Z0F0MpLjc//fetXSdtGj88AtW3VYn1PoR5k0Xzy8c+oLnJsUoLkD5427BzR41IPlkEr19imfQ9HELh2Pmukj0x65ZZ/TciPeqSoR/TEqM8Zu5oZZh5FTy1qG6FRyh6O5JiT9HDeNE6lLyYWcdPGjrEhkX3+V1XObBpI1ikvIo4t2o5kSe9HzgO9fs+HNvwN9T+2zJ2Q8g3Bc/3iNVo6DcYn6CbcmEFOFatYe5eFhQ45gDmE1srFDgzNVMVnaQFOG2Zg+rn0eg3AA2VwzBrvjcIzVkgveuDNyLzZahx4js3wXwILjXe5Datlrg1RjSCNgn3Xu/VTE021kIQKPmCQDYB5ADDmSglNs9TXFS5/Pw1tLfQEW04xTVeaejrF5qANZqa3WcQwys14+p8YYTOyDR1potxXLBXNOqb34L5LNgzJfmrFItgSjNrk5BeAeOwMtlLvWvQkVAy14O+HfpuFjKMz7tPleTQMVxYofm1+3sxdnDnAbxOHjF12lKc3NjCMH0gTJ2QimwwYuoei7dsDTBuN//SBR06OTeqzUlajO05vgcY44zxkTpTNsO05FQnO/nlAOAIObA7NtTfmggeKDx+vLhxbCmTPI38uhdNRvA8uOxeqPqQPT2SbmOa/sZ8Pfs6h0W1Nq49hHZzRJKB0T2QSNAC4APoPZAfTpdqrvY9o1aM3unFAD55Jcg3DeQBPs/Z4urfVfc9wCxtEtgA4T0/ZZ1gJNa6PX4UtjSBTIc9F/l+9erIYD0KMJZkMJhuPXXeu+zlQXU9wxhMhw66bz1iPczQ5E1ZPWj9H1iGkTU9xC6K29WlAz0Qr09VRubEPIaZs2t3YPc8QUAYwQN0VD1VaUW0OzCjPUY0F3AYPeM9kwZ+kD+dFD7iqTvSJZs3Pqs/OJI96Uw+WrNBPHe+Uz7eSwnqmMRnPtRaYdL7O6c+2P2R606V4D73ICC9N3YJPxj8tpaa5CQ/lc7dvj5TMj9vuez7VzExPygD0vQ3WiE/IVYIOq6lBT+T16wMTT4IP+tVng5UuCY/4dBLyAQROj9p8r445LZAP3zVKYgBzTo/AZPl0KM5MT98QECAP6EjP7hTnjj8DhA/j0nnYEK38j7tUFqnoqrePgX3msVbB9g+haUmaUfn8j6CWi4GA90ZP0L4nD3vUTc/wNhNnaokSz/yKe9a3JZUP5HQsi93V1M/hCYTAG4URT9tQ9l8VIQpP0aDLMvq0gA/FnkgJeE6yT6bQ0gi2lqXPgUatGaRI4c+YhW3Jk+0dz4CTLE9wUZyPlGgJTA+jo8+7ksjuVwfqz7nrdbu8Q3APnGKkcj6tck+kPerOjKd3T6mqm5POw8KP7hRHg4l7jE/4Rht/psVSz/d1fhVHApWP82Cd6hoolM/5sOGQm6hRj/68naaSORBPwXsPFZujkU/lmI7B/zVQT/IBR3rBV8wP6/UtxgrUBA/0YZgCpqo4T4oZd/Ka+qxPng0egXww98+JUpYOejnET8JGThpSBo2P6+FQIxwwE4/jjQ2beXVWT+T++XdJ/hcPwmA0oV8llc/2y48E8I0UD/DwOdK0JNJP8VgeSsh+kM/i1P6eXcwOT9nj4lh3QtAP7bK9X8qKFE/k74DpwlEVz87YFfdLDlRP1beLDz8kjs/FHVYFqPZFz9377l2zUfmPoDcA5qBd6Y+g8aNfGtvWD5urP9l96P8PSOu8c2EEpI9KBFlgfuIGD1LNWgghOaRPD4KY0YgDfw7EV+k3kqWVztgmNpdNkWlOtImfAUoj+Q5rgWARvlJFTlw/jRMVps3OIMCf7d9Dkw3i3EXdKIaMDewmeZgTd26N/CTKbjwSE04Z4bpT63q1DjF6SmkXxRYOc7AEUgRV+I5tWkMSjW2aTpdlVF7VKHlOogCDEx2WlQ7o8/ARirFuTveEyYsWKokPHfrMMhEZpQ86WguAo6d+jxwqdNYZExTPUbH65g/tp89qhgZx2tS4T2pdJCd8V8hPpnBKE8GzmE+rlt5jzN7oD6PBP5qt3jZPlKIjilBqAs/w+FlmFMCMj+IFLa8VV9KP6L3vaX+fFU/nFPEJy25Uz8Aru/j5BxFP2smKB3sUzI/ZmDm4MYkOj9xWWOFREJMP2sL8WM30VI/X6TiuhYfTj8yvF50X1w/P/kuUSTfmiY/qE058v8FBj8u8jIHcajaPu13+ijloqI+hphMsHjlXD46Op3JRV8IPtysthB9LqY9NJQRn8+7NT2FgUC7EPq2PCXDEMh9bio8J84wc6HckDu8M/yTDrvoOqu8XkfI7zU6tuGlX3uKeDlDv6SK1LbAODppE/UnGJA4stQyzNhAYTi/cJvTASk6OADZgzlCLVs4AWVnBMrPdziKNd79E1+GOJjOjPxydoY48ghWSJoaeDgPzNmTXqRbOP40Ot5P8DA4Em1SSJkv9je+kdMYIg6vNx7PAs89QFc3ZOScMT+k9TbRBZk7UZjMNmu9+qgdj8A27jPxmRU5pTah6BlsUBN9NqHJRqj2SEU26WGcGAinADYJt7YRs9irNX7TH3TZ4Ug1O1ExhtLC1zRMeGas1D9YNEHOaeqtecoz6eubZ6vAMzP1VX34LBnnMnb8RHNBA7Ayj+H27x4naDKP+5TZqTsUMskpLi4SeLcxN30bVFjoYDGSdJvSllALMSRMRMz4dKwwl7X46iVpbDkhtQJ1cs8fOn0ZtqacO8M6IcCtBZL2WDsG0ZbdL1jhOyTElpDvxlk89dFJu1l6xDwfgsScJ2QhPSlutqOSl289YDQosb69rj2wG+g/qR/gPZc8Iy4NoQI+dKXCwJpUGT7RdXfGS3snPvYhEPBOATE+yql++LjsMT6cw7mNhUcnPsl5O6fU8BA+xVQzu5y76j3xO006bH+3ParMpwoBc5Y9Df7qtMu5pj1evmVm/KGvPcWv5ZlBm6c9asZO6ejTkj1WM5KNUQxwPSspl77XPD09dPWUCcPK/Txdnf/tQ5YhPTaplIWsrH49vBhT3xPHzD3PlDcdXtoMPkRdyx+B6j4+oXfZ6IizYT4DbAuk6Kp1PipSGJSctXw+UWEaYBWAgT4Ty4iyHua0PvIf8ixBYO0+cSzIUceLFj9wWIvSXoAyP2ciuzh4O0A/07V46TGAPj9MyMCjlfkuPx9twJ8scBM/tIfz1XrZEj+pyzrODuowPwyk6oezP0M/pmEKuV7XRz/cE+jwAJxAPxt+Ebcfzi0/iovawOR1Fj9Kkm9GWDIBPzTF3mM0XPU+X4C7/QLG9T563oLsv23wPqT5LYg5ue4+1Nfmvzz2DT/G0cOetlktP1RJJENsMkM/f0JTApD3Tz8ooNuAubJPP87g1ButuUE/M80d6Ym2JT/7O80WmCr9PoBKnZNP38s+5ceKhm/8sz64Q3nX4YysPp/dB7VIfJ0+H2+uiu8BlT7FqSnV3rawPkk2rXnqP8s+gcoEGRTN3j7bZMFLluXmPmy6wDcG++8+PAGU9KtUEj8LmZaM8lk4P1k1F++XZlI/cNTrKaIFXj8SrRYWsN1aP7o2FsrOVE8/yhOlvTfBSD/SZrW7bcJMP4MYdXnq0EY/DSMsyz8END+u95WJmfYSP7wqAeugYuM+pwiyjeeYsT4TYfv7fTHdPo6pqvfPaxA/XEaznlYwND/EYE1AHddLP3TuoPj59VY/zQ5tKbf7WD+naU37KHxTPzCeTIllc0g/uZYOTgjNQD+yFkjQxe84PxDqMDHQTzM/6RMjn31sQz8LlXv48sxWPyLfp316N18/vFsHw3czVz8iLMgRn6NCPxVuwriOLSA/Qu9tzYpT7j5XnwIci6yuPuk2SO5BumA+qDqvNt+nAz5adM+dbNyYPXSHXgaR6CA98JbQa6y2mDx+XQPTOmQDPGQA8Ak5U2A71GhbLRV5rTrPNZHi8oLsOYMFpxZLix05BWMujMhjQDhd0xrDfFRVN3oauRnurpY3Y8tJQ8LcFjha2T3s9NikOPmb18q08Ss5fZhUyvczqTmBJuq4epwpOlezQVX4za46CfySlXo4KTsM11hrYyaXO2ok7WACA/k7WydqTK+eWDzC2Am2ffvBPEMSm5bfOiY9cwxH2OvNfz3pZgFNCULJPZHhPpIiVwg+FCMBAtSCQj6XVHFDdpN7Pr3EDpAclLE+tMpSrToA4j5L+n6L0zEOP1cIAHmBCzI/X/mjeLJ4Sj9EwlJrQ4xWP37lSObgQ1Y/Te3Gzd/7ST+yzw/ue6g1P1EAm1+TbzY/VKW4km2SSD8zKoz1qplSP0EW2HZ16lE/Q/Fc9/jxRj8TkI1gGYIzPwbnoT712hQ/6v0FvuJK6j4I1PNa8a2yPpTWpsfoKm0+yFpcJCW5GD7ylLx2Uam2PanOJTmkhkY9iJhCs9uRyDzhYHrnZC0+PKC5vLy1zqU7lHCi3oCDAzs9BAO3zyFWOq/dt+QIOp85JCqPQk3aHTn3L6wZnxf8OMmqNQVNJ844uyc+EEceqDh3Ed3NltTJOBwafXtjo+Y4kHaxNdtE9TieKWdiE1v1OEzbJ1KG6uY40U47GqhHyjhAbHQFoBqgODJ2hIS3F2U4sRd/6WWGHTjhpFo1Yh/GN8iGyi3A6mY3ECyeimYbSDfYk0wg2Vo8N3UGEOgbLCI3aXnuE2Ll+DYo2ONOtTnCNvhagWB+hHw23UT8Dv7XJzYHicPwOE7FNQPpsDF0WFQ1qTtT5ofD1DSaUK05l7ZGNH3jyj62xbczjnIont3oezMBbxqtPIRDM22DLKkPf/0yi9SYhR8WqTIuD4+JMqNPMoQAXr9bUfox2G+590lipjEdCNXGuIBHMRc1xhmIDps5wv7lMCuMTTrKoN1eEK3xOlV+NCV114Y7I7gZlfmuDzwFcqA3vYaHPGcIXbsjr/I8to8wHC67Tz30H6OmP9GcPTAqgtLBCNw9IGcSwTFiDT6XQkekde0wPr7c3gId00Y+P2DvDDDHVD683EVBjnZdPtnBBiR9rF4+QY5gP+zTUz4HJSfarNE8PqUPTFuAvBY+r4ih3nRa5D0GkZ2zll7KPW6pjMM+1tw9LNUP8oMX5D3dccpb9/zdPZPZWfTn6sc9nstzKPJipD1Ku5xzGZJyPf5m2skKgTI9HBZzkmqpRj2Gh+wKw6KjPXfaFOLna/I9ZCKpAkF4Mj7qd7vJVMpjPhcX0IeMqYY+Tpi7+Vq8mz4ub7loHTWiPuDBwFggGJ8+F6E2xJOhwD5hEOPGzzn2PjHbUlgHCyE/aRUC/4/5Oz9eTUPQa49IP7v5zAruJUc/QT4mluPaNz/6Ixy9clMfP5BqBnJEPBs/xV3+ksWwNj+HLass1JpJPyYhWcleXU8/H8YNS1bYRD9zdtJlr4AvP5Gxyr1KoxA/rlLc+Xaw/z7ZMWIwQuoIP/YtLUxEeBA/gWFGpNR5CD9sXcsWuJb3Pk4N97w6FQE//v2Oi0DwID/6wZlL1ZY4P7w9Wd+B9EU/2BNJUCqQRj9Wx/udlaU5P0bcpg3rxB8/K2zsqjoh9z7+z7MdfrXXPhW2vDhmvtM+YumRR4V9zj6zorlgT1u/PoZRBhYvx7Q+3wR5O72Fzj7u/Pb9Ip/nPm4HYXDrc/k+gv3+3mQKAj+U3YnZNrkCP7W083chaRc/XfJ/dS1aPD/8JjFuR19VP67VlycffGE/gzucnJ+JXz+oR3neYwVTP7Q8v5oow08/R8OhBElYUj9yVO5JtnJMP+aG6VwkaTg/3iN1O6edFj+sdv2YgY7mPn1qAD2iqrE+96plwL081z7om2QZg+kJP2rsQci3oy8/4o+lydyYRT+BQx2bsXxRPz7sSQrqeVI/hM0g1huySz/IZ9X4zxNAPzbWO8lsQzM/nC0B0NVKKz99nPuOXEQtP4RXByuBHUU/gTRQIKz8WT/SNjB39+ZhP3l1Tg8Ptlo/C57aJiKJRT/oiqNMksEiPy6gmcTxovE+lutOgF3ksT6TOzUTOZFjPtOPtg5dDAc+KMOb4tI2nT2k61Zp5+cjPYuMrYAMJJ08N+AAmm7lBjwOS9afKExjOzy7wkasb7E6AeMIL3rh8DlIOtS264AhOadB6mVTbkM4HDdZtIybiDcpsYmglUb+N0XdZrxZi3M4TpFlgQ8U+jgfcPrTHXiAOTar3zyZ+vk5CIiw67/XcTrTtBWNIFrwOl+uK+qqR2k7xk9QYR7Y1juX5oRmKhk3PMlVY+1jI5A8PXQ4q2Wh7TyshUCWrg9QPVNyls3IgKY9JMfjwqiF8T1zDJIC31svPqcKEoD7Y2M+RbYaM34Olj5wcl9EQDTGPqSiHVg1VPA+k5Hy9zJ7Ej9/qtDt04QxP/PyHThUkUg/nbVzEB79VT/dmeuE8LNXP1hfHltnU04/Z+CASJc9OT9/0/AptZEzP5bXP3mwNEY/b5pn+DDUUz+zpsbGVMRWPzsVf1ct0FA/xsYNSqY5Pz9q8gbq2W8hP6FkNSiEavY+7YhGWdYTwD742kkQkkl5PhO59wVMqSU+DRy+MH9HxD3IuDvIZRVVPXod5D9tLNk8qn9uEEckUjzWFS03D3jAO9A/xsuo0iI72ziPMMvveTqsqc23+k7HOeAT/H+OIoU5jR8Pj/7vZDlvITiBxn42OaBD8y5aAxM5U8VqUVr1NDmehYmfeV9SOTwbC0f+QmE5nAJTwQZVYTlM42chN5lSOXEMzRAaVDU5345VJsQjCjl486zaWx7ROGccQB5g9oc4RX67GN76MTgsvF6n1QXWN6JegjHBd8E3ptdvDJK5tDdZDEjw6JCaNyRzAMWeMnI3kNrp8MqkOjdTbeqBStj0NtNyMJG1baE2zYDeRYUlPzavmpSCO77NNQq5xuHsWk41dsTmO2SxwDTSYaBSXKU/NF2+Itg88gw08qhFxvNO1DPvR3WsUsaOMxzR6NRotDozULsZYbGZ4jIhALqy2riRMsJd+dPBYz8yKdF8aEqT4DHMoZKpI0PHOVaVeIMdB3g6e82aKfkIHDtUzmJ14uuxO9dFBqmrvzg8mpWJW/BXsjzTOYeVQh0dPTjvn6bjtng9elfUItpwxj33wZHmPtMFPqBzfOeb2zY+dOLg/ohEWj5fq2FWu5FxPunWoWa5bX8+u3XZa37PhT7whvbuJGqGPgI1J8aa1nw+erHsTKTtZD6Wv/ieGoNAPnXnqQGKXQ4+UJybgLAJ+z14YCPqhD8PPmlQSGO+yRU+QkD5upJCED5ewHTt3+/5PdblMWyXG9Y9HX/7fnojpD0cRa28ZtZjPU/fmLNcFWk9JcfT/s51xT109LmyDCIUPgqCM4SLL1Q+gLzROQihhT5+hmNRjcSoPvYJFMioT74+sDAEGRnYwz5D+Bto1Y69PrzPO1fmG8k+GsTaBkzG/D5TocG8av8lPzVKjZX9DkI/QibT59fBTz/JsvVQLCZOPxiNyVAyDUA/A/JqRm5sJz//6/bDy2siPzQo69tgizo/mdE9zYRzTT9ToO+h2fVRPxQMVovdjUc/BRcIxyjcMD+xI4DOoUgQP8DF8hQwbgw/t0p8ZpP2Hz9keTvwR+wlPxPsgH/LOSA/pBHiIr2cCj9a3Dl4+S75Plxf4zIULxI/VRDCrxpFLD/lQ3EEEmw6P8kwPUcFvzs/2usiNbDgLz8nGjcdBFcUP6pGuxzPL/U+mROMO7gg8D59N2dOFNXxPsLduBuD3us+pg/IOmt+3D5tOrNto6jRPkfms6AR/+c+Y1xrju6qAT9zG4B58R0SP71Nv9TTrBg/dDg0DYwbFj9DQNbWFBodP+i1RsRfcjw/EOKoGBg5VT98sa6c0GthP6q4K8RW118/v24DW/lhVD93S2lOh4lSPzDzaF7sQlU/CsSsLFENUD8PIcC3h/86P5uRgdF4phg/RaL4v7VV6D4tu46YHGyxPu9hMfNK+tA+5yP+ZhQ3Aj/zDPADUrYlP2SPVWL0Cz0/WwMAfd/1Rj+nt7WkY31HPzB9Pnac7UA/F2jh0UZhMj//TKG/tlQjP6EqYlTtvBo/OQI7cMf5JT/mFQn7jhxEPy5s8r6KWlk/FmEzYOmMYT8dgPfmVkhaP4MemOvRQ0U/ydrnpTKVIj82jZDxW4fxPjG2kc2a1bE+Y6TVgiyOYz7rCXHEgRYHPrx79Xv1Up09NpMs9RcEJD2inxvIoFidPND4xiVJFgc83yiDEK96YzuXWBtuwJ2xOslZ3wBXEfE5ob06oVa1ITnRS7CDaKtDOB4iyuqPKOs36U0a18kvYjhAvXTgpUvROBkXNy+6ck05Yhlgor/g0DnPnb2eLNhIOuv0++IUo7k6KBWBntACMDsOvNL2HuqlO3SrB15gYhM8IKDJ34QTczxe9hHnvVjGPGtQE8Rj8Bg9ri9t0+p7dD2X6Tpfc1rLPWODQtlk/BQ+ghvTdpcAUj79eDum/EqDPvgoIf/ABrE+SOwmqgwa3D69hTY3+kABP70RCGVjlBw/k2tPBo3WMj/nHO4rAGtGP28L0sB5dlQ/0v32sNLoVz961DVmCopQP5VOeyC7Ajw/8IZ7nG4FMj9zquxYkZFFP9qTWP/bKVY/UaaEfYKLXD8sHBzTucRWP3fd6ZrjF0Y/CjiRVRw/KT+CdPqO728AP73ZCeHC1Mc+VuRxwWAJgz4wJaGuY9EwPiLIleJHx9A9SQDURH+xYz2cDl/xDJjsPJR0SsmeVGo856fQ0j8D3jsTsGljHRxEO/8jmvA7V546SN4MxTqqBDou04xJlM/qOWiPo/mkpMo5xKPUSoinnDl44vB9oKF5OemlU5O3CJ05aC+X6lB1uTkhLDqkIuvHOSeYaW4fBMg5Zo7YA1XFuTmenoXEvI2dOcj+2swwHHI5hfswrF+4Nzn2N5dwFZrwOFOMePkw+pg49CosTcOHQzgsGbyRZbE1OL2MZPzy3Ck4TepOE6KTEDjkVlBFxrXmN0UTalMKoLA3GAvSJHsDajcNIMSSCcAVN98+wt9Rb7M2y4Ii0iGPQjZbUSE7L/HCNX9SqhuAJzU1kSR54VqLxjRJEo4Gla2ZNETuiFnWCmI09am2FVJwGzTmPml1sHLIM8AlApE1GnMzVkugAyiZJDNnO33YGtLSMtftpRJh9nMyNtWjB1oQ8zn1+U3xHaWhOtGkomt+d0M7PwSmwnNE2Dt3u5nLrZNgPJdolfq6dtg82Yjf6+RgQz3wlZKQ9m+gPbC0bQDz1u097kMqivgCLT4I0R/qeVxePkvXgfYFZ4E+wC3xs+galz54XzOotFCkPhhxNa0gmKs+SdtqFXr6qz5auwLqIeihPgoMoeoM9Ik+LlEIg/d7ZD7lAMdmtZQzPqf6N+XmECg+qGtnY7PpPD4k7tUleStEPg5aQmDdGj4+q3T20MACKD45zVC5RXcEPslhuuiWpNI9QaHM+OhBkj2jyzVAzvyHPbZ1Q5aXBeQ9fwpTJZHIMj4KS0dhKNVyPo6qCa7gLaQ+Tk8e/ogbxz4bmXeYakfcPjXQ7YGyf+I+x7DmjJxb2j7MEQYXTKLUPoNqrp86BQA/vxpcWVg+KD8kjc3Px+lDP8lfIY0aklE/jyJVJqv0UD+LS/MjQFpDP8M7TRO3GTE/1TdLBGG+KD9lxOiSWUU7P9qagToNEE0/xgndA1SlUT8K/7+Vtw1HP3jsUPTnVDA/nSKOpvs4Ej/opoA5hoYdP9kVuSSBJzI/p2r0ZIsCOT9jqL5ynXsyP0oHZ3KDeR0/iPrfxBzp/z49OxH9G8wDPwLdIBzttB0/dbRbN7b/Kz9VVqRiq4ctP5aW8H3mIyE/XpuT1g0pCT/jlziwjEUAP5wGU4bHzQc/vjpR9z7ZCz9qQlPuhsMFPwmZiJg6IPY+gs1gddzG6T5X9tqTKjsAP6xdkK7azBY/fTbUmX05Jj9cQh4NyBctP7OxQYm4QSg/otHT+6koIz+yw5t0u+84Px0+6jW0CFI/RJLjN/e7XT/sl9dRJttbP40M5HYdyVM/9Cz/EPYmVD9+K6lqXJNWP8qGc0KzS1A/R6G6PqOLOj9Xpl2aacYXPwT8eOFAeOc+rFHNGctCsj7tMX1CSQfNPiazp4oU6vo+6zMQVUgHHT/wX2790gwyP2M5AELX5To/NHw/5RQROj8ZW3HBTuAxP1+wBbgGPSI/5VNXYHAFET85Vwo2RzIIP7e/tas7nB8/S2yPdcGQQD/XA/0R1CdVP4BBOm8xaV0/NyQ8IxAaVj92j6Xp0/FBP048FQNodx8/jvlmmufF7T4mRJ0ZpGCuPiCnV6ZPsmA+SZnmw7bBAz5eNEVFViSZPZzIuneuMCE9tR5maTw9mTzqvYoxSeEDPNbm9s9VymA7HdzYUAtlrjo9U4LGD3jtOYzTXSi/lx45aiY3rgIXQThm6SA/9fFMOPvt9HukGsM4Ua/BafWvLjlT7WEScJWfOY0qV8NHCh465mNwRhwjlTq6bNdjAHwCO0mbYBxxrG47f2SvCGWw4Dt97udB/D9MPKVNRoxtZKs8vCtZuhrH/Ty2F7nVNghHPUSkl8KEMJg93P7oXJy57D38XnuY0po1PqVe2mhiFnI+fOZ8HIO3oT65hPfhSRzJPoZUclDflfA+l2N+hTfyET8jKUEb7V8pP7L/p7BXjTg/FTvY0O2uRT8kk4cmcXVSPzz0UsPsjlY/fQlOKFBzUD9QZfsVjmk8PxVLE63r6DA/dFf/qMtfRT/DlYeWHe9XP6MvIumlZGA/Mw/0sJ87Wz/GqbvHkBpLP/3fMQLJfy8/V3e0OUfUBD9w812YcufOPk5xGXzzz4k+TIJQQTzoOD4mLba2FhDdPcjjeombYXU9lB/6d7zaAz15oVrETEyGPJy43Ohjxfw7lsS3hmeSZDsQqvdEr0TAOrRWSMrGEmA6FuhXYF0eTTo57ixqMfEsOlEtFRNLKf85QsLNAfWK3TkzmiC3/yoBOghkM6YTHR46tIRmItNKLDq7CvWqYWgsOgEo+fO7ex463VzEr5x6ATr6R9lo+WvVOWea4DDIDpw5VYYvn2ajUzlnC18PHq79ONWhInw6GrA474oinCEMpzjXsYHpYo2bOLwgn2HfqIE4MFzozZcxWDgkcyRAF7YhOE8TFdqMtts3uZOVO80rhzdF4umFXLQkNyx9scmHxbM2uTxjwdUuNDbbQ/o1YIOnNYy6COYKOE81WOd4GYR1IzWfUIBiKF/rNKwtF1gC6qQ0Gkwm18hJUzROxB5i3SMBNG7BPLB6nbQzTiHki31KYzPJLZxYzYYEM+ewVOiCuh86L6HzHsq2yDoiXqnFyGtoO/3iYbTsxvw7zfLJKP8pgzxkbu99Ofr7PFsYQnP2D2Y9vytna9utwj1SllGj4/AQPtZ3F9V1dlA+JbM4vQw3gT7yrvPlTbCjPv7ZCYiP9Lk+Yov3GVdyxj7Dj2invtXNPlxscvFA1M0+opeXIl39wj5kXPQzR3yrPq4/up2WtoU+5L8oGJHwVT6p0I4YmoJSPurqqwhO12Y+XgXIke7gbz5cZv5na8pnPiJz8QmH+VI+0lDF7WEsMD67gd9LKHf9PS9/9M5txbw9XUSpRqMHpD1oNWh0ieT/PZVNKpht600+mMooyHv/jT4lBrD6SRLAPuLq8LFXZ+I+aDgZdbSF9j7EzNSpiHX9Pg/xOWSutPQ+/ddjcveJ5D49/O2Hgzf/Pg9Vq/sX0yY/qEPFepPEQj+yV/TQXbFQP1jdzjw3s1A/DA51bkLPRT/2vXTikkI5PxQ67Jn/XzE/eBFKkPRqOT+939HZUaVIP2uoA1wmpk0/oVOj7sJWQz9gpvnKZ6MrPwGqhlaklBU/zIfPIXEELD9XZ+aeCbJBPwCum3l1YEg/fi4WIg7/QT8mAJ6DtJIsPz65buhBMws/f16+DSMO/z5bYIXlCB4RP1xWfoaRgRw/DTtm3NhWHD80EXz4q80QP2npvsLi5AQ/i6hRKEn4ET9dbl6zxY8fP04pzXYznSI/wXCeUxILHT83WUNDwV8NP9DmXB7bJgA/6TuJS0XgEj8uokbKBmApP/y1+Pe0gTc/K8dhAhqDPT/yKgTBfJY3PyYmIPgZWys/FwY/mVK+Mz9J2nbdpEpKP1DPYEh0zlU/Qx/5DRZ5VT9S4Y5YoDRSPwc566YMQ1U/VdhPPxTPVj854Aa6u7FOPx4Xbu3Eszc/bCAxzfqkFD84DQ8lPHDlPhgehFdY3bo+AKjhEH051T4+ddXJz9P+PvGgd9+kkBo/j1Vnv7DUKj+oU4heMJwwPx/WVGlahCs/U70Dw6DVID+Caig3qZsPP901nPFgY/o+VrS3fWf39D4r5Pvj7NcUP+eeykQnczc/76iWSfcuTj9waBKw1w9VP8K01ae+xE8/RFJXn7nhOT8B+P1sB8QWPww6UZXumuU+a2t4Fpcapj6m80N1cltYPr7OpT4V4vw9AUYcvoRpkj16YuNTxzcZPRbHsBC6iZI8/OZPu588/TuMBIeZcrdYO20H/d2sY6Y6rQNG/sS45TknbryO9Y8WOTVE382Z8UE4GoDcbBhmqji6Ooq3pk4hOVfZ+XWopok5vPI2O/0X8TnF9Qo9IX1nOm396oWGU986j4tr+dsySTu5jySnoyauO53fob+iEhc8+uBq/vS/gTySuxwVHOvgPGOtQ95G2TE9mwp946m1dj1z7RvrB8+8PXogSsnkhQo+3LS1rc0bUz7wBlvAiXaPPqZCF9vXPL0+C/8bMEeT4T7CwZ+eCi4CPwWzpE23/SA/a7lrNQ4GNj/66OndNPZBP8DEYaOFKkc/RpFQmIY3UD8QnJYw5IBTP7A0nbsQKU0/oGzjV6uOOT9u39bLsCAuP4eBcA/p80M/MlE5oSJkVz/RkyL4nJJgP8gOhVFiP1w/kvzpOd+1TD9PzSNFPA4xPy43qUBzVAc/zAoN9Exx0j6fGYf5qFqRPmPC7cUqUUQ+UpRGdqJM7j1NSfrpGhaMPcp/oXWuth49y4S1jwHtojxXT0Uo95EZPPj/W5hvrYI7dJ34aE/S4jo/wF7xLxW9OtJkfKNyAKs6JfKraLDWijqFAiQRXu5cOr/fvAenHD06aAJ9YwRVYTruIIb3TGh+Ol93cd2BkYw6wIiUQFqvjDqHd/cD5Md+OjqMKJtHpmE6KukuBX6hNToAwmd54VT8OUgXCL621LM5VAxMElQ3XjndEkC5z4kYObl2MWeg7RQ5A3ibU3wOCTkHNiTXZw/wOOLG4a+fAMY4btTUR20bkDgp8OKi+jNJOCDV1CeLEvU3SHm5YUvUkjecbtxZGvshNzDe6XgPXaI2yw/6wHrpFzY8zEdTZ4fTNdAC3zjpLqk11PUA2Xq6cTUymH+9uEQrNZjiaKJXSto0HBA+lrraijTr0SmmWLtBNBXxZSc35fAz+5yipB0FkjNVWt+gD3JLOqdEJp7LlPE6cMEFVbw6jTtnG3Ez39UePIVOvQmoZ6M8l594oySdGz1KycKYKIqFPRpCLcJzJ+I9uo4jZPhuMD627TvLy+hvPnm+KTgWq6A+ieqsxzgFwz5VIUbp4OfYPkRdMeh6MuU+prKvM36R6z7QoPNZhirrPs1q054dM+E+uwSdr9bdyD56Zh0/kK6jPux1btjgfXU+PNcx5aGEeD57d6t+j8+OPtjhq8FvgZU+hayKLakMkD5+cpjJ4Jl5PvSukYFK0lU+fnh+2bDgIz68BEAYZWHjPf7IEI+Zu709J1oLyBqvFT7BoIkjhFdkPiaeA8YmZaQ+bCo4tXja1T7TCIwgUwb5PkftJGUAoA4/BKBq/v4GFD8dtkXIPQoMP34c11C4+vY+yEY7DeAB/D7hK3BXA2IiP06ZEFV5ST4/V9LO+m5uSz9Gd6mmgp1NPyePMYC/MUg/tqA+eKWoQj/0+5NmZDU5P10J9OKz2jY/KqHOSkgeQj/FgwWMY0xFP8zoOxoRvTs/DO0/H19kJD+L6wzIOFUaP7Xn8bcNHjc/O9ygnpt7TT8oh/9u2EpUP+Mg4Mse700/X0+Fm8DFNz/XVk61vgUXP2plJIVr4gc/v8sxdgkxEj+HBbVYBc8UP5OMQjKeQQ8/irAPluswAz9t9Tcl5d0NPx+Fj5SC2SM/WFpCYiYJMj/33PttVkY1P2GoDTfHkTA/XYrT3muuID84zOSiD2ERP2GZceF92yI/YNRpPLVXOD+bLYIBt3JFP1n9MIxlwkk/yin2u+PsQz+GqQmprdkzP8sbSaEINS4/J0BKZ+SQQD/YjDYpgbtLPx5Pi/HZMU4/LMwn7Cm9UD8jHvyxhH9WP0b9xtH5+FY/mOzsWe5mTD92Q/SPQmo0P2jcs/ubhRE/w4R5kE/B5z5iDCV5aA7QPrZDKFoXpOY+Zsh8FsNqDD8NUEgDfO0kPy8+GZyAITE/FyHhKy0cMD/FdoUI1QQjP1gXy1MttRA/8iff56Av+T6NGy8iLTjiPjvtBBRMyeE+rLwO2RtjCD8wFwDVyHAsP/ZNxmmyZ0I/kvAPEA3IST/ZQ2FcKoNDP1XbgX6Y5i8/K9QxvSQmDD/9EeC9tsraPgKDuFd6e5s+Msn9stJaTj63xlqSzwjyPVXoOKCYCIc9SmpMl2SYDz0wI/pThEGHPIICA+zMW/I7Fn70H4URTztjne9sCSqcOvsENkNhV9s5SFLCwflpDDkqZ6Ya5VOBOETvzo1kjwQ5MH1+YVviejkFeCFlITvjObnRuqbwJEM6F8SK+DahsDruf8u8bBIkO37wDE9/5447OWjx2cky7jt1L+eAt5BOPKFpVl5udrM8cofqCC3vET2ITsG2QKViPY2bc5d0zqU9YmHZd2i74j26pGSAa3smPg9N8pxdLG0+sTdkolaOpz71Rm1DrTzVPrknHmH15/Y+W/fj8hjKEj8dUOx24ewsP86Rm9P5PEE/PkiEub3KST/jixMctnlKPxdbhfPp20s/85vyzstyTj+9mH1NHa9GP4jYAlNrCjQ/lr9wyCQkKD9SGq5v0KBAP7mM7MssBFQ/0cc8BNMIXT+OVv3d/1dZPxuj8MsJiko/t8IvzACLMD+sEI6w2roIP9/EmjvW2NY+vq2Nwz73mj7Yy5D5bkNUPuSYkxhZhgI+B6LImdqFoz3TA7bJX9c2PZko/N99Eb0867eAWm3sMzyoaovyG1qdOxuzAogjFiA7eeiG7Yb8Fjuf4lgz8V8FO9j4dF/uPuU6g3TwGaDutjqWwibJWoaYOpXpZYHu3706iPFk6fc12jq9nB8zKKDoOvDYESLiueg6Qbo5dV+I2jrOjPdeaG2+OmlaXslApZI65R54qeZrWDq/euvodBgROtZTZ/Csbbo5PDhqGMMAgTnJhdfv1juAOWlVVyzLc3M5r8xPaLHvWDkBH7MN1BQxOXOAoLtbAvk4j9w9G+2QsziDLCBN/1tgOEb888BePP03qDzeMS3rizcbTDc19IwMN5LtoSOaJog2vaCTo4pQVTbUouejRdMrNhZMonFdnPM1ZVvYTKhtrjUJvjb/SAlfNQcpvfgsVhI13hzy2sEsyjQIQEggBkh5NOwiV4TdAhs097Q6CgqvdzqrQSx70/8ZOwFSasiLxrE7jxcKbuGJPzyYVoMFo8LBPP8VpcYg4Dc9TtaBfY4moj1vf2ot90L+PRQAQQaQREs+YqskQW5rij6PV9Cqe5C7PjlHHB6vYd8+x16cef9p9D6/6bpbrxsBPxc48QPKxQU/EjTGfFAjBT+OfRs/rZ76PjSOXzKEO+M+eB145U6Pvj4awQ27KIqSPhNreNdM5Js+DvdtQK69sT76iBAIAMW4PhxZqQs+fLI+dq6WiZN8nT6b7rbeIiJ5PkDqmzoD5UY+EGpYTBpOBj56F0yp5iHUPfRJqAv7Kyk+wpoxmcCcdz4VhZxolKy3PiGITI7rXek+f/26ckwMDT8V3ylHPMYhP7IIkEYpPyc/+tf4YR1BID+VvpdFYvoIPwCpIwKjB/o+vjsSadNxGT8Llc1jLgI1P4BrOR3O0UM/2exCOEDLSD+wKBmRoT1LP88KEaMGVEo/nV4Fxuu+QT8MjzbLc0k1P0PBCyMlmTc/XQKQmug2Oj9evICLowExPwfqwflcsBo/2TXwFG+sHz/HyjJT6mRAP6ES4la7+lQ/pxKi2GTaXD/Z0RGuTENVP7fH29Bj7kA/bFPyigyzIT/2NG2NamIYP4Y1+DkBYCE/22pEl6Q1Hz+SDjFvxJ4QPxihVYtzjwM/EuRHOsFWGj/Tk4et9VAzP6sQmNLhpUE/r59Nt4bORD+4BjwTmjBAPx2PSxOHPDA/CFwy/F4RID8mW2/5RywwP3sTYonSHUQ/2lDqJgLkUD/O+tBDZl5TP1SGMHqiEE0/mrQI5BgMOz+18+2bvIMoP1Jdui8riDI/+PimWqRxPz9YybYUCZ9EP+chdBHYt08/N4nk/g8BWD8v1JqHhM9XP2Q8K1UyoEs//aNmjtLRMj86I4baj68RPw9e/NeNvvU+I1ERK++K5z7IwnJV6c/4Pic7mpWanxw/057IY8khND/WxOUcmKw+P72OynKYZzk/n1mBW3yFJz9F51duNcEKP6g7GKG+xOc+6fFkCHPzxz5bcgc5D1bNPtRYMy1Z1vg+8zDIH0+DHT8iLF1uSS8zPx8my3us+Do/LLBYn/R7ND9YtfML48wgP8xjV86Wvf0+R2rbAPpizD7fmtEzKzGNPnPaBB9jKEA+VjpzJaU84z0PqYIxXZx4PWbBTSJV5wA9Ic2ibRDqeDxVmL9kE7DjO6N7/fZOrEA7WDUE7hNAjjremvOdMGLNOfEIX1J0j/44ImL467hl1jjzKqVOr1dbOYGOIw4o29E5CCCBt+4qOToKP2D+VWGVOu7ubb5+fPY6CXQQoPdMZjvgZaJP5ZTQO43M9iPGLi08ckoiwEKJhDwKSP3XMB3jPBiivw4wW0A9+OCTPzfEkD3oTDLOifbSPX81ZHeqQQo+85BIJkv5Qj6cjINnCoSDPqlQXTUCUb4+WVILrmHN6j5Ai7BMBhULP94u6JqccSI/LE9EB8F7Nj8YW+VvdtlHP0FaSGfB1FA/stWuqyclTj/f1k8r+qZHP9ctVrBugUU/Njg5Cy/iPj8rRk0ClkUrPxxSZMnX8SA/KHsDdzkjOD/51MWQvqJNP/tRafInBlY/O8R63Gf0Uz+Vsj7wXlJGPzQm/r+AZi8/aqxllk+QDD83IBFQnPjgPn3Cvl8scak+9mOuwDiqZj7PbMNidNQWPusOf8bJPrk9U/z5CMUyTj0rYJUt7WfTPEPjAGCpt0o8UE+n/BRctDtJI1tANRdyO1euUMZOEG87u6euEXXjXDvqyH5I57Y8OwrpfEKaCQ87DmEPhWSp8Tp8GCGTvfoVO88iLNR5STM7kN4lB94eQjs8Sas+zDFCO4JCZAoehjM7TOK6LcdjFjtD/JfZuXDrOhgj72Rr+LE6Vk71W8wpaToG5lClQPQTOqWQ7HHFB+U5vUxx986B5TlWIC9/esjZOU06udWmhsA5T08zuf2jljkkySSVBZNgOWdbjlsc7xk5rkOcdAGvxTiqgaD9GWBjOIkN6z6zgPI3f3KkxCz+cjdmCDN0L4v6NnjpkaMeBNQ2gAt6yVo/qjaKpoKd0oZyNrEZYw+cFS02EccMPp7R3zWV2MagtcaVNROscrKSjlA1RMEHT7onADWv3pIwZ0ihNNOdqIiLHaM6MN2L3VcrQzsU6/71OnjWOx7Skk5tZWA8euuAd9kL3zxrqIvlOapSPUUZRDMAzbo9cJdM903FFT6AOCBUpGZjPqRpvo1vtaI+cx1Ke+B40z4mgEnTQRz2PgFNxAstlgw/uh0WRFiaFz/pYFt11mUdP1JaN9soHRw/IJuL172cET8iEHa063f5Pkon9PRdYdQ+HwqmMdlgrD7CCYWIXjO7PjzYTGIOcdE+PZFzF5Za2D4PzqW21CzSPnSXTHrn/bw+LMlRWiq2mD4AcV+hqIJmPtqKnl4n7CU+Y35K88Ka6T2c+oKSJvI4PoR+76DEZYc+XKJAhnN1xz7IKnOU2SL5Pv6fkAOoyBw/q/LgUNicMT8AAt/S/Qg3PwwFr+bJGTA/2bYGwTlBGD+X0nNzi8X8Pv/mHk1jsg4/GxKtfd9UKT9WF+hW5yA6PxR1dQwj2EQ/7bMURdC6Tj876oIhYgBRP3SQOWr45UY/GV1bSjkBNT9OAQnw2H8sPzvPzcUeyis/LvOySmXaIT/a9zZYZxEQPztpAldZwiE/DihvhxnpQz9Emc1xG4BZP7G7EhK5hGE/A+DvBPLMWT+6FBG066hEP3/q/f9Fjig/JdykuNDzJz+AQkPOBKAxP+5PLHDSKS4/W/zmb3rQHD9yu/kN1hwOPwJSEGTWtiU/7xVeqrcnQD9KPSNbM5JNP3fC1mxBc1E/kqCsHnosSz/RpNucOS07P9rmYwwrlSk/N8o8kHXONz+1I+Fzr59MP03nO8HW+VY/XuAKG00nWT/26UnJz1VSP1XaEcEEl0A/43BzbJFfJj+QcexWc2ckPytg+qXJkDE/j/gLSBwRPj8o5ACVktxOPzBHwsQCiVk/dSIkj3CYWT+laOWrl35NP8Ne6TCLijQ/nKhJCKqBGT9WHXtkpjkLP/wewU8l1gA/oV299ZAWCT9Z2EewES8qP4ssniWkIkI/hSp704gtSz+HHbLQJtpFP+76NTZ98DI/qMyV8isMEj8tR7osvofkPob1MIjfHbQ+DK2SnaPqtj50sIYXlM7lPhOIFY0IMAo/645ESGIXIT81DeKOUx0oP4Uv13+kYCI/rthlNTE+Dj+//WR+XNnqPh5vjlNfsrk+dLQ6qop9ej6O+W3LRmMtPi/muwzXhtE9L86EiXR1Zj14th2Ap+TuPDFIChL8ymY85DvhKFsH0juXWQ2VgI8uO0mntZDevXs6Eta6YSb2ujmKZiPDhb3sOGRog716ayk5/YoEWOkKrzlLmOnsUkMkOkwRPhtMYow6ja8CYPRf5jqUz98DGNM+O184LO6syqU7M/wYqzjDDjznBzstfLppPIZ5GfzTYrw8fYqXWRChET1hamXafOVpPRwgXUi13bk9D2AvyoPR/D1urSBpAyUyPiNEbeYzXmE+BWr3OcjIlz4BpfySUdPQPrJWgZqBLP0+e0dIwIRjHD9vZ5z0RgAxP6UAODUsWUA/p5l+sJNnTT8dFhOL3oFTP9BVVGPMM1A/ycmFRXE6RD9LFIeT4aA8PwtUZq9S7TI/ZWxj8T90ID+nOKCLmdQUP5/Z87GmXy4/E2B6rnoKQz8BWKFrUH1NP7VM8ssLFE0/gBRwRMYMQz9qAgotogAxP6TWvmtuLxQ/9qTro2TP7T6HqmYE8pq5PjEdQNUUf3g+l80+2ouFKT4bjVwYaafMPQcrwsm+QGE93R1uUyE95jyaIOrw+KlePKIrrI30ndE7oLNhYymcxDs/ZLdlaevBO2ixB6w1qrA7I66j14uQkDsO6Qnere5hO4EmG+WpvkU7t4D7nOGbaztyrHTxBDuIO6kmm9fgw5Y7ENNzOanbljvKzICjNYeIO7lK1B3rIGw7J3CcWKI8QTuhXObwlZMGOyWR3iBDn786OhAARkM3ajqzUsn5bNlGOkhgl80fVEg6hH7+ElUsPTrA68V467IiOmMfjwgUnvk5ePt7nOrAwjnDzuRBDlh9OUvHHoHhiCg5WkVESkjsxTjo2NZwuO9UOJx9g6B/uNU3hmM1h1X8bzdE+94EShdQN3514YI6IyU3lDUMqW/m7TaZqqSerdanNjVNmqS3Zlw2k5ZJsQJuFjbxM5//I+/RNQzelyjSoYE1XohRcnvhIjXRmk30CYjLOp4Y/PVcbWo7LmpHa0hP/DtmduJzZLeBPF6RAcJzmPs85fayE8vhaz0E/PUGYuXRPWIp4pzscis+qxxAK9XUdz7On06VX7m2PmQ7ilrbh+c+gdRKfiGfCj8/+wvlsxkhP5CHXvtq1Ss/uIB7njT4MD/qokDgV/ovP4A6S3D98yM/EsxYXwz0DD+QV5xu23vnPlUhccmbZMM+Vj8Y6h221j7BOlII60btPsaC1PjicPQ+Lno8tIqC7j5B/kKAcVXYPit3QSfBvbQ+N+vb7Mjkgj4KEz26j2VCPpaXcQ/lJv89bw8WsVAbRT5aSRD+ssqTPkLxhRD319M+bI4prDBDBT899FT9FlkoPyFDF5/+yz0/Hy3nCDZ8Qz+goVmWcTw7P+4XHzKhZCQ/ohg/YtujAj/0V4DWttoAP5R0fENcaBs/ojWkZjvzMD9p652V+3tCP47TeZMUzlA/cLt+cje3Uz8w/NnM+FdKP3wHlQ/R8jQ/uz/OTEYuIT8TOOv6P7cZP4fTHQLIHBA/Y3vGfQrNAj+KIIJaas8hPxTMV73DrUQ/37UByCF5Wj9utawFCStiP2brQFIVvlo/2gjnFgmkRT8CeIwXTRcvPzAfuNFp1jQ/5o3zjUejPz/g1ymkxPQ6P1sYYMxATyk/dSgdiQufFz/f8DckBywvP5VDdXpSJ0c/Avq/kF9DVT8MMlOJTjVZPw6Ik6Yfs1M/6d06JseuQz+fun7nBZ4xP4yVUa/LEj4/S7lGLCmGUT9gXjVYlwZbP23osE2+Wlw/4H9lPQU3VD/Qvml4G01CP5jA+P5s0yY/5WFueVj9HT+b4t4JNsYpP+7796CUBTo/HU4aUOCUTj+5zatRu/9aP3m+eWZ3Ylw/4CHt+vorUT87gsyWT5Q6P3QAop0vhSc/aDmOC98HIT/yTh11ccoVP5em5on0SRc/fc4ECOPxND+2FzFJHJ9MP9NxNXYpUlU/8hm/xSEDUT9XXbEwgBM9P6PrjnSfsRo/af3mB4q16j5lL0KpKimwPv38agVby6A+H3mvHSFu0D6CusxQOt3zPrxbfw7cBgo/rEn3tAltEj9+5EcF9y0MP5aV1wasQvc+WFAGZ+C11D5qE3I7ud+jPqV1QAQpiWQ+U8yzlyfUFj4kagihPUe7PZn/AoP8gFE9cjYuPsQb2DzITL0/dM5RPEeil/vTMbw7FJe14hXqFzuKpZNm2bhlOrhbqRE9H6U5vidV2otG8Dh7XmBPG6N4OSpzbXEkFv45LPkU/5aiczqAOarHNm/bOgkysD5r7jQ7CkCVS13WhTsGXeM+r1njOxaj+6cEmkg8AreQjOL7ozyGlCSTd1LzPNgxkx9rOEA9NE0qg8gpkj0D/amrRCPhPUlGMXmZ3SI+rh6QOdzgVj6hzXlWREaBPh0PXcEcgKw+Yehv0FNS4D6LXK4H3VALPyLdc9x4+Ck/jHZCwi68PD+y/gSpcJ1GPzNtKZf8kVA/NGJGMpZGVD++Iu9Mij5QP4zBUI4CEUI/fuFx1xKRND8HNMYF2g0oP31a/GC47RM/LdlkQ9XoBz+r5pNh2hMhP+Nlek53/DU/POkmYRWnQj/DirYOHU1GP5A5tTpnR0M/FTVo3YaRNj9Xt7ZbizUgP66dWpAynvo+EmfjojATyD5/AJH5hZSHPtdf79nS0jg+PmFkgSf/2z2OSou67uNwPdhX9zlCyvU8mpYmAS0tbjyKG3CY660LPF4mvTxfSBQ8tTY+LCCmETytj9LNxmkAPDudoLiKUOA7ZrHH6fewsTvvgvn1H+KWO4tefCv6mr07B3IRHID82Tt4rnFbLmroOxtJKe2vg+g7K4U1ijdO2ju32SsYtyq+O8r4yIhifJI7LDlshWg2WDu4E5gXMPcQOw4mHSPtVL465FzndRKQpToyXLP64X6nOg4aqkypLZw6gOCKcbAPgjo/sVTUc75YOh5/E2g1HSI6v1fPYuZX3DmR4xMTtbKHORsqEevoLCU58v/V+os5tDjJ/EwOJJ01OOeXf2bWYuM3HQ200mwbxjcXBnuO2xCdNxLEfCEbnWQ3Wq0Lny/HIDepEHG9vR3WNl6yb6HO+5M2wqIqY7+eUDZsW993uG4ANgZWydDNm6E1NeitxHtB8TpGu0Cd3D+QO6RCEHt8qiA8plGwrjYSozzrhPylz3wZPd+1+POiL4U9KhxLjlDY5j0GZCoCkE8/Pr4ue/rTp4k+F80i1N7Txz6bAjXxL2P4Phfxq6sAaxs/dkWuPn98MT+g1x5Erw88P5aDZcM4wkA/wOoFmCAlPz+PYzgJCWgzP3CFL9w5aRw/svdEvwmf9z7FELRvgsPXPpdgxGbKOPA+gK6JZvn5BD9YA+qDv0oNP9QyGyFF3AU/Q47n2Whv8T5FppWr5rjNPpBlIiEiE5s+Xj2g/itcWj4H2N/WowwSPhEASvZFf04+97cXwlmVnD6SD9QagqjcPnBrFVoUtQ4/+CTrnu2UMT/Ac4lQMYRFPzk5LQ7/I0w/EWzfJauqQz8+H/x8L2YtP4fFv6Vcfgg/ZpCQv8TO8j5kb2jRzTcNP7XPKVSmgCg/IxU+iDOeQT/NXjuYSZdRP7ZHLpeArlQ/yns9FnUHSz/CJQnY9+czP0EU1lBNJRY/GbpWLvtzBT++ggcygVb5Pnf8zNsvpfY+JYUIPGJUHz+VvfXcul9CP1aAuDuPelc/nfuMnNsXYD98AmshLa9XP5bfnTDliUM/TtaDm1UnMj9lhC55vX4/P39WD+FSaUg/ftvpgavjRD8tH0ocCrozP0XVY7972SA/1xWb+mNNMz+hT3dXnX1MP7anofIIYFo/YEqCEl+dXz93dQeShu9YP351i0hB90g/RAw39mMvNT8MrTF81lBAP6q1QcYFd1I/S3xniM+RWz/LD0zQpw5cP/hwBHgQ/FM/lis1/eHfQj+Yw2eLEuwpP54hxTWM+yI/CsLyNQ70Lz9o9Um91Hc8P45a8cvaSU8/mmB06g+iXD/TzqvuZgdgP7gyZWXP1VQ/RSx4pIWVQj/pcrJVBls2P8T26TedCzM/7CeVAfjwKD/spuJR9yAkPyRUkDNKOD0/6sEFrcaPUz/oHhGOwwJdP0EqZ84ADlc/9DEg7puaQz9MpvPB1dchP+P5TbrFa/E+Z5LCeCqasj65h4NeqaqIPhWi7L2RNLU+yLmjeQfC2T77vkHXuu/wPnQUUEGCEPg+cFBkoWl28j6TZKCu3pLePpEe2j+QTLs+zD/iAVlDij53x6FW5TJLPgyXO7iMS/490fWpIXAhoj2mFL1DNk03PYEQ0BoHEcA8XL1kpvjBNzzfo96nMNOiO8iYNl/29P86lSXSi1MLTTo9XJQOi0GMOdajSak69DE5aQ85S1pixDnw/K8eieRIOuuOuluIPsA6GvQ6ckWsJjuFJI/e6A+BO/qXZ2Lzrs47eQzOtkqAIDxqG6fR/wyBPK1vwM865No8j7aY8uRmKD1lvZMfU8duPYUqbPVffrc98gI8AkGiAz7xCJtmVi9FPkzUUXItSXk+k0ks0cwooT4GoI5Ie17CPhSIttWxpuw+PAJ+SysOFj9fqIgqI4w0P65mYn0VuUU/xZybsqewTT/xbx0jmLNRPyBx7+WgqVM/1hManyCJTz+Q6t1WmwpCP1W4iiL0NjQ/5Ez6Xk8tJj8OwK8cCyERPxMfClAa9QA/skiC8plvFD93sh6Hg0wqP01o71hQQjo/E2WsalH0RD/WpYIWQaBHP8DqR8KpSkA/wx6EJOJlKT9gOsRHFKUFP/wmBDZU5tM+C4JVKSuhkz6cpZpGaLpEPhn7RyOraOc9IFntsOJCfD120/kJJDwCPbkvQemJ33o8C+4sYg4XVTwo0DYIWg1hPA7EFOdbrV088gA+v2iZSzw/UyMyDW8rPO591aGMzf07l2L3lxyV5DtjlR2jxxkLPFRuK5F2yic87JpzVSNaNjygJCJDfXE2PPH3gclHFSg8G0zzFUSeCzy1YWR5kuzgO+Gi5FXFKqY7aTFIN/MXXztLuWzyhWwPO9kEj1IbjAE74E60EypfAzsEyRJaAjz3OursCPPoyN06TSYU1g9ntDodh8RqNN99OtiC/vzWXjc6xvkQCEuK4zkG4nqmznWBOVDSi/2ErhA5/BUh/RxPkziNod+yVK1VOFYbyz7v7zk4J8vEjM4PETjoaCrzPUrYN1JyaQ+6UJQ323BOJQgWTjeVInIzJrkON0Vkx34qV8o2+SS+3vQmejZk2DTN4AkcNkBlxHePnRI75AS6ENFjsTsOC16W0n9BPIN7Fi9SLcM86IOzIRtxNz11G/xn5bmgPQxjPXe2rf09CAffuuATUT7zbsOI0P6YPsHo9TBS5tU+knDRVhrSBT/klUSzTTgoP2et0Z8hmT4/DD1a0egySD9l2EavV1dMP3VJAklxCUo/rRUBYkNKQD/FJ0j4v08oP47GNeB/HAU/SbOgX6gi6j6FW57wBdADP0yk8DYEqRk/7YBAI5fqIT8lnPM5470aP+xznrgQVAU/BDKR1fYt4j40Xy7HaI+wPsJifhdNH3A+Ch9sq2hyIz7wrAAzP9FSPhPjTNSenqE+OfsLrm2q4T58bGcAyu0SP4pZOzD/rDU/Z4a9JNCGSj9g4k60wVhRP6Ts2n4GP0g/KG83gw4dMj+m9zPwFFMNPzWkTB7KIek+JYbNhK3SAj/PCkzZKfclP9BZtpDUFkI/2ntXkG3+UT89P5glKElUP+Ui+5eMXEk/vhMGh7ecMT+Rg7iy9sgOPwOd9tp6U/E+FZtnksem4j47G6s8I5PuPvD6h+bfdhg/7JGxCW8WPD8aXLgETtBRP0T04tTGXFg/OjbJVKnwUT9YvfQWhK4+P5IL4l79ozM/SkcnZrOQRD88Nj7lVytQP/kohcyNAEw/UbjUx6cqOz9RhLljehomP6gv6yUZ0TQ/ENjOKTFFTj+qK6gwoXtcPyGS2tpFdWE/yPsiEy4OXD8zvvXYukhMPyZ6r7U9oDY/kR0Htz9+Pj87QmCZJsNQP9DesHi0j1g/WrKdlzT3WD9tV7RKiatSP6r5FC9fo0M/IxASwyyHMD9hOFZK2kIvP21nyH8e7zk/eoSiij3DQj8Dk9uh1+FQP4LyTAjIkF4/27HmuWH5YT+5fjMfbOdYPy3zqkh5m0k/7vqxWYiiQz/8tR5S8o5CP5EUEd//ATk/T8TDjLhZMD9ZZxEt4N9BP+c2a8c0Ilc/tpxP26oQYT9rnvY3mgZbP4ZnAUzC5UY/MB5tUDnBJD8e8kFK8iH0PoIuCXj1+LQ+Yw2E3OAqdj48/rau9nCXPsS+sdASjLw+NEnKZYfW0j7k1L4bzNvaPs7qQnZbrNQ+xWsxsz0rwT4qKDTheb6ePiHup0VXpm0+aqhPbbzFLj5zZyOSfSvhPSMNEBiUlYQ9vh4LLcZ9Gj3+F5tmckmiPOwH4gkwERs8tDMHzep2hTvtmBROIzviOi/Q9WYXlDA627F5QZgocDkMCdg1kzN5OVPP3Vloyww6lW8FZOOUkTrU3pBDHPIGO9imlhiiAXA7GfMEZCP0xzs/D+aB1xcUPOs1sQOOplw8Ioe+1UPStDwDlYvHuyUPPR4HEO9SZls9+1IEXVpPnT0FKvTTCLndPQ/+S+/TwSM+OOyiefNoZD7zJHNsWBqYPl7hmy2oWr8+V2DN0Ibl2T7qcH8mSnL4Pum+f9fZFB8/CFc+v+wFPD8lvIeUL9tMP0vtxA7sJFI/rKfVnD6DUj8EQccyk/9SP5SuEctQ/E8/+aw+vO5GRT8NL/K/Ew48Pz5jt8QJCTA/lMyMah05GD+VsF8ktpgFPw3C0YjFUBQ/bOKotQetJj9hQN+IUXc4Pw3lOk7Nl0c/BV3Mr7ZITj/dTZFCpzdGPyN/XiTjyTE/ZrRlUOiqDj8IbW4kGlXcPnhFWhGOAZw+y3aWaZiZTT6WlIsacrjwPU56UCqbMIQ9+imF0w0SCj06Aub1v+aSPKKmfxt1FJ48GJp4Nzt6qDwUS1Ul0EylPDQxzwMFz5M8AdGhYq2wczzc+dJM025FPBUiCyzxpC88Dd4gLX0tVTxvhFSw6pdyPL+/U3YPeIE8ozfKb0+KgTwymSN2ZNJyPPeTP/mrlVU8d7dUxiB0Kjz/sRvxFVPxO0dI05p2V6g7U2+y3DW0XTsc7kaoWoVYO988rywFRVs7R3h4obFaUDvhCjLnCPc0O1Xc4OnVuAw7TPOXSboG1TpzqtorNnOQOlwy66QLgjs6tKLn5nOU2DmauFdca4FnOaqnjOcwkvA4S6AdRT9WxTjGnfGKOfupODKuv/Q4GoE4ZTStRyl4SDjvhtqmADQFONBZmkb64ME3K9ffEPRUhDcjXix9J9dBN8iIjKyMxPE2n2FLYI8OkzYgXQmpVDMxO6UMRHrtA9A77ozm5Pz5XzxfUgDbVTHhPBRzyv+lIVQ9VHKTHJpJuj0LYTLcNgcUPjevP6sy92I+Pk1Rx2RMpz6pUndbXjjiPutusclUHRE/DMuZ5HR4Mj8VyTcTFPdGPxEtofQB31E/LcY6vymOVD9tXaclR8VSP++gM/Xu1kc//pZdNQF4Mj8aI5OWjjYRP/uaJH4twfk+W82CCqeuFD/dznJK8MsqP1HeipWptTI/foxjjfzsKz92y5+uzkUWP1bzyzQE/PI+A+cSdRtLwT6XVoYk7tWAPl9wqFIo7DI+K5DR7IHXUz6GxrD0JIuiPuqkS7WRl+I+jul3J+PrEz+W8r6u+c82PwBbPo3v6ks/W3wg/7FBUj86V1eF3oRJPzHMfK9xEDM/sLvrAx2gDj90v0/e6vTkPim/ztb4FgE/Fm6u8/fEJz8xYAkdscRDPzPjdwWMmFI/agy6gQaGUz8+7F2HcchGP9aHYaVykC0/0/km8RNTBj81B2ECXk3fPuZvIYaOOdQ+Us0htyh37j5Z10t3duUSPzmE++g+BzM/m09lZxtMRz/6DqXaWpdPP7wenoDcWEc/PLGK4ft6NT/vAC5DdckzP7upWnFtQEc/QTXC+7+CUj9/Mz4Cg31QP2tLVxNCH0E/FAbmfYxzLD+tED/3XTE0P2ZgY51dHEw/Avapzc84Wz+AirZBTV5hP7kTBUuxz1w/+hyhh9VvTT/rcva/Cw42P/ZsjHFXsTg/EXcud4JQSj/xwcUijGhTP2YpWiNS51Q/RxFwzljGUT/xXG80wghGP3Of5n+imzY/WM51XlkLOT+drBvAR6ZEP4XkhCJhTko/On1vMLwgUz/gEYdSWTJgPx0TUM+tWmM/COCiiR4CXD+DjQ5ByHJQP6oNT4IsqE4/x8fZbDVXTz/KbNUhJNtFPy73tAj64Dg/jo0HTa1hQz9Vr+BOlbBXPyTsK2jYW2E/OdiuPF1kWz8MAGJx7SBHP2ZjDSFr5CQ/lLNRftYw9D5iA0sCDeS0PolKaXHVA2w+4r6iEpVHdj73XdcPaAqbPsCN07Uv6LE+mv1etyGeuT4ddpf158ezPnb6943UeaA+pv8DBMmUfT6x62UucZhMPrTv96tMvQ0+Xb+8ZoifwD1V4Zf6lvVjPbRsR1JmuPk8y8JEESjGgTw1iRkP/1T6O39WtuK55WQ7les1zanCwTqQr886qygQOlQGdDKUglE5cVKYlCNjvjkymDE1e1xROrJjG5V7M9U6dXLQ1VCrSzvv2hswRkyzO7PfgX3Pzww8I00FuRFzVzy/xO9hAKuZPFYQn91kMuc8k93pSAQPPz0d5Yx928CKPSI92j9sY8o97ZzfccJKAz6ptcRNCQtCPt6Nb68G84A+4iwQhwe1sz5IiIZliTPZPiedQMvdePI+X1/7vfZABj8JMMatmcAjP+Zg3YXohUA/dBsTNXqtUD/UfehuLCtUP600kgukH1M/EzXPxZRTUz+eFnFy5slRP8sB8TPXIkw/t6IyZxKURT87kN4Ya+I5P5m59+gN1CM/tMieG4NUEz8KIkqiV1AhP3dHIyimni8/QrTOFOrRPD/2QFishUtLP8ySqYTh8VE/F/WYD8u/Sj9B1B8Gk5M1Pwmba5fIqBI/+4jpUzlD4T68u+VK8hKhPoFWDkPoDFI+VSkePB5l9D1FW1LC56CIPTiv06JZDBA94trT2o20yTzxVLo/T2ziPAS10/KJ/u0840cGsMcZ6jwmOgzs70XYPGfqVrLVILg895u2ewNSijw8U+Bc6Ml0PCHT0QhEQZw8wBzhg0rPuDx0cDkvM0/HPBo0GySNZ8c8j9BRIlIduTx2JQFvEM2cPH/ff7sfpnE8+e2QcPgdNzxO7LyT/knwOzbcezcbAKo7Krgy+spYrTsqt+Pim2KwO3tvBk9Zp6M7OpKuT9IxiTtEFbdjIEJhO/sW6TGuRCk7SzrLUNDE4zrpxOmKYYeQOncQ/o4Dii06M22+sVxSvDmsgKzpLxtOOV6SNMDOITI5a5s+c/A3Fjkn3diItEbtOMCCpSCYFbU4IlZchQofczh3CEg1q4wyOI4Jh5KTH/c3jOFV2CmmtDeFPL90sZxkNwib2so+HQY3XK1I7OArSzvf0OJg7kPpO5D0diztI3k82qdYRDjS+jwGdeIbE9JuPWHqIeq7R9M9f4pFZdPkKj7H7NJOMuF1PnB5Kq3jHbY+4bH003IE7T6iRQWTQE4YP0dlVIk1sTg/7Dsj21nCTT/yEtDCJKtWP+6DYel/qlk/Rr2bDFCLVz/lw+Fx+PFOPzWd5wAKmTk/7IT9C/VkGj/qrKJbqKkGP7TTNB5HcyI/9A3yfIDjNz/pjohDw61AP0Cm3u775Dg/rJx3ROTaIz/zJQWLeewAP6VWUA4d1c4+Qw6rsRoEjj7s5IpmBT9APqkb9/XB5FE+vOsJqe+ooD7lMwOgGLTgPrUJ2oHa5RE/6F5eU8x+ND+xcGkrJRVJP9z/Ob9fZ1A/m9OxPVDvRj+eEl8pwCUxPyQNwkSClAs/VmcxTqo04z4mjUkA1+8CP0dh90WgUys/05MKUWcDRj+Zgq3oNX5TP5FDqlCZAlM/ecbcms5/RD9aIvJwwo4oPzEGEwi7vAA/0H8Nnvfl1D7dCfZkgp3gPlkaKS+ELPw+KFe/h4jyEz+3oz4wDSwqP4VyMbdJSjs/RRV8efPFQT9+FltRp646P5BxYNoNMS0/u3r+G9gcMz/PLBISTxZHP2hnvRF4plI/k4Jcpjm4UT9NIShCuB5FP9sZEFc1njM/X4Nii98hMz+s6aBOXXBHP6TYoGOdoVc/bVB/Gw0IYD/AlSHrW9NbPyqdhqh0/Ew/8E/8h+FLND8N6DQufY4xP0pL63WCBEI/rv/oqL8NTD8RKC2VHYZRPxkGd42DFlI/KPYEf7Q5Sj/XPF3zW0w+P1FALXXVw0E/3hK7H1ZCTT/LX06js7RRP36g3RKZBFY/rSxxV2iyYD+9ssPQFXhjP1/A+PFzylw/IXCo2X8mUz+7CWm+m/lUP+eQMspt6FY/mPvdpkGaUD8CBGoKjHhBP1BXK1ZI7UI/WbBEsTMOVT+Ny15MRJJeP6Jlit5KCVg/CLOblqY7RD/0hqeFZDkiP9+6wqv/kPE+rpI1gYAgsj5sB+nHFAJlPvQQqhSUiVI+jGnlVlDkdT6YHBAWJBiNPhdsbd5g4ZQ+Qr4zfUcskD4h3zlSoQR7Psv1SNb8UFg+V3O5diePJz4d6YnOzYzoPZGO8VzcfZs9mgOOYEmHQD0lKXjbRlPVPPze3AsMgV08GDjcR6zf1TuibaHiH19BO7UQN5mNi506DCK8Htnk6jm5IH6k5UNgOahPpPvWR/85R9ahcSbfkTpPEnfEDNMVO+8DOlSGe4w7kflyYx/d8zu/5kFtv6BNPGyNmVFHz5c8ml+PBOCs1jwGJa1+ZfYYPR/ZyeAY2Wo9wJ4pDix/tj2JgA4XoF71PTlRD2AmhSk+TQAPIWmSXz6hEea2e4+YPtl7AKHHoMs+as3datx+8T7kSj2WLHYIP0wpLzxaShY/U3lwohZRKD93ljLfLiBBP4P2tOusx1A/c0OiYkISVD9yLe+DhipTP2RkWQr5g1Q/7/lp+6jCVD+uGmrMgYdSP5th4uYg8U4/tG8bxLoRQz9Dqj1Jx+stP/E6qr5uHyE/dERi4b4uMD/vam4/dDE6P0HBUTOOaEI/nhTbOql/TT8E76YiM7ZSP57sV7z9zEs/WT+oZM1wNj+Fp6/qUmsTP7+KIjHA+OE+lPu9tjLHoT7xCWWbzMtSPom+90H+PPU968T9XnOoiT38JsF9LUMTPVQZjJtHlQk98QSB6atFIz3x5XKPM2AvPamRQhmFTSs9qR9aQSFkGT07Ovl0aD35PLDR3UTsmMs8rZufD2hXtzzwrYSnJhfgPLZQ5A5/Qvw8FF+DZ/+MCj20ZnBCvKgKPUn89Ythm/w8MT2HOy5n4DwVnAgaahq0PIxOf0gkVXo8k9cg6LCnMjyPfaYAqib1OzG196GSCf47eGbVFxzPADyzHOpKkCn0O/7FDna/2Nk7Bbvvlni0sTuyB4RLGOx5O85BTKDKRzQ7H/ARlOT04Do9CJdx8E1+OoxSJcJQRQ06a+Q/4HRSrjlk31Mm5GmaOToUQqmQOIA5AznD599lVTmEBnd/jhkfOdXHSCDF4N04IcyaRGzFoDhO5I5RH5BmOIEhYt2MaiQ4rEXKRghq1DfPRJJ5SOh1NyPTwwOtVGI7SKgRux4JATzNUj6Gxe2QPBkpERCIABI9Y63p4ECGhD0eJPpaATTpPVkfFqCS2EA+HNgUNRwaiT6wiV073M7FPrGbZF06ivc+NPgmkMKFID8riOVdgeA9P8vhZnJH5FA/YFdxTZjaWD+a/1TzC8dbP6Wbqa7dFlo/Gdc4aUJLUj/9W/HG97RAP6EWCEiTayM/Pn+c4PG8ET9vLO8SmyEsPwDSW/whLkI/u9rI/Y5iST8fbyQb0PFCP/2eP/0cOC4/4Pj0NvzBCT9kMP5Tn3bXPtVqoLGJ15Y+dEkhUN0/SD5Oc2tezqZLPp2FVHTzjZk+ZOE4KxOf2T5+D1WCJnQLP2zJGulpcC8//Uk6Zog9Qz8zBL2WRy1JPzD1gGlKoEE/gWjAHfF8Kj/D7BPmqq4FP7+z4/AjsuE+1Iz0p/PhBD+kVkBp1/AtP37jCboidkc/BkWB9IHuUz/HYGeG3GtSPwi3OaJDoEI/9tVBvxvOJD95R5WwH+36PmNfB6ooS9s+RVNWuIhu9T7f7Rrld/YQPxPU9DF9SSE/N863gmGtKT+RpdxL6N4wPw8uMpHrgjI/uI1pXbWvLT/Rn5NIADgoP/oF+v27UDM/G72amyv9RD+BUTww5D5RP+LncPYQllI/Bi+z+dlbSz+WyMdmi+k9Pw25wvSEajQ/hLcCPGObQj+eNISUD0tTP5wtj7/kMlw/nNECNQLEWT81WoO+z2xLP3YV86M6FjI/VONNSOB4Jj+HwYomPO41P2vrdPq8dEM/TL1RSrCdTj95rrlWQwxTPxLlQJKfiE4/ID2dGy6AQj+0IyXvHspFPyuO2hkyA1I/01xfLYu9VT+QlMO8C9ZYPyjms4X0jmA/zVabsfIRYj9CpXNkBK1aP1qOlvcu61M/nmJ+D80DWT++uGkMggBdPwqT/siU5VU/QxkBd6g9Rj9KIjZ8YARBP+bwuAoQW1A/YS9g38huVz+gQZTmiGBSP8jnsDwa5j4/5krMpEPTGz+Q+ih9YtzqPlgYK9o51as+XCSMNcRaXz4w/SCQjzQtPmXqTx47Tk4+R0BK1y4zZD7ELVgxdBZtPg5efWcDmWY+/kbZvGLtUj6c+ipokRMxPh0iWLGclAA+coV01nJPwT0mfafZdGpzPbfyRZLfYBc9S+WIz70yrjx8KDBoCOk0PB/ZCXKsB687kNe8zOWoGDsN+w7fXvt0Oir6E33+G8M57YFW2L2+mTkJ2eMw7nw7OhJGZaDfaM86K2FQ5aUtUztMX7obcwfJO9vTSElvdDE8cwuBHEkGijxs9ITL5c3UPNugVTeCkxI9APJhE5ZzSz1Nsa1SxHyUPf9e8U3GPuA9PD0CBlBDHj6n+GHYy0lQPqQ105PNA3w+a2kj7ZHfrz49kcmQiajgPtzpuegr2QQ/ZHXLGF+iHD9LqGsoYuwmP4/l5ydqBDA/CJq6sMxbQD8z3A8Wm+9NP2Eo6ueF5VE/u8Fp0NMmUj/KHdBz+VxVP64YWVQeSVc/DsNG6g9KVj/wtTg+AXRTPy+0ZkKJWkg//t72Wh63Mz/9qrDiWCArP8Dmgqa9Wzs/psLLHePgRD9en0EQzpRHP5f6lstGU00/W0oj1N4BUT/D6TkUOdFIPwMsCRp19zM/cMyRMYhEET8UAtH9E/XfPtMe6CTKnJ8+9+2uJBO2UD4ybGyVWuLyPdDxGN+l/4Y9gYR/cFmIKz3kmAWyxc9GPaSnfVLtNWE9SmhjPJAEbD0RYYOHdWFoPbAwhVJyrFY9CBums/SJNj1qiwzP6bQIPX+2pK78ZPY8ikuzQetJHz0jzR2elHo7PaasZdAs0Uk9AtmHdCXsST09QABHA9E7PfcUGrFJ5h89lMQVVzSM8zy37F0uP5u5PG/lJ5fxUHI8S+OSXyatPzyZwt90kEVKPJE6hm/YcE0898n4JT6oQTy8L8kgn6ImPK3ngh+hAv87HJB2k5CzxjuQfmQNt8KBO20PWAkVsy07AaYtNo6KyjorSy9RIixaOgpTJ6sv0g86jS+H9mdyADqQe01YSTjkOZNYTP3Wtro5UHPr8g+mgzkgT7OeFkdEOUq6WZmhXQo5JCGvusvd0jgdzU0/mD2ROKfeseS0QkE4tU8wDP+G4jceLVHjgR51O09SdI1pnxM8izje8Dd9ozwZQMsKh7IkPWyk8/Z4hZc91r/zK5Ko/D06FU4rks1SPpYNBpid25o+uElGM1xg1T4YgQMp6NUDP89adqoG5CY/eXIyWUBMQT+LWSrOmlVRP485gfAq5lc/QBPc/iVmWj9DUr7I2ylaP+AWjNQMVVQ/4peCq2D+RD8We3nz6VYrP6o1R4nRnBg/Pq1muaFUMj80sm5JlZ9HPwFfXamzfVA/O0JeSC2dSD/3lcfHm6EzP7YnCpGluxA/MM30qyp83j6S2qg/iK2dPrD3BBtjMk8+gTesQMxeQj6n4wJXH7uQPp7NCuJkxtA+S3vUI875AT+4Rq2N/pYkP78aBFRhODk/zFVl3/CKQD+qm1c8tlw3P1sCs3k0ECI/jhfN30c8AD/58u9I05nhPlnzq4hsFAU/C2A+5NmNLT/62kR4Vr1GP2vgYyz44VI/J1u4EMzxUD/BLlFocIlAPwlaLPjz+iE/y3I5o9CH+T5TI2oTNhfsPveFeAzIPAo/T4fD7C2VIz8HoeFAUdkxP91rJRzmBTQ/m6aLmcorLz+DUSDhhKAmPzloqo9W2SU/2DqxXDZeLj/ZS6S2Y/c2P20r+SItGkM/ba0igVOSTz//thjabXxUPyXxdOfpzVI/9szmn9SrRz/3lIi387g6P95esooaYj8/6EfNp4m9Tj/PfMObZNhXP7YNGRhyx1Y/c8yzWKWySD+rmuf+AjAvPzsBMdOk6xo/Tb+c8ESNKD+F+cxFKSY7P3ORsDUXP0s/d0648W46Uz9HV2aDijFQPx40FWhX00M/TIZkjm/2Rj//RUXmsi9TP7dm8+U85Vc/GU6F+P/BWj9oGecYw51fP1MoNpDBDV8/kKuR0gA4Vj+InNw8v19SPyZ7FJBc9lk/qBWCErHcXz+xilyJpRhZP7OQ7MjZTkk/DpIshE36PD9VeSjG6sNGP4i2WeVrCFA/XqGr8ao4ST8i0pFF41s1P0YWPVCNehM/4wTuXykz4z5x5+7W1pGkPsj5W/o1MVg+jCWhrnB0Dj7nMxUO9yMiPlOtC47bFDg+qXz+YWhZQT43nlruDwE7PtROaMyEqiY+bSlJ8Dt+BD4qd8pv5e/TPewNJHje2ZQ9AG2f5DNsRz1mUupqTj3sPDqzCj4yQoI8pjnzphFPCTxrCX60/MqCO7Y8OnJ34+06PBLR9axxSTqebACL8VSXOanTDxEwSdM5TlVvXsuedDrxkQx96I8HO7R/8G0Axow7BrT4vJTGAjyojcDu9C9qPAVD4zXghMM84QbTwdUjDz29H0W3OgpLPalTTzt7Fn89cBlAkDimvD2MIz5j5i8EPlYdKgaRfUI+oAuwCxb4cj6gJvK7P5KZPs2V+zeia8M+zp55TKJw8T6uIIkvLE0VP3ObJSDPCC0/YSGmVLEmNj/+/AxB25Y3P+irfJ1L5z8/APO+j9cmST8BBh/vxoRNPyHaDhluCVA/TWOtne6dVD+t/STLB51XP07IT0NHiVc/83nvI4sTVT+XEgTRJrVKP5n02Y+zozY/Vw4DdPf2Mj+NnuVj2ilEP9DsyU0XCk4/tP10cuJ9TT8LRod2J7RLPyY3GEVVW0s/2qH2zhUdQz/cHPHFKHIuP4s/7cw3Qwo/c0oXPqhI2D4W+5TvAASYPuhF00x2Y0k+DX4hnYG97D1AFbrO1zGEPV79kYZsd2A9Svi3Oo9sgT2nLQ00xT2aPcxqltedW6U9g7sxXdOVoj2ejDuSsUiRPf6/SUZ5LnE9QQ9o8NLiQj2+MS0w2FsyPfn+W084+Fk9WkXaoS3Pdj0prbjGEG6FPYGpSRp0hIU9KTzC/ewWdz0SZHpFk3paPfUOxU3VOTA92QeyOOBB9TzkskKpgu+uPC4zWivOc4U88ccjsWigkzxqHYZYdAKWPBSTlf+VZoo8wx2A2wHscDz0dAwq2S5HPNsjpH6s+BA8sZs/wCqOyjsVPmA8ADR2O170c9Wv2BM7xGIJGUq2pDpBvYZhfp9vOteZ2MZRfmE62VZeUI6ERTpxIWkC/nwcOokBwzX2SuU57n0u3Sv4pzneu2+oRPhxOUT1GS7yAjs55IB7YLHd+DjdLm/hDOuoOKwPEUr5wEo4EFokPn/GhDtemQ0BNE0jPIQ5pEWAKrM8tTSA2uRXND3ihVVEthanPYaN8oGUCgw+jMNI73xBYj5/3CcOZZmpPjs5Xqf/iOM+reiPKGucED84BKOmM3kwP3DPJ9NFaUQ/aC2AbLT9UD+WHMc6pMVUP/vm8NfFiVY/9DspYMJ6WD9jr22yD7lVPxMefb8aUUk/304K4kf4MT/pYWgLTDMeP/EwHbhzbjQ/FxWTa2U1Sj8MqM+onkpSP5vBxFfdTEs/qLFkMQjGNT8leL8UGY8SP5JOLJ7y5+A+tpIOG8N1oD5bcJZvdzpRPj1BqJVbIjU+cEh9OBC0gj4IYDHDI8HCPvhXWoLFGvQ+I0dPhdMOFz/K96smEl4sP9ByEAci4jI/Bpc/0CH7Kz+WhB3O8PgYP/Jsbjh4qv8+C3bsY+JG6D4X9wAgA+cDPz4ETsPB8ik/Bzghvu+KQz98GuofaQVQP6waHyf0fEw/cceZkATgOz95zbz7PUYgPzkBDh2N1gA/vw4Kbc+3/z4MGtdcgUccPyQPHd1J/jM/xz6vQGlBQT/g/sDbD7BBP4So0XdJ7TU/ScTwfUJHJj/ygbg+jDUqP1RMk0hKDjg/bQhPyRwOQD8RrFaSbGZDPxPi5pcb+E4/RSx+atsOWD93Goke9NFZP85LNnDj3FE/BSCNMFyuQz8SlwjbObA/P86XfShhrkg/IIZdV3cmUz+8iCi4ksRSP3EL2vb8mEQ/SYm/76hUKT+B0EqiSn4PP0ERPSbkgho/nYo/r146Mz/kz0DO2TNHPyqxNx6+g1E/04AgjNsgTj/TzRy/LlhCPxy3WRsKxEQ/Ci224oS0UT/ExqyqHGlXP3iDAcF0CFs/YM9ROiUbXT+fSeESZAxZP4xlLEmfu1A/zKMrmEX9TT/Oy+vK9oNXP29+jNZAj14/7i74rjooWT8CDtJgj6pJP/nSQEkRRjg/SNOhnVD2Pj+DGs21J6ZFP+guzE7Gd0E/VKOCLM/GLj9tpn3LeboNP0oyFGFhy98+4k6l7SoHoz7+a5tSqr9ZPugeFmdStAg+jMPf0nGVAD4LhqLjdZkQPpiqdwJ0hBQ+7i3ln0qNDT5GNBJ72u33PUX3qj7fTdU9oFLaMm+apD214tJIUoJlPVj6X+bzKBg9z7amaBYlvTwR0CYDqNtSPBQyNIK6KNo7+CucUedvUzusXxFIQO6+OvIvw90AWBo6wfQX1GEtcjnDdLO/M7MIOvMv+cPTaKo6xtR5FWEtPjtdAt/TAm3CO82BUFIJDDg8YHQaxwfFoDxGIamWTP/4PNYyhjMS7EM98dsHcAsZgT22M49G2UGxPbii1RhNduM9HJsrjzvDJT5ZzeMPQGVjPqiP1EscdZM+C0/3wO39tj7xjU01rZrXPsAEsP7aLgA/bpr5J3q2Ij/iGu6ULlc5Pw+uTCE/GkM/LTDi3NI6Qj8n06fBCu1BPxZHA8seqUY/R6N5bPuTSD8gKTCm2e5KP4A5rCa9DVI/YnShdtcvVT+3V/p155BVP7Y9ItptnFM/9kr2Ufs6ST9bvGiUaSY3P6f5ymm1tDc/6rw6/xPoST9lRw3U3TlTPw8iV9HhwFE/Bwj6535wSj/6eRAbun1EP+qDHgaj9zk/MYcTkVEZJD8XrQNN/jABPwZOFahZtM8+4leMXEFSjz4LqxRQCo5APh86Udv5ZeM9bPzhsVCflz08R+5twi2WPRn3wBruvLY93WN4DvIT0T3f/+Cc/svbPZ7Lco8xMNg9SLpOWaF+xj0Pw6ahm1ymPcsoPYxep3g9uaiSEN+3aT3a3dIghmaSPThxYYSaKbA9oZurq8hevj2caE4Kg36+PaODGvxxXLA9vb1JoEHDkj0dFvl4xP5mPVhZHBKgIS49yPW5XlCY5jyHld2GU83JPMiQbTd/Ctk8wbqKcqYX3DwD04Q0PdnQPLADOhdCmbU84fcj4xSXjTza0uXnbKlVPB6nrtB/8hA8qSNagexWvDu+zkyV/FhZOxJ3/xFMme46I3vMHA4CzDpIq/9v9MW/OhU8AgDLjKM6l7rue7f0eTqhhaJjO9FDOkJE7KfquAg6quGka5Yu1TkVPSng5IqgOboe96/Dn145/cde09K1DjmjnvBu/X2wOIE3g5AYdJE7lrjvaP42MDxeXh6KfRnAPJ5oaQi6FUE9PjaJMlhhsz1xhNDHu4EXPhHGxlOWgm4+YEQbth06tT6L0S/q187vPjOOoWrO7xk/JXAkY52RNz9ydz+0vQpJPwCiQg1a9FA/242U+FsxUT8OdyjoJ+NRP1FDh0n06lU/3JvjmZxFVj+VKXDebo5MP7JTQKw9aTU/nCTm7W1kID+/CSrd74UzP7tqRGoQ10g/2Rhmv6RSUT/uu8fNkdlJP8QdE+WnnTQ/pt711HuSET/uBMiISQLgPi3zWyl+M58+IsnildhmUD4uVT7xenIlPl+uMvJP3HE+j2gW04DrsT6xrGn8pEDjPkGqY6ODPwY/v0OOus4RHD/rfakY3zskPx93UkqnnyI/ybmNDlF2GT9KvfGi1+wKPwXCT7daJPk+s202ocG0BD9VV5rWTEclP9QJdxRoHT4/5b1Ixa5RSD9RIvvZAPdFP80VCUqqNjc/mWvjh6TIIT9GILkHWtEPP/jbGV+v/RA/DrtuDzmgKj+4L/V2csxBP1xKXnLuVU0//cHgjwHBTD9H9lPfkp9AP537Geur1C0/GAlZ2U4AMz+/lp8fC6hCP7rt2KE1Kkc/sD44tXtKRj9aFzrcqmFQP+SQCFCrUVw/f4ccZ3+DYD9BoXN8TWpYP7A/A0fpokw/T6CuzdotQz9Tdi4V8JpEP9FEWwonqkw//TZGimsETD+Jy2LaguY+P035jYL5uiI/3qPmNOJUAj/s3WMmlawMP4Rvavfolio/VKxKpTblQT8sj7pwtONLP1sDkSltLkg/kzNL6oYhPT88jb2ZUSBAP0tnHFzca0w/GSl2noN1VD+F1s1ImS5ZP3WlosvimFk/NbnK9p07Uz9JNxUeuhBHP2S6Fl4OvkU/sZSKbdXQUj+C+cPxdQtaP+uvr/0bhFY/IoEIQFSfRz/luKGLLj01P+PPsNSyZjk/XSfE4wWAQj+8uL5ahf0/P+f/EqY/1S4/BZYB9Z6mED9F8r8aE0nkPlQCGu357Ks+hb2lc7e6ZT66HV9UJAEgPi6sK7wVAx8+EKmyyfwqIz5SWONuix8aPk16+75z6wM+f/OH8myz4T3HLes42kizPefyIFqrkXo9cTK1d4/FNj1lA/Dg8STnPCywR/znp4o8OSi1Y8XmIDxJVeruRT+nO6Hd+0lENyE7P2csWjFdizqOgLomtUznOX61kQ3tp4s56gcV2E0BOzrMwkR6xd/cOusB7l0rf3A7ut7bEzgl9DsY3BDNiUpqPKoEEyapVdI8Gd+ZTExUKz3KDjLC1MV1PddVDUmGmLI9WBmINQau4T38hlr4Bx0LPuYu7cBrwkQ+Wm9AgDxzgT6gAmtMgEaxPvLKqxbeLdM+nj9UDUeU7T6bGWkhubQLP6Bv3hbRfSw/ocBIqMsLQz9uMkqiQtpMP/aKCgEUFks/xf5fsNhlRz++Szgql8NIP3G5oTQ1eUc/jhPCiPj8Rj96H3TCW4JNPyDFxselHVE/bvculPdMUT9wdZs2bIVPP/U58gv55UQ/YOoVwzFmNj8RyO+RdXg7P7aNNacNbE0/cF4Ah+MBVj+/d7GOcXRUPxFYehSGEks/FHhBKoMOQD8++/x/O88wPxstaRrIFxg/zNCIp8IP9D4skvHnL1HCPgqfi1v6BII+UIyNR00qMz6isfWpvWjiPUmFKVdbeMg9IQo1YF81yj3WUPyAhFjpPb5ziMjk+QI+qxLznAHiDj72RGJ9nd8KPlBUkXjr/fg9XOI+gz7Y2D1r+RS89nqrPY5U5GTqx549dqEKelpCxj1IPR/ro43jPb8lVCnwXvI90MoVWyFy8j2xLoN1JsvjPWBK67nxssY9f/SQT8jRmz3HanCZijtiPSulTJXxzRw91lfC/IcoCz2t/NwIQkcbPYSlZ0romx49tMeKfKRbEj2pvTRomYj3PNpSQG7ZHtA8V7m3/zaalzwFrPRxKndSPERouaDp4P47EaUhCyCrmzsXtaE6zh83O0xLrDA7hSU7iheKXFOiGDs0SbthbFT+OmsKx03wNdQ6jLJncp+8nzobp3WjO0ZmOrzd2zmciTU6jeoyNS9TATpmHxaB9hnAORwCiBbnJ3A5oEwnLbVcETkty6bTExCZO/d26m2zSDc8BegqQy8exzy9NJZ85IdIPe+Gl/Yk0rs9kZQpshHdID6PjiiZC9x1Pjbtu4g5Ur4+gvxfMVSL9j7qdapV1gwiP/fbCRRkdT8/02zSzU2XTj/tRB3LrqFRP/dNZUIN1Uw/lVwkiNZ1Sz/+I+uBOOJSP4qrGqihY1U/Rmhy248xTT+byZHI05o2PzfbBahOzx8/0M0Q3FwoMD+qjK+caytEP0ckulVZCUw/vgWby3TmRD8AnoA4JaowP5cxnfIaaQw/lz3+C+bo2T4ocC0XxnSZPkHgsaUGbEw+FAzaR8OiFT63OvkhoFVdPou3ozl1hZ0+OHBJ3h8P0D58/3IQWFvzPu9jdH/0vQs/hLaYWx4wGz9hhjkNg1AkP6ED8YYVmyU/JgYiQFdtHT8AhSfbxvkNP6fZKI+Agw4/a8iH4MGLIz+MOWpnr842P3x8o/n/nEE/MJDAdkIFQT+xTpjTnoY2PzlCJdVR0io/COkK2rI3IT8btQzO+pwgP+vK8+0B5zU/8+Uw9iCWSz/c7EwslbFVP6zVo3+6b1Q/jlFNXqLRRj8CArPW/MEzPzst7IyKyDk/1Om5iNagST/wGiW7399OP73h4DqaQUo/RC8VurhhUT89g0TZphJfPz547lnp22I/AW5078aTXT80tDANlidTP6bOoLNiukg/Tny8InhwQj/EAFespexDP05pZEggmUI/mQsggyNuND/Aqn5HTpEYP5YYFctAzvQ+nI4n6OL3/j4ELez2JgQhPwW7qzc8Nzg/In7QgNEjQz9HVJfM06NAP8uKrq6pzzM/NyKEIKuNNT+GaEK9L/NDP8RXZCQ27k8/WidSxRhEVT++9mUawQlVPzX9sbbzK0w/pbsxWfWOPT+UdVL52pA8P9oBBbJzl0s/7D3cEVmrVD9REfo+g/dSPyl947IC20Q/Tq+3rvDrND81pNExUok9P47W2OryQUc/2+XCUNKaRT/oR1RQeIo2P/r6hOgUdBo/r/V1Z3B08T7AIz6/O8e5PnCUS0wqeHU+L+AohXp+QD5pp44z4/FKPtR0V3MBc1A+Og5PhTOHRT6+1WnMECIuPlTJiUkWkwY+bc5pf0wk0j3pdXKz6m2PPVKeyIEpqD099Ozbys8p3zw5DRCzhvlyPBwakDhiQ/w7Okf/SajBejvCQelDNdXvOrsV3XgCo1Y62f8TOXdQsjkMQTNXVTO5OQADpLpZNGk6lbg8WOryCjtUxV0MK8ueO0c6js9azSI8m8hYPMWJmDxvV9VpsxwBPWundVq7gVk99XhRJ1lRpD3Qz/CVi1HhPSLfQp/lCxA+v0+FWLllMz6ph1/dPjpiPjbfN8kaBJs+/czQgU5ayj4RcW7blnLsPmf1kWckmgI/d8g/q5syFz/k15T0oyAzP9AdLHs4y0g/Trk+dtcRUz/JaAbXWHdSPy3iT5IF4U8/CpxKZ8peTz8NI7BFa6pKP/pTllEu/0U/TaWL6SPZSD8pqGI8He1KP920vfjiZEk/3le0U4psRj8jydCQPwpAP1OiNZ4AEDc/P8gHOZ92Pz8DPaKzeW1OP7acI1PF8FY/BySz6guiVj/9Y2zTQDNOPy/I6DBukz4/RTcanMdmKT+RG74wmnEPP6Opf+nIg+g+BEjmDhG/tT41E91iYxt1PoZATiQPPSk+X04wxAhmAz5/ild4wpn7PbNx3cAftvo9/kcrEs0iGD6heb29DQAyPrUCisZMSj0+zrFphc18OT7i6+M187MnPowc1WFYkAc+ZXeUTdUn2j0+fbFLKXnPPdCsiyOV/PY9BWSsr5AxFD7aF6yw8/giPolEYMnFDCM+sSLoZRdxFD6Gj0dePnH3PRheDmAJu8w9gyBFZF7Xkj2Ip9BJkD1QPX9t8sSCxEg91CdMyJFeWT0n5oaybXhcPU63KYJKE1E9jn5tM63jNT3Y38HlCP0NPTKpyLcP9NU8MYSNQuQskTzz35wVwrg8PK4LTRMv3tk7t2sK1ydMgzus6k6rTmV8O8HtR0oETnA7GJ7s+m4WVDs8O90AvOgqOyq1GIgH6fU69s7XM2iIwTp5I69ERNmSOvzdWE7uA186FVcZKnbpHDqCis4oJwbNOVd+qdz2OG85S8Y3a0jUnjssJtK1TqQ8PAuIVnkhcMw8QSBanwwtTj39KVnTURzBPfpv5kRFvSQ+9XRyj8zeej509RZzxZzCPp1SrNBTl/s+lx6FeHvsJT/DWJmnrMJCP9gl9mtIfVE/zHFMPTJhUj8dblCk6UJJPw55mSrKC0U/7f51xuHeTj8uZg6Rsq1SPzuQwveLZ0o/onrF6orxND/se140VdkcP+ftLLyQPig/tjE20lZzPD/L1hJBK3ZDP5tDnHvD4zw/2LN4hMMCJz+lOKhJ4KEDP6FrVr/lEtI+fLOXL3YQkz6ihXzp0NpPPvTBHGMPdRc+ZbWvypVoRj7T2rgiEcKGPrFDlbIET7o+sxETkyAA4z5SKpr45O8DP4ZED8y+oR8/iWpLyXirMD8frrN9Uc00P2M4Uy78ri4/NcLxqJH4ID8xse074y8eP9MADFiogSk/xSj3ThtSNT/1JrJ/ZV89PyILAVkkOUA/E68GGFJ/PT+D5CC1ckg4P3Kxgmk2sjE/SdWewRxSLT+G88+1Q5A/P0pTbVyeoFI/JqV588PoWz8wkaFRZDNZP0vAbcoGPks/KS1Ze30eNz+A6ebwing+P302MGoPZk4/8lEDPbAaUj9vMFb/b9RMPx5qAapfKFE/xoAv+udkXj/ahI81Xd5iP/8z+LNFi18/eokLY0vmVj9t+09Wbn1OP0bUgfJuyEE/NJ11aEiwOj/upOjr/BY2PxHzQyfPwic/aB4CA7pWDD/NybfZcTfmPio4FYS8EfA+cm5LI2ZlEz/YMZdxkFEsP/d4KzG2hjY/GVbNfWmdMz+6fqiV6SUnP/w5PsJx7Cg/tnGx0vinOD/ZieXqsDpGP3zyNeL2B1A/+MKUzcN+Tz8vEPBCTmtDP/bwT9az6TE/FWh+KtIBMj98AzANgjVEPxqE+oThy1A/Zmq850WPUD8gRD/8pGFDP5+rXOSPsDc/htQtKE6nRD9oIecckTFRP61QnwdMoFA/M78/Lu0QQj98Z9+1cgsmPyKC+uFpG/4+wdp5Fyndxj53UO6oCiuEPoR7Wt/T+mM+q1BVn1xkdD4amSTJMfB4PhCr6CxmT3A+Ob065erMVj7dL+pbMQgxPrLP4vwKMvs9zGd6u800tz1neDjWGytlPU5BuL8opgQ9/kTHbc6OlTxOl5T/iyIYPJMq1+zZGo07CW5MSAAY8zqoepiIaNdLOrfthwLpoJc5OXYB/HIS5DknOfBO1hSUOtFBnPaheDU7AAUYLNOIyDuiigu++PVNPHuuTeXtjMM82uC/fotEKz3ASv/NdlKEPQU7fz/XL9A9CZqTioGSCz7AP7m+10U5PkN0HA3TDFs+fifmwiRIfz6vHQTGTSmyPvaj5EX8OOE+xxAxAyZXAj+kZTFOXh8WP8vmM82e6SM/oGqHEZRtNz+1EwTo0kpMP0cgarwUTFY/vNh2B3HoVj/pwvoFHMBUP1zFACDqD1Q/CYfFRI1BUD8x2cHjZmtIPyoxKXmlqUg/YdyzMpz0Rz/zbKtY/yhDP/QChmQPiD4/aBI6dWP2OT/VxIQ6tvg7P+CjAMXP/EI/+l527y8KTj+c+4di1V1WP8Kh/RY3L1g/m1rErLWoUT/qb//mDxRCP+dKbSEGyCs/D//azYpkDz+DsxWNMA3nPi5WTGkVurM+iJ4EfRvycj56gBc0vm82Puv2sIvj1zE+f2mmRlgIKz6PKRRcj3gnPubpHnxro0M+zUKaxQ4nXT5+90kh5bZnPlDNIvitomQ+bq+tAMwwUz5Pu70uFRQzPteKEyAKQgU+TbqVG+B9+z2iqZbJnUMkPruY+VGOzUE+lxotF/S5UD6E4O17bctQPvEjkCWQBUI+St+8ysaqJD4ONSVbV1T5PZzWuk8RocA9Cjc0G/N8gD1SazNsz3KDPbaFvzBwJJQ9sscS9R2blj1wTUn0vB2LPWGSl7BmYXE9zMG5hq3PRz2TkPYxaW4RPQ26h9ZkRss8nZXA84POdjyV1u+AztYUPMtaQY+JUNE7GKrwdHEG0DsIP3/y9mzCO+gFQyZluKY70vDEbJilfjtCp4lbkSVKO4/U8zJXFxg7+jRMTPdX7Dqco8uHcbi3OrgCfixZKXY6LJ/5WzdCJjpHOIZgHP3HOQ5U8dcpW6A7kS0WQJJkPjxdFKvd1S3OPAIc33JSA1A9fQUaLiQpwj37BJAMKAMmPqrMbfwshHw+9/A9IIC+wz6/wIpd/zv9PltCU67nKCc/2bd8GTysQz9UVxbakQVSP8vTlYN3L1I/hLiaZ6DGRj8XcxnMFJJAPyuTn+N4tEc/DUtwf5gdTT/51JKeCOBEP7Ox8oHtPTE/zFbt7+f1Gz+2/Q3Ux3kjP03G6qqsjjI/F244EGidNz81tDeOICkxP+MSwq1vNhs/VjwXE9dv9z7FVk10pGjHPgO8/JlZT5M+Jugi2ZsxZT6i6SD+c4Y1Pp+cWrM59Tw++LiKs3t2fD6V1kYojVKyPmmkBlWWPeE+SW936bILCT/Ao0hx1n0oP6+kQWe4Ljw/m2IR351EQj+jkDYN0zk8PzZlF287OjE/sCeM7FH5Lj8+/yMeqqA1P+bpQcRSJTw/cV5EEL7RQD+IyPaYo6pEP2JlI7AZ6kY//J3ZxWBuRT8oDX3S7RFAP2lHdkOfPTc/fIAW/wENRD8+orv0Jv5VP/V5G5QPU18/U7V3L7/+Wj9aYJiB0iBMPwEMgWsXXDc/SwqxpQwAPz+QC/ADrhJPP1S+XFGkeFI/6EEHrRJPTD8Vf2ABllBOPz85Vw1p/1k/ZQZRVn5vYD8PxrfzMpddPzzPTX7jMlg/T2OHC7gOUT+vs5i2V/ZBPwfVThB9TTM/m5VaBNWhKT+1yIAkYdYZP+lWUL3TH/4+fs2DfSTD1j72aI8RG57fPnVq4tt0cAM/MDF0ttaFHD/eU4YklccmP0so/8Z8BiQ/2C7qR8fuFz/ycEGeUpMZP86SAOzyFys/pRzt8YaKOz/aW7jY+VVFP0rCZwwgE0U/kGwOfVzNOD98FFbVkRglPzhtYuISeig/smYRPZ+yQD8Sy65T4e9OP6smSxIvSVA/Sj8OPDwfRD8eWixaP448P0ga5O9uDEw/X+BVMyYVWD8/U8lvKdxXP3poN1vzkEo/QYO2OyWVMD+0Q3ClbxgHP87Q9PsQ1NE+dZBgbw7EkT5o/d4FA+mHPu2qi13mZJo+HVEnZf4loD4r3on0aR+VPlirynENh30+IO5L4mgOVj7UScaffZshPuEuGmEKC94993m2kVtkiz0bUhBA4bAqPSWKCYSPy7s8NLojdWLvPjwMGgahSWayO5qGJMSgZRc7bnk0yojQbzrZA2DDWWC3OVMxjkG4TQs6E6LrN/9QuzqwCknU+jRdO6fXshLar/A7fKgPL6tgdDw1zaGlH5jqPBMUnI7Ci1I9v23qDNCkqz3//rdjpQT2PRL7gh0LvzI+FdSO9jgbYT5JT5SjbFKBPnotJ+qwmps+wDTR45CpxT70BrptS0zzPrqdYxVnWRQ/Fat64niqJz8CansvlGUxP1jtnTWalDs/rilhasDrTD9zzpLOYYNXP2xSBl10Ilo/StNRZwr+WD/Usjf0+e1XP1jsYAe4OlM/pWByySxKTT9H1K7kUTBNP8XRWZZJYEo/3RL7XPGfQT+8dNgl+7Q3P0Fk1KrXtTk/UWSfyT4VQz85u4dQ8jxIP1LTkNtRxU0/ObnvC4nrVD+NY6h/UeNYP1ww62pzhFQ/gSRT8BeORz+kYUmmCdozP/clp9rLmRc/3lCNXrKY8T4mo4H/TRK+Pp9DxaK/Q34+DGmYyj1lWT6mofDT2PFdPiiW7WKnq1Y+dng9PUrKUT7zZ5aU9E9rPmRmIaxMJ4Q+vduKbOtjkD5/asbHN4aMPhCAEfnthno+z443W2hfWj4WJbj18IEtPqOMKvt0gyQ+yt2JZu1/Tj7LS+D1/ctqPhZ/5eIoLXk+QVB4NHZHeT5Dax6ySyBrPohQ2tqhG08+sf+fXSUQIz5okZ/jgRTpPVloVVfDs649uzwwdZYzuj1zcJK0+03LPX7GQLg0pc49xhUKcjlhwj3BIScqwY+nPetK0CzAI4A9nv7yGWShRz0frnS8yHwCPerhU0Qc7K48/rfxd/VnTTz33I7Q81sePDt86ulh5x48qyhyFKnGETz7jDlT6PH1OyW+DRyF4M07bdYFRhwKmzui36IvPNdsO6mucAEOSEI7pe1qJV7+DjvVDANTdgHNOi3l5pLEJn065VHS5zqGHzoAFRQ8DZKeO+MmRcAWZDw8p+8KZ/IxzDyaAEmTge1NPcAMWNam+cA9HJuawI+UJD4hQhMNkqp6PrIHM+vqdsI+Og0rj2ZV+z7zJzMRbaIlP8yk7amJVUI/4eDfMSa3UD+vgKHP5cNQP+37+T9t90Q/RVVcgW67PD8ehw+dW81BPyEDqQ7sakQ/uIA5nLn/PD8BMwB0890qPxU3sbp4kyE/4go2Otp3Jj9Xsn7QuawrP46ZVuVcNSs/67qVmnD/IT9HamO89xQMP58VtLkEXOo+QSOKWz2AxT59h8cF826nPtpwa1vMooU+hjJooL3FVz5bPMeDDLxOPjaqoh1xEIs+HZkXa0RIwD4FWutJcDXsPgnAUncAVhM/sl+t6aWAMj9WLYD0fDxFPzoubklu40s/3OHhtFGsRj/yguHuNvo+PyaPSn/76zw/wAqklcCDQj8oMaZJkYBFP+cuncQEU0c/UaHGNBo+TT+9vBasrElRPwDXc2tyxlA/VlSKVms+ST/draQ0mYFAP70brPEJzUY/1hwVun/uVj+kMBYNDOdePyqXZYk5Q1k/enO4TIAwST/b3rCm/F40Pwj4d7BYWDs/UwLzugu8Sz+133nFhKNQPy8cRaiEBkk/z6HiInTzRz+bOWgJ22hTP5V1Fr1p9Fg/zj+N9/Z0WD9qcJGFYYpWP7WyGZ0YI1E/pIPXIZ6tQj8JfGUYFlkyP4hMB4sj/SM/Ow+VKY+sET/YV51Re0rzPhx8mC31J84+Pkc3pnzC0j4Nu9vjw4HyPtvhWHAheQk/tgeAfq5+FD9ReFAGYGITP5ZwR2NPvwo/EjftL7MuCz9HLqZjiF8bP4V2tyKvaC4/MFSglNEZOT88nco1gmY5PzOZlDN5Ci4/1nHuwSxHGj+SClCsaAUkP41zDVZ2FEA/t6NSCf/9Tz+06uP6pIBRP+xzcyPwNEY/YbGEiQ2PQD8Hx6SFg+5QP9ZjdDFrrF0/8wtzTQL+XT/EhlpmhwhRP4EGX3bxpzU/C4eeNqGgDj9n7FcPkf3XPpHWBMzBJqA+HtzhY0PHqT7T5ISpoy+9PtPXU+sU3ME+sbkDanFctz5C/T+LCVSgPmyOdaC8ZHg+SLOF3R15Qz7LGI/T+5wAPgNtFR5QS649d8ldRrOETT3/B241Db3ePIeVHv6lGmE8fjz3FLJX1DuuPB3zQ9s5O4p3daPGj5E6TuJ2wXPC2Tl27l7akrQvOk9jZ6phuN86QIWv8zH1gDuemPoti2ATPHtkziiuqZc8MufIHLThDj0NO+TyLIl1Pf9Hz/fZDNA9WwwtwEqRGT4jpHve5cNVPmcKcXoj04M+9J/PhDeaoz7DVtzcfvC4PopHGHPV5dc+8D6U+SucAj/lyimVPlkjP1f2gRn6IjY/2ecMJntQPT/HWimUdWdAP7qYbTvVXks/fIq5E8XsVj9xmYrbVdxbPy7YUKLl21s/7wosMEtIWj+NAIC9PmRVPzZuL/+ic1E/rNW04qsqUj9pt0CUdVFQP40Brehjd0Q/KwGn7fubOD/i/l6tRYA+P7fx+ifnw0k/UnbJSQPKTj/IkbAOEEBOP2Gt1kbJBFM/IZR4a2phWD+cU/A9cNNWP7qQKlPUgk4/Yi4AaxqZPT+8PI1M1ikjP+aHpeeAo/0+5UnT3MewyT5wPxv64DWOPlhJBnqFhYA+T5bTtsmUhT6dAZNhE0SAPsJxI8b+Rnc+3Gnjh548kD4aU3Cp2cmnPoHW6NhEV7M+FxTXiVTUsD6EQi2QVU2fPjLXynPqHn8+nIfrHgx9UT6qocLhVSZKPkfXhhoFmHM+17xE/UI3kT7ddfAMwCygPn328++lPaA+aA5CtWxtkT7YoSuvTvxzPpm71AS5fkg+wfnS0L0rED4Cyci2E4naPR0mr6GCN+49NRsL4PqY/z1eYOP8arsBPhFgZEUaRfU9l0GAXTlE2z3SI3q7c62yPestQT+iWHs95g15LAFlNT0HldTRdubhPGj0hNgv64I8n4o6ezkeaDzfYfGyuXFpPIk/QgDuR108NlAbhE0aQjx6z6hDPvQYPAlr17IgTOg7TH9FuVkCvjsNhxwK7TSUO+RpQqs1S2E7qu3YyrI0IDt81KI4lU3QOijWiNT0vXE6JeyEYrXYmjvwEVsYCak4PBDAOHMkdMg87G9i8oP2ST0xSw0wUni9PWN8ULpI4CE+AHvMTYEtdz6jTFrdHg/APjNXZh4myfc+/k8WuqfVIj+j2Bcv/fE/PyHzkFb5Pk0/ULWgBf8UTj+obFIW8s9EP4TYvA601T4/oQcpPq0fPj+RYfftHp87PztJRrdoeTI/tLllnCMOJz9WTgswLUEsPzfpuPdFSzI/312XEGotLz+rOuyIfBojP6nKLbqrvRI/VkAz63eg/D6sMsrMKCTmPm7F7Ct2tNc+YsocHga/xD7BtH4HY/CkPmXvA/h/Jnc+xuCedrkcZj6YMPJhGPehPkhLR2gSoNM+G+rKQpTI+z4fSWnChT0eP4LJfCJvWzk/+TAr2ajeSz8g1DPF8GhSP471YfCU508/HZQDseyaSD9tObxKG7RHPxJ+IRHub0w/yRzmflQWTz/q89E9BKlPP9+JtW0KXlM/yVBJwiUeVz/SawjsiqZWP68eoTiIDlE/iShbqy8LRT+RQ0/Zy/xHP8dbsH3ZtFU/9uNzl0xVWz/tHa2Rl/JUP8Gni3I1v0M/rvqLTRX6Lj8HOq+BuYg1P6dqLL6OjkY/+zM7zQj6Sz8Ix9SzGEVFPy4y3uUP5EE/Xhi5+FztST9LJWBgebdQPwrIvS2n6VE/9lVKuPKiUj86qmks4LlPP6xzHIpWsEQ/Qzu5mefaOD+rO0ga5cIrP4s4kDE+wBY/3V0WE6hd9z48Ehfkug7WPnZWcpX/pts+bdv+OkUK7D6WmY5/uM/5Po8SX/q81QQ/9MVmJ89zCz8vdf/SAOUMP6+GoPIpQAk/etm0CKMQDj/Vy3+BhgEfP8MAOV49iCs/QMfDfaWiLj8hwH1RFrwkP+cOk8vU0hU/FlSapVouIz9PB/fem0FAPwBplH9ppVA/yd5lErh+Uj/kSpuNK5hHP5O6FuFbVEE/OkH1v9K5UT9OOxO1/5dfP5my8aPxRWA/Izz8KIDUUj87B6z5fVY4P63QDqmscRE/bhgaEODZ2z6iChVhMyaxPrVrPIM/Kcg+QII5zZWS2z6HpQPGi9/gPig01mcaEtY+baENSkXavj71gJmrxAuXPqfz1qG4ZWI+wLiScQ1kHz6hm0ow257MPWVpEr8042s9rizzWUoK/Tz/qaRCuSiAPFRNN8nzN/M7L+KpTX5tWDvIxvNeSpewOrAZPFvvWPg5DmytRs1tTzpVGOsMlHH/Oi9BHOlXz6A7L72Prko1MzxaNkq63HS3PLRD1K3FnC49ZDvL4BpZlT283n9gDNLvPc+fK1YxWDk+37A3gvqSdT4/WKwNyqKjPvjzsfovOcM+XUo7f7PU1T5K8jB3durpPrNE1rsONg8/HPJd6WKALz+ocNrMl91BPyEg66P5iUY/epQ7qxfgQz89sVv0teZIP80zql6mIVU/x98mlD4TXD+tP/FHpypdPzoVnj+eRls/JzCtU5TSVj+2UcZLsORTPygsw95cdVU/TXSyJwXnUz+NT52leTlKP2Ihq5iNez8/nf5ykeCxQj/jFPyrqqRPP1yOTYopQVI/YXxLR6f4Tj8kzaYwaOBQP11X0Zo0iFY/wzIZ1xzyVz+aL0F6mLlSPx9eFJkXmUQ/1kwA3POBLD8k/qvntqgGP5XE4uOi+9M+r1FZPn/uoD7SRaTpXbijPnxgUOyZmKo+hom7GZf4oz6Xm9yOK06aPtOAJpjkgrA+cWv4l9r4xz5kA5M2mXvTPo46cyrf89A+/94I0P6Hvz4uI+zbeVmfPhYARGv7s3E+z/E01iR5bD6SAPJ5t32VPrteN/U74rI+KzUOg+e9wT4FFDKCcNDBPhkEn1ylHbM+3FkqwvnrlT4h+2Y6gN5qPgqDz1Ej2jE+XZsgKmFIBT5ApPxURssdPtmOWJb6Ni8+eciOx3SEMT6IFX8ILAMlPo8s3n207wo++PsKdI5z4j1EaJIY3gOrPSVHL0y2ImU9wBgArKi0ET3YY3vtyQq4PB4j6NZbvLA8UYTgzprisTyOM+ukp5akPPv+P0IXg4k8pig8jYrgYTwPZ+28lwQzPGtDW90WEQs8AvXwYKse4ztoECZnJHuwO+go47MQ7G47K1UBWrEoHzt40saBlifBOmtoVfH1p5w7g7jfvxLHNjxzSn/fIPbFPEL2F62qNkc9NJZDWdpZuj0zXDe1BgAgPvg0zcpWxXQ+ifMmxv/RvD64TiV2WV/1PjVWDiJ38yA/gt8qBvPXPD/3LrsNY7tKP0FegwWUD00/xn+qhcv3Rz/9DaZoHLREPxik7BuirEA/5/pEuQxnNT9Sh3bKloUoP531Q08tFyk/02Qarj+lNz+j62yuIUo/PzZvzDmzWzc/haA4/tScJD+pqlSYXYwKP8GJWTswnfc+4uqucX0U9j6lq264KCnyPoa+mnBkLOE+s5/2HJqDwT5OY2vwclGTPjLRbtpF5Xw+LkSXTxD2tT5IejQsccbmPgvqOC8S+As/dDzsPNrFJz+fX590mxFAPxKBj7pDEVA/+q2jy0YgVT9HCrJYjcRTP8ot+2qnO1E/7PM/WS/oUD/P9DXNSP5SP2oiv50LyFM/2c9tiZwnUz9+6VntiodWP6rNAsCMrFo/sCMEig8zWj8+eJ6qitdTPxwHjWL4VUg/u8z5GsjQSD/jpHC4wNtTPxU+42O+wFY/t113rRnmTz+sP8CdJsQ7PyARAfdiKSU/hyp88hFXMD/MTjQxTndCP7G5FrAXs0g/pyIz52frQz/nPAZ/8JA9P03jSIBKK0E/OyTF/k/IRD/FBJWWzblHP1sgY7OJG0w/pmfo5lDqTD9CQ9jVhYNJP4hdIO4TIkQ/I5dfyD7lOD+RGMyAXZIkP0tAcNuvJAU/rciNTvxm6T6oip8WQ+zyPq0QI1yU3fs+VqND6YQT/j7AabRM9ikGP5rj9rH2XBU/Km2L9RMOHT9T3a/WvUYXP/3/MVbj5gs/MbUPbxOXET8ApgzV1MshP5xECmLYwik/BmlW+E5RJz9mPS0SWCIdP/vjktCnjyM/HMKtibThPj+/mt7mNcZPP9IAKwTHu1E/NwUhkzaMRj+4MO3DGMg/P1Br5GiS+k8/UhogfGn0XD/AXsWwZ2ReP9YPpk7V5VE/tb0yZ8J8Nz+ADxorzwoRP2MsCV50PNw+p+SUoGETxT6+BUBwVHbjPkkmYc7GQ/Y+9r+N+x5A+z4j5RTXetLxPiLsV/bd6dg+tGtYNBCcsj6F1taZMLZ9PjVn8mEZWTk+sNj6jmwc5z1aVmuf5oSGPV70bKUwcxc9q24KGNMYmjyDc9VMxAkPPOvir32+uXM7gAuGKnnLyjrAVi92y6sTOopLVmB4mGo6X4gB1qqbGjvbZFy1GXO8OyFxX/0UQVA812LOSWbZ0zw989J2ludJPfWCXDimELI9UhCL+EztCj65GcPyY3JVPnmKHoOBQZI+u7Vbn1GcwD4hJQo25jHgPvXqtASDePE+4IQqYrT4/D7U4jm8AUoXPycFHlgS/TU/syEo3QvASD+wxOsM15JOP7aaYacrjkc/jSf5CvJRRj8t6l7Mdp1SP3YUXrB+31o/mzJMcH1PXT85dLeMBvFbPyak1PGqRFg/9pieMjCiVT8N+vKEszVXP7vgpvlVnlY/AjMW9JWYUD+fUS1fq+tEP7k6uluti0U/uPr2kvEmUT/2d2qA8ptTP6wGYm6IVU8/5/SGZZPbTT8thngoGdhTP+ZGY9ymqFc/aBBgBVFDVT+dTEh4brFJP5hs0ER5lTI/Ubu0K4UZDj/X7ewiIV3bPgabg4YeTbY+tfMRyuSKxD4nDjRgvALMPlfG+Fzj/MQ+bPnSh7eyuT5XQUria73MPj6kNVjqn+Q+SiuqBPnA8D7QPsyxxiftPqYHS3IpHds+VfWNN2L1uj64IGsqrpuOPm3pmz0Ve4o+j3jU1F4ftD7ZpLCAlK7RPgnkb9janOA+YPYf7jWu4D69lu9rNubRPtJprSPVhrQ+r1mK/DgpiT7eG1yC6uhQPgZmbHi2SC8+nMv9bqcZST5POuNF+lJaPpqW5gyvi10+H/Y1sV64UT4FivYCS7c2PuIVYtXyHg8+Wex15kvI1j1r3wYGB9ORPbo7bWw++D09SJah066P8Dz/nVfxRf7zPJcu0b4Gd/U8Tsp23/W36Dz8KwYeC7jOPN+EsQeUAKY8PoOqkTL7eTz0XyHc9BpVPAHT1Qng8y48oyzSh97S+juvP60gizC5O4R+i/g8dWk7KlFThoikDDsXfj/Oz+OzO343BN9tnj88rCJLqD/nxzwRwjhASfNHPViFQK+v6bo9wD3knsFRID6ymml+ATN1PjesUHWNc70+sYfBK7nf9T4GlIsGQWIhPyuT6187tD0/lPGXRd/ySz8se2sd+CdQP11IoS2VJE8/cIGOFZAiTj/H9PaC/2VGP133WX9q6jU/vxTZFfJmJD9zhNzZG/svP+we3dwuBEI/AqmQ4lETSD8uL80JG25BP1lpfHkmzCs/Fgj06SmLDj+nIkvmXeUEPwrze7g/JQ0/ezJhqUa1CT+d2QJA3of4PplhgFayC9k+UQWR0wmOqz5xE99hGXKQPu8OVMtOT8c+MbVfQeiW9z6BOuECQM8aP/YWGplv5TI/8wftMDLAQz8JBBujXrRQPwfEEXs1S1U/A7IsnvCuVT923SOedzhVPwDatfo/8VQ/ING+kBb0VT8n5fb+j9ZVPyTd5hqHPlQ/VYloGfi3Vj+k6scFymtaPyU20H+s8lk/T58ZCZ/8Uz/EpbRwkzFKP6Ox5vEHN0s/LL1EFQ5XUz/0yA2s+X9TPyDfmQp8FEg/osCZXauRMj9UIm2gkvgbP1lye0byOSs/YgBReQZWQT9LJVbZibBJP8sHoTU6rUY/JvQ9eIAXQD+tEeE4PsI8Pwb4LcbtJDw/2HRf9fFWPj8fdP92SZ5EP96q++2xJEw/+IHkt0f4UD9reAFjNBlQP1BAQJRISUU/Y7h6FCH2MT/FBdA8Q+sSP7HK8Db4Uv0+OuBzQs+kCT/F7vtqKh4SP2SSjv3vpBA/DuK/c8YtFT8vAkn6ZqslP9tL3quUwC4/ImAgVq0uKD/UIALL74QWP2L8ZqOXTRA/iucwqkYwIz/XG17f0BcyP9mJOQ27qDM/EZuDEYk1KT/iGYfob7EkP9boAKzfLjo/Dzj7IO6iSj+qTXr6YcFNP+78Wot/z0I/PrWYBmZAOT+F74TgNNFIPymkmIy/0lY/DXYlcN5mWD9+XuTYSzpNP8v9E4rDcjM/tq2f3myMDD8mW5FYd/7ZPhTYgdP2T9o+TvYDK0bf+j5AmHYo1MMOPxmLNgu+0xI/1sFQBVqgCD8mXy6TaTbxPv712kbptsk+yegfrROHlD5RiIhvToNRPtsXYWRY7/89SRlk8Agenz1OsAvksTMwPVi0sx3wB7I8izlILP5xJTyXpuPOLkKLO9PqMsqZg+I6kncft78yKzoL+D4BSDaDOvWIYnqXODM7F2uv5SSN1DuAVwRfvXtnPJUCaEhfrew8FEhLoYG2Yj0bgBn8ehnKPZKUmryPcyM+0r6q3UH8bj6qYgY9/1+qPsPNXnm2/tc+NM1bltxa9z6mLLg2p6UIP2n+xJYahRA/1CLiRwopID+Fr8D8eHY6PxBW1bEtaU0/+oFN0SEHUj+OJL7AUP9JP75Y4iyRskM/s7Jx0sBSTz8mdm8N04xYPwC45Nuw9lw/DKT/QgI8XT9uPhI3L0daP/Xh+ptQr1Y/RE2W1vQVVz97ZRFLHc9XP4pxpQEB2FM/4bTcoJ1jSj/3u6m8UMBGP1/Z3nusblA//q0CGZ45Uz8yECWvUOBPP1pKdVc2J0w/BcKBAtJoUT93edZ2NShWP/GUP018+FU/nkyfb9Q6TD8rAcAe4gQ1P96lbTv5TxE/B0q9QzIC4T6oqFa/ZkHQPhQ4uOnjZ+I+K8/QTMg36T7srlFn0eTiPjD6x4J4u9U+wiQLGcNt5T7WUJRcVU3+Prs5w6cBmQg/37FNWulmBT/RBFzFROfzPkPNMNM/ytM+t0/KxSOZpj6Zxqac7AilPtGu8zSAFdA+6EecZ3dE7D6A6SoU3476PhSH/Wqeqvo+r56AxWid7D556HO4XGjQPhmrVC1iHaQ+emngSyyYaz7IaJ+al69UPlzqfceVD3I+pgY3e4Lzgj7I07P7KkWFPlVk+siIg3k+BKjovHhaYD77OOKtdmc2PoB013S2ZgA+Olj8+CiquT1vD2V7LstlPUYV/UqeFSk9QLp/RTFzND37dqNt7P01PV10QqV8Vik9iO9eEL2cDz1a8kf3bk3nPKmFy3jpAb88FO3b6WBinDwFYRaL42t1PMNtb917o0I8S7zCuR+GATyQ0Arctc6xO+Z1hE2J1FQ7i9y9Zz0G4TtFuNLj1+1bPObuXaqmi9Q8vkTl9OYiTj1K6XHkhk2/PcsgUHZlpCI+76QUooMbeD5XNr1AlLrAPu4IEQzc2vg+h6/Az/rFIz8DeF6wVfFAPxZSxVlYHlA/eixdwClwUz92AGSt3X5UP5p1qLab/VQ/QOVNjbSQTj+flr6hN7o6P4phXZCkdSU/KHHqZN4NND8noT5J8ttHPyW3Oq6M/U8/1hancpcFRz83yhPIWQ8yP64o3VL3pRU/3rg6i+nFFj966+lAxZshP9HT9T9YWx8/FcEFSQTzDT96HcoeyJTuPm5oRCgAysA+TcdKcZVHoD46iiNK0ErVPjbuiinQTgU/pgJqYtNSJz/ROkQgVWY9P5sqpYvpdkg/iublTB5XUD/RRLf+dy1TP2/xHWttIlU/dlz0nWLhVj+5b4IzeYFWPwqVx3qKBVY/adid1Q8RVT9Qzrjile9SP5npNmsbFlQ/cAon3qaRVj/vbLJwUhNWP7ao+EBwsVE/bCs3DttbSz/8w8ZBO05QP3e/TBOOPlU/b/65rIS9Uj/S9gaoaf1DP3QRC8lARio/+UPY1hU1FD8V4sJXMNMqPw0jufd+90I/xVkQCcJdTj/GKz0dNfNMPxB9/i6WmEU/2ehwtYxuQT/Jya1O2346P+LmF9a81DU/TSPDnQ83QD/cmMQhdsRNPzS+5zBBOFY/KWqUEWwxVz8iBn00ad5PPwE3iWqRYDs/xjE9CLDcHT9gNw59m5AOP91ek04ROB4/RI4VuxtSJT9TxsXBubYiP0r4t05g0yQ/2VkxX80+ND/oZTFZrKU8P6AvzSh0bjY/itsN5tHdIz+37xHs/18XP9CYEDAMNS0/HDYvSGhDPj927Bs3TUpBP5qokHku4DU/zi4tmVB/Jz/mx5UmQMczP/dPLAdYbUM/GGmDLcCxRT8bMUnNIko7PxLgV8WFYjE/sN1PV16SQD9GfYxjt/BOP3BnUue51lA/w985G4t9RD/W4tjEs54rP2lXc//oggQ/duQYRbvp1z6jpuILWyTuPjec2I8J0g8/9oR21ik4Ij9BIR0YrEwmP0Yvs4wrKx0/0OXPvDpjBD8UFs8UVnXePoL4XKGpUKg+uebQoJ6+ZD4cQJToG+oSPnwxiLhIbrI9IyK3oYgxQz0YT8Bzc1zFPNkbXyQ5aDk85TG5Y+AloDtK5KrTye/1Op2Ghg4yH0A6gs2Ad9axlzoTiX4ysLRHO0pLTTazWOk7TD54pG32fDzC0fcHJq8BPT/h4DJAFHc91Asc0zcY4D2FYYvAav03PvrJaA+GG4M+Hkd3gK9DwD7udvASiZftPuIbiZhZyAw/CWU3OAcZHj8bWHFjjCUiPzXNMYfBMCY/LMxcmAPUOz9ztPajGB1OP2S6BHuDf1I/fFQQA5UbSj8djkODcfZAPxXZ07dANEk/gaURsaivVT+yLsMZtJ5cPwuMKV7oKV8/hqXYxFKMXD+sU5MrHjFXP4MmkhwuqlU/nx/L5At5Vz98shR2ev9VP7Iv5ewEgk4/PthfMB0eRj8P8AdBcH5MP0uN0cr08lE/IWPGPNMgUT+LsS52wbROP2RvE7SlaVA/chxOOVX0Uz96xRM2LXdUP8vHd/MeL0s/1vk0+g28ND+wJxevkJsRP7XlhCNBIOU+n1Xrnr4g5z4WsxWB0D78PgrglmK0awM/1s1m6vAt/T4scSlnGOTvPukbgjYJbPs+sapgelACEz84MutZYtQeP+k+Y7Kj0ho/MSv4Ks7xCD+EVpqjsM3oPpw3SmYCgLw+hZpswPSKvD7I/dTBEPPlPpX+INXXSQM/qk897D0fEj9slKzKLTISP+bfuzqLhgM/F//shldk5j7VV2iAXXW7PnIxXlvohoM+8DC/HxgxeD7xwwm/LTKWPg+wRzA9S6c+JkJ+lL4kqj5GptW7+FufPqTvpqagGYQ+PVqtYYGJWz49ANWWrCgkPragq71NjN89GatG1OSMiz1kjDPQ/zdjPZYIAfDx33E9lpzibCU8cz1cR9ozEi1mPWu9Gmt50Es9KagSPH5IJT15A/FSBioAPUL/n5XCbOA80aTAMk5XuTzSwJBV7R2GPAhCW+051EQ8aSB0vmZh9Tsstjjql8WaO3rIbH7EMRA8MD3c80Y6hjxHqapqGg7zPDUDpdqT6Fs9KSLA7SxjxD19d3NBbOslPl6xcs0Njns++/TgqMTwwj49U6XHQgn8Ph6c+B7FRiY/G57HF2IbQz/NgVBmbk9SP6g+HIhFtVY/Ew6EpEdBWT/AM6oKLrBaP41yIz1DY1M/sFKN6gdgQD/VyIyKXwUoPwvXI5iIgjY/86H5vkMaSz8CMuXqBDBSP719HBgXKUo/+A+sUr61ND972tKwEsYePzKWkNQb5yY/XKutxzhWMj+sMB3GwFgwP3eCIQA5OR8/04LYI8Xh/z6FDpMEaXrRPvzvCZ5dG6w+RwNegh684D4oz2FK76gQPyUCbICj7DE/BaTyssdVRT8w2B2jg2tOP0RSL382kk8/d9oV6R2pTz+SrwrRyVdSPzkGwDjxglU/L15gv+n7VD8H8MZTn1tTP10SCJaxRlI/tZ2ARip4UD+K0Xia/EJQP0BTAmPz8FA/gXxl2i5KUD/oP9CRiWVMPxjFucBR3Ew/6WWoN8VZVD+DeqK/iQRZP+Y2WWEw5VM/krYJRMDcQj9ir5G+4XAlPxr9u8TLGBE/8ftilvKrLD9pN0KrN2lFP9hTuOlC11E/JkQdtqf/UT9YUqm3qWpNP+jiFr8tnkg/XkzXNcnNQD/icE8yxJg0P6von58dCT0/PgZKd8D/Tz/ExKpsB5NaP+C3unOwHF0/h5NJT/uDVD8ShR59qeZBP5T0k4mLeCQ/NQRs5CM1HD+zI7/9JIQuP9WXUvKIlzU/5HQmrIOGMj/eR8taj0YyPw8+oTGoZ0A/BvefrbzmRj+cRNGlHuFBPyd/RAwrYC8/kPIYf0GhIT8B7nh7+Fo2P4PBPWKgu0c/3biv5GWGSz+Pk8arMlFBP89fTFqw6yw/RPpmjWIMLD/qbRAA12I5P4MN7SfkZDw/ior4cSPWMT9qZrV6DzklP+YWYxDAFzM/4IryAL0IQj/BtqfvZvdDP4t5Nzrhpzg/jyjubarPID9xXyWKjlv5PtmgAyfbRtk+pPj57hhi/j6KVhqdpDQgP8Mf/rBBjzI/fz9B2n23Nj+NipsXO7ctPyU5dudlxRQ/5QwwLnYI7z42+iHQiMa4PqKHTyOWI3U+YRTtXZRGIz46xhjL1cjCPZkQekVYkFM9C/NMP5nG1TzaFxwlTOdJPMzBKFQ2d7A7QMA77yBfBjthFtMIXXNQOn7dPktW8qg6C7loyFb1WDttNDz7iq/6O1IWwAovfo48XbwVXlmeEj3m7LaqbEyIPfOS0+rq8fA9/0usEelBST6cRYzb+R2UPtbb5aGsH9E+G3HL554n/z4xNVTWSkseP1LjmqYOjy8/XhjO9FIlMj/q+a1tooAvP4d81PGGXTo/Po4ScSz6Sj+cGpAXJ95QP4odCJxeXkg/T8+gH448PT9qLsh1jtRDP0sgJzSE4lI/4zUaXcEvXD/BpitwyFdgP4iKq2yAFl4/hor/OiJVVz8fQD8Z7/ZTP8Es+utK/VU/YbLs9wRfVj9KU6jOMO9PP4jKCKfrJEQ//rtsUqh3Rz8AwVd5BvxQP1gTBStB2VM/9QMfuh8kUz+VE7oFgntRP3bM4In4wVE/BxsYuUZIUT/1ZKGngz5HP3QJ/FbxdjI/1QbGeywKET87/wLbBz7uPnhGtTJumv0++STx/8SKEj9B9SEww50ZP3whRCjKXhM/es+mzghgBD+qaa+TvjIOP+FnFSQHXyQ/ubPfnld+MD/3HLDpebIsP0WET9EAsBo/JilgorGJ+j4PcTRJ9rPOPpDKv1HaitA+ScWR00uS+T54uCt6mngWP6Nt0120HCU/8osQy8cyJT/lU+YCXL8WP7QRAyVvFvo+lYFglAkB0D6REVOqGj+YPpHY81OFtJg+R1Q7+FtLtz69IEGeUHHIPlvVbe9ebss+xSMKMKJzwD56UXCI/BalPqnP+bWa5Hw+jTmZJMcmRT44b8HxRY4APiXXiW7qL689/i+cZh9Fmz3LyFScT6+qPdg7dmRkuaw9HWMseKmSoD3ppvVJa++EPUAKY5UezmA9RPpo9SNqPT0ClXFCClQgPUXMOSoNnfk8Uxu/lO1oxjyw3NcYoCmFPOzOQbAnITY8MKXnBqkG3zs5/LNXhVY7PLfVwUS5JbI8ykPVqPXHGj3IZ64caJp4PdsKuRsmrtI9zsI/3MmHKz5ha0oRh2J+PlysOT5M/cM+A8RXwUMS/T6TdiWOgesmP4xgoKrInkM/0M411DbvUj9oEZeEYDRYPzMxgbqjXVw/rvPABn3TXj9YF4rcGXVWP5NohkjLwUI/zbOiBoN9KT/6jEDfIOs1PwCvonhWUUo/pe0XUUKqUT91O7+ecXBJP0Xxs9WVrzQ/q/RX+836JD9BsCE/Pyo0P0flEu4FWkA/xEli+sofPT9q5uK1h80rP9GP5F6gYww/OIYBwIQZ3z6mls4CQEG1PioiLS3NweY+e5fzwzuYFj/zILRYKx84P7mOY+3m8Us/HROnZ+FGUj91r+lyle1OPwCRPjnov0g/o8rD+UxiTD8yHfQarJJRP7gKjbKYAlE/M+2+4lWBTj+lMywA82lOP/3XwvDwYU0/OP3kWQyYSj+xpqlIHpBHP/o8o5KtYUU/ou4o2lvFRT9SM0D7t+tOP2FYKrjZi1g/Oimyi++4XD+8N+sd0TNVPwILN/GGokI/rXQt2epZIz911QynWU4PPyOCEH+xQC0/d3iRoZBTRj8fV9rCUgFTP1LMRVs2KVQ/lgYt2kBGUj9tzgyT3HpQP9Ax4ZyzXUY/EkHbknUROD/eoELcG908PweL7JfjQFA/nxfbXQX7Wz9AIYSMDnpfP6BccD4YoFY/2yKI35kIRD8AynT4fHEoP72kvZIJ2SY/YnwOwXRdOj+pZz4vOL5CP22ZdsWf3D8/MGsQkVpcPD8xi+QfJwRHPwN2YzH8YE8/nQPZD/RfSD/4veIty1U1P9XB0euc8Cc/dp4IUVnFPj/nWXxSq4lQPyV/feu0ZVM/LuGMiF+KSD80BSF3rG4yPxc/5qcTkiU/6Hy23zAMMT+/CmRq/VczP39VDgWNlig/9+DS+uCrGT/OowrLYD8jP5FZu796FjI/lyQBr0BVND9AWARS13IpPwcLdE/8iBE/X1qGdSJE6z6tehAP/PXfPs5SLzAfsAo/RYfNnkOQLD/4fTRuwVtAP5PMnWpnBkQ/0H8pKMMyOj99SrWoslAiP6ZormVYXvs+rZLs3qHaxT4VDpx3cqaCPjfNYWKWAjE+N7hqSKyU0D1PBdcf+EVhPZDR6bleO+M8vRHBHn3iVjy7WaGTgxq9O4L5RZRSxxM7eE6DHwIbXTpMj9f4y2u2Ou48mr9+bmY7ZjJxYe77BzzeAa++5mebPNh9lz7QuyA9MiauYK7WlT1NZ2XXgnX+PV9QiohQs1Y+50YbP5oUoj67mbAtwcfePis3HZceAAw/yRgHPU05Kz+Lh7P+G1E8P4/IeVuo6j8/4ZRllMe/Nj8s6zVhON43P638tgm+C0Y/ABL6KpAKTT9w37sO1/dGP8CLPLOdszs/CXfyduweQD8pt43FvmNQP7kVCUT2+1o/4tqVz4g2YD85QEMXCgNePxfd1XTdWVc/2ICqq+/lUj/R9LAX9vFTP53XeOai7VQ/wVVNZc+OTj/nvmJ5WMxBP4hFEhXhsUM//jzQ4LLiUD+m+j8oEZxXP7MvS3Wmf1g/h6m7x/w1VD9SDy6u9StQP0E2lp7waks/fSzOT7avQj+4YpDl+YAwP9le7gadfBI/8DzS9zvk+T5qY3Xv23sQP/TJVWAe1iQ/UDsVB7z8LD/mFBwQ+y4mP2znGWa6yxY/hg8HL1bBHD+zR4Jy3KcyPy3obb7qIT4//WLYwqY1Oj9ZgnBxtl8oP3DJ4uMsPQg/KKJL+x5E3D7c7/kjkGPgPmdPX/pYbwk/qjZZOS1ZJj97OF6rE/80P7X6cFQVFTU/L7yZVK+fJj9f5PFKxfIJP+gEWyO94N8+OoN0v8/qqj6iGnKPdN21PkRDEqxQ4dQ+KtljGHXl5T6h5IYuCJLoPrWZaVeqeN0+exxyVdHjwj5FbE4uD+GZPio6z0v58WI+OK/iQfOuHT4iz4+hpd/QPTFx4F1xD9E9uwYEQ4IB4T1hj0hoPk/iPZo8lcpNJ9U9SR7PNXz6uj1vldjAIgGXPeUDm+D8T3c9EtOA5ZrYWz14lV7cgh02PT3TC6I6ZAM9OU6Z3IRmwjzv+C2UReZzPJcKiwl1liA8ds/ETLnSYzxHu/NU1R3aPMZJOnsMpUI9KWu77wbenT2ouLoYehnuPdlCeRXkdjg+wBBOzWZHgj4FbfLOEmDEPlQ/tw9npvs+Wi+FrNMeJT9U2zU8YttBPxQkpFd7XVE/VlcwBG49Vz+677qLXDddP4YH4aZsYmA//dW+oJTzVz8b9mt5B+ZDP8IvQKHT9Cg/JHjBBddkMj/nW/633dRFPzPbfOw9UE0/Ly7rMFwxRT8oghEzdEkyP/A1d0d5dys/u6erc8ToPj90LURQKQFJP4uSb6XMMEY/FP+neCUqNT9DjmPTYp0VPzk/Wsx8rec+PNITes9bvD5xLht83CPrPpsnINWj5ho/GX5ZYcadPD8V5kPHN19QP623DdnehFQ/PIwZIAxwTj+hbVCwqfdCP/zBqInJokM/6v9lrgvqSD9fRBCYBChIP9ZuomBUkkY/PNUY4bSxSj9fRbamzZhNP6V9Pv8ayEg/UUzCN9H0QD8ZoVnKDG46P6nN57Dv50A/811ElXE5UD+cj6UCSiFbP/FM9OMhLV4/r5FjbobxVD/CdBlpNXRBP9eWpHCDOSE/JHmc02p+Cz+REIH57Y0qP5JARGFecEQ/z248ci2uUT+cKYJ/48pTP53zUk4M/1M/lGiKNQ54Uz+LUUq0JVJLPxv6+vDF/z0/oWwDbp3XPj8VBZc3lW9OP/MEUi64p1k/rGeyFm46XT85MnFVM1xVPzevx0E9MUM/La9QCjCXKT9D8SrcryEwP/WB/euhfUM/PyBfxkPwSz9Zh0oYg+hHPz+LU4dYwEM/meP32CZLTD/xNF0oL35SP/P1ouOrbkw/Iv9DyXvYOD8WcR4tO30sPxCkwANXy0I/GlehnhZ+VD8JX1uaUmJYPxa0ZZrvRk8/+eITyJAONz+CITpYuLAlP62eQfePxy8/9ozBONW2Mj/5KYVVnXQoP9JBiiG61RQ/ChvKUK0yEj//L4hYdFUfP579WIVsxyE/T5Rt41eFFj+lKu3F31b/PvfFXyE9cdo+Ee6EkK6t5T5MY1houYgUP9SXz7sxATY/Nf96Ak42ST9dkieZod9OP6ZYBwj6M0Q/Cvs2T15CLD8K6AqGjB8FP/Rl7DAK4NA+6HX6Az/RjD5K7wK5Rkw6PvhQY3dUptk9/tTGKxW9aj2A1ULonsrtPOPG1nQKvWE85l6rdcaTxjs+d2jHsbYeO+33jp26nWY6sE+jrcUzwTouHzKb1zVxO+yhHN3EZhI8WSN2BNgGpTzl5lK3Ya0pPUG79YFdwaA9sTE2pIVeBz76kHqVpGphPvvCYDJzvqs+UN0K9J6d5z5+zWggnXsVP3y6iFDZ4jQ/6WgmPz22RT8UXBce/0ZIPzavq/zviD8/I8yoijReNj87mSTr4AVCP5jYV8zYbEo/CJTymduOSD89fcViMvY/P/Rf5NX9PT0/TZGsYCsqTD9Np/JXSFNYP/MKrLE3q10/rUldHVIqXD/YqU7idnRXPwwUElVw3lI/P00AcnAMUj/LcXA1TpdSP3F9ka3ZC0w/m66kQp1pQD/WDXOg4wxCPxPD9lrmPlE/tR0XywPEWj/cTC0ucj9dP/MfynvKJFc//pWo+IqlTj9NoHoJ8i5GP7YCnU1cPkA/9V+sQCzDMT8y2Xrke7cZPz5G5GC9cwc/+gwsiYOXHz9qjdsntBA0P3nCI/ncNzw/pDmFmjgGNj/SX7cv5oAmP4GLOH7D3Sc/IthxLJY5PT/oU5FHD4BHP2FiXmtLb0Q/WogODNEAMz8ffuZNp+YSP4p7mdruReY+iq/ak5bQ6z7vAEVjgpsVP0Faspqn+TI/uPBqu3rTQT/c06BZUuZBP9iFVurxNTM/q0sZWqAKFj/q01WR/SrrPp5FNoi8g7s+AEajDZ+40D4EZs7kzfvvPq/mGhRRvwA/N7DqPLLJAj/kIQWzy4j2PvR0c94O49w+f7xdc5nJsz5ARYOUw/h8PkCeSNSewDY+fnVAETg68z0zlbww/nACPm9z1C4WgRI+Ywq6gl/tEz4mT/jFaA8HPkwLgG74ye09aYyXKcVeyz0avruh7g2wPW90PDrSV5Q96JfxkjdPcD1U9mcey6o8PU194p/TcPs8shpGUxx+rzxkHc7FYqVgPIAK9WOtk4g8M6Rs/jQlAD26FQYyANRmPQA7F+mon8E9PTrH9AoXDz4uT8YSHbJRPhUyiIHm1Y8+f9lCqS1GyD5iPtroKcr6Pn1cwrZ2YiI/DoX4Qa2OPT9Fk4haP7xMP/aiwFHEllQ/7/UWlV1TXD/nYfBRm19gPxSnB2Nh8Fc/ELth+mrWQz9SoUH+wfYmP4E72rygvSo/J35YDe/5Pj9UEaeAiNNEP8fM6xjPiT4/+t4nqTNALj9AKYPAqoMxP3Pi33JRzEQ/V+mCwgN6UD/Hp1mmhQJNP5VwuRNTnzs/tb6jXns8HD9baL+aTP3uPkPocAdB5MA+ycRsNgks7T59/iSjy98cP748kwQ4qD4/AvwlMj5wUT+LcAshtmtVP5UJdqp5iU0/EhhIx41yPT85Ii5V2KA4P03gyj5S4D4/4RP2AU/BPj8j8HqRwOBAP+XqtZNiA0o/x6VJZx6GUD9ldNHMPYdKP3dU5QucWDw/HwEKjyDtMD9FH+MkSiE7P0JOTDvQv08/iTIl58W3Wj9U9XSNIjRcPw+8az0vdVI/8f6bJhRYPT9sOvHy5/IbPya97cMZuwU/sbMvqSL3JD8rRIciCCtAP5VIqavOaUw/5wPaSjvpUD8VEiM0fxNTP3gMj0Tv9VM/amGo/rnATT/lEctESa1CP3l2cgEW7UE/ZYRKd0QYSz9uhV/IgaVUP4worrTOXFc/h/BsV+pLUT+ClLdlCpI/P2dIqFd4tic/BYGx/3vAMz+0IqNVU65IP+pqBKKb8lE/uM4dUKCjTz9akquIlVJJP9sbe30lP08/9DT133jtUj/CDrb4E3VMP25Xhmmayjg/KKSf7l/TLT92Pz82zZJEP8bHj//w21Y/II4fjBm1Wz/pWULflh9SP1oKFfYvczs/0drog+IMLD9TtyQSnfc1P1PaEKXrtzo/GlVpTJ/KMT+Wm3zK9q8aP8I9pT1KkAQ/+HyIBoLqBz/rbLYSybUKP2/HlBipFAE/5EIcP0EC6D6GaqugHLDJPl00MZzrdOw+R3TPXDMYHD+M0gUDySI+P4yG1VzxRlE/6uAwH3ssVT+KU3StSbxLP3wrKl98ajM/s8V/kzsODT93OqWx1jzXPqtd8lZW3ZM+QmY7ZJwmQj4QY6cyObrhPag7TEzIgXI9aNN06NWt9Dxj9kYnwUBzPKOzKIgWzls8zSfDyGS+Wzz2/gwcYr5bPOUlEidivls8nd7aSLy+WzyZzAUlDUBdPOkZaWb/aKw8GFk2BrXRMD0suwgNsfKlPbtMVtOSnA4+4J+qS23QZj5eoTE8yiuyPok0uGg67+4+UNRsCgIkHD+XuscX21s7P7Bwwkyvb0w/AZ20jNK3Tz/gkQLf1epDPxhM32Ya4DY/hq6pDCe8QD8+0qwmLvhLP+61jCO9gU4/P0AwSXCwRT/WcBcH4RM/P+np8me20kc/Q4liEeFGVD8BTgGKyeZYPx5Beh+WElk/jCdvzkaBVz+j/+eK1IxTP70yQagC41A/e1yCb+DXUD+rO9rvhyRLP5+dPFE0eEE/gK/7fWvKQj/XnrXHulVRP9ItzN3IjFs/sR5Xf0kPXz/vdh/1XHRYP1lnmnRNjk0/y9LLagtMRD8iNMkfA7ZBP+N/iqeuSjg/02CBwCu9JD9lob7ILugTP37YqJ1f+ik/nAfxJdmXQD/0PwogRrpHP9BXBAp2FkM/3mrl9B/KMz9YWWv55XwxP9qZhOxunEM/bfgBOcFMTz/MRKRJuDNLPyuYlHS4Szk/srQ/gQIsGT9Hy0vvGTnuPpWA6h9wX/Q+PffhIxllHz+kITtt64M7Pxwgx+yy10k/jGncudjzST8+EnFAkd07P+po0d+IASA/MtHRlvLq8z6J3lv00QTLPhf4cMg0IuY+RxaqksjyBD8CZ+S0S+AVP2ackl5vhxg/yt9XwexqDT8OkWeM5NryPoQfrSvO1Mk+2gQ3By7pkj7JcEvUJelNPm7h+M1lTRg+szWNXQIXMT5bXHvxQTBBPiRU9l74g0I+qdn3Jll5NT75OPo2cDccPn2nYQorX/w92tsMSoQp4z2rRUtac3HJPQvzfm6fi6Q9uAdeGi0ccj08qIFOZZ0xPUM9h1p7WOY8eCqmSDpnnzyqC7u/fAaqPIwfcljIEiE9fZDqgDgJiD2hxX5JYEziPePKVCjW1i4+nh6rNV2ebj40oPTAi2OkPhJshjHR79Q+RXdO48iAAD+Isg3jUeAhP7h2sa7W2jg/fSu+B8wlRz+lzfJoLOVRP/HecKcN7Fo/wIG+XGWkXz+oPG8UywNXP/PFwl3XLEM/aq+9P9jsJD/tPuro0j0hPynlei048DI/+fLzqSSzOT+DP91uSN0zP+Qx0VS70So/NGCQ109pNj/m67i0DSlJP5LH6NQ18lI/kEWZVftlUD/iEAYHXSY/P21cB6nB9R8/XFrcCC2q8T4mSs/Kj2DCPrRNJCmliO0+R1EY2AUxHT/2MSjTqfM+P/oryOGhjVE/KM/3kGdcVT/HHWmWFWNMP2k0miyDADg/h/U05guMLT90R1Y/fI4xP5eN0dzy4DI/dTRKnUM9Oz/I98hiBKNKP9J+h4seWVI/E5LDPw8JTT+wtyU4EvI6P+8AYb8mNig/HKk6Tz2lNT8T2go+eORLP7K9sllrH1c/IdsnwNoyVz80hMsqOadMP4CFQ7hxujU//N1h0P4jFD/1NWWKdC//Pq/DZd8OPB0/z1VgYY0+Nj9I/KQZIMVDP9IacmUrLEk/4MzjEzGlTz/z1ws9CsRRP/JcTPZnPk0/t67Oy3cGRz/789DPq6FGP+nSK7tAy0g/8e2E3FgzTj/mXrvHokxQP0B62dZOTUg/gamAG8aaNj+I4lphR8MjP/IrbE6+5zQ/7+zX6B7SSj++LYMv1AJUP203E6sZw1I/2QfCtD7HTj8WhGncTipQPzjU+oWWK1E/rQNRmyieSD/j95911kY1P2u9L3ucyys/5kYfdJRyRD9OfUtB3j1XP5+keNCbxlw/SbzPa5xBUz9eMhtSC6U+Pxq9cmEJUzM/r4Nq5gm8QD+Z+BbGuaVEP0h7sF7wqDs/YGjegCMFJD82DU4Rl5QCPysWghQwqvE+QIwmKvBQ8T4ji2Q3hzPmPmlM15LNqM8+uey4BMZ+vj7u56Ul2HnxPoPYFCTGfCE/Z4IfFX/JQj+eAefrVJNVP+mipcaAfFo/ZN8ZzvJgUT9SuUCF/GA4P+86eRl1RxI/gengGYpN3T65ElOy1BuZPn9IGNMWAEc+mzhXyyqG5j3OqU4u2ZR3Pd++jXb0ZPo8ypN0irGVbzxpYT4FVzTUOxUb8BsJoys7urNuHmdrdDqlCIRCfTLJOuodpe6DNXk7+A63Lyn0Gjx0XcJgl8yuPDfI8UI5zjI95fHseueKqD24j5wrfR0RPumSaB7bgmk+IVpWNLRRtD5kI2MutEvxPnXIuYupdx8/Lv2DTgiYPj/nYw4kyc1PP0UVL1S/wFE/l8NZMdhXRj9QjBSNo0c5P+VEU5vZgkI/2ehT5uakUD9JI48HZfNTP3ZS+N9Yek4/g6t4E2/hQj/NrOSdK31EP0dh8PNI208/P7M/FgGaUz8M5Qpwo3hVPz2dpIB/5FY/nO3tqVIAVD9Jz93e0pFQP0mwT0nnxFA/26RIhr7iTT/vpZ9OZvhFP5Bjm5QJI0Y/i4JYBtL0UD/hNp/du2RZPzlBQbCO6lw/bA7XJPALVz87WSUvF9dLP6nqeDJXc0U//+sUQiT/Rj9ku6HcK+xBP4ubywHlQzA/zahoeN3wHT+WG0S8vFYyP6N6GaSSpEc/D3RIq45VUT8ApYLvpSJNP7RqP+/xTz8/KQSnos4LNz8z9itobJ5GP1dZJcGVzVE/KBoDj6DpTj/HZFXA9L48P+bqajjJpxw/4Sq9zNEM8j5qEfFYJ3P6PkEHYaQemCM/sSRn/YIMQT88wGDD/f5PPwu/roXIElA/inauIwlJQT/Q7poCh/IjP+PE9vUzkfk+o8eMmoHX2j6QtAMcA4r5PpdUGyQ9ghc/fOZv5dBoKD977NXWVVcrP6T+qylfZCA/OfuvZBcDBT81izsWR8ncPhkaM0lvE6U+daRfvaX/YD7i4Y5+OxdAPurnz4qXFFs+YIsfbZNCaz54hh/JImBtPivoRmX0FWE+TRuMW0j2Rj499CO8dqspPrkQD5CAxBM+/aTvKKw4+z11wdg1ERvWPTVi7oEqk6M9H1WcHe2ZYz0nBveLCxgdPUke6XR4bts8ikjkzVGIxzz4QeVa/Nk+Pfa8e04pqqU91lZybuJfAD7R5zv15AFLPgzPNX4sOYk+3vTa3DsNvT5LwrlAsGTnPpEkqau57ws/3TvQ+Q9FJz/dGfz9c8M5P9uoa937BUU/m5BefLCdUD+kKCb9AC9aP6VkNh2+lF4/Ml4zVLogVj8KbgEtNfBCP0ZxPRYhjyQ/iBRRcIlwFT+zrRt61dwkP/BjoEgfvy0/v6ERAyCJKz8vRmqx13EuP/pWuDq0uj0/UfN8Gs+PTD+3YaClcIhTP1AjYh+EXlA/ARJmIjQKPz8BOPxHkx8gP9H4Ws3vNfI+Cq8M5iUKwz5wpANRzI3tPrp98bFzKx0/EqtXOgTkPj/265m6YXxRPzD4eFpTL1U/6gnT+/2uSz8o9pPyplQ1PzHtMgrp+SM/24hsFN6rJj//8dsLWEYrPzsP8qju/Tc/bwEHndoiSj/7d/g6i5NSPxUPW4ASSU0/GhWGBpGsOT/wvMaMtsQiP/hmUBsMMDA/4rt3fAKFRT/gsKgKp3VRP0P18QmsvFA/I5Lw02ybQz9uBnp5Bp8sPxRqoExAzAo/VZByllXC9z6Dpx7c1y4UP/vDPDXFSCw/rWlS8l2FOD/lGtNnsXpAP2N8Na6g20Y/7LNuJBm/Sz8JvqdnqM1KP3s+iQtW3Es/uYp3koZETT/7+k+YQ/pIP7qaJ7Ih5kU/BOOqzEsERT8lPAZIn1A/P/V5Css0Ey4/dLXgWSDjHj+WpFYVFSIzP/JJNkuqG0k/xORE7nOUUz98NdeJPlxUP5zJGZnPHlI/DjLhIrSCUD+EaF2bEMhMP4pZN7YixEI/AW3vt8/HLz8nlj52i2gnP0AbmC9xnUI/um2JLZOrVT91D8xaMWhbPxE7tj5vwlI/cDxLbAWqPz/RQUZejew4P9lcIm8vS0c/y/NCKx7qTD+4CiY8LWVDP1GGDyJI4Cs/bZfKdOc9Bj8zsbwEmKvgPoAbcyxq3dM+pmqx48i/yD4CJ1ppHkyyPr1l6/4MzLg+RuA9SWI39D4Rj6wAKVkkPxVGXsJ360U/nupY2sA+WT8scEhM2xVfPz0oRWJNdlQ/WjN9d27NPD/GC/0rlqwVP0V3Wv1ycOE+h/HYYtgBnj6F41Wp1ZpLPgaJJ1ydJ+s9gRyWX2KQfD3orZ3CoRMAPahrhk0pT3k8U28unmAJWDxHCCsxifBXPIsSROuE8Fc8TWLl9oTwVzwTCkYs5fBXPIe9djkwjFk8yZ++/O4lrjwSvTnO5vMxPVWOET1+bac9qTSlYXNWED6ww/OkLVpoPiS6RAloZbM+R+f0NpKC8D64SoDYygkeP93/uijaND0/G9xVLh1hTj/YmTcy5wlRPyeoU45FPEY/qPSLi81EPT/PZeK0Uq1GP63bh56+GVQ/tcx9DHL6WD9Rg6TLP01UP9mgWX8LS0g/zj9jcflxQz8hFbbr7cpJPyGVP1ISDk8/Dyl2l0gEUj/O6p4GOfdUP9F0y+ZHPFM/mmCYtKukUD+t/6kO6UtSP4Hp0dwBA1I/eUnIAqONTT9VSREDCA9MP0h95Zq1nFA/1mJ5SwZfVT8v4c881tNXP9tQS5fFTFM/jrL4LJLrSD+SDojKKf1HP/7ZCVxn+U0/W9I2YLKaSD8wF4paq7I2P4Mz5QOTkSM/fUtYwV9GNj+a/mY5wChNP4nwY1XnLFY/Cb7gg5rFUz/5EyEmH3NGP5b9CWp86js/Iw0SzcSMRj+A9jp4cE5RP8H/UZy3/U0/Tez3F0vkOz/NdwCp5f0bP2rD3C2Ab/Q+cjym4jR6AD98GE4VEFolPzPyFsWEG0I/aJohSb/vUD8liAaYSAtRPzsu2a7QbkI/636DaD2dJT/qK1xzDFn+Pv/L2GSkH+w+25VEJcsTCj8nvF2qU64mP+IAoh3FRzc/0qLFxJQFOj/dvH1hvzAvPz/sx5JB/RM/KgruUoVi6z5Y/rg0IA60Po05Ho6nE3E+4V+FoVdGZD406jcqX1OCPofPepkWdJI+bDJxLT7lkz6wDRDp0DyHPq8xqYBKFXA+OoJ0ulVKVD4187Tq8JRBPlmVcee45ig+koUGN3RRBD6CB8UkHiLSPaU+Z+0XH5M982suI1C4UT0JkKnPRLEVPbhLF0TXKuI8EsVsE27OVz1AxASwmLHAPSN/FTD8IBk+cMKe/DF4ZD4JOmW41HiiPm4xde3IkdM+/pad7rwR+z7ML/MzatkaPzOlmuAOtzI/ZyOI+dhGQT8jHftU2KdHP/pKtrSINVE/ABDQ54+LWj/obUWfUGFeP0eoiRd1M1Y/R4fl9+4xRD854vLP90wnP8DpyRAn8g8/lPwM7guPGT88AnWL8MolP+aK6cAiWCw/sc3D9tUTNj9cjx9/p3ZEPzZ4asgHDlA/m9AVkrgFUz8KBaXFaFBOP84BL7xY7Dw/nr2whTEcHz/FQiGPJoHyPsoq7vSdDMQ+25NDB6DM7T70hE3qUV0dPwXSRoWEED8/zKjv5+2PUT9QJnvTnztVP1+RUaJAlks/SchRZjzRND8aBSU7yoEjP/qB2EHChCg/rGPaD37xLT+E/ifO3Mo2PxzvDOGhR0c/JN89ou97UD9LfakzcvZJP/yzOMy8ZDY/VX9sVU/1HD+HmBlxosYlP8a5Y6CR1Tw/1MfNukPvRj/eD2zspkZFP86wZx+jSTg/blF8T4c4Ij8ImeraLXAEP+0Ca1hVz/s+ODELcLRREz87T9OXXxwlP+bzTOjD4S4/LGrvgHzNMz8ed8B2TR49Pwt5wV2tk0M/PjGNV2L5Rz/9ZhKtEzNQP9gJGiC8FVI/e0IbyQpcSz8JxEufQElCP51VCodLPj4/3L2Pq/HGNj9tHxj4lmInP29NVH6ieRk/BDyx6kaKLj8XhvNyp2NEPxpYCiabGVE/YdewmjejVD/xpGEKALhUP91vZOT0Q1E/D5+rG170Rz+uzyND4506P9F2/xqZiCU/B2u85IIoIj/A8kf2ww0/Pyi9YnpOd1I/0o2+i67KVz/7nOmMBJxQPx2pjsdyzD0/9ZQ5bQWNPD+wfUaDbRtMP84kdCfYf1E/IJbFvzx8Rz9zi1dP19owP2QRHCQoDAo/yBCvgTrh2D740jv3g4C2Poopjoctz6c+jBNEKtUhlD7rd6AMcWm4Phu8P30GVfY+W8P0CZSVJj+NlZnwr21IP7az3iWEQVw/T0HEoLB5YT8BEafcvB1XP2l/1hG2WUA/xKLm24W8GD+ZA8A+DAPkPiNcnW2oUKE+Up0DFfwFUD5StMEPB7jvPW24HYkcyoA9AO9Bm20MAz1vwDBIxSeFPN+h/UGUUHM8GWF7fiBJczy5POszH0lzPICjPzYfSXM8RwK8zzJJczydclio/JxzPB4skfdAXqo8YRJjVABELT3ZmaXKOxejPSEVZEtgoAo+geqwrBjYYz6a5afxZ5yvPgaZSDJN6Oo+HSf512R6GD//HHXw7803PwcLVzT3y0g/PqbA05snTD/+YDIMBxNEPwpAOWTSfEE/kvh+T6JYTD+f2mrB3iZXP8Vd1hhouVw/0Y4gnJW+WD+OGT/yea9OPywhb6IIfUU/WAE8p87lSD+sfG/jy/9LP+huF3kEok4/FI3jx1K0UT8fr4rpju5QP41rN4LBeFA/CHhJYGFSVD/OOfMXLHtVPwWVsgRJCVM/a+VeD562UT/fwDqpwttQPxf/oEOAa1E/kaEyHEc2Uj8FnQ0e6a1NPwXuUMvGNkU/xkYkraDGST+Fdm2HEqpRP4rbsmWIlU0/Yot5h/9dOz9L01NUVRomPxWspMy5Wzc/Py7jx1JVTz+XfXStQhJZP3/FcoGOEVg/SNeDfuo6TT+zvuTEqac/P1cXVkM9okM/Yr2wf+XHTD+Ju0f0DdhIP3CTEar8Hjc/lp3kw2LQFz/6wGY6wBX6PnIUUmELJwc/1cPhye5jJT+i3HZryaZAPx6Os+Qdy04/IxEEAIsrTz/+toawLjFBP/o772JvRCU/czDr09EAAz9LgaXw7Bv/PpoXwRV3Jxg/mnw+DN/wMj+Sy3Lt7ABDP2KwjxvWJkU/W3zrSG1VOT8/rxjp0DsgP5jUa55jPfY+PNZqGktNwD69oIkqPPl/PtggCgKQ04Y+ioR5YU8tpT7O2baNBFS1PjT9Ve+rArc+2LIUwtsFqz7o4FEOKm+TPtaPd18xBXw+nojns4zoaj7Ics+LQnhTPliJ5Wlt6y8+hr0kwFvj/D0DCSfedKPAPUwSLAvnUIQ9jw3qvwJpTj15hiWTsfL3PDiKFXhMX2895EiFivT61T3IT/P6VYAwPkf+L1oZr3o+fXWvJCOUtz7yqHYtSKvnPm8jU4o4WQ0/48WySBQYKT9Z+cLSvZw+PxIhdNcRNUk/ZoA5tAEITj+W6pZdLvhSP4DrbpmbbVs/p/mgyjQCXz8LJbBgiIpXP7nEeZ3IWkc/GF7ds+2HLT9V7/UKnosRPzJNV71uyBo/vh+YfLS3LD8dZoVfGFA2Pxj4GgVwTUE/4YBtVdcPTD/aeJ1XLnRSPyROfV/70FI/iHZubaqATD93MI4fVgY8P217CKEYJiA/fXL798zr9D5XsdQzntXGPpRwNNX9de0+hh2zRjH2HD/EhlYby50+P3dONvWvS1E/Py/CGnvkVD8zvjAbvylLP0wVdOqDYTU/ttDxUgj+Kj97MpIphy00P6+PA5IJ9zY/Xs5EPeTmNz8KwoZgMLlCPyWBTGPUZEk/0/L01F0ORD/fxCeynZMxP1iE/WF7zRU/zbhxBFYsGj/vBd+YIbkwP0pI/cL6WDo/1a4hDOSmOD9lk70d+tMuP0iMi7rYFR4/bUYbR9hDCj+BHQ0OxpkJPxbRsFpzhR4/Eu1qus3ZKT+Z7D156mErP6rdr3upeik/i5tiMho7MT9TtvS8tuk6P1r1UutUB0Y/yUegMV3ZUT/mEJvJCqhUP43PxrkqvU4/5qYVbo6XQz/bSX6TbSJAP8J3+oydxjk/nmL0dKy4LD+JYQMfXRkbP0euM++j5yU/0X0So1sVPT9NwUZdikdLP5TU25mf0VM/+L/uY/C3Vj9lobWC+INSP6zs0m2WtkU/EmTRe9gvND8rxUuJMp4ePyHJ+VZe6xo/RhrFRImNNz+YyR5f63BMP4FIWSnQlVI/LbJMInJcSj+c06He7B05P0jfvpYUeDw/jMEqyA0PTT+X8xKpjiBSP9oUg5TFVEg/JgZrySl1MT8C3K0W0s8KP0m+Zd1trtY+x9tbBx/XoD61LZfA7WmEPiKr/7OOvXs+oiBM62H5uD55HvXN35T3PooeaUnl+Cc/kbwilMkQSj90EZQIS1BeP+xwJtGX2mI/wnVLuugVWT84W5MpzdlBP20b+p3ILBs/w076G0og5j5Lna+BY0WjPj+a9gRe9FE+uungxP3k8T04qb4FGhSDPWYy/fKBwgU91qvS0J+MejwNqJH7mlPhO7YpPul9MTg7t6NTu1Aggjpfvhz4zkS7OhbGLf8ASGs76B4LRl0rDTy6Pqa0W6qgPNYzN8b1WSQ9jh+ZUl6Pmj23da16p4UCPl2hxUG0m1s+0zogDU39pT4hgPEoubfiPh4VRmNTBxE/HbS60SGRMD+sGiHKZVFBP/79yqUvOkQ/zBL+jdY0QT96Bu62cjBFP9J7V8lSTlE/CxgFhM0JWT/8mOnghxJePwzFFzdWP1s/Xs0pDq0SUj+T25Rd2RJKP/X6s/r0qU0/K5EoMCXqTj+JWUUY0uhLPwvZCSoC30s/9Tdk7dxoSz8gSxs9zZpPP9wa6HgFpVU/+Ue0cfC8Vz+uhuVM1ylWP7CSJW302VQ/xoOXNZ+ZUT85iRzC9ydOP1h+83kL6kw/AaWDV48JRz+jPQAzUK5BP5zI4a9DM0k/NcjgUHIeUj+R08dPuJZOPyRQdIm7RTw/qexlBxmKJT+N6ErMV0E1PxwJKnaTlU0/uA6fVLtKWT+0gIT26GhaP5Qwpe2cM1E/G5oecMHjQD9y9VoA918+P8CcMvT/gkQ/Le7mSymUQT+eQEpeJGowP8n9LfvdmxI/kHBUMmjZBT/5MiNCOIEUP/kMUN/8aiY/sidTVJZwOz9gtBzei2ZIPwS0Ls0fM0k/jdgq5gOnPT8XnXsjQ1UlP8Lt5eYsVA0/d48O+L5eET/UhzvTMvIkPznv9F18ujs/pk37HpafSj8N4OI4wmFNP/m3qviGkUE/7MMWw3GCJj8Hg3SoNNf+PlR/hXLfrsY+9m3LaEa4jj7UqQTxO1OmPiYxAWF75MQ+1sPPRUUL1T6nSnBnhrnWPlm0qr9W4so+PeaZcKtOtD4F8ex0weGgPi6MWoNjr5E+fhEryK8Eej423lXvwHFVPtkABEJR5yM+zT9qt31p6j2hVdFQLK21PcwiHfxCm4I9rqKm6yvzCj04ILj9NKaBPbb20Rfdt+g9xjcTUS+HQj6VM1HZR9ONPppZIG0FA8o+8VL1MUs1+T6G1gl59NkcP3FYfL7VqzU/PJLhn1gzRz8YQ32v7VlRP8eD/rzcq1I/O/JZ7UqLVD8tpjIrFahbP3CwSNRdiV8/7K9dHH55WT/AuBi5yKJLP0CtPcs4CzM/a+NDuCHlGD+yyXGTZTkmP9TxqArYxzk/uJb0mqGZQz/iMQNi2SBKPxgiRouNOlI/1E+XktlUVT9iFcTZMdZTP+QtKuDWvU0/Dj/5MUYIPz/RFQCvXGojP3VHvJ5gR/s+RCALk+47zD6eaX3B4jPrPlzwRJ1loBo/gnkPudkiPD8hRNU4ycZPPy0dUuGwMFM/VuAb+yAZST8LAx9Qquk1P2s+NufEuDQ/FfcNaUFaQT/9cw/wb7pCPyxLMTGHPDw/JehghCxnPD8cE291sUVBP17+Uxk5CDw/oDn8z7k0Kz+nf5OBYPUSP+5LcoHkpg4/9KVNL/cGIT/d/Hegv4srP2dEQmYAJS4/2u7mqKaaKz9jmfCLZ1AlPw4k6GPFNRk/f6b4cHeRGT8Vyuzel04sP+H7Ijwe2jU/1PEc/GcoMz+ohcqkBj4nP62H12vgTCY/liZGWi8ENT+7fMIat99FP4+8e1Pe4VI/tSw9K9MKVj/L6eH9QENRP15AuOVYZEk//1XtZibwRz+n8t7sWG5EP1Egl0e7zDc/+JHUENU0Iz8MmeQWAaweP9t0jhkwnjI/+tfa0Z9pRD9ADaElEidSP65ypQh0qlc/bwt55K8TVD/AdDk9t9hGPyTI7MmcPjQ/VK8xwu2aHj+SYR2PAfwUP9c3RFZGGjA/IZTPyFaDQz/6mjNVt8BJP+fakqMpfEI/MTzuzCKyMj+hjZl+dX84PzuB+qiarEk/NpZZ4KcJUD/BJBNrN4dFPwVwB/px5C4/bQ/131yyBz+IvRxghY3TPigmEbqolpM+ii51E+8TYj6OYWhMuzdwPin4GijIjbg+4EFszPNv9z4Eb0bxzvUnP3k+PYTgM0o/2Op8uzanXj/jSmMpLi5jP2v4KoJ+rVk/gFSNSyJjQj8hTJWVxSscPyHgV5wbFuc+Ys8tm2s9pD5VlL2doftSPqKXUcryC/M91i1PUc9xhD3XSqO514EHPT2MgjvYUIY8Q6x3e7CobzzlZ8K/wJVvPEGpmWu9lW88upRPbb2VbzwjmpOezZVvPAxoZLUG22884R2Pvqy9lzxB6TwFlC8YPZRO7E1Ui489muvfnXL/9T1imFf2/2RQPiPJCi2yHZo+1pK+igs71j6wvC64KToEP89CrqzisiM/9MVdYFDDND9Gij4Kj9U5P3pFbzQYhj0/SbUQ6ysIST+Af+AcpRJUP6KvNWDidVk/r3Kd6E+8XD9rpEa6dPJaPzTa/actSVM/aA8jgf9WTz8ohUi4ACJTP8fsknPrVVM/ijaza9GDTD9mrddao6VFP1OMx99TX0U/j+3vZBUDTj+tI8ZH1udVP5UuPsTQ81c/Bn5AjTLjVj9WaPAATQFWP7IHz1A8E1I/yATFs9d1TT8h1zXogGNLP8pUv/U5xEQ/KELk1cNAPj9PCR7KYO9FP4uXUHBX+E8/p+YOzNMOSz+4Rv0jrPc4P+huK0wwGyI/8KyVNCLmMD+r/NhUAchIPz8Xjk/z71Y/ygRQObYbWj+kRQIyoyFSP2ii7k3RxkA/Ig+GnPhoNT8VPQXJhi45Pz5USEWzSTU/PysHmO0qJD9Wc9x+PgAPPzyeW1bwnRU/vsBJ/GGMJD8n/8iHAeMsP25h7MtnUjY/OKpwsVOxQT9/MOhBE25DP37D/64OEjs/2bMWuEveKT8tfMqSnycbP93MR2fVcyI/EQbDNcNxMT/0gRqucitCP+7s41zgFVA/Jl2KEUZ0UT+Oo0i+5c5EPw1uZnixpSo/UY7exHlEAj+pVeEzTEDLPtqYSUHVm6A+a69GKurEwj69WT62uZjhPpmlzAvTufE+b/vASlUq8z7LbYCC4+XmPqYqOwMgZtI+donUjRK3wT5SIVlnE/CzPnVS3L1ttp0+24LnZ3+ueD5++4bNfPZHPr6dcLvXiBM+BeI0CGQP5T33BLRh4a6zPY8zb3Qn5Bk9e9zcdyj0kD1hD8mMkLz3PV3XrqaGxlE+FJ/0XceInD4QDnbwVq/YPs3jgvMhYwc/36NPMApNKT/JGfKJxA1BP9A6N40+7E8/NQl5NHt5VT9TzJ55US9VP9ohI4bk1FQ/VAF7gltoWj+ey1btb9leP+Dy0HnsuVo/KqG9cuFuTz8tBCr4HH43P0365riLcSI/mNhmCVRWMz/CbN+MuY5GPwk2/HWVL1A/PzfHgVJMUj+rVQhUQMhVP5L+YU2av1c/H+hs737PVT/+XPbMGBNRP6sFbmTjAkM/b8SbsQc6KT9ByBslZ5ICP0YSiiOf2dE+gn16AhaR5j7X2uBLyeYVP3tIvIIpIzc/jyQnHncgSj+oGTi6EJNPP7a6uo9y7kQ/DSdHV73rNT+r3hgweKo+P1Rx/+GLH0s/74ylYiFcTD/sObQldthBP8B0Y3KkUTY/RuBkF9GGNj/2JE3e0OE0P460tSOadSs/ZWig8OniGT94BG2rtcMIP2aH9vrglRA/RuhW3BzOHj9IZz+cuowqP1aLzD6WuDM/0zMDZ46KMz9ZN1ZeV9koPz8UBQbLLyc/V9SrimVAOD8UTHSYZ0tCP/tCvJF8fT4/9KbGDiozLj+/vjX9YQ8kPxqU2fKibzU/1j2aKicvSD8PIzusiv1TP2TlordW/FY/Nzu+JDikUz/WRNZx8WxRP4h9VGfqgVI/jgvgPzpwUD8eeWuPlYxDP9nP0LrDky0/jOEtakJBGD98DaYBazMmP5T/llkTcT0/m56fe4jtTz9Cy5Dzq5dXP4ea8DGP8lU/ETtMlVmZSz8EXR4xp5g7P+2ridX4uyY/wMmvlndTFD91yqkXIe0jP+2zWLRmjjc/iHB+vZlBPz/kTIEo66Q2P8z9gZqjVCg/GReg8rUdMj+7cV63fV9DP+9RrwJlOkg/vzY8KzhDQD+MlRNzFVcnP/54QoJ46gE/gzbhn8GQzT7MbuZ0PpWLPlh5IaoEHE0+r1TgI7mKaj5hvJFedE+2Pi18NW8lbfU+3bQB0lEHJj8GfUwjkTpIP3uwCi1Kglw/ExbJK4jxYT8vrgwk+ylYP1iVnfwBaEE/gn/W5srTGj8mJNxB3h3mPtYFhOlxgaM+0zB+OjtnUj5ti/GVEpPyPbUtqfgWDoQ9s55xcbEsBz0tY0GgUyaBPD6Pz1Gb3lY8TMyGHc+4VjyBYgxvyLhWPLDmd3DIuFY84vEk29i4VjwtKHlgB/9WPLdXymg76IY8zDmO9SuECD3eTh94Lft/PTTJuKJ4TeY9q6qqFC+fQD5apcY5iXqKPh8vx/CHisY+S6Nix4qE9D6ICH/1rggUP/cU4F+ViSU/sY5tKi6XLj/0Mghc1eU5P1Pu8Bzwh0s/r4gCmWWRVT/hyeYKiGJYP8ntIu/NPFk/kP5mgI7gVz83wFF64WZSP0IQv8nehFE/bZweQC+zVz+MMnI29EJYPyuIIDHs9k8/dpQSTn03Qj/ZDKIizY5BPzfYlRKGd00/EVZwnQGsVT+Q3o+cs4BWP1/aN1sQBFU/eNPJ8Al6VD9oQnRfSXxRP8WVTHI3Vk8/URBKr8vRTj/1hp3oW3VGP3qQ8cFOiDs/VEbfa1n4QD/xzrvs4jBIP7NZkjojc0Q/svI+/PrVMj9DoDn130MaPyplNnWrrCc/IJyyBWOVQj9t+CdXisFSP3vr9PF/Hlc/iC/h+RztUD+dLk7T5Gc+P/uzZu8Cbyw/+/fCFgUXKz+1ArZfUVMmP2JQabayaxY/4ZknmZfjED9dYdTdbfEkPw4E1MJW1DM/hFkgHJJ7Nj/GphoKoTs1PxzLiNYSljo/TEZSp8i7QD8ExoWKW6E+P7566R/cYTM/iEzFaHqbKT/vKC9xa84xP2OX3tzg+zs/noKlFwv3RT+70K1jnO1QP/49WqpXxVE/jDvCAM0NRT8tDzr92/AqPzs82bFpiwI/kOf0C8ZuzT5B++rBIhS0Pq8kQNZsCts+p3UkXztO+T5rZOk8Un4JPwbC1fgwnAs/aXL6+2+2AD+IVQ5XNvzsPpm+22YPJuA+sKjW4exB0z4OZJS+wwC9PiVffoEmZ5g+6vi1j3GbaT5hetdbljM7PtQHGt5pORI+u+pz8gHm4T37C9iDoD0lPVej+3uPzps9SchCQT12Az7eDAL7wiFdPlArI9qoV6c+sMEMBMwX5D7O75FwYcQSP9Z59J1ijDM/fospMNo8SD+wG/RVTPJTP6kmfeFbxlc/+yv2DcmTVT/V2JziSrRTP4l6DSYr/Vc/oDKE3ZCoXD8KGtv2P3FaP0O1f9Vb01A/A8PkJyS/Oz/IhVg/tm8qP3YUuQviTD4/VDBdZjOBUT88PFp4Af1XP31UNbtAoFc/YC1CC2rjVz8i1fJuF7RYP0v725Cdhlc/M6BF+M+qUz8VjSV2yv5GP1OOzLlWeC8/Y5eCiVmwBz/NeMKUArTVPl6rvVEvi+A+Q/tbCrt3Dz/Lx5ztcp0wPyHTewADw0I/ec8ivEG2Rj+ybqEm8AQ/P3FXq1h5rzU/bMl2813/RD9/lRJ77t5SP3oVMEdgOVM/qsrf6WoqRj/dzI7rf/gzP16bfwBJnzE/KRvG0N2QNj8x7RyK8WU1P1w6QG0M9ig/K5iMAwRCEj/82tPh9PIEPzw4juRyJRk/vW9WBsSTMT8d0yQFE01APwn2gk64QUE/CJ0zEOEGNj/N63mQ3HUyP3wVHEO8F0I/gql4hf0OSz/lO+7xh15GPz3+EjApITU/2xgrC+JHKD+9nCIf55M6PxX5pm74+kw/UhRk31vxVT+fb9TyJo1YP+potue4zlY/i5MVLtUFVz+K/g5/r+9ZPyvdBOGWhVc/ySwsSA5cTD/ociM8sR41Py+S+xq/cRc/yWctzmUYGj8vhzxPn/40P39JTZa9XEs/rb2EXtn5Vj+9O6dQVTxYP+stdkSK0FE/3N5aoALnRD8+otZgAM4yP13SobVVsBk/qUnzI45jFz+FMd1CatooP6rmJEnDdzA/NIS4zI8IKD/EIExu0H8bPyGMBett+SY/37cP2Oz2OD/IpH5vYT8/PzACsq0Q+zQ/nx452c8nHj/U/tDGv1P3Pnm7WQVkDcQ+4If8vrtnhz7/aVtrMhhdPrR4pCcyDGs+bFkEho1Xsj6NMpYcbaXxPrcud4RKPSI/m39ci3krRD9Slz92iNxXP9v05NzsMl4/tTvKfXxxVD/VxEkTBZw9P3MqHsI68BY/b7gj93IC4z6G6RWUGdqgPou8y8z89U8++yeJabk18D32lPyAhJaBPelLp9tJcgQ9mTgbabCUhTzZqToiXNtxPKM1PZ700nE8/9s1IPPScTy6aEog89JxPNMd9eb00nE8Z3ADnYzacTzhuijEhpiBPO29NHFQR/U8tc8FrRuuaz3Oq+ZxsE3TPep+K6F9xiw+qk0KzI/sdj7q+D2kgYazPp3DV23PzeE+tY3ZGLWGAT/8BljCdcoTP2tq4IFb9iE/gf04KJqcNj9ujuYvNU5LP4IJL3ZuHlU/bAiaHIgYVj8eYWMRYb9UP4fJxAA4GFM/Xgh1nqVyTz9ze0pIleNRP5bqRglr61o/NJw+tFKOXD/oaTCrD0hSPwVj4Q+kckE/35vH0LFKQD+vVaFBnHlOP/tV3XDJmlU/UrCBkwRlVD9yfHG093VRP0XWkkK5zFA/MIn+uuYzTz/Wn0xM7aRQP6/lRawq4lE/DMKWRuu3ST+g4iWPE2M6P0M9PCK6vTc/dE8mgTV3Pz8yye8cX2o6P+MawrQDRyg/lY5dng1zED9CP143dXwdP6iDrjcTGjk/YTo+fQuVSz8OiaBLYyxSP/t1DJ9ttUs/mbPMTOqzOD/my0qCJbgiP2pAyIFF3hs/6EfYJqz/FT/HhOUFUNcKP2zPaN3Xvhc/Iqg6SWwyMj+L2unFQghBP32THItQ4UE/YSqZj7NHOT+JDmlp6Wk4P/VZ8hEgJUI/ISzOLIrMRD9ed8KkmaM+PyNVFxPzHDY/eYcZJi1lPj/8WdxnlCdFP/9B4jlaQkk/omWzsRCRTz+zBK1eOyFPP5l4J2adNkI/Sj032jNMJz/qPbOhE2gAP7C2mNGgx9A+9osm88IXyT73UBRklrDwPi1eskweEg8/4dvtaU9NHz/8l3KkMv0gPy1UqeJj7hQ/+t/VcWrlAz/74dqVz4H5Puzm0Drf2O8+ZyFHqnc22D4qzBMoENW0PofdPHOE0Ig+33/Ihx6zYT5cJBsEPJ87Pub5AERf5As+I9u40NHeLT3BW+xfk3ijPbO/t6c9Pws+glSFxqNiZD618ACUNVGwPg39AHCMAew+MlQ3tIjtGT+26S9Xplo6P8v44sLixk4/YZVNMZirVj/YTlfJhMZXP+AXXv07+VM/0wckJY4HUj9OFlBasbpVP4DCl+9951k/xnlph2EHWT89hdRUIX5RP3ol4A2zf0A/hlEO/XEvMj8LQits3cpEP0MrsE2Trlc/AoYVPhuCXz/GUdWQ9zNcP7xMMulBoFg/zgTOT6AQWD/nnHvxJc1XP0awXmYP+1Q/GWksPIREST+zqRpsh5ExP4m2hzVz8go/ldn4a3ph2T4yOYpl8yDWPuh1UltAigM/yy6Fh9CVJD8j+Ns8XD83P7f3Z8U8Qzw/C32oW2OeND+W/QcL38I1PzTiXroxdUo/qEFf3MCLVz/A8XHtg0xXPzO76m0lnkk/hxHTGUNhND898mB+iEU0P8BmuhqPkEE/I7TsrletQz8WTXx4VYA4P0cJT66A6CA/jJz3iXD+Bj9cxosHekkeP5kMquHfxzk//98f3BA/ST8Qp4aqNCNLP52p9+6KR0E/KhDDCsD/OT9xGtxQkmZHP1ydNPimXFE/AyQS79LfTD/sn2dzdoM7P7Gxi0FDSS8/V1Bt+uzPQD87P85l2XBRP/D5OVDwm1g/V9flTfftWj+0n9AxY01aP2sa8SAC1ls/Wxkgp4O3Xz9YE4CEegpdPw0DVUl0s1E/LMCeGk9hOj8LQbx0vPAYP6Dl57KYJBA/WhRCw0lNLj+mpNReikJHP0+HI5m0IlY/Scw/LMKRWj/Oq4sEoZ5WPzm3sSSUEk4/Wj62tg7DPD8dkBpFGfchP2MOoRxPGA4/WxEI2Vw8Fz+1PjOQhBAeP37tytA6ARY/xgh7pEbkCj9y5UZJjvMYP52GW6QZeCs/uYiqgbY1MT8FcajeNyonP8dN0MuW2hA/GSx53SDH6z6wQ6+0jKa/Pp8qAPBPhZU+QU3HFIBbgT4wQ5OhMmV7PjELwAFjhKs+X+Z9xZLN6T7NzsnQyMoaPz+pR7kaxj0/PcBvP5WyUT8S0jHve4FWP8psr2d/nU4/v0TB0zlGNj/1LOgTrlURP48gspEX3Nw+SX3DFCSymT659xAfhnhIPtPmKcjQ7Og93dDdSSYnez0WC4NOMqP/PC5QxDdZKHQ8MB7Jm3NPHjwQs20kg6scPF/nBFA4qxw8CVYjTjirHDwpTJdLYqscPOCA5dTkXh083+aDm7F0WzzygoQ1U1nfPPHv51hZdFQ9jrHAbbSJvD2bTwQMMUkVPmWc60np/GA+NeVAEsERnT4+zxHxn9PKPrSCDC6EZ+s+C9WGhaW5AT9TeHqGaxIXPwSqQ9PvBzM/3i+NiwtBSD9FW378iexSP8rIJYm9aVM/G4/XnsLKUD88t0+Lt5JMP/Cf0A1Xqkg/RlO0iaHmUD9/QB5Nh/hbP79h3jBj5F4/EN2K92QMVD8XM2POs/lBP/1Hbb0ldUA/5YzijVDxTz+s1Zn+v5VVP9dWRKD3T1I/ukKrqYwmSz+v9pRx0slIP/24cnL3s0k/U/2MZuCGUD8kBs2m9SlTPwyvB6wzq0s/eF/EMSN+OT93Uqy1c5YvP6at7r2i1TE/mDKgRUJBLT8miMnHk8EaP2V3bZR01wE/MCWnp/N5ED8xmx+MaJIuPxxKu2vWGkI/p1tlXjkfST9dzyqifMBDP/N0kMcBADI/nE2nODvLGz/ZGmm9KsoTPyAj0NzbFQ4/NFL8bwoYCT+83R9hqPMhP4XGYe1m1Ts/N8VGGph3ST/VqbQt1/BJP/iOMIngYkA/JIg4xCRMOz83JxP1YXlGP7cNs0q1rEw/PWrcZrqSRj8I6cxaxetAP91qw7tosEY/IdkMwos9TT9I/n4l7A1MPyUb6XUmyEo/+qWrhsOhRz+TSjvHmP86P3Ac+AfVXiE/emZuJrh8+z60bu3u9A3cPhW9fP6Rst4+154w3N2wAT87RqMXqEkgP3Pnce4jaDA/k+ijcTzdMT8dQN/UkoYmP4fOSxQk2Bc/K7dloR9oET+Bier1ZogGPx3MJqZAT/E+7vXUL7b7zj7ECsmfP02mPkK1KNH9GIU+HxpFcdIhYj7+mYw3/pYyPm5kb9Yp6DI9TE59CChVpz1zInJZDEkQPgQ1PsEjXGg+P6VXBot8sz41sYNoQLHwPqpnwdQ2vh4/vqazVRvHPj/8O+bUXUVRP749AVbHX1c/YwjEws/NVT9XXWHWBmBRP+p49njy91A/93BqifgCVT8WC8ht8SBYP1sEo4zF/Vc/tFbS9KjmUj8wYLBMK9NEP++3LjjwGzg/v6uaY+rvSD+bo5dQ1ttbP4U6h5JXR2I/hLHfh6xSXz/zoYyNavtYPy2+/M621lY/TpMpmcVdVj9DiIouzvtTP3m74XUqWUg/nGJQBNspMT8hWffxj6sLP1Xbl9suauA+dftAYNpG0T5p6L3WKDH1Pps+tI2Z5BU/o8CSh7O3KD+J+FnYHGIuPz6O+HtKqik/FotbEihMNj9yVxbgB8BOP6ZJSuf2qlo/duUbqx9/WT9n0Lm0xBVLP6iRb0XCBzY/otUUPa8VPT+kEcNlPe9MP3/dmMZn7FA/B5uAk0RgRT+PI69fmDYtP3mGYLJQhBA/DZhw55QOJD8fo0JxAbpBP8bF68f6gFE/d3skcyf2Uj8rAQBCyF5IP75pVin6oUA/133qNGegSj+BONPBrY1TPz6oXDQcllA/pDTqnqmFQD8G9hC7SkAzP0ovjwv4lUM/9FlksJ6XUz8D6I7seK9aP1fxq3JlB10/q5pADuziXD/r1I7A2SxePxX/Uln10WA/8ZwNc27OXj+9IZT2g+5SPwiE6Sz1Vzw/iw3i+jNhGT9lK3KKoscFP746LS0vYCY/f2WeWLOiQz/CKAY5kspUP+/jZVuiz1s/ukaqaNWMWj/aRNnmFEVTP95hctmgPkM/3y3cKkX9Jz8A5yENjn0KP9lFfLdA4QU/uq1yCyaOCD/RSdPOMn8BP2sPnVZevfY+W17tx2MxBz/cO367CtMZP1+Fx0p2PyA/x+Tvfl1NFj8Wu5Hw3+EBPzN2/YrXfuU+VtAL5Vzwyj7nSNLzX/KyPsQ/ZOHu5KQ+7UZPm9TYmj5Vg30pO+qlPsF99hWUoOA+4L/4n59IET9BUs0baEozPwuqEGgCCEc/aG2/C11pTT8t6tVSKxZEPwkPmWBHWC0/X3+iHv3sBj8x5d+T4SfTPkshCJYuHpE+hQlc0/dbQD6hK6rgO7jgPfox2hstRnI967lhUfdp9TzFhtWOP597PEg7r5u+lWw8N0U399SMbDy1jYFf04xsPOnYZ1/TjGw8wyBYydOMbDzENEm3mI5sPA31sqeLTHA8Z690prY6xDxUB7yLA9s5PZH3WxXvFaI9rhT11doq+z3KlB34qAxGPoVOO1EHo4M+ZqI1NkXgsz7iWwFKS73YPgk2UqMhd/Y+fGJWDyE5Ez9VF9NJ+uUvP9FV++C55kM/LbLWcSogUD/NQ2xvToxRPzfnXbp4e00/KpH7jI8ERj84MGI1NA5DP/YdoMiR004/mi+U8WsrWz+9JwujBNpePymRgh55e1Q/+5fXhx9BQj+n1zn9fmtAP4S+EVg4zk8/0jjm4Q+9VD89QVw8tkFQP68LkJmT5EQ/PkQ/EvyNQT9eiS2jRglEP5Ioj2JBsk0/6JATFf4gUj9VDNItAqxKP/D4D4fqRjg/l1IVnfjBJj/NxQshpeEiPzfwKXgMWBw/heYwkxxnCT80Vz65Wh/xPu9EqcnO3QA/6sZh6czEID9qT8C/SQg1Px3sXO4YTD4/ZcfFprGKOD8hZWSfiNAoP8OZRfljph0/34Krkt7ZHD8fkQ2mCigWPzYllfcDfRM/q/PwAk+vKj+1f0wJwPdCP4j/tkllm1A/goTlsqSEUD8thVeS8QhEP65DRxT0gz8/hQ7JCJUKSz+I23vmRhJSP9FDduOHzE0/pEbR/V0IRz9JywY/aqZNP1Bu8I7AC1I/lz87FXjLTT/Z+sGAkmFFP/eTGFcpiz8/1A4KJAlBMT8XHRJH90IXPzRTBBZgyvw+5VvoAPed8T4iyd1fDhnyPvAZ1SYHLhA/WLvHFI8rLT8jXwF3mV49P0aFxYsxDkA/fI4YB5reND8wMNmacPcoP5SNrGMCeyQ/0jNhWUhHGz/K6n1oeT4FPw6X0EmhW+Q+PCdtLXzZwj5UhaAJy4OmPnsdSOpsfIQ+haU6FiYtVT6UL6wAYB5BPbt4Wunvl6g9tRNStZulED52LlfpFdtoPpSGC3LR37M+3wAwae0B8T7UeQI4VTsfP7rUWWjbAD8/RtIjLer/UD9pJoNoEsxVPzQOrv8nvVI/ZP68md/3TT/3TGOYZyVRP9InzCXyQ1Y/KkCN4axXWD+C3t4EDtBYP4evzhTuK1Y/ZoOQVXGySz+Wrboo3LA+P0Mkgg8DO0o/Y4nCNDOIXD94SOYua8diP55Gvv32XGA/yEHKhlsyWj//M7zL4H5WPwYD1y9O+lM/2oUyvXToUD95XrpvH3REPzjWjBA82S0/uRNK1Ga1DD9kAL2uZRLuPmoYRX9Ttds+PM3YvBKl5j5zGEle5xIEP1OGmiwBhRY/Y7uKJ1F/HD+TZ7WQ+TMgPznerSmyvDY/yf49vEl6UD/ipZ3GxqtbP6oEtzlfgVk/3Qsr7HFRSj/n7MLvSq83P9iwX63rgEQ/GAgDCWR6VT+2hXjzzV1ZPw1VHhlfEFA/hvzzlsvnNT8mKXs1XBoXP09k/JzzSCk/ZKDAXmo4Rj9n6IJ/UudVPz7wnIjtAlg/LD1/BATJTz/LzfT7+TFEP8S7OvQ+n0s/Av/mLcACVD9EZP9su8VRP4AdD1+gYUM/tDBaiLvkNj8QmJWMRVlEP1JSmzUrqVM/QPszJ+GaWj9WrdRR6WZdP3lh07/EhF0/OHLT1Kh6XT/maX8UBz9fP/Fnf6A5OFw/GvkOJw9hUT8ZQbLAMhs6P5WeMpeeBBc/uSRjh8l+/z6FgtFgTLIgPxlJWnSADUA/a+6EFl9fUj/qhJ8+3KxaP/bknN6cxls/uoI5FDSBVT+LgINjTEdGPxgjcE7tTS0/ZGIGjoklET9pVZWTFIMBP2Xl8jdhY/c+6D6biT1i6j6AsDpRSNzgPrUGDx71d/I+fjaVOTrcBD9O+b4OjBULP1FmtgfliQU/FVkpZkpg/D73QcAJf9XyPuigYo2tteM++IJxyEBb0T6sQaillAXGPlZb9+pZQ7w+c7vADC0xrz5DNvIAnyTTPv/4s+49dwM/ETBbPiXNJT+vr+GLCCA6P8py4Tq7vUA/Z3NgAjXyNj8wVn0IRNEgP/tTHoPJXPo+fi6C95gYxj4m4HNn/s2DPk6C32hF+zI+1zU4LRJ00z2Witjcc1FlPe+qR6bB+ug8vw5IVsBLXzxBqVTVHvbEO4wQAgSFBR47p1ux5o/8ZjpRpfBepY88Ordpo4E8jOw6KyUAObGMjjs/w1jujX0hPCvwmJnPd6U8sb1LZONdHD1wf+5iQmGEPaafK1E1SOA9B4ummnY2Lj6IDNVz41VxPl6Smo9C26k+AVjW/Az+2D55YOtt1JP+PtQmBckEwhg/sgmzB6zvLj+Gx13fCJBAP2DHZqU+L0w/KbFh2UFpUT9W89WQDmROP6fYPVHVDkQ/e03n515zQD9b3/GTSRhNP6GI/TC4u1k/NQvU/bchXT+aaASCP5RTP6e08G9ok0E/g4URBZ5ZPj/QoEtMuapMP81/Btb4U1I/DCzAWGH9Sz8LeGg9RFlBP23vaIg0+zs/CUhBFu2fPz9bDTE31glIP15xtrAkFk4/DPNHmvFHRz/P46VQ3+Y3P51LREByOyY/CB6rTIhjGD9tXK2CkdkKP6VKpCt65/U+nub1a1hk4T7Mk7JwihfyPhkQgNu58hA/eqLTGRiNJT+8LgFnNMgvP6V0Efp8Mys/+g6RhZ4xIz+uBqSOPC4nPxEfjdWNmiw/BCyJadg9Jj8aQ90zFdMhP3CEOXHPdzM/zSucajTKRz/uITgTET5TP7U+C96sdFI/Uh/sRxfYRT9pG31CxbhAP5sC5SG5Lk0/KXAFRKI2VD+CNV14rLhRP9gparRki0w/BCxRxasuUT8icvak9rVTP0qvRKyoj00/+KWLYmWLQD8/SvQuNAAzP51xAfTfeiM/q+Aov5OeED/xWL+tdcAIP77iB27W+Ac/MALr6x5vBD+HBAhJoMMZPxvktSoOUjY/moX7wCZyRj/9ip34iK1IP0gXHXPqrkA/5atQkPzVNj/2K8nlXbs0P3yW2GtQQiw/sn6P+5B6Fj++16Ps7B74Pgi9FfQ84d0+cba1sH8exT5+Nt4DW9ijPlRXrwC/mnQ+YTll6QiWaj360w1o1nGuPU1+jByPqA0+Lv69RpquZT4i6O+gu0+xPiyq26wjnu0+89veSf8rGz94wSZ6rOg6P2F7oPupUE0/zAS/ZvCCUj/6CIAQ5m9PP2gXU2ytWUs/1YtDFzdjUj8KNsmlX8VYP1Q2dsGwWlo/z6GI5v/FWz/HerZJq0ZbP/NdypWGPVI/AFHmqH+DQj9d4qMK82NIPzXTkb8pk1k/JnucUJFEYT/QtupYmV9gP8yw+SPp5Fw/kPNZ/VPhVz8C/QOYcb9RP06jqsEP7Uk/anwFZmCnPj8lgzV8RWYpP8wS/9iYMRM/ISYlLqm2Aj/L9V0Ou+TyPgSOPEr2L+Q+bfNmaOnH8D4T3GTOdKgBP9YAEPwkEQg/rIBOdtFYFj8/wRAZ5h02PxNqQZOeLVA/bOonIEVhWj/IyaqB3ZJXP0XNyLQE40c/B0VmppqQOD9QfYGBTsxJPwnt49VskVs/FE7QlPBPYD8sFT6z3qpUP50f6bHPKTw/2IaRZ0HzHD+clQuuGbAtPyuMeBxGtUk/YoJ1b9dFWT/W/zMrGkhcPzbo+14Jv1M/gQakYgZcSD+ndcBcJ8hLP9ep1hwi2FM/Z5Uc4x8qUz+V+Sn7COxHPwHtDB2M1Ts/xQE5B8wAQz8lIoVT9VJRP+irgJqO2Fc/vwfrVpieWz9GQLVVJGpcP1SHpvoP8Vo/furycFdJWj/Xkfl1mb5WP8z9O9hQoEs/idVftCSsND+gEY/7gkkSP1AqxClhgvg+sZ/AGifRGD9mVoWw35A4P1UuGMjpe00/qCZlqBrFVj9zoycUDGtZP1Qw0+qovFQ/Sj56M5dqRj8qJxemBecwPyHADlXA3Bw/HlPmYTYpDz81Nf4Dce/5Pg2PGJPHSd8+8xVfbi3syD7I4xGQzoLZPov32MilVO4+/SDuAXF9+D4Vcz/WYxACP2+rtNlebgk/6PcxoqSRCD8gBdZI2M/8Pjt3JEUwMew+3+MS6jkB5D7UwAaJ3EzaPrSGfUcGiMU+3KNX01Nhxj6wEigoRBfzPr0VCZCbZBU/Ze1cKwy3KT9DuVXMJocwP5sK87YtuCY/eF2S+ZOyED88DZ7+hz7qPjbo67+aDbY+LDhpln3Qcz79TMvAAAkjPtRFJsNDjcM9tmghEuJ4VT2BxEMCEWPZPJd7S4bKjW48eiMGliCnZjwDXk2PeaRmPGxTfBV5pGY8tHdxFXmkZjy/rQgceaRmPHrKMYSVpGY8Ce008L/mZjz4sLr8992KPNkM5Bx91f480nTYOozMaj0yEyLdSbbNPd0tPVpxWSU+vSUiwHsHcz6zpgcbmsazPvJYaGO+++Y+nIhUpyx7DT/kqqTrmmwlP5HS0MNd8zM/2e3AafEOQD8rbiE70gdLP5Ehlq5+6lI/YnqK952uUT9b98v2m1ZGP2e23njIUkE/L3VLLSsnTj8+m4FgohFZP525ex40OVs/emXH4v03Uj82//bPVn1AP1cFDjEZ/zk/6CKsXlQBRz9smNJ0pB5NP66iqelIT0c/wEEE88YGQT+lcyBEieg9PyQ9vneGeTw/MZVtxqcaQj/IE2/zSH5GPxqGZvrCxUM/SxlT1i4BOz8NM45eFj4vP4vynv0HcBs/2g3SuNsVAj/G05KsiRvnPiiO8P6Jj+I+ydqSiNap8T7kJCkC60QDPxxWw8E6PxQ/AI8Kc7FpHT+R4Ypt1YkdP93bUpmVSiQ/sTGDJGUJND938E9/3sM6P26yJuf54zQ/osBugA9mLz8XaRuFcSY8P039dakHtUw/4jVZSWuRVD9pf0C2eY1SPzjXVs7/SUU/JuuYyCuIPz/uJkKPLb9LP4ujRRkCOVQ/n71hvduFUz9hlK9GaapQP3ZfczurLVI/+V+079ZBUz/qY5UJlRNLP16HkkH0Sjk/dVteNc6yJT8A7hh9JmUVP91L1aCj/xE/ltov0SYuGz9hgr5ExJwdP7/yBfOkthU/RLspprogIj/5lfHjPDc9P9ElLavCTE0/stCl20c6UD8QTQ6jnhNHP41tjPnmOUI/LxmB4jYHQj8wQ/WRvRI5P5WSFcBjqiQ/y5FWItJdCj94ri1F2ND1Pi0ADwfLMuE+DD5ZbCFzwD5HN9utlR6RPpbGJ7zST6A91RuVxdYTzD1mjtBCAzoMPpoyinGmaWA+mxS0g7zJqT7Mco+HJg3mPhECzYMwRhQ/Gws0Ang1ND+TBLtI4GpGP2PR5p08o00/bZa+GmO8Sz+gDG+ZDsJLPyqLL89EIFQ/OO54f6BXWz9y0jJnOQddP44JYoytpV8/+ltfMEpWYD9fL/NnxGNWPxvQU9RZz0Q/b4G5nPpdRD852N7wul9UP8hCSbjqLF0/UuotmBYMYD9EPJaFykpgP9VXvoLfiVo/ttSy3FtLUD8z/0g5wO9CP/5ng9UkYDY/DmqO1rN1Kj8YwMdFiushP4YoTyLSMxg/4+C1nCMPCj/YcViMy8DzPgu3P/kdBeI+AN5Fjw6d6D69UpLPBK7zPp7VcZIxpRA/OzIdIlrDMz81xabeitJMP0sCDi/oGFc/WHc8k95lVD/P3HV2IulEP+XAzDs5czg/WjN5+to9TD9FHBye4FNePwWQ39468mE/wWMKoPa7Vj+XqVHrqPo+P9HZVR8+/x8/dOPoysBQMD+rXYSyQ+BLPzxVN/eiZls/xsWGPwWcXz9QZuuEnrNXPyvELkE3pE0/Q2M84bbmTD8SFtgh5IFUP/j7z4jRD1Y/GJ4Tn7WSTz9/tNODO8pBP3CMy0kQlUA/NjD7w2niSj/ceyxhGl1TPxJi+ze1q1g/Een++gIBWz+trW3Rb9NYP/IWnHPbqVU/58ZejeD7UD8A84PwhYVDP+Rk4IaKhCw/BDkrxYhPCj9lHw3vI6H4Ptel9jFrvxM/25XFZWh3MT88cCRIOQ1FP7inxVNMBlE/FMERMqMrVD9IpuYbQkRRP9MXb+IiB0Q/BHtuWv7yMz9NJDnFGAArP6CRb/zs9yA/HkmFGJxLCj+PT5JZueznPvM1eP59ycA+wbrHKJ35wD7f35zpb5TaPn3HUNUPCPY+WRBfUosFED+BrbCQb3wdPzKIYuk2aB4/LpKQKaJwEj/55BNpyegDP03VmLxlPv8+L+/59jgB9T58oBbugnTgPgUj2hoMWsU+kROjIeV/4D6YEMcWRysCP8QH7WXr4xU/sD5TwHo1HD/NsI6OG28TP19TJS9pofw++OX23WWM1j7BHFm2ivyiPtCteV6tF2E+VRJWVG1zED4dVCQYZe2wPb9qhvrgnkI9XvCifdHlxTy0daXCgYc7PJvDPnK5f6I7D+m2JLKT+jr+vrIDimhEOr1bwkDFKfU5e3m5cMq2pTryHKKdlPpIOx3Tw7KiveA75n7fFFzXazyLpFIAdALuPK/MliDfl2Q9i0YXQ/7u0D1CuIFMlZQvPoHtUEvBKoA+pCV7qG7mwT5GaIiC5E31Pm01U5dHQhs/5yh0rmX4Mj+BmOf5Fpw+P2h9393b3kI/AXrqbjwwTD+Cnqxrn/5UP5RscpNe+VQ/S5iqOOFNSz9hUkVFR+REPyIBD2Dq+FA/DHPtNELqWT/8pgj7wZFaP89ONhsIqVE/4Tydk8BmQD+MTNi/b4A2Pyg1qFzg9EA/e6EL5EQLRT96jKZlNIJDP5VGHOmn0UM/NHOtQMIKRD+iqrykMmc/P8wLKUXHxjs/ygvX4+6AQD+fK4DdMZ1CP/0b+uItAEI/AF53RU81OT+EsrlD+oglP0x8leCrAQY/L4FLzcJm6j52sS/Gwb/1PpAYjpwHBwM/gk7C5inSBT/oGDi0m8cGP/QZJjTvXwo/xAuqcgV9Ez9VG4HJ0L8qPwKn6+uE4T8/h01zA2m9RT+Q/tqmd/9APyaxo4Zk5Dg/g4QOqDzQQz8z6aeAnkBRP104wKb9cVU/jlqznVnAUT/ovWCmv3dDP8y6enY19To/YPAJmt2hRz8mMUCpwahSP+BTOd0LnlQ/bIAhXvrkUj/3U+6Ee15SPwOOvtDUiVE/+IZqiLKARz/ei2fKO60zP3OFIvm93Bk/ZW8cjfMDDj97kem7E2gdP2bg5zp8hiw//Kfd9eC0Lz/PB38AViUlP+t6bOWHDSc//sXuRAFiQD/FPDuFBlZQP3l6wFytR1I/HmqMwsO0Sz/0wUJWMVlJP91Uf+jL6Eo/ThfF/0QXQz8YpmlV7LcwPwDUEZY1DBs/yXoKsYCtDD9X9zzgJSP4PtU4XgwqT9c+D0p+1PxJqD7YVD1O22zSPe2uiT0BUfo9QnV7ecb6ID5CYAaTblVZPvl8rFp0pKA+pIUg7V0o3D7cV3G1vxgKP9Jdlsokryo/ueUNyeKkPz9OxbTGxCVIPwruKxv3xks/3ZXoAo4zTz++As08V+RVP8/iW2V1HV0/RqeASiIMXz/6FmakGTZhP1hOBV31BWI/Gxlzsrq8WD8wzhQs6XpFP1O6kKhnkD8/NJBVKZoYTj9M1Pf7tdxXP/q+Hsd9ZF8/6eHQ1pHuYT8cVqSy/fdcPx8CDHnf204/9WcAuVmkPD9nif9kV1ozP5jucbMIRTM/iGXtNtKOMj/UfSpJnjksP2uSIvingx8/BWGRiGT7Bj8ApFD3JSHmPp0bSpPIjNI+sqAnrPBl4T62qOkXerEIPyDeAOc3ty8/R2+w888wRz/sIKfvoLtSPyaJBuBIElE/i1yVa5TbQj/tRwJ4U/M3P5PgqnyQ1ko/4U0N1xmOXD9Vb2D4H+FgPxSf6A5dYFU//6QJhmQlPT/afLJgARwfP4OKtRNDwTA/rTREPdVlTD8wb1nl9glcPySoFRIWymA/EN8b+f4nWz/dzx2oM6lRPxZCnZ4Idk8/WzxpLnJ6Vj9FsSVHAJBaP5aYskvN61Q/mcjjixT7Rj/2txdb/Lg8P0fJjK5RzUI/yrtou4GOTT9EsnXo4v1VP+A+xbSUqVo/yw1nmwjYWD++lrtlbZZTP7684WoKKUo/aVmymVFGOj+nndzHidshP6djU2Py/QM/gYs2KDAABD+EOCBY6bYVP8tZttNhSCk/fp6sAtkOOz8Y4GjIejhGP0CcMy3Vr0s/s4Ysdsz+SD/2OW50M7lAP8c9qB3nujk/szaHRc7GOD8NIvMxwwUxP9Xwd6AKEBs/gEXFwOrJ+D43Ce2IyiHMPqOpg4t5dLI+MRswjCmT2T6ZBSx4gqcCP0mvgz6RUCA/9Uy9BxRFLz/zPQaH908wP/7UNtjrWiQ/FLb2hxxrGD+ojyDzsvMUP7WnQzvirgw/1CDPUz9g9j40HR18NSjUPh1ZCQl+xss+B6tpIi2u6j6hLk0X2hIAP8V3FE4TwQQ/iEy74qam/D75HaJckCTlPuQQAbYZrsA+PWK9X+MijD4j+5lsbl5JPnQlzUjac/g93e2cSiIymT28HxzfB8ErPTZA29XLfLA8TB2ZRc8lSDwPRPL7WwNDPMSmPpWhAUM827uvRaEBQzw0OKhFoQFDPIx6+kahAUM8RAsfyakBQzyA8B4JHyVDPHsY5NyEmGs8lF0a5AIT8TxCDl2881dsPQyNgWbJl9k93A9eC2rgOD5gQOBpZeuJPk01CuMn5sw+q+9imSA7AT+8bEC46v0lP55Djyu9Mj4/VfI9qYISRz9BVPak9P1HP95m3xgg5E0/dtqflT5bVj+y3wNN3tJXP9hw+g9DmFA/s0UjhF+kST9WF0+HdWRTP9kd3hRT21s/3gA5ieigWz+67uuhkqxSPwJnA8hRmUI//ucaEkY3Nz9R8upvlhk6P1l4ZZfxuz0/9hMXDH1oQT/UVh+2fJ1IPyYvXfhPdks/Da412FB1Qz+9JtHSgb44P3PvIK4M8Ds/PUH/R8MFRT/f8AqNeH5JP7XXJVusZEM/EeclkiCqMD8mfwAe41kQP4G9d1xw6Pg+O9ezPkaCCz/Agr7u3LkXP+4R5sGqrBY/GvETj7yMCj/m5ksxkS4AP9n/juB3zBE/qQt7hsiQMT+kcx+//g1GP79Ni6iwPE4/4JoeYjGxRz9m5rXJk09BP2Zb9BpBKUo/TthME7KkVD9u06Svqe1WPw0UdpJriFE/k/IKaG9fQj8YCkiy/aE2P3F7/+HMDEM/LiNH8mGqUD8C6+OCD1ZVP/m5RnoA8lQ/64sLhO+ZUj+CNJWVLCFQP8gbO5k5CEU/MjIiwC/bMD/XNUWQr+0SP1u1H9IVpRA/mhek+RyJKT/urvDV9Sg6PyVncY8jHz0/VhE8jpJlMj/B1TxnfzQrP7teDoYFmD8/jh+1mT4lTz/EvYIEAK1RP6kdeiz8Ak0/OtZEAzWvTj8Ker1aTTxRP6nnWlJcC0k/tGG1yKBBOD8CxjWa/xQqPxMb6XCOoiA/F6O/gh0RDT9zwLLcGjfsPk3t+4wMbL0+913pkvD+AT5+jY8kiCgoPoLrAsckKkg+C4RI3dXnZT56/L/5olqVPjfFDhMcWM8+pgI5ei54/T4V/ApdSCMgP+jcwaj2VjY/C6oMNDC+RT/P0czVUilPP4ppFrBdR1I/Gs5deF9RVz+JG/ZqerBdPzjJbTxQc18/M1CvDx43YT/gGKA52NBhP8wRxpXnQFg/AsYsRos/RD8uLkHhe0A4P+0fvzYYtUY/958ihTdyVD92fTezDtxeP1pMrT5QnGI/ehyfloSeXT81mVE4+iNNPzHhQwakaDg/zhEfzIitNj82syVUVTRAP71Oho4yzkE/S/V4v5qEPD+6A08Cc1owP8+wOBoA/xc/RROXojam9D7i98Wl16bKPtf7Wzdv1NE+dLCAFcoRAT/5wjyBv8wmP+P42HmAHEE/D9mWMMxBTT/efxUPMrRNP9J/qJefMEM/CfBhkz50OD/QWEXG22dGP9NbipqHCFc/k1v2/Y4lWz/p5NEtVC5RP22+VmtxdDc//qkUHuiZGj9jqbgh9rMvP6/mJm7L0ko/226oWSS7Wj+7k//Y5adgP1oU7KQn2Fw/BarelPSeUz89UUwUePlQP2v7L34vrlg/sZixE4wDXz9JY9HI781ZP0CJpnalB0w/jQD2PjfIOT/BuL0BHdo4P51oM8sCYUY/l0GRs8cqVD81mAj9y2RbP0ZAWE9i3Fo/cKXhOONLVD9KdZcDqkVHP6CWoZ5dDjM/NqUBkniZFj9Zi9mglp0FP66gTVpaMxU/ghWtIShdIj8lGPsQ0GooP0ADka7eXTE/Df1nJE3dOT8L09LqtoVAP88wMP2OE0A/I8kbncZ7PD9Jxi122axBPwi0s3KpwEQ/56hdFA0TPj/n0O0gDggpP97VAhK0iQg/iiLSq46U3T7gznIoXL+4PhOK13HbD+Q+JEiRvNmIED9p4WSbh64tP0hmpYwunzw/v65CinwPPj/dTZQxH2gzP5h3/XSYByo/5cR5nV0eKD+D/nRTCrwgPz6kn02mHwo/gEiSxxIl5j5mZLKibkPBPvp6OYSuFtE+Ur/8/hVS5D6T5po1S0bqPsGeKvjPKeI+eh2tlXTYyj68tydkNzWlPsW6itPy6HE+ui97PwUrMD6qRXN5OjTfPaBmhJEAGIA9g3TkRsu+ET1HJMhXK+qUPKhjCIdGWQo8fmqct5+9cTsxyizmDYnJOiRzrxChpBM68BjMWTfDuDmJRkKoj1l4Ov0ETAch3yw7wmd4yZhb0zvFRwqK+nVsPAesQIvnmvY8a1KF2FlGcz2n35lb15jhPR5dC9ygLkE+iWoX83HvkT7zxG21vgLUPvpXc5UV3Qc/m3v3UOZtLj+OL9tovsxEPzJymFiaGE8/KUYt3MhITT9V5RNF/3ROPzx0oJEkRlY/hf1GvBF9WT/keH/Wf0NTP0WkNETA+00/B4atk3Y5VT+zIXUF0KhdP7/rI6FPkV0/Cq8HqGzxVD/b7XsXwFpHPw2SK/pkdD4/c7OpH2P9OT+RXfmIweI3P/M8y9CXzUA/6LQGA78yTT86yS3iiyVRP8oRZJuK10c/D8vQvXf8Oj8FyY1x5qI+P2VlrWYRnko/E/VIJMs/UT9+ddYZ+qBKPxPMdQew2TY/Luep/lG+Fj9Nhl+8xgwIPzEsQa4CmB4/W6dYbYhmKj9sMtQ1N5EoP74EDLEUABk/TjgeXViyAj80LrFOLuASP3WSSYJ+kzQ/yfzmncIpSj/A4yeYe/ZRP8HfJ52lPkw/Bo4LDGfrRD9awJ2KXl9PP16w9Zpb1lc/7rykvzlNWT8FMMkfutZSPxKlpYsWjUM/GGmjld5rNT/LTkmd/T1AP5AdUwqrd04/2AGZJ6SbVT+hTQF6aU1WPwZLFC1SR1M/tNeRXW4+UD8p4A+BIm1FP7HuPoGNTzE/TM1F/p/dEj8Ge6hQcfIWP94rcJPu8jM/T7diXLOaRD9vPG4d/+RGP5H1gLofEjw/zDpmDJlpLj9DaanQLl46P2IsmeFUcUk/sSAifd6FTT/SKusYoMNKP3CfCG68MlA/nNcyR8b7Uj/Acn73u4FMP8JneghKJUA/cWU/nlZLNz/rgXBYVswwPy4GwQ3j9h0/3KCPMC4r/T6JsrFpaG7OPtsBs6pCOS4+USDoLfBZUz6F5kRvH+xxPoV+nhBvN4g+46UkOcknnD4N06AW+0fBPnozbTn7ou4+lDR2ILpiEz/+RwElLzYxP28n7w7gf0U/Q6Rs6JK6UT8KQuIR0LJUP2TklJBa1Fc/YsATD7DBXD+4hEGCebtdP3RxHkFOI18/WA08LJY8Xz8/leP0FxdVPzinHXswsEE/Shxc7LKOND+eG+R+Hv1DP4D99LaQhFM/mkBT7fJXXj9yAhu5o/hhP5LAbUzY7ls/BndA2XTZSj80xLlS3gg4P7SvsxFjGj8/tJOgaZrJST9Lm7DYstFNP7dGzvdVu0g//dE12EgKPT+6DusUeYclP7sNh+QHVgI/OYCNb4wt0j5w3GuZCCvFPudGuJgg7/U+aZIHnUJwHj8J7nnw4IY4P8TT5h8A40c/LQAfhMEkTT9vU+CW25pGPwFgwM4KSzs/zXycVEAGQT9T3QTBGftPP7mQyl+SrVI/YY9VBrucRz9LztMKCSYwPzru0rF3BxQ/ZmMj3NshKz+w62gdcAZHP8kNRiJ9PFc/urnIPYsWXj9PXcNVCpJbP5TMR8ZUh1M/ICo9xwH9UD9ALi4QbkJZP003pR4Oe2A/121YjpBPXD/c8cvJnb1OP/WLEL+Anjc/jCXJbe5+MD96bu+s72RBPz9m4B51mlI/Kttt0TnAWz89+HMIj/hcP+QtCewrJFY/plWjCyaCRz9+Tj59Kz0wPxlrYWuzExE/8DfBF6LhED9dCscCo/ElP77knqA57TE/Xkm9HogCMj920y/HecAtP5rIg08tGC4/o0FSeke3MT/OYKDFl3UzPwUX9g62sDo/UBI4vPDLRz8rDrOq6tROPzObxDX8akc/OI+5WwPJND9urR5zilIWP2xchvyxtu0+Z1rVQ1bFxT4wfsTaMtvuPmUGfJ9k0Rk/pyeH1hlHNz+EKw2B/YRGPzoY7Tl/3Ec/AlAl+UkUQD/MGkv7lCo4PxITVpMH1Tc/HugnNQCwMD+pg/mm0w8aPxnWCHE/5/U+Da5OV62lxT7tvC/JuZG0PnTTSHDUGcY+21XVxBiSzD5NBP8REcbDPmYxXyUtQq0+J++oUn8jhz4LBIc2Yo9TPqKn0FymrBE+HgwOySQSwT3A/KS0rp9hPbv51vyecvM87bDUkjvwdjy8HL9DKevsO+Zg0/Tke1M7Tjodz+QPrDoNnJ+ufJn1OdLhgoZGtLQ55SWOF3KfeDpiL9Jo/+ovOz6qPRy2QtY78ctqeoujcDyTjKZrBZ36PP+cxZO1wXY9A06+wL7M5D1spfbNo1FEPgXMjJCrNpU+RRMpF3Cr1z6Q9kme0DkMP4uT+2d5/TE/xy3yI1aNSD9qiE+KaCpSP9YF9uriIlA/qOeScjD7TD/eaHdx5rxUPzqvjrCBrFk/v3uGIdUFVT9UG0VLtmhQP1ZRv1Ff5FU/eU+yPVJIXj9Ntjunzu5ePwQ29RXfQ1c/8TQxASCwTT9D9Og5yitGP08ux6dyIUE/BNzArv6POD/XqGsYpbJAP/F4j04XJE8/r80DewDZUj8VUgM6RUBLPy6T5GM+5kA/oha1AdlNRD9SPeHDLB9RP4RWlnV0bFU/vqnr1hMrUD+3FyKat2s7P63KK1UHJxw/+QD4kH4IFT/GC5rdXCstP2PqPYnuNjk/J0m2/k5iNz9e5usFAUonP5gzebVQ4ww/dLCQc7VNEz8aScc3GM80P5ZOlqhAhko/rfhwU1o6Uj88XYZyo9ZMPwdUdPAQBEY/iu9JoW7dUD85/8URVb9ZP9jE8pp/0ls/3s1f6CF0VT+gexGkZDZHPwEJ8+rl4Tg/W4UTE7WdQD9gEstu5sZNP9S1+NxkJlU/OLHfGj1CVj+IfILVogxUP8VgaGTS4VE/Y8HL6vKkSD/P6YPuW280PyjpSGS2pRY/ZbG14qGzHj+WZ5jEMxo7P5QVR9Rl3Us/LKJDXszVTj+tvFAelJNCP6OK36WYJTA/zQC1kh9NMz9ly4jM1PdBP7jSzd6TvkU/EstPpTFgRj8KKr6zEzFOP15NAc+ZF1I/NUQxn6uDTD8G5QTxax1EP/06kGlE1kI/J6vD5sNHPT9ZsZ0bdGkqP+lHHDsXwQk/lArnhyjj2j7CZhnqlcpVPuKomL/Ixno+WHzGdf1clz6XEkyfmlStPrliaAIXtrg+VzGe+/v4wT7fp2+ALPPgPqyx+7OUXQk/0wf1Z0P+LD+soy9s9kdFP8BEUqEvsFI/VVpcPHNnVT9pnD9IaK1WP83C1GBA91k/rVIbgLHZWT9lC78Z+ERZP9GtPdwNSVg/wPuRTG6MUD/jNGDU2Wk+P4+dNTyoBzU/+R169mMrRT9LYcaGzmdUP1D2AQcyiV0/CYoZw/BAYD80u5tbtrdYP7EdmlEjsEg/LgvnxchIOj8m+maLdLBEPyLZ3RgPBVI/rXd6dJZ4VT8FTAhL015SP93t8/oXDEY/eNPNErqCMD9Y956xry4MP7mrqnTLw9o+qw6bDE/ovz5kkL/0FNjtPmX5F6MAWhU/XmLj8qkkMz90yU0v4RFGP2zSzEyRC1A/Zd2eLqJITD/H4bjj+1VAP3ZeHOg4lTk/GUY3cst4Qz97Nn/WExZGPwQwHCD1xzs/uCXCNjULIz/BXsWzi78KP7uY8Tyg0yQ/o9FL5oq6QT/kP9377xtSP+n7BbKoPlg/QySvvpw6Vz+Hyf0nGQNRPzZTb6MRPU4/mg1B5rsVVz9gzRe6vfleP53pA9uiOFs/PW9AJf66TT9EfbRQhfU0Pye0CsIT3yY/MvXjlGtROz9kidIXIVtQP8Fhr0G3E1o/C910Bz/jXD/TegNUn9dWP4g95T5x2Ec/gf+H1J9nLj84bfhMfEEQP7Qp1w7/UBw/9M4JmPcDND9lQCPsa05AP9aUIHS+Dj8/EWjdLqwRND+BnbRXOR0oP1qQ1awWoiM/UxT/o1UAKT94J4oseEA7P5OWf3vEhk0/C2v154Y7VD+QgtUUcENQP5DP+9P9ZT8/9StcyZCuIj/PecqhElP7Pim0WwpVS9I+T/OwAwLI9D6qD+OFTGkhPw0q4Tahgj8/tvLvi+qmTj8W87Cb2HhQP56J+zfibUc//W0p1BOgQz8TkFJPqTxEP0BWimfEdDw/M07xZSU1Jj9SxQ2ocqICP+Bg33kn9dA+1uADwVaAoD6/Lgb+q9CkPpfpZea4pqo+5uQ+MK91oj5dKMSmhlaLPsWSjeE7o2U+m9DK8y1OMj41PgU5gY3wPcdhkec9/58996iVYgKHQD2a7CG8vz/SPJlQ4hJyiVU8MJE+5pcqyzszKqTFDVAyOyE+nvdFY4o6PvGC+gNS1DmDO09Jq/uzOQhg2vzhbXg6fEEiIrL/LzuceIJysmnWO3GaEEY3yHA826z3apnc+jyx81/Ayvl2PT3/YCSlAOU9jZ9s0JeERD5CNFHA92uVPmdX+Bjs5tc+k8HehJiADD8QdF/9/ikyP0Mt1kULxUg/KoiG1yo6Uj/sJrhpPkhPPyttc2ICYEk/3ZXtd+oUUj8LnhgTSzZYP1i9aBuBSFU/W8UtnI7sUD9hi3E8ZchVPwcjehuKvl0/LP0+4lDPXj+Yy47ir3RYP4EDDG7681E/uPfCj0kwTz8HmFh93nJIP+Ifj4rFNj4/j9iZzLJEQD9wRiEkikdNP0ngM/HfRlI/pu3IXOZHTT8jPYdyn5pGP31ywTUEpUw/TGGydZ6FVT8cwCRVg51YP1c7/BASsFE/qRNPfatJPT8h/aYa2VIfPzceG5dIPSA/JOlxifbENz98EEahV5JEP+SnacnyEUM/4PCeeG7sMj/HSUiwWrsVP6r1/s286BE/ZT2WA3IHMj9j2Y/9JPhGP7J5vBSJnk8/ufHrX2xaST9G+HVF6ZREP54KsGGYfFA/UQhlwpvPWT///Ulk5m9dPw9YhpsnXVg/FC30rcB7TD/yAVHHk5BAP6BV8M+OfkQ/09T7TB2FTz9C14XS0/dTP2Dcbp1Oi1Q/8Npg49UeVD9t0KKBfdRTP1fkIKtAqEw/OZ07F4tAOD/rNbOY+WAbP+1Q/npXuiI/qsypd9sdQD/Y/0xVFExQP1LTWdoJ3FE/nWSZUyY8RT+2HOo4gQcwP+/d+NaYdCk/IsTev7itNj+IWPeE1lE+P48vcZQlVEI/boNCQk3SST+TnjevAmJOPytgnJdVmEk/HegVEPiZRz9QI5SfgwJLP83yKKN060U/CR0XX0TmMz/vibwKXG8TPwIdwVTcU+Q+fTJXyE70ej52xvFo9fGfPhtHbX7qXLo+vzlID2RWzz60A2c4LMXYPiGZm0Frttg+XKamkB5d3T6Qb9iNwXQCP5zBdJNjeCg/CeoFQ6ZcQz+3JqVac2RRP97Ye66xjVM/SYiH719/Uz+oyIWrM1NVPya8dOjnVVQ/WxGY4iVYUj8namQK1/hQP6X2mjhd1Ug/g3JF7uYlPT+bGTzE5IY5P1aWK2FDL0g/WF7PtbqyVT/RjsTPBCNcPwcJjNqYOFw/MJZwHnqaVT90zNEY7ydIP5fZuY00PT4/bB78QsWmSD+TOc4Ir7BVP2RIp5e/f1o/CgY1y5hcVz+dmmirY55MP2YeWMa/oTU/JjXlwJGFEj/jMYskYI3hPt7tHOkimMI+Zm6BQarZ7T78VXWR4OETP6wpJo5gNjI/nVkFbVDURj+zDBjUVRhSPwh1NpiLBFE/pYM7dznKQz9Xs82L2gM2P8XJ4GRUijY/W4dV5Zf/Nj/JNb8g1zgsP0bGhbHUVxM//nswibpvAD/8QKAW25AdPwwBPn6b7jg/p+woHdBzST9udyUnZVlRPz6hEheOGVE/fRuRmsGtST/3NAO6w49HP+Fv9GYhq1I/8ct832jUWT+xoXMzQjxXP1dClL4ioEk/kF+6q5J7MT8LqZxef78gP/Qx33Zw+zQ/ST5fsKlRSj8lWiPvTuVVP3QmBAtvjFk/gZansVf8VD9PFYcc5xNGP2hfw3FKjis/irsLfU8kET/MI5/lUZYlP0S0mgQacz8/lRrUcd35ST+qrXQGmk1JP7Ol0qNTQUA/TLlAzEi2Lz+3l0AVQowfP9uzaVKeESQ/6RSe+62WPD+O1Ld6zZNQP7aCPRNbslc//zKSmId1VD+0u/Qeb8hFP4rqm6KCpCw/5iJqs9abBj/OQwEbHwfcPr6ShprPXPg+77cvV3JuJD+25vesgJ5CPxQPwP+IUFI/5adoyuoqVD9OPYEPCalOP5hku3lvHkw/uxHKsameTT9iYlsyc8REPyn5iowJKzA/b7RinEoaCz+9qmLC/13YPsqSeYXmuZo+3DFQZZTqgT5djKSrGFKFPtRTnjt6hn0+5ltXaI7gZT44I7EmkFNBPgIwU/RrVQ0+86wPRj6Kyj3j83cQN6p5PYc4NsjFhho9xg6qa6hNrTxXip8rjEwxPJ9aIGpr1KU7KWMawCpxDTsYMSYKVjhlOmUvio4NWbA5WXWZq10jsTkKfpbGOwV1OhXVv7ZWkCs7BpDL6ahQ0ztLsTqQK+5sPO46+nepJ/c8XbTKPknOcz2yB64H5BriPay5LJf5r0E+z1FxN3B3kj67PXo/y5rUPoOo+dbxkQg/nHgJIXdQLz/PdE9tlldFP6hAmYGTUE8/Q367bqZZSj/a3Vlj7S9EPwBchdpkVE0/D5Ix8WcMVT/VAaAddbtTP47vij2gwlA/qd8EKvXkVT87h2mJHw5dP4MfMH85gF0/zt7vqR09WD/vnF7ZFkZUPwUIDAM0BlQ/fgwI2L2DUD+4SnY/2IdDPw9lC5FTIz8/ZXYF4ed5SD+mdY7yOBFQP2YJKIw+5U4/yaARxkO7Tj/RKPCoM95TP5XpnF0RT1o/K1e9WMH6Wj8HmqkRPB5SPylc+qM86Dw/CO/jr10dID8TO0TIpOUlPycgHbhTi0A/tcakJ1uoTD9jiVTXiZBKPwe/wVAGVjo/gXmwWN8dHT8B8RFu4i0OP/E8jNCOxCo/O+JDUDQDQT+2TMvCRoNHP/6Ld+6ogkM/jLLup/QIQj8LxJk5cdtOP335eoU3pFg/oJYgE8TPXT8DRPPVvMNaPyYJcPt5Q1E/6mNI+/ixRj+U2Uua5BNLP3lJ1D0EmVE/tTj9/4p3Uj9wH+SNi5xRP7UbQAiw4FI/8ab00s5+VD8fQgnRKq1OP/V3nZIwSDo/qo+9UR+yHj8hj5A/xXMlPxI+pGg/V0E/nOHQ4bvTUD8WRvFHq/9RP/gMr/ojBkU/j7X/JykcLT+Udxh/7u4fPyyuorFLiCw/MzQXoDHcNz/K3NhY6Q9BPwQU/iocN0Y/MgAr8u+FRz8tfIi3CUFFP/Say6kDzUk/ysM9skzpUD8mwJq6XiFMP/eiivmfpzk/UaDsxpojGT+6ywFTQ3XqPp9m/sNgk5w+5CH8dxdpwD7JvOF0pLbZPg3WR1GT8uw+Cs2rhCv69T78ku8quHn0PrBtF7lEgOo+T554DBPp/D5jMLtx1AojPylhUBEe+D4/NMzv9B8BTD822nT9hgVPPzUQ8sGFmU0/E6KNjVYnTz8rVnAB7IJMP0ajCyVO40c/7OmPlSRNRj9NdBv2YTREP8nqk0SeIUE/rtF7qJPHQD9eaVFIF+1KPzDGxH8cDlY/zCgNLUYBWj+j+Ri8RGhYPyhu87mx9lM/oOlys9lBSj/ovW5SeoFBP1TLwJbKx0k/rEyZ/UlkVj8ZTrG+OQJcP+PvtBtUbVk/kW/X7R3BTz/f9Kpn3DQ4PyYaaBh8yhQ/vafhy/7t4z6hxVAZZb7OPkFh9GRg3Pc+siWPpGH9Gj/eBGBr/0Y1PxOPm66Ur0g//IT2bepcUz8l3IwdB9NSP1ubJphYjkc/GdK6mKKiOD9zH6hs3yYwP8xMIIjE+ic/xiZAIMwbGj9BPZ/QV4oBP6/cvQpSrfU+9moTz3hoFj8Q0FS0HOQxP0e4El9AW0E/YyffT1fXRj8RMN49bTlGP01DlrDQ0UA/pfqY73Y/QD9qhb2ft5FLP9XFehGIClQ/3u31xGqfUj/6QGMHJs9EP98M0KI1biw/jqcHRcnHGz9iG2Lv1lEwP4Idd1bcckM/OtLtEgVDUD/Ug6QLprdTP3lkf3FZwlA/ZulNquThQT8T8eQDY2kmP94XO5p5qxE/zaWLH5SVLD971K2VpjNFP2ui5F/I6FE/JcrbuFdSUj/EkkAEHkVJP6Et3ssHEDk/f2dCqrl2JD/J7TdJQ8IlP4cOWJ6ZXz4/KNo3ICUkUT8220xmLUBZP96+R1pSoVc/+NEPx4bGSz/r0Wrac94zP99A9xexkxA/Rd4Vbh1e4z4RkNPppEP5Pv4OldxLRyU/0bfOyKOrQz9O9RulIMZTP0/Fuc2zrlY/E8ZmczuhUj/eFDRr/AlSPw4E5cb5ylI/Gws1B90ASj8QnvXnbiE0P4Qdeku91hA/pbovi/Y33j4ZqaALeaGdPvpFG5bxymI+kolkLyVsXT7S0c2R0DZUPvaK9mhC9z0+HKX8vmu+Fz562S4juxvkPRtrHHx3M6I9IUExNKSbUT3tGLGTuDTyPHogrvFzHoQ8veSllBfDBzwGA0+Stf59O9dANRi1O+Q6Zc881IEsPTqK1yIHT32GOf42itNQNak5QHGpKYjubjrNmpwUUUgkO9nXY4JDbcw7ttuuhxZKZTxdmg8PHArxPNj5839fJm09VrKStpKl2j0k1ggVOAg6PksYyZTJLYs+B904u19Tzj5nbxR3tRQCP0s8VGwMCyc/1OVW6w1nPz96upzc8P9GP+GvcxvwKUM/jBPN6JvMPD94TioCoMRFP8li9PxjjFA/2NJEg1KpUD/zeJEqvFRQP9MsQPFOAFc//wF32iFOXT9zNr5nPC9cP0EGrwUWaFc/6FgH7ROSVT+mz/CgRkFXP+LL2sIpbFQ/lA41qFPmSD/Z3PAoHsI+Px1Bhjcm6kI/aKrIjmr6Sj+YzaphsJ5QP9a3MumROlQ/5Hy/gzvcWT9YNReyxAVfP5kDtQ6+AF0/jP1kO1I0Uj/GprBzyck7P2QscmH4th8/7xc++iibKT+PtJmO2qpDPzEyVhpGClE/44PflU+XTz/gBU4h3E4/P87lD9799yA/EPr2fb+qBz/NIUgqKTMhPw7yhbFHvjU/SYS2P4xgPj82JgfB4o47P0CLjrK4W0A/cgz3FvAXTj/WaFzxJ7VXPxEj1ngnsV0/63+wfmrHXD9vGiVC7rJUP1qwz0NpOU4/8lroZOFBUT+sEnmxRalTP3yotbo9DlE/g0FnVga9TD/LM/yPAmJQP8mLB1uxA1M/skG+VEP6TD8oq5Utuv84P70OZGzSyR8/WTzqZ7rZKD+AzYFrXwxCP//RF0zYDlA/ROfZQTU8UD95+CZ18UtCPyfjtQKW5Sc/B1esAPwOFT8xcl1Gnk4mP8woHfNeLDk/Ba7iX5nQQz8sOHEd+rhFP/TlxtV9YkI/35KhZAnrQD/UQkuLBb1JP2hUg62aVVI/lUZ3h9H2Tj+HQHXlamw8P5OAwRObJBw/e7mSJ+JB7j5a2POrb/K5Pr4XzJ3YAd0+TfU47Fmq9T4/D1M09BcHPxAjrIx80hA/HlBPfXBnDj/JHVEDdI4AP78D+4PcKPo+5QIugCFGGj+8TUsBqmA1Pzwt55kLWUM/GsiHm54vRT8VvXHG2otDPwHJ2llV6kM/JnpZFMacQT+MTsH76Vw8P4C9HNNrfD4/93pgsiYGRD+QIL4+0exGP5TkGLUoB0Y/VRkqUHdFTD+x4c0bQv5UPyGC+w18Ylc/H+Y8DIXFVT/qGsLe9AZUPxFZBRrHXE4/Mva868KnQz8x07lNtq1HP/lkalkY0lM/yiQmShVaWT/lBrgN6q5XP3zR40o0HU4/WfNdfV8iNz8kr3qAj+0TP5svY5enoeM+G3ljbjR42z7gxCEZV90FPxcXfKDQ5yU/DW+qZWZKPD/mp0OqAfpKP4mnNV38RlM/Zq8Rzgc7Uz93KJ+ur+5LP6mxIu4KOkE/g2PpDgk3Mz/XPl5g0IgiPxwcRct/dAw/ndmLARhc8T6gmVsuuir1PkPkin18eBc/3ABzqwvDMD+GVXGAY008P/B6aSYmsz8/gG6yvbkVOz8TcD2evJ4zP7zET6+bCTU/CC6dNzaJRD/P1d87Yz1QP8GU1Joukk8/mGFp4IPkQT9pfErT8GUpP2y04ivQ2R4/DiB60c2aLj+LKOYl1fg8PzCEUa0L8EU/IjFaooqPSj8PFdN2XhZHP6M25dB09jg/I59rAAfJHz+MZUdGcdIQPxHev0yKRDA/odpkJHSLSD83rlK4+WNVP+UM08T8W1c/5Q01f+ypUT804V0q8s9CP/szXB6s4i4/KmmBFQRsLT/rCSdM9BJBP/ix6XAxFVE/oInj24gVWT9kf/zIMTlZP5YmbCH+IFA/M3HbYC+SOD9w3OUtQkgVPx5YVbk3/ec+saSEnBTx9z6vD3e4+WEkP3XT3UryVUM/zvJBH7UuVD8NJMbcTp9YPz3sCQY24lU/jp86HxQzVT916GZOOudUPwxssfOGDUw/xbhd7jR4NT8n5gYe2eQRP9s917nqEOA+1xp9AIlinz40/ZvE4PBUPmy3irbp+TI+HoeIU3fJJz65N/LUJ48RPhqYwRTX0+s9aM0/JwGTtz20gAnoWFh1PcbhTjPppyQ97M0yAg9dxTwDc9OTW51XPJau9ILa5ds7WdlMX6qcUTsWLvDICcS3OlvLvdAjIxE6K8Dtqst3WjkVmgM1TKufOf59hy9WbmM6gfi/Spd7GTsD3C3cktvBO3CxJ6x/v1o8p71KupBo5Tznldme309iPZPqCpdSvdA91YTLBnlaMD4xaQmJ5BKBPlXadjX2DMM+Ox4j+oG39j7LB3u+bfMcP9VWYd5kuTM/2tJ3On3ePD9Gr1xPm/k3P6kCWE9YMDI/HirpMCoCPT+oo9dJ1zNHPyfF84RF5Uk/f6bK73D8Tz8FAASLhhFZP9foq/UAxV4/1hwVDX3tWz8hknseQyRXP4I6Gq9pIVY/S6LUx421WD9Q8TmCI0ZXP4wUo7QOtE4/oWDP8sVmQD8h+5xVVhk9P/GSqziC9UY/wrAzXscPUj9mzO8wlKNYPydGi/Wdll4/SGs4aNo/YT9MigZlH5xeP9Ul2j0fZFI/e7bnKdwSOz/Xh1KRDYMeP0nrMwsb3Ck/kJ0roa72Qz9fY7ZyjUxRP79u7NYXCVA/avOpO2jHPz9Ye4AzERAhPzfp3KHSBQI/rNoxOB5IFD9zvDqxlzkpP2zvGPxCFjI/yC5zgEQPND+fC/pyB9NAP9JTyIqlMFA/BpRg++o0WD9Zlx/bdzJePxn4fwHbI18/BL8mewXMWD/dCEPS0yBTP9az8LawOlQ/Ko3IclTsVD+TAwUa4bNPP9DmqknYgkc/YuDvapL5Sj/qI/W0ZLhPPx5VNef2/Ec/eCPTi+e4ND9G5Vz2dK8fP40wncCI8S4//ScaV4fCQz9M19/iK6dOP8EWTh2e0Es/vl0PkHUWPT/ECSzcSgQiP46YYxKRoBA/dkHfaEbkJz+tsjUz6B5AP8F/cCtD30k/hUAZxraiSD/T+WuAkw1AP5qQN3iOkDo/0g31KJH5Rj8XFE0dkSxRPxOu/uRcb00/pRXxKWJ/Oz84XOAA6SwcP5d46gewMfA+oGC9UtAq1D7T01kKhAf2Pu65Uv3Wgw8/NiBmB5DUHz+ZDNzkUS8mP17MmM3keyM/p4CK5JYnFD8AeAD0HVwAP7f6LXVBKRA/BRjZ+rlQKT8Nrs0HHt82P33QdGh2zzg/LAD1YNxENj/FX5Uncw82P1MjNDL3EzM/hE2nNA8TMD+HsJs4flk4Pzx6/QgB3UY/JwOShGU4Tj+bNUW/DWZLPzMRI3oJWEw/nSkpddUpUz9pF644wwNVP8ayU9GnTVQ/dXckTzbMVD/QbDFSjBZRPxDq0hHlskQ/rTA6lwVFQz+F+1iLPyBOP8icyK6Xp1M/k5HoOV3gUj/azpjgPmhIP6UoPx3S4TI/Jk3UdIlPED8NeJ6ALALhPuRAm1ed4uY+9mKDxbmjEj9vfK0U1osxP4yG/NnBmkM/U+TBHKT8TT9TAd6pqUxSPxMO9VNy0FI/hLZU8B3eUD+tYrWx5wlKP1DPBAD3xD4/NhhGD19xKT9CsSDV8dMMP25SyBulwO8+RB0Y9Knz/z69P8RFSwAhP0duKXoYNjY/Q+5r03dgQD+Gb5zISQ89PzkVby8kWTI/LFYoGihhJj/j/TOt1bctP0kp2sCrEUI/QgU7ftloTz+C3Pj+eLpPP7Q0kd75HkI/j04pQHqqKz8FaRzy5v4mP933P9rm9zM/7REkvXa1Oj9DhXkWNM89Pwhal6Z69z8/9edxJgp2Oz9SgleH/OQtPypB84n0gRM/jBeeXq3kDD87hpdeaMUvP7R1gCD3ckg/PwOnM3Q5Vj/+CzoTRExaPyTl3q4q9FU/DT4bZkY7ST/rxCT53yE2Pz3SeiyrfzU/vmIHZTnuRD8F2PW7HVRRP9C8pv9vxVc/li8q3LzSWD+FzA9RYdRQP/FWo/m5uzo/9x3fx13EFz9CeMzP9NLqPuh6PwSB0fU+dzUWmU7ZIj/xfnQeTJJCPwJxnf21bVQ/XQQtihfeWj/Zu7j6lH9ZP8//HTZQbFc/Rit+pyfCVD+49LjrNExKP2ex3W9lsjM/IToCWQZVED9wWgDmuqfdPiSsueX+PJ8+0N9aFGmlWT7lzdQncM8fPpzthnxsb/w9oFsCunff4T1BFDVUwOq7PUHb83JaoIc9Xsh2z9xlRT38cfcWScz0PGsUm9baH5s8YW5fxcaLdzzoU8xIK892PDE+n/FLznY8hWNwZEvOdjwmuUBkS852PJmwQGRLznY8xrBAZEvOdjxi5kVkS852PEJG6ppLznY8assy133PdjxOKKbOUWR6PJhf0DRWUdc8zMnjKEekUz3jx0tkLPTBPWZgjYQmiiE+2Hh3m/JPcj4XgMyRuW60PgzpOJdXXeg+X0vOePIMDz+LnydERCclP7McEuPm8y4/hFytb+G8KT/DttEJdCMkP+IwG5uHFzE/CKsaRLzzPD8j3s+4uylDP8bWWvZXtE8/gz1/659RWz/Ztn379V9gP1rpqjjX5Vw/f3s29xsPWD8/X0C1zGNWPwL3hyHAf1g/5Nw4C2jNWD8fOLlELRNSP11U04VHhEI/ZT6weYkQOD+lLeZCfTxEP9t4tzF+4VI/LI1hUdjjWj9cHXNQChpgP3j6dSIHmWE/Lxu8/FjdXj8zKCYJH1dSP0Y12EpLjDo/iRs1W0+YHD8XILdYaYImP61iczteTUE/GLPP89f7TT9wjg3pMstLP3GQ6BNiijs/crVy/kKKHT/mrc/LTxP9Pv1QW+IeQAw/b8NyyZXBID+JnfzB1eAoPxRs1eVFCzI/NRJ+1IxgQz8ETK/DNZJSP4TM7I/xElo/uoxxw8emXz++wrX4ogthP2DGA7rGS10/MkIiZAO2Vj9Z6vHXLZdVP3wcLya2wlQ/1FYCOVrUTT+eEYrhaxNFP5nSt0+7/0Y/cUru1gcMST+zg3nsktlBP3ew5yckcS4/VEreTC0IID/T3wmXAUM0P6HQmAa8ZUc/hdAvkgR1Tz/iUXRoCqNIP9/nDcdhvzY/jEYzqEvXGj9Uz0KCq/0QP/iQYVAIWC0/Knv9oJ+NRD8umjutOFpQP97/Q0/dA00/yQ6i+Ex+Pz8pNbmaD8k0PzK12k6MLUI/QU4xgyIRTD9JpzrCvMpIP22F63zacjg/ubFFnUKtGz8fvnAEZrfyPrDl1ox20uo+xT/noVK5DD8q3nolfsQjP+rmfhmz8zI/gJSROQU4OT9lDAKXxng1P/P0d1xUoyU/yz62BBLqCj8lfxAFNTcDP/vlD7VwuBk/PlYQ9JoaJz990d8sR9woPygUqRsrySU/FtxxNR4OJT9wnQjliDMiP55PEtLX4iI/wyE7o3F7Nj8WLEJ00OVJPyBTUNQ2/FE/tR0ylGs4Tz904VpMBOdLP6eU4+x10FE/2uOpLWjQUz/MHcUA15hTP2BQdMR11FQ/rxb/6WiFUT8v4oQNgd9DP6E7LTkSKTw/8Rurnma5Qz+ymbfdpSFKP5LVAIs5wkk/X7ZQu3noQD+wZHk3FFMqPy+s+qzxzQY/FAhrQKGd2j5x95DowdvwPizzPKiN0hs/+AprqrNxOT9Vevwh5DZKP3cCpguh5VA/jupKDzc9UT+wqToe911SP7eTWJmQh1Q/fDRPviwAUz+bmHzQxYtIP2hA8nF3qDQ/rkrNI6xxFj9lNK/IfDr7PsOd8DZd3As/4nXVUyhaKj+a56O/n2JAPy39Gp++wkY/kXgO2iymQT8bvIc12bkwP4Fgnj+0zh4/AXBMOjdtKz/C8YTmit1DPyLcl/nHBFI/5ZO7eb1SUj+c4M2ITNJEPxSYdpGpPDE/Nrygs559Mj/RKR+1e+w+P6iNqYCWjUA/7YpTUbe2OD+gQGiI850yPxLNBiffmyw/PQTwPhbBHj9AsVXUw8gEP36Ud96qFgY/DOc4waegKj9NptGKbQdFPznjJjpOOlQ/K9tuDnZYWj9OD4odaFtYPzTt/7B4J04/QO5F+2LLPD9w8Ibk/Vw+Pwbbk5JktEo/X6Pd5hdLUj/pBNDV9c1VP2Hjsn27XVY/EZqEdsEvTz+KZDeb0Wc5P79x41XGOBc/M3utCTDT7D5MRhkalHj0PoRJNgblfCE/1MKjOefxQT+WI5j73dtUP1Lz+3pNcV0/5k3URyM5XT8AxV1fJ8hYP2HGsgyW51I/AJvkq23KRT/bCcAw/HovP8FIj3J3Iwo/gVV6jX6S2T6ciegPLRyjPrkDg/7jMXA+OVpNHUOvOD4y2+vz6yT5PRX/lYs4fLo9wOOaIwlriT1V/5Hkh1dUPcxrDn0oWhI9Rf5JsS5iwjw2QRq/9Md9PGuvqeP6rnQ8kLPYYMeadDyETRV0r5p0PKYN9WSvmnQ8FvLvZK+adDxI8e9kr5p0PEjx72SvmnQ82FPyZK+adDxdEPZ9r5p0POsS/a47m3Q8MxTZn/I+djzSyVNPt6rFPGO4g4sb/EE9ig4ajipwsD3QmRhgFw8QPnlsvLswxGA+Wc2ZTSW1oj6pREGix07WPpTBienabfw+wQ13UfxdEz/ieoQ0p1ccPwedl2aVrRc/AI1JMvRsEz94tUpsLbkhP6cjpEiAbDA/qESLsGCPPD/0ldMM9mpPP5XLRMFfuFw/XcqnlroLYT/WfqUhZlNeP00O0EiyvFk/NraKIhx1Vj/dLywjoA9XP/6lPTuI51g/1tlaIB/5Uz8Puqkx9LtEP8sZtvMMojU/6AVzhjnUQT84LjeFlRpSP1nTMBVF4Fk/4UfG6rjbXT+bhAu72hxgP7/x7AxUs1w/CgEibhFIUT+MVyAIeA45P3UiZfEJgxk/sn54M0zkID/WJLemlZs5P24dDKKpLkY/BsVmdOSPRD9FKJzESmE0P88Lr2ydIRY/WGHECNIR/T78JACrblARP0O0O7nkXyM/PFuYtcBcLD8Mej6ZU8k1P4E8k6QYL0c/tVh8h0IVVT85/u3gtQ5cP7az2exAkmA/BKpIvSxbYj+Nd3spkoRgP8HqTZqpBFk/HeLqw/BEVT+1RTw0t5NTP3vdxRDzUE0/y0IXyAN+Rj8v7Z7OZgtHP6H/as03DkU/2qWPlifROT8LnjJGQt0kP677Zk6TuiA/3TuOWqzDOT/cPUc8BCxMP6phKDliMFE/uMkQlUCtRz/CtATwvRszP/zVaPB6PBc/tkzaBGZoFj+OaQNpwgAyP1IwSAM29kc/l0XJOKOnUj//CTEZcQRQPy0q41vvqj8/susBxoMqMD+bBZftc9M5PztKw7zd1UQ/hm4XEqr+Qz8eSfRWYa82P/pksqE3cx8/2eWAfdjb+j6pj2zCPoL+Pp8SMCLODyA/ZXhywltdNT8LGnJMzn5DP/Un+CNaukg/aafdQEBZRD/9HkogkQw0PzSKqF2p7xY/o9VC7hci+z4WiXcCzacGPw8SZvOF8BM/4MocaiVLFT8vrVqy+UESP9B2vw+CRxE/Jec78hpADz8EIJSnJpwYPx4tUp72HzU/4Vm2x8V6Sj8zhbJXJa5SP5Lh9Knc7k8/rO7JjAR1Sz/SZyRuQM1RPwPl2t/qPVQ/pZv8Go03Uz+vaSg0kkFTP0zFlb4wsk8/Ucz4abwJQT87zKOg3NAyP2j+9o5rizY/cVfS5cz/PT84HuwB6S8+P/ymlmZGDDQ/oNZrerFbHz9Ck6iDaT/7PtA9hNa/j9M+a4KdJ/KI9T4NyPMvK+IhP8V3IHWOJEA/g4osiEz2Tz96fcnHvZVSPwg26ujcYVA/M8Wk0LkVUj84LzejJyFYP8eLbSVzRFk/DM4/2i6WUT8cJU1KgQ8/P3noxxQdziE/2K585ghZCz9BPFgh+H4YPy/2bE8wATM/ORDTVXxxRj8WxFVnbnZOP/UIR7s0lUY/lUJZtxbeMj9ewI1SzqgdP/IiAa2KUTA/0ZclEz+FSD/sCPp0ucpVP+fWDxRLnFU/6zXHmEUaSD98QlXVIWs1PxqWwRXSezs/aHRKicoORz9b7Z6JuM9GP1Yg2VKbpTo/ag7MwAvHKD/cGq45uYUbPyoV5z0mpgs/AXwntQS18z60pjoSXuH9Pq8MiA6KMSM/ckdMpyBuPz/14q72kVJQP8RYHZku11c/NfWnSjqIWD/+36NEv2ZQP+nqi9B1HUE/W53Ej8uBQz/KInLo3FVQP/4mAq1xelM/gSyHyN5yUz9l6SQFDW9SP791+PXWoEk/VuqUHX46NT8/aiC6uscUP+CkPdz0I/I+j0s9LbTI9T5H64urp1YgP77N3j2FNEE/F+VuM33lVD9l9vToZiJfPyEngXpz0l8/UrKcZtsbWT+OqERIXE9QP253n9FWj0A/Hum3surpJj9foS1WDzkEPyhc45yghts+CpZeGg/otD4yp/Sgvu2MPjJkyUKi4lg+6rB82B6VFz5dUKY5QpPIPblgC0AQVnE9d6lrgdiPIj1XPSfnGmXbPKhtdQ78AYo8uGDCv9XdKjxI8JywFrW9O5+Fx9wwjkE7FeN7VcAstjrn1zivRe8dOsQzsAzyl3U51l8I2gZLwzimPOtVZk5oOdvEbETF0y06f/paXPiO4zoyjn1/h2mLO9sNijuUhyQ8T1tS725usDxT1c9kDhwsPXKVG0Ugspk9lUThTmMa+T3QLYecejVKPhfZmYhPPo0+d1e0vn5vwT4HhI7FTDjmPnI+BZhSRv4+/NXEFJEpBj98NnQus6sCP0cb+pDbbQA/vppWSJClED/mFsX8I04iP0eq3aFEnjY/YsJCwPpfTj8u1HI2fHVcP85axaYE7WA/qAqxhbMjXz8vsV78chtbP6EOv6kmBFY/A78Cy2bBVD+uYRmeaotXP1DZ0iDldlQ/tE5OLFn9RT/wj0qsCyU0P7x7JS0p9D0//2o1pA4wTz8DJeZaJP1VP+3HMc5JaFg/hNzRSZUvWj9Rkhziq/5XP+UvhVygsE0/E1LIuZzjNT9MvwQ3W1UVP/DwLdPE9hU/JfwM3NsuMD+UWA4ZuQQ8PxMpdaje+Dk/1DtjNbnEKT9rgOMPJWINP/80Rq41cAM/33GSDu/UHj/3UkSzc+kwPwDkas81yTc/CGT4RTXBPz9TFhRUctNLP857JQvg2FY/7h3TRgHjXD9xkX8ElbBgP2aMaJjMy2I/t0YIuJJMYT+1pARFanFZP4Dcv1C5+1M/wXDh8eqjUj/5xuasQIdPP83ABWxF50s/gaGNrBqISz9GC4ZBEPlEPy0VxadNsDQ/d4SXotV2HT8cgO/560ghP3k1qanjvD0/TM3h6GzBTz+FN9OZznhSP044QYBfokc/kWYWY4W5MT8QeJUAKV4bP0qIZMzRLCI/usN4MlY/Nj9fIo3TlbhJP7ao/QY1HVM/pt5rNYUEUD+IexYl52E+P7jzCPm7Rik/PutG3cedMT8Vaacj44M/P+0gu4KXG0I/Aeb+AhnDOT+WnEllxkYmP8mnaIakhQY/eO+t2EerDT+c2MnZTsouP3yisFeY30M/KGsE7DZRUT+IMwfKEu1UP72tiBB5mFA/25Pk4sXtPz8DhvEwxbEhP7XWOU7ScPo+2D5r2pkT8j7X9pk/MG/9Ps83kXZ1Kv8+b7ACniov+j5PTcwFP2z4Ple8aBLjWfk+Rk8Of5RKET+whA6/fTwyP7Egn7AxlUc/3vpo6+HEUD8Ju0DpaRlNP407l1ou7Eo/FmN/gwz7Uj/xmokJX+ZVPzrYPy6E31I/tzmMddlGUD+HHtJn2Q5JPw3X+xY62Dk/w/JMpRvzJz/hZTt1kxUoP/cruaMmHi8/zVk7fzwOLz9xxMBLWoUkP5pKxXRZAhA/WP+Ovvvh6z4LNd1dLynMPoLmqvCYr/c+uQnzjBS0Iz8uFIxpV61BP7TuQhDyLlE/KTNFz+D5Uj87BlWWlKxOP7RO5/KcgFE/9Na8DTpCWj+yiVYA9dtdP9jL6zpVFlY/pPmzdtp3RD+Mqd/APbQpPxx+mTkFKhs/GlKUMJR4JT+idcFqaAk5P3uV0XrABEs/2EaVl9H6UT+LBOPMjkpKP3rc2y2GRzU/HiGDhvd0IT/5r6NZsZw1PwN5sdk7wU4/dMLBib20WT8Pp+mPoEBYP+ahd5dGJko/XLZGwU6FOD+VGHsNUeFBPyH9v4aKVk4/zw7r30phTT/mVV5QkWY/P0RketCiIiU/huhRrtikDD/Sqp+IGLr4PhJmwpO+EOQ+7BIabHVM8j5EfGbXwe4XPwiTBhneqTQ/0UjMoi3oRz+hdbiWLxRUP97MUArvPFc/wCIONunrUD/7q/eN7QtDPwK17i0RP0Y/Hp8/WqQRUj+58GkBLdhTP/PZXvW38FA/bujUAFiLTD/z7pxXAEZDP3zwpbC4ZDA/DZs7C8gBFD8qfH6qB34AP+cnK1CS8P0+pdn/1XFmHj94J9KmKJo/P2ZvGhdssVM/tGxS0T11Xj+O5DAlgNVfP0bu3bsNB1g/0MboAR6YSz/KYkSTQCE5P1xEGkmwuSE/hRFxtjKsBD9WGYhq+DDqPrtpEeqVws8+DKGu4MEUqT7DMy2AMhd2PhnTFT/+9zQ+ToOArFFR5T1Pf9Nuxk+HPQzP8PxCLR09u9UE5be1sDxS2p6Lo5pRPJtYtJU56fA7JRJ23HCUgjtcmfUs7PIFO0h9OCiluXs60YVPUwa34jlS7ujSiAA7OYQnleaGeJE4mHjSQKk3UDky1KG3rOYTOsPC41JqGco6AuTi4yxKcjt2qVABKmULPGCdGQMp7ZU8sVh5WkrBEj3ZahAbACWBPTr+JU7Cv+A99wse+qN8MT7jcYOM84JzPohanVYwRKc+3T94xpymzT4BqqzPazPkPlrUQvKTnO0+znUvV0586T77KuwDcbDqPtzEfDK4RQE/vTF7DcDXGD+mZX7KL7EzP+/74TtoFkw/HVzlUHRAWj8DCS+Nn7tfPyRSC4mHvV4/e55RZLdaWz/TQF4ZG79UPwKCMbtE51E/gx/n0rYWVT+CD5PzrbBTP6IritvCQUY/79HLSQ0YMz8zYxcu2ug3P8IISHJIpkg/K4R6NKIOUT/eo3b5ngdSP0qW+QBj/VI/3mTowBjzUT9AMpF/RyZHPyemrJPAzzE/WFemIONUET9d9UvcF1IJP8L0Y6CQeyE//edX+Fs2Lj9ilB5CugEsP92pf7/b4hs/Tl1EOS2GAj8EoPKMYNYNP23T3bKZPis/y9wrmxDcPT/9OGXshphEP7nni4lBTEg/VJK/NdTvUD91BsMKiAhYP2Gy0eBwelw/4KC1aDkGYD+S2vWO0SBiPx7Qs791w2A/FlUsupYVWD+MlmTI+L1SP0lNDNh1J1M/Ev2kLyCLUj9qIL0Db/JRP7o32H43PVE/o6KkUJ2XRz+NXrEqv5szPwyTdIcUkhc/haZDHkW2ID85nONYuxc+PxTSOFP+0E8/EzRg6g4nUj8+MaRFw5ZGP9CeYWOdYjE/iOph2PXDJD92/5hT4lEwPxo3DQ34iT0/gDcpvPUcSz9RL5HjvmNSP/a02Q2T1k0/V5pWRZgQPD/ty1ioUFElP6lrfO/pWSs/w+Dolm8YPT/brqc6pLREPxbzDPjmqEE/iBJRRThBMT+60Vff1rQSP7yQ/NODqRg/iopCvV1HOT/NgoqAXspPP99WSNRKjVo/s5NpA1mUXj9Yh5H0jFBXP6WK15M710U/hrmBCvG3Jz9/ONxT7ED+PoryUupMB94+kAXJ+EOs4j7Z9iNtA3zjPuJjZvALD+A+tZodwCDy3T4j9P1LD+rkPue+qE2U6gc/lE+saWC4Kz+3jNyPMzBCPwJtIPJjMEo/nZrU/wLoRz+0DtKfBAdKP5zFChjye1Q/jj/wEV7TVz+fDtyPWHNSP/SHzg5/r0k/28FUClB8QT+ObrYvCKUxP4coq3w1syA/OHbtzjctID87JGWAtW0iP3AUhyR14x8/6+AVEywpEz8wtyRYSZz8Pno6JUEGtNg+TtjhgsiLxD63gQsYNoT2PsX7cUinmyI/5aa0WQaeQD/gU8cgIQdQP5rWwh9RXFE/zi5MZu9ZSz/ZgzUCYjZQP9RM0HNo7lk/F+VWJv8bXz/IJgRJMyxYPx8Rwkm0cEc/y+4CxjXWMD+gLJSFs4cpP4LWb+i/mjI/IFfX5SYGPz9xPRx4GXtMP8L8KXGwUFI/oiRMEBeTSj9TxKc8ypg1P1MFZzmnaiU/qWIx49kcPT9glFX44vJSP+p1ndT0E10/45p74hmPWT9l7yiYbClKP0UT+yeMNjk/i8xZOBEQRD+jABwNMy9RP/pBzD1QkFA/MAQKRN1LQT8HjIeKbOAkPzRsOYNWAwY/MPazMR+H9D4t/4PzfnfmPm7tavafR+g+GuYXJstNCj/VfagrhpMoP55UepU1oUA/8ByZaD6PUD+jG6efkslVPwT3GMHAXVE/6mk+FmJhRD/USYr/TGdGP7+OwSOQllE/b9aaNR2xUj/+8naPvI9NPwERj7xV4EY/5FRSpQPwPT/blWoXg5QrP5JvJ8SOuRo/uQ5nGW3YEj+P620iqSoLP/ybQZwyTh0/0WbHt1ObOz9F06wV2C5RP2YuaI05KFs/It8RhOnqXD9GmNowcY9VP5sAPH175kc/pbAFHT5qNj+nl4xISpcjPyuYC+F44xE/IA58ukrcAD+9/KGEGGjnPiFUKuxf/cI+s12/Ac3NkD5FMBE62uxPPmbwGtOtOAA+7Wb6PYmfoT31wbTip340PfADaL1q8Lk8eywKU9QnNTy0BBIXw+G3O5aiK23IYkQ7rSKrit58xzqLsROLM5s9OqMRmbNo+6M5QSyC7tHU/DhdVLxziKdlOGNBv7HzeTI52UWs5b6r9jkqFY0mIrutOji00Bqq1VQ7AzwbpPo07zv+a47ZLPp4POLY9l1XXfU8/NGaZK+HYz2144JiWxTDPcwuWvmE6xM+FpRJtPI5Vj7O5rLc74CKPp+nM3p147A+qkr8MxkFxz5a82Wu3f3QPjWsZZVsltA+CiKaRzUL4T4N4zWVsUcBP781izun+Rs//tPCtM7mMz/MSqowQw1JP2tunwNkh1Y/L+P9OtssXD8eAc5Iz09dP83jOoOmfFo/LSksPlXMUj8rAq7JaSpOP/BpEt6upVI/u7ySwHrfUj9TgsRh0/5GP9QN8hCwgjM/OKzlWTqbMz8bGgAqZ5ZDP8lf8xUcrUo//+HtRGMeSj/zS1Hpta5JPxg0OzvE80g/m7kYX0VsQT/uAm1chdwtP/XF1LOyuA8/8dYh2Vqi/D7j543RMzgQPxf74+1R0Rs/fBYV0s7KGT+qousqwwEKPzLtIWvnffk+NRAtYZMJFj+o/DQ24yM1PwB522MHP0c/P0fJPSgBUD/dakPtTMxRP7pd7wifAFU/aSiSO3eWWT8j4rg5EvhbP1wX61Z1OF4/uWeM2QrlYD+Z4xL6rNheP+JGPXYYzlU/gQUgJbo/Uj/5xEojQF5VP2/6XhtPZFY/67HHierEVT/QwQpNzyJUP798LgADLUo/tO/koqkBND/RQ+Bm/xIVPw4kmPHCVB0/vFysPb9qOj+u0PSNZrlLPx9lpCBIdE8/DAyzc6WwQz+pPCPS3YwxP46T3wdsBTE/EoV4ngPIPD+8vE6KtzpFP1KUsCZhek4/t3vKg7EfUj8rVSa5Y0RMP16EvZuLiTs/WI28nhBTJj957cxfw9ssP6yVbR94JEE/jhYPZa8qSz/w8mucmdpIP/3+WYyCPzk/umk96rbrGz/RQPdDcoUhP1MteLIkxUE/iDljiuvYVT+qKv/+J49hP+YeF4RDTGM/rArtI2s8XD9MQyKFe69JP1zFKUizWSs/NTrHJfqWAD++xoppIFDQPgIocZq2ycQ+ItNg+yDSxD4/u5fy+NnAPkPOE0x4PsA+AetcsOaA0j6jeKvjsYn+PvKVvauZjyI/8zqRw0bdOD+Y3XxQD4RCP+sxsc8MsUI/GxRNGy70SD+jaA5+X4lVP909bWUKN1k/napUMeL+UT8rXgrgy+VDP5C2f2dvlTY/6nfjW1cYKD965EAL6CEhP1RDYHvWoyQ/7LSS/lT6Iz9hDxAQLeIYP18BqtGHMAU/905ZjnI76T4aZ27OZkDEPuwhKURJocA+x5C2ITIx8z7DPlfJM3IePxl52bGy2Do/aBfaklPNST+F+eW2CyFMP3wL304fNEc/FW2gI7cfTT/hqUkg8HNXP0bGG6+Yrlw/WL1ZAOELVz+5cbJxiVlHPywpspTuaDQ/btN731v+NT/z96jnKsQ+P/WJQKdHzEI/qRbFBtDCSj/AmSew5BJQP9orVIiiD0c/x8I3aQk+Mz8WsPXafwoqP26xTbyTN0M/xsZpdru9Vj+3Q0UApq9fP/LCItjXj1k/jk5+vydoSD9kQvqRb0c3P9yjqUDxW0M/hljnRqOrUD9oklTn5BRQP5HL0Ut83EA/n0itn108JT8DV/L42n0OP7hhySwlMAY/7NeT8gdJ/D6ySdIhlcPsPv8d67qGg/s+S4njqbcOHD+NblwlD5Q3PzW8vo2AQEw/bQHUKs36VD8Iy2WTzBVSP2JuX7NwN0U/Pzygr/UMRD+lExuPTv5NPxoY5ccoUlA/SqcbU3GpSz8KSfRh8JpGP1uVjOrDCD4/1dciqNXvLz/UniExQQUoP8FqmWeiLiU/ldZcelOSGz9Przcj744gP2E/MNx2oDg/gycyf8v+TD/+NUXsbstWP8RnHPxTflg/3C7et+CcUj+23Ypjl6VGP3HuCS1bzjo/nEdPQFDuLz8q8tMaQFsjP8LP6yxs8hQ/jyi4+ogm/j5zWU+pWaTYPvLUc8JN1qU+iD+OV/S/ZD7qsHR1VRYVPlQ+hQ4R6LY9u6W1NGuYSj2GB+G++afQPAwqH5mB0Wg8Z9GwXbJTYzzjqrdholFjPOBT7ruhUWM8RpyPu6FRYzzKZY+7oVFjPMplj7uhUWM8ymWPu6FRYzzKZY+7oVFjPM5wj7uhUWM89iMDvKFRYzxI2gdEpFFjPEBsJwg4WWM89ncU/qJ2bzzZ3VepPO3UPOD0jAUt/kI97sWL4bmNoj0ysKvI817zPVZO2X8bnTU+RBd6RvbFaT68mbdj9WyQPjhmitTmdaY+GglKPzuvsT7Uo0y+otLBPv1r/8PBjOo+2dgSEz9WED/y9OCZGVcoP0UlWk+jUzk/DWnSlPQGRz+qdyekiV5SP+3t38IrD1g/sA+nb4dnWz/ZzVEfoghZP6zJoUHaulA/fPmc/aQ5Sj+VlrJgbcJRPwwiRs70wlM/GdD8EBZISj/eiitnVuQ2PzOsytTE3TI/k7XAWCoqQj/d3V5qkpRIP+8eApM2uEU/mRQIxdxZQj+gqJXJiFxCPyJHx58YDz4/6gOSYl9FLz/1NYjTSIATP1nchr6NO/U+g/BAKBiF+j4MpbO6L+gFP2c7f/glXAQ/kt0Y+BiR9T7tqYSe2n71PiFZi/lr5hw/pvxF6IgmPD/rIgf1tRhPPx5rfYpsklU/RlZGAZenVz/khC8rwaxZP1pegXhAE1w/Arn7OwuIXD+AIvINkFxdPwCi5lg47F8/20JEp2JAXD/88LyacLFTP0uWNq84nVI/jt9EjD59WD+pesbbi/9ZPydmhYph2lc/6Uk1MBLSVD+JYAqN6zZKP2eABnMXZDM/Avv2+W9WEz/+fokUOg4YP/XlUfagcDQ/CF7vqfcGRT9xe/BzBexHP2CVfHjamD8/V3oNHEjkMj/R84De3M46P2EvgmwOFEc/SO5LpnSqTj9ctl3+HJVSP6nVYKrmr1M/CkUFY+YoTj9Ifc+4Hg5AP29yc2O+bi4/s/6VgPl3Mz/9boPzU1BGP9p+tfOAkVE/070VvfIRUD9iGo4boFdAP6/azOsUFyI/w81UuWNIJT8nrnAR9WRFP339guiXzFk/mluAjv0IZD/HHNoRlw1lPyvDsq8zhF0/9ElaKSD/ST/ZwRhCWhYrP9an8zWEDwA/7X2TojV7xz5OHo5O+OelPjm7TW2lDaM+yxgWIshMnj6SzRqyr1mgPidNAYDijME+dZXDd3Ul8j7iEF5ztFAXP92W7ftJmjA/8EVQvlwXOz8jexSezso/P9Twd7NghUg/Jq34xg32VT/AuDyhq9JZPwFEcO3bnFE/Qhc2pZVBQD8DrliRDi0vPxaoymutySU/izWMGpvqKj+G4pC2xdAyPx4nbhp5IzE/io0twofKIT89tAcWJXoFP8em/2kzc+A+PreT9mGBtT7OuqvwqP3DPoI2ZlVVPPE+BRIeEl3TFj+7iDvrdfUyP8xXXxcpDkI/jC5VCOSPRD8jpujL5tpDP8pWYnzwIUs/zHm6y21QVD/tWQqh29BXPyHN5ldbOVM/ueIBjMpbRD/tpmqdvVA3P8VrHbPw50A/RPB87ZFCRz8gMDq755tGP1zM9NfuMkc/dhLuZdx7SD81PoVHjytBP09AwABBYy4/s7W6gV0fLz8QqSAaiEpIP25bVQ8TTVo/ZnPyKMOlYD/Wz9c924ZYP2d+7cLHrEU/PIf7Am2vMz//3pqmfiVAP36hdYDFvEs/7hv72VXzSj+1TM/Fl2A9P/P6pbyMQic/NWClO5T2Hj9bWrhtoFodP1T4UrzsJBM/4ugOSx5e/j6APx4gOd7xPg4AUFHv7BA/sMnyFCkHMj8kabUxWDlJPyyBcqcCd1Q/bM8k+EGUUj876J6AnjNFP7E2xtsjLkA/JPyUqLXERj/EuNpbA8dLP+OTss1e/U0/Ek1BCs0lTT8/sKPYymFEP1ICrXhvOjg/FaszuJ5mNj/wrjyhkRc1P2RmfaRBqSo/Kd2ZciRqJz/COa364/E5PxEukzoks0o/p18H4ozUUz9+nZhmAvFUP/2yH13lnFA/2oblptzDSD/qnCFJc35DP2OIerRTnTw/KAkTkJ/ZMz8lKoUC/8QmP4XBogWyphA/Q7fXi2pR6z6uPmElbzq4PtyI4aqrBnc+v6FsNMRmJz4woRaQpWvJPeZa4tALg109ebIHBuNO4jyN0FOdVUdYPOzmkyaQOcE7iWSYtMd8GjuCiq3BCjxpOtntpSqvHb45l7JlF7RoHTmzId8WJoZ0OHCJCJdcvUI4poo8/VKPADmY6/LLHwu4OTh0aqvx72k6ZLC4IwMrETsLDDD5jlOpO2TK76nGMDQ8PF1cpqlAsTysCmYrrIgfPfYYklHszX499uFaNZUU0D1Oec04NPERPjQwBgaXZUU+Yfx1yAdRaz7D88XEU0yDPkXvnolkwpg++w4ifAHQyD7QlcsfH9X6PkhwqIZityA/jDgpNlFaNz/Cw9wS1p5DPzaktGxjX0g/UOove9MWTj8TGCV2NChUP4QN8XydOlk/Ox3dSYFEVz/bY9kFCfJNP4bPXPIGHUk/pXzqI2RjUz+g6M14mFVXPy5zoRL+glA/0qpebwOHPT8bdsG27r41P9+w3C7DckQ/Qjzd34O6Sz9GztmoC7BGP/+bsGxvZUA/TIteBTtZQT+vJZUoxDxBP9X5pWeRSDU/6F51/pq2HT9bTugJmDj5PsNbO89ppOU+WPF5Y6j67T5EwHTm68rsPt/ZOdpkIeM+/gnrKrpc9T7OtKDCKW0gP/V5Cq6vBUA/4n6C/OPJUT9mOwT+of5YP9tPGnjhtls/cEKFdy55XT9p8u2AkdteP8lAD+AWO14/tH+RNOQKXj97xI2YyJZfP8CPj/6RyVo/vu/IMGxcUj8AJk39QnpTP3vG3AivXFs/SEcAmp8vXD8EpTo9+nBXP7KPLx9jyVI/nm/uzyviRj/X+ygGn74wPzeI9iMZyhE/6OtuBl+lFT+/rerr0WsuPzif8vFl6Tw/BcI8v02lQD9AVwnFtLQ5P6TyxkID1zY/nY4i26FRQz9oMJ3Dn0JQPxdNnYffh1Q/0FwDeb3pVj+kRy+sLAZXP1zd4PtiI1I/nK2fv+KVRT+rQZvyXU83P4nIQTdaKTw/6jrnd9aeTD/j72ORm/FUP086VybKalI/od2Qw5hgQj9WVUNcryskP6MMUd2ZHyY/Kk+cHhgXRj+ouNUCJTlaP1JZI5Wzw2M/7BV7wgXoYz9uUXR7J7VaP21zrc5askY/deZD/YMQJz+ii7raVdv6Pp/Q5rBZ4sE+JnBT4emNij51KbmEWSB+Po0ulyiEdXc+J5SrztopgT7FvE1xx4OyPiVgifjR9OY+8laXJk2gED+4F3BV/zYrP2ch6e3F6zk/azZ2nfYkQT/IhLuqOrlJP5rGUTLZ+VU/Ds4V1feuWT/MF7WB+T1RP04CRbBMgj0/wCT+Lf9eLT+jmDlNX58uPzKPA0M+tDc/bJh3vt60QD+pd8wm7M49P8qThx54ry0/zByrVskmED+XQDLyjqjjPpZpimujQbk+qFc0Ihdx1D6lBXHXjur2PhoIeKwfcBM/ZusI3o6CKT/6qNxU2+02P+Mf/cwDGD0/TsCyCE/VQj9v38hXBytMP2wpQJgKIlI/hSnxUxaDUj/KF6U5FmtMP7j+0COAfz8/etmF7oQ3OT/G+M65DsNGP7aa9kxrJk8/hFqrwHpYSj9563MUR2JDP/08OWUcd0A/3x2mrcQONj8rPdQ8nQUmP6+WSb7gGzI/9H67CUrmTD9QgIdYOuxcP9AT8MaAwWA/ozQZ/qSqVj+Vw+6jQtdCP7/YELJEQzA/voUsQazlNz/QsOsnRAZEP8uX0nrR/kM/mDXHwrfmOD+FLVw80JYvP0n+H6uBDTE/ljX8Zl6EMT96jtPnxsImP0xDVqGOMBE/Di0HsDQ79D4Hu3TPDVIHP3glHgToPC0/6hSjLgZ5Rj8p5Ym44CpTP0Io74jd4FE/wm/asbu7Qz/DQCFOPws4P3bJwVpwJkA/ZFU/ackfST/+1fUbC4pSP7ShKEkJ1VQ/WsB/csklTj+ujrtFyd1CP7FadGeM0UI/H2sj2QYXQj/WZcnbPNY2P+PDwFA5VDI/+940/GflQD8y3v+mRMVNPyfulbXN7lM/P8+SCq7yUz8LvYV8h3dQP3KiYwuZDU4/bbf5VUajTD/0eYUEA6VHP+1aqvzQ1kE/YxToys9CNT+QMybJu3AfP7IzGUX42/k+MuE2s9Lyxj4ybo4DGdCFPlrscfVPKzY+jqfCLAUV2D2w+0HNR/VrPU30WiwWWPE8LrqQZ2b/ZjzYRcJAhUvQO/DobXSOryg7tAoPgi4OdDq+izQIXCSyOTMlCSkGYuk4i/8QxwhdLzjqdsjZzV2AOMjKfh2vaTM53q77dm4S2Tkotsj0XHpyOk14To3GvgE7J4Hwwa3vijsAZ7wW/SgQPH2CNWCkRIk8K0/FOuKJ9jwx3OTetuBVPYVlSuu7zaY9w/ywAyFv6T0PIIstYVoePtudLzCGtEM+pqJxlfCaYj6U8tXTFVKXPt06koVL69U+77TDhga1CD8B0XUA2IUuP1Nklb9Jt0Q/8qBS9eu3Tz8vxJry2IdOP9h4u64atUo/oSnyEt69UD9Kdt5rm29WPwyJFd9/4lQ/vTKzJOflSj/l4Ne5K2xKP1grOUAr/1Y/MKkMZtC8XD/1UMzWRs9UP5E8vLitvkI/8XruME5BOj9Uk0Ov2GpIP61jz+mNnFA/oZ4ixottSj9jsOv/fB9CPzoA0P/B3EQ/ATjaJrJbRz9MXaCQ2SI/P3M5oyeNriY/YXJJ7cUoAj86z4pfuhnZPl8HBuhjydQ+dMjky3yN2z7zM5LXJyjiPr/M08j9Lfg+7Grt6pE+ID+9Hr8uYTA/P3gx2TylZFE/Xq8Wc2XUWD/OX9bNbUFcP5Lu18pgsl4/KzAX3nRGYD+1EJITewxgP0sT+POIp18/kTs4nfIyYD+f4cTVBU1aP7G1gRCOsVE/GBfefmBSVD/Hatt9YzVdP8lbC/jqnFw/rnw1d879VD9XOilQSrlNP6VGbbMQQUE/pN9uslNnKT8C7/sl/xgSP/eocs55iBs/U/eNLNa2Kz+orKaOt/E0P4ing+vBbjg/L5jsmHNjOT/2fUpSybg+PxdMd1HeMkk/GkyT9zLtUz9gfJHEjVdYPzR5LcnEV1o/FouMWrOHWj/QxOud1EJWP4xeek/hSE0/WItW1DU4QT8m+K7glb1DP1cJ/0vQelE/7lbh4+/aVj/JfSOO+bJSP8FO293+9EE/hoKakpxaIz8N5PfYvMAjP9JWmT5eq0M/xaPIReUdVz9c19+vOgNhP4aGmMPEeGA/7zx6LUYZVT+t9XL5DTRBP7qtkljz8yA/LCX/CRJV8z4qB4ThYua4PsVu+71tKnY+o7b0Xt9PVT7C3qlB7gtQPj+cvrq+Omk+JAaW0noVqj4KqBidGJjjPlB0xXUBnBA/wc+T/bhgLz9WMbDzosJAP/UnEIULuUY/V8giCpwOTT/rc2J5mbdVP9S6V5vSplg/Grshw++IUD/IhU69NXg9P0z9iQ1ClTM/1c/vSvjJOT88JVOAKXNDP8+HLvkzDko/7P8Fwz7ORj8G+gi3b3o2P3mrXFm7ABg/WDTq4s3t6z4K4Nk2+YvHPtCSLGVj3ug+EWD4yNkABz8cgXRUGRAaP+Cifj11jCU/troOpJfuLj9fwfTAi9g2P5/QDxpoUEQ/KTWmPjT9Tz+V2t+w6oBRP7QSqBO4mkw//qnJfzQrQz8RN5tUEDk2P3MrfjFgjzk/iULMrnCNSj8woExEFCNSP6hY4MRsfkw/vFg1NB8XQD9IMJczTEQ0P78Z4MZO9ig/VZlDZKttHz84LvjUxUw0PwMfwU0oFFA/Ns4dYaYEXj+jovndQxBgPxVlCIQuRFQ/CjnBy2fZQD9V7FN/RJAuP+Nr6hktRTE/10mo3E1LOj8H7MQqTLw8P4+6gphtuTg/bY/rdPFTOj9Dz19EfmxBP9NNidQoC0I/SJpPUO8zNz+r7/Mbb0ghP31hT+12UwA/vQo4MBhNAj/cbLyDuGknP1Hl/6MVvEI/KR69ZRhaUD8/1WWTRN9OP59MVqLvmEA/MkzcUDfqMD+T1ICX+4o3P7emTLqZZEk/fXYzEm2FVz9i5kxip0RcP4RMTrxxrFQ/s/wMDTZ7Sj+OIS/ny1lLPwTx7WWzjEo/iDqd/KrnQD8zTh4S+mA7P0jv2YevrUc/p1EIUbfPUj+gYC7HKNJWP2N3oSERWFU/wHPs8LbEUT8CrDRuRDVSPyU1C8ZLJlM/fNc8/jMeUT/w+x/Ws6ZLP1BkXTrN/kA/2r6tBwFbKT9817bXNOYEP5qEjPhYjtI+rQ4dG8mjkT7qepaVq+1BPhjgniG7eeM9qrwwSDGcdj3i4DlMhQ38PAxOLjo2mXI8tNjhfu1a2juJ4dU53vQzO6uq5tOcJoA6VOeh5LH2uzm5cS4blSbqON/uP4K2YxU4umIFxdiNvTjB9MCVRGZxOWzcoX0g6hU6Ldzgp0eKrTqJIODmoVo1OyVuFEehsbA717TVMjQZHTwLPdoxNR1/PCMNxkJvr9g8trLsRUAEMD2twRqpgRZ9PRvgI72mN789oDR7YaiZ8j1FEKWjZl8cPsIyWQ6akVU+fSf9XCH/oD4KrLcqYW/hPogmK7P2nRM/UFFgG/wJOD+O535p9BVQP/HycYrMvFc/c2o/OWJCVD9T02nMBmNKP21wjU0KVks/4xvsjqqgUj9DBPMnU3tRPzvgOWbbf0c/v+6kDkQ5TD9Zne/RhZRaP2QmerS1uGA/BuByi0UuWD+FSa9Mx59FP9KoE7rfZj0/0ZFnhVwmSz/K4DcA9YJSP+jrF3kNbE0/BFL6LxjNRD+RJJof4iNKP9w/hId/y04/WNcQ7PEGRT9nMVO6nQQvP4BoLmj7nAg/+tCyL/2W2D7FZ/Ur24vPPvfBzXvSkuU+xOkTwSQJ9T7lfvBPPqcBP/fZpcoSHB0/53FoiiUMOj+Qv2uexhJNP773bgXeI1U/SJTKDeb/WD+KG6DSlLRcP+nbk6NXI2A/7aolQtGTYD90BHEXsJJgPzC5mqf9oGA/SANKMo/yWT9nAFNJ9ihRP3WYQRmrtlQ/GkcVYXDYXT9AE6GfIsJbPzQ6zVMJvlE/lWaGFv8SRT8XMB3Xe5I2PzTjd9PdZSE/JH/Zq4UQFz8p7UMIJZknP8sHQ+wEszI/s3FT/QPRND9zTX5vto83P0ev6HuWGkA/XHQXrbJwRT9kBKosgwROP69DpmxbUFU/M65uQgQeWT9q1THvVvNaP57R6oQiE1w/oJL2KhR8WT9n9e6f0DdSP35W9pKa00Y/+PTxCW6hST+lX+Vn+S5UP4Y+ABgUKVc/bxcfzXIUUT8ey1qvosg+P6iCO3p7DiA/EcVJyVqlHj9vKc/b7bw+P//T8DWUG1I/px2pKehTWj9FkdMIiZ1YP4kA2Jou7E0/JC2E3t4cNz8wyXJ/qMwVP2Wpzic1Heg+T8S7ouxSrj7mSI0opG9mPs8CKOpuYi4+t6QT0Db2Jj7MSQBGtd1hPvrMYkADbKo+PDa7Nuxo5j6KLQgxAsAUP9sJgqf48DQ/s3I1tfVjRz8mIhHS8WVPP1+X9TWfGlE/FALXwe4lVT9RuyT6HHdWPxCAtGjtJU4/wN91Rq/RPj8xlZ+p3Fo9P0R0kYl2zkQ/gz8JrXhVTD+GgsxPsI9RP8wITj40+00/Vg2FPP1ZPT9+L7sjqDcfP120xGcRK/I+v9hCI3ue1j7mm2xYmh38PjRhFlvI0hg/fvlwiGNpKD/h0C/fhX4tPz5DQoKnDy4/ZGfvEmSHNj9uA58DhBVHP6LLjn6mIlI/J+9RtF+vUT+lfeZ/LRxHP4TMPearCjk/WAS1D4RsLj9J2i0w0gk4P4sscupBvEo/HpfE4KUzUj8Dh1k7IpdLPwMGL/ecdjo/arArVYumKD/smpN5VUYbP+pzwVoSvxg/u0l+l7/wNT/37qwnGOFQP0TQaupKlF0/BmDNt8SCXT/jiSyqG+FRPwScyWXGyEA/ZrqiCrr3Mj8E6xIr/nUuP7CUzQPyJDI/5tsWtJReOD81g0IEgBlAP7OTc696vkY/qsNDlqZBTz/tkLgooN1PP2zQ/EeXOkQ/vvHmSS/lLT/dFRE/4vkKP6SDqyDvhQA/OZ3IV2ilIT/NHsTs8wI8PwnTlAXPl0g/GrNrhTFRRz+woRqHk7w4P+XRNIMRnyc/d9Rp7nLFMz9jnPj203VLP5Pr8PzD91s/IHV7WMIOYT/qEH9Tut9YPzNOnQjIH1A/ZUGZu4EHUT9evqw/xaRQP92gXoBfd0U/bd2bbHIlQj/i9UcV9B5PP5FjsdSvX1c/SPbq+G1wWj9amRYtr1RXPz4uZpclBlM/2Um+jAVCVD8C2J9UyG1WP4MUiKcmclU/Gn6+BSpqUj8Q3c43rT1HP3Jz+3HddjE/ECtJvEDXDD8Z0KFiJJ7ZPpLYN3vnWpg+YlScwA3BSD64pnz47+PqPX+qEm/tN389eythnt5dAz2spbRi8q15POL4k87WMeI73Z3oJumNOzsvyW8TQUyGOhHe2irESMM59xfkEvbT8Ti9dTDDrzU5OAQcrMHW3fY4v1Gk9qbkqjnLCf2FyulQOqyp2cFpwOY6Nh0eRa9dcDtmpRtB1S7pO7uzO7TFulQ8t5vTW+hHsjzwbbTVNlwBPXZ3YIUOGUI9ca+FYAUddj3Cwgkmo6iiPdM59t5Hn8s9IboPQfhgBD4dQiuGJdZYPqbqR4xUKac+fFo3Thza5z6p+L3HMa8aP7P696XbO0A/tMT2JpqGVT8zlmsgXTtfP+bMqhuAU1k/ODDH7iBRSz9Y+sqeMX5FP8E3kBm490s/4RTlNgNnSj+ROLudZTZDPzJ+8eDGO0w/VugH/2vNWz/k1gAUD1xhP+rbO1fNzFg/Oa3rfPHZRT/GRyjyoOo8Pztpy1B0gko/kdIJaiwaUj+F5dGUJQ5NPyXyqYsi8UU/9T8qvQPjTT+b37V5PARSP9QEA58TyEg/canA/rdWMj/EhugwaBgNP7k7nbj6Vt0+dJzOhXUH4D5mKz6MBwf8PrHhritEHAw/Q9HQeJRKET/7Thmwqt8aP3YDRmEK7zI/aD9abMHLRD9zm3SMX+VOP/e8igIVUFM/DMy/1bBmWD/9UJMlS1NePwsA95SQjmA/u+7owUbdYD8Six3hc5dgP0LEgrNV+Fg/Utq+X9NLUD8XENnMhmtUP2lN5hcweV0/wKiJzBZnWj+DOTlQoMhNP/pqQIttKTw/b4rijYgtKj+NuxfUTKEXP8aZwgmkYyE/xEGqcgXzND/1CPtnFZc+P00ExKqVnDw/7oJ+Pyy9PT++zERwBlBGP3wXRHfI60w/1w3587KnUD8N1RIW50FUPxjyFpH7llY/YYGbx64dWD976D2sVWNaP6UHuQ1LB1o/mKGdhFL0Uz8IMMn1r3BKP/Rtgo9X/k0/q14ex3XEVT/dIGhiNxJWPzCr8q+OsUw/+gws2WOKNz+yQyv8BUEXP3ryKyoxWhU/GRurLkYgNj+Ya4Pnu+ZKP3kwUmBKzVM/3nA+CzgPUj8b5Y1EkJpEP/SlAD+8UC0/diUl/QCcCT8CPltwQL/aPv0jswWGL6A+atPOUgRgVj5oz2xTs60LPqTGYbROaBA+8hEFH7+iYj7MjDpB+miuPmuZf1475Oo+gqYlGXSjGT++vOvfhHs6P/E8hPFiM04/sFy9aS5XVD828bmZwCBUP1h6pqPCXlQ/XJRjmdpAUz+V5OmUsZVJP85SlilfK0A/8UCgvJn4RD+aafcaYfhNP/zTTuBLLFI/u9ccJrt1VD9gP6yaauJQPwezfJmdZEA/Nmv3VBFmIT+LEZNGNYr0Plq+ef96KuQ+OZS4FaLCCz+43RMmGjUoP9vf4SggEzc/Tyq5n1SVOT+noIPP+841Px5/uN2+czs/S1Wui1a8ST/eWuK5fSJTP4TAxT92WlE/iDvlrrV9Qz9ycHyh4I4xP89snOd/eyc/N1F+VxdzNT9lr/yRI2FHP5HSn/OQaU8/9zBAhqd0Rz+XMQjfJzw1P6f3aHFqqCE/0bapVB0cFD82kuRR4F4YP/o++unpQTc/ClZcLK4WUT+ErceRVD5cPz4xjsADjVo/RzzjVt0yUD8S9/pGhIhDP8odmyoOtDw/Ktmqb/PZMj+4zLQ7G4MwPzyuwlhKujs/ER0iVsvURz9JBVlzbAhSP8FNvj7TM1g/zeHjmvMWWD+buqE+vyhOP24I57AoKTY/CQabkj2ZFD91mzoyPMcDP7A2+9qXcRo/QjaZtu+pMj/gQW6Z6hNAPwvHEcoKdD4/VtS+xV9KMD9HN9kD9hgiP00975bRGTQ/zjGzZ1GqTT9QdEV1pPVdPyHFkDWG+GE/QEtS8CTkWT/f2028aeFQPzKRwjAjIVI/1F4omPXRUT/fB0ZPJVRHP+Favp4C1EQ/nzmaK0wOUj91VQMYvUdaP2R87mbnV1w//svIaX/iVz9X2cxw3sJSPzdkLmiv3VM/ZGcQNq23Vj/ETpwZLSxXP1CV9x3IDFU/CPqKoaMsSz/MjM8BpYs0P/X32a9K/RA/7c6QRxox3j7xKbCHubScPmBT27JBLU0+w+4T1eGx7z1mDw4W7GWCPVanLGex0wY9EMcz7oNEfjze2GZkDnLlO+akZtodPUA7UPxJvCJIijoVvPdtrrrGORnFZyTqAfU4N8b2dlAybDhvmdjASkIuOay2cBoExuE5w/mquKtUhjrgv4KkjgEeO8R3NE5yj6U7RAPd916RIDxdztJqLzuLPO9MD1LV7uc8TPLd3+x+Nj3zZDeqZJ52Pf+bxCjjWKg9xyGd8p8ozD3n3pSl5U/iPXnNKch8rQY+sf1rj8TqXD5Oybe85TyrPjvrKHGn7us+e3+SnuERHz/hZDj/RMdCP+UK4Atgtlg/CwONUWG+YT/Fu5hHQRhcPwCP1JOtNEs/1sxRVQjwPz9ZD76SnpVCP2R9CFAll0E/pesKSH2VPD/LUv8ncj5JP9yK8v6PdVk/sHHgMHtiXz/FmD93EA9WP1dOi5eAFEM/CgsW7T2EOD94rFlOmElGPyCZT3ISe04/bHE0GvLVSD/fpkup5ldEP8HI6ISVzE0/5/WS++UzUj/DuzE3ChdJPxxGhDAslDI/07TxPeOGDT85R8VjJ63hPm/x8clUdfI+SJE9fbbbED8b46rYdtYgP8Rc33D0oSI/WWodNWF8Hz+uBLrtFTwpP+qZ6R0Yljk/duIA62p2Qz+HsUisxoFKP0L7sub5cFM/PPHjAciSWz/J0YU1vAdgPweRKZ2WdWA/x6Efsj2aXz/eXcxJqhJXPzXmq1im+U0/ZAuO9et5Uz9dUS3DcXJcP2oAc0BiKVk/jOzUvb8dSj9h8TTuZWozPwO3bNixoxw/wF+XDoO3Ej8fuzFGxGkqP4D679w030A/1vmPlf4XSD9hsu4zQQVFPyRpXabgxEM/Z2A47jUVTT9eJufJiABSPz9n64xlnFE/JoORtEXXUT+ED2/zCiZSP9RjaXTO7FI/kLAPRwvJVT9CRqvZgkxXP0r3lOej9FI/0GdBkEuBSj8ien5gLA5PP+XmbPVJf1U/jpUQ8ovDUz8ux5N6fptGP5uSxcV5cDA/0f1pqD/eDT9UPfUaB/cMPz/WFHo7SDA/jvcebRxmRT8l/FVQ04VQP/I5Gxw89k0/yc0RAW/0Pz99F6LjuD4kP7VIxgiT7P4+oIdqAd2jzD7f4UTfKL6PPhOL4SBNiUQ+s1fPWaZU8j2yvZWuHvcLPnNB8cuHsmM+5Emw2BlZsD4f3II6skDtPuRj3Z1wLxw/+i9I7AWDPT9mfaeOdDVRP2VSKADI2Vc/EN9A2SwEVz/ujBgp879TP3hWshGXgU8/0a+pmeBHRD8HCV48zaRAP/25mAb58Eo/aVZKZiT0Uj+NlbbwlotUP1+KK8McrFQ/M8x+wB5OUD+NKoxWxEw/PyfBZ3lEkiA/qv8IjS4m9D6KEM3dA2XwPoCbl4cqzBc/y1vQa/mHND+SkRCyrWdDP3JHLF6OVUU/+kdGIsSjQT8sHJJE/L5CP0rxDEb+A0w/dFt5PWqAUj9pEFHs9oZPPxHuQVnQikA/RNIrzkRkLj8uW7K1+r8pP3fvbIOEJTQ/HhdcoI9VQj9vd1mI6nVHPxzvP/nXgkE/vByES7kuMT/Yb1hPhzEjP+jU0EQSgxw/SPhhA2FOHz+5vhfD1bU4P6JPL9c7D1E/u60of0HDWj/FazfvXRBYPywh1ZUKNk8/Msi8bEcKST/yLKC6L/RFPzYn4DegUTs/q8zPmAjeMz8shXWQiihCPw4WiTSq1lA/UTza/YoNWT9NOfZEPxpgP3KSD/vOLF8/TrksSvM5Uz/03wbmzzY8P8nVYt36LR0/lEOLCU72ED/Ph9iY93AZP8f96CIz1yc/oZMz+jhvMj9trFHYvC8xPznRy0REmSM/vyf/SR+MIT/wEDthwuE3PzYlx60OWk8/MQDZ9MfhXD/axAORdIdgPxq0sl8VR1c/kVMVcWtUTj+fItgODH5QP+fUQxjcSlA/22XEyOavRT9oa7caFJBEP2L1iwbqLlI/LA9fq7QUWj8G9Em+DFlbPzSS0L34P1Y/UU9KmuWbUD+Rmjc+lfJQP7gPWDVf1FM/4Oz744WSVT+YjknrsqJUP7kzbcH6KEs/jX9Nic2jND9PKMttkxYRP9LfSlc4YN4+Hgq3XwDinD4jn6w8Y1tNPiNESbUF5O89YpQ49weDgj3TwUldz/cGPcuews1ndH48mpRc5PyT5TvaWj9Xz1ZAOwJqCBS4cYo6bbJ2G6TexjkD5YEpIiP1OICPrhPNSp84FJVA0e8eYTl+gsaW7hYUOmERPPk8Nrk6suEGknLrUDun1SFTs0nYO2LfNLHCpFI8MfFykTicvjxgqllUyN8aPS8fZX96O2k9gKoq+OFVqT1gcUhxcjTbPVjdodf3Pf89mOS1o8lDEz6DjFvLSMIgPhK+y5viKV4+pOwOU+hwqz4VZUeNjwDsPpYiG9RX+x4/qRC+VMucQj8zuwlbalRYP78mjh+6VGE/iBbVcLEQWz8ndHMsOqJIPxB17ToeLDY/RWQ11DmlNT9Y1SkqAHE0P+tsbwCZDDM/uI8AIaO/Qz/2auRasihUP5Zt9Ba0fVg/CdTMm5fqUD8YmgW13Kw8P5niwzVa0jE/KPjXFfIJQD/6CfcywPlFP+bBGU+cSEI/9RQ5AuJyQD/dmw6xIbVJP0N5JNHcn08/eA35Tg/GRT9pDYdTPhswPxzYJQdAsgk/SEpTU8GC5T5sms7BGtoCP3szvflSbiE/V4D6WH1gMT++5yK8z64yP7g08R9N6Sc/Orduym3cIT/1M7wAiJkrP+sQ836zZTU/YHY8zj2zQD9FG/87PRNOP/b3rbaOelg/Swk9oRjUXT/0XMwdbVxeP3EbjDyRZlw/Y136B+F2VD+WPy8N7ANLPzqfXmguLFI/tgH1RIUdWz/35rUs50RYP0G2VNNicUg/q4fhjOZ/Lj/FBxNdXvcQP+oBpYm3nxI/y8gdWedyMj+RspgbpvFHPwjmExv+8VA/ypUDHpSDTD9P5MlvYTlIP6WuGmFQyVA/bVcginsyVD+X+RQ/QhdSP5oClxDIfE8/LPX255H0Sz+DhygBL8dKPyFep8UfnU8/La2c07QmUj8GQeqNWg9PP8BBZBFt7UY/8LX+SqksTD8DS9WW8xpTP/URp8npclA/tFXV8uflQD/WdODMwJAlP5PCMYEFeAE/X0wuD0mqBT/x4l8fVYsrP7TLokw4AEQ/MlijuyhjUD9cW5mim/9NP9uhuaDKlD4/r9Vfpd58IT+kLJsSyeD2PiRazuQnncE+ONpXXYFdgD7EIZhRonUyPpVYU9oMVOg9hxzxI9hoEz5cEvYtVwxjPtqKrnhSw64+DVj9YrSa6z5/pqB8A84aP/9SPRPdhTw/UREr680yUT8UNLmscjBZP6L24MV0IVk/OwYLH5GLUz88TOPpyLlJP8eb1rhfUj8/NcYrRCfCQD8CkQTxKcpOP+349KlQDlU/5T+1GpePVD9aR9QztTdSP5zO69GuDUs/NJ6V1EqMOT/g2EeW1/kaP/1OZVo3dPE+MdKmxJN5+D7o+eEzZu0hP4mixJ7gTz4/5Ex2tGNfTD8HZYGKr3BPPzmwYCq+v0o/ATM0qnNYSj/obfCZBw9PP15t3vhVEFE/l+rxoIy7Sj8SSAmP5jI8P41nHO+hqjE/8m17ptsbND+RXlvLxIQ3P1ah5RnJjDw/ctiNAjZOPz/KPz22CMs3P2JahWsS4S8/btC0nlObLj+k24Rwss0rP/+psV9GJCg/Qw9WFEySOj/24kT/qdZQP0XJUERyTFk/vL37pt0oVj/A99EYIJRPP1J7dJZ5y08/xf48scW4Tj9ORYQmtCZDP+ZpHS6LeDk/Qz+dqNW+Rj+npk1O1wxVP725A5mDEV4/CNXm/sdjYj/fxShFbkRhP7O1k+bE+FQ/unXt0OMGPz+icDwubfgjPyMAlznzMCE/7ibKgoVAIz9tQrhOHt0iP88BqWZT9yM/ll5vNlQpIT9Vh0mKSCsYP368/h2exCU/eV53qd/0Pj+RWIEAt5ZQP7EBuyPCwFk/pb/UPqjhWj8o4hXEmSVSP2IIRudyY0c/Hgv08UejST+YiurxdHBJP+Jt5JLbP0E/mZIw7hl3QT8P0S4aftlPPxwT+0DuDFc/psUL9yQ9WD8rXUl2tmFTP4RbL+QY90o/ZEtxszhKST/m4wWia9hNP84DRAZeS1E/eIiDaX1WUT9twrPr/jJHPwyDjM2AtDE/F85a+qtYDT9dJhQpyxbaPlw7lgbbzpg+evQiHTI3ST7lE1bzWGTrPVtOdVIGzX89B4n1u126Az1OVMcrmCh6PAJkDBS9iOI75I2i94IRPDsLLyMgvbaGOu7PzVm/pMM5ai5E5ecn8jhh6NKgxj/OOFs7J2WbkZA54SuozTZrQzq5tEHNdFfoOupOQlEgUYA7SvEB92FlBzyKKUyxYfCBPOlU4vHRa+08adXIgHLNST0t9/s7ZDOYPWDLXS5QRtg9RM0LnQ0KCj5L8JSGAd8tPtK6We+yVEI+Ad72RPnvSD6Zf7bod8tgPkEw6yAMx6c+SSe8uAAW6D6nNze4DIgaP/7uD8UAuD8/R0ERg5edVD+kCp/4xS9dP60rtWw2lVY/+R9yuSfPQz9aFERzQrMsP1wGHgGmJCY/+HfaCk2tJD/MNC8RopgmP30QizkM0Do/PYHhozCGSz94MSXURHxQP66ttimOZEY/rVOXHESWMj+WQ53ORDcmP0JP8cFyuzM/8gdsNzYkOz9BgDxkyWQ3P7UWD3V1uTc/2su7MGCMQz97mRgvnedHPxPclwgPUUA/OmrLzlcBKD/RhiygNUsDP1jD8ZO58uo+4UEkI/uSED85nnBSq8ouPxgRwvcKrj4/+RmplExfQD9ZWNvoNzgzP/kyKp5GdCA/3Vz31qAlHD+wUmqO5GclP7ZoRRIUWzQ/0V/1GS7yRj/QpCBXEtpUP+XVctatClo/bTAzjz8HWj8Hwe9moBFYP5AKhtZ41lE/YXosaqHNSD8BxEz4md5QP1pLg/V6llk/UX6Q/855Vz8f6W5OBdRHP/8J9wZlsys/X/BQBGW0CT9Wfi3BtPUUP5Ih6nNTQDc/Kf5HobYqTj/UkKGDuC5VP1Q4IbcPUFE/gxCbsvhuSj+eJi+EzehQP5GI9ik2R1Q/iK8NGh1OUj9VvD8jAIFOPxRVxU6+iUc/s94GhJluQj+WxaA3i2lEP7nIUkhcjUg/9UCL93XnRT/2E3VRAStBP2DATUbvgUY/OrAAT1iUTj/EsAkGI3RJP/PxUUzzVDg/5GxCr1CvGz80G3jxE5vzPvkw1N8C3wI/sr7DedaSKj+a1K1v36xEP6BqfbIUl1E/rhKL2DlCUD+V4aXIs0lAP3jH3kx6uSE/KSmxkRAh9T5s5TIs+BO8Ps0GjLKWZXU+4++IpATMIz7G83rTGGAEPuFDM14owy8+cBt1u6HsYz5ETrBt3EepPk74mAyFZOY+FFtFIWvzFT/pxVsyxuw3PzQnLBZ8U04/m2LoQG8RWD8cOi/Mm8hZP/EHe27TclM/GfEehLIDRj8IUtMyA9s5P1DVFE3y/kA/Yo5sxB30Tz8ItuNH491UP7tqKXYAcVI/SvoW9/RPTD/EyqxHZ1xDP9lFimaP2zE/dGzZFzHTEj/tBxBz4SHsPn3BC3zxOgE/qEQdC0heKD/wCwbKPcxDP2qv5RllIlI/MWTxj504VD82fzN2+RVSP2R7J9rO3VE/q1ImRNgbUj95W03ko2JQP7acaInb6UY/8QdVugD3OT9cR/MWi0I5Pzp4rMhrcEE/+NjuLm5PQT/f/T3aN9E6PxTFNLqMvDQ/koJLef5yMD+TErfLjN8yP3y9QCjaxzo/1dJx0RNxOj/vFK7P/NQzP15NP2gO6Dw/YRYtfnIWUD9KVFmJMUlXP9FK/2G0MFQ/qq4lua66Tz/euOFUgalSP72S4TllMFM/moI4vySGSD8/UtNners+P5tfbHRuRUk/n3HcmV/AVj+5jEg7ZA1fP8tey9rRBWI/MsGEs2ZgYD++0OJfGJZTP5lzwl062T0/vt/6lFaBKz/nLAQCxecwPxcxxcvSzDE/CsRsSA2IJz/Ju1V01G0aP+4+JQIiAxE/G8qc3NaYEj+me9SxvVstP7JF7ho/PEQ/3da4MenxUT/GGkOZ1UdWP0C2+Dvg4VM/M4aSCk/MSD/q0r5eGAY/P534gsccB0E/8qPFlh/2QD/C+kXYW4A3Pzdr7Ui/rDk/UeWPaRewSD/lpWmBNttSP8KxJ4L2AVU/CnyX4ZcNUT8+srMKjphFPwGj5edH/0A/3uMXJr5wQz/qFfPufd9HP35zVDLt9Eg/idIhYpbuQD+BcDtLm+8pP+ZSVzIygwU/9d/v2dsg0z4SL23injCSPoXsLxksfUI+5SBiobQV5D0ZaQlDS1F3PWK9jMM47vw8fKJLHC8uczza7CRkBi7bO2dHB4islDQ7ZobC35KngDpq//ZKg868OeuJO1thoeo4mh8qYzEP+TgzJK+iD227OTRxMjRxDXA6BSOZKRgZFDs6z8FAtemqO6CpSHivRTM8yqcaUzOFrTznORCuMi4YPUNeCevXLnU9h3VOdLHYwz1pDfOzzeIDPoOz/AY0TzU+Nq1RLZdrWD6zDau3+u1tPognlScgsnM+w4jDJotvcj6nQDevM0uiPixMNVjJ8OE+Rfyp9uu5Ez+47QgdsIo3P649wLy2iU4/ANYtHwuQVT9nj/J+551QP1+rTzI3ljw/3kJF7le5IT/K2+oY87wUP5kopxL4rxI/9pucuEv9Fz+sRMqzP64vP7dilYDyVkA/MPI2huxmQz/QqLCGMBE6P0kRuNJhQiU/9+M/Lkn9Fz8+QQOiNskkPxgjwtuY+Cw/RHYk27hVKz+lf+B9sNwwPxGuUNr1bzw/hVTFHWSZQD962D3qjNk1P5SKjV9qaR8/7LB1grGJ+T4w1ulJm+bwPpwh/p6s9Rg/sXuVBlc4Nz/rRN8yoiFHPxxPsbimpEg/qEzrQz9JPD/0UZJoaU8jPyoTUAROOBE/V6d/FAYwFz8FmDcniQMqP8L+f6T/DkE/tD8h7PZ9UD/uUduaXcNUP3Mb2phjkVQ/vVUdZ/m0Uz8RwC4paixQP5uFxqbndUg/ZveBka57Tz+M8cTq9pNXPxd5oRxEH1Y/22ADhmj8Rj+LL9X8dg0rP10TgnVi7Qk/NSEiBfw8GD9pJ8exc+g6P4Fh5SHdSVE/0OedR/4FWD+VGUgeyhRTP2km6U/F9Ek/EPgK5RDsTT+yGcSLxF1SP+P+S742X1I/LYnVzX+TUD8n79r/i9VHP8rrUlMkPzw/JZbBZkFcOD8naPFYLOE8P09t3CDWozo/VjPCfJ61Nj8M4yVmIodAP/G4dLUgMkc/qQB7QChgQz9enkUruRcyP4UgcVBROxM/ZwYjxrEg6D75/QR23nUBP4CQMGpl4yk/QMUfoVbGRD//gfZUJfZRPwW9mmjFr1A/iblCjLajQD/A/8bkP9EhP4FLn0BqifQ+RYP8Tq6guT642W31sIRxPqEk+VFgCCA+iqb7/B2oLD7C62ynWtRUPu2yqt7wv3Q+dym1voFNpD5Pu4WZBXLfPpodqHRjCQ8/zW36b2aHMT9ehqpxV9JHP3PG/gsz5FQ/XVd7yPxmWD/bOFezN6tSP36s3yAf+UM/8efPK9OGOT9hxY9F+JdCPwTikl6z+U8/6BGFFWRIUz+IOwFLG69OPzxgDiW16kM/u8IAFqUtOD+PAGarbYolP6+3S8jzBgc/+mLFD38o6D40Y70yM8kHPxOBxe8tHS8/58FX9gyaRz9C/qPKO61UP6z3YRPG4lY/mTs6ZYCTVT/XZ/KNXl9WP+0ZZhJXw1U/0Dmx+0eqUT84giOZvYdGP5/OvGlzKjw/hdRmQr7XQj8gsO13LIdMP7k3+pKtQUs/eNYusYWnQD9rMr0XNuswP/VUGXPSqis/s0EAT1vGOT99zJLyc7JFP1UY+3YxZEY/ZKuDvZfzPz+2qJJVfwtAP9HTX8p/BU0/6oR+cTUXVD/5+ip7nWhRP2KlIljp/E0/ZcHvA67SUz+pObbf6KNVPx1dmj0T9kw/P4LvYvktQT9y0YTYZ4VIP31XPmIlI1U/Snv3LMuPWz/71d4h31FeP3m0JZ02mlo/sYaupWdhTz+Miptrh8U5P+09cxifFzM/IbApKfiuPT9rWtBGEjY/PxFhbufigjI/MC1gRpV/HD/6WATRscYHP4WrkdZq1BI/xyf8q8WxMj+P0YPCB95IP6t/UUojbVM/H/ALSyGEUz8HZ7mLYRBMP/84wVTFbD4/aQt93HDMMT+x91elyFYzP9cSOXH0VDM/wIeKuF6MKz9VZpLKw58wP7vo0Ic0pEE/ohDb5BuNTj+yNqtqgz1TP7IjuV44Z1A/aB2mpXHbQj9eX7X9jBo2P1Z76cJAKjY/yzaNiZJfPD/slQYoecI+P0n/my3BHTU/3KslO2U4ID+JaC2QGe36PknA9/0d8sc+Wc4/qJDFhj430+VabSU3Prr1muTbJNk9QUvKYOQwbT2icPAq3xvyPHBRi9z5Amg8LugW6E4D0TtVYX9LvcMpO7CnetR32XQ62ITE3fsHsjmkUcGP+rLgOJ3rTLFPwiE5lQ4Ps7pp4zluLfPXgrKWOjEB5XkVYjw7Gibf6CD70jtBvodk9yZbPCRmCM9fxdQ8JJH3P4P+QD1wU/6Nx72dPSb1oFFx1es9LGwlQM/bKz7sQiBbG9JdPnwaFWKyEYE+JIewY8XllD4sbA5I0l+bPoUCTYDP7JM+0D06bleBnj7vMwJL5/nXPhdW/tZgfwo//4gQn8HoLz82WbiDcuREP4oEcAGnyE0/WUEUaIwoRz+yoF+JqgY0P+5Sm8gSvxc/gQqLcNQRBz/t7jh4oZgCP8tbPBg7Ygg/tP+j9fHyID9g9PlImtkxP4dv1B1wmTU/zew4fXqbLT9NsKNPR0AYP4t8TmVG6wc/x7JfpW76Ej/XzRnB2PcbPwAAGu2mfiE/YNz8phALLj+7mAcsAWU4P3YHvdR4+Dg/bdcJ/KtqLT8q6NqalYoTP/jl4xw0+O8+K1ci57Y09D7zwpLaoBYgP19YQbEx5z0/VMVtmcXHTT/XvfbrhrZPP4oKJVgXHkI/VMV1TW6fJz8TE4HFFXkRPxBRA0QBYBU/Pk5YzGZPJD8rr0/InXo4P+egucd8j0c/q4cVur2wTT/VeAB06VNOP1x0k12mfVA/y25umhoqUD+lV8KexWRKPyT4vNrdYk0/fQUA9tWmVD/bh7AAp5RTP+H/vqxMA0U/8ydjFQkmKz/eBvEpLfIQP5KvO7da8Rw/EYFnidSmPT9hQ5olzKlSP27+G4y2iVk/2x7a/nO4Uz+z9f9nzeBHP4EpmUZx/Uc/esb0C1fGTj94LAEMLDhSP3fQZkBYz1I/B3aCqHEsSz/qBZUojmQ6P8JoqaBmjC0/xCcg5nf1LT9QUxlHSVQsP6nWynFGsCw/aC/z5EyPOT+UtcATeXVDP+efiBNCGEE/tCAoEyqEMD+kJdTqLpgRP2J3Blb76eQ+K8lxDeWA/j5jNr3XBBAnP1wuxNw/t0I/xXmbsGhGUD8UGJgDU01OP+7T3KrdLz4/J0XJ20cXID+nKUNdY17yPpAJnLH0fLY+2iWNm8qqbT4ysSQ+DjQoPuzKiCfuV1I+ozqH5SBiej6+gm0s7vOUPjrVUSfPrao+yuRgH9Fl1D7pQZ4QuxwDP6q7e7UFpyY/9AfYUBrWQD/pax/wvHVQP+lkCC5I5lQ/RI9DRYKTUD+5REKPa7lCPwOZY6A/vz4/0UxbG64URz9vDTivvOFQP7batPFdElI/z+k9y3qMST8Sroob1B07P1xZ2+2XYSs/pB9GMGJ2Fz/RoETdXVz8PqJ+T/23hus+AikEmpuAED8I8gmBZXIzPxGjBdqEzEo/Pa102I7BVT9Z6xC61DtXPyF5UiIYwFY/wSl+1DJCWT/pbWLOrJtZP9q2OxPo+VQ/YkT59dh1Sj+JGw4dBo5BP7MUDaiOgEo/swHQvQzsVD/ihXZ8hUVUP7+jyELhdkc/gwTS/J/kMj/w8gOBHlotP1cfezNqLEE/lccExwXmTj8/dZBD8aNQPya6NsRFKEg/QbHP78WLQj96DBYu+KtIPxB+mBdGoE8/W3rZgOF1Sz9sNktQVQRKP9Y0wXORQlM/JvU2uH6xVj8paEfTDEVQP3CFlwfJT0I/H1pP3En4RD8tmfyKmd9QP1FRikKSBFU/X1E8HxjlVT/D1lSIWoNSP9myw5O9qEU/nAbIi4HmND8h70kC27M5P1jU5c8pq0Y/JXbvXi38Rz9h34QzVzc8PylOnOIi0SQ/v82ofnvHDj/iSF5rY8AVPwkyRSm9JzU/V8FZv0RoSz+J/gAX1f5TP3vVuzOnVFE/UNsFWNwARD+sRl4V2qcxP4of7Fq0BCI/ZYYH5KLZIj/t7dMb4vMiP/AE0vMzgRw/OHq2QS0AJD9DMDcrp/E4P+8sEFfKGEo/S2ZEbPj8Uj/6acAOWhpRP2ZrxM6ZbkI/19cRDu/4Lj9aZ9L4+r8mP+TGv8NtEy0/WZnuT5o7MD9AWE7vp4EmP98z5NFaVBE/bum3dEbI7D6Bd5YOOpm5PrzWvKnWV3g+jHF7yhu+KD7ccXXBleDKPdA2aXTLM189fzIWkSlb4zyb5gOiL6pZPIAhtjERL8I7fbYwkJGJGzt9c2KpoEhmOnh4I1RxRaM5QcJ8wAAk0jhhYpW6O4dFOf9NeiYdgQc6v+x8bXVyuzr/lkCA9CNhOyGNJsyy5fY7ohGJGYhbgDwGniL4Kf/4PHa5zcpxbWQ90OcBO6/awT2MKu0Xo7AQPhO8zAOlr1A+DIeiJXLXgT7ah91zEGekPtAOT5+287g+UoV7n5JRwD4ptl1WlfG2PiSdsAEuhqg+ZA/7mqss0D4S7kxpKxUCP/tnWR5NkSY/IbLQBUumPj8GqWllYaRGP4RMsaEXP0I/+Bq04JumMD+VUjdtK58XP2DzfQFCMww/NNSNYQTKAz+eI6ubz4YAP8z7OFzn4xM/8dysOCO5Jj+sIETbgIAuP3VleMLiIyc/qJ3k+gIfFD8aVeqi6ST9PkHHxkF2DQA/7DMm4D4oDT9oO2C8wYkgP2dJqs8sRTM/XY8vlvNWPT+ancPGfo85PxPKy1BtNCk/e8TUgKZzDD+FFMGeHwznPhK0FzHMtfY+/hJ1FRDVIT+k0e8B3nNAP/Gk1HkZXlA/8GOqc4BtUT83+bMjDPFDP0bnSiTF9io/7CPpLS/FGj8XmYNNnSMiP38NpP1bbyc/cyj1R6X3MT+OY43o/js+P6MMEPGuAUM/KsjTZHe8RT9uz+Sa7sNNPw5Kwau4klE/bM3xGgi3TT8ANJpsXQRLP9qRxjo7xFA/ggvhK4y3Tz+y82ktjxVCP+aeXCvLkC0/NMoq7Mo5HD+Bf5cys+AiPyr4rYb1M0A/BVQJWpajUz8NqtyqaEtaP3rDk5BO2FM/H74PtbkRRj9oNQXscutCP213Gvr4/kg/gqwAPUCWUT9YNLRTdIpUP0jkcKjQ9E4/Ob5XvdR4PD/DcGAyIJ8lP5rOSXkQSx0/QxAz6S4hHD8az/SkQkAlP33Kgm3Emjk/jTbXWjGNRT8xCfZU6ixEP9Y9CwY8gTQ/7ISQmJ+UFj/ILPE6m/jqPvSi8fyOmfc+7uEAUmf2IT83GE3nb0M9PxrczYYaf0k/zmqav+jARz/PECJ51ag3P1UlxbnLMRk/u+TxK/Wv7D6skNuFZ3ixPjq+diGE92Y+RjA6j1/9QD7ofa226Cl0PpZ7/n3195w+kqkzXUBTtj5WbloX0YTDPrM1sRHKk9E+7gLZjyZL9T4W9oUgbyMaPx1+3W4RjDU/NZ9cYxpjRz+xWeoyJN1PP6UuWdzwi0o/v9QN04m3QT9X4qNFbFZEP9jwjuCm/04/KDApg42rUz9J1u9eW6JSPz8HUzUTiEc/BNHTRVtRND+McyqgixEgPw4AdBISXw0/xdm9TliT/D5W4Yg7cEr2PikeZhEzwhY/0atYHRkmOD8tBjVZ5gdOPx0vl8PzBVY/YGSqUrDNVT/NOtWC8GxVPxbtH6WIkFk/1P6F4CpdXD8wr3jUSU1ZP4DUYHeS3VA/81zbIryyRj8C3Ou6cP1QP+0GOsr8XFs/3gdF2MZMWz/lj5GhKwdQP1JktaMxMzg/iJc6AEC5MD8oC41S2X5EP2e7jwGwH1M/P8wsRVm9VT+qvn4OyMNQP0jKGTZtX0Y/xUq2m5ybRD9cS5mSP9xGP+T5JHvFzUM/TCZLoyj4RD/R7eQAIKVRP4wD+3TB3lY/LHChJhLNUT8GuL5YFy1DP8GpmRpTO0A/JlyCTkE2Rz+GtWpnYYpLP4MaTmqTKEs/3Eg3LA8dRj93uGRJjx06P47hbR1RBDE/TXgjIFoYQD/hnD3cYf5NP7hZkP5E7E8/XJEz7n5LQz8Qo/GtUeMvPxgh6fEZnhs/zaGeTY+jGj/mJSM4tPI0P9LnQ/mDb0o/evoR1+60Uj8m5cMjjBxOP1D811PACz4/mDyltVqzJT9a7jjDv4kRP0q4zGPoNxA/aSguuOfOED8ZEMncnlEOPxj5KEt5QRo/BF9dnLnyMj/VpzwjhX9HPyZc/lJJ/FI/jEu3k0e+UT9Fq6uDhpZCP1B80gILrig/d3z/RNJoFj/L+bKyXukZPzkRBAfwfR0/TuKNnyKZFD/ud9frjMP/Pv4YwiLYX9o+fkZj4Vlypz4Z0V2oXElmPm3bBteNpBY+/XJOaUyWuD2nXFbdzohMPSOAF8BiudE8Ga0mroX9UjzWuEePjBw9PElqwPvxCz08I+wB1+4LPTwChbDW7gs9PLKAsNbuCz08YYGw1u4LPTwsrLzW7gs9PA2YPEjvCz08RNvpaSUOPTzu0I7B53lBPJTt4SUcFaE8bKEC+Xi6GT1yOVajtf+EPaRB/VP2VOI9WwMyntAdMT7kpOm1vxdxPrM0z0dzQaI+U9/ZllLaxD5LzjV2hHnZPrpKgadGpOA+iK6TfgBG1z6k5CSftMDCPiK9AEfjW8w+KaWZ6smE/j4CL4F2/jokPyIaRceAFj0/V0ah58mgRj/etbrP0y5DP8ESfisiPjM/i5CgIaTnIj9NHB2O8qUeP3a/F2KaERU/wi97F1nQBj+p1SlfY/YSP5k84JtWSSg/AS3Lk0etMj9gn/hq2IwvP3gLjaAGHB0/6RpttII0AD/MLGJ9k3nwPqICKf3XwAY/r/OGqh3vJT/jQwNP/8g8P3zmkkRyMkU/TpOu2F4BQT9afJFFes4tP/Tlb5MbSw0/G0NwSKx86T6VHM4HrQ/6PgNm/+9MVSE/q1BB+KAHPz//lXNvE7xOPwsN70arW1A/mFemd7nWQj904wdWb3YsP7yHLmUqCCc/RFrLMgytMT+lmPNu738yP2/4agFK5i8//DAH1Yc0Mj8fxTx2Tls2P3P7Oca7GEA/K0r4Wqq1TD/Sy6IaCjFTP2y/U4o0OlA/XjD7rZIhSD9so1JeLBlJP/NVUzMWl0c/uHTY3CYZPz+2jVghnFQzP9zindvm5Co/j5ymxlChKz8ggAgH4hhCP33I1Vhbk1Q/lsLRqKm6Wj9pSXVCsfVTP0IzmXc6IkY/kiRm9zIJQT/Lzf9YkCJFP2bRMSrQSFA/A9StLdbMVD9ij4DDY8RQP10TGoi6U0A/M3kCJgXVJT9Xxk6sbVkRPxeapzMKfhA/VT9VYA5yJj+jRTI/VrhAP60BtDxRk00/6vBf/yJ4TD8nzFnxAo09P4DXs8blgiA/HYUEOzLa8z6QLAUIFY/vPkdbS+GeEhg/7nJzi/+hMz8hj+zo0B1BP5hgEOq05j8/pn49dkfGLz91Iqxgx+kQP4Evvn2/PuM+pz7hWeNopz6zVynFxNdfPkLXncSD1Vw+3vWIx0vvkj4TprSSYzO7PoY9uaHa49Q+2Ksfyj5F4T7yvxjr8irhPhyHTBaKS+o+ogkFHlx+Cz8gNdBC9vwoP0wd3wEAqz0/1awl/SRfRT9upbsGXxFDP/MSaw0Sx0A/m54tNhk8Sj/4+KlaLFVUP3wmntGg3lc/046OCMnmVD9Zwk9db5lIP2BLo7QovzI/cGaXUldxGj9vVzfEEqYRP+yxEuQgYQw/MNpxatq3BT/zzDGPuiYePz4SatXqDz0/LREr3E+hUD95LO91YgpWP/AaQqBKmlM/dx4cjbJxUj8V1VpiqHhXP/MFevyHLF0/7ruF3gEvXT8ZuPE8MhpVP55iM0MjY0w/n0SQXKXmUz8rRzCu7h9gP90GzjaejmA/DF/xDgP5Uz9s1Fpg6OY9P3vikDVT7jE/Z2P2tDZWRT9krNcGn51UP6RMHiklHFk/gBxn8QoYVT+Oshm/NDBLP5zw6ElqWEI/XM5MNpJ2QD9q0afQqig8PwTqnlo7lEA/Xd1vASCFTz9AiaP5qHpWP+hKgi1r3VI/O5Dc/bS/Qz8RWOH+wsI3P/t36IGYvTs/XbzNVz4IPz+a6oBr+fg8P1d4h0a12jY/aCDBr/b+LD9sS/N0nCcuP96X9q3PiEI/bara3edgUT/6+He2NJZSPyKhTXBSzkc/ouzgaFcOOD8jGSNJaxEqP016cCN0xSE/4+HOgIRcMj8q9+PDKSFGPwif+QKSK08/Pal5eSf7SD/806t1f8M4P5RedY/2bSE/Lyh8HmO5Bj/BjtrMEQj+Pq6mUlkwXgI/fOaw9i5jCz8Pqmm8yL0ZP893OXZobzA/9gPnFS0sRT/vMTqzn+hRP4ivb1mEDVE/k/q7F8m4QT/tr1l6ZgwlP+ZIzOOv1wc/kuE3T1JjBT9XG0DdDFwIP/SGio1aBAE/9IAGlPEb6j5PneQ8U43FPvzxFizODZM+aqjDXXQFUj4RcLynhzoCPsqfQQN1t6M9GIA6MIbNNj1mbzEXUjK8PHRyUIddozI8FaNiHoxXmjubQN/MbubzOqOJ6oskEkA6Zd0KuDe/ezk+dzwzzx7AODDSU2b8yoM5+petXFiORToMjFBEERz5OsI0TY24SJ87L/z4UiDYNDzp/IKkgbW9PESnRpsPpTY9arvNN/91oj0I2RsvzxgAPq50G6MIBk4+UausKl3yjT6RXmgTb/K/Pin0Nu6gOeI+IUUZMU899j7KdrGHMAb9Piboe++IQvQ+4GAiP8vm3j6vTfzgZtDSPlt67JpslwA/rN1q4df0Jj+biUeC8SdBPxjiHS31lks/GU0xfFE9SD8wUrpAD9Q6P2Et/8D1qjE/XsdOCycMMT9pkBFn4aQnPxL0ktwROxY/jIzu4lMAHD8uJjUZCYEyP9/sObJbAD4/KF6FZsZDOj9x5UbgGrEoP97OKMQqnAk/va9Yww5u7j7AeJDt6kMKPwGygW4jYS4/WkqSAldwRD9jnlVBU85NP/QgooUEWUc/HvRUDU2wMz8/VffxdrUSP3IGN5EErvU+LC88y9SlAj+hyvkgBsIfPzVsrd7eXzk/8bocsKSwSD9VX9RMbD1KP1JDyBBluD4/SPqfQ20NLT/bndCe6DszP3bMv1tTnT8/rer/3KPRPj+Q1tLwec0yP0dMSmCmrSc/ej3gF1omKj829KUHy985P/8iUKPx90s/+/UNtE6rUz949IPaU2BQP04n9XfM8kQ/YiO0mjgSQj/YKWwJTUNBP4MvFH4hXz4/w+J/dnO/PT+JnbLl8nk5P/IBfw1uwTU/DF3uXZbpRD9hzxy3D5ZVP7+jAP5R5Vo/LTqF9gwwVD+kKfUxjb1IPyVndmj0U0M/D2VffuQIRD9uhwUD/AxNP+8jpGBYslM/ylJ3ZBmSUT8d3vDbF4hDP+DP14ksuiw/fguJ/xhoEj9N9mAtrUUQP7nPJSUY6S0/UgSxvSNjRz+5oQ6H47pUP+Ae9nIy71M/CsU+OBWoRD/+8AfGjgYnPycFeA1Mlvs+ai23qbIV4j75xnD+5JsLP0lGEMOQhiY/bEgsZoGkMz8X+GHTak4yP/4N5D/XOyI/BXDPTOtoAz8dFITHCBXWPk/TPwON25o+HAxn5Y7wVT5Wyy9kiq52PhXO91VkXK4+QK4U9dTO1T7c9f1hHr7wPsrXNa5wgPs+HKCpAV6G+D4vtOoaj8fuPtFVfE6UYvw+jncNsTtGGj8jckFqVK8wP/J/2dXyIzk/Wtc2cH7uOD/h+5a0j2A/Px6tVQafuk4/dHILA8crWD/gjAOz8YBbP48yv/n1T1c/FTifyxzrSj86d6EoV5I0P5Rr4gASqiE/9cilr6iFIT8IM5C+jl4gP4LqePmJtRU/c6jYANiyIj/PkDvEej1AP5kvWU+ZmVE/WKWQAJmhVT/WAdv7gVtRP6XpQA6TZU4/PF2g92lEVD8X/JVNtRlcP0T/+5lncl8/TcXrbCq+WD/xAlMa971QP9Z9oNmAqVU/lJsayKJrYT+8mbcH2zdiP0t93ywXY1Y/fibBUda1QD9iywuwgEIxP78AXZTJW0M/8C02ljqIUz9hy13jX9pZP5a0gOta4Vc/NDfEN76kTz/UWU+WWoNCP15bJfbtqzw/Sa3SQuxIOD+cfdfhP2w8P04rKng27Us/J2nFlcU8VT+na/+7YspSPxfY01Y2a0M/GXGFC8JRMT8HCB1+1IgtP1CaR4bUPy4/R2xyGjHMKj/GEK4Yw3IlP1px984gKCI/SSzfDcrVLz9GwDxrJllEP+G68qTFQFI/6K0D+y2KUz+LSGKx0oZLP7wbfgxx0kE/8TSk5HNHNz9qk4272dApP1RqDS2qwC0/Kj25lXYwQD/uYZmo629HP+eoaLpTjUQ/J+117nJjOD9n4HGa7U0lP08sbg5BzQw//n1/0elh/D5N3DsWOpEGP//p+RvZPxg/fVQsXH89JD8EOhDf6BkxP5dG36yzlUI/mU/uE0IbTz+TYMV2/95NP9d80hcpJD8/P5mUwoHvIT/wyouI8GQAP5iwgIg5evg+l4amGSN0+z7XSfZof4ryPvPXFMdMSNs+UATmWLaatT6k04DF6F2CPgW3Mr1qwEA+hR318edi8D37gt9fEzCRPcd2SLX1UyM9rHaClfVLpzwpr3mtsBcePK6Aj47p0oQ7LMO/K3Tf3jrWN+2h0YIoOmaG54Sf1mQ5XZaiQAHmzzjoyk+ohAaeOUul8dI0VGA6/nvfWSr/Ejtnt+vEa6O3O/f66mr1dU880GMODn1k1jyrvQN+BgxRPbpsZCe8wrs9HscNwCItGD4CcYmX8IRmPlZ+P+ZNb6Y+CJ+Fx6vn1z4HiIH2ID77PmTSVXM9mhA//itZ2ZGkFT9bp7PmQC0OP+biehH3rfY+oTYHnCU24D6ArVYaLWUDPzWQrbERJis/XsdMDrmcRD9G6jx6StJQP2Sd7frGT04/YnzSwtWvQj+oMKlpbqY/P35qOYGS30A/ma2obFWCNz9BzNNh/+IkPwedhdqFuyU/h15u4A0bPD+rZ/9i/gNHP0UHeeisS0Q/QcMa14UpMz+hzFX0VtMTP6/hAUXbkPU+/oC6R5XmED9rAPiQe1MzP7nskelB70k/mZMYxSnfUj9jOY7EF3NNP4FMIXqKsDg/8IMdoGNtGD/LaelNUjkGPygtOpGA7hE/vdYCEh18ID+lNq52jdIyP6KfqOAsF0E/xQSzbGMGQj9ztkhSawE2PwL0SepRnC4/5ZSI1ayYPT+G6pXgJ85IPy6D0LUigEc/eXr65RIrOT/2BcuHve0jPxMOZlBP+CE/Rh1bE+RONz8JDg4F6NFKPxZ6GDvfnVI/L2ONzvhITj/nvKdkukBCPzVfLIjwtjw/0dRAnWNgPT+yHtYgIBJCP5WMQA2zjEc/jngNGAUlRj/rIUcpZylBPxmveWzb4Eg/CqG1yQWlVj8r9I8KHLNaP9vWVWYRZFQ/mlydmcJpTT80ZnIuvzZJP7gDef55r0U/pZByT3XVST8sb/Zqfi5SP0E/+hI0jlI/2lvEHclTSD/BfRHaATs1P7JLm8+doh4/+7jecu3cGD9PBKjEhZo0P12SNdG+204/AZaed2TKWj+Ug/LfdGpZP3GpQQHQCko/XV4Cwwq8LD9dyCcfTQ0BP9SQyAxRt9E+nxIUHFwN+z78Bdch/BIWP8qHtlMMQCM/d/pN+u7wIT+oMqgMwN4RP045MnC9BfM+ptCel/qjxT4mDO0mylqKPmNM0K0x31Q+JyXDVHjxjj6LlKsInsfEPuEOrphu2u0+hMRhacrrBj92QYqP5NASPz0477cLjhA/80YRwV5XAD/xScyOgEXzPrpklvB9CQo/rBdA24EAIT/7oaFCI4YqPzI2PWT41S4/xPJmmVMcPD9C7acnU5hPP6OfPecsHlk/bFkJZCNZXD+hioYY8PhXP5uxJeGobEw/sWEoWH2BOD9vvQ9ZJaotP1fZrQQ31zE/vP6WJKQMMT8HufO3/nQkPw99Nn0qqyU/oxFGeZ1HQD8JPRu+LBBRP8d54lGkHFQ/n7zwzF+LTj9YU5uzEepJPyW6a6wwpVE/8PvIp5D7WT/nYC4T0JNfPwBTZ2vwx1o/B/LH/d53Uj+qm5RuLUxWP9AxyV+KjGE/bmylTDhdYj/ErzyfNJdWP7HBoihmpkA/IUmJSavELT8nnv0XSTA/P18163LOnFA/nrZRjfQLWD8VaCzFn0ZYP0MDiLKbCFE/zEOs6tLFRD/RtKOORSJBP0WiUwr84z0/4JY0kFNFPT8AH2QW4JtIP18Z5BTJuVI/QyBlFBoEUT8SNdmHHKRBPz1FiJyCcCo/hYXC8tzYHj/GTuSZW5caP7aSiynwnxY/u9oajpMoFz+duYfDA8MiP8Z53tNcMDU/EAhhORUzRz8qgKqSnaxSPyEmNQOovVM/H2uvTjVnTz+aZBCrQIhJP+z38pgPxEI/ewbmzXT5Mj+nx489djwoP84bY56KaTU/SUKXiNcGQT/yu/6mWsdCP8+tx94OOT4/WCoJtZLJMD8DkuSNnB8aPx6Jds6CqAs/Dzdi1a2bFj9/ASVoV6EoP5wAFYTLrDI/IDvXweTWNT9LxMeaVLZAP1mHDfct/0k/cMmk7l8XST93NW7+8pc6P6RTdHcXoB8/NJhf2JEUAj+oz7WmYrwCPwlUAcLxRQU/PCYrBLBx+z4cjare7hHjPpgLXXO8Z7w+PMrTt02ohj6amHdcI1tDPg71uLpftvE9gr+WB3VdkT1TXVxePD4iPdpOOfGciqQ8pc9IPnPLGDx1fiDSewuAOzq7Ej/XRNY6XJf+ckOTIDpy0DuPI3haOQMPqKzijOM4hXPxVH18szm39qjGwCl1OvineNJAlig7LSrd+euNzjuXFyrFiE5kPO5vF6Xp3uw8DcKa5ojzZT2uOfjH/NnRPdMGQy0NDi8+DCpFsBvkfD5aP5o9aL+8PhOqq4k+mO4+uR9LLphpET//kaSEyDIlPzEudZgTmis/CYPhtEI4Iz/lUGVbtrgMPygP0jNtge4+fa5y7hIqBT8ASpKSTV4tP5VOpdsiekY/gzbndoGNUj97jDktRD5RP4VfmoMQYEg/lhXU0aHFST9E1JipQy1NP08C9TL/TEQ/6NHKR8RTMT8nP/I8o0UuP3jj5PNMykI/547TTXDITj9U5sCGPC5LP/tsgFfBtjk/GK9RVXxAGz9kpGRDIrsBP+FQcRw/fBY/X1KjTEGCNj9KXI7vdoVNP+m1B9a4dlU/wtxRwpLKUD+g0Jr9z1U8P5MYC/6C/B4/Nn9hyZQJFz98Wky8UxkjP34WKjcaKic/h7FjlpMSLT8Mn3Ng4vY0P5+cJjUyZjU/mIMwJ8ElLT87yfXRymMxP/+LU+RVuUQ/CoXFhxkSUT9ZgECCr4dPP2AtdC46G0A/kfOXLSgVJT9OGK7Uy0ohP04Y+zvQsjg/exckV66NSj/0if4LjgNRP3597YmzsEo/M0SCtaI2QT8M3mSbgAg+P2irid/QekA/qhojYBTPRz87o2vpz1VRP4nT6boaKFE/TZ/NWHmnST/nXhldps1NP2EnGJ/VmFc/t0Rr2NQQWj9AAhJV2lBUPwsBURCWSFE/bFGdeABRUD+mBhlyOURJP7wdhkaqG0g/c8M6RdsmUT+N3qTMkgpUP1RdB0eHk04/aDWa9e22Pz9GM+MR1gosP++oqwGU2iU/+U65tv+JOz8/9S5rxJBSP303OhgDB18/tRXFIH3WXD/+jjEvIRdNP12UT0gwqC8/16vNI7GMAj+c2a87bKS9PvkTSFEeouY+l19Tqxl4Aj9mVieBURsQP+qu0kfuBQ4/ZhWSRYXn/T7pZSLvJtXfPouHAu29G7I+brF9UaFEdj7R7Rxz71BgPuc+pgzJEqI+95gJNm9I2D7RHiL02XEBP1Yhr9Foyxo/6XrI8OoBJj8VvdRUpFsjP6hFfijPdRI/5y9nkOXf+D7mE1hpyVv/PoyUjDjM4hI/KNtbG80UHT8iNOr2cJ4jP3FoZKb2Vzc/HbdIEXkZTD90IxpMXH9WP9gnD8mfflk/Mr9SolUUVj+S4y76K31MPzJnQ3RyzD4/ajo69Q8hOT9n872ewBZAP5Hu6OSToT4/n59wft9eMT8GYXPZYd8nP9WzGEN8wzw/a5ztrIhvTT9EBunmSSZRP7oCXKtdsUo/MJYGIPjCSD9INEoDLcxQPzt/SGkW1Fc/eZyCnZSxXT9+EFkO3KFaPyouXpq77FI/RW32QHDYVT+hkgSI/qRgP2IVSREpFmE/nsMHtp6eVD/DS2nsDZ09P96L2xU7oic/g962zKmmNz89D+aIJ7FKP9RcASyJy1Q/M/od8m1iVj+ilT1DtttQP8yNofJJVkg/NFrENUs7SD9QCUGBi2ZGPx4OFGJQPEI/ZdOZl4bzRT8tUq8E7DxOPxKWrFU7fUs/idM7qX56PT9frjcx5PEmP+vxjt5m6RU/HG4vni/vCj/3Rkx/CpEGP4/spIhyrRY/jJ+6iiowLj/AubEvupFAPyDbWkV4gk0/YiOQzA5sVD8wuREiFc9UP6oD33IWR1I/7rdKY/IoUT804yH5NLlKP/EAQx2YIzo/JrDdJDe3JT8xKCXSZugrP1Mv4Ui1NDs/jB8Cs++VRD+ldpRmCClFP/Ryfn2/2Do/7tlmornAJz/OUqCxEgQeP3E77xCPoSY/ekwtysyrNj8uFtQCzU9AP9t1vrQvjD8/92nue9YLQT/uRyv+c39HP6QZ/Wsw20Y/12nSzngfOT+9pT3SI6IgP7/pf0mAXw8/NzU8BGAgFj8O+/uNXFYZPzkfxSFUKRA/f2awnCYr9j4Jb8FQLEXQPspC4eTriJk+aolkXbRrVT6I9S15ujUDPidzA/W+aqI9hRoFsYTgMj2k/Hy3y6+0PAdHEeQwPSg8W1ogBn1ejjtvxqBRHljkOjzPDuFXJi063JH0RtZVZjnlAJUBWLX1OLRsJFdqrMU52NF8q5F7hzpPfqLPPzs7OxbMum3Y5OA7YiEK9I9sdjyHpkFOqtb/PEoMGXA3LXg9WVyGJumi4z2NOrt+AA9BPj1NINpfs48+bB/c2i2Bzz5HXNwtcr4AP1qRII04CSM/1sjwkKslNz+7ull8hRo+P1ZHcW3V7zQ/4n9pjB8xHz/fd3XB+mP8PsyRAg9UswQ/T78tErzrKz9mtpG+CJxFP/3sf2y5MVI/ntPn+c/PUT9TZrm1/dJNPz5U6MJM2VI/fXRuPRIEVj+RON/pEHROP1dCR84RGDk/UY3UYXxbMj/Y4QkbfZNFP4nJ1ngpo1E/xk6vvvMnTz+RdcH6vpI9PwByly4nrCA/VE87sDv9Dz92tQDtN4MgP8713/vtSjk/w8yCBvkwTz8OWvhEopNWP8+yUkwlxFE/aYh/JaZqPj/Ew8Dw+HojP4D0mE8LGyY/SlgnWPr6Mj/5JYWct68zP80f7g7fHC0/NC986RgdKT8sFo4Gkr0mP3QOE5/0PSQ/Ghd3jns4NT8t6951qbFKP2ybGtDf6VQ/D1Hndm+WUj9EhgIw1W5CP6bmjfGhgic/hNUw6dNhJj/9kcfSWWQ/P5ecN53Qg00/cx7VF1qCUD8Sixy2nXRIP1ZKKQfswkI/msR+pyPwQz/IojpzKdJFPyaJMylRlk4/c7uDE1bOVj/XbgZJ4oxXP1mDmskdnFE/aYUwt/RhUT9bg21hnv9XPygA1x9FyVg/G04GoWOVUz+x8IMzAvhSPwH/S5WKXVM/O3DVADtxTT8nkJO+3VRIP7TtoAswxVA/2YHYpIZ9VT8OOZwL2YVSPzGQwwAdvEY/nbZJZpaXOD/N3pkjP0ozP6g5zwWJCkI/akTIMjWBVD+bGmgGNBdgP7B8N+zEFl0/deTG+0jPTD+0ilwQzt0uP8JMZbgl1AE/KCuxqxEspT7A+cmmkirQPkoYk2JhYuo+PWLfHHQC9z6oyNfP93H1PpcCevZCXOU+rcfICTO9xj5lu5Ga6OuZPuE6e+QbiWE+18MRM1yqbj4Epvn6yQyyPgHky2kOOug+rr+r81FoET+E2mO5cMAqPzCslX4zADY/1YY+2thoMz/2PaeAMZEiP/xXIudy2wY/u2nU1t/xAj/tQLRV100TPykeLwGuHxo/M7F5mPfgHj+7DH9CfMUxP3oLHzPkgkU/Y99pihtMUT+lqKG4He9TP3y/gHoVblI/WzxfNM5ETD/s1VJlW1dEPyIFJV0yt0M/0p6+Gb8QST8DyyStJJBHP8gIlLNA6zk/cUX5hKB9KT8KEPZPum42Px3AUUrZa0Y/7yV2D9KfSj87WKteWmlHP2SE/alRpUo/rzuhFCbLUT8RukbiujBWP8dzf69tXVo/brHd8+ZmWD/9KKR4QvpRP/8BsO4HP1Q/izFtseGnXT9PsvrB/mVdP9Q83dCeGVE/UkMsfWWsNz/Co9lYu3kiP5MXHBLqSTM/6VLPlHR+Rj9mDx3rncxRP0Z5iMZJblM/+otPIbyHTz+89fJi4WdMP6BYteFY4FA/mBquyxaXUD+IozC2ZPBIPzf2f8jU30Q/ADc60UamRj9aq0UaAfhDP2OYlo2kETg/ZQ5k6W78KT+1+1JlTH0dP+DxO4tkggs/8QHLf8pSBT/uAjnkclMhP74FKRGn1zk/bNPUTSVdSj+YLnovskFUP403NDRvmVg/al9uRm3CVz8IPssiVHtVP/6QzD+oF1U/hZWjsie8UD+AAXHOcEhAPzKD/P10tCU/JpqE8yF1JD8yzDIevt85P8AmrIpo3kg/FKeOeD3LTD9bLjjHkIBDP0xCMyMyxzM/K9E07aETLj9MRYJoSW00P2FYHoZFLkI/S6eWxQUjST9BepZR1ZVGPyraIxMvIEQ/SON/OIw1ST9BbK0GXthIP6Zv2k+zuDw/bvuHpTJxJj/HdgqLWdAfP1R7uCYcsCg/18QUx2MXLD+iH5LHVtohP5foXwYgcQg/hax0/qTo4T5fYAk5YA6sPpClr7kQfWc+uP1mFzQEFT73wcuc3Bi0PaR/1T4EikQ9umnaRxZvxjyful03MTA6PJDYzTgiVqA7Yvgn5IPI9TqVBJYZNws/OqjwGTtppHc52wkW1+EOBTksBz4XjsnUOZfe1Qt7YpY6lI00Z3TbSTvD2dwCSP/vO7Mw0CtqMYU82WxMM3wKDj3DgtQxQMeGPdImbGq9efI9+nEGY34HUD7ctcqw/7+dPkgYt61rh90+gwuo01hZDz+lUm66X8wxP/Cg4CConUU/doE6RgYUTD+BQz/eOIFDP2BSzb8rAC0/mumiiK2ACD9OM4PPfW4CPzZmQ43XcSc/2b86jIydQj/gmn5lElxQP1X/sPI2dlE/vdboqHpzUT/vQaggHq5YPwm0VLmEC10/Zxg40C/jUz+POdUnd7w/Py2GOBzYWjM/SIujCDMwRT8Yk5bLvENRP3x90szBgU4/7dOa9tkvPT/YnJxaM+QiP5yj7S15VR4/6Qz45VxeKz/piZbXqYc9P784aH1ID1A/4gGKXUnkVj/4fIJ0LCRSP7ZQPZu5tj8/2mOAlYSUKD/897j/pM4yP/k1EqB9gUA/PigCrednQD9aXvOOKxszP3ONBFgHVCI/KLmB9C2UGD+wPNM6oKshP5NPpJ6K5To/mwNij9AqUD+ykccWOF9XPyRSdHoSkFM/D61KPD65Qj+rmFXIPk0pP8sT+dtlJzA/Zbukmu4MRj/bRs4OrYpSP7wPF9XJKlI/2vU9dVYaST8oOpJ+b8NGP4AUMYkjpks/DkEzSKLGTD+/eI4IDgJSPxHEhT38mVo/NSFK/Ai5XD+FKPOEOepVPxCYNTVsJ1M/oZzF4wozVz+rXrKjlnhWPwHeAJ4UyFE/FCvKJvjQUj+VlStbC6BUP3gDJ+OIjlA/+50avutSSj8wtnd6OJpQP1hO8Qwn51U/5B599sb5VD9OLC4JKJROP7GncvZYxEM/9EGmPgkUQD+FIJtDZJVHPw4wN13iUFU/eOOruXxEXj9+tV+XoFNaPySwI26/jkk/yo3mTiv5Kj8Z/KQNar7+Psn4XTnR0Yk+dws4NQ+3sz4W/Ce0jhbQPpIOJLeND9w+Z9e18Son2j6wTN6X+wzKPm7NMMArxas+aMtU0cuHgD6RclgP7/FaPmmPsRamVH0+TSyB+Unnvj7elJljzqP0PkwZiVpAqx0/VlTcJa/SNj/yZ7kPItJCP+ofOwGatkA/B0zrdTZAMD8gUXLb1wkVP175ebz3VhI/nQtOJs7FIT+D+NS79MolP1n7P4b8RyI/+JpngCX6KT83McxKTHs8P0Upmuzd5EY/tos4nqZ8Sz9hYkItJk1NP/QC7MwPZE0/aDRoBG8zSz88Be5csrdLP+0pzjHmzFA/MsMngVcBTz+vYoaAL8JAPwELgkoQbio/bG3vVEP1Lz+NuNvYci0/PyQPfubjoUM/Dci3M5UuRT9v0NB6g9ZNP2lwIormjFM/R3hVZmfvVD+fu1Zg4HZWPxr7NljsEFU/YuvUj/ghUD8kSIzGfaVRPwsNL9sni1g/+AXnkZxEVz9ZvhjaBNFJP+EbrRm0MzE/deKXzJKUHz+1Zt+JcoczPxzHRE3+XkY/c7llqv2SUD+9ZtJ3SjFRP5bM8g0csU0/HCkP44AmUD9g830uqWtVP2D76JLDTlY/2WM1KjjaUD8gcLy/egtGP5CWTtFcx0A/ON0QqdO7Oz8wsw7bVE82P49CUPl+XTM/0S+sgk0UKz9YNi7QqOgXPwSRYhKhXw8/sl4Xe/TYKj9CmZvlqPVDPwONQJytTVM/qAvNBls0Wz/GE9YbDW1eP51D6POQ+Fs/IFr+J4l6WD9sJ5z5A3pXPwgFAHRzq1I/V7+pjEtzQj+Eg4TiVQEnPw24TuVv1iE/QKSxQnvlOj8P7xWL9+lMP05Ox6KbiVE/f1iij3jtSD/b5tpUzNg9P4zgaZZT/To/UJvKJNF4QD8EKYGEvlpJP40jl0LawVA/BHa5pEtsTT+Wdqr2FdBIP1O1T/hjJ04/KsRgzwQsTj+p4fw0ZWpCP3fOrrx4UjE/58Jz/mEDLz98WFRfavk3P+f5U8ON2jo/Edv/ZVL/MD+GVGYHkj8XP/F/IJViB/E+Cyjw5xusuj4wPntLWlN2PuFwaNK3+CM+1gcErOEXwz1JVpae/4FTPdqFq2P+TNU8xW8YGEbbSDyydEJqtP+uO4sTHeZYqAQ7RjvYC5dsTTpu2YJCOmWGOS17rOvpjxI5GoO+HYuk4TnJYTxBoJiiOoCDCOQ4N1U7BxrdGo4P+jsvib6EsC6RPJCmy+gtSBg9JNYrNfZekj3V9l1Ju7/9PXXVLn5SxVk+BMAeb73hpz4ngXhBUqznPhAw5fqfGRk/lfqjMh53PD+lhW63k0NRP+1HrdrXZVY/7PBsl3AUTz8zxbF73xE3PzzLlF6o1RI/C10d4ENo/z68iteWVhQiPzkNHF2AYT4/bPx3sYr6TD9iaBNwLWdRP2RCHZY7zVM/M91CCVPlXD/XhEgZxcdgP1vH43APq1Y/WqLEXgqPQT+bVjZyldExPwreY8sOykE//FmFYbnbTD/zfs7SNIRJPwNpkzbC4jg/O5VAzpwaJT+1fNwNKvIrPyWNrr0xijc/aJ1VjVOOQj8OUiBdhLVQP9WgLbWQAFc/xBKHRLJQUj/Han1JyWNAP7Sf8AvJYS4/QGwx4qbWOz/bmgvItLFIP8h3L8ccU0g/baqFWDuZOj/ZyGChjPgiP7pHcXs3MRI/Yuz3shEXJD/CB2LHZhFBP9d/oXO0y1I/m9pRybKJWD+KC70mGeRSP8aweiDASEE/eVptxLOSKj+qamb/o+Q2P/myxaiBmE4/SkJI1D8WWD/7m8ouRalVP81hG8PlKUw/dWKRNCO/Sz84Ej34gsZRP3sfjyt0dFE/uZHAl80nUz/KjVkHabJbP/uscE7zZF8/sDZDM8y6WD/GvXF5wrBTPzRRMEGj5VQ/YUQ2FifxUj+jpf9A0JtNP3+K2psop1A/+m1LOs/jUz+gEmytVwFSP0lCpimwtU0/2Z0Z7lk6UD+rLSUiu6tUPw+6rfEK9lU/ytJyNnoFUz/IfRHIT3NMP8MhyUF3UUg/vtIdZxSBTj8uhC+9IpZVP8TAH+D1kFo/X5R6wSjvVT+KgqV0wOZEP3FhGswk3CU/7SZRofrC+D75iNXFL+FqPlF4IP1HhpQ+5dk6pKm/sD5bYsCZhDa9Pmk7nhpLOrs+ebyfbdklqz4LrXTKa9qNPh3B5+SGQnE+pH2Q0UW3dz4gw40WQiKQPlvb0zrM88Y+q7pbn5gM/j7mAsOCNZolP0ilOc38p0A/lGVnQTOgSz+ENiiw5txIP/PlXb//+Dg/VQ2CsWjZIT8Rs5AAjushP54hWJe5ZDE/VrP0EmG9ND9g/H0CO9gsPzqiB8x7EiU/NOwyWenTMD/Hxl46Z446P9Z/u9FEbEE/YwWf5HnjRz+y3oX1aRdQPw88IvH2XFE/GukdgxY4UT8XYT7/8mJTP4tTQxdYclE/GPU7vtamQj+IMtocbCcqP4q0N3grFyc/O6iyAoePNj8B4OmjEmU/P7auGiOSYEQ/fPLV6JMFUD/q66Pv4nhUP748zkeahFM/OYHzBQ38Uj/WPgq+tTVSP+IraNcpFU0/usdWHft8TT+DavWqcb9SP9B25UNA0FA/jeZT+he2QT/47z8PoRInPzRZdMaZQh8/xRAW2CeQNz/Ej4/XMv1JP4XVNlewn1E/l6ldqOT4UD+WCIdt+FBOPzIHDwx1x1E/k/5FzdFMWD9yI8Yu2qFaP6iVuNqLG1U/058CMpXuSD8EvK0Gtj87P3xvi9YcMTU/GMesqaIYOj+bfhfNB3Q/P9Cwq9ZbETg/lKW470weJT8Nb4BIUF4XP8lmlR/DWDI/vvZr8CC+Sj/Rwnx1d+FYP4Z92V7xlmA/ZQs8pMKqYT++srP3UVlfP1q+SLrJC1o/+xIcRlXiVz+XKr9sCzBTP8z3olp0zEM/XEY/QwU0KT/5LUXhS/0gP9yQgupKzDo/Y3WvQRP5TT8Ci0E5X5BSP6+tLaNs7Es/KkIf3PFsRD+BX+Bk0nBFPxnWdetsuUc/w/cVaYXmTj/FlUbTw0JTPylismW53VA/xjpV1kvrTD/suG3J1LhRP0heUt0m+1E/TYcfrfZxRz9+xZoci/g6P6y+QrvuVzs/DXjRwCIbRD9N46of3PpFPwJlbwdpqjs/hQ7yCq3lIj8yvX8pJK37PlXjwPBerMU+qiWOkgokgj4qIEaYRjowPh4zW+P9Bs89+KDC1zmzXz1v6DZsak7hPJgn25HSMVQ8sO74bhgvuTsd6rKSJ8gQO/jak2QJ51c6TIiP9xQxkjnb7e8u0R0hOf8s0BmjE+05LPfFa+d3rDrlM1mNJA9fO2olVXxrlQI8anuLEfoimDyMH4BTYucgPXvwIm6ZcJk9HwhMK6qGBD6nJ//AzbxhPiJuYX78Z7A+un8Dlqg88D4QDvnq6jAhP9cAvghGeEM/zeVilA2WVz8XhOWLwY9eP7GIeKqALVU/4uJ8IXplPz8G/xQKgzwZP+1PFO85Mfs+it94gLuoGz9RtvNQ2J85PzeL4jL8Zks/h8G2bXRiUj8jjgY2fbdVP06Na1YTP14/JGHeg+4BYT/qQ3XpapZWP81KdMIXB0E/h2hsZ2LULD+jKjyNbo05P3O5mzeil0Q/x+OmmtA+Qj8cDRdes6AyPw2O3r9AbSg/OQVdi4RtNz9vQhNGNBBDP/4V4oNyHUg/uBBHe+57UT8CvRjRnbZWP0ZDbde0FFI/ekm9H7STQD+u5/iM6rcxPxWS1BMP1kE/EW5cLJS1Tz8+85RMRERPP8H+KcGCMUE/9UmVh+lEKD8qpqPimPkVPzzBDr9p7Sk/TBC4U1QXRT8rH816uyNVP5ycWXOKzlg/GM0CMldaUT/oGEcd6aw+P9Zl4IWCFC0/N2cSPr9LPj/Cx6vAbpxTP1gOzpw3sl0/tMlEvKx+WT8zJMLHVMBPP9dIqVdfv08/P/WtiYKJVD9dERRFlCtTPyle7BkFmlI/g1mayPs7Wj/5Pk55i0dfP6deu5ThrVk/Ycfl1LEvUz8q96yxZ6pRP0HED+sSXU0/aDEr8XY5Rj/JzK0LvWZKP9S+5Zam2FE/5+aJH/krUz928/3U4e1QPy1KEFnAHE8/hqi1BFMAUj/LK3HDtDxVP2HlkZXUkVU/778jWuEJUj8yoQTSR0RQP4LIzbBD4FI/St1AJrjjVT8mSAYtjfBWPyjoc4kT4FE/0xQNHlHoQD9kBDhJwtQhP1nGN3oPePQ+yQzqRV7jRz4pC6UAhz1yPv1bw036xI0+fYyZW2H2mT7/9RCUDTeYPllYZrZksIg+1T9FZP7qdj7He2kabhCIPq91Y/Ult5w+cEIVV1YiqD5N5ZY8qfvOPqmnQMshuwI/KqUmwonnKj8/kpu3wtdEP8GIilgkfFE/czH0GwcpUD/QufkBJThBP5EBwAsRCCw/5/wcjRUlLz8G+rBh+B4+P18mLb+l0kE//wAWiitbNz8bI/D9mSAmP9EPpdV6RyQ/DTysVJpfLT/ALLaWwUM2P8JLhvop7kQ/1BM46u2XUT/lDLJmwkdUPw1gWx5h3VI/wkw4R45QUz+vnGUrns5QPy2Hmo4t0UE/0p79pzxAKD//pDc3FlwkP4ZE79UkbTU/Q6GM5RcfQD8MY/OrISxFPzPKoGw7vU8/OT25r+lyUz9XysxVqoJRP45gu7SasVA/KaahfkM6UT8iyYImhOxMP5bggXJHYkk/ly3HRFoOSz9wkTNsLDhGP1mfwmCCDzY/1TEdElEsHT/UgVOcXsEgP/MF7nU4wDw/fr6qkFEBTz/Mp95SeBJUP+ep3JP3zVI/WHklvkIVUT/bsKpdOgZTPz9xtHR4tVg/fuO6AtIgXD/YvQ7Rob5XP3TEr0vF0Es/JyvkY9CVOT+iRFGqmkE0P/g2DP6UUEE/b49cV/vXRz++Loq3tsNCP7SiXvgFYzA/D530x7IZHz+QaM6yApU1P6Xoye4izE4/pfX4kzzDWz9C0Q0e2bxhP26z3rQSQmI/ysidcAauXz835ATKTF5ZPwVu9YLY1FY//VihMoIrUz90NGU7bFVFP+MwxXmo3yw/gRqPnF0iID+hKHf9mM43P+8gy2k/6ko/aV8ybgPwUD+tHDCpipVLP7roqh4eS0k/taIScEPgTT/fUbeOTG5OP3N1ovZxk1A/RLErkysnUz8UGxqmL/1QP6MKb8RRzE4/9TNkrCkoUz++uXeunaBTP/50YuzjCEw/dLAprLUHRD+SB0d5boBFPxAeSOLTLE0/bfuv6l7QTj8W5/t18ztDP+9yeN8bOyo/Tv3+MakzAz/7tDoMWBLOPlRezIB8K4k+ibnV/OuDNj6sPEBLTobVPSFPK6rG/WU99TgiEwID6DylWPNs4QRcPNpzpYOAeME7UGB33qlIFzs77io/4pRgOr3mzf9ePZk5L0Jg0bbENDksyjHQSNr8OXs4zw6Fq7c6MLP2U9OkZjvf+Qz6mtMIPJHP+ziQjJ48EHSOyA25JD12Wr3Gnp2ePbKHMV78bwg+I4dAMFf7ZD58txRcBFSzPiu9Y+5tE/M+5MK0lLonJD+94u101clGP2etCOnKkFs/qLEqoqfVYT/AWldRWK9YPygoM68RRkI/KwdJX5EqHT8c0Z6n83H4PvD6+DB4whY/YZKVWJSYNz/t6bIpcfNLP7oxlrk1+VM/9Kyc0eGYVj87COR+PE9cP+7XDf9PRF4/iWRMDzCxUz8U+I2IM/c8P1U4bmT+oiQ/UusUixpuLz8BvNkOGhg5PxlPSOM6WjY/SzwhMnRSKT9Hxon0qvgsP08c7EJRPkE/qOMItTGBSz8V+joUbTFOP6oPnhWku1E/ViKhZjpIVT9NMv3CAuNQPwUfiqnoBEA/o3ZPtZhGMz8BRowvBPdDP8D+8eVLk1E/+2pEfiNwUT/9Ils+pyZEP1WgvE7drzA/kxDPUTiJIT9I2hY+kzExPwI0d0KqD0k/slmzTU30Vj/qRkJ3JXJYP+ovZfAngk8/GtOqG7rJPD8NpLDcD8kxP2JpdiSHiUI/A38XZXqpVj81fS7kObFgP34xZx7mBlw/QFGYBL0ZUT8BzB590etQP72WChpyrlU/3ecHNbhvUz9ISlaSyQtRP8S2O9UYelc/bBKQdk5ZXT/jEVxlh2BZP5ZogNYbmVI/7UxGs3icTT8rfMfBH3ZFP9llawTFLT4/831i1NYkQz8u25P8381OP4T1BnbT61M/vqE7zce4Uj9troIT8DlNP9oolhiiN00/cQNH67nvUj+AQpPKKvNVP4uVdSfI8FM/g1sk1jL5Uj+BhWsLZIVVPyrTN3AxRVY/0sHJusjTVD8ftDp8qXhPP4q3R6xHWT4/EhT7vrKQID8V8u9SjsDzPql29whyHyI+3rv6jBytSz74h3+5xpVmPvAkXz7ptHM+7HtAKlGtcj6ZwjuuOZBsPvPrATEnR4c+1EN+4wZeqT6iR3UvSy2/PuwhJ/LQ5sU+lds3eFzl1T6m8In7KCkEP4e8CxJTuCw/YZLPuzx2Rj+FxP+eUkhTP4pz21jDvVI/sY4Fdu8ERj8eTLcLXLY0PwF+DKpppTc/IYe+xRBoRj88MS9TqGlKP7q8/+hwFkE/AOCr9plVLD/Hxw3qvoMhP/REOQUh/yQ/eBJFJ6C8MD8yjUMSvmJDP9CkXVcyQFI/hlSq/eNoVT86G/CtyGhSP1Jt3FI+wFA/o6MDb8/NSz+ie9Drv0E9P/TLpvWVGCU/4mySaX+AJz/wQPqvz287PwSbgqFyv0Q/mm7h/CmQRz8yGscxiRRNP4KEGqLHjVA/F06BueztTT8UFcbTFYVPP4iV2XRAdVI/jXx47BeAUD+wN7HPWx5JP99T8quiTEQ/3U9PWJ//Oz/Qdvibbk4pP8RQSsJ36hE/Xy0hbwRqIT8e1L4dqN8/P/D4yGvnGFE/s9XMslQeVj/f1qtbjnNVP75bc8nBEFQ/7y+skqTwUz+Hh+Zer9pWP+BY5hoRV1o/KlaF+sKwVz8C75FIN/JMPzjw5tZkrjo/9nIK4EwJNz8G3/7xfEJGP2wwEeQGuk8/7hZTvwkkST9TiOo6Qto1Px8vS7WMKSI/pAN4AwnMNT9UxHW5nGpOP9i32KGkqVo/8j0x74BmYD+zTo0CrWdgPzriUA6DJVw/+NfKoquKVj/Ebt6OukVVPz+sjU55ilM/8N16OMHSRz9Or6aWDSwxP3Uc8ipt4R0/i8cL8+plMj8MBnhd/r9EPy/ltuF3o0o/i2KwUcBFSD+uVbb4dh9MPzBlMpgVHVI/8PmgMSVJUT8tnKVFSZFPPxIEcoRAqVA/rmlJsRHUTj+BfckDoalOP4f0uA6IB1M/LkfZmN1wUz+31WLR8ltPP9/N4dx0uEs/7s5/UPwPTj/05Kzf7WBSP8uivOTuhFI/4CDQozDaRj/W0XeBqRYvPyCWEigLvwY/20BAQznP0T4itOGx8s+NPqLQ5xMDqzo+kUl80Zx+2T3n3eNqHQxqPd5fTtq9cOw8GaR79+iXYDw0ilhXZLHEO+9ZZnQFlBs7iep77cmjYzq30v4rF+WdOSk9qPrErlA5XFWHwJ3SEzo6c88fTKbKOm4rv27Ro3Q7qrOyYBiyEjw+PWtepNKjPDRYT8VtRCg94V0roo/MoD1jRBWK8ssJPsK9G69up2U+VArPUxmwsz4GvJ7c9kfzPtENM1ZlRiQ/EHbpYwfaRj/AXJiRUJRbP5qn9n+8z2E/xdS+EnWdWD+DfIqRNTJCP2ua5y+18Bw/88DZH3rx9T6u7iJTQjcUP3oy0G8dwDY/t8MJLCKYTD+ds+CBPtBUP36oP97gxFU/XIx0iDexVz/VlBZI16VXPyA8a3kGCU4/DV77F/GZNT+rMWUAFE8aP6lDSTOalCA/H4SFTbYeKj92QCGPzZMnPxAha2pDjCA/VzwBZ2KUMD8Czp3/oe1FP9qURpQwQlE/Bbo5H1NGUT/2UTVIechQP/7pClaqUVI/HN4VUtc2TT8KaC7uCOY9P8EYr8LTezQ/LuozQWA1RD/wClk3BCZRP6q/cRHsMlE/cW04JS0dRj8hAwkhSfs3P2uxIquf+i0/CAgKjnnYNj+N0J11xMRMP6v0/EkHFFg/Kf0X+aCVVz8wsziYnUJNP/Kp/3YKZT8/CAsZ88R8OD+B7dHibTZFP6q+8K6RiVc/d5PkCAH8YD85DYBcnodcP80c/7t/tFE/p/HdEW2EUT8qeapVRgZWPzLtlERNIlM/41vGIrJKTz9c+nt2FxhVP/kbVszGSFs/8ZfWiP0MWT+qsW9p0AJTP+/XdMMnAEs/Rjs6lV4SQD+imtSODEczP2v3EpzYazo/2Z0F+scmSj/JNP1SO8FTP87alaI1U1M/vU443PKPSj/6Krcy9lVGP85cz+rc8E4/TCqQPs3LUz/5OuLdhh1TPwNcTpF1KVM/oNQIMn7+VT9QDG3inDJWP0veTaCvgFQ/ebTtVJnXTz87qtVCcwhAP+IbTh4OSCI/isd2JI2x9j4u1UZJS3n3PWhUQDOW7CE+2qZJyK1DPT7NQNJqU9RJPq8MJyg/qlA+dr2EjWiqdD6jNQ1DsKekPrR4Fe2wrsc+H52Xbrgm3T6peQVyE4jjPj1ocwGmPOQ+5Mc2BRdTAz9HkpsqvGgqPxfCPUS9CEU/8c0xbIDfUj9p/SHdXwNUPyMg8Dj5Aks/rmwncGUDPT8GMR9nHmk/P+uQW/g3i0w/4xS3TMa/UD82FTwiz8ZFP8bCqf/t4TI/0DrGVx1lKT/22DDRSWMrP3yCe5fDDTE/gh7Zp3x0Qj99Z8hmatNRP3hpqsY721Q/MbRZTD+BUD/QcEAeTN9JP5xhHOB9+kM/I5eC3A/oND/XcsAByNkhP9zOGY9TaS4/YlcFMNfcQj/o3dR8I+FLPxfSq+OFGUs/DRX4+SScST8wSrS3OuVJPzdZPmEkxkg/Rp2Ymy9aTz8UTcTo9fNUPzNNuQIlO1Q/f2eMlpSWTT9pAY0Rw6xCP1X857o2XDM/K7QvKwrTHD9Qge5M9VwGP/pdnpVFZSA/AYCgpHzUPj+Pt+b3rp5QP0F0QOoFIFY/od3SicEuVz+5laFg1eNWP9NRNJkekFQ/iOr4mvbAUz8n2xTYoAhWP8zPMeXi+1Q/MiPBvbLwSz+sd3wd7bk9P7H/RYaZnTs/HkJovTq/ST+d85YpWjJSP8gm6uWH00w/uYXP6hwAOT+erBu62b0iP+dMkL//AjM/Q3p+aUHHST+Ede1EUABWP40odYWIGlo/Pe7hRcxpWT9f7QcKe89VPwiJs/PdblI/LZ/Zi6fHUz993rlQClxUPws9EmBuzUo/Fbxzc5Q4ND99Ky9U+pkbP2fpEbLYxCg/wmD4bSlwOz/zis3V8B9CP/itkr5BOEM/vdHjdOLISz+rYDleZwFTPxijlPbOR1E/ukSgH93mSj8WAK/IefxJPzrm0N//tko/3vEOZHtlTj/4NIpv7CZSP5Hg2RTt8FE//mroZa+VUD+i2QE+aopRP4anddtvo1I/fD8hkecwVD9PCq92Yh5TPzVp6e1tNUc/9F1jNFt2Lz9LZ8jjywAHP7Lu5O4GAtI+oNBrlsIkjj7Zs59K1vY6PoXjiMwXx9k9xdUfOCpWaj1ZgTEnmMHsPDawWj0Vx2A8FZxkHTjsxDtkqFYVbOIbO6dX5iif22M6ho5JACc6njnoUcMeIDtsOSIREZjrmy86hFadx+ZB4zpugxEPatKJO2hMcK/fYiM80A+otFClsDySBtEeIKYwPUQxvxzJhqM9xsAzv0udCj7PG1fW0qxkPs/Sbnzz7rE+/Oh9ydMV8T4b5kUDeq4hP9GLUWhVvkM/fWZCVKCxVz+9tLXHSH5eP+4hmpprBFU/D30jv0UDPz9ajQXSVZwYP/UF+Vr9ivI+yIQsNA33ET/cCkLyJA81P1/fACThHUs/DYoM+4OrUz8ylud5Pf1SPwKz2MJQuFE/OAKlT8M3UD+UMSYBnQNEP300AfKsNSw/kdouhMz+DT+6oTrc5RYOPw8FzBYOPRc/1oBe5daqFT/M30jwiRsWP3Avsbi2RjE/qN9XjU7tRz9Fr6j4kKhSP/NGdYIajlE/Z0bC1jD+TD8MkpruYL1MP9omlAvl+Ec/xVPabMZUPT9Laprl6r03P8JT9/XPGkQ/iVNr5p/9Tj9b6Fle4mdPP8kt1ZPgH0g/4c0gGkylQT8xNUl/3cI4P3mpoGH4Dj4/MP1/ZzMhUD9bLZ87cKBYP23OSgapc1Y/b2XsQWCITD9QSk8BsdRDP1drp0yMukE/ofH9kDMyRz+a8Ez0yi5WP0CcV7tYql8//jWi5nCIWz+4gS+MWWVSP1qu+GbLw1I/BJOKGWQKVz+YSlSDaIpTP9/KTu4xu04/Dc4+0R4vVD/Do2yFV1daP+r8ZTUsilk/VlESYdC2VD/gEbvKPeZLP3hfiWIwYTs/Uoi3kH1oKT9eVvwtDmcyP8R3eiSVCUY/COX/J/BZUj/DP9sWdDZSP+hJINV820Y/NN7kawEtQD+o+3hFiQ9HP1Ykpwa3lE8/q7Rbo/jgTz9LK2D0i75QP28EP4Cm3FM/2vbGbV0CVT86d74K5AZVP2kCk/LSdlE/q9O2yllYQj9LTkVt44slP/M7uMCHYfs+trrn9JX0yT2NUQK5+9LzPao3KzIUURA+d4I/u2wnIj5fvfJeTt1QPsXkteuQso4+BXw85cNzwD6ruMUAcPDiPvhP3IR5Xfc+7LxGU+EJ/z4dwjVqS474PqrHomU5TgI/ynEB/RYtJT8iYw4SUGdBP2ioRTfv4lA/Xpi4cptmVD9T9qhgKSZQPz+dAkBjH0M//xe2ib9hQj/5CpmhAy1PP7vAAgrWKlI/2R1dvS0LSD/MahBbdW84P9GtqN05hDY/pBoF2Wa+OD+LdmqeHAE3P9XQ8IPhXkI/zVfgGsgIUT/lv8inxMRTP4BDFTDZ9Ew/wR3fRfHpQj8filpgySU6P6o2YjoImys/SYhhN63/Hz8u/cnuCAozP1ZSameN4Uc/nLS/0I1MUT/CmpbZqplOPwmgzWkaHEc//7Wjv/dTRD8FWy8jk/NEP3mwS0/VWk8/rJewQz0mVz9WyIsQXH9YP0zjZfYgDFM/5ivkiSAPRj9TKOHAvtsxP1XpffQp4hM/yGvWK8T3/j5g5eRIjZIbPyZOuzZyxzk/QpLK67oHTD+hqu9DzZZTP3D9eavH0VY/wYyo7O5mWD9F1AozbOlUP0WKfSBQrVA/CQOgLtfLUD8vJRKM5dFQP9p1LMWwJEo/APlul0nUQT+R+Vvpw59AP/PIsNoCcUo/XNsdmT30UT8XgTnZ4lFMP5Ef04Mmszg/uKAnLsG0IT/VvKyfLn0tP8MZOOO94kI/Vtyy4rs/Tz90XK4ovt9RP+YyociP8VA/a0rG0hySTT9yPDVmRD5MP3naNtJ5PlI/n0fyxlnDVD+KfVpk27pMP3ZXlQ2beTY/HPd2BGWsGj8E5ODOxFkeP+bnHNzuXy8/c+SWIOqCNT/vfsXG65U7Px6+YBd7KEg/Re9x2JE1UT8UII1a4kNOP4+fhrEptkQ/UWXh6yYMQz8y+pbk9AJIP+Rys8yf0k8/PRq4UiqmUT+ZkvBDvhlQP39CPnF2oFA/uO1k1O/sUz9J36EF7mtUP7lY2kK9bVM/aBp+9Kb9UD8bPcL63ShEPxfvg4sWMSs/T/4rgzDcAz/V+I04mhbPPhtGTXiyBIo+yZkWMRxGNz7AM9cy7T/WPXYDG09qu2Y9MzEjSxHS6Dy7yEtYfvZcPOn1czInD8I709WHbHARGDvUYxgv3SNhOujf07NTF5o5u8VnVRW6hTkkbM+/QPBHOniWFXaiUfw6nQVnPU8LojsQrHuxZuw4PL5WtLDp2MI8RXZ1D+6yPz0zd/QTVUCuPcC4yMg5uBA+Q1vOnpSpZT7HVB7mVmSwPmoBSSDPf+w+P70fsYzdGz/0mO/mURY+P4iku3ajtFE/PRTfxsqHVj9IMAoBatlOP69gJ+4cqjY//zIZPcnxET9PWATrEIXsPnZlXNXd5g0/jRvWILCzMT/U057PA99GPzsdRT8MZFA/hN34kkeHTT/1GtwOPKpHPxQ3BhIWhEM/vXoLqNNDNz/8v4jaUhcgP+k+NxgGnf4+Q6uQjCCT9z6NFFLvVLMBP2l7mhwOzgE/xnKFRpqjDj9jpNEF0aYvP/xrJQWhVkY/t2imv8xOUT9+/WtJUj5PP7xdzv+svUY/VHlWANJDRT9OC/M8EZNEPyUmrq5MB0E/m8SI4vEzQD/xQeF9EDdGP28HvxNrv0w/VBPhj5vaTD+mPl9zvWZLP74r5wLXREk/w6brnK+tQj+zY2CRuwlDP2oInSHPplE/FiqqeoDEWD8y8nLL6VtVP3YmRW4Pb00/1QgA/L9QSj/xh6bxcd1IP3m8w8rmtUg/Z2TQpc9dUz9C5V4L88tbP/s5BaRlO1o/l/s+SE3wUz8OZ6tWkW5VPxWhQ6Sbr1k/KnASwsJqVT/a9lygDnhQPyP6R22HrlQ/PieLKIdwWj9yfdjijnZaP+yS0EIJv1Y/BaJB+RJdTj8grR+OLoo6P7Tkym0rQiM/fLZ5ThEdLD/6JWwUX+lCPxwOhVSLOFA/yUyUVSGwTz8g+py2pH9CP65HEBV9fzY/NrJWclQJQD/u8vZTke9GP/TWwvyiuEc/1bFYyFWPST8Dn2+Q8pZPP1BNDZu3bVI/7obrSuToVD8u63udRp5SP881b99lIEQ/RJ6VP8n9Jz+qeyF0IMz+PpJ4W+b8gJg98juOl2rTwj3EvG/54WXiPTO0JhDbXBk+E9KiLZ/RZD5F6pMj29qkPgLoM6bidtY+ZJBOkVnu+T5JZiX/Cg4QP2J5hCYbYRU/4gcUQSh1Dz8zaT9tel8FP4RF1iAIlB4/DWWa7AgqOj9wsF9QzKVMP1BZysfKSVQ/+V4FPUCVUj/sKGj9+2NHP1rkQWQ5P0M/aNmakElXTT8ggFXwtOFQP0nvgwUILkc/YkT0/K+lPj8ku7SvhmZDP3UgkQKrIUY/jVsnnNJ3QT/kF4CrU9BDPy212pkN0FA/CnwzsAZgUz9E+s6OPu5KPy15zDW42j0/+dusDmVhMj8chIqvePEkP3yMIylqUyE/wqO2VvssNj9HLEcoe6JKP68sdsKa81I/0661mNxCUD+WnPPS4KxGP9BsQCLZyEI/ARJ9t+rVQz/GKLigYddOP1nAbHyr+Fc/lEwVXuodXD+Xwdp4wVlYPw6EzVKQ8kw/d7LhZ9pjNT9CFFt7DLATP+Po3EvTvPw+qRPESx0jFj/2SCjSGu0yP1twKw4ygUQ/aTAJeJCaTj929TKVRlpUP142e7jmOVg/s+KaGa4jVT/BVt0OkTxNP9kp/jiHeUg/ro48sEmjST8EezF/V4BJPwqvSawd1EY/pO44FjgMRD9byJKeLI1IPzEQsx2fs04/AUcqAiIMSD/mc6YBSKU1P0/HK77mICE/YkWj18bVJj8ifcImS9Y4PzP+ncw5XUM/RKQ77545RT91f8z5bZlDP3vODHuB5kE/0GleXX7nRD8OFHJvMV5QPyqoELwa5lM/zrMRtyVlTD8mWnzr44E3PxTpYFKepx0/LJo/Wp7TFD976yK6emMgP9FaZi48tSY/MEOU/t0CMj+0MkfmGGpCP7ZhQTu/BEs/ena2XHtTRz8y2OnhEFc9P+LqJ/oqKTw/Gu7vP2RaRz+JpIJXI29RPzFmB2dm3lE/MDRg9z73TD/k5KhbdzFPPyy5Ruqn/lM/8ACb9t2sUz+bSQs0H3BQP8ksMe71Eko/VCXiglj6PT8rdfussxIkP1LaycMoR/0+0P8pWIroxj5qLOUP1iuDPhfgdSAXJjE+NBDaYOVk0D3H4TId4r9gPdQLEMfTSeI8mDS4kCxXVTwtzN2d5Zy6O08AfdvkuxE75Ajb7ClCWTrUJ7VpIDqTOTJwoYf3BZ05Q7z41SDZXzqZISgaTrISO6UOwLuXgbc7Q8Eq5UqyTzzDLMcZUvzWPOn72dXxBFI9NP/aaI7Nvj3LRVp4NxgdPod0DPRX8m4+q2qYXeTusj6e7UQ7chXrPtBSmRrSsxY/k2eXQEQFNj8Xv3+3BTZIP6ggVlyek00/5wBqwgPGQz8yV8zMpKgsP4x3h+b8jgY/wdh+RAt55D6lhrWEposHP0354zVYIys/l3ufhvstQT/9+hjmhw5IP7mGUoc8XUQ/XMdEkxc6PD9IfRQxeZs0P2u+7xx2iyc/6JyhlM/9Dz9txiUL+OfrPg/2IMy3C+A+GWeYv5cs5z5OYQpzLHjrPgnitkcbAQU/Fi+SOnkQKT9RvDGZB9NBP0y9TESigUs/+qdiXNs0SD8bIlmvYXFAP1JWX5VfXUA/HX3HZbPwRD91N1MAnDpHP0CB45PVUkg/wmEV3QOWTD/LfBkgRqtOPyDRZmdIOE0/rgxqOFMZUD95z5ce9r1QPxhdrUbT/Eg/Zs8zitBlRj+OqMQEbX1SP1R4Wq/KXlg/PaUuvl9zVD93WGeKun9PP/HCgW/aulA/qnnxQc/5Tz+8VHK4U7xJPzKVjuV2KFA/RqkDX3XTVz9njzvfGm1ZPwR7CtNwV1Y/ee0XPP02WT+OiX+EraBdP8TP6kpphlg/17yjl5CJUj83SD7CSJ5VP18W14T1UFo/Jr6nNbNqWj9IfbPdY21XP07+setWZ08/9LVK/xg2Oj9bcJdIWBAhPyUoJCHS8yk/ao53np7IQT8CHrxiWVVNP0ZW3NPLFks/sZJCdERMPT93YtP8FwgwPxFdJyxULzc/nvvEuCn/QD/QfSJcXD9BPyE70AX8rkE/1sQBnB9HRj89IeEuD4JNPzDkX6OzD1M/z0DjGVzuUT+v28ztT7lDP8c3kBtarCc/Pn3vpmOC/j5nimz5idRjPUdUBYauSJE9Mkv+LQmg0T19FB58kcYpPqEpDoAzHng+2y2dFStPuD7QSvleRELqPhWvqUGTbQ4/KdLZD03xIj8zU+S9RmcpPysGfvh2gyI/T6oZvL1DET+Cn7slGpsVP3QrkpwMjjI/nZtTjHaoRz9yzUrQh4lTPxe9c8uvBVQ/xd0BZDRlSj8NRzsS2qdCP4hXqa1FK0g/3iOeo6MGSz9R7bt7bOVDP9e9K+LKxkI/rADOuxZLTj8/egfgPb5RPwVn66q0/Uk/uUe0uM7CRj8evyXqQVZRP6+ADx1a5VM/zJzDNsNqSz9w5SNy22Y9Pw1WU8LGnzI/oAH6BpdHKT/52kpNJZ4oPyCG6GHsFTk/SPG9N/xYSj/x+QJsmSxSP1puVBV/808/5pOyot2HSD9TWcwMFT5GPztmjrhLk0Y/2YNZhFTFTj8MFJDmsIRXP/VOHncFb14/k+MUYGNyXT+OhAUUvYBSP7eE1dJKRzs/lVNCa2GhGD+EKtLB/P4EP3xPY1yekxU/BOA+cC2MKj+Kxwwqr5E6P8fPbnmIXUU/iJczj+W/UD9oj4AiqN5WPwxEKjhkf1U/RVikMbfoSz/ZAKyiFohCP0SSonMKHkQ/mUhM+/DSSj8XqmtTsldNP+IHKdt85Ec/z/Oxr612RT/fgmFQz1xHP/S9KaEgQ0I/3z6PunNZMj+qltCxGKgkP4FgMSJ6PCc/+qRpGQ8WMT8nhbAYEIs2P1CkvaHL9jY/YbXUvp+tND+N7FoGCPg0P7pECy9f7j8/AR5c5ATOTD9keLE/nPdRPw/hhnUoYko/lycb7qzcOD+u5RBrwUclP4A2aEwcqBg/R8+NnLOEFD9WQsEbLfYWP25Q4HC0pyU/xoW0vfoAOT9iLYQlIfNCP/wGiPXkeUA/JZXzGbM/ND8KD+qBrFY2P08uDIWVdkc/mzsfpkCqUj9xd+PQyg9SP5KL40eU5Uk/PMvV1tXMSj8HkC5lJIRRPxr92d9YlFA/RTBx0BCFSD/qH3buOlZBP/k3d/uMGTM/J5UZls5RGT+xQKwZAG3yPreAOnta0rw+NuriyyUeeD6TagTptpIlPrxodleon8Q9/SUEXx0SVT0d6hIGsQHXPPGTCSOe2Eo8iOlBFke9sDslFDYBJE8GO0/ndlhexk86x8T1je4yiDleqrOxZ6OwOeRtEQhCO3I62ECQvO5bJTuGJhyNIsLKO6IDum8C7mE84UaYX3246Ty0LWht6MVjPX4+rpNtVNA9/T4UokYYLT70nVSNXCh8Pi+OTbSu8r0+oWLZJJTN8T79fR8rkSoYP8nngeDaFjM/E9yMwGmxQT8smAj4JxhDP09Up7Q+izc/1+KZLa09ID9zDD8yVg/5Ps+uRo0xG+A+iY9v6sNoBD9NhB2lLTMlP7HFIH5gzjg/OzvLVzBRQD/Z9FtNU4c5PxLBOiSoaS4/N1Vt+tsrIz9ZG6SINMEUPwy5mO0lvfs+31Wvb1+/1j7799eceDHDPnM5jYuSUMo+lnT+pFs41T6vq6Fjx7v6Pla8rPYVCSE/qXle8ZFPOD/zdDpPwLxCP6RWuGZVZkA/5baMOXQfNz9B5uLwjr89P/cUw3JwK0k/JGlSeVlWUD/Um3b/udFRPwp/BsitplM/c0+3tQrbUj/FKNApXadQP4+0hpgu01I/AhXUDVIGVD8wh9dbj1xNP/e5mZws20c/n2+CBxYdUj83QUe1rChXP0+4usqlulM/mzsUiyP/UD8Th/J9+oRTP7zVuCtvZVI/bc9y5+zqST+bfhqOfrZKP/Y6HIhje1Q/zOW5mUDaWD/33LmVLZlYP03aHqK8xlw/WG69NPi5YD8C7RDlpudbP75uKJmD8VQ/P70W2e8FVj94zksfPK1YP3SIRCZ5JVg/kXc440iPVT+HqhpXHf1MP+vawCAs6Tc/YlvjarBhID/3zjVruagtP0sGO45wmkM/5aYj08DlTT9eczcud09JP9aVLQFfIjk/f6yiWYhAKz+wEYHVFYQ1P86bt1Tp1T8/ysuoXQy+PT8YezsXJag4P9AIN4Z8hTw/55DJJ1NaRT8xcFF1bdpOPyziF0UCLk4/OFc0CQXGQD/O31vx7zIkP5hzdLaNEvo+V4jw9tMALj3gjXdM9rZ2PS1UVvC0It09OdME2EByOT6TzKYotP+HPkyDxXJRQsg+PKrvgoxO+j4QpQ3FS6ceP1acwtm+OzM/mDigNpUSOj+1TaEUJTEzP4F/Ja/rFyA/oVY4kymlET+4SMAyUbkpPzGuWcN0AEM/vpNOSZ68UT/NlWhtI9tTP8dhvAZlAkw/7WGxfDICQj+if4wvXElCP0dTb7df8kI/1+l6XZp5Pz+wEC3KJkBGP1ahdzQAAVU/+79XJvwBWT9N/lEvea5RPzCSGVnH+0k/iGneK0nGUT/jgKUkgltUP7OOoUGmGE0/bDkQ8OnLQT+ytXTnnzg7Py/fF+gSkjU/R2fH4aMKNT+EXZuvSz4+P22mPmmYNEg/pFMH49rqTj9M6AK9sTlNP3Bgg0aHJEw/jxxCqi0TTj+/nKdIV7pNP2xGwxW8mlA/7U2D0GzZVj89ZzfoX2dfP7hJzLvrkWA/UnfNbgjfVT/Gmh5Xz3pAP/bumAvROCA/BiH2PoJoFD8VPLflRD0gP/VAfymb5SY/65ZVigmZMD/wJXZ3kZ87P3hh9V3HVko/Zf6C8g4VVT+P27qUYvNVP6HuzveOmUw/irarGu1TPz86vN0f1TNBPzHNhjCX+kw/N76KS6ihUT8DfSe9oylLPwg8W62xq0I/vgQ4HywkQT96bU02qsE7PwqCOU1BGDI/gNgDBjVPMD+QHmh6CpExP7KPVbBN8jA/bA2vxAMsMD8oj2lF2HosP+a8WJyGMCk/DFUKxrFvLj9hl5CGoI08P9zJNwugo0o/xz1q0INdUD8K3Pcq0zlJP/U37YtKMj4/z1SVX9D0Mj8me2H8eIYnP/H+eWTGmxg/9ll8wIMoDT+t4x1cL58ZP+e3oA2JbDA/XV0tACeoOj+cD01YrMg4Pz7kkFRQDTA/l/wzArRfMz9fS7RqBH9GP7sgZd38RlI/zrZC9gMXUT9IPEPkMR5GP3mt6a/cq0Q/k5RopZuVSj/lIsOd8E9IP+WoU7uvIUA/xZvVLDgQND9dM5ORNeMkP0ePZsuTSws/lGwSsInN4z7OjWoU0/SuPhzk8MmV5mk+AeyxAtcqFz5ARjycyiW2PcINXDmzoEY9p3+zHOW0yDz0o22fc9Q8POE6UUrt+aE735BGdSb19zoznI3Stw9BOmo2VlNZCHo5URr8X3dhwDmfk+6/lOqBOiTdvvhp9DQ7Rz7o8rg02jt28YFkf4VxPAf0DzQaDvk8VXaPSkopcz012gMPZl3fPe1k/7Hafzs+bhbuxkLgiT7AJnIn+DfKPruvqZUQxvw+8PbAds9EIT+0UwM2sAM3P0RbUKOQX0E/hi/XxBdYPj9FEC4gIRAvP+UwnaDVmxI/XJAYOlEK6z4gtGK2XjHiPnSbrD8ilQg/gblySuKEJT8TQmm4EVo1P55JRQWfODg/xVwRgotRMD8E1hBnB40fP9Y78heHLBA/kOYPjyZbAD9QHeN9CfrlPhsSfzqK78E+Y4NtqwOMpT7mktW1jIyqPgfu7HLVDcE+poV/oME97j4bKf/xcdYTP39ywkTiayw/Te7L7uQVNj98JYKEeyU0P29maXhE8zE/y79PdLdoQD8MCoXjXKlPP+5l3+M7e1U/aqYiCB7cVz+Cwa/WrxlaP9Gg93T2NFg/vrbb8KA2VD+zNFfQW2pVP9U45ul+uVU//xL878qVTj8mV14DPe5GP0ETFcqUiVA/aCHnCx5YVT/+0rm6iHFTP5rUFEvSV1I/Mr1FpgDYVD/Lg17Q2vNSP+8F6+NeIkk/gdVoqqGrRj+gCInR1KhRP2DsccL2flc//KH6KG9AWT82Z/yhMXpeP/ccJ5itwmE/5bs9Hpp6Xj+fSlXu8jtXP1NVWw1toFU/kbDo4OpIVT8e8/PZY6BTP9Fdpwl+TVE/333l+HI+Rz9kaqYwWEIzP8ln3M4PESA/iwM1Iu36Mj+U8UJNnk1IPwh+InbhYFE/SD4VRJRbSz8tKxMpRqU5P4uQh5/Oiy4/Y0r56lPwOj/3hBwlSuRDP2rkLwLiC0E/d+cEIGSkND8mjTi9HoQxPwe5EkpNwDs/Sg3e4YvNRT+54bEACeZFPyP2GCzjfzg/8j3sVNaNHT8kzQsUJBbzPmhtDPMaPgs9CJQb/YETfj33TzUFhn7oPdF/6dxinUU+DLZLQz5ylD5Ys8q82b/UPoMj9sunoAY/uOmK4oaTKj/sKtJ7NNxAP4PrPFdSM0c/n7GxPVJmQT+2vanJV+8sP1ijyXlhIRM/Ac/g/1q9IT/scqlJgf08Pw71PvnYw00/C74O9HNdUj+tvLi0EYtNPzUEpKZrTEM/gxr2RubAPD/EXcDrCXA4Px14ewJYEDg/34Ep2aTZSD8NuyGMM7BZP4NH6pzX5F4/gx6OJTpsVT+HdkFl9qtLP8AKW+y4/1A/Kv37pWV5Uz/yB5fuMg9OP7Q52zoqDEc/Rp/kFqKBRT9yZlQvzt5CP3z+9Bmff0I/qF6mf5GDRD9M0bNKAZxGP9TD7sibQEg/SesvuBCAST9tcdjjOx5QP9GFxXepDlQ/E+HEnfpUVD9UrU/iZOBTP6xo3RYjIFc/fW38xExWXz9V04a4R09hP9HmECBdmFc/PTLeEHo7Qj97Je5a+yUlPx7EZ/V2fyQ/p7Dn+rMILz9FR8jnA20uP80VrPZ9Iik/ap4PFG7IMT99+2uaXoBEP5CCt63RH1M/1NRVsNrhVT+gpt4z/FpNP/LF99+83zw/VRDnniouPz9GKCkmxs5NPycPNpgo+FI/MMO9tMBxTD+z/Vc0PgJBPwEKFKg33Tw/wL1kJ+VTOj8iOwDtB3U3P/VxnsyZ/Ds/9VdoX59sPj8acx5+5is5PyTQ8rAGpTM/+/aGmTK3Lj8iiJId4VIrP7lhAXsv9jE/O9+qcdxxQD9RGh1bNWNMP8ENXwbnxFA/KuLyiOP4Sz+Y3VA5/9RFP7fMI4pnoEE/tp//Ky2jNz8yBfajw2cmPzAIi64DcBA/VkAnxRhnEj+Ae6PUQg8qP+dsHh2WIDg/aOv09F69OT8suPnxlScyP/nmbvhpkjI/O7EQQh6kQz9WxkVclIxPP4VJd0pn5Ew//ErwFL9MQT/Kp6qqtDo8P0pnlhN8ZEE/lNDeJYDhPj8KeNL3jLIyP8PwNXUpTCQ/lHN2cvKkEz/FAxO6GCn5PnGtUamuLNI+Oq9zjKRinD7a8fbQx75XPs3IgRIRPQU+0hZZcbZNpD1c2kcqYb40PRO6Qp1CprY80t+bQ+1tKjzH672wwHqQO57QD/169uU6ogkUBRdILzrJkvIazgVoOc1lD2Id98s5Gf6CZA9vjjrhBBdeFbpBO5FvK0glGeY7PlZIKnp4fTx6Q/Uk9gQFPVJG7vWnCIA9FL8L1nQp6j0gvphbrtRGPltdGbXVUZU+9uUfHtVR1T5xfmKRMd0GP30ww5vzXSo/vSI+fixtQD9hoqu3dktGPw74SmdrskA/Yfw75M4dLD9JhnuRxzkLP4n+j5z95uE+Yx1Tij897D5n2gI2LmwTPwmWdWj7ai4/EpT5AWkmOj91uif7dP04P8IMdFBUWSs/Z5ZSsHOfEz8852HgIqn9PnBJhE+p5+0+iWfMD4le2D5lUAws6EW5PsZ3XWfdzJQ+H3h5iI2eij7xkcbb5MyrPpM6F6Qyz90+BdXIGhToAz8p42IuxgUdPzewQRGLvSc/Nzd/3bIQKj/mpSrONioyPy4GQN1LPEQ/L2A3DmY0Uz8ksy1ImqJZPziZ+YJpxlw/sw+yZHQAYD9YcIMgDvRdP+67guQ0nFg/vWT1pTLlVz+r+5EAiiBWP1UFt3UEPE0/XzD5L61/RD/fJ4krKzNNP7V3chLa6VM/wnhQvWg7VD9oa3QjeBFUPzA1hRAX5lQ/C2zDO53yUT8kFyYoZSxIP+ljx8YNn0Q/WYXYopMXTj+hlBTMOZZUPxi6lmcHX1c/zMeWn0FCXT8SpPEaql9hPzSIWUCfZ18/Wu70g7cFWT9jNB4tdLhUPyVFrX1iAVE/Lnlg1mshTD+9ggPwrPtHP8w/MNo6CkA/AdOfA6AnKz8dVtgUyegfPwGULEYMRTg/J/LTv7eRTj9lbDFBniZVPw4+7bVUJFA/piaSIFFdPj9smdvrtjM0P5AM4ex+hkI/Tqe7Jm0cSz/Q9J+8oEZGPyM1k1lV1TU/MQoDNnXPJj/MYBg1NSowP1enCjjJrDo/XsKOgI1BOz+5Z6so950uP2ZAAoskfBI/TTCpcQ7i5z680I9caF0MPY9xMIjbgoU9+CKSs6zC8T2JxK/UcXFPPpn8vLSd3J0+6EbbVAx63j48v3c6U8AQPw+xW8YR5TM/Vi5qx8SgST8K/v1TGP1RP7Kdq4/yqks/h/MHNoqDNz/X3ZAo7mYZP0mTlgtrgxg/YcUYqcOVND9Px1kWbVZHPwbTkrNQv1A/Ax1ratmeUD9cqKbIcDJIP4ANmHiR4Ds/6LOB+7hYMD/xU3emN44yP71HcAWDdUk/k7KkMc6iWz848ffiArtgP0jXp4f+6FY/kJofEpiVSj8d35gaQxZNP/i928z0u1A/0NHh9vsYTT9z5lqjhsZMP+wZlmn2UU8/hHc3Xk/YTT+5ccbqK1NOP7eCMRa1n00/Igs2bkZ+Rz9W+S1NB91CP7BivGXDyEU/6d0gT4eHUT9DyXlFh6NYP3zBJy2ipVo/QyxnY0wLWT87zsrvV9BYPw36HGK0o14/+4ywZwrcYD/FUmAkpTxXPw4Aup43Y0I///pFNWUlKz+307jbO/kyP1MqG3Iu6jw/uXe8FXw/OT9fZKSlvB8sP4TRAfHGWik/rMKCoGT1Pz+yjTZdoLhQP7VwOzzVcVQ/assHv8EsTD9lvcFDWIs6PzhPHCth+js/tSvQfPIGTD+9qVlpqBJSP46ycyVmD0s/QI/X3PCrQD+pbSDojhJAP2RSQFcm8UA/Jjyto093QT/A1NVu1FdGPwsV1eAYjEg/zby1dq5lRD901pb3a/c/P0GXq3qOEDk/DaTWxPy6Nj8AT6kTBII8P2gke6q/YEY/aTIiHG9NUT8RKdbA7elTP8uoYtjbFVI/ZPrlk7DBUD/zlcFTdkNOP+8eDwOqN0U/clrcvXQrND+OFgpTDeAZPzvYQ3i+pxM/Xe0RhiuvLT9/zVLl/PQ+Py0UY3U/ekI/WIjFXFWMOz8eiyjsv6E0P9/m1AgqYj8/In9by/avRz8KvimBLExFP9WijkEiETg/uu+rqW7tMD+5orcBkZEzPwEn913U7DA/mRtt/LsHIz+5eZ6K4wYSP7e1tE253P8+fRJpAGjY4z7X9M93/328PmIJ0NuYOIY+pQwTPnGVQj6Yio1h/Z7wPYD4PXJCx489DCEJpMo7ID2d03o+mLmhPIydl5TerhQ8KfvyzALLeTvQR8xeCDDROuEGF6b1ehg6ZNpsyZlMUznGNn1sK1TVOcYgwcT14JY6QMMyMxJZSjtfLhQeBkbwO3n6DCnbi4U8TlCQY+uODj1yn2EvjzOHPaRO/mqf2vI9/PYohuNkUD6bnHrXrICePooepEgMXN4+pYWcsvsqED+NqDvkEnAyP5kfAmG/iUY/5lKK8P2XTT8zQMPccPNEPyZ3SsxPGjA/nUWNQqI7Cz9o9dxrOBPhPhIlnpLGuPY+IBNW1zdWHz/Icn7daaY3P8IkMVkvOEM/KxMjnQHmQD8VJmrDPk8wPwswyKTiJhM/8UsKh+xW+j6sq68/9F3yPrYy/C0zK+U+Adizz7sKzD5k9CTnNr+kPmLYv+AHnHo+duHl7vXXlT66hmdSScjJPrS7X1Oi9PE+dbmiYB+1DD9tIpoHaS8dP8B3aKexgSg/JrHdhX43OD97SWI5tfpJP4l/6K30L1Y/pOi2lxodXD91XSI78bBfP2tLujUpAmI/7fFcoWBLYT9H/YeACgRdP0PAT2hIn1o/SE5UPn9jVj9F8rB7p3JLPxHclJ+hVEI/PP+2ni/tSj9cGNs6QP5TPw3aQ6RyjFY/of7bB7ZgVj8cT/sIl21UP94BavgRd1A/4yRBrzeUSD8SQZAgChxFP9XHUCX+b0k/UNOJiKtXUD++nTYGby5TPwy+v58bKFk/aO2vxfD3Xj971DysuyNeP4gxXAaHrFk/YhU9hFx7Uz+tY5bXnuBJP8Y7ZCSc70E/kWKMPN2wPD/zq9M5RR8zP42EycCHRSE/6hU7pNJVID9n48EChmc9P+RxIGpXTlI/6QWklm0DWT+Nt4DfhTJTPyMpORaMMkM/s5B7hpFjOz/qFWbkVgRIP9F/IcYWPlE/eBlwa/DcSz+MSZebVww5Pzwp6RPwPSE//y5Vs5QHIT+f9JguqiAsP797SnzYBy0/2JlPUMJYID+K41UbBsADP66kOMuKhdk+26jSamA8ET1Ad6gmn6CKPXUDo0yjDvY9V82TH4yaUz7CrnBDgLmiPnHsrDTqQ+M+Ti/kYc5qFT8sMtx+49M5P17e+E5D+VA//FMvPMBxWD/KD+3Fu2JTPwYwVaUDBkE/tkCc24Z6IT/zQEq+NH0RP3pg9Hbniis/y2ZEQWIfQj+d52IhnkpQPxxeGQEIT1Q/Bt8AlNh7UD8uSYYWHtJAP+sv7Oyprio/2blgHWYlLT+voRwTRHRHP4PohyO4HVo/ZHLjygHIXz8SMCS0PZBVP/wQhqg0wUY/d1xDKuvZRT9l0EVYYHJJP6NeEEroGko/vrY34Hl4UD8+BHvyiRtUPzjj5UMQzFQ/IJnD5nZFVj/gioivcbVUP3gJ0KXB+Uo/aFiGfqqvPz+uPGpiBolCP8ydlHNgpFE/Wd7gxt9xWz/Beje6IidgP+wQ8KOb2l4/JqTN4+d1Wz/9DLtW67hdP5LQ55uyA18/2z7vYhcLVT9JBWgXZwJBP8zG1CauKDE/ydLTespYPz+iLLJPmQpIP4fOR2+vVkQ/MfMj1YKMMz9gSZvxG3slP7GnqNzPjDg/1gKDJjdfSz/ZXs9g4V9RP5ejlDWmW0g/zQ5BsqbmNj9mni8nzlw4Px3ZnO9BfUg/FwPV+xNTTz8P7fhvKuZHP87G6K/fi0E/ojIlJ8BKRT9xZOAhtkZIP4KCPCP9DEk/NZrNDgZOTz+ykQWi+1BRP8KUEV2zOE4/i2n9vHJXST89GPC1E7tEP5zxr6IxMEM/bziupzyxRj+Y5+oJycNOP6FeJtB8sVU/dDfLqpL9WD820Cs0EUpYPxHbMiEYRVg/CiyMm5rWVj8E8TR0yXNQPy00sKIUzz8/crkjW93/Iz+Y1WPxxj4aPwR07NDqQjQ/9Mh7D61ZRj/xecs4hFRMP58M0vp3F0Y/3H+o4f/tOj/zFvEbX6Q4PyHiDD5dLT8/0ddG0NggOz94CB+MvkgtP3YR8/hxwiE/gqIhynroIj9aftItMe4fP2nI/S3j7xA/NpW3nlUz/D5sFyEWZlvmPuYP3e9K0Mo+pRscESIUoz48cRnPL7RtPtKCerIR1Sg+F+5Gojw11j0/EVdm0Dp1PdfZrTOXsAU9QBz+pLeuhzwN/d51hKL7O1LDV/EqO2E7ZmUcL+v2tjpXk/7RqloAOm0BxuR1/Tw5+HXrP/BX3zmnIeWiHTegOsf9cdgcH1I7w7m4LdLW9TsRLdFAEleMPFZj3VULxhM9xO6bg1GjjT2ahYbnpdX3PZipIUk1jVQ+adgvZP/8oj7KbeGKF8riPuZobcbg5xM/xlxZytiSNj+QvyDN/GZLPz+Taqklz1E/btTP2sHOSD9vJ7GKm4wyP4gLF23I/A0/IslQM9hs4z6gu/xwtW4AP6HJhocdqiY/xGraEHXyQD9cTqjRcyNLPwlXgKw3Tkc/AZDEiXK5NT83yxZ6BJUZP5X58bckngg/hNU/TwT/Bj8NafRixA/9PnGogOLVA+Q+DViFhrGUvT4SfDyqmp6IPmE/iWq8LoE+l+ZkCyhxtT6kPjqH5dzhPujuuXsAlAM/d5vW2Vw5Hj+C78pylb0xP5TYqgEvJUI//hfYXRO9UD9umBCbR9VYP9DWEF84SF0/S0htBbllYD/F6W50FspiPy7ISRJ+dWI/iTYZOlAuYD87HTcLAJNdP03BvOdrjlc/SvtLt8xqSz/nWqk4FtlBPzcMYj+tZks/FFOb/X3CVT+jIs1PMNVZP2c4Rm6uvFg/glThBXrlUz/rFZYzsgFPP/R7GE92b0s/S8soyPpWSD+OS6TjOipGP6JIiG0omUc/atFsmpzBSz+G/Sl4bjpTPylEgQ6u7Vg/jRAzUxKNWj9X0KQdZGpYPyXmVYJyo1E/Kv4w1q9DQz/9QRo96eY0Pzdefg5XDi4/Kp6Du7KZJD+eOAFBa/MWPyIUF5VzxCE/jlV4oBXGQD93HNv0+pRUP8LHOe+CF1w/eTZIgntRVj/HzdcxJ8tIP8RTIZ9zJkI/24uckS1JTD9BWYeTKpdTP5j6TiBKTE8/Ri7hmOJHOz/KQzHAT6cdP4JIvD5GvBA/L2To5UCHGT900ZN1HW8aP0xrXKKK0A0/LdqkcnkE8j7Jbmkw5UjHPtczOdTWNRI9pa/d7XY7jD2NOEDAXHv3Pc0qCFip/VQ+2k33A7s2pD6ZgmHV0wjlPso0KPcovxc/k33qKz85PT+sU5BRgbRTPx4+L3AdRV0/7IaR90QLWD/fSoHE3OlFP8vhy5MGsCY/Lv72m6ufCz+xEdPxNZAiP/+1I5TbdD4/WPozsxNlUT8tcQSOdWtZP2OQYXTh5VU/2EkvuK53RT8t4FLZ0+YqPxZFMQ3PvSY/q0HklLEvQz/jWB1WgqVVP7s/FwaJdFo/CXt05TzXUT8BLILAUFNBPzaRlmWtvDw/j2UYWPkjQT8n0buPpKtFPzkqW1zw3FA/6HC+fimPVj+tTi6WGYRZP0/csbw29Fw/6pQ6MCJpWj9MvNuaHVxPPyaTbal56j0/sOUGUaEfQD/9MpkXlIlQP45tnIVn/ls/scZ06Af0YT8fkpSSNLxhPxUGn7mdBF4/Bbt9ZvzwXD8vdocV+ZhbP3pOne0v1FE/uCHy2+lZPT+Ygzuej0I1P8lxUChEFUc//DXVhNajUT/sDazDqV5NPxJtqKAd2To/SMS/jnQBJT/WZhwT84EyP+k8qZGo70Q/wH+VLBDxSj9joh64tgZDPyLhzy6PsDI/vaEhxYgJNj9F3rvStcJFP/x3N6Yb8Uo/Pq1/nDoURT8oUymM6VJDP7nte48k9ks/MCWR2ABOUD88jOwlQgJQP8xRCsqo71I/XNLUNygRVT/4UYeagZBTPxa6p+33tVE/4CpjkixJTj8wOXEuUaNMP4srs3R/PVA/OT0sPIWJUz9u+rxf8ZBZP1GYHUZXBV4/6bPX0U+xXj8boAw9fF9fPzBz1jsk1l0/plUM1M/mVT89evkKgIhFPzTQbsYLKis/BHO5d1IRIT/wor4Kz446PyJwI+3fJ04/kr7S+Jf6Uz/bGkkoOHdQP8MkcPBs9EI/63ylKequNT9wsjl8xMIyP9t0i0si6y0/I8myVHPpHj/SL4fdiEYQPx24ihrpXg8/J6qmqE3dCT9jMK9rfD76PtiZWFqLdOM+59VJNp1Byz4XiQ1ZYhKvPhS39npX1YU+XPkSz4rzUD6TB393vVMMPiAEwAekVLk9tjHL8902WD10WNghLL3oPI0oCZgBA2s8AwiK1AqF3zsDpEtlSKdDOztEFileMZo6elRh7zin4jkVN94zCkMsOY7p2+2jIuk5bsAQgBZlqDqjIWoD3rVZO3x+BEpCZ/07ty8vWVs5kjyyeNCPpXMYPYuQMNtyupE9m80drmC9+z1aKddHK2JXPgqjFCGSNaU+tHXTz6Gs5D5HNVF86KIVP5tmw40aSjg/poLklDI7TT/I0dp70dhSP7tLJ1dKCUo/SgisZq9HMz/fFqTWxuoOP+VqU/oZ3uU+EOvcD4+dBD+hU9u5F1IsP3JSTOcfIEU/QHMWFZ7bUD938ATegtFMP6Jko/KP7zo/pt2m6fAkIj9Hp+IuWfYaP5UF/wMErxw/coGBL2ZmEj9fb/SLZHD5PrsvYz+Wz9I+a533NKQAnj7pcixsu/ZzPimXvAoyNqg+dvjeWZvp3T5vy/ZTKr8HP9AsntkzKCc/5NebronaPD/ML90bcrxKPyIvyghj9lQ/PE5KZY4tWz8Qbdlt2+RdP0cmJHEVa2A/GpROzHJlYj+WlShkeR5iP28WdwpauGA/LKTLGVHmXz98Xo3wXqBZP4aCD0qXw00/gTPkkxkcQz96GdNZDJRNP2uJos+f+1c/PrnYujRnXD8oTV9jENxZPzK7+3hBDFM/jW1CuV5sTj9zNegR3AhQP1pFA/M2RE0/GL+eOnyhRD8IgOtu+ARAP2L472K1ukE/gKUj3r77ST+gDtxlFPlRP+53uLrKIVU/Jt+JGr7wVD8qYEZEka9NPwK+oFFqGDw/6CVWOg5IJz+FQ7IF9b8dPxc4VudgQxk/+w5ITd7cFj9CqqT5KkYlPzfWmNCZP0I/s4iXJQ7iVT+xnA4X4SBeP9l4yo3/aVk/Lw4ZfM8PUD+s/qJ/S49HP0lRc0+m9U4/xCSs14YuVD+z3O3T2rlPP/JkQp84Ojs/HdsOctuMGj9+/B81H3EAP03mRn+q/wM/bWnbArSRBD9nEF47Mjf3PhZIjwC3ENw+Jj1zcMsisj7QTz890nsQPXK9dt0qqYk9P/mqYM139T37tSjZaFlTPslPUcLg2KI+VpJIpUfr4z5uEOw3lfMWP9Qqn9Hw+zw/RifzrBkpVD8N7Zs9XwVfP6Ybnc+RdVo/RzH5xXURST+nkpbAR+YqP3RorG/bwwk/lVCJEYQNHD/hsReeTKs8P2ilWjB9QFM/ORjAYpxIXj8UrgcXPJhaP0/w/Pd2okk/BMSYY3HULD9L2D0pJQ8hP1jyIk8hqDs/8FN8S6tpTz+hUn5DXUhTP9lyPH2I+0k/nnx+uJOzNz96kCoFFcgwP0RZI0rLujQ/aPutgiGSQD8EPjQtenVOP0m4HYykIlY/Zk0dIq2rWz/rLamdVZ5gPxltG89RAl4/F52Rx+I0UT/FOVv43Fo/P8LWb/LL8D4/Zka7JepVTj8sUpPvGc5aP2EQlc+TUmI/r5TOaXWlYj8fDUH2s1xfP+rp7wEaYlw/5FUjXQ1+WD83P15pSSBNP8TYhcpAZjg/1o8tQgC6OT9HfZD8ULZOPw7chZ4vHVc/PAwXzxPjUj8s8EzLd9BAP8O1ZxViCyY/qGW7RcBTLT9SL69/3h9APyzpP57afUQ/qWh1l4DIPD/z4t/Xc4wvPywJ/VFzHjc/LOeaRB9kRj/NIZKxcG9KP+MPIuJ9vkQ/SWD7E8l/RT8x4wYSx6pQP0HF19/3WFM/6tSvPnPdUT+0nO8/+rpTPx/IPvBkD1Y/YmcVcbHwVT/FJ1kgO2JVP844F0NiCFM/9sxUc8NnUj/0g0UzrE9UPxmuRfLXKlY/pdmYWgEzWz8phAublm9gPyn1qdYWd2E/IOg+5rTEYT+bMo6R08xgP3qE9oGr/lg/uMCcJ0TzSD8VKXPaxLEvPwAKQKfBmyM/0m4uwNS6Pj9OjF/oGehRP3SSCoDj4Vg/WZhTdhDsVT+rhuxQ3NpJP4ZrN3AZyzY/dIvs/L8DJz8hTUAubisdP69MqrzyQQw/reX4iC4M+j4BI2En0Fn2PuNGAGDT9vE+r1yC8sef4T7QPNEcwanHPuAS99wW/6w+mF/0IP7vjj7HlvdeLFxlPqNP5uBjhTA+UrKzZiiW6z3RlaNwHKqYPUVNm3qokzc9qMAGGmMWyDyD6peq40xKPD+R5LCHsL47kpLUYsYiIzuRWLYVxYB5OvmUBHN1KcI5DKNblfF+LzmfSBGtaZD3OTyE/qkRarU6Dd5h2ccSZTvgqisBjHsGPOGh//jMBpo81FAnmYZaID0OR6y9WE+WPU2l7jA0gwA+7/gMifV/Wj6F8iO7pAanPts9OZezouU++Hx/uIPzFT/DSkFDhQM4P4NmbVNgSUw/7BqsMtvqUT/69+zi22RIP0Uzm4ve4jE/WtkM6kMvDT/dYwcRSN/oPplruTrxiAY/Iz8rDT9TLj82bUHWDZVGP0/Br7Y3A1I/NmycFHzWTj++gTYvt409PySBdP3IYyk/jLgLVICLKz+LfYQEBhovPyXC+ISbBiQ/dRtZFT2yCz8dPqfs0nzkPjLBT52wZrA+mGMDKT9Nez7FzeGCaPKoPrBXs/r3muM+CtNRfpu7ET+Y3F+DWwwyPwaJj6ww1kU/cpwBvxkrUj9f52C++6ZYP3JvmGI2plw/3sVCLh0aXj80wL3u6htgP8hCVzxnA2E/G/tBRKZDYD9YIRWjlHRfP1/Ejbk4JmA//KyR8INxWz9f120NcoZQP3whjZfkzkQ/npzqGDjxTj8o2RexQ8BYP5xbeHDLb1w/Xm3+tDyYWD845ohY2E9RPy48J1HT1E0/Nx4+B5sAUj/8ceogn7hQPx7uB6q9B0Q/u25mBVGhNT/CwrU6tC40PzrLBrKi6D4/mCXoUbkKRz9RVgqiVPdNP4PA0m2tvE8/6FbP8px0Rj8dGDyYgYIzPzYjviX1Uxo/hYcpP9CREj8+oJcmDt8bP/FFzyMl5SI/9PP4KUKYLD+pbDEgjDpDPyRsMIthMFY/HmDDAksiXz+UX/PZkGNcPw2RLar2YFQ/vY5+oNUCTj9RWQNTqJZQP4Oxqk3y31M/VWyrC+JoTj9+TmSNCqs5P1lGBPdTxRc/r05M+P4J8j64Xu3xnWvrPo9MyGN7XOs+wTRzYDTe3j5TPNrPAanCPtbR/6AJHpg+1QlvNjuVCT1dpfFW2QeEPQWCGGXJ5fA9GAGY2izQTj40fIH+nHyePthviFXzceA+SD7+F45yEz/6u/rRcFY5P8Qk4mX3QVI/LwdhuHwqXT+gAYuhi9ZZP42Cpq+vgUk/SAaXFpNOLT8FQA/C9D4NPydSc6epIBk/yL3Hj/taPD/HvfwGNGhUPzR9yKGvZWA/+/sPA0TCXD9cy9ZAcVhLP8fPYlhvKy0/GqJPBcscGD9CCvNvHXoxP/TJ/7xK7EM/xBPT1iqrSD8kOYUeQedAP00vhd2Fui4/ncjbO0TPIj8fLeayK0cnPyy8tNp4IDc/bxWWgAQYSD+i7nBumRVTP5tAdVtboVo/YBYYlfXYYD8tL5BxVzZeP4Z0RLcCclE/F6PZ0rUJQj8c34+JYgxCP1TyAKIAz00/V8ERPmP7WD/qS0dn3ERhPy1ESQZE0WE/vWHW8922Xj/MUHku+qdbP7qAiCQMDVY/UEEjfsW9Rz/G4Zz7KXw0P41ZbJlygj4/zF4UKzTeUj+lUxCJEJ9bPzfbJ6Zy+VU/varJxvAUQz/cPLD0obInPxZnJjOGPSw/3HGeEEunPT8nsFRgrBxCPzqAAi4NzDg/inD10lYbLz/1Lzmsmys8P/bg0pa8KUs/uQa6GXA9Tz/3Vt6yXfxHPy0wlvKvpkc/GjyJ1je4UT+GkePucCtUP7sUGh4WeVE/xfw0BfDGUT9dv+JoGOtTP6RMmU3ISlU/Bq1A2VY3Vj/RzAJrvn1UPzZs8f/gRlQ/5aoVMNQAVj8GKn1RjjRWP6ObGyozylk/BvulLnMgYD+a03xBkKRhP8/54LXljmE/OXjoCH1MYD/PL3DKjXJYP3ZPvjQIukg/RwUDYgqhLz+8WF6sxWojPyTTNfoOwj4/EJwU8ix+Uj+nKoPcQC1bP3PanxKtx1k/+QXYEbUFUD9ZrTEosvM5PxnFUezYpyA/l9xbmlTbCj+skW/Tb432PunadOWENeI+C1ZSPRJh2z5tthn5/V/VPtcHA7AuccQ+fnpUxrVOqT5257VtnwmLPreCQRYWiGo+1FYVAR3gQT4B9MNnnIALPjuYdQCR78Y9sX2HQm+AdD1vEkfzvpgTPRU9b5FbBaQ82IHz4jXcJTzQGqp2JoKZO3CYYvx5z/86LOLQgYwyVTo2q+HECDGeOeYVR4ohmj05byfomevKBzqtKZrNts7EOnt4eKmGlHM7grz5ioXZEzx6POmR47SlPNFnBEK9oyk9m+A3Na5goD0z9KjoCKgGPpzdKj5n/GA+yqFY2N+fqz7V0nDb0F7oPu5JU1lVUhc/V0W6uDIyOD8mALsmGzFLP9ifgFiSiFA/sh/kk6rBRT/0cEY9w1kvP3tAUtWG9Qs/WMJukwKp8T48drLVu4gGP9ZsV4844Ss/8GkxjBKmRD9Tb1yeU3xQP1ditnwnckw/dgAkLwL2PD8sEAfyv5QxPyWtJIeG+Dg/8brRigToPD87TDB/B58yPxQCoDX9vxk/ABZyVFMR8z7vnLXCply/PsfwETzw+48+SsjEihUDsT72PLA0o6jqPiwx1IR6mxg/yeAQDtX5OD9iv8S5VChNP7rrR3UMJ1Y/ypk5Gxh6Wj8/oj+P4DpcP0toQhvYMl0/dVibMWmYXj90LRytfK9dP8m/0hDDkFo/kgg7kZqdWj+GFtd7wupdP43o/0tpe1s/hzpHc5NgUT+ivXAcejtFP8BymzuPW00/RuSdrNrSVj9HD9SX3EhZP3zQsK8l9FQ/zneUDcotTT9Q3kMKJa9LP0llPpkhQFI/Wzxf5GMeUT/cgW37gOhCP3w18cR0Xy4/RvwbdJL2JD/+e7IMpy4wP6u140oKKzo/Ke1C9ofDQj/dj9tbxgFFP9yvoENO4T0/MlmYr0PmKD8t5MmwPG4QP+VL4KQ7zRQ/6N/JYEshKD8GgWpu3v4xP5+GKVC0+TQ/4T9xC+f6Qz/gcqlJXJhVP6B+o4f6IV8/hdWghsTRXj+7t42k65VYP9n9rAypiVI/+5BaMpNOUj82/qDIDRhUP20/f3mVk00/EUC6GGFiOD8C7Z5+xNsVP4kAx+D8i+g+X4sBpWRZ0T74VUI01SrPPvLGtA1lhcE+7SyfK9MupT4xzqez1mB7Ps2QyQ78DAE9S0wszt/sej3JpxJEx/rmPY2l5SLuSEU+SoTj9QuAlT6XvFQjMM/XPtyUYh5yDQ0/MnWQVZGbMz/lMI1Gt1VNP5YgCUAeUlg/yvity7FeVj85VyWBQ0ZHPwM9bhVc6S4/IP2CDufHFD8GPLZBowsaP4PQdKcZDTs/wvilmUixUz9bVZkBM5hfP1fBtL5fb1s/zFhHIfS5ST92faSh/JMqP9brkaZU9A8/mOlPwntWIz9gVWi/vCs2P4b8nJPISDw/YroiuM44NT/LRgsOyRgnP2uSXN/YEBs/Uig4tyECGz/xH+rrmkItPxmTiq+SqUA/tukLfUEZTT/hUnlL4MpWPxIPS/iCKl4/vQqoOL0DWz9We0no+pJQP6HUwYgIikY/NT5D5+0AST+r9MZBLsNQP9IN+BM5mFc/nuv9zqBiXj+KUUZ4rAJfP3vZ3Tje8ls/B7EhJaAZWj87d9U1SeZTP17+wiv1p0M/K9xkPJMjMj+0MKScW9pBP8pmfODQ71U/+EjjaWrbXj/HX/WhpKlXPzfs9ZjW8EM/Cd4YEa2bKT+2LpMs+SMxPyUCT6elnUE/hvfQUXSwRD/c4rxlslY7Py4ryqsq8zE/YGzCU5CuQT9uRSE++TpRPwR/DgAQClQ/iyD7lMt5Tj9OXhpBLttJP2rvyXxhMVE/21L8x+/2Uj9Xmia998NOP4wDQRTCIUw/wcl9Tz87Tz/EoFHEafFRP3nlaPoN4VM/Vt1uNNTlUj9AL0UOJCBTP2t8cCEtkFQ/E8mljYeHUz/L8dVeEblVP4usaSnoMVw/HhzIeMZ7Xz/5yH9au0RePwR79+KhQls/35GoHK1+VD+aiczpyvREPwaBxjQV+So/pZEVE899ID/U5sWsVY46P85ycrJKnFA/PCv10V0MWj/yon+2zqlaP0G6zMI0h1E/4aCd8/wrPD+zqSOvWMIcP4Gmb/Hm0/o+LXrWUiFB4D7Dvm3WvE/GPtJXOQ/737w+9SllUJrFtT6MuliEWWqkPp7Dueo+tYc+vQxPZs8tZj7dPX+UlahDPqKJ91lNnRk+VkaDq6qN4z2MteSK0EegPYjKeOONGE09JMIk50TP6zwQGYZUTWl8PNtBfIB1Bf8705ncwWQZcjsiBuIzHJLWOpS9kMmwFC464VarXx1sdTmLOBEqwoVMOblLBTDY5hY6kPQM4+e50zpazjp3EDeCOx1FylOtCiI8Lk1TrFkuszxIZOCX2uc1PQUVsqjv5ao98peFnyPGET4uYbojT09pPrejvTKXcLM+oYtBp3gg8D7N4kuw3O4cPwedgqMUGDw/s42ca62NTT+KCyy6CdtQPxYFAcvk8UQ/+tJr8+ysLT9+F1wXZw4RPztclUKG3gE/nEeEBJr6Bz8MIn+Q7WMmP8w6LKTPM0A/LTefgin0ST/xEFR5dfZGP4XQ0clgxTo/5hbq5psnOD+A8LDnJcxDPxIFHww2/0Y/oPVrcmiTPT9DEIAA+3AkP6jSExkRYv4+SLH0kMxDyz5JJXg0E3OpPmUrmW6E6rk+p0fiSxQq8D49Y7zIvZ4dPzzrgzMQ0z0/lp4tZ4vrUD/BUME0eOdXP6gcoWCEhFk/ueRtx9RLWT+bBeDgpV5aP6r2uNOVZFs/UBmlFXxHWD9odWlJjrVTP0IGlC+GJFQ/0KwCHaj2WD8xyuypReNYP3vOaca2f1A/FP3pww52Qz+ES2FMKYpIP2xgkS02fFI/9LXLQR3+Uz/qheTInFFQPzHpLhOvOkc/GUn57Ra1Rz86ZU/SVUBQP1g38/zClU4/EECydZpZQD/dAb0xUTEmP0LYw9ovUBU/tXOlxTCPHj9z9VKiXL0qP8M86rYk9TQ/vt+D24xoOD9S/Zn08WUxPzlTzGrbqRw/p4TD/QpUCT/vJt/rGhIgP2RPHaJMOjU/SPvH1NbAPz8wFBTg2l8/PzVyeNOUBUU/rHrcQ+ODVD+yKaEXqGJeP0+n42KXHGA/AZzcsCWuWz+K79l6jeJVP+obEY4LB1U/S2FHjRiiVT92Rn9aAXpOP/+KttuIbDg/Yny2CyRVFT/PFXx+RubkPtz2KoNqRbg+2IzCTpuxrj6/QdqBs/ygPkAdopQyh4Q+8N+d7CmIWj65Mu5eJJLzPFU1124NRW89t6sDF2wd2z0gscROBqU5Pv8OEgUJmIo+2JiAiEFkzj7CEoTWLDYDP4tv+Tx56yo/RbFUQhLlRD/A12zMR/NRP0xoZI8/NVE/azDarGCpQz/Eq00Xo5ExP2zcTBo45SE/+ips3iT8Hj/c+1wjBs03Pyc57YPi5FA/WFi5pdrTWj92rvMMjgNXP9AocKemTEU/Hhbh3EaNJT8+3+0qIBIEP2oOjAom9BI/90FBiQRSJj9Znb0/9Q0wP7Aop+k1VjA/fGkvR64mKz/8v3j0iXQhP7DbmB/aQBU/HqKrpqYVIT9cUptBZTc0P5zjJ3hOvUM/nGmGUytWUT+OegD/t9NXP4dEQVNQm1U/vsQ4CuR5Tj+ZhzkpriJNP0hR6J6A6VE/ux5kXwWyVD9uwwvR6y1XP14soJrbgFk/dAHuArD3WD/V5a2ync5XP1cVUcShe1c/kgq6iLGTUT/Vyligu29AP7mK8WF2MzE/+zEC8iqlRD9cSRNSzJBYP2OyyZHMc2A/GSkJurgbWD9f721E2ZZDP/BVboEJZSs/C4acJ9OANj/Ym8ghzzFHP1bOwuX0u0o/pe1oYeY2QT9bv2Xjxm41P/EDdVgap0Q/2W2YupyNVD+TfHV6gNlYP9nAPF0fVVM/aw9mlTOeTD9HWSCwpipQPxqSevJVKlE/gTqRCqQVSj/qKkZE2IJEP8GXAUvm0kU/oegMzna0Sj8Tt3zRhetOP6Vc02LI900/IMkvQqHlTj9iOCJ8XYlQPzkwwOv9CE4/Znv3z5Y5UD+P+1RWFOBVP+CjCzJNvlg/8zFI6qbIVj/Rzst7uK1TP6796/u9dk0/BTUp1PFgPj9K8c10bqcjP1zGaDyZBRg/W62laInPMz+jemV1CghKP226AH068FU/adz/yxMsWD8F9ioGE7ZQP6R5rzdNPzs/rosLDKa3GT+V3P5fR2DwPk6bRzkbQcc+0PIacoxIqD7YRv9/cEeaPpq5b+BF+pI+LTKOxMiDgT4WAdNVCl5jPoyfWDyCCkA+1NMh0fVDGT53wFKLBXbvPaz37IRywbc93ACwJOW7cz1jTKerJqAhPfLn2RhE2MA8QSLBIHs1UTwT2bYkK8rSOxAiyHfr7EU7JiFqjKJXqzogAwlkVDgCOo1X+F5r9Ek5Pv2PZUl8WDlfG8crH5wjOsJDuIuuz+A64zyyZmfbjjth2GkMtFIuPLLtuWhd6r88OPfTy63+QT1R3c4Aur+1PdhHm9ezLxw+bUHdY2uYcz5bSykg3T+9PgDUhVPWc/c+kAzgFhA4JD/twXt0nMJCP7DAHvkOwVI/0MJmaGM9VD8khjfqgNxHP6Fx7nZtNjE/gslbrrbQHD+1xmS3CxEVP18ajHzr+RA/vcMyTkHrID9TqS3WRT82Pw2g+J9080E/Nrp213UoQT9m6nU0qBo6P2ngo/nTSUA/CqrdmXdhSz9RiYs5XVhPP//Zbx1vEEQ/Edy3PFC4Kz9KL8xUYdwEP5uQvQbY8tc+aWbETsOgxz4VPItOhRbKPnrb+aUzWfE+IGAjvjWSHj9pELgnhow+P3zKTo3791A/pOXrhYWkVj/nCSbCDN1VP26Xh8rXSVQ/FZRsvY6uVT/EnQt/nrJWP0ehuztlmFI/k1CaFp/FSj9jmExRMkZLP0TwwnolnFI/2oOikY0MVD/AaecRm9VLP1ddJEG29T8/H13f2x8ZQj/yyJPZvodKP2Tsonr/QE0/Mbq8nhtUST/swsCpvTBDP8vTMqQWLkM/oI+TE4VeST/D3RnOu7xHP4bwyLpEcTk/qk5+lWEWIT+74hGuTWMLP3kKxyFdFg8/YJz2nFXoGz9D/0tS/hcnP7Y206G3uyo/b+XrcGGDIj9+z3DtU7EOP15ZoFV7BQk/nssrxYkxKD97Kv5TdXFAPwGYuvVse0g//SJ7CtlaRj9e5t35WwlHP/CPMtKTy1M/pEK39aueXT87qp0HEEZgP4loNppCEF0/GHcBmAGNWD/Heq5EYFpYP2XLX24p/1c/5AkJIhorUD/4t1oDsyw5PxpYGqQEiBU/65lCbFIS5D6RHrA7Y5mpPqt3ZAJLcos+OKYW7GktfD4pEaghxvtgPirstTX08jU+32ZGlOpo4zw/rD3/Y4NfPc32Mf7458s92awa7JEZKz59pJhmVwF9PpcbFfRkLME+eIgK9+aJ9j4adAqCpmEgP4pUYv5BUjo/ZCYgXYxsRz+ahUfgwuNHPzDn7RQRqkA/AMuLlF9fNz/bOL15lWQwPwJlqxiGRiU/JU4uHHhkMz+mjp5S2o1JP94sJBN7/1M/K+zwF+L5UD9h/m+NzTI/P4EVCDgAiR8/0XS/CZ19+T46OO+E8wMCP4SCfQbSdRc/GgxkiHmlJz9Xv/OTJ1kzP7sJ7tPRLDY/ZmKFGFeHLj+V5k0dP8kaP+Jo0NMfXhQ/8C5MvjLMJT8zWqHXPPI3PyXYUYLWXEc/fKPfy06VUD9AKdoS9ExPP99hzfFn2Us/hLG7RB4hUj95DgzXjMZXPxcFMvFrVFk/8CMHTbB8Vz+0NotPVD9VPyyWNYgVilM/3p5FwAHUUz8+k/s+PZBUP79GhzeCfk4/K6m498nNOz+QOXEy+0AxP5xANPvcWUc/aoivChWZWj/Kz27J4+ZgP/c4HMcljFc/5ylrgiNbQj8gXGoiN0ksPyVWZdI4szs/PCUHAePHTD+OI1amAHxQP/sSX3Kd6UQ/RpYfnRLgNz8tWvc4InxFPz+z16T0DVY/LYSW4Yk7XD9x+RW5rxxXP+bhdCDMD1A/fCcEI8fQTz9JQ96QqnJQPwKX5MYB10c/rCfX8cc4Pz9jyO6b2uo9P0im1DPiw0I/meSu7x63RT+ZOWNyiMBEPy3M1rwSb0U/Ftsgur/ZRj++HKSkcR1EP4g86JJNbkU/nAtx0d0ATj/MF0Wg5xlRPyryEavqD04/fG3zZ96iSD/4xttgsjNCP8etJy1R2TI/vfySTVt7GD8g64H1VQoOP27GxaQmnik/Fb+eK7faQT8rbyY49TxQP+TQAuNjI1M/GDzic0CXSz85baVuM+E2P+cV2cOjLRU/Vll8CdXP5j63EtBuiUmzPqm8juSunYg+GhJp9D28dD4Sqiigu09sPrCvZCSlxVk+mgd4srd4Oz5rnHw9uHYUPrjw5RbPSOw9wTFme4iWwD2Kt9pcEquIPd57kVC5bEQ9HhWDDe868jzFeI9OlGuRPPwy7gLayyE8k4hX9lJuozsybOPHdqwWO/lGePt/Rnw66sjQVIDX0jmfPWMrPuIaOcB6KB+uKWI5Vop8WbMTLTpVBZ6ULefoOlo2gNF20pY7XbsCrtNhNjz3vTE3LX7HPKta5Q4FZUo9agib3Ty/vz3lJL7ranEkPlWw3bRBMnw+9wDO0H7UxD6vgQKNNX0AP8axS3if+ys/UVhTy2h2ST8QtD99gdxYP+Lnp70lG1o/0yqxeZcYTj/WxjfBuVU3PxS60f+2fSs/5/mQ8AaaJz9furWUpnsfP23z8et9OR4/DskQVmtGLT+2eG7w17g3P3hsQe7nhDs/xlgdd88fPj/DmGK4Y1ZFP9pyrC+Zm1A/AXX/hxhXUj/jiUA510RHP8TMSS5ZEjA/ly0XOEg9CT+R33ImUKroPp1Je9NxjOU+gPjCo+sE4j5mdFsLT9nxPiU3B8N5FBs/Gr8ekeTLOj9GULhHalBNP608VtU/uVI/21VXtoaYUD/XxPxttyhNP/chUdcnWlA/R7Mf7nypUT+6h2N29GxLPx3caoF3O0E/GysjdNysQD+adDksXrtIPxcbOa8Dv0w/6ntvLw5IRT/hvVq74984P0ma4Bc72Dg/FP3uHEjRQT+2OJ+PDA9GP1kYh3SG30Y/qitjsoHwQj+rp6vWJec/P1dpXVrX3UE/nN9Ikj9xQD8RGuhNM+0yPzCBNFpZRiA/qvP5E1I/ET+vk6sU1doNPxNlg+fiQRc/ZrrqPKNIIj/JzEn0J7wiP3zVZT2tnxY/T9HKqy4fAj/BFsjAkecLP4siM5ay8y8/cLTve3rdRT8oMr8mbURQP+ANegEECU0/FNpuNqhqSj8XaU2ayVJUP7b3XBQ8p10/KBWap38TYD/+yQiz3dJcP3opNTxwQFo/9zgTiJpQWz9JX96gssxZP+rW9Spvi1A/T8DwzwH7OD8+935QmvoUPypOtdqiLuM+QSP18N/aoz6Dc4wA03FrPiHGG72dLlQ+Ab06EIj/Nz6OuyPbXQAPPhN1IbX1tNA8x/i1D2O0Sz0XOmDPwzG5PdZKk9VWQRk+z/wEiOQCbD5Ja5ntbTexPvt4V9zbb+c+/SpZorieET+Kv/2FBzstP0vbEThDLjs/tsGBIoR1Pz+zEifccME/P23H06KMLkE/Yqbr4vpYPD+SWHpVJMsvP4grCVWzMi8/FzLynTAlQT/+0SYaEj1KP/10odjgQEY/CUN/9j7fND9+KgweYbUWPzd0M87vavU+oEho0RRc+T7R4QJiTmYSP9UlwRhC2So/NrrX/hbPPD8LyTtG61dCP/n1AuKD0jk/cvWvIr6qJD/RT/TCJrYPP5SoLxk1/RU/Ax7F+9wcKj9Uu+0R/MU7P+Fpa7CdWEQ/1Y2m/jTuRD+nBGmAQjtJP8Fbd6sBhFQ/QizLMZrNWz9W0/jqwXlcPwfnTP2ioVc/cDmVCrWDUj86xkchV3pQP278XaKOwFE/hU+YeN3LUj8AdB2OJnBLPwFi+4wB3zg/OrOZX2PyMT9pRJI0DlhJP8/PQWdQkFs/KQ+KcIimYD9UXoXpEA5WP9obLU51dEA/Hx3xw19VKz+Avkr6vQo+P4VtBhfdZk8/przYGzb0UT+UN38uKJJGPzIyQf6RtDc/MuXvnUa1Qz+NJftIwhxVP5pnm3VJ+1w/2Nc1+YtcWT+mJ0QipMRRP5k9pRI+11A/FIlV6xOCUT9spO6Y6FFJP6+mkqUO1z0/3nMDfb1+OT/mksnU+R0+P8sSwd90NT8/CTepDM2XOj+pH15Wods5P/WlAj9NIDs/FzWu5PphNz/cPdD95/E4P6CkXqp2J0I/A3xTgCDqRD+uRaHIA7dBP6SeOjs6Xjs/43grwWabMz9GnQrGGygkP6ddXotSIwo/Wv7aa9AoAD92dah0INEcP6xbVk+ufjU/gT+jMogYRT+QDEcaWF1KP25gnL/bpEM/vM/y8gCHMD+84X/KTIoOP9f6cFWWH98+fMTel+iXoz6TkTBgYExqPgDUfbAov0w+s8/BBvcTQj5/siJygT0wPtv1KB0z2RA+FLllTn375j0ywkJnrLS7PXQuj0ztGY49y0rWffvnVT2VnmIrew0SPVHDz9jvGMA8gtX/1SDCXjy52ppkymvvO+SutD5JJ3E7lIyKBx4E5Dpk8uD/EPZIOpBrnughoqA5v3kICEgs6DgN8/vl2BhnOQp2+J+1fjI60IAGIUyw7zo/wBF/fgudO/k2+jT2ezw8eH34ZfPjzTykXlegQMhQPXxN5s/PKsQ9dUxTUu/vKT5Bx4gKIdqBPhFYcXEgTso+PKHHXGi/BD93zgVJYYUxP/nvoeV2sE8/6JTcyE+zXj9p6J+z8fRfP+HG8KgJd1I/KO8AY4ITQD+cF/3buuQ4P7uGUEmiVzc/2Iwz9960Lj9XIX+nyp0kP52BNXG6qSg/mAWdIfnqMj9hsywbwbQ8P/GY+o8gS0Q/ZJz9FDcHSz+faGtG2+lRP/LeIQ/cgVI/XBv2euMXRz8DJJ5qVf4vP/wWu9wjvQw/GhV/BRB9/j4eKB70I6ABP10UAt0cC/s+rH/lz73J9T6ayJme5NsUP+2RVoyZITQ/o+PhbAXIRT+vzaXrR/hKP+PhD67acEY/FgMg1X53Qz/iNhgHTkJIP5brHRvKFEw/jKA83hZ3RT+w6nPYOV83PwL/cwnlFzM/wAcB776iPT+h8dr/zwBDP98+a40NNEA/RzHntB7ANT+9qjf1JAYzP+bOKaXkCjo/ObPv7xvhQz8lKNffUqRJPzwKVcV9lUY/tIQBOQkwPj/dMIiA4uA4PxIHSxig1zY/AWCTDerDMD/5yTdbLXUnP9xyv4pWgyE/NCMnfZvMGz8CHfJ3S5siPztD/SHY0io/mYOyc9D5Jz/KcWRvQRUYP2HEOoXyWwA/78CcGSJZDj+z6mDcCh8yP9fPrX2s20g/hBQmkvuRUj9rLCUGyNNQP8B8/hzsyE4/Ad7ocvtVVj+PTcPpnJxeP4rjrzhKQF8/cqZ7DmtcWz/nvBjOF8xaP1LQT3pJ2Fw/tIB+q8LEWT8cGCa3RRZPP7ENG894mjY/3wtiuBCcEj8U6j841s/gPh4LCK5dkKA+ZNgoD698Vj43N01jsFMqPv64Hod0Ag0+B9mjJuCw4j2gilGU1Re5PO7Xh+yNXjU9Ma7nRewPpD373WvzedcEPtaP9L4e/1c+1lnaY/GXnj416ljA84fVPqLTbhKergA/qiBR66KhHD9LfVV3jtEsP52+IeMDwjU/MerwmP9+QT/yj/eNdKxIP/tgYwYy0kU/ryFPtFOYNz8IWBFGEmYsP/z/CTTlajU/4Px2EmElPz9TjTk2f3Y7P7c5Ujs3Qy0/MyEbUx4fFT8iqjkzMd8AP7gvVNVouwQ/fM1GNw7HGD9DInENoXcyPwlV2hHXxkQ/kQcDJOn8Sj/fnaJgZitDP0g0D1YZ2i4/OEVF4jP1Ej/l4HOpxeoJP9Slk7oiSRo/hUSipkQkLT/lIU4fxS82Pzk82aXNkzo/kPJtthH8RT9osWYll3NUP8qMYaH3IVw/Ulzq555YXD/xzL/gyK9WPx0wfdn6flE/02N/B8yJUD/RBihTm4tSPxrtAjwpPVM/N3Gif6t1Sz9i9Oy0uC45P9MP6trjHTM/TKnKhmDbST9qxvv58dlaP1WmqgZrAl8/RoBZ0tCbUz+zgrMwSAk8P2jaXLBjHig/Hcr2YJciPD8UzczgyoBNP3YeTpgD3lA/ZQiO4AkZRT+4jZZlIbc0P8Jf46x6E0A/d33rgGE4Uj91TOC8MwNbP2QqRPm4V1k/39y2LI+gUj+VFW7exjNSP1th43pJllM/jptoS5m0TT9t5OhGsohCP/MWccnB5D8/QFW+ufv/QD8Ntu/VFa48Pw83Zrl4fDI/AeL8BXVjLD81ngnr8MgrP6yfgeZtiSc/9M+kwBmcKT90yq71T68zPy3nx+BWvzc/eMx9oi+VND+Lr0w4xnguP0wwaTmjDCQ/WPxssOFjEz8hP20XPlz4PvGZqDK6C+4+eev00+tNDD8lgAm80L0mP66Kdp27/Dc/eze+CXp6Pz/DjWuZAA84P5o8DEz5dyQ/o0gH+rT0Aj9pntZaNATTPjbg2fLFX5U+y+EO54NgUT4cHQsZxU4iPpIclqTKyRM+ODrQxveDAT7F4JhtINDhPWbcY3dNpbY9ouLPgt3Xhz3aRzDF2ZBXPYkKuUkIpiA90dqpNqtB2zyfb02ER0WIPBblQ1tdLic8WtyC0uGttztEDxzejto5O195dZsQK646IMu3fIzPEjriQGiA2RFpObUV3piHC7Y4e7dH2vwdaTnaT54ZXyA0OjscrzH2QPE6UnLrXUSmnzsReS3K1g4/PE8faUESTtA8HF0R0nlRUj3e3YbwlgXGPT3NiEBzVCw+J+f84SGAgz5Z12Rm47rMPj24Mhx8pgY/wTKk8MEcMz8JpggbDkNRP0W/Fj3asWA/22Fle0xdYT9Tvalj5WtUP0EtsyRfsUQ/hRhPDAUTRD+czkDUxApEP24z/MZIvDs/3hG8foZ/Mj8Qo1VnAjsxP0dzF2ST7zY/uo0qMxEvQz+9c1bJa3ZMP0GTJd7SelA/rDsVB4WNUT/THAH9BzxQP979AgKvqUM/Nwxgg3CwKz9YBpaH374RP66IqNkJuRM/6zukmkUNGT/ijj4aeqwSP7w5P2cFtQI//pFLr9qADT9li+KUjwcqPy+7PKUs+Ts/ozug+eYRQT/1PKZKowU8P0cuqC6ZSjs/nvtzEYfERD8Ave5DD3hKP9S50c+CnkQ/iFo8V4v3Mz++dYfYqNEmP2wzULd47zA/oAc/Y3YiOj+iNi5mfsA9P2E/Vrk51Dk/qijcjgoDNT9lX6loUG45P2/wsKeQ5kU/0kQWyOxyTz9bABnzSi1MPz9QBfmFNUA/p2RxJKZMND89cDlLn7Q0P5fi/eQ1DDY/YWEUfKC3NT8Li3DcDFQyP8CitoQ8JSw/vfI//PBlMT8Y7jxFPx84PzOKG9qPoDQ/KkYg8fpPIz9ut4iZdlIGP4My1mIFDA4//dDLkAaVMT8D4HBVzyhIP+BVPLGhOlI/0J55UVdXUT81qfOzjYFRP4/h2UaNElk/OR94bMmZXz/ocRgsAYZdP+q5+3lM3Fg/yJ/wx93dWT/qzT6BzypcP78HyzIneVc/Cy4ttI09Sj+6AuNTSygyPx63YZMKIg0/02o3rG/72T6UrmTPUj6ZPtfnH+VpsEs+TYg7jNWtAz4n6pbyUlHePUGDAwFEP7M9fVYisTWJoDwcEnLEXhQdPR0zLFihS4w9HHmWdLuD7j06P0lUvTdCPkbENaNAAog+G5R3ZDxlwT6A6uhOwbzrPlsb56EBDgk/LPmKYp8CHj8I9aE0k10xPzbOMd9YIkQ/KIbiz+30Tz8wLH83z1tNPxlf5kGyeUA/26GbCrV8MD8gQ8gJCqwtPzKlCbB27jI/H/tZOiCQMz+aXCcZtAktP7BY6DJ3nx8/nJOn0Vr+Ej90cKjGfyoYP7Uckg3KUCU/SzxIRYQGOT9GrvYUbpRKP2oKiIrDJlE/hIXOYOefSD9dSCQ0VQs1P8m7u4cQsh0/SRR8wdorDD9nhrQH54IMP6gFbkMo9Bs/fW65+j6VJj+yNiEYGtcwP+YW2PXP30E/u2QcN4XAUT/WGBZkpY9YP624R+H4t1g/yk8IdSJbVD/MiVujA7tRP+mP4bZmGlM/mYZA5v2nVT/3OTPQS5RVP+2Hw09IdE4/8uBeXSUyPT8Mt9kFyPE0P230/o34ckg/lETGdM4dWD/OU80Xic5aP+D9rHYHUFA/lW0tNZ2KNj/T57mlcFQjP7R38B5trTY/c/eVg1XHRz8wa17MDkFLP/xq5yTNEkE//cqUWkcdMD++ZuHmlSE4P0zvkYTeWU0/JnUigSR2Vz+p8MSG9FhXP64q1TO1FFI/tyC6AfSsUj8UAo0zdxpVPzmCHHvWelE/JuACc2WjST/CkRsQ6A5IP54+d2eFIEg/2zwcoYCaQT8uiob3nPowPxqAwFSTLyA/xRZu+90LGT8nowJcjpIUPzQGO9/b3Rc/QbB/h/8WJT+7Ta60AcYuP4aoaLi1RDA/aKMlo679KD/2kObr9WgbP/F+7+Ad9gQ/mpdm9NMr5j52KNmnII/YPpW39DP6W/g+Ljf5Xm8jFT/RkxdorMknP95oexWEOzA/o+ZEK8FKKT90gKT8VbIVP3jHO8T9JfQ+jm/ij+cixD6sk3I8E9aFPrIf28szADw+ebXS0Rh5+D11bLJ2MqbiPS5J6VVRKNA9Q6ylVdEwsD2KUrHKSH6DPQMFRUBeFFI9sERH8mLzHz3B6+Fn+63lPMlgyuUalKE8Lh52DUk+TzzUy9IyIdTtO5MGqqSRd347vjNCtdahADvJHPP9XmhzOjbIsa7VM9g5uErYsrMgMDnvmWwgnU+VOL23or4pV2c5xUpnas23MjrcJgiUQQ/wOraQCmbTe507dWpfEAf1PDy8iutsC27OPKx42M+jG1E98z5HwG6VxD05P52XMoAqPlFBcypNQYI+uD3h4dzpyj5eFNTOHjsFP/mIJh5l7DE/1WE/QKkxUD/WAF6R8lVfP/wMOVbRVmA/w8mvEXTNUz/JQtuOAydIP5uvynyWVEw/NaDfJiPoTT+Wv9aldnFGP0yTqX2qxkA/KHPx/SfMPj9RFzHMyB9CPyXNRId8oEs//vtUpcAXUz8epDoVbCtTP83w7IguDFA/MoPXX74bST+F6P9vUeQ8P/f2xPP5uCU/rG6uSSYLGz8WVBHBPasnP0eVscG8pS4/ZtNwgMZ7Jj/1dGGPNi4TP6e4rptBqgY/MFyBe2O+HT/NJo618wwwPyhHA0xnMDQ/MP52mlqbMj/syf2u7uY4PxiHhdWlGUc/8AjuUdgITz8ILgznE31IP3q5/ZxPTDY/W44znU0TIT8LJLVzzoklP37vsp2+szY/gsR+23j3QT+1HZ7LAxZDPxTHFpJIej8/c8EmnfKfQD9R9tfkBUFKP8FmVzFlcFI/gy6ctQ1QUD9az/kT1MtBP2KGuC9AbjU/dUw2EiVIOz/SIrfYFidCP1/9WLRN2EM/Hn8YLToTQT9UXABQqWI5Pxo+xfFjfz0/1sBobS8ARD//4Vu7Qu5AP/bsePiRPi8/OGPg2OKbED9jP8HePMQKP18imlOdLy0/KTJW3w4cRD/lwCz2GvZOP5Pa1pUCFlA/UcutygbuUj8KEXOunC1bP8tAM4VxRl8/L+M3zUBvWj9bISqU8kRVP0ahNjaqIlc/v8UKbagQWT/R+YHSCGBTP4smkjF/0EM/gb2l7ueyKT84x5JlcuIDP5+ADDHMbNE+FEzBj2DFkD7YoWsXBZlBPoO4yYhH6eg9u6+W/3ISrT2LrRKVw/WAPaHIvIY0OoM8Yqh9AwiGAT3XGn4oXrNxPWGw85Zvy9M9SxNfMWRtKD6+3V54lI9wPsgqPhoRn6g+LAnuGulW1D7UVQDMyHb0PnvLj9UmLhE/6HsmKCfoLj/jSQciMq9FPy/PufD5FFI/vLwbCSZHUT9nzoJcLnJFPx3T5T7aSTc/UPiS++odLj88Vs+ihXovP/nvs+plITU/TcVqIJCWNT97OG3KOH8tP6BvDjKuQyU/v3C0PkZ2Kz//uBl7dlUzPxRbw67GLEA/0w+ydhLoTT9eJtzs4tFSP813wle3k0s/MskSO+TEOj+lcKn/6YwpP/ZAXwk/qhk/nBJ0DVB0CT810i+e4ksOPxqrqJtw9xo/5mGJIH1EKD+4nMYfj147PxlgBCHqGEs/H9ExR+S+Uj/0KPfkShpTP74ywTwhJVE/6nhO+RRSUj9IaQGku2JWPwTk5+6WKFk/1QPSZKs1WD/4i4TokV5RP/44/kO/UUI/NEoVzKcqOD+mIXU91XNFP5u9eaS8plM/7T+CAggnVT8qQbEjmx5JP3qb8yuPVTE/ZdYCF46DHT/32QaY9eIvP6gA3Ka9k0A/EVSMvNI6Qz/WxzmHrbA4P8Psoa0H0yc/4hblqmhXMj/2BmJJlwdIP7NAQtUcU1Q/CxVh27/SVD8hYBZKQ2RQP0Zuh/qUcFE/IEBGVvPSVD9D5JUFEZJTP/LnYyXAWVE/gD91KQ+RUT/Ty6ZYkwRRP+nkdGvVUEc/v/bML9V9Mz/V9s/oRmoXP+KJOfs9TQU/xWGYuhcNAD9NvXzevZMHP2Amltw6eR4/WHbLfhUdMD9etDJH6DU2P9nKeSjZaTI/E+ZblpzaIT9g3gJduJAEP603Xp8XBt4+yId9Yb9qwz5q1byG7m3iPltFh+v5OgE/kYicMvd+FD/N4INhFdccP8jfojfnyRY/DsU4h8mqAz/3ohD+Kk7iPtP7c00BSbI+hUfxopufcz5LWkip3zInPoPfld/NNtU98M0SM1rQrj2JISPGHn6ZPZugxQj6QHk9bzPVJXMvTT0oYB5HOC8YPc228YxM1eI8TAsUoHk4qDwuEnNQb2BjPLSFYzunKxE8qEQfqipisDt3Sz8xbbtAO8c5Bm2XRMI6Ubq4H/pQNTp4FGiQJZWaOVsEcYi6tvE4dy+3WMt8iTitgRN7wodiOcGQg3wgvy06aSMKe2iL6TryuZT8SXiXO/LmLa53Ejc8snMq8LlEyDyDgtPyZFBLPfFLaDmPcsA9jJcEsywyJT7bLz941zp9Pi3ZV8o6kcU+hsHIxoMHAT/A8GwjWccsP7PGjiFcBko/kOZ4CDs1WT+nHwpPE2paP/3RqtRbvlA/sd3i16pZST9YPa3wH3VRPxeLg4yYkVM/zTWonXNIUD/jZ+4zb8RLP1I9kLK/sEo/q227NFVYTT+dsRUzbGZTP4RntdxL21c/UBVcNBQUVT8lukVI4RdMPzRXCma5hUE/EJfA/euTMj9MNcYj/T8hPyzG+1G/1Cc/pHVH8Mn+OD/jqLF4KRhAP3h3L3TqSTc/6Uwhxm3tIj+YLAcSLfoHP6TxxmWS8hA/5Yla4khCIz9XX4z4B0gsPxVU8NttfjE/MGRALzQ3Pz+S2DRvTDhOP5IkHOfa4VM/v1tx9CnZTj9iD2fO+Dk7P/CGo6f/miA/goU41gwSIj9Pb6lsWls5PxShp8N4MEg/1yVfhB1aTD/eXG88JMRIPwKBs5gjZUg/mUYgEHGJTz+erbXhIqVTP2CKyWG9tFA/rvWA4Q5MQj/ruUPYzCc6Pyd0KU8VakQ/CExkaJEaTT+rL9bBYiBQP2yoIz/imks/EovpQwncQz8ZMTcbZ6JFPy+xg/zVsEw/GbZwHJwvSD+He2eNzT82P6HHRljVvRY/jXIW/Z7aBT82Q6qKxs0kP11sww7l4Tw/h3q1om4wRz/wqbvGetVLP/ihJpZPblM/E06rJdyaWz/raoeiLNdcP7PmMlli6FU/wDCat/q6UD/9xeQkYLpSPxPn0isSClQ/rjKzUKvbTD9Cxv8qEdc6P4UVof3ZDiA/HyVda7Kj9z7400zc/zHEPuvKyiEVNYM+EpMfXr3pMz5+kuNRfjHXPePBz6zWcIA9x886DpjiST1KYlBaVs1jPN225coqvOI8JYbvJGafUz2V48Kr7qy2PWBMh15kxww+yaxE3S/8Uz7989U9soWOPih2/Bbl77o+rL+A61cn4T78OuBBJrYGP+0qa1jAOCs/TgxmLw+qRD/5okuZhr5RPzZd6r7zBlI/vSI8xTJhSj96qLgcBmVBPz2NWQHnSTU/CqBBKlakMz/mqGdPBo0+P1mQgo8ytUE/EaRAdilhOj9TX9J7KEg1P//tiwFs8zs/spm3licqQT+kUxwO2atEP4ameNyKYE4/aZP6ID8RUj96Y+ywp4tLP1YfnuqOm0A/kE42omIHNj+HJFTg3OooPzV0J1S0tRM/u5hY/zj6DT9ualQ/RDwdP4PGszsKLSk/N/8nX0TtNT/sPe6AvURDP9o6L30Lbko/5ZVhzAybSz9oDNwBoOdLP2Vfb1VHRlI/iWa2WZJJWD96UD/ZQuJaP4inMmlYX1k/IVgSFkU1Uz802YytcYRHP+Dkg0Zp3T0/oauvtjv3QT8QxKkVCdBMP2kbu4mVJU4/vzc5PdkMQj+rBDOMWMErP7T9Nfcu0xk/ux/S7inwJD+dNmLHy+E0P/D8nNpgeTk/vRBZXOQbMj+1uuHj9kokP4eyHlk91DA/eIx1wcXlRj8Wfm+J1KBTP6tr9+dAtlM/OZ+4ufklTT9TBpVeRHdNP2uLr95umVI/q++P2SGJVD8RrYlLDK1VPyXfbtDo3FY/1Rysl1luVT8hh7KxSG5MP/rjwDpMnjY/T3GuBnufFT9+bVqRIEn0PuH0e8pC4ek+1bOwalQ0Aj+KR7kHOZQiP0Si4n04vDg/MBhypAj/Qj8clfHPGlZAP6n1G79QNy8/Rq6ClW6jED+dYUsaoirkPvQMmhGf2rU+Kp4SzHSyyD6G4zbqJ4/oPjzgGb5jk/4+khr5hI0EBj+WLd4dRJQBPwqbw3Zvee4+Gv1RDbRpzD6lPR5BuGOcPmhngZ5kYV4+BdLZDiGHET7ok5FJGiC4PYU9KCMY7Xc9wbO9rIM2YT3lHYq+999APdzzzr3c6xI9vVZL37WB3Dy6GKDQbGSjPF3bPzC1Qmc8ggbHbedCIjxTCD5Wvx3QO+NHOi6num47UKL2dbJg/zpHBJbQ2CCBOoVgVEqD/PM5mh5kbo/sWDlCeM5s0ZuwOBYwmSSTyIA4u50xsM0iWTlqxU+OgTEkOqlKGQdaW+E6cwCMSarsjzsqI0SX8GkvPEdOMoSjicA8m+x1ubmhQj1lSDWQJna2PaogjwDh+Rw+tCr6cwYAdD4DZej7fIu9Psuts9NBWvc+IMa6ArDAIz/DTjy4puFBPw5VjC2pWFE/8c6/TLVOUj9VSxBofMZIP0ahqPLb5Uc/7G4FSbzsUj8EQ8LdvNlWP+4rY+6calU/PQVpt9Z4VD+RU9b+PaJUP1c3MEzFG1Y/TkO8R5roWT+1UQhBSfRbP5lJxGbQ6VU/RkrbCMsBSD8QXWaIL+U2P1sY3bV2tCU/4t/VjZhkID9BS0lsA740P9okOc1l00Y/UWrEzk4CTT8UAqfJfLFEPyM+iByQfDA/UcUu92mgED8u2lFmXI4KP/NEg/dMbCE/o5Va8zQ4MD/dENw3WIY4P8PidC+rQkY/dkUgCcXpUz+LXLjdJolYP25QgxOTQVI/STeBBFpMPz/u/N+Lmo0hP+mqxzxJkyI/tNwIBQ0APj/YBBBAhbtOPx3m8YIPElM/Htr5dPgbUj+Bn4QsB85RP+KABB0wwFI/dedR7AIhUz9lTduSEQhOP84OJLowAkE/ekndTzu+Pz/lZdNFn4BMPzpMkn5nplQ/0oEvu8vKVj+LFLCt6mVTP3MDBTa+EUs/alPpp2ldSz+m3+XFRaBRP8ybOGz6lk0/9lHw4BAxOz/B9mQ6W0cbP8fm5nV08AA/DxMXgBjyGT+MW5cOe28yP2rrjcj0PUA/bseheVoiSD8YiYQooGdTPzqSD7RxVFo/n7NYmOuhWD9lw80CqptQP02nygsDtkc/C4qNKUHnSj/JT02wCWlMP8zHg/8LRUM/TpvgJoJbMD9iTvnw+NkRP3UrKZvuneg+E789eQdLtD4bIhhzBP1yPjzqXthViyM+kT7rxUnvxT2FhkAXci9gPU2CrsKAVBI9gknxqmUXQjyxeXOeL7/BPGtdLXNYNDM99BOaAE/Rlj1C4DMlm6LtPbrNZQu6CjU+VgJTnuHAcD485BPzUC+hPmA5W1dQW9A+CTWdXI/S/z5gKVns2cIlP9Lqli4OFUE/faaU0ehWTj/D5GTsPBFRP9Y2ai1cDU8/U7o6/GXWSD+SwFgDA3I/P/VbZNQalTs/j0gVFn8jRj+E1mQYeplKP6RuMFKZ40Q/UPqx3SixQj/nYh1LxwBJP7pRNoH9cUw/Mzf3HQP0Sj9mVt6P8o1NP+sdZQAyck8/oe446hWfST+rwwNRublEPwm4XQEg20E/xTUiXnDCNT8mRmNkWeQgP/5SjkaFlhg/fYFyKDsNKT8uio9++/8yPxpvKt/tZTY/s9cDUjEAPj8ZcRacKA5EP3pTU4QiX0U/p9dG1ucWRz8Q4dK8lftQP0Sd6x8bklc/IHKTVJrXWT9NQu1DknFYPz1Q1ij5VlQ/T/K+d5XQTT9B0+6++DdDPxIvz5+4cj4/QBNb8kYiQz9214j6KY1DPwq+Qg9H8jk/hsUHvcooLD8ltuLC26cgPwwisqo6CiA/zjSfS13UKz9mN90pqK8zPxphvThOqjE/34CH6Ym0KD8WuM80gj40P4rl2a4RwEo/cgdg+a5WVj8d58hoQTtVPwI+1Mt0T0s/Zq03yzYPRz8Ox6TddlxOP6TYHsAqF1Q/6oF7ItNSWD/Ogu0H8etZP1+QESkVYlc/cMTxnjw5Tj9M6NXxWJU3P5wjEUFw6BQ/WnPz5eKW6T5DQOJd0XPgPqmm+LEWuwc/6fMz4++BLD8TeuxPc+JDPyAaYqEkMk8/6P50IaxBSz9RHZyLlnE6P0H9QmgxgRw/YaQS/Cch8T4A1bZAyCO5Pmyn0Motl64+fcWFUJaAzj51/X54Mq7jPp0xHD031+w+6ChiM1cz5z79tUbtHizUPlewPDHN1LI+mztGvK7Sgj7Y2bYC+iBEPtlBweUNEfc98raN2kwWnT2ZKif+ZUtFPfT1JYFv/SM9ZlsiOrtNAz3aaAMZCSzVPOYm0vVjhp08kmd9IjmEYTwoPPkYcUAjPOpGdA6uct07LfN2x3fWiTuNI05jYJooO3l/Gya9Hbk6pCuQkFBrOzoGc9HBff6vObfx+tT58hM5OojdJquWajiQmVqWC2JzOL6QApjbIE05Q/d12BxsFzpaot4GuibUOgKKwCXVjII77WdQgYJFIjxVP9Xs4kGzPFEagx/atzU9p5iZnq81qj3wjbbHbOwQPmTTYYwWY2c+gvavd+hKsT6GYqnzqF3rPh5gsDUZLBc/xfhzyTUANT9/s4wX9WhEP6dl83s2xUU/5sS+OysuQD+ePGPWklREP8jdXvL5X1I/nlIB9MxwWD/hZC8JF91ZP4XZhRboylo/HkkKlZ8HXD+QOzhPlzBeP5soDVmwXGA/0QUVvr9AXz9KQGh2yc1VP+UWdIMpUkQ/oYsU+OKJLT9uIdf+rkcZP2Ulsjw5RSM/bY4zR79BQD/Q+w6OVe5RP34F+nu7blY/OB5CEGeITz9rfCa7GMc4P4SZfhOnsRc/Z/zC2c2fED9JbPgU9d4oP/hMsL8Kpzk/S88+XHBgQz8Lx3B0CxdPP9bLo/PGllg/4P3Cv527Wz/KBOBgwWpTP1bsvL1+BEA/b22Qj7tsIT8G2mEz9SwjP2zVYqqGUkA/KmwySuxCUT+Vm9EPAqpWPy0+uaoQ81c/TTz7r3uUWD8+v8c3ujdWP3j0tCQlrVE/oIc+81MMSD+QrKZPP4Q8P+rN8eXxuUE/7eaPPHVuUT97G2WOm2lZP9HKUnzcFFw/ELbGQd/+Vz98y6Nua1BQP2kw6dJHD04/4765zP2LUj8aWF9rMu5OP81AeWyoZjw/3m8Oll5GHD9oR7XCrBP6PiYsrkB5vg4/XDC7nC9uJz9/AhN0Mag4P4SQNfweHUc/VhWOp2SmUz8b+20XCkpYP9A5+1WC2FM/kIHzsX4pRz/juPn9rfE9P1CDptza6UA/7/UX6JeqQT/MmguP2+g2P/Pjm1m7ACI/a9+BTnzyAT8tAYZbagnXPtVCsnF9SqI+ZI19dRf2YD5VbExwb6ARPqEL5XcQH7Q9bd0zKHvMST02d/Ge90bhPImaSm9QSR08+w/AgZGtnTxZxkDMt4EQPbihrkgOD3Q9LAjqsLWRyj0MatgIf2cTPkqqSZ7O7FA+Wust3RmXhz7qGCX6L43BPso3uD0/HPU+HyAwdzFrHj/L3ttGAW84P/s4Q8z870Y/Lz6iJKY5Tj/azNw5p2pRPw7ghQ1sFVA/w6DDjP8BRT/HORKuA99BP/CkZQB+k0w/DWPofC5xUT+QWzH+h/NMPwQBPpqRyUw/WLOo0ryMUz8GXTiZaU5VP6gMyK95v1E/EfZmPNHsTT80yMkoV7JKP6wY1YwbkEc/hKaCLSKoST+eysURLgRKP5HkhXjWdkA/nQ9S+tEfKj8QYA9dPQElP7nk3J7UEjY/Mnnk7BajPz//43TN2e09PyKJFjwe1j4/xrl4+w7qQz/Nb1erjOpEP3tBw74WnEQ/SY0aWIEtTT/rbAq1uJNUP2oddyLI21Y/Wrjfe65JVj9RjdRAc+tUP7dMxUzvGVI/wXINaJMpSD/D3TMxiIg7P2/WPV8g4jc/GpKM9sl9OD8O11lnGjE2P7lfINwmyjM/F89ijeaYLD+wyFzs8psiPxJaenfV+yk/lTqY1WBjNj+XfaV+c884P02GDi01LjM/V+A0ChqlOz/LS+mvcRVRP6FP8Q9RlFs/N3p9FKjoWD83UYHFl71LP0wVSWGZfkE/e91DkQcERz/OkKT/ICJSPxpVe6p/HVg/XG/LoPdtWT/mH5NDhPNVP+Id/5ngnUs/iBLGQKNKNT/qlAI3XXkSP3H77dywueM+5UpoSbN14z4aVZCKLxASPyv/V0KkiDU/uVKqek6OTT/tsMuazRVXP+CdgOMPXFQ/QA9Wz3UqRD/iEgRvHFwmP+VfqYMWuPs+fYtSlJiGwz6d1lKdejiWPt5h+WGre7A+dyEUvTHOxT61mYdsyy7QPn8tip+ELco+Qssc3MzPtj511uM7clCVPnIWP2DTT2U+0eHqWKPJJj6f9lc2KhDaPXN67n4SDYA9JmHqTLvyGj0DWT8ng2XkPNTHhM965MI8zqpY7cNilDzsLM2l7MJaPK6FZSHw2hs8VjVGMquN2zvZvaMuDVWUO8uCCtNAsUE7+HodwFvR4Dq4PYM9milxOsQOCXUhvPI5OgjFTEncZTlYlz/800LLOO2DuQ3dLSI4nEG+8NoqYzjLOpk5T9Y8OcpAb0DINQc6BrX44PH8wzpZP3T1DGtyOw3brr3yKBI8DrIoxdkoozwE1oupbqElPZFDFifBIZo9VyFnBzfkAD7xDwjtP15XPq37mYUuTKE+YzsGEGdn2z4BMBKo9ToHP+ASDGgrFCU/kgWa6pKIND+dMw7040E2P7QUzlWk8DI/4pEotV2yPz8p8IBoLHxQPzGlxETlsFg/4fh1sF33XD8jaICGxi5fP05xsentv2A/tXERfNiOYj+9ORnuEGZjP5q2psPM02A/J2fULysWVT/lL5nHWkhBPzg3I4+HSSQ/7HtAKTd9ET9GoAZmrh4oP3aPVSJpMEY/DNHuGWkyWD/2EE8b7cVdPzayadmGmlQ/gb5uDmj2Pz/jBGYk6IkeP9dVxuJmRBg/RAiffpRbMz/Q0qUnRTFEP5lliA0u2Ew/iyJwttchVD+z4CAp4fFbP3iQwsKEglw/gjzz/nN3Uj9LOa+0tu88P6BumaUFDh8/DRpeWAf6IT/PAF0v8iU/P4Ysp01l71A/djPESW30Vz8OFp6FX71cPwaBHpuzY18/hBrKtX3xWT9Kmp+McEFQPye4ClHiyUE/1+d4bEDSNT/i5/MuZKdBP9KZFeMOblI/MW+2yN8pWz/1kolo4pBeP7K1jpUHs1o/3CQrD9HVUT+DF/+99yFNP4gj0Woww1A/2bxu1+agSz//Pmlp0Fo5P9kGz3jTVBk/fPoKq/ph9T7zi90aKZMGP1vFyBVIhyM/uwZi7eOROD+aAcUFjpZJP0R+wdCDulQ/EiNTE/qIVj8mSgsOJ2FPP6hgRu7zjT4/ipi7alPiMD/SAKeo1HsyP7cq+i4fMDM/q2wPp1hUKD8cDt50YnUSPw/z3ZCe5PE+dq1H2lI4xz5uQ0US4KOTPrHLpYAzO1Q+nPTuKvYHCD40oSnhvvevPRQLZh3gh0c9Kq5eTCHz0zzNLGuB3+v0O6X98YcvynU8BUUdzw3I6DzUnmyKJqtOPYwgxfrXvKQ9iMB0R8L+7z3jj/lIbywxPvJ1txEGpHI+6A7QoPzxsj62yRm9WevoPpd8t4W3ZxI/UwnS/n2KLj/9oMdit6A/PzPDysk+yUk//pNSl0VJUj8qXvtbCW5SP/goesPSbUg/8PmVS5NARD/Xtr8aXw9QP8PaWygT8VM/IPAXYSOwUT9ufFZPAH5TP9f6HT5oslo/wYqIgspdXD8IxBysZKlWP+R9lJGViVA/cG4KJ51lSD+5Iebe3mdGP6hPjgs6GU4/hxgK04eXUD/R1fBMh2VFP3VFB3kbizE/F2RpnUoEMD8RBHPJaEFBP9oZSIYuSkg/2Axno/dbRT/L5tUzJI5DP3E3sxaEyEg/BeQ6eFEsST96yK/z6GVEP5Zqqe/Pw0c/ixWq15XhUD9hmZ/7Y+RTP4L5OlnOdVQ/IwCBBycrVT/jim2seWZUP3R1PwTL9Us/QFr7iPU+Oj8UIu6nPW0uP2GHBHj4UjE/ZbZKPZt8OT+OIxbxNbU/P7GzxZgO0jg/iRXtRdALLD/JP1/hH/gwP4uZRV6wGEA/i4QeqAJRQz8CldPLNOQ9P2AosxOVT0I/PoSOWsTqVD8jbPEOrmhgP6Im0CHxqVw/cIiADRf3TD+hl1kwxNw6P7+oFxvDYEA/cBsvhu2xTT8icr8iJ+NUP4xPuJEeh1U/rnuuR2S1UT+e+NH6oqFFP0l25LIUhDA/GsE1dxqjDD9a8ye8NPXfPgWqLl4vlOw+hOZH4pC+Gj/eyf7TxT8+P6oDV3vo+lM/uzKEm3azXj9yNWvcWTFbPwSDva3ge0s/rPK1LR5sLz98d4iryT8EP1Y6csq35M0+H3pkRjq9kD7i7m/dariPPiA9BhwgwqQ+FzvfpUQWrz42bSuV3T2pPhBzf8TpB5Y+daqKSQ2ZdD4lUZtLwZlEPldkrVQdBwY+gko5UksuuT3JWuDiZdNePSB3xdvIbvU8Ws4nH5HpozzrfZMcdal/POJrFX2b2lA8I3NTIeQhFTwkA6l+QYjTO4CXbTV/HZE7luT157cSSDvds12MD7T0Om0TRoeYoZM6DPjcygAGJDpFme0aDtulOS3RZJRcgBk5L7XdcyLNfzj5FTyyAF/VN8PI1SRzMlA4ZfjY02ZkKDlrpQfq5abzOVAzn1Du8LA6SmXpaf1AXzs3KxcRVNn+O1Hx0f2hSpA8dCkmut9pEj1MagcEdkWGPVo6OBKc0+w9yem+rOD2Qz6ppFk99JeNPtv1nwwGecc+59We1tXs8z6JWSWFqhsSPxVCwx04syE/40OknKGwIz9ZODZlBGwkP6Zj0o/EVjc/NfmLGlFmTD9oFy998hNYP90Ff34LLV4/tv58TtU0YD+BbwmhFrxhP2IY2PmvjmQ/Boo25bhaZT/xLqVc1lVhP7ZSMbNS6VM/24L4CVADPj8dQ1h6ZaUgP5HJezelCBE/zgvfHoVmLD8PW+0SaxxKP+34DPBTCFw/RpOghiv1YD8R01LczRhXP8aK1Sdsr0E/lb4olGk2IT87N3CmvX8gP/k0tWiBMjs/NrENeKEtTD8Eo3FsTyxTP1wcbJfM21c/hieCiZVZXT/+b/lThvtaPz9ZvUMC308/Cgbl3/x0Nz8PTUmc88EZPwmjO+6Ymh4/iE7s3bX/OT+H2fN7BWdNP0Eg0vyMGVc/DulUb6fAXz/lJoDpk15iP6p5SvH2Bl0/Ks9h29l4Tj/WD1CmFbI5Pwa5pGdPDC8/kIsmcncBPz8QRYwvKeJQPzrmB/XhhFk/k/GwnHwQXj/jDans7YRbPyEIEXkhSFI/ye6ATt2eST96wld4WDRKP3i5QVvWHkU/zuGHgnptMz+0kpckPyUUPycJiNqNlvU+hV79yjkGCz+Dxo+lj84oP4tqg8EuwT8/U2WVzVP4Tj9b1t466mdWP3j3DDSDV1U/yxPi8pxSST9XtD+hFgg0P/i1SJZXYiE/9DOK+0qpIT+e6GQrjK8iPznoW+NONRk/GTYjd4NcBj/bVgRRdJDsPraKpPwbiMk+QvE0oVN2nD6iuCkycCViPqE1XEJscBk+S0yzxnZOwz0sKnD9O4pfPRE7MEdTres8mTMsoRc+yjtcl61pwe9LPDB9pp1aKsA8uBPpXA1YJD1XrNuVH3V8Pai2yR+o+8g9wM0Vw5eGEz5fTpvBhMFfPrp5ZF3Kx6I+FjrG0RCv2T7xK42xloIDP8nM5OHQUiE/KAq7XQYuNT+UAH+4achFPzogihjFu1E/2sFGVU+PUj+hHxbcA5tIP6OVOfCFDUQ/ZDQsp3rXTz8SDrpTi0pUP+CxKeS+bFM/knicnZVYVz/QqdS3GuZfPxkfWd58rWA/EMA+OTr3Wj/3eOfQ+DRTPwJ/OMR49Eg/dkHHAUfYRT/j36k5VgFQP/eYsMumSFI/YpHYPlvXRz/t8nOLdII0P08BAwapbDU/LjLGXIhWRz8dPBMH4kRQP0WDIxOkDUw/0B5UAmHmSD9aeEjDKHVPP7CMJYMfSk8/IjQmQa2iRT+vafUeoHZDP75Wmyz+PUw/Sb/r2E6VUj+D2q/bcgNUP86TCAn3A1U/lVgfoCrPVD+H6zKesbZMP5SM5/Hinjg/XcZGDJXxJT8WzE+d6yQwP5A+smjpEUE/ZN1kvK4ISD/PBrl6HTpDPwUYyJeMzTQ/AKAwr75pNz+3n8PD+6RGP45VexMusks/vWH8hGgART+sLeycTxFGP/cwgneCClc/EOydzvOWYT+ZxOI2hQhePztgB0Qpukw/cPsBSe/1ND+hVEc3fNM1P4komw4IqkU/+Nmyw8JeTz9nEKa+LmlPPwjuh+kekkg/WmJ3AGMhPT+I1AZSUj4mP1Cj8In/EQQ/R3QlTOtU3D7FK31L8bn0PvDT+WAZfCI/DWruyvKmQz9Y+gSUu7NYPxhdEZ+4d2I/HRVXmERPYD8Rnb0dEsJQPznJFhLPwDM//Z6UC2q/Cj+Jc4rjQObVPl6pChYN/Jk+4BD6mEd0cj5iLsWZxRKBPu7yF3t2iok+eV5NTgzLhD5djKBOMytyPmog0gii/lA+jSezG///ID4eN/XRvC3iPYGbh6Aqx5Q9t2qnwCZlOT0/SfoU79LQPG7z9LGPX2c8ScfWHUXWNjyNi1HYCeQHPFLFVggp88w7LFEtJx4niDvpQXxEzIlCO03dgOf3evg62IqSY4y1pDos8sjHN5FDOqNILomU8dM5uW9SPvDDVTnbVJiLMWXJOHht75U0qy84IeqyQPUthzcskqYr32g3OIOe8bYUphE5jW7TYLl53Dm52OdTGpWYOqpDtIDbtUY77c3zyyt05jurpyzQfsJ3PGZTIkvL6Po8DRUA7n9PcD0bAKDzUSrVPXj1OEzVZi0+n6MN7gLddT6pMCjQO2ixPjIBmQHHrt0+USeRpZ4e+z6wSY6kbr8KP9/mj8QTLQ8/aUALzLlwFT8tV6ie8eIwP4EI3k7gFUg/L6G+Yz+hVj+hEtBnxBNdPyA+OALiPF4/LgUx+5LMYD8aPIJk8JpkP98GZBeDnGU/+5bz9mPNYD9sAAgfnzdSPyTWe0w+Wjs/4yLC+E7WIj/NvXSmxZsXP06X4yUJci4/IZ80FMJxSj+uaBijkuBbPz2x2RC/lGA/oUBwIno4Vj97i2ph/dFAP1W2bpE5CSE/WG7ZymnHIz81PXny04VAP5PTxOJiAlE/YZSNnYuAVj/6jxXod/ZZP5plqD9B/1w/YYpFZv0lWD9DkwAcac9JPwJ0Pb5VEjI/GUuciJiUFz9tg4RX348aPzGrAVVZozM/496N3hV8Rz84aMoJWjpVP3n5t15BemA/QEdegMaxYz87AtJBiUZeP2fzH07ZjUw/V9UHetUTMz/Mya9y7x4lP0CDGUAtPTg/xwliJmVFSz9n5Z7jHpdVPxU4Fa9aiVs/mMbywK0FWz+PQezmQBRSPwXdIf41SUU/FXbEv0n5QT9K7FpeJ8g7Pz+6HyvYHyo/YfSUOcMgED8/bI2T5T3/Pki4BXVIUhU/+AQKq027Mj/xrqiiJCRGPwK3MXHfzlI/RFAqg5W3Vz9wnShQ6xVUPwGh/M1m7EQ/qmHOMnBSKz8RTAEd6UsRPxPAYX+NrA8/YvpMScQNFD/uEFHtA84TPyFTIeDsHQ0/IfmurRky/D5/xkRZlejfPjZjQJ8l6rM+DT2D7vLZej4Klri3cGszPo8T0DX5EN495vUzmKLkeD0yUrYMUQkGPQ/+5NYQvJw7n/lUsb4cHzwD26wlgkSSPKwPHlcqgfc8JOPtcurAUT2A8kHZq4+kPdNlKKjUQfk9iKUDwHMoSj5OOsn1TpmQPgAPdlnYrcc+6ygqG1Zq8z4+HjsFeDMUP3YWf1+DPS8/v0/FT+QHQz9/+AlVKR5QPz/0XjrrplA/GHfhZQTART/llq8JxOBBPyeLQBBIIk0/yZUQYvVMUz+sfF+uRtlTPxBUTJmXBFk/lx9+g23HYD+EeT+pM1lhP3QY2OpEM10/sstRHcWyVT9f7D+t88FKP7dJmrxJ0UQ/kqY4xlEFTj/0/m4RDk9RP8e+9BaK2UY/h78QvM5hNT9MYV2t46g5PztxRezHbUs/fr+cfAnQUj+SCw2NzR5QP6dM6vlTkkw/9uuyyA0hUj/scX5uy/5RPxGXDZ1MJ0c/Rom5erQhQT/kgBoFU+tJPy/Q+yLoL1M/mZTfX5XhVD/VwIDm8z5UP40oSUDJ+VI/HY/YR7S8ST/xUMbDQWE1PzyVdOvk0SI/Gz382LyCMj/0LURpF0pGP93/3ZVlFVA/MbxwCRLBST+kZh4y9kU7P3UUzlXGLj0/3poOhEwgTD+DMVjweEtRP5xFtoPw80k/EbIS1P0NSD9xBffEFIJWPwVNSwUIlGA/Ka+b9dm3Wz+cgScMtKlJP0ZIOno9/i8/4flQh6HcKj9PhLIlEcA7P3hrETuWUkQ/o8Xr+mi9Qz8kra4RDnQ9P0Qb6ra7NTE/hHwzeWH3Gz/GZ3+vAD//PnqAZcZbn+E+RKfMVK8Y/D4DkP85J3onP8H6UuiCh0c/cnlvQL4BXD/h1tcXky5kP3hIqn/anGE/iEpxO/pNUj8DyI4nh1g2P3RseHW/dhA/cO8qZlqn4D7qQA8tXumrPnGDzW6QrnQ+wYlafaqkWz7dFVtfA/5hPiyUG9YDQ10+FASoTmWWST7w91qeE/EnPiGSmCTK8/c9KZkfPDuduT0ISe+BpUZtPfB2k40W4hE9Vzs2ITNtpzwWMssLK+wzPKd8rPXqEu07vKeJ6MMBvTspEmKJjyKBOzPsrNgHRzo7yibTlNeV8To0uxkZUG6lOjw0KJWnt1E6VT933Oqn8Dl5zBZrZ/WAOTK/pczzgAI5pQst8raWdTiCiU/47+vaN+Rnuk2oUEM3JGTKV/1CHTh4syZ9ryf2OHrsU7jA9sE5pXn7zCE0fzq5ZsVFLwktO42+QBbT9Mw7ZNqI7E31XjwzPyqcrr/hPLN0v8/51VU9dbhpR5HWvD1AbQgnJHQUPmUYzDClLl8+2JemJ/mPmT7+Sdlsp43GPkuLrGVAcuU+qGVC+eMy9j5F81dViib8Pk7c0MaI3gg/NpTNDLSoKD/4gM0Zo/NDP4h6eHoBBFQ/NCDxWzCZWT/aZyXq7mhZPy7T59Baw1w/5wwxo4PGYj+mp7JIcf1jPz2WBSuBRl4/0fedR4osUD9x2kzyn+g7P1ftzvoZmy0/YIL2/E1xJD8za80e278uP3lSWZY/Hkc/M83HwWPMVz8Ez24RQ9ZbP3ZX2lEEXlI/zcnuqp64Oz8ALiH9xvIeP/jQQUT9HCU/HxvjnLVIQT9rDO4wDbdRP/k47shQXFc/lHh1S3tQWj+fdFytpcRbPyYFXi7uUVU/SuzMX/DdRD8wDpZZh4cuP15WkdOqGR8/LZJtqaBIHj89TrCNRbstP+iTUZYrkEI/mR/z65yPUz9lB6VsDGJgP9ZIhckocmM/BlASqc3yXD8KMrYvMahJP282dEgiei0/N/C5ZRujHT9c3XCi2QcyP8WdNs/YikQ/t23IvO49UT8WGwuqRTdYPxkLfMdNllk/HP0SSfBbUT/T003AMF5BPxedsmokRzY/NQdJxzMPMD9aBLdVJhQhP8ywaKVG3xE/4IOWfFP2DT8vnSBzxOAgP9JA5s0aDTs/raQ6F6BlTT9oZKTZlrNVP3KPzTT8olc/PwpePKL0UT+gIfuzmwBBP0aQaGhLVyM/mN89XVGDAj9fTK0kVAgDP8nWa9ut8xQ/fptKKz4RIT9nxFr64bggP0w7YFUOPxI/DLnmabqP9T548DaVF1jLPpjv4G8+jpI+Y2hKKWbtSj4I/ZOqlOL0PTsWxDtaUJE9445gFZeuHj3QnHwOjlJrOwO080Nf++07WilXj53iYTyJ1bi6YRTIPL3BZK8J1yU9je9GBDGBgz3veoVgkwPhPcH6qJfFEzQ+zAxUnAquez4yZBr2x3y2PrzPJnVt8+Y+S6/743J9Dz9A9XupEqUtP0yV55YlhkI/Re+MsHMxTT+JM2K23+ZLP4xurTZpmEE/ZnW3spYHPz8qeLvw+fVKP6e8ruO8olI/kxoBkB3cUz+a58aSAIxYP1suTOBilF8/4oXBnJkjYD+BTfMwcIpcP7SPGYfblFY/AN4+YgCXSz+MihLI0JlCPysL8PEnh0g/lFl2lhshTD8K9L5pDxRDP5Xw8Ke0ITU/OLjtK1j7PD9gWxIVAqhMPysZfWyC6VI/ahB+iPkgUD80vdt3+tpMP6XFCR9EdlI/IDoGGimsUj/MGQEmKUdIP3MxxkL3sUA/QjE6PbnpST//Gqy9matUP/QdUhjkM1Y/7/uPvALlUj98LC5YMxpPP1FPqwkOGUQ/P07SFgXmMD/SkLvZHUsjP4EaUhiGrjY/Gu/0F/2gSj8BAv918slSP+kkIqgxuU0/cVvbOXvYPj9Li+vb8Xk/P61b1sdxFE4/+/ZtqLygUj/ND53fUV9MP64ECkW5dkg/lEfyMIrhUz/qSYQDOX5bP9NrXDm3UVY/8eZqdo0lRD+S35dNe78mP+E4acyqAh4/hapX09bhLj9W2uqbg6Y2P73r9xTwbTU/lwh7TLlGLz8ETFotCOkjP8HC9oLmEBY/SO2ZGe+fBD8qD+ZMgrvwPo6AkGZ0ygE/V4H2hdULKz+/eYqnHLRJP1Tug27I/Vw/C95ihKUBZD/btFHXBhxhPwuq/3jW9VE/VLI5ZiBENz+UY0sM42kUP8CSo0EdKO0+M0ScdH4lwT7pWvhj2h+LPsftD6NEe08+i85stTkGNz6MMDKxJZsxPgFGAah+xB4+NsfSgmHL/D2EaoXHUc/MPYWc6Z1Rz449p02Jq3KbQT0y6dxgHoLlPAm5wSbPGXw83zUgrZKLBDys1v+zpQWiO2TRY1ACL247PZDNFBp5MTslA8VZ2w/pOjHVG/QNVZ06Ak3Wn/wyUDqcObZMGfP5Obuf140/OJg5Ee06v3efKDkvMpfirduqOFXaRyGFVR84tSO0J3KJgzdO3ZbLf0kaNyvRIEGc9AE4R2vBcEYn3DiYqf1RR8mnOdOIiGtlrWU6Q6VGOdxTFTuKYkmzmqu2O2vM2mjTDEo888j6J4gv0Dxoo6V9DMFFPaSn+LConq89E9BOJqnXCD52DVZwYBZVPmT/XzovU5M+EZO55XYawz4+/5DBrFvkPq3hOpJ3d/c+YNT04RT9/j4D2xRCMtoEP8CqXyjGNSI/ZY3uM8QzPz9wyGWIhyZQP5HdDrVZSFQ/tDlDvFw/Uz/bG4dnOmtWPzLj1HWtMF8/6vY2cXjnYD8wAeT934tZPwAx01vmJE0/gHftpV4zQT+CZx8YotI6P8Pn2W3dxzI/+YStfALTLz8rCXWufaFBP8dLVWL/clE/oX8WsL8RVD94Qia+kTJKP0IivhHBcjQ/IQwG/UmqHT8Dxx4NVmwlP1n+L8Ncdj8/r2K1YSL4Tz/mAYSdNK5VP7oAU2PRX1k/tj7PFAqcWj+8RLZ4DHBTP6Tyfut9VkI/EPnc950QMT+TgFCw+i0sP6GK8pO5cig/eXKp6HUAKz8leUmmLIE/P4f+sz4jjFI/Z/EIjKWBXz+DGBQJENFhP/Dj8wezOVk/t1ino+ZbRT/wWmrEuEwnP9Xcb+UvMBo/EACQoFRELz9XRxZZRrtAPzlilxi/Rkw/AfFvD5PwVD9NJh8Hci5XPwxaupYn1U8/3DxvcDNHPD+hz7yUtVoqP+XxXQdJzyE//BQ2f21RHT9ZtTaM2wMfP6ns4a0Y+x4/mUrtU9HdKD9tcf8yJGVBPwOqmq9eplE/e2Z8Z0wkVz8SP4s11LtVP1+3byumd00/fpYUQT/UOT9IytgDmgQbP2r8SZ2/tfg+AABYPTg9CD9i60lS2MgjP5BpcOCBxjI/D5Cj2JtkMz+qa/98toYlP9d6gFSJlAk/jRTVGKNA4D7Zvxi6dROmPqmR/yVqBmA+ZgIZPaPdCD5EQoXAaJ6kPZ2WRJvnRTI9rSBP+aJ3NjvRUdaEkva4O7t4ivFDnC48KwPD5L0PlzyoVOCZ+/39POKZ7jViGGU9DAyIOuJPxz2q0KssbDkgPimZeIxUDWw+jmqKAYjlrj4r9wtPO3rlPmrHWFLJIhI/BftovIsHMj/S4YW5i/FEPwgeYQgwu0w/b0+tkfPbRz8mvWP+tZU8Pwa9rVV6zD0/as0fmuYCTD9k87UObKtTP7pd4+usbVQ/PkVveJD2Vj9w2WVA1pFbP2UuyShRoFs/19qQivVgWT8rFRml6kdVPx+NydWtWEo/XdHTxnrzPj/6w3uIpH1BP078jcX9t0M/U3o1YITPPD/tDKwp5gE2P1BsIuRjskA/TKt+k1j5Sz8wZXWYpfhQP5uJJiI8ykw/R/717LpHSj9ghnJhn/FQP3+sTLRW81E/voC/48V7ST/C2Mo2d9JBP2RdADSDg0o/W+J0ye67VT/LeC8tRStXP1Qxn3s0aVE/cL70xYqoRz9Hy8aQaM87P5Ih4iteoSk/hCqGy8hFKD+N09/3YfA8P96JhKwZq00/o0FqUWV+Uz9f+MuXwtdNP2W+1p0/FT4/195taPUgPT8k5ylxJJhLP7ax6ImKY1E/MRn4+VotTD+oDIro2r1IPzJdvGfp31A/cZB3vlqTVD94fp8LU4xPP740uFxhmjs/CjKPAL4gHT+ZCCugzQUOP03O0s2aqh0/dNnWxk+2JT9Yh5pe0XYkP/dBmlsspyA/iho3o7IhID+flWweQ0gfP0eikV1HOxU/6MN9zdqpAj/dknqEExAGPzFrF0QaPyw/LcAM2OtiST8QhH1eGCtbPwAHw0yO5GE/B82pZE7eXT9PT0+byg1QPxDR9FRIuDc/a981TvhwHD8YAdFNkCL9PmNniEYt3tQ+oTmG9KmKoT4XPfvgbWRgPv+Ip6TPEBs+ivOeWKySAj5ofdR4UZrvPXzQD8+CkM09Xw9WRPeUnT3sdKGf5KJfPVlkELtjFBI9NrH16rIVtjxR3RZnB9ZMPEX7aFXnU9Q7divA20LMWztghza0tBQbO/Gb68bon946dQ4L65DclDoiTnmRFpBFOti/d7r6OPU5ZV76cOFIoDkE+CcbyRY+OUqQ4Fk2hs44ryqzY+mjUDgw3XJYY2nDNxtKfoTINCg37bur7EE+CzdOsnofwUX2N6G73Vhft9M4ORC/l47Vojleu9UYi2RjOgAdlKitfxU76+r11yeiuTupHomadWtQPOmx0sAvldY8X90pcrGoUD0RdRX2Olm6PcwYbytgUxY+E8wLWFhCZD4v8sMVQq6jPt/7VtYDdtQ+u9u6HuLC9j5dMW78mxwLP6/KrRNKiRE/xF4lnKWBDj9AGT4ZwMQbP0RiCisVPzY/GBst2hotRz/9f7hD6oVMP05YS/KnNUo/S0D3d2TkTz/bPguX+6RXPy+OgmeUcFo/A7ZV4a8YVT8tB7JNRUZNP97S8v949kg/J7LFUM6yRz8etnjiqFJAPyne2uZhMDI/dp+2B40hOD+nDvVSZwRGPx0yuwbO5kg/GApfEJhkQD/HO8E+e0EuPyP0vtRHriI/u9tyjD7KJz9MxuECItg5P8k6h01fUUk/+IJqwwZgUj8hoArdHMtXP8Q25PDO4Fk/s3yZQsmnUj/cI/ECIY5CP1m11kPr8zg/b8aY1G65Oj/UAUdRzfQ1P5oxqDL72S8/9CDofXE3PT9CX/jgkK9RP9sr71IEE10/HuHNB3VxXj+hGKoVlA1UP/+dgjHvN0A/VrOwL/o2Iz+Mx0UAUn8hP3yy2rhLvDM/Iv4+Of7xQT9emJlVkYZKP2CffesqM1I/uA5RolfkUz+hGRdGunJLP6kG+Y377TY/7AyGJ9teID+M2J53OYcYP1A3I27uOiQ/UFYjGHu5Lj+Am12PQmouPzjurbRrHTE//pfHDr6bQz8tqZw6179SPzg8npVxbFY/WzAkfsdNUj8b/awseNtFP/qAk2XFtjE/RP+Ddz2jET/n7xh/nMz2Pgl8HuLTwRU/3Oykpd1yMz/40l2KVOJCP0TCH1XGpEM/j/473qbaNT/Zo6EWqP0ZP7jlGJbvhPA+w/3oD3pxtj4ZN1yiYEtwPj1Og7OnSRk+DRntCsj4tD2c2kG9sZZCPddTj0dg4P866bJM7+4FgjtjknoYCKT3O9IRioQtV2c8GDXAVFHC2TzVnkcCPjZLPRxd45lSN7Q9iJ8GdS5wEz7UPek+jlJnPm8ttIQomrA+ejjjsPzW6j5i9n3vMwcYP7eoyxcXozc/iVz1woquST+5dZvmxVtPP02eHZZZlUY/DjCfJHxGOj++ADQyjxRBP9m3RmrHj1A/5I8Ar86KVj8DIujVHdhVP/hOFGMml1U/MY2M6dzjVz8l7e2h5hBXP8FhzEdCNVU/9aUUpsGQUj9Y/Y87EONHP3n8VsU5Ljk/KQ0kJFddNj+fX53R+U84P6QsegB7eTU/32i6CYccOj/vXLok+q9EP+uFB6uhkks/Jx2KUDDkTD/Qer8BHZdIPz2lRJdUWkc/zB7+dyXaTT/BTrtzRwlRP5hqmall+Es/fbnUcMJVRD8Tr6S8/KhKP8CymvFJyFU/RGuQzBWXVz8rFiWm+WdQP/IJgSpP8EE/HYb8C9oMMj8wXkDzFcclP1FY8M7jNTI/CPyre9HSQz9cjmcK1n5QPw+LzPSQ21I/pTizg17OSj/uNRcWjZ85PzG4stXiKjc/+4xaT3PORT81vdd516FMP186CpmHqko/npcodGGWSj/qz7/LzWlOP0vj5ECAuE0/VmSPdckjRD/62Y0AlqEwPykMlAS0ixA//WrTpea0+j5wcQazbYcIP9gmd59dEBI/jxnmDI7fEj9cct+IzWMZP5e6g5nY9yY/JdelFxQPLj9CZ7TaCJImP/wOrAAsAhQ/BX8WXqidDT+zcQqs6MMrP8XcgcGq00Y/x0XMn3D4Vj9xwge58sFcP0fcwOjOjVc/c66qTtlNSz8trHAIukc6P5AigPHb3iY/BgOCnN+PDT8sgmq3MgLnPjIqVxFWy7M+0sihXVVfcj4OqgLvXtgiPrq/r0opf9k9MAFJAiwGvD0jWxCha+uZPWInNOET7mk9fwxPOC27Kz2qNWiZL7LfPIWV3uPQW4M8rIb9pNhFGTyvJFfzrKuhO0SktqA4KB87xpPeYZKQxTpRmozVlgeHOgEC/i4xLT46II26Bmf26zl/VquyozKYOZEuCdmrikE5HIqSoZHy3zg2UULmsidwOIK7F6xNmvE3gxyERiSIZDc453BWfp3JNup0ln6FzxU3og0QjqISAzglYz3bx9rhOIrXU8fx4rE5HKnevY0rczrr39DE9/klOy4d18hv8co7rX5Z9SCpYTxK9k7fC8HoPEYpSH38i2I9+D9iUsi1zT2d+PCK3m8pPsGjMHNvR3c+QHU+eW/Ftj6V0a0Vxs7nPi3Vjqm6mgo/3NhreADIHz/UZZ+nd1wkPxFudxozuR0/qvnrzzJyGD8was+5I4YsP7twUk34Fz0/vqRS+1uZQT+hJiPEDuw/P1omKs7Jr0Q/sqJNJnN2UD95Uv2rLMtTPxBZsRFhilI/jC2rSr9FUT9K8s1gmdpSP8Kh0LGw71I/PscyIaRoST+G0/rMzno2P5VWelp6kC8/k20E2QkLOD9OXuLjVcw6P6nG4XXyLjM/SJSDZ3ZiLD9PSKwDxOwuP8Bi+3eDPjA/gJ0xCuoPNT+oC7qD/DBCP4WjqtBXi00/LjZlBs4YVj9Ehkrl1FBZP5pHUSDDhlI/1Oe54pg8RT8DicARrMZDP3RYW7B0HUc/xHT1JSJXQj+yOpLN6zk1P4d5Z3yS3Ts/5QvOB5ocUD/oneAbvC9ZP4mO7h6FNFg/f+FRHfAxTT+CshPdXJQ2P1rgQxNySCI/EplLGzoALj+7uLjdJfA/P+l7iKlJ0Eg/As1Ha3SyTT8y/C3ldnNQP+W/AU2Kd1A/O6MfClzLRj/5SMWiARwzP5GjWbxDqhg/V+txCVyLGj/3FIsX680wP1F3OX+UAjw/iXa4yMTTOj/OGMLvfV02P+j30woeZ0M/I7oqMBRqUT8J6RrtfXZTP0F2ZJCqIEw/9c3GYllCPT8m7bkjg5slP30UVoA5+AQ//hmZ5MEf+z7guguDnoAiP9VOSYrYzEA/kXElrttcUD+3aCs2vQlRP4OYiqiG9kI/bffplLiOJj81/jKv1K38PtWBX9kXfMM+iOZxOwpMfD5XydwL5vUlPsuRblkPN8I9WxCTZ8ElUD31hKt5f4bDOi+TjU3BAUc7selYKAxawju/Y56csR9APAgiEcSt58A87XhiIfrFOz3z6yIs+j2tPfz3AruoOhI+tIppesGmaT73CWI3u9CzPob2krPplPA+l++cmtbnHT9o+5hfXA09P4CYr1/6hE4/arcE3v+FUT8I2T08xTZHPygSQC4VBzw/Jj3A7MS/RT/vlMjSaHtUP5M34ch+I1o/lrszVx6CVz9tEYvozilVP+1BAlu/NlY/1wAQ7aFnVD+fxdFl4NBRP+9WRdaIGFA/lFwm/GRwRj9N0Aq1Yow2P7skJqxqGCw/un5Jxm7nKz9BhC4IsOgxP3epu/bv0kA/jbPljfC0Sj/fxS4ivhxNP1ccrhats0k/5dlPw8zBRj+yVR8s5fFGP4q2mquAyks/0AW/N5gBUT+A6qbJRB1QP3awE46u10c/9Kn70XI7Sj91pMDIagNVP0BX/Y6psFc/43JKNsMpUD9/6hpF87M9P3SjgPmUGyk/sgVm0BwgKD+y6D+mU988P85tX1l3rEw/2YEHc4SUUz+iM7WOW3dSP427SVIB6EY/pM5rT3y/Mz/A5M07NAowP0LCUZ8zNT4/E5JB+GamRT9rIDL5jXBJP6faPOauf04/dioOaP70Tj9wHmJ63xtHP4UWNB+oDTk/JX/gSpVTIj9q9gNm++QAP2s3IMc7OeU+FtJ6/XyH8T4HFfIJ1JT7PofwK03OzwY/Uoh6KbpMID/65foDoMozP4Zm4c4Bvzs/DuZJSKxFNT/GdCL0sUcjP6zTEjZDXhc/2QMEAi3PLD8LjZqEa7JDP2IbXJIj4FE/+qC7Lp/wVD8zDqp+0zdRP3KmR0tTF0g/xgD/ffDIQD+0bRNLVDUzPwIObaz7khs/Eyvblegd9j7i1XsorS3DPljIb1+F04E+r9fnfZa/MT4C1fpnp07UPbZWa2lQDoo9lflIG6p9Yz23BDM8nWczPTXL0VQ5wPQ88m/7w8K3pzxt28ebxPhMPPjQJg8l6eI7rWafbollajuwjTbLz3XkOqNaisfCCnE60K2E81q7LTp8iwSAFuPiObCwOaI38I858JxkC+UeODlnnQkLLEDgOA8R8gpLAX04n0II76E0DTg5KzYHQMuPNwQxfDftiQI35PCB6/G7aDZiXhVElFglN4SLk2wO0BI4pMZB3MC48TiSOKbrxtfBOZwcN+NrM4M6lxppJFYVNjufsr3rIiXbO5tbGmec1HE8WrIq2tcI+Tx32LFxV8hyPa1j1s70Ht49Thx0AsvPOT59+NeqkqOHPjh6SKECI8c+cfsGbIYz+D4h6nJg4w0bP2W2WgJdKTA/R9GjiX6nND8x8PAQ0LEsP50evSsbPhw/HUHwulfxID90SAEXeLYvPyOL7KBM6zI/x+TKYU1gMT8FnaZStLk4P371nPXgskU/sQVbA8JjTj9x3c9N0XxSP15AdQmXN1Y/Igs00VXEWj/NF29dGqxaPylCizQ4WVE/Vw06c9FzOz8HZSMtobwlP6yRJcloHSc/7wc+H87NKT/WkKjJdRApP9NCIFYSczI/WqcpjLbvOj8jJ3CHzUg5Pzuvd28jwDM/m72QSQ2XOT8Lj1r9PutHP5LrP/2MslQ/zXFdKy+lWD+X/NKi05pSP+lYPuya5kk/yMTs0V3uTT++YjCOnJdRPwXmgwlV70o/uTM/7xl6Oz/m7IInOIQ5PwlbvjAQyko/CYl1fv3xUz8OxdVXObxRP1MlE3e1hEM/s3DDP2XSLT8SO5Ud6tglP9cgoHKn7zk/lhzW5PX9ST/a2MWMzBhSP8Yc864pUlI/B5Pq1EgHUD96UCvNOT9MP9cCPSYVE0Q/eWta2/YyMj8O6SCftiwZPylvRSt+LyI/LKaJXikgOj+neMmUzCdGP1Pelj0ovEQ/BvqjKa7NOz+8jMJpIAxBP19XqFVwGUw/TZM5xdngTT9B5y/b05ZDP6F7BNravTE/LfU/Pe1nFz8lMtAtd/v2Pq8b5tgfVAE/0lA1LEFPKz8zapVsG+BIP4/Wcd+CPVg/ArAdOjw/WT/rQ6atsxpMPxLJHl/ktzA/ARzyqSFCBT8eYxHz5uPMPg/RTi8s+4Q+9zg3WgJJMD5RRJX16QTLPbLGsIKk9Fc99Gngo8PphDpBp3DcUJ4MO5VlPmrlSJU7sc5LCEgHJzz1pQlQ75G0PHmpj4uxdzY9PR9YfmG3qz2ml+vh07wSPlKvkdzPY2s+x20viD+CtT7TnCow4RnyPnNsjK8iUCA/lom6EkKAPz/8esxHhVJQP2QxQt/LSFI/it/E5YKVRz+fjE6hy3Q/P96IkbVPZks/x7tl8YlxWD+ampkEMO1cP79UadKrdlg/uDvereV9VT9F4I4Li6pWP8QB1QQtDFQ/4slc27VJUD99gcRUe5pOPyDFwC0R6kc/IeVwUhp5OD+K+EBAHO0kP7RyKCT/7CA/k4lkvkFiMT9/x4/SPxpFP3ED+UGVm1A/X6mC2ygkUD+N5Xv5j5hJP39to16Gx0g/0mI7C5BcSj+IhPulXdpMP0avjwPD3VE/gEsk3Bt0Uj/iwb8C/CpLP8ux9TcuTkk/XwjUU4fDUz/3W9fAbnFXP02h2lGETlA/YqOkhYinOz9q21VUwBsmPxevT9qTPjA/nYulRSW0RT+4ObPUUWhUP6mtlxeitFg/fxU0xNimUz/Rxi99N3lEPwt6QUGMzC0/qTW0wAFIJD9A7+sLLH0zP0zbz1iUWEA/5z3kB7Q3ST+NheKnkItRP0U5coCh5VA/QExReNTGRD98EMSKLXsxP1wG6vRTDBU/MhJJiWU68T7IIiDWBvjPPvfP6WTpnNY+gBeafP3P6D6/qvDBv5IHP6t2pH/emyg/5N/xQ4amPz8Rln/tm15GP4Vn0HOeSUE/riC9GHd3MD9KU/i7+NgkP5lWrwUyWTI/a/vzOtSPQj/JkwWnY6tLPzu/dfS/4Ew/O6ttzKzjSD8jf8/DW/JHP3kgRN3sC0c/a/8QCmU2Pj8heQE3Do4mP4vwRjE8RwI/UyVk47PIzz7sTaKb/Y+NPkYRRnMbZT0+Kg0Sqw5a3z3E//Gg5Ap1PZgUzJsPdis9AlUh0KrX+DyZdYO6/IK6PGEmvzYXTW48WMAM9LaBEjyi4a+F1yioO+cQINbW2jA7P/dxquxYqToyxhPP7UUhOsFo0P8pltA5yUmR1jpkhDmJGDxtyQMwOVHr6vHoG9U4iBl5hu/2eTiBf1YEeogWOKCcVxkSjKY378yXvHaDKDfqDlrOZpScNub6kILKpTg2sCJJO0qAMjdRtaCw6FAgOKPXOTZtwf44ipW0MY76zjm4hbXwe6yQOkfNfRCWLkM7PKkMD26V5zsJnN4a2/x+PNimQgm/wQU90IwIh0JTgD1Yz3INuS7qPanHis43cEY+s77jqv+MlD7gNBLBeR3UPnxzSlibCgU/aIZq08iFJz8c5OOmcxo8P+0lwmIU8kE/5PmQOeiaOD9Qn9Um7aQjP1OnSFTu6hQ/1bHIg6kmHj+lmNcf974hP1z1PxvLfiE/JWLQ+SRbLT8yz1guZcQ9P7By9Ejv8Ek/WQpmo68rVD9316j6UsRbP85xLeITAWE/379P++htYD9uWJ1qH6hUPyF8HOyizj4/NcNjD+S5ID98iaQ4EX4UP77TsgpBqxg/kdBQS9NoJj8EiaFUM786P4PImOe8X0U/HXKo8Lo2Qz9iZWzUh2E2P1lgX4233TM/7jRkE6HWRD8kN1iY5u9TP2LHGaXO/lc/dAUmf67PUj+mIErkYuRPP1C096hJo1Q/w1x1Pt1wVz9OJlcwgC5RP7XN2BilHEA/TNiUB4yhNT/QrPD1qMFDP5cNReMkOUw/X/r31qiYRz+aXNGWtv43P7wU7NdsWCQ/ZPlOcGJtLj+UfWKVDYdEP1rlvlUrO1M/zwSrk5SKWD8UoxJgTElWP7j71NBFv1A/onoGN+l8Sz/UBWORtxFFP5T0QDEibzU/2Uil1sMfID9Pzx2PIDIoP446EdXdqkE/l+opijQITj+pAcSOEL1LP5NPQQetKUA/aS+EIRokOz9DlJw0tqRDP01zX/VrEUQ/t9mQ8GZ7OD+kWVBreowjP45bPun9qQY/QI2Oc4qX6D48G4Hok8oEP4cP3sLvQTE/HFHNkFR3Tz8KayUaKqteP7ivJbiA8l8/pJqFj7XIUT+AqGjgSSk1P8bocylg6Qo/C3Xi7QVK0j4grSVFeZGKPtIWRF7unzQ+JyXlKagc0T1jZqzFA1lePXYBZsofmUU6O3/aUm9+3TqZOshpL76AO1p2JLXH9h48z9Ga4020sDzrKwWkw8kzPXC3LUORVKk9q7vWnwlpET5qoYhmBKJpPgRix6u7L7Q+b6WpLOj/8D4bDSH+p50eP38ayb7FfD0/X60sPdtnTj+R9z9UdeRQP09sUr297kU/QYgowQ3UQD9RaiD+g/NPP7F37hBUIVs/t4X9egH2XT/Y3u2JaThYPz4t4vBc6VU/7RJdZlAoWD8I7UkYKh9VP+2Onl1OglA/OiuP5ZRlUD+FAgdrjExMP5OGVEs4Ez4/QfVOAoSTJD+rW/cZTxgZP3F09Euo3TE/mycmj6H/Rz9bIe0hcsZSP1omf8F5ilE/+sNbUR+aSz9ZD3kfh6tNPwAvj/tGLlA/OjfJ2m+yTz8jP32cQo5SPyLMuGhDplM/xM4tJoaLTD9rMfFl041HP6BenICP/FE/xF/v51lMVj+DnGlM6vdPP1O6JXNqQDs/QliTtmdUKT/8QORBS8k2P4NLoha0d00/lfpwY5PWWj/9UHiwqflePzVRYDm2fFY//PaChfBzRD8zpCRdv8EoP9KdVI0IPRs/pOBqAVgJLD+KJhbBphc8P5RvM/lxu0k/NG6yHQkAUz+aBkNO8wRSP9/xSGz7wkQ/yatYr8BHLz8261kIAdMQP5osGWONTuk+PXE5AxgGwD4tXTbyeYzBPtEkyI37EuU+0PYutZoaED+WM1j6gX0xP8GO8WqLJkY/GRcrTu4NTz9TVPx20jBIP4K4es++Cjk/CtWPKCPgMj+RNe3wQmc8P7oBzbfik0U/b4Epkt+WSD9nubrd8wpFP88NfgcJjEM/mV47ExY+Sj+QLcUgkF1OP0oLWA6fAEU/h7Q4FGDKLz95mQ+GJ9oJP6xljeU/f9Y+ar5Hue3tlD7xCl0tgc9EPi2ETCJOHuY9c6ihawlXeT0Lu9Vuh/4FPQ/4Jx/lRLw8F5v4wm3wfDyYAzkYCoYwPH2mekL8LtQ7Nx8GuzdZajus/jwYXWHyOvR8PO/OdGs6FPBNMSVE2Tme9yQqUolwOacJRN798SI5D/cP7LYVzDhSfkLBI0VwODZ3GhG08hE4thVSPrf8rTebO1pZZr09N0Ml/8b8IsA2BjbvzXbOMja5+TWbNaZANq+P+BXhdTs35XfV6O83KDiyEeZvptMGOXq0bXM//tY56Cuo+oLAmDpXu4dY3HlMOwGIqhtrgfE7JrGpNmwAhzziiL2IXyYQPV3NAMmCPIg9Q0yY4XNv8z1NxVP7+adQPrsxi3CYgp4+LqQTJg7d3T7JJuu1IT0PP6TQ494TdjE/hphAsYfcRD9L9soMRKNKP/2uKF+KMkI/DFhCoOc3Kz98nKzkeNgPPwu1EskU4gk/9N9BbU9fDj8OPYUguegTP05esHeThCY/iUsJJOanOT/+V3iHX2lJP8uvjzVw+VU/K/73NWB0Xz8EldK3U/hiP+rwW1PWqmE/C80nvxZuVT8KlzVxoK4+P6GZGmOkZhs/5blq4s6FAj9s/2kV3/AMP3sSloR/Eik/F9uisV4FQj9MIlTxInVNP1lvxs/KG0o/8TtAhs0QOz+OHazF9ykyP2erZWQD8UM/b7WhVqrUUz8sFEjcU5RXP9RuEKJXL1M/VIho+roHUz8NQT7BTJRZP6JGPREkbls/jc/4VrkMUz93DFd0DbNAP6VikXbdyTA/IFDtVpZ8OT+VvANRfYxBP6yjz321EDw/T8bU100+Kz9m8sp6t2IgP5ID9X1LpzU/Eh/EoCMyTT9u2XY1tFhZP+8ClyvhtF0/m7NU0CXzWD+321IZPcVRP7D6dHOXYE4/M3CclT+8ST99Z1hBUW88P8g4RmTrqyU/PA4R6TaILD++wmPES3pEP/MZgiHeZFE/p5ESp53nTz9St3VTWR1BP3vmm5BZEzQ/WlrIh8zWNz+5AUGROGg3PyIaOxgMIis/1SQQTBaHEz+lhdE2DtDzPtCiehe5/9s+JJrLsEAMBj9OFp1MsKIyPyGntbfJ/lA/C+eU5SWRYD/PlnR5m0JhP8YTrpsXOFM//mN49ETfNj9YA9Z4bRcNP2+IBwD+xdM+CmsLs3y6jD5MiODfCU42PpnbLKMtgtI90yDZJCFqYD0BYUkDWMMUOgbrv0hqjcg6RiyESV18djvhC1zVYUgXPHKk4UC7Gao8y8EA6ShrLz0rEbZGB0CkPej7ZWno6ws+QDTbKY2UZD4eGu1N9TawPuv5dgE9T+s+FmkjhgWVGD9klQ/ih6c3P8kcv6iMWUg/sVYBSM0FSz8yOf1vgQFCPyJ/LgrUXUA/zv4+Gr7UUD9q2DwtWs9bP0P0jzg2W10/2DuHGYwrVz8QKJkAPwZWP0STETSGfVk/Kmk1ylxjVj/TR3zOiXVRPwxuYJN+P1I/cOU0ucqpUD+lcpw7MCZCP9Ck72z0BSc//Qgtl0HMFj8aTD1yeswxP2uK8OczSUg/w+ymek3tUj8eB8Jf6dZRPyEpY4r81E0/87xm6QpcUT/jRcckkeZSP30uoAsAzFA/a90Lt4baUT9rpaeP3aBSPyyjBPuJuUo/wt+sIrqTRD8ds28Y6upOP6j1xxKvs1M/2zphAYkHTT8T6qG4SbM6P1j9VClvDDE/mNh9RdNJPz986s5K5e9RP3BtG8C3pV8/IkWhamEpYj93wkZ3mtJZP31QchvvNUY/FPl0qEs1KD/T+LwxihYZP7pQXBVF4Sw/12wfA3s6Pj/z5o2tsqRKP6IyAgtZ41I/TgA2w/HrUT9eigDvLaxFP2hEGa+nCjI/N4lxJNS6FT9kZiq2VYDxPoH4hY32gcI+hzpLSZ2PwD4e9htyMDLvPpqutbVoKxc/uZklNpDENj+TiI3v3zVLP5BXn+f1n1I/1fnj35hLTT8b6h2eEydBP4X+HFeaB0A/MNW47YfPRj/UQwY/ihxNP7/Y8S4I5Uo/nhWJBsZoQj/5BUnaK2lBP7wkp2cQo0w/jbW4dwTmUT/vefU6pDtJPwB730VbLzM/N8Eikg09Dz/JBWLiPTHbPqOqNpqnTJk+NR4XwvsnST5IsQ5KkrvqPT9ucqFUX349TNAukwDRAj1bR4T2ToiIPIVCQIZjbzs8+GAZyknH7juSFG1HhsqSO+1GJVnUhyg79Zmjq6AcsTqL/qY6H4YpOvDPFP8BBZU5Aa4BLJ+0EDnav7P7UUq+OGXh7OpQb2U4PzMavyAfBjgNyyu6uI6lN1fsynMcHUE3UlRbU53C0DZINFwxuCNSNrzYaKqhLsU1EeSRTwcWRTY3HkPrr2ZBN3rzKtOSsS44v6hspQ3uDDktDY9yDyTdORnP4526Xp86LTYAUX8LUjt0XoFtpi/2OyvcYk/dJo08yNHexdJ3FD0Qqx0de7eOPTcrOZzMofg9q2eQ+BYcVT4Zd60nglWjPq5kSMeb7OI+FOlmurfLEz/9mc32TSE2Pygw5pN8cEo/ikPmUBnhUD/qiF8JTwpHP+t5iymV6jA/z77vXt4IDj8x24M8UaX2PklJZE4nWv4+/hdCwunfEz9tIrFGrPgsP4xYyaqrSD8/qml+sCjgSz/SYUTgsJBWP6R6aaQyb18/Hltf0UVzYj/tIFQozpJgPwX5KGDAYlM/RYtt0wDIOj/ubjTFncAVP6fl9dFdUfM+LtxLxt/pBj+xNBXdUfwrP7DFFr/ZLkU/1HOeWpBnUT89NUw097dOP90yLbVUqj4/o/vP4mkXMj8S0YhwHOFDPzYYLopMx1M/mUtIREAXVz9bvbdANnBTP1jZcX3+YVU/zXHuRMl6XD/8K9XCeWZcP7L4SNKAc1I/gvc8PvhZPj+BUi7D6tQnP/EBzlTymyw/5G+kAp/5Mj91reqnsHktPxy7Hc2xVx0/RFAEqDamID9EykYTdWc9P6WAkzYGyFI/aej+Zz7qXT91gyl75+5fP1jZnb6b/Fg/PPRGUBQFUj+BwstY4ERRP5s/mGD/1U8/Xoxaoa5NQj+eaKRKjikrP6vGnxQ5OS0/9jjbkIBIRD8qAKay5DRRP25EY/eMcU8/iuxnGMUbQD+QCtcjhCUsP+uWXIdMSik/mf1o58OWJz/h/AW1n2AaPxyFlIwHjAE/j3I+q9+P3z7Z8OZ5I5jRPhptQUVbNAQ/jFbRPLYvMT+OdomLmVpPP4cQIMpykV4/gXbGHAraXz/wkvQ0YbxRP1VGgxQmHDU/CWmuiJzaCj9qO6PLT0HSPgUPhyu9hoo+mqG5dxaZND6q7ojtNhjRPSFtrG5TU149d4H/UqFPATrNx3hFUZK+OoJhr7Z59G07A6sFsWaSDzzx2C+IWNGhPAlkizzHgiU94cLcEYHDmz132JE2riYDPspTgB/cPFw+rSZ3VsI/pj7WLoBBTrziPh+Ag1ed3BA/7+Ru0V84MD+Xhi92h7BAPxV57hjpjkI/WRObUzHLOT+CHU2Na4Y8PxFP7y0Z+E8/5fHUVbyVWj8xigMW8/tbP8rX6yCAOlY/ZMpkBVf6VT8wocQxfyxaPxMoD+K9FVc/DLhnh5/6UT/8wgobaixTP4s4+Xa75lE/rD84sfG2Qz+7Doo6WLooP626YyAgXhc/T5oRAptSMT8yosOBnoRGP6aaKv1DYFE/gp4Cf/YbUT8f18osrTpPPyAcJ1LzrFI/VbmrD27JUz+XfZr03S1QP18beu6zt04/KPg0OzjgTj/i931LiAVGPzlzrcAFsEA/DbAksUzHSD/GMi3p175PPx+wIPED+kc/GOEOPU38OT8mgyh9epU4P3JCqDKF+0Q/3XcPXz/oUz/a1zAUrq5gP7GuuoGEcGM/umSYPvU+XD/4cPEdTW1IP+4tjvesdio/xvi9VwUaID+1AFYQKhw0P2YAa9+CXEM/DaMK/PQ1TD97V3KFy4JRPwHO1C0N1VA/Cd3jYhaRRz9epxbFoHI4P1RXWIvskiE/FVcynWXy/j7sL+0pdmvQPrM716bKm80+IllUWd1L+z6r8hOT3xYhP5r/l/eqOjw/xj8G4JciTj+GXYZ+CJBTP9pKQTLRB08/Ev+81YlvRT91WF7ZIY5IP2n+F2OY8lA/3DGnNq6MUz8nDvt66ClQP0P+m4zlHUM/GYvNtk2iQD9y6us5s7VMP7uasP6ZVlI/QzWOkQL+ST+X281g1ckzPzDszLSwHRA/uE6rAkQP3D5/Obk/YRuaPp9RbwqU9Uk+1PpLNAGW6z3vh0e3RlR/PQz1ID/7BwM954lx5OjoeTz9UrsFTfD9O34zLyxWpqg7teztWpzfTTtVjEwT+H7jOg/tbRgPM2s6E4YdzV5H5DlmmpV8NUZQOcmpeEEyRbY4A7/DxOb9VDjvPKnMWVz8Nzd+gpVGg5o3MLQ+RKOYNjcyyYd1zcjQNgIiEc5NJmA28H0efYBp4TU/pfoYxKZbNUP7ifIn0EY2z5q4JZPTQjcEGwpMmZowOPFu3+ixTA85Nj4EpyCH3zlzcutmRfigOuU2W/DjhVM737ErHuIA+DuNS7piKoqPPO2LkbsHJRY9P8nDncydkD3Av3HWUqb6PXlnlb/A1lY+9U+Dku/qpD6RyTaEcXnkPs6LlAPUahU/IjQaal3xNz8PgNov6JpMPxwBxzr9QlI/7TszBMDrSD9ZHkEWhzQyP8TMUksbgQ0/vmrn8Dji6T4lKzAFLp78Pi4TG2tmGCA/T1EQnrqROD/iWw0ueoNHP16mb6mGm1A/OivQijrBVT9pBH61A5tbP4T3R09jNV8/qoYh+2QbWz/Nn0c1FJtOP6dSwTk8azQ/gtw7UNFvDz+wijW26JPnPtjgjWKtUgQ/kzhACJXdKz8Q1drxvF1FPz/pJ3Ohk1E/Jpl9fZT8Tj+crOzqWKA+P5ZO1NHBbDE/Dcq9mIASQz9ezmSa3cxSPxHFatVRt1U/JJvnxWAAUz8YJsSi+FpWPwBCn6ljx1w/CjpMaG5gWj/EqQf+Oo5PP6kMIvZ+MTg/wYAgjTrtHj90+0FArPYbP7vrAoLvuSE/fA7s4k4vGz8kpzcvqFsQP3sI33KciCM/n/R5DOSsQj8oA2imXSxWP7Xms0ZFDmA/KtElnSzMXj+fuzNze0RWP/V81zYEzFA/buOmey1kUj9vjwKAl/1RP9u65BlHDUU/GvlsoA4yLj+VHMI+Vu4pP38V2ShKKUE/cbtsa9QQTT9T+2n6XoFKP/ohhT9Mfjo/65qJs5+8Ij9OObeuGckXP9rsD/r6fRQ/7/jIdpBMBj9ekLZHZA7sPqvdvkpZCcc+wrqXfkT3xj5438LGOcD/Pi5C/5r+ESs/T6JLUmSySD9e3ovh0hRYP5JrbDiYGFk/dlwdzcXzSz9TxoS5JqMwPw3xMrfTKgU/1SydVWbIzD6uV5HmOeqEPjvK7V00PjA+8WZqMeL2yj0o1Kjjp+tXPUqpCPxsLPM5FaGYP7WqsToojEjhWHVhOx2zlZFfdAI8auiC+e3alDyCHilj6TAZPYWOAxuxQpA9t21sfk5v9j0TKT3HUIpQPlOKznScEJo+mw/1QcLy1T6/rJ1EhMADP0d2u8Wh/yI/KPc1z6uMMz9lYZEoRdQ1P6EdifnFHjA/CM9jzdlTNj9y3TeSYq5LPyFBvmUjKVg/MxdimaasWj9utkyeK/9VP821GMbmCVY/N+kmPBlIWj+HAon3hwpXP6XtmfEyZlE/vK67dn8PUj9xAKL5bNhQP01YSVFRoEI/QBDbk7joJz+XSPIbAtYaP1Kk8NfKPDI/6+gqhLXuRD+qUQCvpzdPPz0zIdT/cVA/vRyTt/YnUD9h9LG4/GFSP/Q7Of4TSFI/d8jYAkS/Sz/WXIqsXIpHPzRZwFEmgkY/bXxXOGlJQD97WxFfMmQ6P1eqabETWkM/XYUR0mH5Rz9+Aj7WyphCPzafZ0kmcjo/zSKfqjKwQT/SLxbIUmxLP7Xae61juFQ/GPzJIqnqXz+FbrY4eg9jP/n7BnGU/Vw/4+wchPUHSj9PUDkt+qAtP+3rGnc0dSY/syu2FbcwPT/nm2wSc9pJP/9875B5yU4/uqi88HmsTz+wWuzQy25PP1LrY9hnJks/me+z79VfQT9EYzNRtRIsP5Fd4oqT6gk/ShdLBakb3D59d85YiJDbPquQl0Rn0wc/oLumtTnMKT+PIl/BL5FBP6fH8OqPkk8/Y8ZxLqN+Uj8dGCQMF0ZNP+NQeguen0g/oNi91x+lUD8v4qdH/0dWP2RxU5GM3lc/2RiZZ22qUj9stf1QyuJEP58tgM/C/T8/1UDtFjipST8iq2UW9zBQP+nP/rCj50Y/tYIxW7xuMT9LbEugvWQMP4a3+d7Pt9g+TpzTCHf/lj6aKtNVK95GPmad/eUATeg91fH6FAWZez3jBEwrmb8APftmYX2nxnU8qUdjotHe4DuDwgGZpmBjO+iIQ1xYVQQ7SbHInLZ0mjrcdKboGnQiOnS3BkKyg5s5y7dsR6v0BTkEymwWeSplOIxIy5D9NOo3YTxiExM2kDfHy2jubfArNxopRhvSwsQ21z1FaKhbXDaD3m4Obp/qNbbxJHhQjGw1FIFr+9zNOzVfhk3v3RFFNh83iKxGY0E3IlNAQI+rLjiHPzEYY+gMOepK3MNaHt05WvBolZZYnzrWz9k39wdSOx2tIgVPK/Y7kEpcJSkhjTy5iE6r0XMUPQqTmdp4sY49egkSJvuc+D0gA9Ly9RdVPhiGGhe6UaM+I8TVQ+jo4j5EO+ea2McTP98nB+/5HDY/fdQxZU9rSj9D9rtnud1QP+vj63fNA0c/uf0+bD7KMD+iMvSAKY4KPxyYhOsBxuU+5q0YHONABT/gI0nmT1IrP2n9mxEldkQ/ZjgGhlv9UT/yCORERr5UPw7ejbTUWFQ/V7T0v4COVT/lekhoIvRWP8R7Atf+TVM/o/X42PEVRT+W8Hrs/i8rP/mk4kHOHgQ/qIPgS7ws3j5fNEn4V+cAP2aewH1/8ic/JuKYk4FrQj9+RYYAVVFOP6ylz84Uu0o/MXQoaLNzOj9U5B/DV1wuP/6JBh7EokA/QvmUVrFGUD8ew9QgdeBSP5paehgik1E/Ag/V8LsAVj89nFoJQRZbPyuByECtj1Y/Pp/gjixUSD9UGDCmXRMxPw6BqrUGUxI/4wUdIk/uBz+98MndZYYMP0SeCdXwOwY/+KD0BNjmBT8j43Esgk4nP6A3E7mwEUY/uFSFCfVZWD/cZz4l+wBgP/S1LIRjO1s/CSx6VuvUUT9yNGGc+0JMPyFbUmnodVE/ZkjEb43HUT8gLPm5MfpEPyXeP9B+NS0/RBBXzTT4Iz9NLoQ+rc44P7r4jD5q9UQ/2GTHO5kXQz/5Rp0IAdYyP2IUoWGnRhc/HJxuCu9EBD+NYzvbS7T+Pr6NOM/mSvA+FSZ0Zvm70z4HAi6z4OOuPhu9YwzMc7w+X7vqCWFV9T6jJ4HSgjQiP0+xYjOGnEA/FDhm+iAzUD8GAjRsfeJQP0YHwvkbz0I/4DHnRMNkJj8LHn0os378PumRh4hIYMM+R6G4ycMpfD7ZEheTCuAlPoCh6yndKMI9CqaXPKgcUD05j7RY/wzjORNuNO9xoaE6qQhv8t9xUTv0+3JmGHPyO1CFAdmk2oQ8MndONiwxCT02N+UqB0OAPQA3mS/db+Y9NH22Cr+KQD6W5Hq5RRGKPsQH2mFC88U+Q++4sd3A8z75fiuB4/8SPwtbXv2ejiM/hWam4G77JT+tv4A6h7chPwnkrjN31C8/UI6rq1BPRj+k/S1a+UJVP6fu3S/3hFk/oka7QhYpVj8vCjHb8ABWP1UhZuEtylk/J1A9xPNBVj850kLQyWVPP5lIjSOl+k0/wq/w8BRfSz/eui2Oz1A+P2fXa4rh6yQ/H/c2ygmUIT9b2UBQ8Lk2P5DATPYqDkY/imLUqjCLTj/Ba11AVg1RP6yvhH6TJ1E/JfaQTgINUT9I3XTqKDJOP8dITBa2f0U/ru1Fpu/WQD/Xsp73BaM+P1ocfsQRujc/t/6ruZyzNz/nfGPitxBBP032/hPpMkM/IHbhRWmJPj+aMrMkXXg9P8wj0nvB+kc/f9HTu6INUT99ybg5FbhUP9T69ilnX1w/DxGnTdRmYT8Gm3R6oQVcP1Xns8J7bEo/0cUhhbMHMD/Y4yfqPgUtP+Fa790VP0M/8pOSKqVAUD+ODwkXtt5QPzwAY3WWKk0/lVm6PEmCTj+Uvc99ZBZQP+2HurUukEc/vEHdtQ0qND/KR2dc/wATP2dyLFpN+eQ+B1ie9Gf85j6SqGNdET4TP3uMt7tcGjM/hhv/6ZtWRj8IsACxp4hQP1rHI3tKe1A/855ImI1GST/djr0gPfhJP1MPF+IfxlM/rO0CdQ2YWT8DIj09U7lZP/S2yjaAllM/Qy51wIV1Rj+8f5FCh00/P21lCUptykQ/hz7TlTe8SD/sHmvlhkdBPwUfaHFIPCo/f1NeQMpaBT8qdR1tn5bSPiWJwoFhS5E+gV0A7lIyQT4MNLy4LUbiPR/tGPPewHQ9pdzspzgw+TwvbiE0aVZwPIdRwBSTxtY7l5kQlbeTNTsjaw4/8iG5Or12DqS9r046FI5YFztg1Tm0skDP0N5POTgVG59wZrk4fNtpjz0/Fjg1eCNxl/WAN4hyS85xACA3j49w0sbJuTZEAgMRFMhQNkHscR/2suQ1SACpxo7JcjUKiPBGBv7zNEwcGibygzU1aNhMhqacQDYWt0HR+mo7NyNKmEtaLig4zXfFR6PKBjlmtyPhL/XWOe+2mMbFtpg6toFIi6tuTDtkC223i3rxO2xC1EVm94Y87klvuAogED0B0bqqAzOIPY9gdynXZ/M91UZ6fXShUD7cVqUqp3aePqVNyVZe0d0+NyYTq+gwDz9pZ2fsPm8xP/7YMuxZ1EQ/Iw3d5WGYSj9X5iIIJSVCP5n4SMU4dyo/YT5MQW/fBD9iLK44dnLmPv6FDqrX1A8/fiZ72N2sND9HvFlEXElOP4/PG1ZJVFk/HU61oZupWT+evG8ROiZTP/ZWPIM2y04/3h8LOU53TT9qR4WlO+tHPzim9b4YWDk/ZiRUFjmeHz8uYiy345n2PvvUg9dSTNI+hCcY5Gyi+D4TL7IFjJ0hPzQBmyxpHzs/Bk5VA5lVRj/NEAbNc79DP3KgX53f2DM/VPmDnVjJJz9SeeUefsQ5P/ogaGop/Ug/6NG6KEa5TT/a754n6/xOPwEngBjqFVU/Rx/egmrMWD/0VvKIN5pSP5/Z0JMnn0E/K3HZUnfnJT/x/x46POgDP2I/BcGFIPI+5MYS3lDG8z7h1PXTePTwPlGscZjpcAI/a/G15wQzKj9CQ3/V0h5IP7rjktCMF1k/L5FG5nxNXj+2uXho49hWP+baBTKVXEo/ymV7bRJXRT9gbxCBA/BMP3ml7WwNQ04/n2qWNj3uQT8kOa/W52QoP2o1ysAjxho/mgmsNvmjLj+uPmEX1c05P62CmiLpfTc/9oHy/98EJz+ucpEN7UYKP24WpZCED/A+TvMN3tDp4z7IKJN+FX/UPhaKodmcMrg+vCT0BeMRkz4KKPfALY2vPqpxdB0Dfug+QVcPIc/oFD935vq86xQzP3VEymuGnEI/NUzSkLFmQz8eZui6gp01PwxLKNgAvRk/dUcAW7Rg8D5w+g/dv0a2PqCeIdsMMXA+m3rvYBIoGT7JScrp9eK0PQOXaKWyiEI9KcQGlNA/0DmqBIei4heOOkW3LgtQyD07hJMPqCyA3zvFbv2Awc1xPEh+LnHwgfU8q3W31l3Eaz1fNqaT1SfTPe2a28DYPiw+UU8Suk9Bdj5ONcnnbb2yPvVrnZhD3eA+wL6jtZo4AD+oi4j097QQP7qv05/1+BI/EDhBcnZoET9Ck3JtfSQlPwu4TONeG0E/exJqNFcvUj8s1aGTu91XPyRypyK0tVU/olapQDo4VT91PPOcW2JYP0cWsbqls1Q/qy5FSdelSj+F1P4aUP9FP6I/9NgGKUM/x9u+7ddaNT/bSvfL85khP1RVdXHCzCg/0r33dK+MPz/HWkJ8h+ZKP3+nQD7e+lA/+e9gWxUnUz+bhBSf98JSPwY9j9LfG08/mONKY1JGRz+tQqCrtD5AP8fCsO35Wjo/fK+SoSGCNz/XkC4BweE0P70lBsjAzzs/bzLS0wqiQz9ix+GxGKhDPw0Hgw0wlz8/g4jyJfrLQT/C/wSQI5FNP1aHaYeyhFM/yXAwUOPzUz+XODbuw+xXP6z8qRY8/F0/FV3yJPSJWT9dZkunDzhJP2i58q2XLDA/yPaQ8JB4MD+slUOfPBlGP9cD+nKOQVI/ecvwa8ylUT+A18i/1mBLP89F4WHSbU4/gZYhwO5XUj+QDS+PU79MP3WdBif9ODk/tTVgGRL6Fz9ECgDQ3OHqPtWmFvTCp/A+R1P02DKWGz86DJlBYDo6P2Z9sejc/Es/SaqjVBi0UT8izaSCHjZNP84wBi8apUQ/JskPn43vSD/wwRB/nn9UP+HTYt29tFk/bvAqzZ+AWD9VMscXMsVSP2GS11mjJkg/uIjgR6fFQD+zciZ8RnlAP8jlj9Rrt0A/TOsnLw5uNj+Kedu3WuEgP4+2Yc4Zbvs+E89c8Cvexz6qFYg5aTSGPvhBZlsmFDY+krCc3kx21z1HrgXMLKVqPev7sO5pK/A8fG+hQy75ZDzfev+HwhTNO/PlYsTo1CU7kQzEjfmmfDqEDxFQijP/OWTjREMlJoU5zqjVfaeD/zga/VDg+xtpOFSI3e4Yg8U3cKIGiay+HTdoWYiaon+rNjACPhULwkQ2V9nZLLPr1zWywF+mYjVqNVMI7e2QuvY0RDXgm7g7eDSFB2g5NPUsNb4iIctvXDY2z51B+BN0MjcpE5hEYEYgOA/tRtDtrf44dXqcMjTnzjlr3VFJMaKQOny4h2LcIkM7YGCQgyCH5zszNOKcLup+PGA6teOztAU9QoagdYNJgD3PKFr+JB/qPW5IdW/nYkY+V9sA+tSAlD6Yi3CblhHUPhCKV7Iw/gQ/GKULkOp3Jz+1wbu8zgk8P7ZJiu1V5kE/50kltbxsOD9YN7lrzs8hP6f/MclFTfw+dkDTxGfN5z5J/rqO+AEVP5qwxf6fCjs/d8J7sINvUz9aGWykvX9fP+itmrQlpF0/eHZKurMnUj8lJVJdrQNFPwiZRk1HrUA/9FCnYnHLOT/l12cn8ZQqP/uO8QgSFRA/AJH3RSpC5j68/oBAaAfEPj0tvwgM3O4+i6/dBa4jFj+uDNw+Xw4xP4ZpR7nFKjw/WAWx+/VDOT8Mk0JP+zgrPzkPfpq1XSI/LaSBjUgbMj/FUFdBFO1AP11IxmG5TEU/dL6Epg3XSj+Ewe3N+lpUP6dBqdpcDFc/2U69gARDTz+ftNfaHZk5P3T2PBIQ/Ro/5y9/fvJL9D4bOT6aYcvYPqwj9CjOzNc+m2kjbbGN2z6jhpFUjQ8BPwa61iOg0yo/O66bEJVASD9zvYjG7WRYP2BSyN134ls/GX5aSWUWUz/owpjGqwJDPzR7p1ZuHz0/iOSIHmnBRD8Zu66ghhBGP8O5D0A/Njo/jJQZ3seFIT+aYAGd2lgPP1KufF6LLCA/Wt4FbzUfKz+w7r7kkq4oP9P9bh6BGRg/XhIGE4RT+j7yIHWg7B/YPpadA3jpjcY+f2Eqanwntj4yqCz7Fa+ZPozcuHL/znU+CwJD20N4nj6YwvjG4gPYPkWYW5zWgQQ/VQhtk6G3Ij+FFsWGMUIyPwqcPg03CTM/Pyn8miA2JT/bhaTRzkIJP+fa+a+GE+A+o95TzI7epT4DbSoFxstfPrFnzWYstAg+gFc3+XaDpD18v0fkmjQyPbi3g42Drrc5SVBc1lTudTp+SWGMjLQlOw71LEE29cY73b+Uc3rzWTznLX4GmFnfPKN5NhasPFQ9r0rCT/bruz0x0ntJ8JUUPh9p4VpGOGA+awaHh9lQmz6PcQP085TIPpFzWco9pec+2pQhEFtg+D5JTeogkyf8Pj4k4u8Bhv8+V0vBpBPgGj9mgHAhG0E5P/0t+KnC0U0/NU+NLSMRVT9Hms1YdOBTP1EwHy0QT1M/z142H94JVj8YqB9xop5SP1vEoxte6kU/RAjizQhTPT9kjZCdJWM3P+i1XdP0Gys/St8WSwZBID8XAwxIQ0QxP35cgCHMcEU/+rhJScn/UD9tqB6dJtlTP1IXsn+dr1U/kQ1jrxhNVD+3WHTBCLhMP1cAZXcWQEI/t+llsFtrPD97sya6kUI8Pxux5itlvTk/9cRJUjYFOT801EEnrWpDP3EhsQeLB0s//CzcuUKrST9vMvbLkb9EP/9HqTU9Q0Y/8yzu0MplUD/Setta3wNUP/WFfRt1HFI/KlcM6u8zUz+DeqTxIldYP/pv5be1sVU/3bx6M6IyRj/+bh40mJ0tPxg60ormKDA/HmHYmFvXRT9q53VE5+1RP9tedppe7FA/M1rqBlVXST/aLipMEpdNPwo/cf9YBlM/jfr2YL+lTj8hRrgO2Sc7P6/MWVtF6hk/aHirJ2+O7T45TNCBGsb0PsWuNwPoLiE/QDcFuJgFQD8sZJWiJlVQP0e5DL4IxlI/IY3VTM5mSj9ntPyb42RAP2fbqvJqmUU/5jmH6BOcUj8ag26JV+NWP86dvQ0WLVU/BQNQg8U0UT8u7TCBJRpLPxA0JXarW0Q/IUqZPEwJPT8YwmfEJlA1P1g+an99dik/9tQgorOjEj+miCoaOhzuPgvbLKHyKro+CrtBeZJWeD5Goy5H4jIoPljOIPD3tsk9qzGqCRA0XT0LUdEA1LjhPLBzmlCh/FY81HuMB1jdvztIk46NMZ4XOxEBEoPBS2M6nL7Fv/6wtDkjigKgjhAyOTEzYbqkm6o4uTt7RqUxFTgQApS62BFyNy2zFd2hTMI2xGjSLhJ8NTYK11OL2gfNNQOgioQVEl41bSSIbk/o7DR+x//bt5t3NMGI7vkToRE0u0LgvD2jIDVS8iXF7rEpNmnfUnBsNCU36WC06ZGzEjiKXdd+dqDxOAd78L5ewcE5vCAwdRMdgzr8UQIcRP01OzSXiSUoCds7G+tSyhTDcTzT5WuoMPH4PLOkn9sst3I9NzGCYy0E3j3ICWhDXbk5PvTHuq5qj4c+49V+RpYPxz5ipw4udx/4Pkzgbp6t9xo/M1ulk/8bMD8IjDwrjJE0P5sqJw3/ECw/NvSvDiR4FD9pVF6s4o7wPj1MaWNf8+c+glLtpnfhFz+GpLaw92M+P+ErLGXAfFU/b2P7j4kEYT9wz3G6nKtePxLief1aq1A/WlI0MDCXPD/kx+ZF2BsxPwBOHrP9iCg/83ndyoSrGD+HdicrZxn9PsIL6HHqjtM+R66Cf1yDsz5aTyfa9IjgPgaknT6yxAc/JvZLsQdcIj8iHvB6ZLwuP/Zj504MhC0/H3o4mhiqJD9MJbo/KDIiP0tETRjAUSo/e1SUDnznND/USEv3WLE8P85AEGC3aUc/XaAzv/rKUz8YyA+7P91VP2Mked3/dUs/D6B+vsPFMz8n+9knflgRP95s+7ExruQ+2qW5em7rvz4i1ZyxlZO5Pq6AygvLLMw+foMpUsFl/j6FPWHoxM4oPy+X+WLKfkY/G8qIajeeVj83KnHUW5ZZPzqAx0wQyFA/E02PcIlPPT/wfbhWv4UyPyN563hAuzk/W4283yWFOz9CZIuO5F0wP+o3OK9jmhU/r8pqGlARAD9VWenvNzQNP+DnBl84Vhg/DksK4PEjFj+HGeOlD5QFP7zt4daEBec+wAM1PsQvwT777M/7kKamPhDmQIAFkpQ+3wcwSoh9dz49aRoe11JXPtl3BX+zVYk+zmJrHdobxD4kZEBCryzxPriKz6EDWw8/Q9cdq2GXHj8A9sl8+uUfP8fwsV47xhE/qKh58K8r9T4auulqOfPKPsWQytpVVZI+RnntVZ2oSj4/DTamGbf0Pb3ZqSEyNJE9GD/r22iKHj1nfaXoeHedOVw85YbqSVs64UwaQBACCzsOag6bFpGsO/fK6GdJJUA85pZiqS6Bwzz5Nd1SYy45PYuNFYYoX6E9BBEvj3ad+T0IXEB6vC5EPoDCP9Sm/oA+344ITHGWrj4rtsouyWzNPp/PzibIYd4+GGZrFVQX4j7gGF/VCJzrPn/WjvSCtBA/Z9B8Fgr6MT+idtv58yZHP+ufhtT/VlE/4WGJXRYAUT/vZyLIF9tQP0AtCRykllM/1StqiiDWUD/rxdnIDqZCP2b41Jq0NDM/vMyt/XZnKj8CGFQFOnkiP3nzc6qOaSM/SzE2s1XWNj+PW5+clHNKPydax7u2BVQ/nXXxTqEaVj9dNYc5+RtXPyL3CeEy0VQ/TooiuCzpSj8KggknM1hAP/TBARlqc0A/wMI9DfPsQz/r8mMNRE1CP/xqALs6aUE/pbKaPKQjSz/wSR5jBqlSP8UTFsIdvVE/3iV5LKg6TT9iS3Caw65LP4Xy9W8jgFA/kTC1nq4jUj9pBE+p0Q5OP7X9ArcW20w/JxYWaYxLUj8us0meAdFQP+DM2Fl5nkE/P/Lgo6IUKD9Jkk2sREYrP4UeEy/qkkI/CfFwcS3BTj+gxEGsmpNNP6/dSVnB1EY/WbzrmCAUSz8TZ1n7t3hRPyUEjTaQPEw/jYF3qG4XOT9E2wG5wgkYP3ypxShEEOw+JR3uV8w79j6HJ/aQNW0iP6+t6ncODEE/6tBeRfkJUT8S8vsSLLFSP6Lg6QWGzEc/2Om9pvChOT9pmVm+n+ZAPzFciFitNE4/zxp0Q5PQUj+YWx9oMrRRPzoL+IbtL1A/uRqj4bi+Tz/O6xq/6QRKP9N9TRdkLz4/oKa/+OUMLT8cfGFGHYIaPzufn4Hv3AE/ssl7o5VQ3D6RNUmXRoKoPqJOWb61xmY+PI1SVEykFj4ieh+TLw+4PcquDSi7Uks9irn407mU0DxcCHUTv4FFPEYg9MQI0K07dORpT1YVBjur87oXH4JROpg/tSZ64Y85CfWePOUy4DhsOccC8kRTOGThogPyi743Zlp9oIMDGjfYM6J/D0BoNgaXkTk218E19U5UmJacUTVyxNX5o6PgNBYp0YqE5ms0WBL6sZEZ9TNkQhiwuKv2M31I8AEKUhA1YTvqZoY0GTb1yk1i7swUN+Lkdp5LWAI4K43U5G5K4Tj2PmSJtmqxOUWRtjrKv3I6mXXP0fGRJTtfahWiNIXKO3t32TpkbGE8cY4g/nR36DwLCtj31FtiPXfKX92tcc09vwLWn9A7KT6TCz+mbRx3PnzATCEJn7Y+U0eGGbup5z76zmlpD3QKP84qX9e/mh8/goyACSktJD/TukfxBYgbP51BufJ0FQQ/QqOCujbZ4D7XUQNKCuzlPmBaj/dBSRc/u2rwAp5OPT/6ePrS8mpUPzn0QxUAvV8/XQISGYzLWz9Yp6p/8z9MP92o8j1qsTM/G+++JHFaIT/97Zus99oWP8DerrXc8gY/msRGOl/36j40rLigi9rBPvQBY9LKqqE+u9WQmI1Mzj7K9LsKP9b1PpssBhuNFhE/iZks45qIHj+CCgUc+xgjP+hEiweJdCc/sHzo5mgtKz8KfiL2Qw4qP3+hRXqNryo/jH+IeqErMz/xp8Axc1NEPz6Q95zFoFI/jafLjtJQVD/Hdc/8u2JIP/m9SPRNKDA/Zp3dhgyACD82jID0TRnXPvwj0FjePKU+dAxXLXjBmj5cQZMhOdLBPtRCpPVI0/g+Zqafza3wJD/pUbreCZZDP3Vr5Dn0b1Q/LbeCcw0BWD8ifoj09g5QP2sm4UKUMDo/LLNnFMa8Jz/gLtNlaMArPyZSCuVSWi0/vXO+2Vl0IT+2XA8WntIGP12uced15Ow+t9OlorGP9j5D/lLwsaQCP+SOpHaU9AA/2AFqpFqC8D7fwVNvM2XRPnVLNE2NzaY+5lGPeRWihD4/O4htSnBwPgKenfGCdlI+CbxfzjmDNz5pxM3dhg1yPlKWaGbCwaw+RpMWoYiQ2D7NRIj5SG32PhPvSvwk4gU/uTMmXVDSBj8qlcTay2/5PkP2o4glTd4+9xBwURVKsz7vRldIZD96PktnZQMJFjM+f4CPr3uq3T0ucsGGC6R4PazJIPDY3wU9aXx3tsdMfzml0C+Gjvw8Oj7Z/w4+sOw6g963BxlYjjtWsThldCYhPEP+/zDat6Q8C/gUmnm/Gj1V0JT/2nOCPa/ICPd1Nds9C868RDRwJT7zWBBVWA1iPiWRPkHaPpA+hY4e0KVCrz5U71hMoC/APoISIhAUh8Q+xxuPcXkK2T4T5KN1sdkEP4184v15LSk/neEDXz19QT8yFo5Pe9hLP8Zxvi56Fk0/r7subFSWTj+FH4NshnNSP/83ZxVXaVA/gbtLAuzYQT/W4nmJuOUsPz0TNoOxGiE/jLWrJJehIz/9HEv0aKguP8nb2ZZ6XT0/ZQyfAoIfTT/7jVgCQfdUP7dmxerCVFY/UlkyGESnVj970eWIWA5UP0eAtXY5tkk/cJb60jbJQT/G5LrYqLlGP9Or92WHTU0/5E9yoR5hSj9sth53aqxHP450eBgdjlE/khNXXlTAVz+iCQRAvvBWPxyp+wkhcVM/P7AnUJiOUD9m6uPDcsJOP2bkRS98Ck0/1zVzERU+Rj93SyH7McRDP4OcUems3Ug/P914hZpFRz+gn9MhYrs4P/lhdUi5ISE/LdUYiWDWIz/fpJSMens7PwEmrSiHo0c/lQtTKunISD9wwD2rry5FP7kAMCSqz0c/6/VHRHR/TD/sX4zuCYZGP3ukSEEtBjQ/M1CB2Ot1Ez/JTzUW/NXnPlErOmjeePQ+Hkc1ul/3ID+CAb5nkFo/P48d6VQONE8/pfmI2injUD/UcdTCnbJEP8EfT4bEFDQ//K6OuTO8OD/kVE2FHzhHP+3fU3tbLk8/k2MN3SW5Tz8NVIY2IFlQP9qobSHcZFI/TbPmjFunTz8nGqWz6c5APwJ8PNoIeSc/hZAvYMowDD+aBptbj8LuPnJ9+xWW/sY+syX8MSqlkz6BwygxlDRSPmALItJJFgI+d/G/+oQ3oz2sqeTZt9I1PYA5Yp2AfLo8c6TwHmotMTz+KDugqc+XO5Kz/BMno/E6joEWb/XsOzpwfcZaKbZ3OaR4g5XcT6k4UlYLzmQp+jd6YlW6atRiN1CCDa5l/782WjPr6eNEDTbbV65V3pFUNVFLIGi9s9I09p+14FIoYDQTH7Hv5qjnMzrSSJl+R3AzXfyYRyTq4jPx29DHO1X7NNUO4D47GwU2r6aBDQFrATeMt8flMLnuN9vxSzg89cw47WIi4UsrnTkYPZUkhWZfOuhUm836DxI7sjeBbyk1tjvrCbmDGy5NPOacz8DofNQ8K7IEJR2/Tj3fQXCm66e4PTTHzfxVIRU+i/g6PlBaYz50YZfUT/GiPmA4vkGj0NM+paR7+s0m9j5HBVFEDXcKPycAc/825RA/MfhxxugNBz9GTUIOgNPwPnqFscoLSM4+Ta3ltlbG4T4Rfsxn8HQTP7TvRoqcPDg/yRfLJ7aoUD9puGQRu3dZP7lO2Yu601U/awjByY1iRT8e17PREX0rP/7DQpREFBc/VCZqHm3KED+eOg0wQ2oCP9W4375b4OY+PJyPS4QXvz4xXqtZ2yKUPpWxuz8d1rc+8+jBpEpW4T6KYUZ1y9/8PufJEbd+pxA//P+Z2zyFIj+Zf2TnQG4yPwhQeno03jc/L0vmnAGAMj+HVKTFWUwmP0UN4T8Nwio/65XN8jDRQD+eDRlGPyVQP3CVtkoUglE/zWJqMp6ORD9SDx7EXiIqPxnJxyiiQwI/ugqGH2tEzT5i1e9Mp/uQPsgyMW5JWYA+hKmoNPjrtz41IfJg4qnyPu9nvymLlCA/bx1Pqt96QD+6+Q9KjmlSP+o+y54oJ1c/RubNFlNdUD/LrbGRkoo6PybHjyNYISE/2IwLwmaxGj+wlHNFWM8aP3046GCqyg8/tk5xvL6j9D6FB+Ri/snWPhqkKu8U290+/V+XDtdi6D4Wjo/fdCvmPjiXPY5Xk9U+SuLkhhaWtj4IaOjWjnCLPhfzBdK8f2E+UCk+3Hy5Rj7rWlJYfuooPg46DmLCTxY+n54rrIMBVj7yRS+f9Y6RPoWXm9x3AL4+zCKR1RFl2z7qpbLvD7zqPumi2cx34us+Pe9pvZUV3z6nMv74X4TCPpxsGVIjlJc+SSEa91YLYD4CtsR9KVYXPknr7ZKHI8I9TJ73CvgiXj2G0LNfwMHqPA4mryvAYVw57do4Ub5IGjpyzmyWiwPKOqVA7Lfig2s7UY07KUYa/zu4TT8uYcmCPPbraosXQfg8K/IsjHS7YD1Fcq/0E6y4Pfk2ZWSLcAM+ILRiH4FeQD71uZgQW3ZtPsGXPu2wWow+IMqOUZuQnT6DU8n3Nd2lPlGFJqbjAMo++Da4lwkf/D4V3hRSmuQiPxhJD4zUhTw/lLQ8pW+wSD+15n1t0HJMP0f2hSNMBlA/Ozio90CdUz9SdVHM6MlRP5nH1pd7ckM/0QpOyTYWLD90+Jg5jrchP0XBzjeoZDA/QLrRHUmOOz9SaYqkAGlDPyJSo2vFU00/0FVmFz5nUz9IxHoUjWlUP2C36CP/7VQ/V6osLfzcUj9izsH/zeBJP2VC7BTJS0Y/C+lr4uurTz+4pZQXYtNTP9XfXhWRNVE/MLFMTZeATT9WJuA0vMxUPwNa000Eels/0769rbzAWj8r4DC3hjhXP+kfjfE2eFI/liMW5RwhSz+Rvf8t/sREP9BptdEK9Dw/3O/JmWUaOD9UBnJyw+o9P+98igZqQTw/erai4BVFLj/0ma7yWykVP/uZrDWwTBk/a2iGQHRwMj8EHpEVkrJBPzlm/PiLlEY/H/247s6QRj9ZJcE0rfZFP+xbtbi7jEU/KPK9vdfkPz9IWscgi60sP4Ay4Xjc1w0/PhJ3ivLv5D4RARFKH4bwPgYxR2Ci9ho/EowrD4oQOT+nKDHgjUBJPzLk7hcu60s/xih6EFuzQT8b8Znd1jIxP4RLcHus9jI/Kz1pCYvgQj/6HLLJUQNNP65s7HkBRFA/d453Yl1SUT91UiL7hN9TP2xQB+uEPlE/E6K7GDbBQT8zQ/Bnm00lP4QicwRziwE/449tExcY2j7JsLlQ6JSwPrRofLXiJHs+CT04+crnOD5r00BNcq/oPWB1WO0iNoo9CT8eVNzCHT05Md21LQ+iPEYLs3B+bBc8QSDaUx08gDtYtxlS+AzYOkm20N/kCSM6kgqA9v0bYDm4THXPMmKNOEmgNf8HQ7Q3Mp+0U8ejBDddRBjF/dBgNiVafMhwnK417x6UfVBS8DRXBumy+0JSNFq4uuGebtsz6GPCBsutYTOGptaiD/zmMlhsvn+DCsszY1ta+eKJ4zSCZeQV3izuNY3ntMrt5ug2+zgZ3FX21TcOsv+lQrO0OHb2aMLn2YQ5HtzC0DxyRjqgtnZZytL5OiSYc8Hvv587P1+HLurbNDwE0U6ihEq9PL7w+LqR+jU9COtEv/+foT226Z9MmDX+PfAEaHwPq0s+4UILOPEUiz5dVEXOOVS8PrAVcwtpq98+0S/gEBDr8j56PiFkpyf4PuSlnEXvevA+lfklkY8U2D4GM9bPZ6S4PuprQV/oH9k+sLW+A5zYCz+oBCgZZC4xP7ehTrsOVEc/OZUm1/KPUT+GFcNCopNNP7m2VP4Kozw/xwP4nwKxJD/wY2dyVbUcP5baSfZzjxs//THxeO1vED9DOWW4HEz1Pit8KAcsns0+KWsfKob2mD7IttiDhJigPqC76RTS68g+XbHh4vCM6j7z66nt6BILP3WbPPvu4Cg/X/Shj9WQPT9rGSSowqdDPzQeEZ24qDw/SUPhoIHCKT/DC8pR6/AjP9LWQrULXzk/S4j+N+naSD/yZBP1DeNKPzgoRlewQz8/nqRJLbeFIz+4QPTgJlT6Pi7OVj1PfMM+HqrWft1OgT6wj8I7SPpqPqC/w7m1YK8+prlZub+Y6j6PptbLS3MZPz9OLzTaZTs/ikwwrPOMUD9Y4i5aBk1WP9TYGQT5oFA/Hn+GsYd6Oz8fCNcz070cP+16wrwLcwg/WkwFHO0TBT9TKqnj9Lr4Phui2eqi7t8+ww3je3eAvz6PYATPY/DAPm2P59bOO8s+y+pMLgO/yD4Q6XWNkxO4Pu86IYmRHpk+i6PatmJCbT771/M6siU8Pp01x2iKbhs+29orQUji/D1uad5jAanzPTuCuZqf7DY+RntsKDlPcj5XyJXuIUqfPjwGLikbk7w+Xp/lyc/jyz4vKYu4+BfNPtU1dCHgN8A+BZg4H0VToz4asQ8WdJx4PvtWbYfIv0A+OvdswHhd+D1xXYdR2vCiPZSOR2EyeT89EiDmZpHyyzzsyl85Nvg1OTvJwbmHWPQ5sIz3TfcipDq6DQggeUxFO/kMvSxfE9g7T2AuOJwVXTwemxNxSMbSPCR11F9n5zk98Tq1CBkZkz2kGkXsZxjePaD9MwqDVxk+0mC1P4PORj72pKH4cPdlPts11tPEcnc+tuKGEmcKiz6QjaIa+NHBPjCX6CiuQPc+A1cvApQ4IT8LGiE/AUs8PzU8W7fxw0o/y2DQM/fhUD99/6qeLnhTPxihiuwb0FY/fauwIspAVD+HhHzDrSNGP6UyHk3CODA/8WDf+RepKj+fV7L8xMQ9PxlI5hVIW0g/yj8GuB8XSz+wqEKr87xMPwvFBnppS1A/mb8rhzJ4UT9ZaIUafldTP9fAm2EKflI/zPedoZJCTD9MlQRAQQlNP6WX60uXjFQ/WwqQdsriVz8r5dD3O8hTP9MLOxAvqVA/DCy8VUPaVj+hUCs30jxdP++9JLf/Flw/v3IKDrGBWD8Ip77a765SP7pG4DtmzkY/oPGjpswfOz++HYIcFYcwP7RauXHKuyk/na0DB+VjLz9Je/nuScEtP8kJCVwNAyA/hMO2vs3OBj/Q+4JoeGoOPzb/8klKaCk/9wxTpJ9bPj+ZC4eMnA1JP3lF4iVIY0w/kqGzOXhLRz/G7zy5Is1AP76Wysc4DjY/6hDTj1qMJT//AbhB3DsMP2mqTPrNIOo+8Yb76Qhf6T52IzHAyP4SPw85dmqcATI/v1Es5PMCQz/+Fz7euOBGPzphBjt6wkA/atOf/SwjMz8k9iFiancyP5mzZP6v60E/LvQ/rZS7Tj8Dtcpcbh5SP73WfknRHVI/kkDGHhRVUz/zVwHgHXFQP6EbOcK4xkA/GbHRVTQ+Iz+NOBDc20j6PmVdBhGpNso+XWnuOA+hlz6pjHo6Ts1gPq1s/xOajR0+/HMcHJvszD2qZ5G1EZZuPfNKsqWrVgE93KgxtcYHhTwAQjIIcEX7OztKOF1R5mI7Asdn6lL/uzqc2MqylSkGOueiUhPNv0I5auNqa171cDie5I3twrmQN+K19hEqTbE2Vq2pXSW1/jUa7de11G1LNSxSINuIOIs0iyHxP+Z30zNnWtTJd1NUM/VZP9XtTdcyAw4cDNSPizKPmAr4TICwM8U6E1aR2Mc0hQTRROtp0jUq1ukiTWTONryY6NrLzbo3xP52ln9DmTjVlkSqqXJpOUc02lkDZSs6NId7xSiE3zpvN7Hm4V+DO4Z+UH4ddRk8VJ3qasvfoTxKZhSr9tIaPWKuxdKugoU99fEzpT5v4j0dMyR3ReIwPkJvHEyqhnA+HTVTIYBJoT7fH1FWW1PDPm5qkAy7Ftc+tvI8G9x63T4Ey4tYFB3UPttGr2YPc70+h9V3RYbAoj6TcVRfFqzOPhgigIADDwE/T8j1hlTfJD/YCNyJfgU8Px9n/ROozUQ/OxvG8vtJQT/Tc0Vxu18xP9zgN2ud4iM/FGB8fRv6KT/DAvhcFGQsP0KgcymPSiE/R03+DL6WBj/b1Y1Cho7fPqderLaJ+6c+YiYFjmtSiD4/C/au3FWzPqY/LKmZEuI+QSWiWnXBDj+PPTIlIgsxP6S6ZSm7HUU/zwQex1g5TD88ICkEXEdEP/bpDWCpaDA/Qg0/sKWMHz+kH/7A5vcwP2D9wpeMpUA/BEDYeD78QT+TD3qB6NM0P0ScqqUM0xk/p0VNNS8s8T7AWGZpJ6K4PgxY5HDnqXM+SMGZbSynWz4casciTgWkPis1oiEnfuI++Xa8/do4Ez9L4eHA41Y2PxWcM5Vzy0w/nMM+YkJnVD/ct0B7eIxPP3tMR6njhzo/sz0M185lGT8FPmk98vT3PiKtqcQH/Ow+G9sP05Jy4D7jjNwVdx7FPiShxZapCKM+UEK8IeKBoD78e//qx/epPnRmj0N9lKc+BnzNmEDwlj68VvMn7ON3PsiZYC7sNEs+zWVqXrpzFT4dSsE/TmPtPT4ua1Tb1sw9zr+V1/iCzz2Uq93ejGYUPuZAu2uvTVA+w142HIndez6YYHcEeXOZPnTVhBg42Kg+y4xDU6XrqT6LQVLzGuecPga8ydblOIE+fnKxqpfvVT6P4usOcdwdPkiiCi74uNU93YaazorjgD3OJILKRREcPZeLMVEu7ag8hiVnjt4IDTldTc7dguPKOa5aaMK4nHo6tQE7BuclHDul6Bw0atGvOz7Lnx8AODM8y+RTYOjPqDzaxCC0+h0RPRKIHtBaPWk9Y8RygQPjsz0aMvbB777wPW6EsGt7JR4+tqNVyB4qPT5PXsMe4qVRPnGWXY3phX0+1l1OB8W5wD7fueyvmgL4PuHXslbM5SI/PtLl3KFnQD9LPEHom3FQPxU/5jXEzlU/YKaaSJ2rWD9JD0tOKJhaPytrZTsDSFY/UBaK4C0MSD9n+rqKeXszP8DN2UxeYjU/Na4jJGi1SD+3vy4I+JtTPz+oFmozLlM/VTQOSaSaTT9GEhSuTJ9KP0XLiRCR7k0/AiKUZQLfUj+mLXFgXW9TP5eAeqZuPFA/CGMX9FYaUj9vN22FqDNYPwZzNFdwj1k/paFDou4BVD+AU5/AcBlRPzQOBFilklc/1d17zkAVXT9PnxenZM9aP1noQqoRylY/IABdXXvKUD9b9dKeVwpCPxT78fmOmDA/si5+5c+sID/Bq1e6SdcXPyz/HNCIdRw/JUB1BXv9Gj9vJBHY3i8NPz2pz0/ar/Y+Q8iNQ76uBT/2T95eCH8mPynNAyqltEA/99mf4UIhUD9wkEw3VAxTPxuZPkDC00s/vkV/b0P/Pj97khwjwPAyPyyKklsbkic/SgUGxT9mFT+miJcJ45r4PszjLuOBsOc+5JIYXKlgCj85YhaYvc0pPyK/nUjCXj4/dZkux3S8RT+BCaVLThZEP95H2ZQ6eDw/qOizcekzOD8nMQl1yWdDP5VM9uwNyVA/AhZpJm2/Uz95lLwGx8pRP+GIt2lMxVA/FS2xHHiHSz+t7YacfGQ8P9iDwZ2GsyA/H/cKlRrM9j6m4uejdJzDPkR4aevpdog+LvtktO4hSD4n5aQgRjsBPopGCbd/ua49mI5PL0U/Tz1nf65K823hPHDTVVjQ/2Q872UN9pon2ztd4r7g/ctCOxgV7I7Q1Js6NnNVVcQG5jleO1ZV5KEiOcjRjPJu2FA4gEpHd+JKcDf0zuLpGaeBNiJq8iQKKqA1me1w55cm5TQpEPaLbX8kNEOUJK6TdF0zougnM2OLyjLJKpn8zBJLMkwwHMnic2kyPbFYFRUxkTMsw5hHCdioNN84pc0wL7M1+xjeruWprzZxrFIz9OybN4FWh7UnUno4IrhNEkuDSjlUx1y5f4oMOuWCR5zmasA6xZSvgnIvZDsqV3Ms2YX6OxIKwi9Jn4I8vXUpX1by+zwGhpV1IWlmPSgkRDy9NMM9FakxKyeXET5knzuZtjdRPk0+o8GzAoI+UcB+wWUipD6FzxJdFg64PsFNdROwtr4+aHBS1rT0tD4htoEQfM+ePmURi+eDaIs+e8e7r98WwD6qHB6O6uLxPgNKTfIUuBU/kDubjF3cLD8fgjKmLSo1P+Z6I48ekDE/hGyjuagOJT8gSEnDfawpP3b9e+T4gjc/+/1qT9qdOj/3HjUmDEYwPyH/pPGmSBU/0ArhTHzA7T6syn3DTEe2PjfSXMzYkn4+9EhiPjoVpj5WKhnDTFnhPqrEQ2Uh8RE//Il56CHJND+/9oJFJPlJP3eksPQYYFE/+99uhdThSD9duOQl43AzPyEleied8Rk/KzdDUgHpIz+ESzXmeDUzPyj4DtJtuzQ/3gCVNIf3Jz97AV/5qaENP8rauZfXmeM+Olb5z4rMqz6pc5y5eGtlPr27wg26k04+nEfg2sAhmT5MGVmooC7ZPvtb/TngEww/ftuQrvZCMT+OePeT+DVHP6acux7s8lA/gMyAZyi/Sj/luip7YL42P36iG+LGIxU/zxf7/mk86z4uKXELCTbSPqkHPAAsw8I+kh/zSdPgpz6ESoFSYwuEPipOh9Wgr3s+3k8W1KIkhT5zJ1wtVC6DPgpGM0FIqHI+XJNCPfppUz69mgsiBtklPt/w9E80ZO496aPseQeavD1rGoTxrPCYPdWHoD77f6Y9qoanpfUC7z06f3QE+sooPgeClKbIMFU+UT56AnRbcz70vbyDCeaCPnEoqO88uIM+QFhrFtT9dT6YxYTdMTZaPpwrHrDzsTA+QQgxbt669j2+foK4hYmwPcmNonnXt1k9JvNq+Y5f9TwzREu25PuCPPJwoMfOYOA45XnpLNdVnjlkpUct+gVOOrP7wlGOwe862Y//Yb/ygTtktE6Tpa4FPHvUFZwY/ns8y+d3nKlP4zylLAQIlXk8PaySTtKtb4Y9AtiBBIDlwj22TAx1/A7xPZ5REpMeXRE+WmxJOzJYNT5KT2RHTpN8PjubftGpQsI+mjPZE7i8+j4fQZLrYIAlP2XDhoW4IUM/Bm5bUFvEUz+1AO/2LulaP9yxbXYtol0/uSHVHwgkXT/FMQlS7oZWPwTgxLwF7Ec/7qtWZ09eNz+HT3tbOkRAP7p1Zxr5GFI/ZfLOcPjdWz9o8R3ulsxZP4H4gp6Ih1A/0QsTim2+Rz+yLTBS07BLP0ap3MnAZFM/5ZCN8rDqVD9+NPbfZDdSP2aqmbgHllQ/PsjrZg6gWT+pgew8K2hYP45dzmat51E/uLAeH40BUD/YeTSfV+FWPy+N2EtTT1s/+BC7VS6VVz+2Zk8Ck8hSP9Chfuzai0o/hC2Lrm0/Oj/3SozI9mIjP5irnDZPSg4/p1A7uCwdAz96BCe5my0GP8OiaPQYAwU//jcnx6Yk9z5S+xK6AM/qPuPHvGPohAg/j+oyToLjKz+PRhYnYa9FPySUKJSsPFU/Fc8ryFSeWD/wqRSguuxQP1AjgKHzbUE/uVOSQ+1IOD+h6gmD8nYzP2xXCuauwCQ/dJPlRYyRCT+IDlp5mUXxPkMlAd4K6Ac/Jm9bP2+iJj8G86fhKyE+P4n5eegk10k/YX71hcW/TD/skd0Pj2NHPyxCKkWTJ0I/wsongJPURT9QB1JFVjNRP4OaZf6DnFM/48HZO6LxTz+GlI0g5U9KP6s/RvgKGUU/lO7GQbk4Nz+if41EQ/AePxTVRU/W6vg+wK0VsvSLyD5gy5qRLoSNPseEIkwhokU+WV5t3Oa78z2gWesa/DeXPUTZmETZwjE9+HlvSoXtwDzUELADj+dCPMDRcIQsobc7CnOPE08eIDu/1CVpibd3OsV43eSCuMI57YyYQw6j/zjvtaGQvpYsOPNAzNFmnks3B1f/i6WVXDZxYveOy51hNQeTunSNBoA0hl5cd13GujP9dKw+nQfuMlzyQfhkJUAyFyXRZMqsuzFS03H0dZ1GMr4Bq118lG4zuDNmQYAYhjTlh+uI7A+RNfHuq/M8KYw23GDwaibWeDfTtU4Gy2hXOLYusuF+lCc5cddEi0Ri6TndSVy59zOdOuRaKYHV80E7aZXSoMSW1zunQBcM8I9gPNdPZSPw2tg8Z63nBYDuQz3ywGfX2xShPb0cYp0LSu89TWEq2EegLj7EWr/KrARgPhY6Q0w66IE+Y+/uLeRklT50NwE971CbPhfUUO6Io5I+t6C81LSiez7t9ec2UVBzPj+uwZ8i76w+uu3z1YML4D7urdCB+FkDP/JnFJoVexk/UT/QQriEIj9j3QIw9uMfPz0fF+KOrR4/EOy7feBUMj+bQnqQ2NBCP5/HQ4jZfEU/JG8SIbNLOj/AkxdJzTIhP/+l/0MCC/g+rkz4Is73wT454331kWaBPi6Yqrld9KE+glFgaY074T4rubhkZasSPxNETvd60zU/pv6HVc5RSz8YMDsciUdSPwjw5wNXJ0o/aoR+ItosND+CqP8u8lwVP7QTs//QkhQ/IUyn1OMCIz9vyw3Tp3wkP3Q3/FVLqhc/WIaIxYM5/T4zit4RJkvTPk4xhIO7QJs+Cm/iBerGVD5bR92IXftAPv/xJ1uop44+Ogt4ZSBW0D6KzWykiBgDP3AucYfvSyg/s73fzUy6QD9C/kBJvdJIP1iVlI7sykM/j841e5vuMD+WsK0KADYPP4GYzkDi4uA+2DRb/z4Ftz7Cd/9PPoeiPtAGTM1sFYc+u76mNSlVYj4spOlEXwdUPtwLQxDsZl0+2XZufI6jWj4LaYq26ehJPh+0//ir8io+oj+ab4Ij/j0TFI5I03zDPbQsyKzq9Ik91JK+hGPeYj2VO0VGKCx8PXOMmAMvIcQ9X1kO4vAYAD5KVP1PVoUrPr4SdCqvJEk+rKtilweNWD5xPEPV/Z5ZPhrTxoyfk0w+9H9AL1YIMT48MVMhPrMFPjJxHaRTjM09GPpu5iqAhT2CePNihrgwPR1vI7Oty8s8GmyqdA2xWDxw2Jw9A4yvONG/ucgeN205oawwoTTqHDqqRUYzaJW+Or51TzYbSVE7d1idkbbh1Dv/a3dshfVKPKk95JoombI82dc3UctsCz06JtKb8p5VPaexYWw2VZI91sPYEAbzwT37sSkbuWDyPYG3YrBC+Tc+vurRHdtUgj5ob4XbQ37EPtOMV7CmfPw+3zY6ZdepJj8VrbLmTE1EP1QumqdwYFU/acrimAvDXT/uZHto0yFgP4xN7cYiOl0/3IH8l9ihVD/jdF2xVulFP798TZqGlDw/gSC9UFgURz8kXtaEKGlXP81Y2R5uTWE/H1A6VUV+Xz941W+krD1TP7KFKmlMTkk/5WFimrzGTD+gdUA+8R9UPyVCxgLQlVU/e444SHbIUj/7K5EzdNBUP1AowlKGPlg/5obwSJnmVD9zq/1t45ZMP5+hhhrjbEs/HcRAdoDPVD/NVgwJa1ZYP8J2mzTwiFM/Sx4qQvkRTD9hhvgWY51CP7NvuqOGWzE/Pmpct8nKFT+D7KtG/ZP5PqgnVzWAoOo+4/4ocYmj7T4I3mINaxfsPrOksdXtQeE+UeyrSQk67D62YRa7UF0TP9xSTeVvZTQ/Jaw34tAPTT8uA0FzaplaP+gLfWn3UF0/+e6iys6FUz+QFSP3WLxFP9XcXsTbV0M/oNlay6KaQT/29OLEzXwzP3zEp5bxYhg/P1qcpaV5AD8RxKfiy2gRP48OqghJcCs/EuFwZH1RQj/m/DKdeBZRPzFlu04W4FQ/zZ4fpuE9Uj+5PxQJVtpKP4krxzj3IUg/wuktE/C6Tz8/OF3orjBRP6ugm5/090k/sGe8yQKgQz9VOXQ1m7tAP3zBIeoSAzY/L/P6gUZiIj9h6M/u6W0CP+VXPAw1YdU+iEawwpvcmz67ex+towVUPoMIwKx5jf89DLKewzR8mz0/QU6tUjArPZAMNEkZCLA8ML2HfhDLJzyiUqZFHJ+WO17ilJBqjvo6PorfQtssUjp0xQx9jsebOR1UJaWeJdc4PhzRKPHKBDgoTPP9KwkkN8e76GD0qjQ2bULCovPsNjUAZ734xEIxNPRDFw+Y208zJzaMdJOBfzJToYDx1hG2MZU3RdfHhSoxY7OZ2HsrITIW2KzbmTdHM4gOUROSxmA0uhm5xX7oaTVnEv9/c2FlNg+ZByVI21I3lpIXjOTFMTjOEsisEucBOZBLTrqpRcM5OD0Ap/UrdjoQtxD5kEIbOxaXVlrM6LE75tTOYCcmOTwHVsq+6t6yPBs/HXbqQx499ibcC/3veT2Ew4otcsHHPXleNlSOQAc+AgjHjrBSOD60snVU8TBbPrlTDr80PnA+Qn03PTu9dD5FCs9qLE5sPl3c9HDUV1U+/oNmqT+vWT47pDK8KUSWPg2KG0IDn8g+OA6eWpWE7T4zyOLjq0gDPyDA96kdCQw/Y4ps/3U6DD9sP5+BuuMcP6VkYXcMdDg/XcLmTxXpST9NC9aOg6dNPzA9ISbcJUI/H8ZWeU69Jz+WjUcnAZgAP4ECWoZyy8g+d8IoGZrjhT5XcXp47HaePgyFi0HkmN4+5PHpEr+7ED/tnqbtFpkzPz4gFhD0iUg/Yq746V9rUD/AuKuvgnxHP1r89QUnBjI/qG9VuLjEED8kyh/GRBADPzHmuGTtHRA/IXQh0atQET/hWdQvTf4DPxHMVbyvreg+fGpeq6JHwD5Es6kMcfaGPnTTszYzeEE+j5RoBjooMj7w2YGptIqBPrTZzL97bsM+wKb5vmxW9z50CWX23j4eP4rEa09mFDU/M9a8JEGIPz8QO9Y+mkU5P+yUJmiCryU/cTQJHwryAz/5qpK4NzzUPt2hwzvRd6A+xnhPNvVGgD4e5+3DKRxjPi56eaRuBz0+9i7yLKUSKT6cPvOS+3UxPieRHQ47lS8+BcIQG2a3Hj7e/lOSefD/PYlaYV2czdE9oj1z20Ydlj2RZeRxu1lWPVdNJxgdYCk9MOmocAaZTj1hzzTe4lCWPft36k582dE9nDWWr0GF/j0uPYbTO+MbPs3kM8T4Oys+4AfTStxsLD6BsG+tZbUfPnbb+Cje5gI+wnulC7wV2D296bSyXGagPegSw5Sr3lc9BrN9htKQAj2oKR7X1d2ePF0RahFWbCs8C0rRb5zveTjLinnR4QQ4OXG2p8Klxec5dQoN6d0kiTqDtuu7HGwcO1UOboPtKqE71eHrqBUqFjx4gN3r1ZV+PDgSGkFmltY8oVgDdsooIj0I2emBxfxiPUjYwN4X36w9PvuZ5cASAT4dGP/U6+VMPq/MBzQn1o8+WnTyjWlTyT6n/spD1BX9PiqrSeaggyU/IPFu2Wf3Qj99bAF9Qz1UPyJ7PjdR+1w/GBzkDEKAXz+1S4pEcsxaPwXCuvEMUFE/guMUDupLQz99GBNaYw1CP0yrr8osmU4/JlhZmnMHWz/E9G4EmMpiP+q/5tZZJmE/prS9Y+AvVj/SHR+6c11PP92khBG3mFA/c42ycRWjVD9AXHHui79UP9wLE1KYYFE/ptfyDTeQUj9Cxd9WV3dUP/eLVaUUKFA/ZckAMlmdRD8GCQa0LbtFPxdj0vuR2lE/eBx4efL2VD+GJ2Nj1PFPP9qWbunJY0Q/T+xxjZapOD/Bilp2hdQlP71qxXAMgwg/vx2Oq2WP5T6jWBpck4LQPuhN2iz2C9E+G/G9Lltr0D7iMr3/MPPQPiwwyd19B/Y+g7Hkba4BID+B95qiJBU+P4Tvuq551VI/HiuOjJgLXz8r1UeD9+JfPwqxzxMM31Q/rc71iqWFSz95+PQMiZxOP7akgzdwQE0/VFnAFCEzQD9V7PNadGUkP/+OTsGTwg8/FKnZFAwiID/27WuLijo0P4l3W0Irtkc/gXBf/SsHVj80A+x2VxJcP+kT2mCdl1k/dPy58Y9XUj/LrWbS++RJP7QOfJPCTko/RBzLu81cSj/I1NCzKUVDPwMz0tFZ8D4/Dvafqwp7QD/7LUTizHg7P/H3MUh9mis/a8i/rCVJDz+8sEn5wHzjPhQlSfX2U6o+CgbUiaInYz4ZCMXf1+wNPjIXs9yEFak9hai8EYOcNj1bkVY6oBC2PGiBefzbqyc8ts+hsjjOjDsKmCZJ6OzkOvacwuu4KDM66D3L8+BydjnJ4/zRqi+wOLFWhH2HIts3/F/gbftZ+TZp1+5fRM0JNgPisCd9Tgw1Oq6KRRvfADSu/+hXYY7xMtnBzzn6aw4yzq0XbK3XNTHVusT1hBDEMI61RTCaQfYx6cNcm1UYHjOfHsWBy741NNKAEkOnykA1LpKTROi2OzYZK9QNUXEoN9rQ+vfACQc43RfyZcM01zhkFIpRNvuYOUyXACZovUw66Rtl8fKq8TrYWj/r/zaHO6DlUmKyTBA8gAQAVgd2iDyujXl0lJ3zPMNNrYiCz1A9NZehvgPLnj1fLR8z8SPePWZeBApJhw8+kmVI24afMT6lSiilCA5FPqQhP5cM4ko+7/LjundZQj5awKBXQJ8sPk8jvMA3NT8+9vahL3tOfT4I0xHHTSewPjAJHIcgRNM+dFNxqb4K6T76IXDTFMPyPoLpHXIG7/w+FITNvTDiHT9R0GJE0I48P9D/arzHg04/x6GKibd4UT90+6yqpWJFP6SOxst7+Ss/URP5PdiNAz877yA+XjfNPkghgkEJ1Yg+/UTFAEsvlz5q/zLhgWjXPv9mWLz1pgk/wrXDRusNLj+p0UpeI9FCP40hFbiCLkk/7X/29CMCQj9dmu715pMrP9bw62sk/wc/9rhjr9Va8D6lUVvXAW33PqE494BEAvk+O8MqQjLe7D7ImlByDdDRPnd6aWaFfqc+zvW5dX6PcD4hOPYQFj0pPhYSCVx39yE+OVKSGuomcj4S0qc2hIm0PmkP3IA5BOk+NLor+KRcED/UZHFY1PEmPzniCilHOjE/bUUHq+CuKz9yz0NHVsoXP4KQhnHC3/U+c63Y6da3xT5ad4BSbO2KPmh0CoJkP1s+EVKlLl49Oz76XFj+jtcTPhS91HRSP/s9liRK93a3AT6I10cULPf/PRGv2oABFu89pw3OiuYo0D0/N+dXLvyhPbTYa3st3WU9je0cyUw4Ij2w019xFfzuPOJp3Ag+ohw9HlaUkEwgZT28Xc3OnuagPdqmSqb95sw9zrLjVZ5p6j0x5X6kF8z5PR2xHmTR7fo9tsJDMCML7j2aYKpCYenRPTQ6oheD06Y9YxAuyPUWbz1G4ljY2aAmPW/l4gg3mtE8zdXN9s9EbTxQj2UmzgH6Oxjw6nrZM0I42S3afnHbADmS6mBSEK+wOZ9c8z6PpVE6sknw8pPy4zqy0nk/LBloOz8wAkf3H987BXQJqpCURTxQdMZRuN+gPKj13dy9dfY8JSWqedoIXD2PK8qNSXLBPR3uK38DWhk+ODfOn9s5ZD6Ccs27+U2iPmWduCEUmdQ+H0RWCRJzAD/s/RSsJX4jP7F8yKC4pD8/h621j5TZUD/0197nmRRZPyZ+PCxh/ls/eonB9j/5Vj+e2yAl5K5LP3P4zabChUE/a/t4fQLuRj9nUQn12OlSP8mE7yLUQFw/uO8jcaoAYj+23PEVRMJgP1iLH6HJ2lg/CNVeem6MVD9JD6nQ2WNUP/mhHJA3U1U/eS9Vvxr5Uj9meYyPL0RNPxrJ0fKyp00/a7Ztqh5aTz/LLIB39glHP1xa19ZwoDs/DIQMeGZ7QD9qWPTLgg1OP/TyFZara1I/vxq5cgdATD9IdN47Fu5AP2enUSFb6DI/U7vmYlUMID/FrowcPtQAP5jWyEofGNc+YPje/2Qztj5XVmjkbaSyPu1VAQdSX7M+v4MtZdgJ0D5gH5B4clsBP8954Vo1cCg/UqbNGyrdRD/gFvvPRQRXP/CM1+d/1WA/NsHXH9HGXz8Q8bmcGLVUPxUye6ea5VA/3xGz2CoPVj8sJH7bBmFVP2GSKnisckc/11xZxb7JLT9QsVjrSCocP1FzjoQ1ry0/mWSCoe4GPz+cMHmnMQNOP4hGcpxaSFo/T2aJjjUMYT8GuJ2fePZfPy4oBwwYqFY/TcGwqN4ISz/rQkiGKDREP4k6sfGh1UE/Taz4ad4EOz8Sbmz7eNE8Pz/lAud/aEQ/LgRFBvS5Qz+AbgDJVG81P4qPpwf8Uhk/iQ1YGUQd8D7GT/74jwC2PvW5Rq5+FXA+26jVKBEoGT7T9kRU2gm1Pdt3EzfO0EI9D0e2yP4AwjzcStHWoXQyPIIi2p4hVZQ7kydU29dA6DrD/YV9jNYvOsOrsvHhwWc5POnYoZ47lThp+fezp/i3N4+u5KH3TNE2Y23s/4Cj3jW5nGp36nLfNNMMmLFh+NEzZ1VgmSsLtzIz/zFkY3GjMYNAdoM20bwwdEEWCEh+kzBsY/k/p6DIMV61LKqYpvAyVjsMu+gPCDS8aPFDp5QSNUOQtIzVqg42G3tsnQAM+zbUMjxEIX7ZNyPfYs24rak4WKt1DZekazmEXcc9Tc0fOlF247nYjMM6R958UjKwWTtgh2bbRgniOwyaj2s3EVs81H62p5q0xTyIMm8AB5oiPRW1F4h0CXE9p03swwStsD2PEujEnnHhPYuy1xc1gAM+ArtDpVBMFz5v3GzvUb8dPlrNyC1lUBQ++VKJ85LqAD4BUa7SdNkgPk53ZV9MfGA+Y3gF3g0fkj7s86kvm4W1Psho8TrxA8w+dwycN4bF1z4zFRRoQPfyPoj44Jj69Bw/wFC28SCpPD8+bNRvHrFOP2+EtRJOk1E/yDjgWj6DRT+BhtkrISQsP4rciaSnqwM/ep1vj7tjzT4NbovO5W+IPpfmVpm6f44+GC0k2fqhzj44kMt+c8oAPwr/wyh3rCM/aSEoNraiOD+axifg9ntAP4UA+giAkzc/wgclrpgIIj9VdpVKKF3+PuXeWfni9do+EW+Ww/xI3T5/cG3PadrePnoGxNSQzNE+xvWWJqP2tT4a4GHmH/eMPlJtvYy2aVQ+ZzLq8ik+Dz5tkRBZCtwPPuLIh/pLimA+EFmv84fqoj7WzXYJNTTXPr9nx4GIff4+RGDD5dZwFT8JY2X63CAgP64/II+C8hk/OVtv3JpQBj9sqNWatITkPt8nG9EvO7Q+oZgXket8dj5QIPA0sXg4PnZahbWk/BA+WLZrQKph5z2Yta30cMvJPRjBKtXGuM49br56kXSeyz0LoDfoLtu6PQBWMmyH65s9/wnRPgUMbz11t4uym6gyPWsrCdehjus8W9a+J+yOsTyCn2wwdP/mPKPU+BEJFDE9XO7X31JUaz2EcTzGCl+XPWswJ31gXLU91B0nVbHdxD2az2sTx8jFPesG3JqYTrg9cBMczq38nD3yJZb1/3hyPUi9c3HRKTk9VFcqbTlR8jyxtNGQXoCcPB3KJ4fisjc88N/e63kPxTtv91USm88FOCbBr/nsMsQ4zHh5f8D9czlDt6tmKCUVOs/+y3uQ56c6Fz44UO7pLDsa3B7UFfKiO1aY39C20g486OiYij8ZgDx5kxBwEPD7PPFsIrZYNHE90Hi5/NhP1z2ABm2XT/IwPvAPgaV1eHo+Ocy7vORytj6dBY3l51jlPmRLw6AWtQg/0UsBf1AWJD+3EdILE545PzIVTG+5q0k/BzwGJPUQVD/rmkdGI71XP3h/d/kFeVM/Jb0M3wzPRj8oHUzhXXBBPwBEbTc3FEw/du+0bOWhVT89BjjZmh5bPxzyYV+98F4/e522Q+8kXj8uhHmkCC5bP8xl0CRPXlo/6oAC+dVIWT9xVpLbN9FWPx85YQMzflE/vldds3zORz/A6nAkvqBGP6aFcK0JZ0c/LLnKm8VcQD8c3No0n54yP+jle15ywzk/Y4XqqRKsSj+AaZJxmcJRP4pg6kHxck0/Ot9wswS7Qj850/Zh3WI1P+tBxHziOyI/GjCt917UAj+JIE4k5+bXPnuhtQBsErU+EF85fNY4qj6niGRvHjynPr/D0j5kj9Q+R6fcdnZSCD+9eYWS7Y4wP++go6lAVko/KL1cN14UWj+PF/6qLuxgP/ibjngwHl0/f23Mln8zUz9rrF6NFpFTP0zk6nXuPlw/8mosz8RMWz/jkPKUQo9NP6eiSDBzKDM/IR6KvDyBJj/X6XIRcr04Pw9EZ8MZ2EY/AbcdSGwoUj8+xlwU9t1cP4i+GL7BuWI/tWBNZCbbYT8I5e1YD1JZP2UfWCvbsEs/a9qzl4rVPj8tiCCGwCE2P+lKoSFoJTM/emLY194TPz/zJW6+pYxKP+qNhyFMKks/968hrN86Pj/7HSqpbBAiP6sIeYbGHvc+Wbo3Nvunvz5m0kP0ESx3PqtLrkO3ISI+IWIxrS1Uvj09gAELURxLPVI/OCLQ5sk8XLScNrdzOjwL9eJ5EuKcO/wPaHG43vA6wzJ08wcdNTrUjKVf7GdsOS6q3Uiks5Q4fIe/agigsDfJ39UAF26+No9o9nZxu8A1WsT3+whLtzT+PbxLH7WkM/6kJudji4YyDr70N2deXjHjaIvkUKhHMGYE8yftYmIwsylaxnBDlzHqCzgj/HS/MjA7pLG2utYzCb0XDy+N4TQ9FZ2Z+vfcNX9WCet7jMk2fTFPTqYUqDcZ8tb/mkF4OKFbDrOeHDo5CnwOiFsK7jlneg0zoXeSOge9x23xQyg7c28z+oYJsTskgPTJaJEpPLwCsVbTgJQ8vAP5l0KS8TxjWQgk4BdAPfhzzzQegX89RB/7V0V6sD0QUZbJsGvSPe0qtCT0AeY9sV8P4I0Z7D3MiKDqDDXjPVK4cJl1ENI9QNs8GBPB/z035zM+n7I/PvmDpE+SYHE+WH+Z/PqVlD48/uGFpGqrPhRSetv7l8A+IztY+Frh6z6iXhn5W50YP9XO9zLWmDg/sxnYpvlaSj+Sok3ndS9OPwD5tExMeUI/gp0tRXwqKD8ujUJ+U+QAP9/N+IfbPMk+VrpFdfmwhD4/fwRVCTmBPuCGQR3eHcE+nFdwbgHE8j5WM4/65fwVP2xKtX6UiCs/6qPuVV1sMj/wOyFqXVkqP6OO85AfJRQ/r4yNIQex8D788sn5IMnFPsUJnMhKuL8+Rp8WxqlBwD733JC2nb2yPgB6FKK6H5c+j/82IIh+bj5Qqw5nJH01PiPA8UZzkPA9Tur4dDbF+D16sConeiNKPpAyIdMhDY4+TR7yuX1+wj53w94Ps1roPmnISmxMJgE/ZWjiidbSCT8a5ZtVu8gEP0MBz3h14fE+qgagWlFx0D4usRYRUi2gPsQ7/GdST2E+1GI7psWEGT68TTrG92LjPcZdYg5Dxrc9vr68ZsxXlT0OsCpXKsWWPf2d3L09X5Q9lNn5IXzOgz2wt7cxJZdkPVWwUGnh4jY9xLeScJ5Y+zzUPTX9R9SyPBtLUX7gtnI8y0owp6KirzwWxzbZApT3PCI6ASxA3jI98d5l6zsjYD0ZnWqguoB9PVWEXeG70ow9Y0CrvXsYjj0/mJ8c6sqAPUxJZFJJB2Q9+jiWgNCHOT1FJCUXGmQBPeajfBCEUrk8DAy7+P+zYzw43AO/lmIAPNudT1MuII07y36UB2JPxjdPcpcXRamEOM3PSIcCczQ5HMZ0Ltqi1TkarKc8a4xoOj8xxD8U/e46VDj2jltjbju/IRu68dr6OzzYIPzCg4o8bbnVEKcvDz2JSMKBlsqDPWP5QAns3uo9GzLVyeiAQz4cuSpQzEuOPmy5dlSrP8k+HNHPAw7H9j4O5uU5AtsWP5xghUSkmSs/ZGpvneAqOD+sT1ACvdZDP0OFf66SFVA/J40uDjDDVD+AwLCp76pRPy6ZVrZATUU/EiDqUkBBQz94vswZAjdQP9FXDyJ4wFY/V9Rm9tEuWD8+U4yJ5H9YPxB4LnTsBlo/jLrNjDEoXT/Zb4VMSLdfP2KK9GApBF4/VjVpk6L5WD+Dw+tG2QhRP21rxUiZlEQ/CDsybmEAQz/vKHWgPwFEP4oGuvhKeDs/F4++RIWGLT9MNCK4n3g2P2bd2BETEUo/Yzxy7oz+Uj8eAzEP1IFRP6D1ZNFvQ0k/ud7ojuSBPz8q4utJ8cwrPyhUM3W/JQ0/+y0lP0yO5D4OJUeQJxTOPoPQ5QWOXcQ+AtuOHIvitj4VK4Z0unTZPneMItb2gQ0/UtYpG9WZMz9al9WNWqVNP27BBel98lo/SRXu2flUXz/ahqlbqYtYP+B6SMVYuVA/R3Ra0hbvVD9HRudoxetfP6MVnd3YfV4/72sikURVUD+E+9WpODE2P+GsojSWOzA/PyyU/UUoQj/icoz74OxOP3vG5YJh0FQ/RcfqDSNeXT97FjLdHb1iPxG06J0JDWI/EcDewTANWj89cu9ASG5MPwtVcAwqLjo/rxg1H8MELD+TFEWcmlotP6pM/oP5C0E/N/WjYO+2Tz+iG83Pr4VQPxnwlQu3gUI/GJM9NiwvJj9CFIF3Y2/8PsGjClQLe8M+Bt0vtoiHfD6F4uJOzFMmPrsi8eiyrMI9/wpa6F6xUD2pGQ0Hv+TPPIp1iZzsR0A8Urq13cjDoTu98jd8obf0Ol468r9V0zk6mD5uZOY1cTmR3uW4t4qYOOJxYynQv7I3UBhPsBfOvjZNJO2mBG+7NWWEUPNh9ao040M/la1DjjPEBIPK+3pkMoiKy1jbnTExl9ApqPj79S+Ld1QQ7KYtMPGLrFBPwmIxwXEk1LZdiTK4ivGPDlSiM9hhJI1eTqw0zjdwowxcpzUPTWnOEpqUNi/ySrECa3M3rlOv/0KPQzhvzhsCTQ4FObJJoxFNObg5Nt6sonjIXTpjbnSOJZHzOoe86GMKens7cmYGigue9DswXy+hg4hgPMc/R1+OVrw81G8bR1H0CT23Eft6f2dJPfRZthcBk3o9EEW0aje1nT1uhRdbEr+xPRsbNd/DqLY938Fe03cJrz3ZYWT0gwCiPb6TW6jv1tk9NBiMiyYJGj7ifaSD+XxMPmflHYwh6HA+NqHPTgCsiD64x+vuYzOtPt7IiLu4geM+jwfqkbn+ET9tRlMoSQcyP4aDjbv2UUM/QrxjVMYgRj9X1WbV0hU7P9m8/koityE/VGjG0RPE+D524E6vOoDCPo/uRgvPDn4+jgLcZpS0cD4HdVs5nlSwPvDTTtZd5+E+F0ieYGP6BD8fr2Kl30QaP9rk/L/DkyE/qj9oQYojGT/hRPeWJzcDP58QhR8Wmt8+7SZiRfkIsT6Akx0RrzOePqKJaooxR50+jnVQPK/YkD4jlGouBsl0PnDNlJ7XaEs+QrTglYdQEz7e/ODfgR3OPVXKM6hmreA9rTPocjHEMT6ibLbrSHp0Ptps8zLVPqk+SEt0R7yj0D40lo3gGnPnPv6O2YeSqfE+1JRjFU1w7D7lH6ieU3jYPgO1HpfhgLY+O2I/rvUfhj4GoWMFDmFHPvnUR4oI6vw91y64i3lQtj2/IWhqFwaFPdvHeWDi9F49wtC1n3DeXD0ZGBwMGahZPXVrDBaK8Eg9wWCgPQ3tKT3FuASQY8/8PHptk07SKME8u2BLgcK8djxJCnUJVrEyPN9CP+/jm3I8tZZJ5NnLuzxyZ2HELD/2PJ/jGFGiByM9dpX0W8BlQT0meBknuP9QPTtR46VtwFE9DQWdMgXQQz35CjSnJaInPTcjjmYwIf485NnxE8mGxDwLI5eNPuR9PP5G9IvpQic86JjUVrpYwzvq7nw6dzJRO1zdXckre4M3tW77a+0KQjjZdhTMqd/xOP05yf/QHZM5VZv23p99KDpCT2mVcebBOppOL/SLWGc7wPft95tNBzzOigyBldOZPFRo4sBlsB49f5Dk8N99kz3oXqgkU3b6PciPEo/hMlM++xhX8APInT5Q1scW3LXYPo9t0bmt+wU/E9ArVdEgJT//AHscjY02PxqJ/9YI7D0/MBSOuhYFQj+mLBH/vT9MP4eoQM8cxlM/AgURqEfAUT9DEMYyRwNHPwHCUz7N30Y/opsa0dHRUT8WslmpYyVWPzxjApcVSFQ/CEGUQKWWUj+Kw2i+r4pWP35184BFXV4/nwXFayZ0YT8wPHz2kWRgP3i2QPnOlFo/VsaAScMvUT8mBISVq/tDP5eQ6L4ly0M/PHRJwgoJRj9xiiwNCXw+PxUuSgwnZy4/Iw7CZcrHNT/AYSkmnMRKP0MZyLVT11Q/7+vTbTEVVT+/rCTjFihRP8UsbR5ZOUc/4HUEgXAiNT9+Ws4cvrcWP8qb7a4GHfQ+nZn/HQx+6D41BKZGHRXiPtzygtj8wtA+C4RrqvIk3T6oJkfHVM0OP8ou8RdkGTQ/jQxQcvRYTT/kENkjl/9YP9zyiuz3c1o/BI2oSFwDUz/pDWPxCIZLP77b6wetelQ/xgxZ8XveXz/G0t0Bi+9dP1oIdbWJD1A/KTmecYlKOD97538BAYk1P2YpFtxhTkc/1C6tGV23Uj+nrmU8EDhWP0Tpr4aVtFs/HTALJeErYT/q8fqaE8JgP6lmuCgzdlk/puOWRvAmTj9Dursu4do6PynzYfFXmSU/ixWYQyFWKD/jY0EU2TBBP6XDuxZihlA/wmbIO4ZQUT9z0oU+pW1DPxBju3mdTic/mSbeRq/i/T5Nsx9SYHrEPsgwFFMo/n0+SIsIND55Jz4WY1K2PKLDPZa3aNLhjFE9Xs/J2Q3E0DyquHau6B1BPBAp1XkDraI7+kpu1eTG9Tpn+BTTUCM7OnrY8NxeEnI5WfSSDn+5mThrSnRoLZKzNyPll/Yd17824zzRd1e2uzWR3ZZm7dipNKprNzpa7okzIenXo4c4XDKHpNHHF/ggMc9SvgkzatcvfWhuBVZp9C+sNl82gNMpMYFVKJMOdlEyU+nfP7Y7aTOPir/jKHxzNLi+vpd3FHA1w0fbXv5cXDZLS8i4wbs6NyH69Dqq7Qo4PdYq+gH9zDhINF37xKyAOV5rCrhugCQ60d1plULwujrhjGXq/+lCO1ElByR2Yrw7zCxeSAvDJjyoWUGVy4GDPDiE+yy63dE8DLucscp8ET06CFtC9kpCPcIKMZwtc2Q9mG2ZnZlueD210ANQUDJ/Pdnw+A46c3U9Rh3EirE5cT2359CSsQ6yPZcA6+DORPI9zjx4Og/4Iz6bSmgFRBdIPsbPxHfJJWc+UeyYkG/bnT7jPmFp5RjYPsJrNrd1gQY/YeciECuQJj85KknxRC44P/rmO4/vsTs/bpq45yDzMD9sONv2GCwWP5DIZ2ki/+4+YFqX4MAntz6ccHQ5WLJyPktMdixL5ls+gXem8veZmj6a05Te3inNPsDCT/LtFfE+9XOrSxhlBT+1iRPosaEMP6hXBwlueQQ/XAiaFPtL7z4vKHnspqTJPjNL6jUF35g+A74f1nDteT4d39P5gI12Puro0OGD22k+jWzaIkfmTz4AoO81YAglPl5OuhpUpO09WvvAcH6Cpz3Tur5Ey1DDPUNK8GJmsRQ+R6o94DLhVz5hj4vkTXaNPnzUuc2nbbM+mFliLWJjyz5z8VLnDaLUPh/vqCbrnNA+nYfp12mXvD6Z88Qja0uaPkfGGp3K2Gk+/U/yu6UzKz785pL+DYnfPfw3G43ZII09zDTsvJ6ZUD1ToUcgHbojPXlSdvm9Ux89kHKA++qVGz2P8t0zsc4KPVbjXkz/3es8vzgPjqz2vjwoDsperGmCPIREMG2X5jc8uhV9GuEv8TsHIOiT8LUyPLvA+hFI+3s8hd0sXOlltjwxX3CKaSnjPCtN7KU3hQE9izY5oAgfET0eB2mYuOERPTtC0+TV9QM9nFJ5/QjQ5zwZEEovrly+PB3pznX8r4Q8b50t6DYhPjzB+VNsHHPnO+fhq/FvgYM78EZnyDNXETsiHtoWwgw9N3DBCSkz+vo3MOwSlSmXqziVOxf3g0ZUOY1Q8OJ9HQk6N9pNFnOPwzpydIz/msdyO+ChgqhlhRM8aDjkWpu1pTxbNRca2M0pPRsYksSoY6A9VfCAz+c/Bj75tGOyBiRgPp41AghwB6k+bSpPEZa+5D6DsIn41GMSP1LOsBiMeTE/mb4zDOf4QT+FrZCVvi5FP8r0mbzeykM/uvtm3R1iSz+mKpaxttVTP3+1PuCGoVI/QmTTp/V3Sj8cbwLZQu9LP1l6+FNVK1M/QHTHBO6JVD82UiX8BndQP54l1Mnugkw/AV/0icnzUz/D5+IlXv5dP1461IgQWGE/ewfubu4WYD+CWXhlqB9aP1qWSYd/1FA/Bi1fFOa6RD+UhA7ez7pHP4yNuWv540s/7gIgf/17Qz8ULvdZoxYyP7p6wZNCijU/CVMjNeF4Sj/339iOGX5VP3uWAiaFf1c/JEzfaC0uVT89qYGILZFOPz1IS4eSfjw/gT16Rc/wHz+HFhq8fD8EP8Ijcsk5KAI/JbGifVfy+z6DtbBy8mHoPqPEzcOf6+A+vVgeDkemCz+XTP/IpMMxP+R4ENYMT0k/Nd2YzhSNVD/AHMc4GCpUP7Stct6NK0s/QV3RYgPhRT8xGhqs5H5SP/P2He+rZ1w/5bQ9N4EkWj+W3SVFqxRNPyYS/Ju2RTs/AMuoUlFMOz+Y+4PwvVlKP8GMBCT/8FM/OwOoM32XVT9N6ssxighYP1clfRhg01w/keKiH+sLXT+CpZwBVG9YPze/9FfQnlA/lte03CiQPz+ioLm2aJUlP/i4XBivcSQ/J0niFUpvPj9C7MT07pVNPwrgpya1DU8/1mXdZztuQT9XnR4bLOokPxKP6DgJ0vo+wkXvBvFgwj6XScOvK+t6PpBmWgJgESU+KKlLgiOfwT2ZkRe854BPPQx5dU1qGM48AHkDA7O5PjxfLBhtCcOgO1t0p7aBi/M6sSU1DR1bODp7SHXh2zdwOQHl/bc6FZc4g440UzWOsTcYE6Yr/om8Nnl9SosMy7g1xkItFhIGpzQuRKuSdtyGM3rjbtP0SVgy/JLvtoCoGzGWZl1YmPHQL7ZPX10g/bcvj6CuWTla7jDa1QgxeYUUMvzbwjDVpy0zKMS402DmNjSRRN336eUyNUVK7ebFqiA2wh6TTi9r/za7Ao8C16XPN3pz8lHNCJE4/xCCluiYQzl8pHgdRBjoOfggDMzjqH86XTSwM5o6Bjvuf7hy/K2AO8l1BM1IwOo7gFtyXQDtRjxf98cWUP+UPApyNnpjjdQ8HP0/H7F/BT2WC39WsAgoPUutuJnGtjw9uXZsdz1VQj0g0ZJtFWo5PQzTlg5M2z89ZqBnFr2chT2Zr0wrx+bFPYnioWqr+/c9I9pB0hnUHj5ciXasMpNKPukg8iI37o0+dcGvLFGnyT4JQaOndAr4PnbZCJRSGxg/oMNevtLVKT8y8oJLDZctP1KXxZsGHCI/YkK2fXmwBz/F54uCCo/gPhPs0eJTvag+yeiXz67lYz6kyGQ7GCJEPlGI6PXjfoI+eMMHK8BGtD4pbGJIEsLXPrJgItENwO0+0NxVqxLo8z72oC4qWHjsPqgq2P4owtU+jjlU2zHMsT7BcsNlglmAPp7pi5KEz1Q+uE6/RjfJTT6hcBTETfFAPpND0yeO5SQ+2kKbf06O+z3O6+817WrDPV3/v4r6mn89dVt5BHMsoz1dYNBPSJz0PZJJkUhQzDc+bHhnNERfbT6DuYyRm1+TPvh2k+WaUKs+yPj522WUtD7xIg1xLJKwPvsqHXExhZw+DMNRo8o6ej7fppkkCshJPpB77IUBGQs+X1yVJBi9vj3fLj2RmbNlPfcWmiBEERk95ddgDoou5jzjLFy/9h/dPAIVosxqUtk8FGAsbiiZyDzbekI/AZKpPCLFPHHmaHw8at7kOVnhQDy1eBJf4qz1OzTy1F4rcaw7x6CygXwS8DucJBLVfQ04PPnOYYZ4QXM8dEYZ5MB5oDwDupwp7CG+PGzV+IYmc808P7ps5gjDzjx5soUcxivBPIMRBMLSfKQ8SnUdyTEgejwDnQzvoc1BPKmWtPCu7vk7ZWxEdXQvpDtkTU9c3MpAOx+vUW1f3M06UjaWQ8Ol8jaLeAKnXPuyN5PxQv4Mn3M4Am68vwjqQjkYFfckj4AOOqPxfl9Vqcs6EF/5XBztejueXeTmfAUcPFpKZ9VlKq8812xfx6WFMj31ciDqPYenPevImC3p8A8+8G1S8a4rZz7ncdB+q/axPnbuahDRxO0+ddAmAeBdGj/UT4dEJfs4P5ZFiZesbEk/p/LMrAy6TD/tkx4J/A9HP2ae1OWD+Uo/qo4bObJDUz+ysaQ2XrVSPy6fptRwf00/vl8UnAm2UD8cS4FfCZ9UPypCA1aAJVM//G5+E1HVSz9bg6FQx8RHP5XnCvGj1FE/DlUMeqlwWz9qw6XoVedeP/zDnFxdF1w/FsJ4DdT+Vj8Nm8MBykdOPwfJPQZg/0Q/JUHNs0wDTD+F9WCHkhNRP1NGGyUxAEg/E4r/HYo2NT/87ayucUs0P/BmsvpR1Ec/EebQfGzYUz9HfKtWb0ZXP5FS+eie8VY/gOSP7LFrUT8YyIj2dJVAP1ISct3XJiQ/mjKM1x+DFD/W0a7rKJEXP3ZJANWhexI/PPsqHkiu/z4wuphDQSTnPloCPxF3dwU/d5+ZUk77Kj9gGPCpiORCPzXONEdQpk0/vT7ZY8KPSz+tdovZR1pCPz95fPS08UE/xurraywlUD/+PkANBFJXP05lsknt51Q/fA0aMinwST+GGg5SbexAP3BEFWEQXEE/f3D3HPf0Sj+RM7KF2KhSP5X+yduKvFI/vuP4Mt3lUj8A39Ef2BZWP6n8JkU/1Vc/KkuNjL1NVz9CP8/GjFRSP1O8sySaukI/qmIA4RMOKD8YGhRwtWIgP5eofkNeQDc/5+uloJimRj8K8eKceclHP0pwYRsKtTo/2jykjAwGID+nmrY+eoz0Pprf4CaOKbw+S9T0AtSfdD7xWf0CRSQgPiak4mOnALs9nL6/aSQjSD2k7IHk8Q7HPAjTJGOEijc86sVtjWKvmTuKMdSBIvPtOiUz3qUvqTI6c7WT1hHaaDlJ4KHObq+ROGaPoH9q5qo3pItCCRndtTa+BhVGwP2yNcSX0I05oaE0EPMJJ7V9gTNB611iIoxSMrgqgoIGBhUxrTpX7i17yS9YugmlQRF4L0BztY6ec64whqu1raSW1DEmqA4kpcDtMtjfF8aJ+fYz4pCaw7n18jTx46bVt7jgNTggPOV4hb82ZJ2WrFHAjzcQxsvsDRdROCk/NiVOqQM52JQl/mwsqDn0/lgDYcM/OmKDR20zTcY6Y76nEfG7QDt4fjqjqtaqOw/IcdouAAc8vSlShOEQVTzgsj6WlZ6UPJ1cYvatkcU8FDt8MMwc6DxrrDotzs78PEgZrloWZQI9auLciwXr+TySJr9iAOQLPY+HvseAHlY9RceU0qJvlj3fIJfz7dfIPTxGwF98g/M9kqIYD59vMj7XMQrrZc16Pl9ZHkjrX7c+3ZQx8vns5T4Eo8ElpfwFP3iPcGFAkBc/ndkvNvX8Gj9nSTg2XoQQP3sXI6Y1m/U+QZHaEZU0zj4Ua1KhaJCWPuApsGTRGVI+kwh4o6A9KT7/qhaayPRlPoLi9bKZEZg+hGoI9aAzvD6WpjBvQqjRPjCvvOI2odc+hXSAV8Hl0D77BZyg0NO5Pv/UgDnnG5U+XddtsW/hYj7iuriw5S0wPpaf4gGV8CA+8CKVdGL1Ej6t8w/2Ll/3PSJkKAy70c49I+UuabK3lT3mqjKmV1xSPW/0CHRASIA9DDW/bOSJ0T0kzSAxtEEUPh5G+j9oAUk+mARCLr5+cD5LE516GkKHPp/+5qwphpE+eKR+19E4jD6+1zMLa0l4PrGv6e4dVlY+dyoil0z0JT5hdjRnyxDnPa5C05Hp+pk9EP30lmx5QD2gwosd62TkPNyUlxk4RqY8qqBc9vk6lzwOn9WKcNiTPKUukDGmRIM8GzH+LHwHZDzRmDPnrUA2PDV2RNS7bvo7a+bYDPffsDszOLpcvsVkO1l5fPZxlac7vifCopun8TtBz+uFa0UsPL2r5L9GMVg8pPrQHTggdjxW6YQ2l6CFPE5vHQz9l4Y88oNWHPQ5eTwyvHihRxpePGPEe+EhMjM8Y2LHjz4q+juMJ0gt9Q6zOzyA/EFZrF07uJdxWkCw+DrxXdy1HfSFOrLOOScXoao2pfiXdqX0hjftEpwCpuhrOEfqVj5f2EU5uDpt+5WYEjpmeNEhSfHQOvxNxmmgf4A7eXhJEJArITxKBxDpyBizPIdX6zHqsjY9GRFyy4LVrD0MTyQpaZITPv4nYBE+ZWw+o7Kl54UDtj4xAywBNz3yPsm7cJeqJiA/j7kp+paUPj/YJ3yHBAZPP9uZb/6rO1E/R0zAsL9CST/Cv2N/vttIP4sn18Bb+FA/uNaYRZP4UD8KUbmDJS9OP+z0Ns5Pw1I/Fb9WpZ8LVj8NCB9tH/pSPx4wiO0eaUs/XuoRxgdZRz+dHHmyns9PP3tSToKn7lY/NM+cSuasWD/zNAJ8b+hVP0QtpihID1I/aB8WGPF/SD9bMOAo0JxDP8YI6wvj1E0/Dlw7Me6jUj8snnV7El9KP6tHy61w8TY/c3zRlJJIMj9XMIH1mHFDP0JUc11JNlA/gVymmCI6VD8cFBtvzpFVP68V8OIYEVE/OUlCRTOeQD/c3DV9OpYnP8jasn8+DyQ/kuVMoTloKj9wugzhBeMkP3Q4y4FDzxE/odSDSBcQ8z5KNKpXi379Pt333FmPkyE/89EqQ+tPOD8YY0Iu36RCP/uSdqCk60A/6dGSxKw5OT88BvqyT9hAP/wHS6/lt00/QMTbU2jjUj/zasG6s0dQPwDiv/rS3Ug/AwwPhsTtRj/2vQxfSsNGP2lQTCKSaEo/nXVLm/M9Tz95OYBiHdBMP7Q2tlOwlEo/DkoW4gfNTj+0Wt+ol6JSP4t2FInJoVU/0D5znGwUUz9kqnlMJXtEP7tnTW11rCk/mcjmz1ttGD+5AYzUsn8uP2ns+ZUJoD0/I9xF5S8dPz+BovuFq3cxP4Ry6ijZ9RQ/XOSwOTjh6j443CGWamuyPosjDTaQ+mo+V6kcBHEdFT4rGc1EPamxPePmlDz4kj896nRH0KwpvjxqPMAiUssuPM4SGCGmzJA73OD18LWW4zqcCz0MEGkoOobFmZAgQWA5Ou0vH1oihzhYReJ+EJihN68OLBOJmaw2XADZcI/XqDXcGA5pgA+XNDRHTXqr4HYzzkH2h29BSDInGLvN4HsLMdLqtOIypMAva28V52idNC+goZOuiRRqMInsqlUHopExWQqteUF7qTKv3cZdOq2zMwZJCuz1PLA0UNNVbmuknDUYy2ASFP96NjU/G0N6MUs3Lvea/gFGDTirJwfZwtbAOMKaN6EPtGQ5RJ+TJhk0+znV9s1SoRmDOkR3ffjwqfw6T2uESV38ZjtF7FtA67LDO0DcEgG4ChI8bm/madSoUTyreUYrB3mCPLBWIyqtpqQ81z5mSySsuDxGNLnc84O/PDkNavcu77Y8HLSRyYdf1jwqhPLpTVgjPcIwraylqWM9MPelqXS3lj1RUg/RHtHMPfw9boBgMRo+QwbL1dbCZD4FcHKBxTGiPn5onRYpEtE+N2Dfp2se8T5wPfBDq1gCPzsQrUdEAwU/KYUkKVu4+T5HA6G7j9LgPrHYuvaIhLc+CsjUGHeRgT58sjn9lyM8PvniuVapqgs+w0fjESJARj4y7tuerWN4Pv25j8bMk5w+7gnUEnnksT6w5DVvy/G3PmV2qFVgH7E+lf33fdArmj4JSY6CwmF1Pr8/HH9r4UI+A6EvN9GmCD7SfCAYNb/wPZmtsWa0HuI9ts6zh6xQxj3HCp1wy2ydPUvVgZJLvGQ9FFothoGHIj1nN9LTcqJXPZS2DHWzfak95kXJBPlx7T1hRuHH8CwiPoFNeBAF+0c+H7oAMC3oYD5w1hDuU3ppPghMo2MRhGQ+z29z8ManUT4qiOMG1DwwPuCRl5lm6/89/7papPLDwD1sBc+PQddyPTdPezidBBc9q0bqGdxRszz3m4Jwb8FkPHS2r7fB20883k4eoWuPSjye0jVMyMQ5PHFyrLIyyRo8EwvVp0bC7TukHxHjpauxO9S3vrX0fmY7/dZ5TItsGjv8QSO34Y1dO+ej6zppIaY7qQ4kgLO44TsSjmMuXlUOPOg9xdTpvis8ZIzUkL0fOzwiXH8r7FY8PAxxrK5KpS88Y7OZUjziEjwgG5xiIxboOzLOUtvparA7KI6vRn7rZzv3V7exmJ8SOyVhNwtY/q46f9Fa5j6QOzo5FDXI3b6NNhcJPE6CSYM3AUZM4racbDiM/lLboNBGOblMpiOlcxM6tj9PdnO50Trged0AmEKBO2zWt3949iE8FwjxDnb6szxY3nmIKL83PSHguEtBKq49SSbhqLJ5FD4RVWWmybRtPsHMsRegB7c+xcQ/O6IU8z7CtGR6KuUgP7Lpgzxb+z8/pEYUZ+4zUD/w+/Bj6NhRPym94mQrnEg/FLo/NaWDRD+1OE0W2z5KP/bunMhhHks/rTu3AK61Sz/OQrQBzS5TP0Be4F1g21Y/I2z6IuphVD8qhO1u2GNQP97o5IhuhEs/ic9az+HiTD/fcqzKNJlRP2jBOOm87FE/WkH3FRKnTz9Dy6WsTVdKP6TZZwPQO0I/zr95SD+cQD8hBiOIPOhLP/uNByaFzlE/yqgpgt6XST9DhjhKWzU3P3sNTWgDbDE/XT+py1HvPj8RUW1/Zw1IP7TB1sfu7k4/hSR9f+KKUT+Lk5TeC7BMPz9ms5m51Dw/5pUwtivdKj9KL/h4qwcyP2OfEczzYjk/TPfw480nND8+VTuSZCkhPw4sXrNFaQA/GCGLICIx8z7SkY+cQKMTP/U2sfj95Co/Mnvc8R1jND+/Q847lh0zPyn6R61+4TM/lp+Vt8evQj9B5R3LuMlOP83ueeDSjFA/7zR1KTTuSj/2waC01mVKP3SQj2E9Jk8/THxT1s0zTj8iJWE4xNxKP8XJ/FSn0Ug/BuKxktLuQz94NKxoRp9APzThvmzkhUM/K2PS5DqgSz/Etv1nJ8xSPzf14aJc5FE/jZ8UQvC+Qz++yLPOk3UoP6OnrnuD4hA/Buwtb/4oIT9pqpNr7oowP/PRg/4yXzE/qespbV2BIz/nW/6R4mcHPy83a2URBN4+T8HNTJSRpD4sIVaeYCBePlG/P4MdlAc+8RacFMC4oz0rSoNqBaExPZJJEw5M17A8w2lkyowxITzP0Y1TbMKCO5Y8ASLM39U6UzG/iSpCGzqcrsNmnyZSOWrqgxRW1Xk4OvnnFZKlkzdOLlF8w++fNvO1JpyLvZs10Jt2bEPAiTT42CVn74tpM6Aqfi3GFTsyQy2kpGaw/jDe8Ck1tJSyL/AgyvTML+4u+LcHGU0RIzD0Vl3ahshJMTUAPRY8oWIylQHT44/FbDPrmyezab5nNHwtzhzT8FQ1gQsB2ca8MzZ871PNn+EDN1tR1rr2ZsU3i3ZuyU2feDjmxD8a4kUeOQnREkyK47M5Xu83pb3tOzrCP7mR3PS0OkErURciziA7byYjL+LNfDuxJSR4m2HKO7xo57N40gk8P/NwfecCOzwZcDPgTzJePDhUmRPTCXI8p7waRD8NdzyfWvcwot5xPP+q1oL785888wP7nSfp7DydaN8p7pwtPSvsh3C0qmM9Una53dhsqj0iwdHyZ/EAPgq/gCPtjks+YGo4qiAviD4cpmAHP7G2Pksm9cKQwdY+90PFWkxj6D6zwl+Gre7rPhq6WrxNGOE+NClYHrpcxj5uv740HkOfPt8xRoh9Wmc+kABJMaOuIj6ZzJS11LXqPZKPHMXzPyM+Uv7MQPYYVT4f/regYLh4PuNT91h79I4+pJle4nK2lD4bj0r9fZ+NPvlfSm2Ao3Y+WYpxuxd+Uj6suQNzzTogPnQrR48LAuI9Ln/LmndIvT2qc/IyXZqtPZmvjTlaMJI9oCJcv4f7Zz3agffAoOYwPYzqIATNV/A8w10OwEFOLT33AY1OFaJ/PX6ofUhqRcI9ueNKvqWO9j3B9F8HK8MdPsWUl+jN+zQ+cNk+CRmfPz4s24eYknY5PpI9cmS36SU+alYUREEnBD7wacBA+M7TPewTFtm6zpQ9j+hk1MFdRz1K7QHrjDLsPFPkcfTo4oM8+c6SDL66IzyICrsr/9kCPIxpVnGhWv47I2eDQlNr7TshdvgyZpTOO+rkT0uY/KA7Krlu2bUrZDv4/OcSyKMZO7yYNI3bB8065t/ZL6OgDzsIyZy1ErBXO+eEp6uN+JI7H3ZRrvI8wDsR9wPjmLXdOyignkIVDO07SNJS90la7juRoyJn7PLgO/RmV3rpOsQ7bToWUpTOmTtjuUyXqpdhO2DW0id3ohk7bzyILfr1wzoN0+/kkpxgOlxw0UvEjO05+OtXAi+LiDZ8TOuzkBuBN9vrMOC7iWk472RQWc9fRDmmNzvZH18ROk50IDR3qM86O4hueyzUfjvbsoaEugogPH9GQISK17E8E8u5yhM1NT3oJ3Gwd/CqPWlqC7grSRI+Y+rB2o6Haj7TTo4bKZG0Pvl9lyNDCvE+eQcBVB0tHj9xhkyRBI88Px8oY3Jl60w/oFnb2ouvTz/NkKE0CeZEP/33Fy4a0D0/Kb+HyY6WQT/CpDBRwe5CP57ytbYboEY//rqLIX6bUT98cjo+M5JWP+bdxupjCFc/IMbyZkiXVT8SaHu8381RP8P9k7IAt0s/5UeLviS0ST/eloKgcQhJP4A+Lp5QoUc/y/lpkRZCRD8hNEyCJ3M7Px8ZdI6MCDo/FVViXNYoRz88E+rWymVOP7bSqQpBz0Y/d4YMAaLbNz87weRtOnE0P6qtQqygpjw/cnxHbzPSQT8vvS4ZFk9FPzTJK9DHuEg/YpaEQCawRD9UQeZrGfY1P3rEEPT6uS4/P8LKLbe+PD9HgW6EYuFEP6mEg9IIm0A/hAz1S3FELD+btFPO3xcKPwsWksg/N+s+c5XVrjTfAj8dEDUeEIsZP+9J5TEKeiM/t/XXgI1CJT9y+zt678UyP4FBwQJEJEY/S58RMyI4UT/6Mi9GUyxQP8l6faHsp0g/vvLmjp4OTT9yRrnmUrFTPwDV4tRSZVM/NmgbdrDdTT+6AN1kVfNEPw66NSEsdzo/gQ14veO1Mj/yoHfQwZE2P6IfLB6JGkM/pgp6QXmATT/ralsX72pNP45KzroLeUA/l9jJHbxDJD+0dwvlPa4FP8+r8uPsmBA/McnXhJuMHz925jpZVo8gP1bm6fTzlxI/lWCnYc1P9j5KPtKp45zMPrqQxCNzm5M+i49nreC3TD7mcBAm+Hn2PdAOg8DBzJI9ARtMvRHOID0X/8pAxg2gPCsYLwLPYxA8+40An/HhcTuKBIzlC9rEOi/Uqnr8+wk6Y14eCG1NQTksvz+iNaBoOANLNUR5uoI3x1EZp5pxjjYnekj4mHGKNfvzH7MejHg063ozOzxaWDO2hTmgqNEpMk3S+TAkQe0wt1ahHlK2oS8FDNkTQSujLsI8fU4Izdcv5ubKz4QXADEWC4KNJUEXMoNX2w3+9CEz+npigVCjHTSh/ZSylyMKNZkqLDUTo+g1dMsFyxHRuDZZlO74Drd6N1ntvkAIvC44ug/n09rk0jje1WEMdtNoOUV6uklLbvE5kf/vsqEoajpz/TSWF/rUOoAW2pwv+jE71KD+Mg93gDvOCAi6uR3AO/wD9Fy62/A7ZITe5KPYEjzIfv9UL4QmPKGjOOH5zCw8nF1DEsAeKTyPOcA7XO1jPF3K9RUSeLI8uKRN0g508zzAmjTvO7YyPWtK0/5XNoo9J+8lBicU4z1q4RwKh0IvPjbDV8VbcWs+fVD6PybAmT4YOwHErNK5PmJJ8Ku0rMs+aXJwZF+yzz6zqJTKGGbDPq56ADE/YKk+gNY4E9m8gT5NOMygNIBKPgHujvNRLwU+PN21ZEfgxj0+x/TaaW/8PVYzO/yNKC8+azPOnR1BUj6XYql5vdtmPtt8jL0Pl24+CSsqn/DfZT6Bw5H0m7dQPsCOmQsRTys+U/70pN7l9z3UGo+WxEm4PZIaCAkBToc9NC9/R7yxdD3IzMXLVlBZPe9VsSOvrzA9c5LynPmE9zwEsVUvK1+5POfSdJsdCP88BoQg8LfBUD10kuWxlVuTPbwWSUgu5sc9zZ4QQIaI7z2eUAWzejsGPnMWeQFwwBA+5WdPM4v6Cj50qfT8mjf3PQW4Ab5WWtU9Th3Qacz8pD1sN47ftAtmPY578wc6wBg9ZiEegfC/vTw8pwPETK9TPJ+F0IP8yeU7zX10G8luszsvSZLENqCtO5umO30OrJw7FOyTxEXNfTs41Khs9Y1QO10lD7MKqBM76u0281b3yDolxVQpFGp7OlqkK1P55rw61txKEGimBTv35MLLUVdBO8Q4sW6UsG07lQSv6egpizvrDgUwwY+aOxynk146wps73l9txC8Bjzv+hkB2dYFyOwNfkYgnnEc7bnH+K8EYEDuUfGsnOHXHOvEKHeGdRHI66VbQ08JoDjqR9pUD1QybOax/qxwwq4I2Do/jdHAUejcbcNosGXhjOJfKDzHAED8506S1trZ8Cjp43rZbmyLIOneDRAbDgHc7Eaju6LJ1GDxWOPmXUTSrPMm8aST4KjA9F0sRHqqJpD3uwYIFk+ELPvqtdxOvOWQ+b5UXCAFcrz5YgYk+T/vpPlSqHj5aARc/dubvXWvFNT9zpe+GtwlGPxfGsou7Dkg/Sy563ZmyPj+lMZuNd/kyP/RglJwiWjQ/oWbx8m0ZNz/IwE2uY2hAPwVw7cIhDk0/9ihX1jQxVT+qJXFLpwRaP29Xi5vavFs/V5RP5qqMVj8txjS99RtMP5hIa0ZaKkM/oP6CLxT8Qj9s5u7Q855FP1qrElC6oEM/7I87XwGOOD+ZsMZx3EE0P4P6T519AUI/rY1iOw/7SD9kADB3mbZEP2Pvwnwq3Ds/JvK+tN2TPT9/86gA4XVBPwrkflFOUT8/3lr9BglVPD81SH3KVns+P3sfthfRqjk/ISpXmxM2Lj+gqvRo5GoxP1rSZ1U860M/ubrOasJZTT/VO8lA5VtHPyr968444TM/zOAgtr0oEj8EwD3/vZXnPvTbmI64lu8+hONO6hDZBD9zzXFaKJsQP68f67eY4Bk/i6eiO6MUMz8D0Av4T+RIP/w3Jjunx1I/bKRIFihfUD/ydowRaJpHPzFAtIrTYk4/y1clVf1WVj8tEnYsKztXP1f5FocKm1E/5quHyYKoRD9TbQMM5EQzP5CgK7+mASQ/XNRor5byJz8Rx6haUCI4P8EwEr/9ZkQ/+mcrqPjoRD/6Sy4Ta5k3Pw5yxCHn6Bw/kg5bP1i4+T6fB3r2YLb7PrnkNSx8sAk/IcGq2KfzCj+l/MyZ3kL+PtZCDqQBKOI+dF3ODqpItz7snTAmNOl/PicGZWqgXjc+rw/9J1JK4j3SNkMtz5h+PR7M2gepWQs9cQcT0LIgijxY1zNSuKz6O3RFthmmGl07xpb4l9z3sDrOL5gwFiX1OWp+KzfvKCw5WIoW5hQKVDgTDgGmDXtuNwxgM3YVxng2tHowHMuEdTUI1WjIu/ljNBgSPLYj0UMzTf8ZSqQCFTKt/2TxUs7XMG/fVI2l04wvDS0AbxG1WC4z8B2Ri1yJLxWQhXGhJbEwCvHSvnzHyDHO8/9eaSLTMkGDEjPOlM8zzrhsJ1rauzQ6zZVNn0CaNZdkBe+hcWo2AZ/pu3x3LDcwmpn79l/gN6fjkGEAIoQ4pnd1VS50Gjk/Y6Sc4ZKiOQw1Pb243xs69wGG2jNahjoS/XEb8ifjOvY1p4lvizE7A9Wqij4scTtH/3F8tPahO7AZkIX8FMQ7U3vY3zX+1ztvpplWQb/eOxH9SGCjc+A739CQhPl4JTyx0M1QaTp0PHlJ/6aLZ7c81ftq6B0pBj1b2pTCIl5oPVw0As8QccI9ih8gcDlHDj5GpmMmdZVKPtXZkdrX8Xg+ZpnQasoDmT4kL9aV/M6qPkMGuP1ttK4+Kgb1Oq7Koj4F6RSg8ZSIPm80+3O9LmE+zNO2XOOrKT723lNvJ4PkPbuJzrVZeaE9B+uUtiPu0T1kw0wzNaQDPm0G+jGdAyc+liUAho/RPD4UqBHTfUhDPtXQd6salDs+Riws7X4TJT7j0rZTzTYBPsHJQq48Fs49rEcPty9AjT2bm1CZUolRPQQIdhQb1Dg9RN/iHysUHj052WbtVNLzPC7GfATi8Ls8igJhA85ygTxab+uOlQ7MPO5w7TGOTx49pmKMdxKCYT2PqsC2oJ2VPV/A8DFJhbw9gRsOjr0b1D3PuEjBfk3ePQPuY8u+Ztg9fIezr83/xD0PZ+cyIlCjPQ8jUpuH+3I93qenRonwMz3K53dkd2LmPDvJ1o0I34o8k+eRtVZnITyGVxLy53asO+cBZgYY9mE7r4OE4xuzWDtr+lMk3dpHO3AeEHUgyyg7iGA35HWL+zq+vaXXO1rAOm+dIVjawnQ6hVk/BSgxJjqhzVF1pI1mOmbTdqB05bA6R2CJ9QAS6zpHv6NWLC0XO+J4v8QHNTU7JFx8X1K9RDuC1qWHSa1FOxzedIztNjg7XDnVr8XoHDuFcE9ml3HyOsWsnfXhJrk6CUgJuEVUcjpfylcOJI0cOlR0bbAlxLc5HP6KwrAkRTkOK1SlOkx4NqK9jroG+XA39CFfQVVXWThxY2M7rTc0OZO6kkbpPAE6zVLwvB1qvzo4S38idZduO9rqxe5E1g88oJMf6Wa0oTz20ZZqTwslPVDiqlFpu5o9lBnMQSglAj6Je8zOTlNaPgXio7emaKQ+nqUrI7Ho4D7fQvurl/ENP35hPGAuViw/SCN+dCutPD/dOBJAxDg/P+psbucNbTM/Ln0LVPofJT8i+VcqZ1YkPx3NtmS1uSg/ilEjNYI7NT8X9Sm4ON5FP7mxWQ06B1M/wwvsJ7f8Wz/iZ2VEfDFgP09CYrGu+lk/XIhfRuCDTD8y07fVCic/Pz7aVmnYhkE/UNpBXifZSD/qlLDUF7VHP+W6Co1mZzs/oBzggsyCMT9Mc52aBZU9P2DMKfJ5rUY/rozBMybnRT/kol5OjMhCPzjJP9DsmUY/3Cbni0OZSD+0TPo2FHxBP4RoFqqWtjQ/sKx42XD3MD/kLvHO4ZkrPyMrVjbcnCM/Zi48lKSyMj/3rg5g/8JHPzHQU5AFnlE/LVgxdAYNTD/o8FhbT983PyywOQNBvRU/9RKdIiMz5z7OaIsr+PjXPnTIC75mau0+QREeJsm7+j4QtHAzKQ4SP739/BZSZTI/apTaAEniSD/HqwKAfIdSPzK5uRcwOE8/uXOmsGGSRT+W1g7Ol6BMP8nID1+9elY/zsXpY1ppWT+bUh6v5mxUPzhcgwwrw0Y/SQyk/D0LMT+sKcXPfgMXP1Pdy4DwkBc/FcUsXwxMKz8ypiWF84M4P3yWnxY5iDk/MFo6/mTvLD+SWBePoK0RP4Pe51brzes+NIk31zgd5D6k8YBBl93xPq2qOCYYufI+bzLEH4EF5T4n01FApDnJPnZNj6CuLKA+lU6mNuIqZj5E0JJR8DsgPudakfNQack9JiQ+5DNBZT0GTPIo1P/yPC883ppsJnI857NoVLGH4jtuT7wIujdEOw3+5ysVk5c6/IalZJhg3TlKLRbC0I8TOWEKPv9n1zs4rfR74YcsVTeAcZhkpDVhNktW9WWQ5V01wfZldrHASzSqF7NhS4grM5kehFm9MP0xTdAoAIiJwDAemBFMZwZ0LxfHsHXvgyEuoSJjdNERNy/F82Cg4jFfMJtiQwU7inYxhJlz0r5ngTKBVqPcL7p8M9aqB6r8VWk0A9XXukjhRzUesZ+H3Q0YNiEpr/7r5Nk2svDchkfKjTeRuAjgPFAyONHfE/kuEMg4mTxvki/lUDmGDW8H31rJOflKh0UXVTQ6uCNYh8dskTozx/xiGOvfOpaxitDqPR87Ttjhgx9XUDuP2HZOZkRyO8yVtVFI04U7xWSH+Y8TjDuKaKOOA62UOxOz25Yj4uM7If/IcZEtMzx4E2RNiR19PMfOI2PdG948mCoRAcvpQz35UjKFW3uePYFdbOicCek9+dNcVbX7JT6zduZbuKBUPo0r7+aPr3Q+d3CpXEorhj5gkjsmHmSJPidtLj5OFH8+wz728+VTZD52t5QCAWs8PgyJb0iROgU+dU6y1BX1wD2JqP9lR9t3PY27Y2RrTqM9szCUnZYj1T2+pw3A0sT4PbqGbw0RBA8+YDUXe+DAFD6rzRbIZ64NPi4sHADgrvY9jqy6zLWG0j13tx7l/y2gPWbabbQ9yV4904muMlO8GT2Oy9ba+rT5PMAsyb4vhd48iTPlAbkZtDyJWUd6XFZ8PF9Van4XXkU8Z5wG13OolTy1sILuGmfnPE7oR4w0CSs95KOGU4awYD1N98XzWQWGPe6mLqQxDZ89BlTesZtlpz2inskCJ9eiPQpNeL2xNpA9KLdR08zSbT2fwqh8J1A9PV3Sjod8yv48rxeI3GtIsTyMsorTCb1UPF3FkwxWreo7PaSVWG1iczsxYkt8sEYQO6S0A6JVmQE7rncUBWrx8DoR5ceRs5vROpP15SXmj6M6ouho4vk5ZzrfyWGgYXsdOl9aZZ0Owc45Z93CBTQODjrmozD464RWOlAurzauCpI6v51MQJflvjpbsguwYUbcOmAdj3+fp+s6+G6PqHro7DoWn4SJ5yXgOpwecxr2R8M6aH3eX+KamDqCLvo5bMdgOkpOSFk2dRg65cfYwRcNwzm/gbeoU7hfORdJ4/r2OOw4WD86gHL/ajbjfQgs39tiN1bXytg+KEw4+NeVctR2Jjkk5TAcTSfzOfRqgSXnc7E6fnKrZ97+YDunzEMh/a8BPLU07w0SrJM8mWZxP/thFz0BXaDB5LONPVl4vxdbKfQ9+tk3qDhATT5s4CocP62WPl0Sab+4ydI+3YTJDbaiAD93KOKJJXwfPzr1rNBG2y8/dRoP//lOMT9ZyrHzeiIlPzeXPNw2jhQ/C2sE68CWET/2Mpsx7WIXPzOV6qPO0Cg/mDBO+uC4Pj9sJ3nFAk1QPwFbWXIhmVs/krJX45WmYD9zMBXkNE5aP9dxLjAjDks/GcPypIFUOz9y7dH76q9CP2786kF4X04/C0lHBSi1TT9ga1TnholAP1ONwGhCqzE/p7z40zDhPD9JyJyYj8BIP2B2M+auOEs/TWY/dfyESj8Ets82uEdQP/h+rURY3lA/b5kIciGFRT+fev4pqUsyPz8TlgtxbyI/qHEwfpI7Gj/a61JpZzAZPwSI4OiGKjI/K7eDBJtJSD9Td4wQtw5SP5LvmYWEwUw/bHy3weN4OD91X4oBBEQWP0LpoKwgQuY+fQCZZGZLwj5ORM+JcEXSPsMQwo+uceY+UK7IS+amCj9dfhG6JnsvP3/6uM20jEU/8fpK1vLrTz8ktgnJDnpKP7LAsxtauEE/1O07bazIRz/JjUkc0hFUP0xWXbl+H1k/M6db9m/zVT/yH6+vDNBIP0e6MPJO+TA/Fwh1FxkgED+P/7hpMOwFP2llnUOvNhs/bZSFCCdkKT9JVWYmvrEqPxiiuJweUh4/h8whDTV/Aj8jj1veh+raPmC9HRsQq8k+1Cx51R871T6jlRry9DTWPtXpwLqP7sg+ivAkGt/qrT424JMk6y6DPp5vwt2BSko+fC0hXQNBAz7jeu0OaiOuPXWrXCpbNUk9sZ0MJJWI1jwnK9G3vIZVPH+MV2UZ+sU7CXRUsH/6JzsGTs6dtfV7OhhJL7LGa8E5UE/6bVoz9zik8Z+bnIIgODNX8S3XHDk3K0Y4ZCppRDatV3G0oLpBNeCyOookdTA08pn2orJTEDM1yTi5ZU/hMWwZIAYKnaMwM6n3KADAVy+JBKzwpJ7/LWnearfx6eEuzvNjqCQ5CDB/c46dqIAhMWF6NkvjBysyabkpDZ9OJjNyZeHoc6wTNEqkAU8Li/I01N/QfqmtwjUFAB6NcRuENnRzgJPnITc3Q7KsXvRw3DfdL8pPdq9yOMtaMR8gPfo4p3WM1T6wczn8Ot4MpJPfOdTiQbC0Dzs6axBKDvbIiDqcqrZ2fELIOmy0opd/YPk6WCFmbpJeHDvfTh2h0fIwOwWXyxcj+TU73cM7H7khSTu+6HgpaJufO/XCV6ZIQvA77vuGAULxRTxqfCt5LfWzPMIJ4M0/BRw9xudzIKaDdT2HRiSrqqzBPdEIu+J5Cf89riTjj5UfLT4C2gX9iTRNPmyraZKoTF8+dP+ibZjsYT57cvcGjvBVPoTnjZcfszw+baQTX5sPFD4yKHvfyvjdPVoajRPB75c9znX9hlkMTT2/G8HcEsBxPQeyblzfa6M9mwD0aZnBxj35/7Nh5X7cPV0bZcItEeM9PTXcF/9E2z2rf30fCdfEPQfgZThNBaE9T6XdkoC4bT2NgsxK2/srPYt0SroXcuI8r5TwLPA5tzzHyi5cXXSaPP1kyByTZnE84/70DAqJODyjgheSDVcHPBqvgbHMi1w8Iw7GTpfZrjwMSLPt2NHxPNeGbxsnACY9qhOCxE8HTT0+nl9QbXdkPVnpABSt1249bQMQowXWaD11vqmnkV9VPansMw82qDM9duxDzRlSAz15CXuPdkvEPMzoRqFbyHY8excO0I5VGzxcSfO9oYqxO5LPXxQ8fjg78hq+29JwwTpU6Pxp3HalOoqrz8nVi5Q6/pRahLdZdTp6m/irMrhHOmqP0I6UKQw61xy7GR/fwTmW4tFk0jlyOTWpd0q6GbE5E3t8oLig+TnaGzLn4Yg0Ok0nKs3MlWE6P1IZ2UMYgDrnAAexvXyPOnnWvzCGdZA6m2plhORjgjpHXUGL9vVlOsvEkrIgBzw6/hRnBoUdAzq5Dmkd1d27Oe1xQbVutWU5OFnIDQ8TAjkc5YxbUxWQODJ4ly6nm1k2H4u2jFbjUTd3TuI4LLU6OLooc4fIThU5R34FcOIq4jkLm5Zq5o2gOq78iwXkHlA7kvZAjeTG8Dsjc96q0aiCPCiXDFzULQY9jgi2CnQsfD0HgoKepx/jPUOyAla8vjs+koFaB2aChT4XpFUlH9LBPrekZmbxju8+YZ9FnRvdDT8EFdNmSDYePzYWcO0/ZCA/azFm/4W7Ez8aQEBO73UBP17B+eNXbPo+GjUxpKDGAz+Ic2YJY8EaP3cT2xlkiTQ/soy8VkMwSj8k2hJ2q0lYP2wlMohOvl0/tmrHHesSVz/eBkLc+vRGP0vXNWmdDTg/DgWJkyntQz+3tBnHR0dRP5Rf8Y5/GlE/rZwkxSriQj9//qo7ZjEzP5kqn72aHEA/eG2CzRO5TT8tlYwv44pRPzndT3NX4lE/wxJanHJOVT85qZjGav1UP2vQYFlESUk/a8lfOWQnMj+OXftsSB0WPwTZnX5RDAc/YzmVSNNEED/tPm9z1AUvP3l/2qIVOkU/yoLqmFOaTz9RxqivMSpJPzApvNuDajU/3hJ3e+N6Ez8UTtXLVhfjPvxTpITeVrA+GR5YDCD5tD5Ei7ndojzVPkCEn2+qpQI/Ix4qxqxNJz8c6M8klgNAP9ohxXZFq0c/nv52ACh6Qz9XzDSNy3M5P46q6ne5V0E/+UB3FnvtTz8z6pAeg0pWP1FPomYEHVU/xwUAjyaaSD/p1tAGs3cwP1oSpF3TSgo/DEFre1r+8z6eDC9thqoHP7SjkxZZkhY/Wd25tJrcFz/mL33SSCMLP/2gQeJlivA+7wGUnf/2xj5ZMERnEjytPpk0jw8akrU+NpxhfDl8tj7U76y5DD6pPubYv3Q9So4+fpAyuxFsYz6Bge/GUJ4qPqXXGaJjfuM9kXf6kHyDjj2h1gC5toUpPZjcBrdp0LY8xikHW1vLNTwMBDPGJ0CmOwVA7XLvRgg7G6JaU9ZOXDoW828sT6OhOQMvDl9Pfdc4Rmcg0z23ADhSCxp35GwZN7+umLU6qiQ2+WDbiSTzITVnvkjSmqkQND74I06+h/AyhxTTvJOGwTG270Glj9uDMA4IxnG1CzgvRxXaC9ww3y2hJHgg07+HLo1r+8iWDrAv5mTA/z00xzDSoq8QB+vRMSCKLRzeks0y7Q1+XBYVujMB2gNAZ5WYNJaI2E9Mw2g1VSexzTuoKjaXwIAU+qreNuwHprte2oI3B/9yPa/FGDg4wu0Ln2ShOKk3/pAdGho5oxa+lXPuhDl2AeC9NfDhOVgRmSfsbTA6JlWBQcgUcDqA2r12X9KgOpCjWhwwzsI6rNlmp8x41joUEnoOp5jdOtcN1Wvn+/w6sJFNbaaqVTsklXx/WAOrOyroWSwd9BM8HooUil6dhzyObH/KqN7wPKZmNo6z7Uk9bGitTkdNlT2gZzc6FrTSPRdI36PejAE+vavmWH+ZIT546yiektwyPuRxM0lXmjU+PteVVEZxKj5MdVZfgksRPlzjM3WeLeg9+D/IR8MPsj0bjLvEcdhsPb68CSk4YB89pxw1IZzfOz23uR4y0nZuPSzyWKX62JE9drWQvVZZpj2Kgkd2jeitPVHqjUImY6U9uL8slTtYkD0zNobdxrJqPe22rzBrTjc93h4iER7W9Tw77M66hBepPMPSie+asHI8ihbxtHqaUzxDuwNzILgpPK8RPcLzIvI7BZNuRKKyxjtW2+piaQ8gPJ78gh+hW3E8ea/KBIMNtDx4dkSG8sHoPLfMaldJVRA99HHUNwMIJz2zycpGkVoxPQnGk9fJ8is9Ns61oj8NGD3ca20K1R72PMl8dU7uvcU8MsFytYrWhjyOQ0DuO6M5PMOhQFUewt47SFgZy4i5czu7iIu7ezD7OrFrFrzi1ng6IhppADiGRjoScR1/SkU1OrSGA8J7GRY6q52JpDaN6DlTBMq5diatOY0jyztMf2I5Jhg2xch3Ejmcx7qcp51QOfpwfZ5c55g5PKspK/f00znelOTxpBcBOqpBRe+JSh86Z+RcZq2cLjqCGYGh3wAwOk2ax18U4iE6TAmDOpFbBTqkXiRp3ULbOa+1vAIzmKI5sfTveD8cWzmfXNjKOB8FOWRC2Ox8lqE4sqYik9NNLzjMV2rpMLxENqdVGeLj9zw3sGXlFCSgJThnTXO5zUABOceblBLBa805hcEgDfXOijq73queLxs6O2Nt0qpAK9s75XduDrI3bjyEMbUkaPXxPH0nrJYC0GY9+zGDGCT4zj2CmDGiK3cmPtjlb9eYanE+fhG5PALcrD6BST1NnI3ZPi/YHChFLvg+6yb9qth1CD+/0/Zmm4MKPyVxAemTlP8+Oz9p4wnZ6T7P7kgV3VLhPlxTjRAFe+4+c6nPf6xPCz+yQbJA3i8qP52GSsMXOUM/y68L/iG/Uj+B3kfEqe1WP98WOB0ZblE/D2HbZ5wKQT9zGvtS1egzP5DXiLYEg0M/Hx9qb9SEUT9ws11CwYlRP1Sy3rXdhkM/gFhv+QJIND87UoH4qOhBP4MNgM60J1E/8vBFWXUcVT/A3BR7wyFWP/UBJWoAU1k/y9+JHpp2Vz9Dt9bzZddKP6ld02PFvTE/I368w5MaDz9n1G6iGU70PppUUC/0hwQ/EYtMie7rJj9ev7MWcrI/P57Z0ge6m0c/e0lomKfMQj/dQLHhc/8vP/qod2BfGg0/2NVLhyNb3D5yH82D5pihPtciN8WZeJg+f7lsMhjAxT6+r6+KuzT3Pr0tq/hslR0/Rr1sS+paND+HqAnYFg4+P4GdGyqtnTg/iPZOvFuiLz/XjAaVqEE2P6frC5vwtEY/L11XpQCfUT8blrZiythRPwZgz1XrYEU/3tE94/WfLD9Ad+ojAnIFP+BghbMv0OI+zgN88Lzb8T5+91VYqy4BP6GKuTYVOQI/uzUC+m299D42JWQN9kTZPicqQe9TELE+06al+0M7jj4VG3xVMcKSPu6QKljDb5M+WX6w9BXRhT5mPnjw4y1qPqtOqaJLyUA+Yr34cYYBBz549ScOIdnAPfv36AVeX2o9AoU7FwEPBj3IBrAwy7eTPFmwMpIq1hI8NmIwHh07gztuB8gUffvkOkdQfxxZdzg67//bHQx9fjlmqEr4OU20OGu2Bpb85Nw3fahSS4359TY8o9HvRtwBNtFUjZ4LB/80jKCtIGrN7DNoACz04ZLMMkemC7NhS54xFPvwCqgpYTDG6YDBTMgUL5chI/dQ5rotfHoSw8TgKi4FC2MXHCxSL6IdwzjMQmowRXozOlBHdDHRK9WGHrxwMsiLyqG2hF0zdp8+znvSOzSFTk6qbAYMNTJiG5I+K841YD/0159agTb/RZKzL1YlN/05ahMgCbw3rSaYXTOvQzg10i9pZ4q9OBrQ5PVcsCc5Xc50rS1NhDl0p0OTAJjSOQevz20eMxI6j78glK8JQzqJpAYqaEhlOrHkLB8OcHk6TKguMVxJgTq0ZFdGz7muOraa6xQXJwo71lpYVIfbaTtKVYpNzabiO3MW4eJWK1g8m/rlXR1awTzkn1dwKq0aPQkM1D2m6mU9hGLFw0M+oz1nnEc0hw7SPS3PgzSFG/I9b/c2TetnAz4kWPqD8DkGPs2bL5igNPs9a3YZEUjL4T0MHqZSPuC4PQU9SsYylYI9+LJOjuqsPT0cdqgdJNntPPcSuvV6sQI9sLfLKXVlND1963KzBuZXPUiwlrcT7W09GUlp3DIGdD05NA+va6NsPQTJgDXW4lU9hxxT9/7fMT1tmiNnsTT/PIMNX81rK708+YYH2ucsbzx5J3uv7qorPFQNMFbS4Ag8qtT1MCg64DtfiZZCmeSmO3FIQ3nWjYM7ijxRZ6ja3jvrcqnisqwwPH0XQh5tQ3M8p31gXXPIpzwuV8XAYGHPPLdo6VPqH+Y8fr/Oja+r8Dy9sLj8I9nqPNbMRXveGtc8oSxUXeo/tTyLei0q1OKEPLVnma9k8EU8gJxKPN6g+DtKpJ7zC4ydOzrnbniT8TI7mMiM9ZkBujoYcMd/fUw0OvE76yxRxOQ5aP5O7tbM0jlCxlEkAoezOXWrNzWksYU5ltnne9nBSTm0rDH/91cAOa5tugPY/K84Co7/9lOS6zhaFrRh86k0ORphr5Onj3A5f5Y/bxBfnDnojdTkDPm5OdENOpJ7ack5DwMBnauSyjndX+s5jLK9OQEj64JXvKE5iX/Txvyjdjkw2j39neM+OSe+nnkuhfY4mz290DOMoTj323qc8Tk9OLJ6DgwkA8o3aOIgVDiqLDb2D9qZ/AUkN9ffSHVY5Q044Wd9tO/Z5zhoIqfoEla0OQjiUU/Kh3I6/AXHh4cLIjvLJH4clsfCOxx4nqAK41Q8cfN4tJvT2DyMaQGlbIlPPR0tPCIQaLU9IoJhBpwODz7qRnGCthNYPqjGBtm28pM+ydGer6qpwT5ATiXSyLbgPgaUWTvw5/A+3SYGgq5P8j6A4nP8SaPlPg+wpNmwodA+p0Q0dpP5wz75v3VH2gnWPhKaDEk43/o+mcZQ9L9IHz+/8zIBnSs5PxzqZghIHUk/rdz9OplpTj8dwlaIHqBGPw4p+qOo9TU/pv5Foe9FLj96ZUW6TVBBP8gNjB/QClA/tmXaPT1nUD+MZ32/8LZCPzR6VNPzEDQ/jNaHKAgbQj+ZDGEzm7VRP5QHwZJ7tlY/jbn/tbbfWD8J93dVEp5bP9Xsmepc1lc/FvGaP3uYST/7poBhN9kvP1dG40aoqQc/iJUg8bWJ4z671ey0qxr4PuIcrrrMFx0/zq4eS381ND+3Qm3PZhw+PzBl2w9S+jc/MjTXwulnJD8LZdW0M48CP6xAJIxeDdI+uGhoRZLnkz6rhwJ9QgaAPpnlWjAYrrU+U9BeneUD6T7PjlMo8w0QP685pZjuGSY/JSJu7ttOMD/SjQ4TBaEqP46yzCzJ9iA/LEEOxg5FKT8ML1PgKOQ8PzqK9rqlnkg/HXIaUyo+Sj/Is32VVwxAPwZ6Ogm7liU/qaUKzgCz/z6vBE8Sic7SPh6CClegZNc+zSAzmqRf5j7MqjctR8XnPnLnMreyENs+6r43+bZ7wD5eoe11jOiVPqcIxzvQyGw+96Z1nzP7az5ASOrJMrBsPgOeteO6GGA+/0OKhbBQQz5TKkgGIsUYPhnMq1ZS+eA9pnuYSX/cmD3MvmNwMXVDPU8TGz5kRuA8YVLHZJMYbTy0t4k8o8vrO4WJ8sKYYFw7BIA+JTn2vjp1ChxNIQ0SOspFH4eaflY5REYqiRT1jTiGN7XNiFG1N8pEopKPNtA2TYjFCuZa2jUqaspWa+TWNKqtqIwkQMUzaHJWJvUUpTKdRR/E9Vl2Maxn1PhSUzkwZ8cNRbCq7i50eXoa3NeTLWrBocaf98ktzhI13XqO8S4iQHZ6AV8JMJerBtpplxMxoRp6UPUqEDIr2RdbqoT8MgWlrB0m4doztglpblQTqzTAu2PGjSVtNa8CvLoXxCA2B6fEuRudxDb42hlq8BVbN1FcYXF0BOM3oikhximKXDizK5uY4eLGOGhdb20UnSM5f0oYeLf2cTnnT0NnQJWxOUjH9GGMZOI5D+2fhc+PBDpZZ/HIKJYYOia/lodhxCE6mCYQV14wXTpxIywfWKa9Omu/HTDWuy479qsUherVrzvPBAmlRjIlPGIKsA1geo484qEIJ/xt5zxKgBLSyj8zPX6vmvez5nA9WEa05N23nz04JspMsM6/PZgmnq9JC9E9t+Fm426F0z12cHt6++THPVVSxwe+Qa89m84Cwi7ZhT0u8JKLNlJQPU9zQXv0Dwo9q8o3eC3TuDzNf6NoV2zFPFQxMJ+LUPc8+yOGJGFRGz24wJxumhoxPQIVI76k4zY9Dze9GjFeMD1fwgpMegQZPdaT1dC2bvQ8OP1g+rLVwTxbxqzgFqeAPAOyYwhZKjE8rBER91yS4zvLpZ00eSC7O5SWqQm8e5E7V52eQ5esWDtGEFnKrqU9O2w2+F8RTZk7u6e5bB1Z6zvOHbBzD5gvPLeGGzPagGM8xTR588u7iTyu1Mk7tiSiPM60TIF1V6s8PJt4YVcEpjwhUHn8gfKSPMNLdkQFbXE8tJD5Pa8gQTzBIFHlvf0BPB66GpZTMrQ7GNUbm+Q6WDswnz0jMxHvOg7P7bEYTHU6zTsm4te/7zkZkO3YAiuCOXfIZ5DKYGw5Vd4tyoZ1TTlgxnUaFl0gOUfDeS60beM4X3K4acCnmDjODEBGXKxHOE//fuNoiIM4oC2GS9dHzTi8HsU0RHgHOXudFEIMGzQ5BnibdHRoUjnJy/3GOANiOT7SVt5p1mI55XobaQsOVTl0+z5juCY5OYeDQBIiDhA56MCOeyvo1TjvGPNDV/KPOFQW5mM05Tg4Picl2Pm71DeMh0h1vnRiN0h5RpcB6hA2SppSTE2hBze9/Ccq86PxN35ela/DJcw4UedUktD/lzmrnWE5Q95VOgU2KIyeSwU7NpoGyIwppjsUNIeRLKY4PN+HJYRoTL08FhMikNKbMj1WfRLxJ0OZPZZaNKRaU/I9Y1VnqvJpPD5ZfnrGjop3PugsalQg2KQ+an2ZDHi5wz5/KYGbMvPTPp/8zn6LmNU+C7zxIoFeyT5DTADf646yPlA9N/9agKQ+04QeVcnuvj6sLoSw6GPpPurfEL8JCRE/CjO9mR3iLD+a4inL0QQ9P/5h712uUkE/IbgITN42OT9wMOqn9J0oP3RbiN89pCU/at+uwTAYPT8xlxFWqzlMP7VNnmpfGU4/rPX4n7jvQT/60BAVFAczP1Ie2mAaH0A/pziVC3XnTz9fbPMI+pxVPyk0Pc6SXFk/ME9H0uXUWz+rslutV1hWPyBbRz06NUY/6I5OsRfaKT8L5G1EOoIBP1pqNEyUvNQ+8n5oOFdO6T6WjSo5xpsPPzL3tO1IACY/aAqKoW9kMD/E+hdQaRsqP/NxF/TNNxY/jfIhPRU19D4JxaagOaXDPlNawW+52oQ+iL5U/O5XZz6WYv+BTX2jPhxy7OOeItc+PJemTd/D/T78poDuhH0UPwNwEbmSOh4/4W9AskugGD8dMpZM12oPP+2b4iQ9hBk/W4fjLeBiMD8EStjlQyc+P6ptK8nerEA/YHxEfnOxND/p/lpAA/YbP2ylcITRZ/Q+MkNvnRdewz4X+9//WdG6Pk/5tzMz58g+LkwHe9p5yj70HL9mIye+PtD+8chXXKI+p9hjNmgueD4jWnlUQllJPiikhOVz9UE+T/7cM78TQj6fCS9NzEY0PuG5sBKoVBg+5ouX4LQz7z2E5snfpmG1PZdNHkEjUW89AUAoIqOCGD3KSXKDQYC0PNK47WZbU0I8O4qpZamBwTvdJPgje98xO4Xeqe8xgJM6hz7SBxS95jnlzEcZ6lUsOdmP0Os83mI4T25L/KraijfGcXaBUWykNjjak/NqmbA17fD0CivWrDSGFHGiwsSaMxjLWIdcjnoynIoEesEnTDF9fivi0eYPMACmNvCeUMMuShKl3dT+aC3/lucyg2plLYlf67Z89Ywuyw1TaKTspC8+voLYXyiwMOzYrw0Rq6oxXeo8jhiFlzJ/Lm1jGyt2M3pOcyl+VEY0fjJtKMkJCDVLoDwQqKe7NRr3mt4zAGE2R4y/EaVW9jZuyPp+WF5/NxY7jkyhifc3rblFeALgYjgXsscuDC3AOLGlFAlsoQ05AKaVIKgATTlGkCf5lVZ+OZAbjb1C9aA5yfF/K6ZLtDnr1HQaA3XAOZYer0mjswg6B5Wq6OI3cjoGD+aUCvLzOrc6XipurHc7VnjKDHHF7zsXiqW8y9lWPA3AgDANkbE8leUhkFXd/DzKOjLh/Fc5PVrMPPn1x2c9gY4mYhLZhz2EWiD92I6ZPfDN0D/DRZ09f2FMnkbqkT2yZIBMZW93PcTxUxqNYVA9N86j4FJ5GD1PB0teMorTPAGVklEp74E8Ym7IN9j8hDylbNeIG8C2PDni6O4dqNo8vRR4daCw8DwaX64x0lX2PKJXpBGN8e889pS36ndp2DwZJtyNHPCzPOcrhiwgZ4E84QRt+689QDyNUI9dMnPwO1ZMZs7rHJs77Cui0umWaTuYvs2VLhZAO6gJlHr/tQY7YDAzEeij8zom9voDH7ZROw9wHCQXJaM7TmHDTgAe5jubZz/mb04bPE/urjHAA0I8RCFelgJnWTzFYyfZ7iNjPNwIJEZh0148Ekv3nSSHSjwdcWSJ02UoPFKLMffy+vc72E5+63IwuTvHa3TR6kZsOxgMO4xL9hA7nrYUbHS/pTo2tSmAF84tOotdUvDX7qU5BhfgLnVpIjm+3fOQXE0COb+q7qAh+OI4G3at7skStTjvwnmdOgV5OGtOlRhHwC84aah2gd3w3TcWWF+Vq6EXOJMpKpW1tmE4nmr50GJmnDi5y4IH9VTIOOLTs0SmR+Y4hYGo8L3N9TjSdXRnBs72OHrvVJnpfek4YQftnWx0zjhv1pdcWnGjOGrVHkkxiGo4NR+rtARZIzhCPrm2XijONzYlwmCkHmk3oRbltKRc9jYpU3OhJArxNWgWyAIzzuc2/fGgf3fF0TdcFUqvPlusOEdf99tpLXg5w/qN9c8HNjoCcM2oFHTlOnoGFZCoU4Y7Ia6h8AHVGDzU1h1XE4SdPHZKRdstvxI9atVtlCdzeT1nnXY+LHbSPd8+7jTvnxw+zJvlNkm3Vz4+YYhzuv+EPm0GypHs3qM+/yezv98YtD57Qreq+b61PlLW9nMeb6k+lJzHhGbpkT6eLoXLNyCDPnn9iMMyhKU+OxAqUqd71j7UNHSl238APyZ5lXcruhw/ZhjJ8GrRLD9vVM8BuO4wP7p4ngFgISg/S9BhOWB3GD8yhs9Y/YgfP2OGOXCPVjk/E5SUEiRBSj8UtXNQjMVNP7O9A3dAuEI/pmt6VNlTMj+F0jE/JEc5P6QERQ589Ug/MrXIlNw1Uj+kTLb9f2lXPwTz4V3q2Fk/0FwBGDp5Uz+HYM5m8c1BP3lXNRqGJCM/r7Luxoz89z6FvPxzrbXGPi1km0UcONc+qt6XMgRa/T7lnGg6v3IUP8h3AVfZeB4/AzpJhfxDGD9dd7RUm6YEPyX36tcuyOI+wiGTnMtBsj4I41XDsSZzPjHmjIfWCFE+BpnQdyCGjj4FAg7/8EvCPoaQYmD+juc+JSNxrNc3AD/i3JuOtesHPzrYWEwudgM/ft/gGY0s+T7M5gdX/PsGP7psBn6CdyA/Dwwg5VASMD8lfUsKKT0yP2jcnpVJ2yY/4ZBmdWn8Dj8MMrPALZTmPsUJ4cjJM7M+BXMxWvx8mz5inx2yfLGnPrA56jZtLak+e9gPkYOtnD4W3UyX/XWBPspzO6Bl4FY+07GLJtZ+JD60r3fcBfMTPigoTapfdBM+a6+gDuTNBT4VVBy90SnqPbwDHXOuxsA9GsKkSPH9hj0aralhgdZAPbFg87ZCW+o85J0lspELhjzuCSxWM7YTPBsqV6A705I7DZjucx44AzsPDnyXOPhkOqhgE7yJc7g5tbudp0x4/jjEAi6eEEo0OANdpat84Fw3zQp3PSH2dTZSsB3oftmBNUDG1qo2An802bUH4u3IbDNdbPnSbo5MMrDuyfipRh4x8lwu1Psm4S8ijuk8EMWULveSgRXN4DotrN/SU9In/iw6WlhGYmMkLgdf/tuRdj0vvFhUalbARjBfxeFdhcZCMQ3LKRAWjzAykSr4M/42DzNRNE54RHHfM/MsckiB7KA0s55TpVp4UzXX60uSPfD3NRAHxjBMdI82shCpI60VFjfXR5FFR5KQN9AHcaHYk/o3pOp58+rGVjhkXq/GbtykOAyn2Gk/a+Q4RxQ4wvpbFTkBNqHj5+A3OVOlgBFKoUw5RZOJcipqXDlQuQ8zrT+zOSeQ62pBvis63r0eIZhquDrj+XakzTs+O/lSPOUcVbQ7+C4xJydAHTzQ9XKUk3x2PD9u55V2ecI8WbID+JA4AD26xwcUEXEuPaA0klj4hk49H4Tjv61bYD2/WLI1TbxiPbk1O9XK7lY9bvmcR7L/PT302izwEvgUPcCasvEaVN88zG53Pg4DmTyB6nmuXGRGPGupkyK7lkE8XJATDXzzcjxS5S96djSWPJGWCbMpzqs8shbQMeyasjw1ez883puqPHbK8mPIVZQ8Gb30P7SbcDyLDQyVJv48PJS7yXDuDPs7G/p1howrqzsr+CD3VDxSO2mBtrFJKhU7YYX2quhK6Tp38u+u+NqxOn9QUt98maY6sYiXZRMrBTsrMVW4w+FWO3rezuYzb5o7Xf/K7XhR0DsGVBKe8of1O9caqchfXA48wkIT3GHgFjwi2nre32sSPD8/cPG/tP87iroRPf0o3TsUKUT8P6msOw0BhrspG247VAYywPblIDti5WSj5EXEOuAfQgwm/lk628i6mhjP4Tkb4CtO2R1aObbD0wLK8Mk45e6ctjc8lDiG29bDwdp0OL7GpLrMKkc48NUo/KCBCziilh5s5HPBN5r9qO5zLXA3+SE5x4tpqDez3Tvf3UzyN2f2z5v3Vy045oqRY6UkWTgl4y+DeAZ3OBwHpwodiYY4MLCM8qaShzhlrxaEblp6OAx9TMu7fF84X30KnKIaNDhZFK8C72/7N2DuXH2KArQ3trsyKW4xXzc7xuwIGvz5NgY6sZJjIoc2aUM+idNOzTWB/js3+HjENtwbYEAFka43q31nnOZiiDjQDxVr2spUOSACSzAz8hI6A7ib2SZzwjpZEa1VbTNjO8y+NaL7WvU7Kx96VSxieTzyj/zaQh/wPLw7oAH94lU9x0o91fPArz3cPtAs+Z34PX+HJ6JDZTQ+yhiWkBYPYj5BXTjLtBaBPrl9IEtpSJE+hYMuGOmxkj624tDrg8uFPtWHUAxo2G0+EzX4KHjDYD65ID5X6WCNPgF3KfGdF8I+eIZUiInv6z6Ft7u+QJsIP4x4SUUMjBg/C6Ka8MNiHD9cwIBU298TPw/zblcd7gY/ZP4rI8f7GT//1RvI1oU4PxZm8aPKG0s/0o8vGg5BUD97W6zWtUxFPy8awCXynjI/KkA7SjfPMT9qIVRf1AJBP+dvwomyRks/1DoEmCZzUz8mxr9Eq9pVPzQWuPkVY08/eqs+UXWSOj+tUlQTMzkaP1tAFa0gOu4+if909WYfuD5OC1rqmWvCPids/QipR+c+Con/6mI5AD8k5wyBhi0IP0hHrQTcQAM/78N/kJ9i8D6vSfvCCc7NPmpZW9J2+Jw+6nmYF6dEXj6+9gLmp8s2Ps8PVYXRjHQ+nhEnqCO4qD6uzeRDO9bPPmcIlEnB6uU+gotXahQp8D50L6NvRUnqPvoVYkHgguE+ikiCIAR28j4s8U5q5hgNP/HvzHrLph0/92GkCTofIT/dhcfbzZgVP3WR1ZIsWP0+tX8bSeRg1T6Ljh7U0UyhPvn72b0tOno+2fhdFSpIgz5ougQS3XCEPjmvCierSHc+hqqmchxaXD4jv9mak4QyPp5vWnTU9v09WNnscStZ4z2cM8WdWeLhPW3/sJAcBNQ9J5OPDFEEuD0NFQX9qsyOPczGhiILG1U92PVGHbjpDj1uCw5hsjG4PC/1LhqOPFQ8N+z6QkcZ4ju5xiGG2UdhO5MGNXJ1pNE6MMiRHsw/Mzr++Uz6/HGGOSizZF1X+Ms4kLsv8O2fAjgBnfOk/IEqN632Qe/fKEQ2XQyMBZpiUDVKbj3G8HZMNImOqKNcbDozWCr/LKo2GjIpl2Asx8rrMGN/A3J4fa8vp8gLOtYQYy7GEjrQR6wILWnokCXMH5Isen+6nciBuC381GsxJbXRLjBLxp7yWNsvCZn5CISR1jC77jMzc+fDMfbmybimwqIy9it7uKzlcjP9jCGuvVc0NNmpuCdGZ+c0y4QZdj7GjDW/RlnvfuciNgL7xmfPi6o2MYh5f0nrIzcRg8I7VfKPN8SMl3XbYOs3afd3S0kTOTjhemNxPIt4OCNricSZrKk4wkbJTv2zzDiEUG9te0XhOJ6KyOzatvc491ps5LfLXjmgkxgDpIHoOU/bvh+MVno6Ci9RFA+CADtdnKQBsTd2O9HWKS2n9t87hcBPHn2SODwBa9PqHDCEPDMdoba1ucE8M0/9Je6h8DzZkonQ5a0QPaDpRDAU4CE9zT9ShyZ5JD2Wgm1lTA8ZPVudNNf8YwA9O8yKLPTp1jyckd5u+h2hPNwkNdjSVFs8fxsGISURCDzrqFNpIT/5O0Tz1EzH8yo8a4N+4V2UTzxcuLx/rcVjPO2cHrTDdWo8/KZDot/rYjxy6PcbmOtMPHqUhDu3nic8CoZXyNKd9DtRdTUmsDuzO6PXCVbaPWM7HLZSzT0FBzsZOJVqrm+/OrTQS2YpAZE6NtAkGDT9VzoHrLM743hWOvwYT6n1mLU65y9flptYBzseoNI+f/hKO2/eGtA5poA7zKnpfsb3pTveddzZD/q+O+Ttsq0yV8c74wZnIo3LwjsCA+dStiywOzZcYdZwwI07RtF+Ihw+XTtafy0ih7ceOyTq3eW6PdE6xY36qC+vdDpoCMrYIYUKOqLnWeJiK5I5YesJ6jKeCjkXeXCFESd2OOayww++bCM4sNYICJeSAziiRC6n573VN2YmPVBi0Jk3YeVhuvdgUDe4NlTXXN/9Nj71F0KSiDU3TFMKxK4kgDc+lXrvSuO5N3Ms9506L+Y3Ovx0KGpRBDgU4EWUV+MTOEYTpC9AzhQ4xh9/YxpDBzjvRJef/MvrN+tYzv7mv8E3HqYy9fs5iDdbBLhWjqtBN2uY3p1ljOs2gqrIF3LzhjZiH53scm8UNqwBbQQfhKU1pT8IojQPnjYO50MaqHCGN6nNzvso52E4p2ym/m6HLjkcA+FdctHrOeVANZDnFps6obhk5zcxPDu2ZrVmDlvPO2WG7MuQolI8f/LSi/irxzy30VoCYBEwPXEvuPzIT4c9eoeNDYcS0j08qea8RfINPtg8h1T7gzo+rpZWR0YXWT7wO330HGBpPkIeFP1DcWs+5ptoUbXqXz4/eE/3i29FPu67RRVrvDw+ql99Q3YBcz5NdSV2K82pPglHFzNkdNQ+gNw6JTUW8j5r5v3xxOkBP6wrvBoGZgQ/nET7lLFo/D6zXoex+VD3Pi0uCacOahg/GIVugkpoOT8+GRFxqD9NPxVLcf/zHVI/u564QnI9SD/MIgGzWF4zP31LSd1keCc/RD2d/itZND9mX7UnGDVCP45hGrDk0Ew/Td2BQ8mMUD8cVlnTIQdHPwArOrw8WDI/duBcj6e5ED9nl3p34KrhPnqtztvuR6g+T1WQ1+gvqT5OvxqURYjPPgQolFZd+uU+i+OfjFdg8D5jOx7K6hTqPnl+iWFHMtY+o/8neQswtD5rjfuaUp+DPmOhRC3xd0Q+/CoGAB/OGj75S8biya1XPnCe4e3Kg4w+EHrNGEFdsj5b4RB4yUjJPrzHbYItpNI+ZJYZflpYzj51vRT4UTvFPuotrADLV9o+eRTiI4Zv9j5C8sZ3y5EHP/BkEqREigs/W6AXNntxAT80iXhohbznPk600M+fS8E+a1/r7n1kiz6ItPwBIpJYPvs08rkL5lo+Gc/cLh1WXD7f58+UXCNQPlj2MLh5pjM+BdqTbjWgCT7Vl/gb+nfTPR57Dx30mLA9HaeXA6AZrD1XP63XNF+fPTYKlOj00YI9Tf6zYZciWD1/qict8IkgPS1JfjdbOdg8jPWSqYL1gjy5TpPmLrcfPPSEbTZlXaw7JHeVJz4VKztSKF40YqabOoJSdvgMK/457Q6URa2WUTmLbq9a/uqVODMtMr5/MM03btzyQaTF9Da9w3zfVpgPNuoIwqP0rRk10REVDDNOFjQ4McIgsrQEMwXMYhyeiuQxn7aYDErHtTB7jMMnI614LyPrk8Fz4S0uGwxg4JFV0yyJhGoOepoiLIg7x4OXJUktOy47aIErYi7eLr79vQ9sL9s9Pc5dKGcwC9cq8X1sVDEuxI5aDEAzMvczUHT8YwMz+wTT/bbfxDN9jry3tAN4NJ7lyoaThh01yStt19plszWFsEabPz07NiSZQ+NtcLQ29QLxNe9jIDdNg+Ky2xd8N0zANMHkusk3/3TKhkovCTjPz0SONlg6OMEEThs4dF04fBmpvc3bcThmKYD7ZteTOHa9qOIHpg054cCThORVpTmWYaexoXo4OglqLUr1yr465Q99iJ25NDseTKnkCtGdO5eMJCn56/Y7/uuND/zUQjzEPXKJ7IiAPKurj3jfB688uqkuPzMezzyun0BDt6zgPBsDD84dGeM8SYZEZGZg1zxB+p0KT5S+POd6WA/0X5U8lkn07E3vXzxpNkZYzX4ZPEXZfh7dNMY7q2CMV3YVrztylE/+a1zgO+ZHLgh0KwM831BvQS4BGDxkwITe4A8gPHkbTtzA+BY8XDPjNDSOATwHbw9eE63cO9TWxoqVB6k7ZQOhpVFZZztgz42Zu1AXO82s6j0TSLo6f7owD422ZTpAW/Jv75czOmzI8F1kjfs55m5t6Nk8Azpjn7t3j89iOprnRTt8VbQ6BXf9u6d99zoNfv4JmQAtO5Y/tDwtIlM7YFHd+OX6aju/OG/xQVR0Oy14r6O/XnA7aF5AR+0sXDsDk03fvek5OzvOZf85eAk7/xiK4vLAyjoPoWLeggh+OrZt7Kf7AyI6vTR1oSsZtzmhgGj3YaY/OVwPptAlLbc4f2ClH9loIjhXOhUf8QmxN4ao6aHjXY83vloxNAxrYTeogdJsNa4kN7BqsKM5Pto2BfvT/iuQhzbAf65r5zfANlA+tlSdUQg3MVTNK1SAQzdgH9einLZwN2D9Kfkano43oM8lAwv5nTd+C34e6FufN4QUlABViJE3mHPl0dXzdDc6v+W21cJKN4IjnkrVQxI3BJKLmoelyjaVVchTCsZ0Ns2LtDT3ThE2kwQaK1zTnjX8QzQ26/d6NaoYRPSc1nI2xmW64mQgXDexZB/gkHA2ODU4UN31IQM506jjTglvwTm6nVwzIfpwOntkgYkOqxE7Lf+ByZWmozuGSAIbdlsnPCmWz3icq5088EaV47sjBD15LTqdEDhdPehyfknspqY9nhTsAXvE4j3TiZlNDZ4QPoDV+gj3ci8+nPFUOyHOPz6+mpId7zFBPvmRzPa89jM+KrWGDEWLGj4Fiw3IObIYPh5FobYgalY+g/EnNNsIkD6G4aMWN8G5Pt1tSYWoxdY+CcO2wNZh5j5+M8qZvyTpPlRxGmQIIOI+9UabXTKP7T4LO60294gXP+5x+RgGijk/f6LCVXnyTT+x393EndBSPyR6cif6YEk/arsqRklAMz8IkPcxPWQeP8hXNgEklSU/57jL0MepNT99bwKImddCPwOWqlghHEY/YMT1czkxPj9xeao85g0nP7lkP7T7vAM/5uRa9qk/0z5OO05IyCaXPsapYZ2lv40+lPzgxII7sj67TVI3YWrJPmQsd6EU8NI+JHde90cpzj7sE8WcE6u5PnMhfn5wWJc+399glCuxZj7+uQl6D6cnPh5fn1eNQvs9gfPqlpBPNz6YxuvI0xRsPoBLRdjtFZI+zWbXi4bmqD6KVMfxfluyPp1WzwpN860+o1eADi6Hpj4O07cG0ZfAPmy9gHifAd4++cixJBoY8D692nN8j/PyPrSGrZvpEug+UWFcWU5l0D6QL1Hy4+WnPgUcmBMPwHI+Nke6u5NlNz7+wbpEqigwPibRK8LixDA+DFthOd8YIz7mjgiuu0AHPnE2Tu+LS9494moimD4rpj2bHexjgZp5Paiy2g644XI9EOQJp//8ZD1C9lSp5i1JPdF5aXshJSA9yEScnYgg5jzIxirqWzSgPNkt7q5zXUk8ImsyrUs35TuX8R4plfhyO2OuyDHzHfI6ttc4gQp/Yjp53DV+SS7EOS0I5mUTiBc5CfMWCeFSXTiN7lidroaTNxnlCzhoyrs2jYh7CqUi1TUQfElnmy3hNMQ6IvWa190zWPfvSbyzyzIjTUWKcHurMSIsj1UcI30wBqcQXs+BQC9jC2fHDf3zLTAWzuf33ZksITt67RhcsCsGXYsq/AbWLBKUED3w1O8tQWYEmZKU+C57o95N7kj0L4TErN7g4+Ew1ruRsbTcwDFXN/N8L/yQMn2my7POSFIzJud4fQ8JBTQ1JOc/6NypNIvTkYfS/UA1SX8tBDHcxzWhkLLGU+dBNjXcnajTtqw2FEbejq6bCDd3Jebrw4lWN6QrSSh7D5Y3II+vmZITxzdHAamhf83pN57vouiwyP83U6o2XU7RMTjtayH7g2bBOMZHwizypWA5ROdiZBR58zlFrKwXB4V4Or2jzjj0gPA68vRg/1a+VzskcqsRyECyO4QLMo4W/v07KK+fEYVVOjxZJkll3LVoPLOau/qjx4g8FZe7+4WOmjx3cIf1mGqePNJDNpB+nZI8E3D1vNVZeDxf+VJUbAVRPHqP270nbhk8mse9CmNN1DsQo2zKmo6BOyM2IV3Vc2A77wFwRPz0kDsmm8gVC96zOwXVkdvP4Mg7DzE13YOl0Dsr6cECw87HO+NEeQPBMbI77fZEGTq4jTuHQ5RzwvBZO9QmoKqtMhg7X3bg7U0kyDpTod5imGxqOnIMVRnU8Aw6sRGXT2Vt0zmjbzq70hKbOa79ZAulR6w5DuHlA9v4CzqBtGEMuDxeOsC/xRc/d6E6R/Ni502Q1TrR6JTbvXP8Oh2xg/5iDxQ7uWEou+Q6Hjt4HdMixlcYO7h95Hfs8gQ73OA3XUpE4zrPWN7k4++yOu/gF+FM5HM6dvhOMIdUJjovljqiKcrKOYd4wImILGE5Wzv5hDiI5zjWP2yO+TphOMzh4W0pEMs3ltncn5kCQDdxeTOKu3cVN1/1u0gO0+c23bsHiV1JrDbY0p4DifJhNtXUbBjcwQ828AfPkS7cRDYMHoUm2kePNv1pMEAwFsk2e+NQRaKA9Tb2GeX3kbITNxA8VLrjSCM3Xwa+vL0tJDelvzEN1JAWN4aEFz9d+Po2QljWHqk50TZkcp8P9oOXNhQP+vSpJ1E2IZedCR7A+jUQM7VVXkqWNajcDmHi2SM1Jki3qQ7bTDUg7fTjGShENneYRq5HGC43QCMFkJICCDhFiR+luHjUOBiKunBcp5I5BYJB9EUqQjrDQtvulOfiOtQww4igBnU7TYGC7+f9+Du8cUORJ79vPDETQKyIjNU8aUmQs4VDLz3K3ArHuzx4PXknghWzFLQ9jjVlWcDH4T3llpuCLtMAPtNkee3mAxE+D7awF1VlEj547c/izVQFPme4FU3rZOw9aC1rLAEI9T3UTaS1tGk3PrG0K8AeNHE+ZefiGvfKmz7HEyllUoe4PgvlrzSF7sc+g476hQ2jyj7x7MbH9XDGPkvMxZoGBuY+0Vdf2I8HFT8VyBK0ZCk3P8DARCSDWks/3k85iVNHUT+0tbeI/V5HPwnno0NTRzE/1TbNGU/gEz+cvrtKWZEUP2vRs7lh5SY/KxxcqCONNT9H6q8C4b85PwvjSHE3ZzE/W0kk9VHfGT/j3SwSijL1Ph2+YabQZ8M+X+cIi1PqhD4+GD/Y9aFuPkbUEO9PAJI+62gVLvoWqT4k4o479rGyPhFJmFt6xq0+Hz5OtGdXmT6xSq4kwA13Pp3Rju61bUY+zo4XcnNxBz6J8EfznvTXPeT5xJupmBM+AqblOKabRz798rgJ12huPt9qkaAT74Q+ngPR6ufdjj4hj0uCLEmJPmeQWcJ6/4Q+C73UamJToj6+l80FkFHBPkOdf9xi19I+M+d/K5xM1j6dHb/wzWDMPqDlCPrvVrM+y4GEro4xjD55j4Z4kghWPkwMp0kMRxY+RW0Io0vnAD6keJQZufIAPmSWPe6uSvM9lPODLUp91z3y4I5gP5auPWTKJrrv5XU9BnOfMK8NQj3XXfLqMbw1Pc3MbVul+Sc9Bu7voOHBDD1trnaIcHDiPGKYRmVzRak8xwD7y9SBYjyUo5L0J/gMPBULlacMO6g7+2RWFNaoNTvvj9ft/bC0OgHyDR/hHyU6W8W1jGcMhzlw8jc9FeDaOCdM/WjLviA4+UAStPtMVjeT56wMWb1/NubJhxh8I5g1FmmELn+eozQi0Yx2lgqhM9cY92R0o48ycEkHxShjbzHlH3Q5hKNAMEvOQa9J2gIvlZKE4CzUti1FJxxK74pdLL775Y56ozkrXahetZh4YCwRItQ1b813LY/HKWpSYYIuZRMPoxxWfi/u/OwwSMFqMNbM5AO0N0kx8lyAEshmGTJX2BUWOVjbMobDK+BxdY8zNXXqNdZWMzT4wWzBOmnJNF+yNw1z11E1RQ9/l3DGyjU+6B7Xo3g1NgnPAk6jZpI2C60qd2Pa4DZfTcMV834gN5cb2OVwQVE3WeIkblhMczfBCfrr4pOINz4rnfxZwtM3Pcr/wRpJdTgiIzHo8YAWOVkISKWUd6o5HAfc+/WqMDrQO4a1G3CmOnnPWEn1IxA7ePdi5PbQaDvG8tENcWO0OzlsvQbH5vE7nbFGHDjMIDwLaVI0TthAPFn/cg6HDVI8D8jFXjStVDxnuh2OA09JPMWXo0+pjTA89nNQqjYkBzzIZjBagEnRO7WzlqM2mos7K7Qx6SLCNzv7shog8Q8OOxWBOmBEAT47oOnKjr2TYTuDguyaogJ2O7B4zZGFdH07k4WJMy0QdTuyZieT0hhgO6ECSpMsSzo7dr3IOTvzBjtDVaTTgWjFOpYGnA2CWXU6ROI2A/cJFzoxEeqfieiyOaZB378Zt3A5eDUIYdzJNjnTY2NVJdBROZV7KRsJwbE52TjCzxcxAzrqR4I73itGOjTKs92OX3s6XaiIzAsPojo7Yh4V8Ha5OoAHxjbvL8M6ptSqXrXmvjo/ROTZxpeqOvVPzNkfdYg6S2AORfwJWDpLzh9KPkAZOtRtQsSlWMw5JLgQiO0AcTkHLd+UBs0FOYSkgew53404zXj1+zLfBThcqMfFKiFxNzPdFKGFYdQ2R8dmxQ4lmTZKwKggdNFrNt59/5qYgzA2ItNLzqn05DUKsoFRNUiSNZIMC5696MY1Pa//enUtETaV3bOmI45LNkvN78Hrnnc2HtromeejlTb5dAcbWjClNpDEEiFfLKY2Q4UweX/MmDYPlTpJXaR9Nqcqprz97lI2LwUwFqPZGTajgU60JNzSNVLqXBh1aX01HVCAlbSCGDXvUQMwjNSlNEKVPCRQWxo1p6DABzhpEjblLdEuEH37NnLTdCtC7tU3sh8PZtuyojjnnXdyzAlhOZUMhTeLlxA6qw8rI3VEsTocCF8reTRDOw1hjlzT08Y7LIARvlD/PDydpx6IyK6jPOGKsdxjjvw88SBQ7WEjRj1Xgytbf1eCPaZBmcuNPbA94A8CsVK8zj1cj85RQRXfPb6uDSoNzeA9uLo5ziV30z0RVRoHXWO6PZ+oCgPHCdE9mFkAmphJFT5uSpScEbNPPixcvI5BqXk+JBxgAdSWlj71c96It+SlPvG6tzvKc6g+3FEviBKtrz76zN7k2VPgPtjgW4ybixA/9deB5AxQMj9qhTIz0K5FPzdF9gRVcks/fG3QlgqUQj/JlP8OqiUrP1oCyPSewgk/h+W717HgAT+815d5lGAVP7nZ8lymZiU/Ofq/NO3uKT+iqoJnLnAhP1gkrHoNgwk/T8mzNaJS5D6hDLFmC82xPqv9VFkGtHE+3lwbEZwVTD42SFzYpFluPvG9Z2AkJYU+MP+1TamEjz7JvkX9Vh6JPkbIvTemcHU+wo11G0u3Uz7ll0op3vMjPrK7dWAX2ec9jI5lTxpHtj2giOmJXCrsPZNmEulm8SA+hALpcAHTRT4baT/xJAxePuZFaE2cJ2Y+ON8EIN1FYj7Nr/l/fT1hPju5fsJsoIE+mzK3aIoxoT57e02ooOGyPlhIyIS9a7Y+c61KTAyRrD7s5VwX5XmTPntiJKhnZWw+3xvlcKAnNj7lY0b/wiT0PcSUWS4Zf889tD/DqtVDzT2hy1N69KLAPcH2rGeNQaQ9sLmhClNeej2kzbKVVKRCPcjkC9blhQc9sgMAGyF89TxnE4go+WHnPNJHgcuaCcw8LPEVvz36oTyntC3edKNoPA+lOFEyCyI8TWJ+73Q+zDvz9LVuxp9nO8xmQNsrIvU6X9jkJwdXdTqbqX57d5jkOVz5v7ioeEY5eS6Rd84zmjhHldYodFPgN8gjBu0HvhU34MFs3uPxPjZovBJOwIhXNePXAO27IGM0uXnEXFmdYDMgFsgxpdhOMpoyfLf1mS4xYQf81Ns4ADDIpVUrcGHCLpQwbH3WQXYtjGtwS4/NHCzvZBhJb4LJKmdb8z4nB+Urtij08Dtj/ixocEm1FncHLr4avP5VXQMvspoDvhgU8S/57j8i3RjQMEwXS1DqNqAxfKaJWnJ0YTLw1Va6vxQUM+A2APuGsLgzwwEJWHo4UDQvVz+WEsfWNHBUsJdjF1E1xXKb4FRpuzXQ+I0Z4H0XNhPqGxQAhGU2WBv6mEMPpTZNblAelAfWNi4+6bDbpfg2ib2rBU/6EDcMmbKeQw19N0evtVgk7ic4o6o1cEETyjjOY/xMIbdeORN8orE8WOM5OTXRH6QKWjqSx8GOkrvCOgqh4cBIzRw7FOCbLLapZzu81++5y8akO4sfe3DbftM7ADERduKM8zutZEP3xPMEPCU7xT9S/wc8N6qR75Nf/TubSiKXQDbjO5+oG2Gs27o791slX0IQhDvLnm9JlQRAOxwTHJVSfes641TEtvnLtzpb7YlY7KnmOg89daPejAo7vafUfI+fIDuXp7xw+z4mO0AKnR7j0B87du90goFQCDsw2c/WuNvjOrY/5ylFVbE6cOINkCErcDqK6ta4/R4gOoc/OeaLR8E5wPAUxsjLVzmiXp5SvVwJObPOAyzJdtA4SFhLW7008zgbQIC9Mj1TOR5VAkQNzKQ5JYmiNaEG6DmI63uztakdOkJgu2a+kUM6y6GC9DeYWzpIW5Ldy8pkOlES+88zvmA6xXsdtzfRTDoV4rIX14AqOjaEXVC9DPo5lCly+fJcuznJcbNtorduOY8awQMIbRI5EcRUotqfpzhCSvmWcC8wOHay46J+s6c3LZhTOcCMEjfiIuQhlQZxNhw5MFkYZhk2P3W/BH666zUShO5C3HWwNTWCyXc142Q1OLrvmUT7ETUTBwtVgntFNaNMsxjNG5A13TLhqdTXyTVRrylpxSf2NRD76I27TBQ2hch6WNjgIza8x9uNzc0kNq2qGqIARRc2wCosuBnR+zV113Lm98TRNZBKcvBVQ5g1pYa6hiO0UTUXY4E+gJz7NKUWWmEcA5c0UYLYqWF/JDTKq/U5EY3kNP2vJyAOttw1OoxNWP5uxTY/At/alxmhN8Qz//7jKG049gxZ6weSKjlyoLYL29/ZOfEZoceB7Xo6H97afQXzDTuBz0HTl8yROwm3GkMqnAY8Hw4aK8Kxbjyi9pw0HUTGPDpfavYDQxE9yRlgX2uaTD11obYahVN5PSAN9kwl95c9cW6nyHI8qD2LBgXVzDKqPXy37iW9Vp49eoCeO0mPhT3B6dBxoyipPcnZcGZmsPA9UZrujEkCKT7twyVhy0BUPnNwXJWnx3E+SQoM+mkkgT7J3qMXNv+DPgnc+HvJFJw+tanRRIvK1T5NuSej4ncGP+zUw72H6Cg/dClMg+2EPT9+zSL1JrJCP/dQiYcGUTk/ZT0cKQ1mIj+inHwdK4P/PpFjitaBw+w+oev3ycWEAT8ZQuivvVkSP+bd9dqpeBY/YMOk3GomDj+gL5u5T9r1PonntnizHdE+1I3lyXcmnT4PkMP4zX1bPnEqcGHM2Cc+UcZyMmneRT7EKYUS2oZePi6iOjav9mY+1ZdafJ7vYj4feksUozBSPh9TWnBmoDc+H7ROiOxmGD6zwIoH/+7yPWuQYPCMU8M9HN0ASUZ6wj0KQGvzE8T0PUkC+hDHvRo+GQ0NJploMj7oQmnv/yY7PpWl94GJoDY+xVbzAAz3OD6MJfHtNF5dPlARrFLQSX0+WWQSzHcukD7MOb43qEGTPueL1ju6jYg+TrNFw6W+cD7s4Vbrb2pIPoiwnlg0CRM+ZEW9nO150D36lZUn1TebPYyAL+1wmpU9JNQBSLh+iD158C7psNJtPVn3tfNnaEM9nxGhGadGCz3hpaKuu0zMPOVRKZfTULI8R0eTWQt5ozzWcvAb3lWHPEVxZMjC7F08jLskSJWBJDx87cuF8gjeOxdvhD/HgYc7fcS1q2mpIzvDWAm93JexOrLWI7e2EDU6MAnfvC0koTlaMPyE1bMCOfWUAzfJzlU4VmY4rPcsmzfuWLrBgRjSNgDPau0+wfk11mXmmUqWEzWbckMm7dYfNP5DZpD4pxszpxATKTysCTJYEJUiEHjpMPAe7cayALsvI74giYCYfi5LVRIVNYYyLXxTql/h+NcrCc+NMQCyciolDKNAt+pmKyaNP1YEj4As/PzB2bKSiS3+sCvTpRqFLh6uuEzWnHIvi6keSwmLUTCKr/mKyashMSunSZjXBeMxNxinW4nilTK/Z+ADS+g6M+ZO44F9rdEzlGawB9/SWDQvc73cbKDSNLiTKMGw3z016HdpTxiamTUkszUXx3LnNSuvyCyO8yY29kq4yTUCWDbkpJS7/uJ6NgX+9Ci5Mpc2mfUcC6lbKDeFbl5nUX7XN0yiRmKG0nk4+jOjF0puDjlOlBQfeCqTOU3M10UJzQk6hfyxCkKPcjphX1lZJonMOjBb7Oq7cRc7E9Afd6WVVDuBGQ71vFCDO4ABpMuiXqM78gV6UDTCtDtVs+94jca3O3PTwnQXGq07F3H12s0IkztNW2YiI5xqO7hu8yjM4DM7fM2WC0G97zqzzjrSTi6bOkUvMlU9aWA6iYn4K1Q5jTryMNC3Ix6xOvjg2lJVb8U6Ud2cV2WvzDqTFRCSNoPEOpohY7gwWq86+YWB0TSbiTo4n/tuo1lWOsBGhE4w2RQ68fElmwrJxDmM74qOLjVmOU1ptzUIyvs4varyg1hvoTg5fIWE6HtkOPHtlhcztZE44jTFuBvM8TjRQUQeFD1DOddu9Oi2OYY5i8isNadwuzmZb1X5UhriOWjl3kbXhvk5kT5hzuo7AzrYsFfAAfr+OXV3mG5iqOo5nrKVCWaEyDlmudeL/xiYOUqG7VMDUFk5QKv6rFlqDDlFiCkDjAuxODPHsPuj2kU4CCNDj+DxzTfNe6RMy+xFN702L/8mKLE2hbxCO09XDTYfDthrI9mWNZhXoi+amGc1iXvHIgMDLDUntB+T1cXhNCt2Bsk5N440x78qiFAzwTQi+9GV7MsJNXPhbgnisUQ1fFk3wle+cTVyZZRiT0KQNfKg+cOX2J81v5tk6ISqoDUBXIwtoqSSNWhvtSfUSXY1h6dlBnh6TDX/axS0znETNXB5CLbYYMw0fSzTzskhdjTnY9lveXISNPYT0T3SbqAzTlOJPL9bqzRlpWGsWByjNSm3J12CiIw2O4zzW6HDZjdA7Zh+yGgzOAoOP/6Rr/E4NYfCIvk4oTnKIdxldexBOkt3lVlT79M6ulcsGOyxVzs/Jc7pcBnOO/lNHLZIbjQ8Rc47VzmkjTwgjXf6xfrWPORJa5HzCRM9wTSKC5DbQD3Vdz4JWudfPaTYrBDJIXA92rwvkPFvcT0rUJdJNDFkPWsXzF1vn089yAofBt1sgD1m5lkR/nPGPe2swd4U3wA+OHfFW4tQKz75Wnz5t+pHPh5C//+gBFc+V8Pe2iuQXz4I9hb8j9CLPh44SMCUO8k+dIw3ig0l+j7lOv5+0v8cP4wKUpJ0MDE/zKAOrl7HNT9D9XZQOH4tPxWJx18kYhU/9qgrmHNm8T4RFL9C/KPVPmmGpgh8DOk+ABgGFAoS+z6AeGh2ObMAP1UyTdDNYvY+GToUi2Qk4D7ukeOcLQq5Pqoc6Omv9oQ+qKxXkNkjQz7iZHTO2+oDPgYiJTNaAhw+IYb+G9OkNT4V0k99PzRGPsQRQ+gV7FE+W47aAl0hVj6TWkyVAGlRPt1yEsR5Cj8+0LZnngkSHj7v9luY2E3vPZLjanqA57U9l+AZVc4Jxj0GkHRPAvnrPRsn0QxZQQM+W4u0hXtpDD5YYYmILQkIPtBP4Zmj2g8+HdFdvigZNT4kLVYjiF1VPrF4ReNQtGc+A0TO2J8/bD7F4fRNwQRiPtPA762UlEg+S+KR+ezrIT7lc5+l7+/rPcwXv1loqKc98ADsvEkGZz2GS/NgG1RbPT+A/KkLyk493mpJVu2+Mj3s4ZWDxngIPRTDOCLKDNE8qNgdiK5mjzzqc/dUbxxrPGubns4xuFs8QdZai9iVQDzSjA/Cd0MVPMWmMd97I9078QWcN+FWlTuqZXwFibNAO3ygX35Q8Ns68O9Wol/5aDp5ixfjmdvnOSV+Ujp1W1g5UH3E6VqTujg+hgus9PwOOLZ2la/PTlM34IMr6aO2iTYGX4+bZEyyNTjwp8Ik1cs0e92pdxmf1jN/SNIGNKbTMqYg+xR3PcIx9R9T2GUYojBHf3HZWy9zL+A7HUDdvDUuqrYnZYVS6iybS0ggJwiRK7f1TDswzScqp2k3BwtS5SoJd0c5dc/+K55bdZmoygctlVn9QE2iAy6t7bu061DxLvZ/u1gxUtAvd8yUjalwoDCe5l92nLJhMUSriTNEXBQysJ4oKnUIuTLL1QEmP3JQM+ECdpsxGNcz+5crSEJUUTR9bFiw9Mq7NBp/WCmK0Rc1Ujc+f6DQZTUnK5VrRFqlNQITcWEiVtY1uNs/1kgR+TUp0ihJ+2olNrIlMIsalNM2ON03uJXRgze/4iB7QNYlOOY9ow2+vLk4fT/x9rw1QDmI7+utVdK1OUfV7OnuZB86kkanGHgieDrl74ucFNTDOigf0UfnaAE7lgl3KxtWMDsd+GxH3GFQO5WR89aWjmE7lto8Q9EbZDt7U/FxDp1YO6uXsz5EGUA75qLIkH6BFjsng4/p9M/gOvtQZIkM2Jo69Zv/m3L1RjozkiQ5wAIEOmdfiwh1FjA6c4guV5rXUjrkopLELJhnOjL9bLk7k286+FmKFUSUZjoNh7nAaEFROmi49nqiLyw6YcWD7xWa+Dmmk1VS5fK2OUJ877Dd4GY5ppBhuzdoCDnUMJe7fRadON9I1B0ljDY4NBh/0WMO9jfjNwoT9ucrOGp2odzIG4w40VxZPohi3jj6HKOkFo0hOVuD5l1Fq1U5vqxVm1KXfDn7VMMZeSiUOSx8+q2yYJ45syS2Vzd2mDkpFk4gHw2FOfKDWX1iXGM5oxXdeJIHMzkIhGQbLf3zOMwU4Qx0cKY4mxR7KqrrSjgJ3UqHAkLhN48LsemipWc33f4hfFdQ4TbEPup7jBhLNsWu/qjYxqY15n1+FT5/FDVV7tDpjSXhNLGBPXzDWKQ0uRj2jqPRWTStIjUhh68FNLPoaVuqhDc0zwBTrfOigTRRcpDmy0y8NBMTmNU1ROg0c/NEFwU9BjUTmNOr6McVNedw3paqzBY1wWgOQqeBCTUHrrOUIH/uNAZ5J0AifMM0+nkOdD+cijQjtqgEgmtDNOwFdPMpS+4zIpojwY5AiTOXlLnHMH8WM9OVAPc4F280ZK8++8a3ZTV8zXwEgjZQNqoe9+en3ik32vkOUKQO9jdf+Ca2PBm0OIIDp+t1kmM5UcGrmm5eBDoX8m37iaeWOqlnsNh07Ro7vYwsclIakTs1DM9K0Tf3O3VGgcq311A8g0juXFIdmjwtTVlw36LVPIqWknpOKAM9AKrdi8ggIj0qedO5KlUyPcJtLxG+0DM9vB5whqr1Jj1Nc1L2GnMVPdKciqO9o1I98OXlxNTamT3DoU1OQ3PTPRZCEUBDd/89OZ8kD5Z9Gz7NlQsufq8qPpIVV2dABDw+KtW/azhQej6GwbqvARC5PjPrLdwbAeo+gVxBIj/ZDD/RhGHPFBohP2zYf059qyU//TsH/Y9YHT8jdrYGHkEFP54poqac3uA+yGiRd4iIvj5F4YCuFBfPPiyg7RKfIeE+8pBlzr0/5T6PmR5Z7HncPi2i2ebPecQ+bpCE1geWnz4Q9Y2tWS9qPrMQQ7IUdyc+w9P9bieH4z36MyR0UZQEPkBUHLHMHzQ+5FbOCjihWT4N5ZX3xaZyPvntuOiZk30+x7n73JsxeT4Poif4pfdmPo3DEtiGYkY+5tYChrJRFz5vX0oJURbaPVcS1lfZaqE9Ck+WQ3QNuT3fzlVxmDHRPccXwQKQYtk9/hwpl4Lw1T3khGeoS9zhPRbdmJtjDwo+8BvLQ9mqKj5Yor/oYKo9PhZTSV0/sUE+UiUik+aTNj7bAuBcqc0ePqkQL3OpdfY9teuf7OuAwT0vdrorR119PZNbUI12xTM9Vk/TIfTCHT2kXqr0SIUQPd+Q+2eoG/Q8WRVxz1MqyjzOWd0a8j+SPHJy+DMcl048h2OsO2CsITyo5FloktQQPB0zdJ7PHPQ7TYnJmkHKyTtYQoWbP6yRO+ZZdy3/4kk74N04W05C9DpHW0t48vGQOoKCwHqmTB46zDhOFqPwnDkpzboIHKVxOe7PZMxMHnA4Ktxo4GnLwjeZu4+EuWsHN37ln1/eMD829fhIJEIyZjXOXUjAd+GANN57Ueq2cIszxrpqmLvVhzK679OOJiB2MRh4kO4v81UwrbZtfJJFJy9QpIJvSV7qLepRY3307Z8sOd1l5/KoRCuSd/pj6ZjcKZoEs/G77mAqO/kz7id4eCtL4nj/JuWCLMQ6EYSyL38tun57LC6Bay6r+AUVk+xJL8THJM74HBowjyWvrlkc3DCHs5dQiiuQMXo6NruL4TMyGHDoC30fyjJEoBLBaldSM1UmiJF7hsszZwNzGKQSNjSppTUEnuqSNMfa7htEU+E0JZvDMkT1IDX4qRJDaL1RNeD2yjfBCHQ1yIImTwJ2wTUCbAg7mtx7Nk2tlA7jmCw3eoyMr/6HzzchulkMC5ViOED9uCgyaOc4UAgxEKKCXzmuzMkmpKrGOca8KvfVbCE6B3ctRtShbDok2DHFvSOpOulOZofvltc6W08Jquin9zq3sl/JKFoJO1aezbdqCQ07PeUU8FfFATvh7oOHFT/nOk132gTIP8A6due1r95GiDoPEvkGsGFDOu+DXF9nk/A5pChpZXSrpTmp+82SSzzOOWiyP8WNtPE5+OxgaLkrBjpBnHtUgqsNOofL+GV/NwU6MH6CY9828DnOLA9rQnzKOV6057wSHpc57biPE2qQVTnvBZ7zW38FOd6ME0no6qY4qfuv4BOrOjjMHVcBjFrMN9/6N0LVt4Q300WyzvjIwjcH7HlY1PIiOMSzqL+se3Q4xy95HsaptzgAKEldETftOITTTaIcRhM5/IFZApItKzmXFdk0cHo0OcI+hGd+fTA5dMSlFdhhHDkIKyTlaBr6OABxMtMPqMk4X99lGDLzijjiRDHi6kA+OO1TcIfRJeI34UfwvIxEdzcOQ5ZtxeH/Nm+n0PjeV3c25kVMOgZE4jU6I1hyAJY+NbymnEQ1OZc0v84wmbJNVTQ570t5kTsZNPVUeaBkAtAzltz9JaKWejNOKak743SrMw3i3u0xl/Qz316+sIyFMDSd8Q+sIlZcNL8xkPt++Hk0JaZlildwiTQo1RjEhqGKNHbmPJisy300bLQ0ZWbQYTQrE2tJ/sM2NGcYtfTyF/8zS3omfZqxtjNlZ/leqbNhM2zvv9Grg/0y26ttIdRLijKpQ5oWXykuNG+PNWmhESU1YRCiXPN0DzbeAhcSvxjpNuZrVzXmZbU3yBPOd3p/czi5ipC/uvwiOVAb/ACbwsM5kU/4LTr6VTprbCFTdB/aOiihW0d7l1A7SLnCuTGGtjsA8xkp3lYQPL/Vex6KVVk8/0T5yVn9lDwBFsRgv5XCPJEi+iwZluE8gPaUnefI8TyaUUZUCjnzPDTPGAeYT+Y8U1Qafoq/2zz7fKrU9jciPW6RjikLc2k9JPPdSO4moz0OKqTOA/XOPc/tB4dyAus9LVrkPPRV+z0V2vSSI8wePmOD4kezB2Y+ZvIjTfVHpT49AsrT5xbWPhViSx3Lgfg+1bl7FK8ODT8jNqGS72gSP6somFlj7gg/shxjSGMM8j5SAyWY+0zMPjobDlpqEKQ+dLB6+r6wsD6Kdej5VpLCPjyBfLF2Hsc+J3fenbX7vj5iLHVriT6mPgv5l0+NGoE+TXRmAiozTD4nBHzX/RcJPk2cXcKxo+E9/QzynohnIT568iyw25RWPqB4xzkkgn8+iiVdo/CHlz4l7YIrB8qiPt6JFjUmCaA+N1VuMOpAjT5tAa2RcIRsPqsBxD7dtT0+gHjf1L+KAD6B4spvFSW0PRs7M1GzKoY9ZpxbEn86mj3jlmoyB16jPZsyx9HIPqE97nAJFz+JsT00DuGpDJzbPRxua/hUdPw9Qesn4V21Dz5rIlE6BewSPhQdqmnhJgg+4mZj+Ql68D1031YgJAfIPfHE0MqTuZI9r3sNZexITz1+FmzKAv4APT1CsvXTM9w8Ckv2CBJHzjy9ybaXymqyPNvF2BYG94c8QCZsQ9GpUDyVYAVrzMMIPFN0e3i6IAI8oSEzIDa6xDt/Z1vvBNSkOzXvWL6qtHo7pvlVb2ReQjuo+L4H8836OgAZfe6o+qQ63mf4yPSLQToqi/vOY3HPOaZxAf6p9005fnO0U0OYvjhHR8vb/Zs+OdJFQmM7dnM3s5qc4ZZAuDYw4wE9LSbwNfWYu4D++xY1GUVGSuR6MTSOFFR2HGo8M6/oZ29crjgynD7UVz7pJjEdM+YOr7oGMLPb0hcVGdgucGV6yvBNmy1Tfk6SE4hQLJK/Zpe4ZPUqeo+/E9+WjSmA0IT3nvXWKYa6GH/llvAq8C0bIt6e+SvAeF+0sCT1LBBNdqyxpeItAaK3YGKTwS7hn0M2MrSRL7gLpO/kDlMwaGUcW/PsBTGKcurYGPWqMfsDovzmtUEyxn3PB6/eyDKZdJXxSalCMydoPfPn7a0zvH7IHEemCTTLEgON731XNMFV9OZ6/pY0nPn5GDEOyDTdWAgWpeTrNOzomgoHgGI1IIfTVgoaITYBXj0ON5/RNk5wPLcGb3M3aiEx3uPnBjgjTbGob9qMONrh+svFawM538RS3Mbwaznzajjyw3rFOZzIsgSnpRE6JsKeIC/9TjpJzt8hDRR9On6TyEb5KJ066Rm2jkNArzrE/fFXf+WxOmPCz97d56U6QqUuIcKnjDr8T83RqQdkOi8kYdLr7C064GUIMgnk5zlu/mhwyX2UOSIEKIqTHkc5oZ5OBlVxaDltD+b5kmeMOe5O563HyKE5iGG3OrzMpznRR5qt3wShOdwXA+A9A4o5pY8vUMg+ZTmzMwgZLosyOT11zWsyTPE4cBa0LHk+oThnYzckgmBCOHl9PdENJNU31+ZeOBVyYTcMkAz16y4RN1cJ/U6YmVU3DVZit//OtTe3dVYtJJMHOAdAvE8ePEs4NaCbJ/jPgDjmAnSP2i6mOBiD3066R784zBR727eRxzhUvlvKrPrCOCa4EAlEVbA4tYpA/wgLjjhWlc2GbYddOND6k8yKBB84FKhIIPVo0TcdNPTOC+N0N+956aGdxwo3OSrO/9dYkjYRh91J2t0KNsiaz6DLBXU1/de+abyV0TQA6zdE1z4iNA6/mE/Qu8YzosvbfX62ijPAtKJTvPJAM0yd+GRf2Osy3i81TY1eGzNt4XEQlYZkM/sUxnueeKAz1pVmFKNAzDMSvTmnaOXpM2zvDV0+XvkzFHVjMzOP+jPKzkto27ftMy5bI2f1xNEzwutD8+K1pjNL+j3FYAVvM6EfaGmNpCYzPFTXrt6p0TLfVHmK/HNtMlK3+2prPvoxT5zcG2766DMqeaP1t3LhNFqYksIGDco1Fv3xT6LIpDYrFddngbhxN5t+i3OtJTA41mD75cty3zi1GqjFRF2AOb5A/cZXMxI6rrqB4zGilTq/PInjE3sLO0Nc/I9Bp3I7W6+f7w4Qyzv6MY3N+voUPBL1FYjsYVE8fR39XjrIfjzASdfhyyCdPHCa+8nudK08COEfRaPWrzytJTXKEYyiPOMlHd5iWqE88wTiIE+J7jwm/uWTS2Y1PXikjemeGnA9EG9KW1sCmj1v9o/Ypre2PcBaF3Tqe8o9XSKPLWLdAj4ff9u70tJPPkFhNRNt3Y4+RG8ArT8FwD6KHujWMMbhPsnH8OMfE/U+YbK89nW0+j6ulfSqDRXyPnO86WfDLNo+8nPmoxVltD5HhfToZTqIPg0w0xvA8Y4+Hq/lr5E5oT6gmFGRg36lPg6Ny8Q9z5w+gI+KIKeqhD5nRTEg87lfPq2FJPTrEio+vFaJJXSk6D2m+Qx3QO3+PZl6GrCRtkI+z4NpOKB7eD661H/GcR6hPvJ8YmkBlrk+9vaW6EpvxD4s/RwmRHHBPpE7HDDS0q8+vbXGds4Gjz5np2SFKipgPuxTJA9yACI+BzgjVYVv1T1uX4L9eFp+PffbsO+0omE9+AIHE8U9aT1Q980p02hnPeVlN1vvBH490wO/oAgNqT2bUjtFK/HJPfiKrcIH8dw97GcM2QRH4T3XD+h8Rw7WPQShY/1KGL49KOs5pafxlT1gehgYwBlhPbRRJ5VUhRw9mj7vuObIyzwbnzZvRMaXPJKU4HlSs4c8lbVhys7MbDy9gqeox7xCPBqd68mcDgo8qAzrvOJcwztkbf4d+8BuOyT7rojKrYQ7SUdzlvVpUjsaIroOZJsnO2RtjtdCLfA6AYIw+pyxpzr+YfBGRYtSOgfQ49F1Be85RlNphOrMezmho/Wren36OKBKJ2dxC2s48LMxkVk11zjdXPDVHTQhN0854UsscGU2dKWodO6MnDVLnMYKPlHENCY/ZaFK594ztfMoeg4e6TIYSQkTNdHlMe7c9N6qQNQw/UQ5pYIXtC9dN+IQQE2FLpOIAh3cIkgtAsmC4gI6/Ss1Xt40OumiKrn6OL58JzopbhgjkV+TSilLAm1QzTNjKlxIuFPrp20rrJ3YrzZ5aCzYFmOVkpVVLXZceMwOWDQu3AMgpQl+BC/8D3ikVw/GL+RjvhEEYXkwQLGtIA00HzFBIsQ2A4C0MWcuPCR3yTwyIFTezLuZtTI3o9h3WFIhMyDW0hZ/sH0zhFS2dSgxyzMGpxDHoZ0KNGhdS1oq2Ts0J0cvudSZYjQ8SqTjdM8CNdhZwDec+cE1jHX0/syKcjZw7GTUHnMUN1kkupR4Gqg3bUPtBp9cLjge3JI8tm+kOAPAUNe+Zg054u0H5UGaZjkb7zFP2ZGyOeq3CDf6TfA50SVhqT+ZHjrXmFTXQ68+Oq9811dFcVA6rAg9KgjVUjpf4UgUEA1HOrxFB9JLJy46boUOncATBTqNbdcIdX3POaDyQ3TMI4k5X9aKlkaWNTlqjxfMVVnhOMqaLoFXngA5fdzKp0pzIzlUx+mwNls4Oe2fUBQRTEA5LWsGe9VONzk6GxAV/c8hOexscxaIGP04Mu8K8F1lyTjj0MYEg7CHOIuq13mwnTc4hlvPceAp2TcCMhl+c8psN8JbAd5GefQ2eFKJ96SXmTYc0ye+fTXlNi7LOWRUbUU3wJmNT5AplzcdPvVFJsLaN0Zt2TGthBA4ZT47TILLNThucrhhpLtOOHorWF0qKFc401bzoK2lUjgaCdGXHgxAOF5aBVp9hB04oqHzRS8D7TdbAfjBoXmuN4TXjAX9GmE3OoydhIGFBDfYSGhXr0+aNuduPZWtBiI2LJZZXYhlmjVQvA2ipKcENTjrqUcHRmE0nO2ZqVMCsDO34DCXNEE1M8l8cWt1JPgyswSZav6hrjKKFADhY+hYMukWfNhtS4cyP2GmQmF40TL1RMEyhgoMM1qBUvgdDTgz8GCA6BoMVjN3n5cVh5llM+QYhzOznWYzebRQq91OWTOb8hN5e0Q+M7YRxcz6VxMz6CbayqZs2jLKgrjlDkqTMqYLVn/4GD4y5V1LPFsY2THOAm450lxmMb/gGfyQqKEz6+cE5IarmDQSskh3sWqCNYiTkWXiYl02DhSb+jIOKTdllx4/o9TmN51EP2+KO5Y4TAOIBD0jNzlv+1s94bvJOX4oOsp+lk46LjFmfHltwzrbnB86xV8qOx9vfxvRIYM7N2a0hxGqzTtNeSflx5MIPH4S/Of0wjU8xPc3ApyXVDwerHJDFdNkPMRpFVc3gmY84DHNviNvWjyTc1O7d7RkPH91wVvE5LU819s0nc27/jwBRe0Msx83PR7HKSV1qWI9pd4xiPtxgD2sLQ4fHfSbPZ3y1qksIuY9ZzZngECuMz64EyFiBxxzPpDbpD+Z1qM+wbLNc5ACxj5Z6y/E4xjaPoG9n6DgiOA+JwQkkUJk1j6aUBKCcDTAPsu/Nc3JK5k+R/EdOuJwaj6jQTU3ccJoPs2yd7INUXs+8cBAXc4RgT5ivK4H5uF2Plw1QBtWaGA+0962nv0pOT5B04YVeKoEPo0M2vEwctU9s5SfJR9jHD57zupQtl5hPqdwx+VZu5Y+vhgSsTrLvz7rPXqFQ8PXPgGINv86++I+Q/0JbmM04D46SvciMJLNPp8xHlFY1qw+BlkJ2nYOfj6cPe/V1r1APlDjyScn7/M9UT5kMmlsmT04jxOGGbs6PZo6h9OtSSw9Fi5uORiHKz21V95Ww01GPZU9+a3ucXM9saEDr9UzlD2QTZ7rEI6mPWfW/2eu76o94Q1PucgxoT35vTt5YHaHPWjDRq2mG2E9mQez9PCpKj0DErbi9TfmPCIGPHCKk5Q8h3uop2SOUjwA0qtlGLk/PHAAmpUlOSM8ztCDMTMD+TsUw0x0SGTBOwcoNMjr2Hk78+7W+8yGJDvQ08U/yGvBOk1ViQ/oN4E7GNo+qS9aLjtPd6uLnzTCOpSHOhQh4VE63nMrhqZfATqqpckWpmiXOUYOFILxBCU5KFzQ4FL9oziHtzo1c2gUOBG0MexERHY3TUU61Lf2yTZophslZC0QNiXjsztXi0U1JNOvtL6pbjQSjOMl4lGHMz/8PKMj9JIyP6FOEZ12kDHHri3jupB+MC80HI6dUl4v53k/0gkTMC5c5L7elTbyLP9eZYDyDaYrxGuIg2iKTCpwhbNLaLzjKMPDGQ2AQroo+/IkT1350imbYb87q03dKi/1bBa8LtgrK8M35eJTxSz80gVjJRqkLb3zpKasP3Qu97ryYDXMNS83ecYJyBPpL/uKhoEX1Y4wjbu2NaBBJDHp/rcH3HGsMVIB+3L/VyUywieNp6EdkTKJDKHkJFbtMi8mnvFn3jozkaw6oqRMejN0pC3mMYirM+bLZZM4aOEznFBw0bHCoDS6MGNyOyRgNSh6NSzupxA2zmpc6qVesjaDQvbz3aZFN4U987QPRss3xSbDDZdbQjirIGmhMWmqOMX3EXi7TQQ5f1AetlSuUDkBImKX4EqNORCScLqFfLs5J5iwpUyQ2znDzR3oSIrtOY3VyUGu6vA5V6BuWty05DmqC654KRbLOVVR9jb17qI5k/CRA4VJbDmpQgD9NJUmOY0ZmWufRtM4SwnjKyprejjOFXVGwHCTOAiXZW3WxLY4xwH9C4J5zDgDHEjQkg3TOFEOyxvXP8s4lUaiCxjTtDgVNF1fDAKROO0ZYJ3DsF04PQHPBQmyGzgKnnvCA5zLN5B0hAGnam0318qIEfzIADcFL7JElg2GNlzNi3FfdSE2cd9N8v3HcTZBsqTRrPjRNg0+3fJDbSM30oyQ7GFxZjfon5rXYbWbNzrMII6qR8I3F8MbFMfG2Tdxih67F2zjNxBuvQWYR98379sJdCfryjetLgSFzsGoN9NY4wVbVXg3XLB5zWmPOTfUR7W5hbHsNtl4+WA9NpE2TVST3GARJjYZbt0g4TyuNRsbodmzIyY12seH095SkTQogg6mWPnsMwmO1V1UHTozsTl3fzHHojL5VYAwP6FiMjTBdSPWoRcyysDJu6EHwzFgBP9Qtu3wMY3SbHFhZDkyQ217kklhdDLzO8E/V3uhMqwKXxHSBsAyS9cx/8VnzzLlpppsZXHQMteUsHzcZsIy3k9+TX8CpjKyb9f1gyJ8MkgL4iXpN0My5KCrX3cP/DHVx/RduuSlMTjnZDKRQUIxTGrqxwFF0DDsfuo/SlBVMyW66kvLxk00rD6hiJk6NjV/ycBlCLwRNtzdHQnkPd42OCI+L2+OmzcLG1PApdVKOCIxVANO7es4O+uIp4UPfzkyUbfCrHUCOsnZ+mbycnc63L5IOFbV3zpYU8DpoBc3O5RWoP395oE7Lo35/SGqvTunWBNxGkTqO67QxfHK2gg8ErvHa5IiGTyPWypyUysbPPRapabVNhA8848hX8bZJjxWoTHOLdR6PAFbeDsD2MI8GWP9hGBZ/DzXl1hjq+AmPdzFGJd93UQ9UoMPOm8Xcj0sMrQr0wbHPUAaswo4zBQ+qBlz31ozVD6zo1gnofiEPnwmuv9bRKc+lrnjDnSWuz5Ze6JMonrBPtyWZYWlq7c+NxjiSykhoT7AxwRQd496PnoaI2s8rUk+doXFIGAfQT6GGr5fl4JSPhVXOeENJ1c+TPzkWH4KTz7JVdFLn0A2PvEeo+IsDhE+T7Ug9PmG3D1YfJeN2GTkPXp6RwIgfjY+7JPwrLmLez5ywuwIBQeyPoQ1hf8JONk+EJx9ZVfa8j627LkdfyD+Plpg+KZVuvk+YjHvfcV75z6WrILtKunGPiHbuuJM5Jc++dYfOL6hWj7Yn1oAp7sPPnoAwU3+NbQ98K0/DxvNSz2VMfZgeF3yPN2ou4nvK+w8euqx6s+oDD0bZPnFkc45PdhMd2wN31o9TL2Gd8UDbj0GMtPT6exxPe9+4Cvm4mY9JqYCO9E6Tz0PqXvGmMUmPQwxGLXfvvE8yyAzLZaQrTy+zTOkI8VaPNbKrsotTQw8fEsBokMw8jum84vvWejVO0Fdmb+6gKw7wO5gNpHRcztuZsvMQ3QtO7VamQcSZNc6qEIy4RzaczpuNLSLjQECOtyurWstdIE5cec+Mi10PzrVqZOC6wj3OQ/Glwc+B6I5NAaw5Ty9WDlwEovfWvXKOFHIETqUyFg4wPekaeRKujcGk1h2pZs/OLvupDB+hSQ47uuDB4rXtDXCp/7kqMHrNJzDSqSWwBM0A7vabkQLLjPz2d1COms4MjYrPPPfNTUxeiWsenmwIzASEPBHdogDL/TTeXCWtdQtiLsoWQR3lyyboyQL7WlMKxYVSQOWYvIpvAObPj1tiSggTH6PhiYmKMXmhIM7AUApB0A5X7q3SCr39MpY8WVEK2Grixx3/TEs09hJitL0EC3sRohbehThLYYDf0v1YqIuFDIeUiUnVS/RXnid5QH6L0Zheb0fFpEwUeynFVH+FzGc71Hz7gCSMS00k/jk3/wxmYccgOC+WDIti/sDAKqmMl/zlDARL+YygcGdzCNKFzPhzlCIJAJwM/JfgUj4pjk0It4ght7A+DTqeCdJZoupNbjPEtBFLEw2Gizhc3Ga4DbLI/7zD+pkN1WNAJeVJ9w3nmkcurFARDjthQz8kCOfOMd/sug+lek4NcPMdl92Jjk12G0h0xNVOSQ94Ij9InU5Wr3X6P6mhjnXBp9LzfGJOfwY2ga7wX85zA29GFTFZDmR6sAWmwk9OWRO97gjsQU5WrfEizVRwTh8Vq3N445tOB1TowqsMRQ4b8eicHJrIzhuGiMdvrFGOCuA4lkla1w4PwaTEeMDYziVprbC+jFbOBeHwTSAyEQ4YMpjimX5IDjtXxo7qaHtN+khnGLyo6s3c3FbfvaNWzdZvh3laVv9Nss7UoMTu5A2IcUQ5bwfFTY5q+A0ezimNccQC6GQdPk1bOrQowG8WTY28QQmi9GrNpursh6YEfA2d6dLFb3WIzcUHAakHi1KN4HDrD6cdGI3yaZJP93PazfVPUdcTGVmN8Pr/GHyRVM3Rp+7ecK5MTdGxCZLHGwBN9ub1Wz4TMI24BJ2P0SLdDYo49EclaUYNqrlMr22ma81Z0lE21WmNTUs8O4Q9LOvNJagmoWUzhg0EQCZ66C+dDNdBVsPYZPCMiniEjI4LxMy8aK8M7qQyDEgx7n1eCB/MTVng37R1SgxEXivVwwCVTHLrdOr5oKfMXyD6UAsS9kxGj/DQ9WyBTJbk8ry5uQjMvlRq9difjMysIanRRhqNDJsX+afLNkmMoXb94GUVAsyeHGxPTJ44TFb3QnnQd6nMfpO860YbWExxKs3FeMxCzEKDHoXtq2mMOb5YbVcNjQwzzggzO71BTPs4kY5Na7+M+S6zw9b5+Y0M8v7FdxFwjXCCz6L6yiPNuJgFwCYZEw3qhJrdjKm+zdRh6shWMacOC0k4Cx1ADA56JknMyMFszkjBo5kLykoOsp1ayJeZpA62hztNBjL5zr2SaCLH3IyO+nfxCutkG47ihs2BDwQmzvofxZp9Ju5OwHutFDp5ck73yIiHV//yzukWnjHnUHBO+6WAu9knuY75zdpM58UPDyCAcrbebqDPO7WU31grL088pK4j3z85zxhOCvJ4YAIPbh4YLbmsEo9vAoYXQmvpD2/OqsxM8TyPch7QQGxOjI+aJdLcbrsYj7KdUHFG/+EPgHsbaRE5Zg+8BzwZfaLnz5zTJmwUVyVPqPVWFNK6n4+k7jnua7xVz69Qzk+jOglPmXGl9RhiBQ+Du8L2XxuJT6AYKfUWdAqPmbJ5P0K+iE+dDnkBF7FCT5efcaOi8DjPce3lCnkXrY9oGY4wqKi+j0MInwWC3dOPsfpYFrzqJI+4/Zf/HpuyD7MpKzaUxjxPro91nj+kQk/4y7hz9xwFD/uyz+cZncRPwJUF21U6P8+CZwy1aQn3z7ComrmkUKwPoASpcczJXI+VqE6BVemJT5ouhi4qp7LPZtmMRbf12I9Rek6S+rX7Dwbmbx+snGqPHu+aeFvvs88xvjRrCZE/TwxCTjozYQePermbW2+DDE9Gq1+b/tdND1vKYdSMwEqPeeXSuMhvhE9eEGOewXg6TwW2b8S8ym0PD9L9uJmy3A8lCqjLQ8eHjyuVzivh+XFO0c1Veqj86E7BredPs9QhTsZJKxpILpbO29yTOl1RyM7l23kKwOn3Do+RnTtEcGGOhwlgPrFTyM6hoNWshOEsTmF9YvAjPowOYzOs17dubs6JOm3RqRoIzpIxrtSmkPKOVWzfUaTleA4z1E86SSmbTiZkTwPhDYIOOprDx4uusE3YT/ar96MvzZWEtez9WQSNjao82AN7FY1RUuA7taGjjSvhXLIQrm1M99jumNyhdAycQQ8gSHb2jGVdJyUzVPXMNKDrOiJp8UvcdWaY4h7pS7o2UJTtsZ2Lc4KEP+LzjksQSTeSuY/7ypb4PCRUziUKYVeD6Pk9iso3iT3zuvmjyeEhEJxkgynKLPDwf1kzLEpnW69zU5grSqAUlkUf+iZK44qEOxfa3gszpp2hfaYSC0lRx71qHoKLkwosOSLdr4u4/pzeSO6Yi/ymZxeVZv4LxiLosHiRoEw69M3sH3t+TC9ZFarqspkMdJJ986K0cExNlGTs9VREDLHdcNvuPJPMjpjTA6JFIEyexnmSdbvAjNyb7VVd8jQM8wgkAIUNJA0gpObDMK4QDX1Tv3CO3HiNT/3+UbGvHU2VesPP6hh+zae4wcpKm5yNzY22bHqg9o3c9A3mkZiNDgZW+p8Nb+AOMNcpA2EaL04M8qbX1WY6zhDDJZNMKwLOXSWcYYsqB05BCmjGMz7IDmH21bVz8kUOeo7UIKQMfs4yDK9WRoC0ziT5aD7DWecOHb3FrPBrVY4nk6iweBYAziDU49DdmalN0ySFn57kbA3wuL2y2lh0zfEYkqKgDfoN5NwoF4/M/A31/XnFlYr5zfwUy8h3LTRNzqtwdM37Kw3DWvzOLA+eTcGEVR7bow3N3UYEwWzeec2cDUfT7wCiTb6umNxtH4cNqfLrk43pKE1SenKg4GdKjVVWrGIhxx/NeqmRcc6dd81VvN3DbcAMTavH4pPfaRzNsxjpBtKQKg2MI6hLoD/zzZubjl8Zo/mNgaamUuw//A2WM/opW1g6zbnvVl8S4/XNmHzTB3+qrU2E67d3hJMhTZTDDO28V5GNlWGS+L3HPk1XbuE8OEgnjVmLQ/odlAzNR58/Gf+dro0JfjOj4BgMzT98kmS/1KeMxXEaUu8W/kyXKDRITysRjJxkRea/XOLMer8tlD9wCsx6/qhHNh/4TAaJvF/jq6LMO866WR4QrYwifMnJMSxADETsf7ZkM06MVXIaoPQ/mYxVwPfzrwVhTEQy71TiKmUMav2u4rVo5UxHG5vHtU4iDHZMKlE1PlsMelVW4vXhUIx3cbzDjBPCTGhc3Lf03rCMDO+PTBn12wwNUgsDrQNCDAe2cR0f3CVLzbxtTrmULMyh4VADVn8qjO7WbmUPyWUNN1o7q6EEnA1u7D0O0hoOzbZCIbvQfn4Ngu5EjTKUag3WLdAezxPSTgrnC4LRCbcOIQLg9PCumA5sadGHlJA1TnbF6ZSitk8Oj6jFK+P7ZQ6xpD1hnM54DotfA9vX+IaOx0oWQDjzUc7HSdid3CGZjv8jEkTfsd2O73479rloXg7mGpBb78pcDuGrb8eHKWjO8P/+0u3GPk7BLhF2CSiQTwxh4Rj8YR6PLbMy+CZmKU89g8swRA0zjzUGMZroDwjPVneetZD0389tY9jzKzpzD3W1wyvARYMPgDfN9xQKD0+e0B7ZL0sYD72rg+CrS1zPv3MIoJbTXg+JmzenYt0cD5M1FDqvNBXPoyX7hU6bzI+82vuEVhFAD798eChTHTlPflrqxaaMvU98Stgf3OD+j2SSw2r0cbxPR18CrSQe9k9NxAbHDSisz1nBQyMp1WwPXGOAyREww4+e8f844OiYT6CKoYcAJ2lPvz6r7h/UNw+BdWcUkDTAz+c5+62aq0dP24by2kDvyc/T9rXDxtQJD/3u3rc35MSP81ff5O2KvI+N84AOCT/wj5g0QBkVT6FPnM+YpeLaDk+2iulJANB4D0FMHbaoD92PYvg+kv0TgA9ogLrSEOsgTzIL+qbLUCOPEbKWo29Wbw8nj5REQSY3TxzPheDUonwPHK0mRtVwfM8cX6IClg56TwM0l43zzXRPCQ7+dQ7Gak8Mrg1NAqPczyZDMXAIUowPEoYOa63Ft07bIKUHI/6gDvemdikLtFOO9eEeC2ftTE78hB9bXcGBzuhAZeNgQLQOiGxD0kky4c64SvBV0HlMjo6LSmlaAnQOV9YTNNVF105iAlvt+wy3Dg7p850RTZNOJJXOijryDc5Cxm1NrcQ1jn1xJgF+SN/OL5TSpMO1gs49RNC64iXijfOVv0nMUF2N4Hl2ncuYno3hEjttglFsTU9cWJzQoX1NIdG+YADqSw0zILY+DllVDN5mJQosAVvMgF44hDDNnkx3XDfq6rmdTAn+3N/llRkL5gtUMpFK0QuzWPM3jNiFS0MyCSgmTrYK+WKfizCVo0qO4TNBtT7MilElnaLLEHKJ+mSKu+WoPMmAWHbug9WDCjHVDiCjeEVKZU9/xerDhIqqRekauDZ/yrsR3UJVQXeK4OHlKtgPa4sjx+xp8hGcC3lISUAs7kiLv4YlcvUBccucl4PuEpAXi93k2Rgaz3lL34U9VAE4F8w9mlLNZiPyTD26XCc4eclMUf8uY0oEHQxjfGwb6ejszHo4pwCIK7nMTtSbWuv0pQyaL1DvCHBYjOooEqt+BsiNB2rUDJKsNI01AMVLJScdDW7FdHkV0sINr5x5Psumo42t7zrLyaZBDfdxYFCXKJtN88bhEEWyMY3UhJEVYC3EjjkaAl6CW9QOBJA0o1K13443vHUX3vtnjhNqbIqnJKwOMRoJGk3+7I4Bm4MOc07pzgIrjYNb2SOOBWhOhSZPmU4RaO1pU69LzgPVHTuXVnpNyup/YNWZpc3yafJP/3wRzdzwXfa7iY4N8DHWYWmH1w3uB+F/rmbcTdj1pEtcZB3N6gYXEfC2XA3JEpD3lfBWTcmX1sW9gg1N/WSgOszXAI32ecaD2AgwTbD3SIjwBJxNklERiaOMBI2xQb3nh63pDXv8TsSy2opNWz9myvp2K00jqE6Phs7ADUOuzWs12lgNTV5WkoivrE1x440/FB/9DXtrVhLdU4pNiMn6J/8sVA2SE6cFruKZzZMQEEZEL1xNgp3SL9qkWw28E783sKVWDapyrYmYpw2Nr62lHdVOQY2GS+7fSpYxzXjf4WIvTR6NZiMR/uGcB81D0n6gKIntDTg5Qvw0p07NCXMgtNeOLQz3PH76dKkHzMDPaQMPHZ6MuFjgyq2pscxof6lzwX7BzHl1p+ksDGLMA5M0JITzEAwcwv3bP1Z6i/rOsDNXCMUMO35vGLXNF4wKJinPxlAmDBJNenQoM7EMHittuJ/FOMwJ5sDlPqy8jBUfqje6JXzMIYojT+c7OUwX8GNvrI6yjCeOivCtMSgMICoNk/06WYwEl1ZF2e7IDBZi76bnh3KLzNMKQ8uyGUvc4qxvotq8y5ymqIWywFdMkd3h9YoQ1Qz5iie8q1APjSjVC7BzSIYNZxXRdEzlOQ1dM8p6WbAojaGWIiBqEJSNzXYGJ31APM3XguqM9oihTgATeCEdB8JOSes44DF6X856jb8GHap5TmYPxisfW0/Og7BYApFXYg60pxB8qcvxDof5Y1Ent/xOvl09sHA6RA7sjH+IpsaITvqzBCcZoEiO4cKQgzfRxs7rKDCfJKNXTv11CudZiazOz/49J4J6fo71LGUE7A9NDxadTgrR+1gPB1/4v/CepY81aeDk0zM+Dyk7wL7v+tUPXy9B2FyA6M9B00GIkl44j0sKPmSrSwTPlRA2aoPRjU+Ng52C2Y5ST6uI9gtkvZPPo0Oc6aApEU+JR60SJ1SLz4Eu/VDtTwIPsW9zOD15dQ9h9Azki2qsz1xWwv7PunBPUA8BF3JYcY9ERhGlbUDvj3ZC28SjIOlPcTCO6d4PoI9cD59z+ySvD3g+vnhd3IePjJ1m1wTeHE+HMGZ7ehttT4F5UwBaBrsPnYUMIOksxM/nH95uiSJLT96EBpsY6w3P/TESRejSjQ/jFZhkB+aIj+zt5zKvz0CP62JEhTqItM+BzVUwCZ7lT7F7aevdc5JPnlwRKANmPA9xHoyzLXZhj0M/3m0/9kQPbLvxlIV14o84jYx+LJoSTy4y1CzZHR3PPPcHu38f5g8vh4h3T9iqzxMDdFrk1uwPFiCEYbl4qQ8awoXw1qAjDxQ6UbpWMhkPMU/hjIHMjA8xMYmiOX56juo1AJ42QqYO0LokHUFGTk7ypG8IXqB9zpfnuXS7SLZOgie6GyeUrA6sT1I6dCydjpbXOWy+d0wOtRWdHM0yto5GEYf85m8djlQIIyHX58EOY8LV0d0/YM4KsvWtU219DcO3oYgD+1WN5WIB/e/1n04YSNFORWwVDlySbcTJluFOCPSc+ovdM03dLX1/zHClTZHFbmn4u8SN46SaS+Wrks1aK6zInY/kTSpvHsxVvjGM9OG3iidWPAy2r4tz/XcCDJxDuzePjUUMYLoxpCHjREweFp/WkdLAC/yD5SGKirgLbS3AFpdI7EseYT4vyVrcyvsxLYmloMnKr/lyBvvbc4o8JJLwcMKZScaN1FrRtJUJlO295DuvG0nQQCYvqv2dig/7RMCXPNyKW+VXJehtmAqexGZzomBPytFONU9W7wPLC8MhejrFNEsIIU6+tmmgy0MjsepaCkoLo9o1DJqv78ufXzZ52pKRi9ot19s2rnALw0lsilR0yowZIVg/0/9hjDUGdYGQQ7VMEZcL8AYnhQxObHIs1yQVjGpKTDlRtAjMgXKqBBu5PEyV03xFglHsTNrPGLijNRhNOPAXbA6qgM1JT+6fLEtlzXyk3NzXTIdNul4JQn1ppM2tisrm+xF/DZ2ZskrObxVN6H1JVlu26E3fxl8IJ9b3zcIt+GFqmwNOJtpYm3WgS045Gq8+n+fPzhw/fE8CRxCOHrhfJOfKjY41t2pgBX/HDgLRBj6s0T0N9baw1nRSb43OpXoNdYseDeYukXLqqAkN6N0k7Dwets21u+GwvQWvja5Y1BK63XhNuU84vHQ6vU2UqoEQo1C/TavQeUzZuz0NuIzbLH1+t82dRKk04IeujYmf+DwPsyGNqQXmRwVREU2H1CqDCoz9TW92xAICZaWNTZVtzAGuCk1mtMt1ARrrzReM6tMl9cuNP2eQihK6nw0bI3VPw4+3TR9yoXQUpwvNUlPkbtXQnI1FuPXOQ2LpjXcTzXTlr7NNR6SN2qm+OQ18lSdT2qa7zU0dVyY1nLpNbXIQr6F5tU150DdI1QktDVOg7U+GMyDNYAKHEmby0Q1u3MrQTBY9zTrW2LerQGcNGEYv0M89DE0/FvAFNiZuDPvyh/EJAMyMzHRr+tDMJwyWaEEuoeS9zFWtIKVJBFFMS8GAa3rZ4QwLKvnO09C6C/DrW69z4ebL9t8GwFobEUvIjVOVHMcby97CLBuGlW3L5tZVsO9u/IvGK9QqiUTIDDdGmGJxHs9MP51Ever5UwwA64d+PtETjAxFgn7evFAMCFYxz2XRSQwfqDEcuzr+S+aS+biUbbBL9OcJtqM3nkvxPKsyrAwJC8yt9KxS9fALrfwYIGlBk4uoRrNnLmXAjLopG2zpfn5MvuB/EMfZOMzVR2DJOHwvjRdv+cpimGKNYsyg4jYCUg2JozdPaZo9zahNaLWmlyYN1gkm65oGCs48LT012EasDje2RocmHQkOSFcalX4xIs5R0wdDu8k5DneUt5c1DsvOrX59Bel4Gk63/j+hq/pljpw5EUHgK61Ojxj114m7cU6Yl0Zs+C/xzqNEEBrRGjFOmie3BGMHRM7QB/PhzbzaDvYVnYwr4exO0BJCEAvaeo77SdFkQgbGDw5kD62K6JjPLYUqxvhrcs8jbvwHpR8Jz3v0POq+lh1PdZxL+u+vLQ99olQvkiH5T2rQCN3o+IHPjcWg6QhUhw+41HEy4vxIT7S0VRyrEwYPq/Ty9N8lQE+99nhYOk02z3RUoUGZhunPRVDq3TA3n89shvMxqnciT2vymH+WSGQPXj5UxehoYU9oKVXrnAObz3jBQ+2QeNhPYib07EaCcg9o2jvjIHSKT6WzV2NUqx9Pv7u42v1OsI+IZwTSFn09z7/VyDg7dQgP2qp5LcJTTk/AQBIMsVXRD/b0S/IN4BBP7TATaTNHDA/jN4EpQTCDz8/4yDXScHgPnwiL+hP76I+dWbTiNXsVj42+UcIgb/9PcWpCae+sZQ9wTcmz5HiHj1y7gupHr2YPKNdNToUSRM8BvEGAFmSMDyr8QwW21BRPPOMizwRW2M8g4Z06v0fZzypnn3VAIddPOPPLvSCJUQ8BwlSfoFhHTzuxlr1V+XmO1/sipV3EaM7/togbTT7UDvCHsOYpdPwOsi1W50okqA67fpJcZ+AfjrQV7lDl8FTOj979vHdeBs6p4iE6BFq1DkkS9wRQzaAOSiBtuO0hBs5X6jasaf1qDh3BDYDrzEoOKNVxJEyEJk3GyAM8lq/+zbT5GyJMmpQNiFqTu5ZMFI5++YPn2LvlTiiiLDHdlPjN9Tbr7/2xS02dsqN5l5xtDaLh1JT96ljNoGTOFBF6qQ2pVCoWFhuXzPvT3G6AV6GMqfkCUG9AqEx37bgcsymqzAAvpH0tQSoL+cnXnTCS5YuwRT0NHMedi3a1Yy1cHNHLJkIQBRCkgorjF3SknEWwCnB0JJJq9FkKNfLDYv3yvwme4qHs4MYtSVkzPv9V6TKJlWfLVCjktQnmOkl2Uf60CgXc3b5W/K9KS2lnjTUOZwq7ma+/4VubCuOELl9TpsuLKgGV+4Vm+EsHdc+8XClhS1kUBdxQ3EcLk46GW5R+KMuStcM5CH4HS8fmkz7WgiIL29R9o2WmOQvYL5oThPdMjBTULlcNYNyMMWoAw3ghdUwFdOsHhwhsDEkHgTC+CR9MkSyto6sJDwzB5DI+jAL7TPz3ewiIASQNKPahI+x4CI1LH3HMH7HpzUt12TpdQEgNlLZrIDsBoc2ahwzacez4TandPVHZhYtN932D6sXimk3Oat46Pn2lzf3O4AlOAi4N5BHujxgwck3HO5jdqJ/zTeHX322sQ3CN5J3siO6nac31hU+x++BgDe6JbDVmKxIN8WhcdV2xgM3K82vZysWsjYzFBlPvDdQNqAqPF4CA082t+4afdvRZjb/y/W6Ai13NoMtsz3SA3829JCuhLYtdjaEwQIwCfNgNgWwWpGdrzs2JYx1algqCDbraMA/qIrGNby0NEO5eHY1ICJT9tvwFzVWLtRzzESrNNtXetejnTA0nlHp+B/NrDM9mle0zvz1MxvUPb24PFY0gqekDsEJqDTlGI1yJcXrNDvjSOmOJCE1rmrV1XaeRjXGAOXzG+VfNUS18ZNNCGg1O6tudipaYzWGCIptcadQNR8SdEAxoi41UhSUnv8b/jQDxPFomqC/NBjbe56NwHE0fZUFpSJMFTRLOHaaWk6rM8zmmnAntTIz3RX2EQdlqzK48Ue7j28VMlLokSfr7HExZY16rRoFwDAfuuPiYrP+L7XdnOM9+0YvovrnOfhE8y7yOVJTqr+dLpLKhEy/hMQuNgxMQKbGDi/gI6gmM7ZIL1ed4bvYNHUvUj0loAlzky/r97K/aBCjL688LMmT+KMvNUAZaPRbli8bxXMk98B6L2v+5Yc2G1EvHCZZLBJhFy+37wWRCRPRLt9H6Dppp3ouBoSXPfA7Fi6u05U9d9KjLRxez/HCWKQxxMChBvtsnDIpxSsLcTiFM6GC+ygS7mA0fYAOn6zeLDWDYamhZ07qNQF+Sz4Anpk2faaiq/ioOjcueB2py6bNN+so04tKn1E4Zmv/bZ5ixjhKulbhomMuOSEuJnpxC4Y5hxHg1hQX0TkXZVyUnlEMOrBpMjEPEzk6j5+GliO6VzrPnr2twP5nOpsJtZ2bDGo6OkFMEVETcDruSjUv3S/FOkzxsVQ8wBs7ERZ1v61/YztFCUvQxoudO20dehRWXNE7qyUSAQlDMTy2hPaJ7nuaPBzJnxObgvY8LyP8dO91RD1q7pciMuCDPSlx2+lRorQ91umVuZvk1j05WNh57STrPbzV14a1MvE9TLC48DxK5z1PwMVbd9rQPd4Md2mpEqo9wPcV2fTtdT0KCNN0tABHPVyLN/zC6k89/xgAQSLZUz1IKj8bFp5KPVI20wj0pjM96UP8ganOYT0QQAsJn3nRPZVBldKd0jI+fX/s3pSvhT4jNySqL7rKPlZOh0RDnwE/ENXRFwfeKD8yq6mXu8dCPwvCytGnXk4/dtaW7SRMSj9z/38V5mQ4P1js4cICQBg/q3GkAjDY6T73pzzUzoqtPr4DjtFLHmI+s46onlTcBz5Fk0OFxeCgPU9a/Vt7qik9+B80h2X9pDx+ILvipMwSPCTOtZoMIOQ7T+IL6kjlBDzllKxIylsXPMWdG0Fl6Bs85cw5MzrRETzWlvb0RFD4O9uUQGCdutE7EIeAr6+hmztQlQW8GwNXOyuKieCYfAQ7HxkBC8TVozppDuVYwMhGOnzO1nD7tB86l66+V+Fp9DlTeyZPRWK8OQPzpBGBF3U51z2Adv6/IDlvp7Wffm68OABuSU60yUk4IKVstTr/yDfPo2+tIOU5N4OCAPEWq5w26fRWKKf18DWTp9VByHE1NaNdjlZej4s47HU/h63J5jdqbWjDL2gsN+g4WnHRmmQ21AYEye22MzbbygWPVSQiNqj4aYJezk420FgRkowgGjJJJ3t7xd4zMfR8nGpfJkAwHLDgSE8OPC/AgiMOPAsqLvSFBPlO1gkt/PmvhZ5k2ytq3Q3stwmfKhtRzyTBylIpgLRMSJZR+CeQ49F+A9GQJrA2RXgxeiMlPqbBSRRgJCbMSE4mqncvJ06rLR7r9ykonx0h3BjnFikw0gruL5b1KbmY8a98vsUqgWiuGE5ohyt8emRQ4e06LPK+vzz/jeAsm1ZuI5XAdS3OCy5Wn4v+LROk9iSD63Yuc5PNpzZh4i6zFM0OxIA/L+VBr1Nt2owvRWX1e0jFzC/Cu8KHnP9aMOyc318LbTYxrxvW/U1DBDI/dyV9IJHDMrP0DrZlMXQztaiMPFBFFjTKxyQX9z+qNEQmSTtliDA1r829lptBpjXLi9N6ggIQNk+jf2+JnWg2M8mBojA5tDYIcbP8rcHxNuhjPqBoqSA3HTdMrGW1QDemB8+2HehRN1hRfhZbglQ3Czkf4pAaSTejCpl3W2swN7M+R6lB9AY3LkQcl6wl0TbYZm4NE4mMNv3/lYQsW0s2XT/aJSEd1jWDtkj//Du9NSGb76tav+A1RuQQIJT49DXYvd8PeRD8NSS1sYOREfQ1r/LFlX2s3jVir4FSVw25NZ3fJwDQ3YU1PaTypatlRDX/PJ5jcVX0NAFlpurLqZU0oSzvBzOrKDQ7vDHnLQquM+ZlAE2O5CczX2c7M9qLbDOazwX9897MM2Evy+eENR80kLrFzfUGYjRVXaKSvEGWNMdrVpvaXb008r94dHK01DQ0hpubojPfNERbhP4SINk0V2hRLEyfxTQiUHWx0uKjNO3YzsC1i3M0zRf70PmHNDTLAzt0RAznM+ey9paYposzYP9YW9i5ITMQxakw1kmoMkOIqV+QyCEyYSXzIZfUizFQncUc3kXnMI8QqvWBzDQwQ/dYXzThcy/WDaAwAFatLpGSVK0CFEcujvZTj5Gj8S0TlM96vxsXLj0gLX1rVGEuxHThtg7Vmy6bwBrs3uLHLj1zMZGo6OUu5QELc/t59S6eOwX993/2LlCeT/Y/MekuLn8qnWMlzi6bF1Vp2EajLh0ABivyWGouVohW5lg+Iy7/VRaY0wrOLaROnzr4D2kteCi/9FlY9izfgdPq+wFDMVUSqBkZjjoy01pauPHSIzODJdjCtaH/M6g2lFFP+Mo0rQC2YDqTiDV1VBTVbu43Ni93r6jV59g2v2fv80KzazepfpSraXbwNxAp9MR/6WQ4TysDz6xjzDjmZZ1yD5gkOV9kEFRV7m854abomYl0qjlWG5CAomzXOYpfUslpKvY5o4VKXZ1qBjqlHfaYjXIIOj39YhdNTRc6iq1WTTkVdDro5aVtmVnKOsfj1cEfhRI7OMtTxSChTDtc71ztLHKNOwWMp3Bvgvs7nxd1ko2oZTx/gcbG4GrCPPgelo6jvRA9NC9Eth9DUD2YLb9v9OGAPQCg8CUbu6I9hixFk481tj3qEb8PhyS8PWBhIThCDrM9E5UWpR6Umz0LAdMXs1R1PR2dFfI51EE9MnKblKy6DT04y/gh3tcQPWgSWbyM2RQ9asFvvA78Cz1OKRO7rJH/PLvHoyL3umU9KHs/XkDu1T36iMXxmLc3PqXjYMfgc4s+OE4T5mgC0T75yOIzQZIGPyekiNzECjA/G+M1/VRvSD9U4NCY3fJTP4jidUQ8d1E/KRo4HzloQD/rWckFiosgP3FkbC526/E+VyLkbqrbtD5JkyloYxtqPlpiZViIlBE+urMutSh+qT2uhLOwE+ozPW+25MC4xbA8l7RRCMl9HjzygmqoCRCcO+gjqlnohrU7lKP7WGsQyDvtaHONSsDMO1cwFQsVW8I7qO1nZ2UMqTtJM/6ly0OCO1ocQ8d9d0w7BOmVZii1Bzu9z7wxVhq1OmFfWbjxOVQ6uZg5KK3D7znmaWUpfVy8OUEEXj8UApI5bBLLdsYIWTl+R5chS5oSOZ0n3ETpi7040Pr+6YkTWTjaSNBNnr7mN/dfxbwJDGY3C+16Ls7W1jYKbCqU+0g5NuyYvnGQ6o01pFjf2urp0jTWu8JFX8dhNnEUdppFwcI3B+MG+zWoQTcniUvHO+uyNO2gozxiDwY0fJo2OHd9SzNnIwHqG06CMjmM8xOJDaox+z3jqE/QwzBWwhiwnhrQL2tyDnfk+csuj63rEkj4uS29oPGBgcOZLM38PDGvUGsr8tMFiyHzLirSdzswFL3iKEYcHbTjP4gnrfjclcbEICbbMZ1nYu+pJHMPQgzDmnolays1KT2LhCYJxRq0LPSAJ592gMKW520o5RuXba0vTCmfUhhFTGQcKrNRqoNMkN4qu2He88CUkSuzvPP0p501LAPrKroIZ8ws/o12xyLxUy3FI46ZWu3NLVp5v0e2/zcuvH8ZTC6RlC6uSUaWgdbiLozPyOCg7iQvSek5OmGQ3y/ZZxBToZ66MCeRGtl5DYgxHJA0qPo5RzJtE3eaOfj3MmGdkfufb5oz/12TUssoLzSmyGj++Z+zNEgbFek5ayo185C23QwBkzUR6J6MGzjtNcUGrKN5ATg2ONDSn9oTdTaLeXkLKsejNh4B0Bdl1cM2+ayjqnpB1TYpO287U1jYNklJNlKFzM02GyYt5oF9szaDttCVST+LNgClq8WrWlQ2J1kW8eQ/EDYb11ZKHYPUNWc3zlx5xrQ1YfSxKc/ZNjXJQo1hkN9ZNW5aTxHvMnA1OHE37ZytdTXgurVr+wBvNX3xI8ifsVc1rWJZrfRZMzV0FqUlAeQANVyW2h/pgr80UKcaP9dpbzQJNREq07sQNN/Uk/RjD6MzpeJFaWoxJzOS91tWXmKhMmC9Nvdto98yN5z3XIX/PzPjIPgIdkuRMwjrKhHX+tMzoKPjYuaqCDRIxyxuFUYwNKHtBr2T8kY01RMCxGpKUTSf0ztrx9hLNDgCc63d9jc01iWOQz8KFjQS/iW/sqnlMxQMWPJJwaYzK3f8SV6LWTNUHkqQVKX+Mo8LvkdfpZMyP7GI+VXrGjI8Dz1wr7WTMaX/Ln5O2P4wUX0dJzXLWTACrsDvPA2nL/spQCQyBeYuHJDyhwzIGC7hZPURYtKXLRZBkZv73EEtxKcfb3I4Zi3Yo07UzamwLYMRgUqTw+otj7AopJ34Fi4RVxv6NBI1Lt6I1TIpqEQuGd+x3I+kRS49z4xaCzw4Ln7TOkSCAB0u8H/sEuiL8i3nJttw5lm5LXBzw89mhHIt8+Lq3AzpHC2ALaP/ph64LNiXTGuSgUUshYFC1AxR3jBGktrsWC3VMeIdmE5Vnr8y0RQFDsM5mTNpL8aUDIJlNGFiy+8gmSM1TKpONrUV0zXa2NjHmdxzNvM/5K4jFwY30mAg6dFBijfHKDL+Tq0AOLj1XFzTo2Y4XkZ931xswDh89eQT3nYJOSQ0hp32GEU5miEuSDKucjkZS1NVO62ROQwCRHKZ4KE5U5LhH8Otozkm5e+lyAHAOZ0PPBTiQyA6+MzeA+tbdTqBnslshQ++OiGJErGJ0/g6tNHaOxQMTjudsoDtnxDDO/Qo9uklQC48ps9d40C6iTzxQ3A9qWLXPL8hdseEtxY9KU42P2SVRz1e7ZmiVypqPXXJosI6Bn89CrED4Auogz19CIPJf556PaUQ/CAuQ2M9D9ilmrbLPT2pWXqy3M0IPTvj6CJ1ONE8gW0xWN1vzjwMsifQpLLSPIVZnjnSXck86/vgDKQL6zyS1KpsCo1nPQ4zrPr18dc98RR/Rz8UOj7eCVDj426OPiCHZQmGCNM+5YftZ2aHCT9DVcuR8l0yP5dIjSTHXUw/F63qUuuFVz/riqTSq/VUP6V254v7E0Q/1AZbVLmwJD9ZyAdgQPP2Pj0nRLQza7s+FjGLieOmcT5hxrBCp4IYPnLzb7HVXLI9VIQYJ2u1PT0GkoMpcPe5PPL3ZUvWiSg8ogdfex04ijsRwTrTHPxiO029HxPHKXU7aUjoUA1JeTslCRSlpSRwOypLDc5wB1Y7ZvuFNCwQMDv7DXTTDQn5Ov9BjBqT2bQ6IaqszNeOYjp18wZVurUBOlgCk5xoOJY57GaAGukMVjnsnDTcOiErOQsPcBtL2fI4vwiAHDQDrDigPysl+z5WOBxEPrJd4fI3+1AOke8fgTdDwZDiepkANxqM74UlMnE2pQkg05oJ0zU366onP4YmNcXcgVwae2w039yXVUs+ozNicQOBMOpsNafEgLElhd00K8sqfrUaQDQghO2tUX2RNZC3Y3XywEw16fckaespDzL7jK3n7zdQNSYBufa03VAw453t3ZlqWy9I7/8tbNBXLo3lxaE4G0YtyWH7BUzuJSykQiowY0D3Kkv0A4dpWLopmr1sZtfmbygtzduRWKQUJw8kyuhIjKwlrJOuwm0tNSSfPf5pjqfNJGyudywq5tYlpE+d3bzl0iZfmsUfnqrAJ+DIkVLkap8opvCQeoulbymYfmGqpAgxKh4LEdG5mOMqqgcunAoYiCt/ncY8mKgfLDe8ZSZlOqYsm87lo9StIC39QeT0CMCKLZUyP9rJ7OYtvlKMutgANS70VFbziV2ELjpkPitK6l8vigAww1X5OjA6M9vhd18IMXhvwhkoiccxI1YKmu9JeDL8mE5ivskaM9zjcrQDk68ztna6aODiMzS0ciBRScWqNM9tB4PVQRM1ymw3wrabbTXww/0rT1O4NRnLA7+0W/U1IklqDJYKJDaeA6ybARlENoxfWVLwiVU2nQSn1FCrWDZgkyZ2GjJONkdVuM/yvzM2PMgT5SucCzYQ1+2dDqDUNbk6gcFJd5A1d7RlFuIYPDXh62yJIitCNecMf8XQpxk1FEGbLw1D7jQywg9Zt13lNAuNNfDeluw0AccXWbNx5DS63aKLYj/PNDzPqEpQhak0KauxfIdGdjSwXl7RWcc0NMIqndXRtuQz1rolJ4kRhjO/yjGeNCIZM0tAIryMlJ4yNscW+07+FTJ/goOsMe9NMumtSjAwRq4y6x/zfOxcADOHIp7gROdCM/JpnW2sVnczLacq1kHLnjNshIfpEra1M40YSp7vW8AzZM2iErRYujOxUYHUVqymMywcg9ZC2oQzA0F/9+l+VDMO9SPtcIcVM9fhjlwMK8gytfKRN6b+bDINYh3nZ5YCMk7eSo0NeIkxAJYlENelAjGk4OwO4S5tMI2SP7lyZ8gvtYK3EEzPFS/LJTvsxdRULmP5EMWZw4Uth1EG4ubY5SwTPWXDGuaOLKnWGa43PrIsT7r78yNc+ywERfqCUvk1LYP6+JqA3GIt6SyWjHJNgS0dZJL0r/aQLUcWddhKxpEt7cVGbo7ngy0fHA9MZNJnLTvYlgtIeD4tZjeqOHbTBC2s5ggPB22+LCUriJTNwGcsmYfhqoTRAyyPrstEDqyRK0vHO9GGo3QwbW4krm7VbDFNhD3XaoZVMkGVge9HLDEzsV+iDMJI/TON9+qPEa+6NDi99vch/Gk1h62OZO8KCzZsCeNxwBOeNj716IYL4CE3/FAt5d+0ljc8UNuRTdP+N07OfZxyXFY4aPdYT+FVoTjO23yxrbncON/jtl0ybwk5D92xFFQRKDnnkEUTvFc4Oc0O3h1qTDs580DcBf4wZDn4Zdg3NIDGOTGgdVnBjx06pXqBunLkZDoCMB9NEw2lOocl6EVP/w87xPsJx92uhjvLYj2CMgnyO+qoebf/rU48e2EcCwDjmzxcsVdk6hbbPDDRN+B+Hww9pkprSaszLz2RRawcfn9CPT4/XxijcEc9Ba4pLC++Pz1WG+hhWvgmPTxUKsLPwwE9LDraeEuAzTw9XVxD+NKRPAvdaqXql4c8RoxJ2imijDztpwXyd3eGPOX240ltiOc82g5w2ZByZj32uJj3CRDXPTnAij/Bajk+fIi1aMMPjj5pLXr+hxbTPlEj1+yUCgo/OrJofhsYMz8jwhTkaR1OP6S9+uhkjlk/HZxO9y5aVz+Juq+PUf1GP4YNvpXKZSg/4qRlrV/t+z6VtPYF+z/BPurCw0XGAnc+TTSQ2y2VID7JbgaRzta5PTgcTdP1xkU94MzMC+ndwzzFDfk2SqEzPDa0D4BjCJU7SFcF6SNDETuNrNaoC8cfO5nDTGmt+yI7sRzHKDk9GDtkTXBu2YkAO1yP/2N8Htg6MXg2saTLojr685U4cU5fOikohC5F3Qs6tzPxtI+KqjmXl2Z53bA9OS9pvwIBcO44t20Gj8Z0wTiwdQUc1DqIODkhhngoAUI4bG07c6+Y7Dd3YomEHEWIN//fo7tiAxY3JWGeO4xWlTZX9AGByxoGNsBgvjvWeGg1q2r9b0v0vDRGenJgOE4CNO/FYTWRvDgzEhbEzZvcYTLuN46TUlQZN2moK9iEt3U2d3JYlG5KGzO9k4DJDgFhMgUjbAXjPNQ0I5KElo6p2DSoyA4VAYPYL6+o1NIh7OMuLa5YwwVO4S03l0N4UxDQLOhY0eNc368rlceiqFvlgCos2zrn4yRDKe04oACDLvcnZ69Awtb/nSasIYgvor40JeRUpHuuq74jSQSV7Yc3HCTe63Au+sklJQRsOnQ2+yEmt68wHo+3Dyd0NeeQ/OTtJ8sQVtDLHL4oXbjnMz81gCnAfesVhqUyKqj1VI4G7dYqKZz+uLIfbisxno7kiCb1K8cX4masvW8s62Ph4w102Sx/WE2fSNA1Ldnf+M5fBoQtYe9eONLj8y14caKwS5nbLn8uGe1GVbcv/Tn2Z0sVhTCS8L736FtEMcoz6D6rAvUxANaRVh4slzIZpiAWAlArM2DBDRC8M7EzQ+5rSUMoJzQ55/TFbaiQNNsvhQKknOk014gG78YKNTUmHZmRs3lyNUiP1pcVVqE1AZ1A4o5iwTVfF6aisaHSNbdN1qXnVtU1EXNcNbseyjWOGdhbhRWxNYjuWc0k4oc1kOUCZWHXUTXtBy5eqHwMNRArUsAFTrg0eOBpXUgpVjQQnrWW470hNEuuk8ZKNUM0uBDa26s+WjSEWQHy0xdgNPUgJmYfBFc0b0u3++SWQTScTU+wRLscNG1WtXb2E+kzBgnnqJNkpzMq4cg891FXM4WBuaRL2Pgyam7PLLRJjDKP0uYMQzYRMjN6KS2zDIgxDVyZ7YItuDHjKpRxjnMYMhyB5rV+bmoyKhHCbQSJrjLDlgkEidniMsHDRRUI3wgz4OPn7A+JITOXIA0+5mwqM8q1ryF2RyUzsBv0S/ZPEjNS8o3vhtfwMmJttMq/jcAyMiHxB2ZjgTK/I+gYEIUzMm2bFsEDa9cxD88XhWUGbjH2UFHkBJL0MErtw/JTH24wWITn3feR1y/Gis2B2LUzLyDf4RRvnYEuU4xfhvbSwC3VDTkGAUTxLE3jMqck1jMs0zNfLKvT1isEdLgpZJP5KyJRIhlzLUMsu0N8WI/Ofixd2QiH73GqLJgxhXHhQsgsWYbyHqrJ1yx6Lz7lPO3YLEIYdg5o6ssskooPK7q0sCy2j5nUnV6FLHG8z/DLNk0sT1Ncs3VXBSx9hBWoiqmwKylZJAVgzksrqwxDU93L2CrPwhyRBv0HMJLWxhC1wQAx2HXDb70E6TH6g45wyPXDMtJh5IW6BJEzlk/KhboDTzQpQc2BwDP+NFPHTDiBbp819rBctbJ6MTZUtBLcuMa0Nnue5/hIZCo3bf2UjQTqkTftW0S7gf3pN7FrKywiJjQ4L4KUA5SxcDitVodO8Y+dOCBirMpL+bs48amehjtMzDib3lNBBHbQOKw4PS8CtwY5H0UmX+eTajnV+28RhXfBOaJGbK8kDwk6d2mE+LBSVDqVGddB03DPOippzrtWE0c7IG4AcCBcsjuXE4yIKDsPPFWG6X9PY1w8XqYt1o6Tmzz0nSCw5KDMPJjCbZY7w+88YOY/uprUAj1vovLNfNwHPXbDSmUeKAA9vq6NNwpi5zynQjxkcxXCPHUeNRAa+408AtLuUqRfUDw6U9WY5pxAPDnYhNRRw0I8S+gwL50CXDwJX2G7M7LjPE6cXEokJmM9rNUoV18A1D3lUU3G4HM2PgPFKTAcGos+NpNgODCZ0T4UnmWdR5oIPxY+EsnMhTI/YxM5Xz8OTj/a781xm0paP/pWYzY2z1g/b4VtZ09EST+t8jPyZckrPzWfC9bUgQA/RWH2WGczxT56W2IGVXN9Pv2ZgqEJIyY+ApSIY4oEwj02LO5tx8ZPPS6iVNsaX848NekPMz15PzwWuLgaCK+hO7HKSIAar/Y6EHWBGrZrxDorWLr+BVXIOt4NbSK4Eb86DzkmhtsypTqiSS83U+p+Op72c3B2F0g6SGPW3l4QBDo6YUPylduxOW3DOlEG/1A5eaeMuVYF4jgmaPoh4mGDOOTlxTc+NFM4MC3M4eGWGjg5FWZr1sHTNzDHKKxQYX83y9u0uOyhGjc7YAng9SeoNnn0xzZMaic2a/CrAqZBmDXVbI1yr9r6NNLdWZLXxU8010RzF2YWlDM1DIxHAiXLMvMoV0q6mfMxrOV9QOuc6jPltPufaAlNM/eOXHXP7aAyV3zvr48Y5TE3TCHsQBgcMZXTkQk2/kMwhKMRbP9oXi+LiyOoaLdoLmHK3ekLeGUtoq5jmubtUywbFDqTZsUzKw82IS0y9gQqOZLj3DjAxyjij/oFksJ8J/JPKXvxmyImLms1g5C8uSTozHZ5JgVDI3w2QL1762YjWooo8deycSTZWR/VIjZtJTzx+qBNw1kmLgy8mVFIOCfIJhvBpnUIKBSjja2lVMooaQ5SfdBKfinxFScgQZ8iKtnzEzMCeLgqitF6XhUuQSu48k8RRci5K98A+JTRrCQsNZWCzvy3gSzAHxRgFoDQLCQoeZXJQWotctZAwQNhVC5zS8C83zoxLxLL/bIZI/8vVPidz08RvjDeavzJlwdvMQF73p97HBEyUdLvbyQrpDKSyav1vWcpMywkW8CiGaEz4QMTaAGaCDTzGozdpuliNAv7Rk+RE6804eeSDCdJ6zQ8o53beJoZNQ9Mlu7krDk1XojJVjeESzWtOKSZ/4NPNXskbRu3SUM1oRljzx47KTUghZ+N5aIBNfUAQ/NsWco0mL8gBScJhTRplsnejvIxNLCCxnlZXdAzt4VLb6HkXzN9Em0i+XWyM/EuvrsBFtEz9bItzcTuzjNHdeuQqB7GM6UkH+mH57Az8RtuU9OcizOzWT838RlYMzTQdjVbexYzg/xKXHhpxjJbaJbVmOBnMmCScT0XMPsx6OqRqHOKgDFVdpc7cqT2MEW2a0G3qyAxbhnWkcXbgDEHM6BRSjnSMQv6EdqXDRUyA/brzh3+STK12llh3yVxMgSlOA4kLogyadlOsTA4kjLTOHvotleNMtueDVxpQHkyPeVMsVQ5VzK/d2l7mNMmMkMX03k0+ucxkCSQfaTqmjE3ws/bYCVAMTrPfsCIs9Qw1FIFQ4RdXDCQ8Ho9ucTUL5CZ4VI8QEAv2/JhPektmy4HxHBqO0roLQ3DTdX+Mictpx/kM421VyzqhXkee4aGKyFL0kPo1RwrLzbLYhudPitevqAzJ/SGK5XTUIoUcMIrLr/dPCao7ysSs1BscQsNLKVMjZLWehwsDsEg53PYHSwJacJhmbYQLKEu6qhaAfQroGWakXeXySvwTlpXgH6RK2E7D3fBj0krufopLE318yr8PIMPf6eQKmBYMxt9tB0qpyb1KCXNly/1fazdQqCQMIXMy6jN0ngxPrQ1YfHNUzJBg7qMwuIgM7TQnu3Sxd4zXZb/B3j3jTTRjW6AxC8vNZ0FBkXPV8E1+SaKwkCdRDZIiAaEmy+6NsEf6+tCxiE3QKpHa6HJeTf/QQeb6v3DN8SSAAJCkAA4YLDyzO9ULTguswImeMFLOKCg7Fj8FVw4USFoVzOJYTi3cYCL8VemOPIIqvdvzQo59mDAouyhYTnxz5CW/ZWqOX/METCl9Qc6gnEAM2sJizoDpoOAfwwEOxzL0HnL6G87yQVCbMsjyzs2qr2LS6sYPPavLQ/C9lc8WwdogM/giDwIZXw1C5qrPM0O1VEbXcA8j/3nDEe8xDwrg4mvkxS8PHx7jJ7eUaQ8KMfuyOFtfzwbluyAdgZKPGE+9Sfhiww8pMVPlYf68TsIlsTrXRL2O+Seus7lnFc8St9VFPoo3jy9bFhfNvldPR18cCSdB9A9Aonl90J2Mj6JyXyjR+iGPvZY9H2hos4+RfwUA+gWBj8iva2TuS4xPwF4/yKc2Uw/eI2+a9ImWj//f1DOs5tZP31hPtYoGks/AcbPAnEELz9ZBAFnMzQDP7XO+9Uuvsk+Da4doTWwgj6hJXBs2mYtPmtqldWgEck9e87nDZgrVz1BoqQTUzbXPAwG8PhFMkk8XKZs/P6drTv7Un7QLdgCO4O9USjpwWw63SywYRagajqKoq9oev9gOrEEaBURMkc6jgo7Ve3pIDqgqnwGcFzqOdL8FWM39KU5f5hpcjSKUzn4Y4vxO5fyOLaMFdQVP4M4Loj2XrAGGDgzx1uhlBjiN4OISUHr6Kg3HlbrlPeBYjeAZxtlQmUNN8jzWQe88qg21/B6S92gNjbjOr9XMu+1NShmFIjtuCY12JJWx+cniTSW0e2xbcPdM2MrdsYs0SIzwZD3SIdtWTLlMddxY1yCMd01w6t1VpwwpUtj3afWYTY5Zusz2O0hMtQkelg3T3w0XI8u5CjBnTBlDOoXlizFLz4lyRjeqfAzHCKOrDgt6i3jLb1evrzmLHPXRvtPG9Ur/gOXbWvwtCoqwnbEODOGKRuU1mpuJ0kojgEO34l1/iYxSi6TY7WjJcbPnELOQTsk1Cfq4LAkxCLcHy7hEMmvIudpRW1ni7gjEmqQTl1BtCT+1I2LNN2hJbRQtohq1oAm1hgcltn1UCctW/66/EESKEEHxdM2AcUoBt6Xm0LTaSkxkWwEfPcAKttn7p5K04cqRGRAKqbgAStx+H7HHaxsK7I9oYTAksgr0l9b0YQ/GSzcsJHv70fgLG7avp5AscktuDPtt/e4pS6ZcujJvqBzLwJ7bjUo9DIwzcXfyGeP4zAx/5ctp5KFMa9gDDVibRkypvBeH8QDoDJB0BRCEI8VM7ogbtsmBH8z6QxQRBHY1zMAUrAy9JYjNOgXi6Y7M2E0EoyUrb4jkDS0dSKNWy+wNCrLbAh3WME0CntLs9PdwzQvS+S0LVG4NLGdm51Gz580f8XjLB08djR+8pvCHZxANOcP1uBHhfozprck3IugpjMYztbyrqFEM80Om7K9GtQyApM9WvNKHjPJBJ+RFBE+M774AysHpzozdqauB7clMjN1Oo29ybwbM1M0P9xap/YyBAjRluXFwzKeyJvww3GCMtIkc2kXYzIy7k8ImtmW0zHBDxURa05mMZz/yELUI+swOXZBTHtOYjAN6PTWHaCDMOhH5KpF2OMww9p4bLRzNTGA3kK5T8h4MUUpFWzVmK4x0UWwz38v1DHXypxAq3bsMeiz7+hocvUxC2KmfCxF8THFbS43hrndMUYCvTd+VrsxRNoWgrzeijHhasl6iDlMMQMTzx1Cr/8wp53MwpEBozCFRHKeTF44MJPM/inqscAvB/VCnYhyOC+nKzonLyGjLjhkFF5x/v8tbA8QfryXTC3GbTEqBk+LLEZAZGHa4bsr3T2MNO7N4Sqo0si+90RfKsk4YmFdSX8qxq4KcuB0xyrYMVDh0dcCK65JxhZsLTArLOGnKOuvTSvu2wfHnxxdKytIYi6Ggl4rkcdpOyEWUSs14Uf4C3Q0KzGyiqCfKgorouve+WPj0SrsTlh1mCOKKpICs9APaTQqV5aJO10I0Sl7uBjxvWFeKahTbkznKCQvwLrIrB4qHDBPf09GhwYFMRXBweQ/xuAxyzNH2cSarDJNdDp8hxBqM09ASAW/YRk093QlgENqujTQzKUtDWFNNQz8lm/XddE15EamT/ctRjYPNbA4KByuNptcAmiX1wU36Ft0HOLuUDeRS6CVAg+MN7u5mMwU2Lg3S//hy1uC1zfVB49Mx83nN71jZfzI7PA3rZdJG1P/QjiC+teraxOnOMrkSuP2df44z3iYQL/JSjk/Y40oWqi+OWsHggXM/kM6tLi36XG+vTpUAm7I1qsnO3R+CXsSIoQ7JUo/uN1M0jsEthpF8MYRPIBc/byQdEI8FK3B+sp5ZDy8XlOhMkd4PCpXT9mpw348HmPdArHUdDzEbWrTyiVePAZAdaurUDc8NmkWUfpKAzw1vets6bfaO32hxrY626E7JDvushzetjuR0zYdRMZGPL8rEzWdmdU8CdKbjDwWVj3noy4pZ1jIPf1Y4VAd8Cw+A4Jo5K2Ngj4VVazjzKzJPhr+Dq/4LQM/QN6djx3zLj86kvwq4PtKP/4MiPxlb1k/ncoLsjbvWT+3+Gjbn55MP1lvkMV3GTE/DG8Ynn4iBj+q3gPkOwzPPjr8u27vmIc+uM1YIf9uMz7jIE6x8VXRPdemswGnvWA94i/tMq584Tw2Fq1Kdr1TPBsya/lLDrg7ykXFkMScDzsz9TOtUAZXOkN0+cqCAAk6wZ/sGTHB/zkZTYG2lKrlOcyiBCftmL85Fub6qIafiDlpXDamr4FEOTHsBs9oQPI4LyE9781ckTjqpHai8MkhOKyRctecLa43H7xzb+hWbTdwWf9kaewzN1S9LaGhme02xoaPhreBlzZKki0MRvMzNrSs8MdfGMI1NGJSeUyKQTWA+27unSuyNGEqAvHKHRQ0CDoPVAXNZzMRYMV6ShiuMlL32Nh3VeQxXYXXioJdDTGOtW6iKqkmMPWelbI/sDIvieBB86E1oDFFVfICl1GRNGhE0WW1MY4zrV23rLIkQy8HfKrdJh5dLm0by+CBqmctDvnm53mOZCwNjv+vFBVTK1tuXEdN7jIqZElA3yQSBCloA2hX073GJ7bPYj+tiXsmXBsrXHzRISWI2GKAkKS4I2LizJYaNkIiSojkHJLQ8iHhT68UqA79Ir7LQOS7+vcjAxH4RQYm5ST43N9p6+7DJZcFmPohFJQmW4jUBVadVScYk0NQ290IKBlwBanKkq4oq+FwVxEWRClCzfqKsTTMKTh8ZvwZKkUqXsF5wdP4sCrS5PzkMRkNK4PaKPFQIGkrM4nADWx7USyOn69DsqY7LW0AYWDwYBcu9EwrudUf5S63FZajFmakL/0zBkosDVUw0ZuXE7Q39zAaPVm2qV2LMa6tGrFVPBEyFiH5GNczhzIKnMrBwbDwMohbu/lxqUkz7hTmB0wVlTNKROMp8ILSM3ebLWXAXgE006UQ7D9rITSq/2o5AqsyNHJkA86SYTU0J99eNsorKjSXBvbhDx4RNOMnFosV7uczJS521kzgsTM132BN5opsM+1yCW0sWhgzMPcIs1w0tjIX4qCyIaNFMlc+odtxiMYx3GK01NyPmjIUnPST8MWhMi4RGpItgpkylFH55aBtgzJJL84wLbtfMtJwxa01sisyUTPEc8nV6TEQNmiZO8GZMc/Vfr5ZcDsxPhctAwlBzzCPbHwyA7tUMH90HgdNYMkvc11mDjS54y9dsFQOCvFDMM8Y6kt6jpUwkS8/rz3n2DAhw7IeBb8OMZNT9A+xSDQxG8tqUDGaTDGgz6IqLY1VMZLLCku6WlExcjrHNp/ePTGMDsWfnHgbMWupCnRFAOsw0vzIPcJcrDBnm6lMzdZfMDR86zBKGQMwKlC3RbZ8mC+wlFUvwMYgL3HCYIULkZguhLo7Cg85Ay74WCSwLxNgLReQgtJru6wsm8+AlBpx6yvRPZKWEAMcKzFUd7SywT8qm9HtjIednSmgNeBiqEy7KVWyyKcwdwQq8D6sXQVxQCp9BFoDrztsKo2wDhs06IkqS/E1AxlomSp23SMj5aCaKgJu1+fU040qjBgIeIbacSrkEf8Hk9dGKtcufq6sOw8qagSv+yrSxikuPK0TE9JxKdDqPoemvg0plKxL/auHmii/vpF6LCetLrKAxF5FXaQvBFbfRqpnjjDDPSMw6EFoMTYmgMm4rjQyoUFeCpHY8jIrI/WXMFqiMyLRwO9yGUM0ruABABc+1TT/m1uJ1D9ZNT5AWdFyCdA1mhS7XGDFNTb8t9Gl/ZWPNpdQLNGqfNg2ztYBWKtJFDfXqSrCpvZBN+H1LEmX/2A3YjNxhMI7cTdUmqBBBZF+N32njRhxwNs3GQ9EBn/2QDhixxiz3aOWOMqhRpQUke04BE8YUh+EcjnxWVciXU35OSUY1P7m1XI68+uLq/763TqAm9nSz385O/PL+8WLLYc7BfrNDuyDxjudJxqX01/3OzGxJ8Xp7hk8H+mWq8O/LjzeViamZnszPHnoOSsKYio88+tkoGwXEzwYmM7CaIftO19/oTOabLg7na40zYQspzuOF+Ln8sUIPIXLcFLpG6E7F+Ga+7EqPjwrBkV+Zo3NPCxAuHUdO089J21EAVvOwT2NAGt+/OolPoJ1gnNnIn0+01oZVWXrxD6r/q8bbDwAPyRt8DNOQSs/YQglJLzASD/XBwwGI1ZYP3b6fFjK6Vk/7hFa9QbkTT9FzeLbWK0yP+ygzOG2SAk/ZKXyfD6I0j5wfnZjjWaNPgIBsSgiODk+THbKIgJf1z2hixtl9V9nPXE2xRxDNOk8P9vDg3hEXTw2sw8UEkjCO6tS5ikPjBg7qMAowZ2zYTqdU84bu8KwObvdsbe8Upk5WPrD0rdGgTll1JxK7TFZOTgeHgRKoiM5l4KLIvtZ4DipPL01VxuNOO/8OL7rrys4Es5RDnA9vDczx3UrPAtDN0zySrqwqfQ2LNZ5Uaw2uzZpGbsw2jR0NoWH+W30CyA2cBQhjuQ8uzWvXrLShLRINb8smI+L8sc0ysM8bsrOODR72syN8XabMyULdzNcP/AysvCmckiLNDIyeULb9MJrMTliVDfHC5Qwx157bEHwri+tmGcO34O5LuYW6Jg7BRkxfqS93Hd0dDQlvMhNarehM930VdpvgfEyU2+WEP141i13o/mK2kPiLKOO1wb7ut8r/pT3H3J0zSrxxQ2DljitKZ52Cc4Q+34oIDogyi+NQSdKsf1N0kD1Jbv7p5f0gJsk4ejS8tcEMyNeJzTWQxy8ITlhxby/AzMhTxcgmZJdPSKAZ8v42zs4I+r+uSB2XyUkGTT7Vw4lBCWkm7v5qUrUJQiw0ukJ2JUmXTiCO2QhSSfo9o1O0+XuJ9hD7ZeeTIQoeYUlGUyBDCk9stXplGOFKeLRiHPsJvEpO7e28Lp1TSpLZymuGA7JKta7lTxyDsArebhuIHxnqSwDeBBxm3qFLdVTRe9laFMuWXAi0b69Ei9+LDu2QFfDL7NLm/O4VGUwTTWzT2Mk+TCDmGhVlat/MY1xGFYsUfUxuwm6kByrXjIzNwHwnZO3MhMZjHS3XgMz8LNqA9sBQTM3sILW0upvM+dWZfTkAJAzchT2gqsmoTMZhnZ/y6SjMxuYMbJeC5gz/IzvM/VzfzNQXHt3SPxVM2aufvFubCAzF7XMdiU52jLz5HXVll+GMrBFH310ZiQyOIgboAbhszEKz2CHtLM0MS+JRZOGXSoyC8Gm43NABTLeUPj0P4v+MdMkvV9POucx2ilED4P4wjEh3gen846QMTNAMEA85E4x3f+OkqjL/jDrcAe4jWegMMkIShKErTIw/evncnWRuC8nY1ALFR4uL0yVNWIF7EAvZWSDQTMboS/XBOII233yL9NvZrDNXDUw3hSbS+lfajAFwOLcY2aRMJ4uyeAdiagwSSf5RL18sjA/l/IGHcatMHN0kRlrn5kwLhzCcLWQdzB0a/p1eilHMPaFBeVqVAgwGu994ulPuy8QWUlOIGJgL8xaLsBrAfUuedv0CD3IfC5jvJbp3BL1LZqJpdFgfWAtuXzAuSuUuyzj+krsnqUILAIczopEikcrlRIW1ikHeCq0kQzsg3KaKa51vCieM9oomhyr/nJW9CjqwK5JhH0+KS6qAawof3gpSqnVb70IpSnyuFcqbE3DKc5S3EFK7tIp5SzifK/X0ykt6Qk3STrGKetGlhlqnKopFpSsRzQGgSl1epLXjEdHKTGs8jG0AgEpF7u7o3iRqihKlM8akixGKGLXAN1Zx9MnWxtKlIr+MS6SBOq7oyMpL7QnLDhcxBIwWuu8lfXx7TB8uwo8MIi5MVmMWXDLQ3cy3xC4O8mnJjPlwQXm45PHM862SBssOVo0iiMnqmsr3zRDcJwvEMxTNc+IEQou4Lo1uWaIcvd+Ezb8cO1LfzpeNgwgZR5xC5k2q2/EqugsxjZFz6Jw+fvkNh4jHK1lVPU2XYCiQ6WCCjescXqmxFtxNyWQM/zGTNU3wVhzh7qALThlf1Ri1fSTOC/+WzvSvCM5/lUwM25ZqzkJijhTWl0kOgesehkNNZA6erkrr8iR6zpIEeSFRQ85O/SgEWDgV3g73YiPXKJFqTuTU3q+5wnMOz5HFIBsn+A7f2gx5E8Q5TtCH9PxYobcO8/6HNbOpcQ7NnUJoBrtnzsiMO6ETGZqOwtaVQjYWs47CTgWk46QATuNWSbKqnuUO6UaFwUgPjM8fog+eYuCwzzLwFbHQVtFPSDx6cQwQLk9RbQgWKEhID4kYgB65Uh2PiufujvKpsA++CSUJ9bu+j6Wiw4LdpUnP7ijlEW6XUY/Oc6KyX35Vj/SYaldzY5ZP/MYpgJ9x04/LxUhfF0NND8VqUcj8z4MP8oAZsGlfNU+O9uv0duikT5SDLb8VjQ/PmJlevghud09OLcmtQx0bj0uu6UR0cPwPEwbZhvC0WM8OCdoipEjyTuYQQtsPBghOxONMIwT6mg6Yz8lbVioozlUED9zPX0xOTFKrvf8hBc5P6zTy2Em8Th8wx0Mqbq6OLI90r+vQnY4dF9JkQfQIzhwT1lIhtjCN36gLShgL1M3aOIAhjIA1zYb4/KsSs95NlF4nRckwD827MvHOfuM9zVwwI/sxLOiNWGzegXRvj81xkq9HiXLzDQkK/g4EulLNCUVj7rD6bwzUGWiqDwBIDM+Qkg3ru9yMmTSFlug8bcx3PwMcYgt8DAXGQRsBV0XMOYw6k56BzIvmuvsxs+8PS6xWN1XqTU6LSc5/7iY/oo03tInMmZbCy9V3bEj0XczLpWSnjyUnE0tvJmeIHAzXTKpiU0vu+dUK+vJA1jvZ0MqM0pPj39AIykFxFxPSmn0JxqWBEaRILcmWgX+aj4BbCWXUqr92R4SJL+/TdGPD6kiNZ//4yyFMiGANu87UGhwIN4gkm6DVXkhcwgNoCfodCKaEeUaTnBiI7KXiy8QYUEkn4qEE4KBESX7iSUrVNjSJej0LuksroUmiosMT+qnKiffF1v3MYPBJ2vJR5J6l0gobJy1FdxzwihyEfSjQJgtKWv+YI8Vv4kpJawlm5NfMSpCDarzRi8pK0CEAtud7BMsIDbIaYDY8CwcUGwEVHG+LaqHYkulZX0ut/kJLG9WLi9NnDD9ybrQL1o6qlb+t2Mw5Q5P7rHW6DDKaw5fAbhgMTq9BP+LDcgxoDtaQ6x9IjKDFkNTJGJuMq8OzHxeraoyyzq6MUsI2TIEuQ8XThr5MjuvPZAd5wozV0nytRDQDjN8bO8LmNsCM8vSlooRq+gy3jA0gTQ+wTKPP9AR/cKJMjqVTGQNkUQyrYQhAheM8TFmTjcr1v+PMUDFENeKLh8xouoxO4E8oDA7DdRRqTVgMbT5WO2kfHMxwUJGzjIGXzHdeiNLm7VHMXp0Mio2XSMxgO1vStnm8DBjpVxeNoivMM4LUT0gb18wPAiGvKG+ADAc7HX/qBCTLyss4h7OMhcvTEvkkA+Uji56yOx/AsqYLt9aXhSiDfkuhhlNvQwVSy+Mr68pbkmPL5KwiWJQUMMvnG9u9MB76S/+S8IPj/cBMJK9jTdqEwswur8veYzNBTDPoBrFWsPyLwoklFynQdEvd7ZKUQ/2oC/30eDV99BhL2YdWFIQABQvs1sla5T+ty6gRN8qmMNOLogREeejE9Ute9dvsiPdTi03abL9fSa4LOiSAyEMMhQsHQVlkW4MYivOWNDg7zyhKjrbye1XmNEp/1ieU7Q78yhG6BYUETIaKJAKvt8/3yko+hhwE0RkcyjJUlpSXimvKG/8tTU5wtooAq+RXKiO+Cgid2xUBBYIKSL2pL1fPwkpbg2LRb9I/CjW5wAMlO7gKMRn3QNhqrUol0ReH8CgfShiwuOFlKY1KEpkC8ij6OAnvC4pH9w5fCdJ5ucYpC0JJzRHPhNz9rItOQ5fyft9qi48RvAS6saTLz5Fp8yDjm8wYb1bjfHnOjHkc12mUIT4Mb6cjBvp36cyVB7DlrjYSDN+puK8c6LbM1coMDlsbGA0QHk2Fs/c1DQWSjyKclI8NdMiVS+Qi5Q1OHJ43vTa3zWqPInMe2QaNnS/RchrXkc2zp73iTEdZjZt37Vhrph2NqZz0UkBKJY2kPAiZxqRAjdE9xRhBt9mN1G1Phwz0sE32BHt9c1nPjhf6fCEQCTSOLFTINGTPVk5xNEZy7nL0jkbU3mO1+o9Ory90vYScpk6F3/wEw8h5zotkzi/yncmO9rDUs47U1c7NUDkDvHgeTsPx9fCMq+OO44hSbDncJM7NlkfVdNTijuWbmJvIw1zO02oGwfU+GM7xtHHFoRcGDsccHO46TulOwZRL1hjDNs6bBITEitgiDvzBAHetbgnPKnU9pbh8Lg8RVFMAqlYPD0sCMFOBWyxPQy+HhNgLBc+KHmZ0vuucD6Aple2+wK6PhRMpdFU9fU+6dMPMOgRJD9AypfIkdpDP3NA4zJiPlU/Dng0AFWRWD99gF6C6K1OP2qxqefeqTQ/Ck42C7r+DT/SWvU5cW/XPiKahIT3sJM+wDJVKfjGQT6Rr/Zn4TrhPSQtL8lO6nE9tKOcOZ/48zyLU1IcDdtnPOf9J9sqhc470DHayffmJDuHmKxSh6RuOkKAvHIGCag5CRGikfIt3jisBVr7hFerOFqttihF7oM49LRonC0QTziwWZhWtt4JOKUlnpdxBrc3YFRE673mVTep18j49UbmNk8v17lwRmk2uUNURaKx/TV1G6rV1Kq/NUJTRMaZbnc1bIRlRHubIjW/RwYelpW/NIeaj6a/pUw0oyVNX9LEyzPpN7x9NsQ8M0ijE4fm2J8y1MKeKRbX8jHcO2JXh9I3MYyUHISFGHAwauCTaa0+ly+zzpnVD/CxLj2Mvm8wlr0tSVQo/p4Tuiy1/oUccXaMNAZ55C2/JYAzFSzkOefwoDIxYXJ2fKfALATmo884Rc0xCyePoUxfpTHUNT5zJ9S1KcDAcEPLp5Uov9oziqP1Zic694CwtwMqJpvD78FIgN8kdsoNiPxhhCPCA5BXgjAcIlnZyrcV1aQgVIRcStk5qB8VH92CVaiyIOzglyZRy64hijEhhKYomyKlpcm9IZl5I79tvK/ryEkkhmAWk97BCyVH1m2B/O6/JbP8qtuNoWMmCJnc02fL+SawMaV5YRyCJ9DTad3iLfsn9PiA/MrLZSikM6Xv37vEKI9/kK0X2JYpJsOdQ4XckCqy5Qtg4K16KwOqsTeRjlYs7kr9nr9hJC1dXGX3h67jLeKShx2+T5QusQzX/cdmNi+GOcakaWfKLw3e+4o9oVAwMVJ+xg1jxjBJPICXkRowMfxQEzCHwogx0+z2wJRX1DHgQpUXXdwRMvPHboxywkAy5vmNnIHOYDKdPoaUBgNyMtJDfSgtoXQyKS99hkpAaTIkVREkCIRQMmIcw1DAFicyjr1SQXE/8TGQanSSD4qrMVke0I8Kf1cx6KtmSI5s9TAEmiwhbuCEMGJ3DdSuvQUw4/jML04yeC/zga5qWpTQMFCzr2t/CLswE5a+ycyopDAsFqd1gd+AMLwMzrx2dE0w/9Dfc8l5CzAwS5VW7WO7L/wzsVthLl0vC15eyV2d8C6/Z1Kh0TZ0Ln4C1m7/iuotJZmy+5kA7y3qRktoklJPLl4JW7r77aAuv0i1ftmO4y4OPfWFkiUYL4Ugwbg/3D8viajzzot2Vi+13voZ9uxgL+RNz49EQlsvr0W95FZ1Ry9ZVjYSH5MlL6Yv6WWcNPUu0kcXa0xGti4k9zcuTQFpLk89EsSw/w0uYADwqC87oy3Kpcl91lkqLXZSaaUnS6MsdGVwK5cxDiwmcjz+yj9pK4jSa3ekkLYqO3kZbDmN9SmnJ3oyff8lKdUEd6z2AUgoWayr+5NIYifeMpW0vRlcJ6haTIQqD6Un5rVJZvfr4CfOmG1SQBANKK4O4vqRrCoociludPEpOiia8aVQYW07KPRHSwhXui4opxOfcFxlEihMWhi+SornJzWrKAnCGLAngh6Lu9uGZyfWmb4w/l8SJ43UBWzhrK4mG/cMPVhdOyYxAxjxDQ8xLcIWho4P1ScuuY5rzZbKES+PK9YIa2PsL9iOVNlhNLgww4k4iSkOdjH/UbinQ3olMnpDPgAYWsYy385XPCrcWDMA6Q4/lYzdM5J4tSKVxFI0hhJgdX16uTSrt6Z6fnsSNXM6A1YvqFw1HRjC/R6+lzVz1MfOxgXFNW1UnQgE5eM1NvgK94eL9DW9Jycb+nMhNoUHcM/G95A2ibu8do0W9TbLO8DNXKlWN4iNLpVhfOY3mnQ4WoeNfDiYfIDU7eIDOYhLIV5Cnn05C4jDjVuS5znKdUTOZgxEOg/TeBcrOZI6X43+y82z0TpiexZhs2ACO09hDOXAYyQ75/tVzhAtODukdJQ1lKI+Oz6A4fw1yzQ73sV8rlYFHjva3K3Rh81TO5JzFfqpp0U5HyTApCdXETpH7KHEVP/NOh/w8oedCnw7pblEvlpYHDwrcG/UgP+uPI6Y+65IWDI9M34e8ayBpz1N5siEHE4QPhEJn1tMfGg+JOgBj8jksz7eQ1I4hnrxPkqLYbD6lyA/dHNZn7sBQT/iLoWCRsxSP9NtTPyeYlY/aFzroLqwTD+EGZDB3sQzP/YvSQR3RA0/veA7eG5B1z5yL/dKTtKTPmQwmNZ0HEI+vg92rRO74T30+zJlH5dyPbIhXcz33fQ8GM4vblURaTxFz8eiPRzQO25GD3ixJiY7XVjdZ5lJcDp+7473KJ2pOd/nhQvgnNU4y6JlJIlTPDg0PgaM38UTOLrHAz0p0d43HrU1BDuqmTdhDlqWu9dGN2D1bItIuuU2etYa17wXdjYOMCow+XT4NVtt3zjal4A1z1TZpOIMOzVfbmcXLufzNLD4zteCm580Jqrxg03TOjSKBRg5v1TIM7+o9uq1lUczriYI/J5uuDJgRzRueQwbMu8ObAtgAHAxBjzsVaQ7tDDoMNIPVlfrLw/fcmMRvhMv/YktzFF4Li6mYFGi9SA5LZcaMSPIJTYskimnuXbcJCvPUiiLc4ztLfJscI2ZCJ0yU9VAsN77LywtOT2TZTQwMRS9rgPsVkExKUZTVez1JCnWCQrDU8sEKNqZwUblC9Ymt0WFWN/6mCUtGT7+lD9OJNqrh/d5kvMisC+DfYURiyGY2RZg/wAUIJuUS0kgXt8eVpKzcaF15x8cELb1IVzjICvReBIJE9Eh+F4aE90XsCK0DR1j6DWAI0yXV7Jcc0Ek4k+9S4AT9CRCT4E9/q6YJaSh/1F4NzAm7OiVQqjFtiYDb8zPUxYxJ2WkfeJwaZsn+YNv6tAjBShXZg6y6gv6KJQrgW0XRvMpdOEbPgt/3irNUW2/v8i5KzOyDMxDTIcsQEyQBmh/Ri2XYULMrjf3LXsT4EtFm5kuQYparH8uLi/UaX+cVQKzL1lZ344ClykwIk2LGWVokjAgyLCpZU3sMMyZ9IekQDcxcpxiCotqdDF0BongSiijMXILJ50TNsMxo65ClryW1DEesat6xJTXMUsFjEQn3cwxWJESZvLgsjGqm+jLamSKMbcW9Lcrt1MxEd8wC7t6DzEL4tzToNu6MKJv9rA+fVgwKWcvOBLd5y+W2Pqk+tloL31gLUiKqNsuZEGgXrYeHDDSNIE/wBsUME9WfdUNvP4vxqBnsiwa2S+0Em/66uilL6aCjFkFcGQv8VVYiMJfFC/CAhe4xrS1LnnbiVg8uUguRop9YnsSzi0ogAyzjLBDLY3NyAYwjUAtcG2OLwO3oC1FOhfPjRHyLU5eEQaw3zQuqJq2unDFaS4iF9hoewCRLv3T8Khq+acuKJvZlHYQsi67f4HduxetLkRXAe1ZCZku8BjWGLEGdy5O7Xq30qFGLmitHFPsxQcuX5+crPOvui1DKz4qLAJgLS2LXktlhvQsathXxKoffCzAgjxNcJf0K8oJlxHNHGAreEEnv6XyuipxFiDDRBUIKpt6X+JlAEcpZth+olh6dyi76BFCBZ2ZJ6/zWdDk9K8mNYu1AUkPiiae4/udp4bTJp/hpa+kYQ8noPBkWGjzOieSVkRek7xYJz71B07PQ2gnd4B0eyhwaSfd8bPgQ4BcJxQoQ2RTEEEnhwVAYzXWFSdhGRUGkN3dJmCq/mSm05UmfO5BPVMMQSb32+GAO3bcJShjQJ8zZGkl+6WrB1kzqizcrqFDTU2iLdIIWrdhU4su7FnFIgHNZS93tyj5gJYyMEuFRYz27/AwogKhkGJ+oDG8pc5KRipBMohRKTRaF9MyPpi+OjaxVjO9KaeXWNPMM3UNvRrwkDM0dyhn8RZjjDQwFS1W0AHWNAw5xW+vOxI1IMBpCu4kQDV/VA0NBo9eNat9NWbrHXA12sRNHqMXqTXjI6gjmH4aNuvE3yIg7oA25PfdL2po8TYjSSrMeKyNN1QlzgybMiM4wIXiyDDAqjh3ztu0w+sjOQevnM9RtY85+CqUoAX46jkIVf7rgYM4Omu3hJ0b0Hc6IOXrkK+4qDp85669hm3LOv6tWuu2QuA6xP9zmNWa5DrqkFCVSefbOjqavasQbQA78uhKKIQPXDi7i8hSz5E1OSCdjkvo7AE68BHs/CgdwDoGZJpVrFlvO5dymtk3gRA8Y8XHkafPojwG03Y9GjQnPZwRo4Wk9p49uB/HjP5VBj4l5Rds+2dhPvDLG3XTR60+qOwI9f6N6j5AF2TUvfAZP+0Wj1afRDs/+8gXqa3QTj9tbByl2LNSPzodtyWvXUg/griAnRQGMT8arK+zpX8JP3HGdBqFddQ+ZuwM01OUkT4NY4+FjitAPoJXloXp1d89jrlwEtPDcD0MZquKROPyPP+uan8vwmY8+WsLOBpTzTs6AksXXDMkO7DghK5LwW06NCZNuXVtpzl2Uwrv/bfTOG0DGo5dnPQ3LW8z3BjDoDf0/8PiRRlqN+XXdIlHvCU35NOsu2ZY0zbsl/Z5pWZyNt62EfkQtQI2PSfpTQZ9hDWWQd4RBccCNeAMxAa/37M0tgq9S77dbDRNZoB3ouoWNGs6nOoGc7MzOZjrYA2kQTMyuJpgixnBMi8MQ9TPtjEyPfBIZ3qckzH/zRVqBTTnML9CdszUVi0wku7SaMHSYy9yueKMvaCMLvQkvtp+F6YtcVmX/hw4six2x62ZyA6wKzSPJaYIQJ4q2sH/+7kQpzMbhHeKPvSYMqKqZJWrN5orQYLRewpPpSp2O2y1TIKiKcHz0Tz7bccwO0P9NpQLcSfwpEQNWhJCJp6TryfveQQlKsq9xnvLuCME5I3kIQtgIq4Xg9YwMPYgKrrEQLplgB+CHEemnccWHq86ETc8Lhkfp5i9lL3HFCBdhSiwt1MCIVlwLk4eRuEhxFGa5F1msSLuHdh4HLtyIwELZ9qPjCUk2foBbpZ+yiQ2ZdUqC2hhJb/loPxZceglhNV74kBXYiaNhYa5enjNJm9xdjNlfVUn/SNaXzxoWSg1Lo7Tpc5SKXUa1pwNwj0qoQ3/vfUoGSsr8T4y4rvmKxM2D/j786UsvqRfv8ynVi3w28oglfz4LVQqxTJ1c40u4doxFIiMEi9bfknLbPiILwZZvI5R9vEvKDTNqACeSzDol2b0irCWMAe3MzsF7NMwznifHJKxAjEHQgltBb8iMTgYCeckFzQxhlwMkaECNzECnp9hRyosMfFkWsbzaxIxeqmGFtzA6TAowOeC/TyzMP2yRKult24w6FbcWC81GjBCQEYTe+W3L/tEcDovSUcvh6mdVvg/yC7NxhTtIv06LjGiYLBQ0aUv8uK7PKV1eC+A+XuiGYRTL27Hq+aw5S8vwmTU3j3T+y5OSTyjg/S5LjOYtEDd32ku/Ps/kfmQCy5ZLbBl5GKfLXn6jhrSrCQt9eDAZsP0mCyIHox7xS2OLMzO9C0cde4s/IdZ30h2QC1ysTw6kQSDLd4SsIjYerctJjAHC/z63i0D0T5Vudf1LSn2xHhKdQAub/V/pImB+i1OKo/ves/mLcc5hpKU+sQtTQF1H66elC2z7kASz6hVLYqyHqCBUAgttlXRh5YrrSwTVG/sNrNCLIEY/u+Gn8krfNhXAb7CQiszOnQfHFytKnx4uJlFjQgqADsBexnxVSnjH7ud2PSUKElMpm7zY8Un+s5diINV5yZRrrWY2KP7JeNqlrRyo7QlHL4WOPrp/iVJ2bdj59c4JjSF1sBNVmUmK5gLFNaVgyYFeT/TgTaTJo6m396eJJQmwkiLaNeRhiY5wUTs2wZrJuGmps5TS0EmeRqa/XSnByaC57O1yEnBJZA5XR0IAmslPVn/S8mLBiUNHlOlZh2UJDQciWQaLSEshZv3aQr/Fy2pSzOX7ekBLtrZOWZsldwu5yDEnARfqC/BhfwZAzVmMDqgyLMYoBUxR8lZUXeBtjGss0WL9AdJMhbvKA+iwM0yPEncR6TlQjO+SfumXqepM2PueeEMnAI0A6fr1KnaTDSbcXBy8eeHNIw7CRbQKrU0g5UtM2YJ1DTcm3L+KgnmNGn0z9jCAzA1FRuSSvquoTX9hdlVcLcINmlkLQszRI82eiYqVSPxMDepFeue/grGN6dmkpXwt044cE/27TDgxji7ByjIqTQyOUDCGxwR+I45hRkS0lMm3Dmb08F0UVgbOvLwVLhkY0w6X3pUfgB/bzqltuzZU6yCOk8cf0GpD4g6ix3/HK6VmDp3qCpoWJ9hN/uWZGz2CUo4cCfRtHjQJDnsqQFqkAHyOWP+GKGx27A6dM3OAiAUYTu43PuywbYCPEg3WfNPKpY8izHsVfRaHD2tmxipPJKTPdFZ8g3dH/09CgaVInFWVz4pM0YAox6kPhTTecfzpOI+4M40WSaOEj/XxWgnTtEzPzz1A27zskY/AZSYwNjdSz/KC4I/GlNCPyBsFUWZzik/eRKmreJzAz/0mBw+/WHPPmmHL4prFYs+yeFoeHMAOT6Ed3NFAK/YPQ/GEIUrD2o9s+V5f3xq7Tz6wq8ACsBhPPVH5zWO5sY7JsD53GaVHzv30wlw10dnOkoIwn+vV6I55Zl1hMzkzjipu3mp89brN7kuB+pqjis3LnXorF/e8jaIl5eldW2vNq5cd8S8+Fs270uxwiyb+jXRgEopHQyLNeSzm+RZfA01Ac0t8pBghTSuvveOllspNOSi22K+3+Ez5zvvVx9ejDNwoKD9VxMoM3izM6w+1rUykrdpmMoqNTJIwuFvd+2lMRdX12anRggxXCmZmeu4XDDQ0iqyriiiL4HsvXzXidguQI8KGfu3AS47dgSXt1gbLbow2BOGjSYsMG+wG5TgIyujbs3ABLkSKt6pAHTL2PIoEVUoIAgPjzIA3E6pvsiBMU/BNh1W0g0q9kMyx+N4LzC+0dWh9k3sL3QhHYLV2tcmEd7ouZVKqSX5xq/dF6hsJMFcgMinWSEj/Fyzze9zxiEwRHMPbw1fIGtaIYq58uYe4BHpzebbZR0vWjefmBJHHpFNPppnCkMfVDo3tfTKMCDqLrIR2qcPIc+z1Afz4t8hFgZEsLEpoSJGP8rYv75TI7xYOo7KRvgj43L1tAXmjyQw5CZQhmUWJTbaT1E2zpAlKFSuzDZS+yV6tzetE0avJibGGem3KbUn9SO68yBVryi0WGyPx8mYKeis3BpF9XQqTJelCuvvQiti+BJOZ0kCLOWNJEEw37IsrMERzU3QVC21iyxpT4joLSTaa/b65m4uvrMSONfM5C5bOsJSuuxNL7/06fJBAacveTnrqXjm8i/tw1AWR5gwMG+dFuKvJF8wYbwvZBg7fzBwcFMMM7yQMKsHYqzZKpMwmDekTRt2hzDP1ggltLBuMKRfjiHNc0UwtCgjmnoGEDCDRbB/W5bJL6f3Mwaz1HUvnDFLddDnEy9z1fLlnmWjLlgwkfEwMyQuEtP44UF7li2M4v7+Wr36LD2iptRtr7suwbuKYl8opS4tGwieskeBLkmgPXtbKk4uU69kSnMjDC5zyqGbEA28LcVMGFec4l0teBOwex4F8Sz9jK0Lo7N0LG0aNjxpBOsrIK36Cw5+1ysTIGQLQbA3LMoeKilgm4ksy3rj9R6VzSxZIe6k+UICLcjHvzJgGCgtb/BBFwD9QC064udv1JlJLT82UTN/nUQtAR8NxrG9MS2+9yQkAVEQLUMtC0qHCeAsWoG+B4PYoCztB2qrJulSLCysE0/3r/YrqYxpXpMWjSsQxY81t+0TK4UnOKm6Lo0qZz/dSLTV9ikURqVuaRhTKb0eOoO8EKEoge6ubYtM4CcrzEL79KIQJ/ECInTZJTImEMu01wA8RSVrcBIuDPHbJKWNtNOs5CQlpa+HDpvKYCVXimUYSNiMJeFwQ/xneqollCFD0ef5uSXEh+sgOzy7Jfru7vKchK4lHjK/nvxFkiVg+DqmJGNnJZM5wFZT/S8leJRiDLFh5yRSe3I+t0OSJJ+5h4/pfi4kgXFpjm01uyPOA5zhezmTK7NILo6i24osTso90dMMdC382crkEf5PLimuk+UORxsvNgyv2Pva2C9uAZIfTzSIMJv2mSqOMCkxl1gWZyQEvDH86h4ke6ZAMooMyjSPJrUyxeUyXJG2HDM+smMYMdR0MyP6TZjIJcAznQADccjB+jN0eGEPDLEnNMSmCGsnb0Y0MVmhicm4WjT3vIJ1l9OxNFg3npaHPSQ1OIiLHABIkjVJKeZa4yssNv7UGo2ilNA2Lzmsm4ibZTekFkh61RzuN+0Q7z2wbGY4EfgRfL3Y0TiOl+tDs1suOVoVBiIymHs54cmV7z/OujlVaamzDtTrOSrAw+P43w46CxqUZAhVIjrSYPPHwjEnOrEhhUgieVU2JpIqxCaFTjfh6zvQS3g3OAUOSeqkhhM5wjo+oC+R4Tlk8vQfmxShOsh+eory7lE7YOy4hU1Q9DtVoOtf1syIPIXJOO/mTBA9PObLW6wMhz38QphlooPxPbVYS/HVlEw+QRhpESoGmT4ItyquhH7XPoVJEoHSowc/KKjA5vN6KT+y9eufT2g9Py3v0xQnKkI/KfjMvF0DOD/6rmZYG/sgP0UCvRY3sPk+uk/p9LDHxD5iUB5UjfmBPjJkCUHRnzA+wGsv+RRw0D31uOOaH2BhPa3jHd4mouM8W4KJR7e2Vzxajekba52+O77eBZ9vHxU7QYEdXT4nXzrVuHVt0Y2YOd/WAGIFr8Q44Qv19Sef4jcq15V+AdryNuc7XzJ9XHc2WlWYCVBlMzYBPH0/TEPhNauvybKPa4A1S9xNzSSxEDWefzDAIymSNO2mso/5VQc0GEOEHM+pnDN1D3XaLuhSM2ffI5kP+v0yeGhQ79xwmTLhWOpMQxMnMir16SIWXqYxC6flLs0rFzEG8WTpFKd5MGooNPHlWc4vM/JmJU4wEy/WCkpmFO5JLsMr8GU2uXItrc2pzrjljCwboP5179SXK1eED8UlAZUqMLUbnNPIgynD4SufZ+pjKOcpR+3NbDUnXu3/leDqZSr2rUyZWdBxKdBEr01T8m4oy3u6uGbviS+8if0ezX88JnxMRbQmNw4lZAOO/DEe0SODuJzka7qEItcnMlQH0yohfRyQlZKMwh+eIK9ogGpLHu4kik2WBMYcpmmgVhsMch0G5pT0dsltHgJ52io9RVofPzc7ucnCOCD8P2uDA/EIISjR70Jy2coh4PSDC5jjfiJeT17dLP0iIy4z4dhq87gjQGUPM7uEQSSLMI3thEq6JBgq2nFkLScliBg+9bPLBSaF+WCE6xgOJ4aERJq+RwYo+C6YpGug8SiHS1E6Yc7NKeuP+sSc7poqI90WdMwBWitoswbg0dYKLAsturTOma0sCx8Jq91xQS1FwqpMa/nFLdsDpNPhlD0u3/DvkndHpS642jrUylsAL0FBmGYt4Uov8axE0tCZhy8N0v5UTCW2LwRtd4E7NdYvjD0rIufM5y++mwytbELrLyN1r+rhruAvq/tJ1dLSxS+vkE2FVIKeLw3pEK92ymYvajRGzuQxIi/kEXv3IgzPLv2SQ1QqT2wul9PEsQGW+y2wl89nXbp8LTaSmBkD+e8skUlo96kDUyxLwCqW42YOLs96RsAe6vUtc+a1RPn7zy3zR+pLAOybLTB7SWiPClotHyZcStf1CS3BYcHXY6irLEhcjmy9fj8sTHr8E7/QxCs/CwBjbfo4KyPw0N+yOx8rJh+04pJ0fyuq9UVmXADRK7jZXJUUpBMs/Kstz8g/SCxcPF6U1f5vLGULxzPujoYsS97kqVX/kCwi2GGv21+LLNoIkN/NjncsQz+lloqqVSzsMElSoUslLADKGnB6XuYr9tc//XEcmStVexVOQSA+Kw1j4O0PUNMq7o8KTnF2WirxDfw/GWDTKQ1DdeBdUj4pWtNhozNbmSiD+k0wI6nmJzIHRYmepCUn8cTcMF0XVibV97DXFBl4JaSD6YndHYwkZeNkK4M7ACQt5Zt2kRxIJMNi09sIYYMka+vBjFqlsCTa+1ss3Y/OJA3VpjL4+90k+GxcJXhw3yRlZSbBh53RJBbMsu2pGLUkRLKfuG0AiyQnlwdEuHdSJOjPF2x3/wok+99rPCgXtSPeT9XtoptRI0FvVo7wa98ieLL4XEleAivbHhPnZqn5Kyi8LZI3KOMs1LZYHkuRvi3gZe1oChCKLmYn5mqVv0cvdht5HFUg9y+h4wcOWBGYMBrzO/2zxCoxjeROFUXRrzGNkWKqZjUkMoHg6osub4syV6fJtLPm4zIOFYHLVtsuM0rvFpKzkGkz8ePC5u6iljMPATJLVHO1M4Fq1vmJh80zFXsvuYMhMTRfceE59BGkNLIh8UBs4h812CMqZwP5xjVx8F+MnbxrNkQ+MYbcFAI30bsE4ugyiTesc1jQ88MCOCXDM3Fu3m04EU7rv4RnyThxV7XcdhcXOaMOmMB4blY5kf86F49JhzmByYH729ipOXH+aWBypMA5FMH6SNdgOTVNMu3MW1ZBNpSAKiCqnDk3IWoGZuRwJDguaUQW+ZwBOQg2yEDBXtA5V7PurjtlkDrpL8AHea1BO/SiLJDbf+Q7WE9CYkmLeTx4pskKeRYBPSaOAylSh3g91EaTAk/g4j0142dmQyI/PrzgXJV8gIs+hFkKeOUCyj7Wa8zsCVX6Pu5kvOg8hhw/25EVSCqHMD+6l16Bpnw0P+/1oQZLKCs/zg4AOk0/Ez/uvmKtfCvtPju/CBybobc+YM6G9zh3dD5g8SukTvIiPsklBPCzv8I9vN0FmsDUUz1dDICPdWvWPN87X+oxF0s8oR2ri0V+sTt6lwelSiUIOw5FLxBQz1E6Y5MWKU0UjDl9DHHbJKi3OJk0AP4BTdU3uBw1QVyB5Da+sdDgMYoBNg0vU/k2cLQ10+VSrIcwYjVoAaszNk0BNZwAmNN5lpE00FRzDHseEzSjieLddDaHM86Ty3a0yg0z4HGJA5wYwTLX4AqtwAprMg8ZKZgL8wYyaXKwFsDQlDEjm70iUS0UMbbZM8Pi5oQwSwxKkvMj5y95oxAm+WA7L6KJ6jU7T4EuDSX3Fv9jty29pqgzzePgLNjYEbw+EforeO4hvHR/BSsOgpzpjPICKsC9e9vQ2PEobpCAChv30Sc+GWAJqlOjJt+r7OtOWsYpKxNK7+oq0ihLR5lNqY/PJ+Oeu7E7TL0mUAQNzbEQnSUdVcQWxdBuJL4sR5A5dTEjvPE5V84j5SFjX4kUaFuLILjled3g6iIf7HMXROP1qx112ZFE/RwmHN2LA3ruGZgczEd1urjjkx0uCtgNnoqBHnMuCvOSiGAfV2nsrXCnMCC3gtlPlO3xIHClz00boKQh/vQT8N1bSSIIe8mNC6ngIua08fUkZWcj3sPnJQyP4SOJ4wQNJ0BYJP9vg5skY1olUx6gkhdFYiZ+dacbqAxbJ86WnwhTZkUo3w3BMtkXIik/0jayN1nwKV9gUSvukq8qGwl6W8ZKYCvd8UGC7/cBLNyzfPbNLZUsveocvJCtGi14ZOoe8vSRLVaNBpqF1fkthoPZQjXcUy6yi9jnD1GgLhXbXO8Xp9wudP6XP9biCi81zmuWLvYqLwAT9Lcd5Twvk+QXBBiMQC/jGU2FFUE0L30bcE+1fhovAjjZTBWF8i6pKttTW6u7LhNUrtXvFnYuWn4xR7zYIi4fPN8QOi/BLdni0pbUvlAt6yHOwkxw0SxgKr19hmhDLGCjUfibFacr0zbdnFMBji2QHhEgYmRCLVwzSg3SkBkt2zIGF6gP5izBPoPCypKkLInBGdNsglQsyI2u9rTZ9Stj6zxdieSIK3o7idVkzA4rN3IA+iC4gyroAqyHfrthKnl5yQUA1MEq6/zaFp9FEyu4/h9rlUNWK/KfDH/WfIsr/uDC1lwisitfxFcQLZLJK9WHz0N1RNMrjchoD8MHzysYS3TKOLS6K8p0WxBJj5gry/O64bIjaCvX8eDEQFspK5JvYdf3dtwqqDisox0TgSoYxyNFWOQVKlt6AnIs/50pf+zj24X2FSkCCJ6OhC+BKIPXUxEbvtwnteAhCuKvKSduX7uKkohoJgGxdjKkCpklRA9jePVQuyRQYADe09nPIwx7LvU/eyAj8aIL76nBZyNHiJwAPxijIysDJC4QZ9Aj4ZRdW+sd7iOLZlQxloz9I2mXRoEa/P4jE+MWg5Bc8SOczGbcIsvUI2UED1iMnaoj/4L1nVM0ciPaGou/SJ0qI/MqO2u4ytQiwoNwewlccSLgodt20/r+IWL+g3C29m0q+gW3Yj7uZCvor8DMHUBPLNl5kjSY7igtoXakpfVB9S3W9H3jul6zLt8iocXW3GIvennlrWqhAzCPKV59UNWVMJXHfziU8xkx29znTJ17kDFZ20PzXGD2MWjNvLRsO1AyRgpnJf0qmTLUmGHgGNrUMr9EpQWWdgIzAAn2aIKFITNiOcPT7bY+M/2P6VntSawz+io4SQfSITQp/O5HxrOwNH7vg444SWA1OJ/xYq7PAza2poL6T9WZNieOmVJCACI3B8Q8UnLPmjdwsg8zSlYFOHE5JEHXJWI4k61E8eZ+sDitbI1NLgbwOCttGoYIoyA5ZuZUnCjgQjkDZsrOVOJVOR80hbWu/iI1sqRiTN7cKjYlWQgIHHwkNwDXRsKG1BA4b3GJjkPE7Tj5eJLJgU68Oav+yknN63w6AJOjdt24Lzt9lmgY26nSO3pTHh2Ai2c85wodlAXU7zyK/PotmwpnPft87OrX29E96bAZ+zWhLT6eujXO40x6PhsquOVQ+bg+keg2HD9d6T7Ti3s8gIwLP+WeCUWc/h8/M2W6MjHdIz8OxAGzkl4aP9cedLzntQI/ekRDRh5i3D4cQ/xf/AKnPhln7yYG8WM+5PBvPHR4Ej7gdei2CEmyPROE1crfWEM9TfYZ4ungxTy5J5DkQXE6PK3+zAnkE6E7xIp3HlGT9zqR3VsVKGRBOk5uZpgDbHs5AIRzbs8apzgqlQeIE87EN12UGRKEBdQ2bPTy2bPv1DUMOEDEOY8yNX+lgUh5XOA0osQ6Gv8ffzS1KVRDwaMPNLqKwhbfMJEzih1Nr4ZZBDMufdszdgV+MmBlQOUGeioy3ghy01PT1DGPvMRiH6xxMdysjI9wBwAxWw/GXCwTfzB9+2c0fBjwL+Eo1DfH0VEvI6iFck4VpS5HGmslmajqLRl5J7IYAyItHMHN7yQDSiyaowHXxhJkK4tIVQ75jXAqb2RdsGUubSnl3fx4fnxbKAefQcskqzsnnQP8ovbDDSYm28t3VBzRJMhjpBG8BCswSs8Vrz16Kyd3ErpUB39CLmeLDRPzTfkk2DpVfAzUyiNwbFxU6WWOIsU0Q76TZ0IhO3Pg6T3R5x8Yj6s1Q3iAHoWCih+8VwgdAF+1Ekg6gxttNzEx1nm7G0+njEOorLYcZ/l/J2P/ox08P/uLNtmCHs/xeapm/FIfteDhrTRwFCC7weZ0a4PHIN3Ns1jZ6GwhDMYVEjv+AiJDt8g5vauKIgvbo07vCwQjT1xBa1wZmSNZZ8k/PlarJPRigV1G77IliqVNC58IrCak1E1vqS2WJyLan7RiwHIoQO442oDxQCl6mD8xhVwAKub35vqI4rAqairBv0+fUiuUI0fiFfPlK9ngK+YRpmssbHDZgjac4ix1Ig9UKsZKLQR5i3s0laQtgHkoGA3p8C26eIQT/rEtLngonqJH3VsujwhQLFTxey6cVxyZRfKNLoZMMBU7JpEu0N4TZsD9hC6Il4gAgnVrLkmBW1OYMUMuHuq6jBitDC50KAlgs+TGLW1ZeoVKiHMtQSQDtkzPES2u8wZE0FqhLJmHHI+9EiIsBFHhIVAdlCtzC2nGo+z3KsjWR2+aTZssj3iQEuv3lSwYgL+AowphLOH4D9NAxy0sEV4O7wXA6ysStSRp8qmbKxjiBAz6eD0rwBZ3ix/K0CrlekKkfGpUKoWAzeeHlcopTMB4fCEzoSlSc/4Fa0ABKt1mrFAWplIqji4k+EeLlSrrhPsvS5nKKvscwR4/jPEqHfGren++CCugywgf9qQSK4+G0S/kBg4rb+wiMSrX+SqQvNmW+sPXKu/o1QPfW6cqWYwO11mJaCoUfvbwVYsbKhX59VDFhcApURaRNh8vVSkGtRLZ2wbdKIPXqlK2QFUoCwbfHkGhwCcSAG9JLNAbJ+3bE4o+22gm6Cw9o3u9pyV2sBeTWDvYJI/c1vvUbvojDM2FKfzQDiOd+NjzM30/IiG/tSzP+4MivfnumiUQwCL7j/EyJpnrIgdVY26FVgkj84ySY5XcGCPYFV8rJRIaIw788Q7HNw0jnu5HEWR/8SLs5Duq2WXGIuU2LHMOpI4i9X7uIDBmRiItgFZ86n/xIbylT+kUOY0h5jRUpa0TGiE=",
          "dtype": "f8",
          "shape": "200, 200"
         }
        },
        {
         "marker": {
          "color": {
           "bdata": "AQAAAAEAAAABAAAAAQAAAAEAAAABAAAAAQAAAAEAAAABAAAAAQAAAAEAAAABAAAAAQAAAAEAAAABAAAAAQAAAAEAAAABAAAAAQAAAAAAAAAAAAAAAAAAAAEAAAABAAAAAQAAAAEAAAABAAAAAQAAAAEAAAABAAAAAQAAAAEAAAABAAAAAQAAAAEAAAABAAAAAQAAAAAAAAABAAAAAQAAAAEAAAABAAAAAQAAAAEAAAABAAAAAQAAAAAAAAABAAAAAAAAAAAAAAAAAAAAAAAAAAAAAAABAAAAAQAAAAAAAAABAAAAAQAAAAAAAAAAAAAAAAAAAAAAAAABAAAAAAAAAAEAAAABAAAAAAAAAAAAAAAAAAAAAAAAAAEAAAAAAAAAAQAAAAEAAAAAAAAAAQAAAAAAAAABAAAAAQAAAAAAAAAAAAAAAAAAAAEAAAABAAAAAAAAAAEAAAABAAAAAQAAAAAAAAAAAAAAAAAAAAEAAAAAAAAAAAAAAAEAAAABAAAAAAAAAAAAAAAAAAAAAQAAAAEAAAAAAAAAAAAAAAAAAAAAAAAAAQAAAAAAAAAAAAAAAQAAAAAAAAAAAAAAAAAAAAAAAAAAAAAAAAAAAAAAAAAAAAAAAQAAAAEAAAABAAAAAAAAAAEAAAABAAAAAAAAAAAAAAAAAAAAAQAAAAEAAAAAAAAAAQAAAAAAAAABAAAAAQAAAAAAAAABAAAAAQAAAAAAAAAAAAAAAQAAAAAAAAAAAAAAAQAAAAAAAAAAAAAAAAAAAAAAAAABAAAAAAAAAAAAAAAAAAAAAAAAAAAAAAAAAAAAAAAAAAAAAAAAAAAAAQAAAAAAAAAAAAAAAAAAAAAAAAABAAAAAQAAAAAAAAABAAAAAAAAAAAAAAABAAAAAQAAAAAAAAAAAAAAAQAAAAEAAAAAAAAAAAAAAAAAAAAAAAAAAQAAAAAAAAAAAAAAAQAAAAEAAAABAAAAAAAAAAEAAAAAAAAAAQAAAAAAAAAAAAAAAAAAAAEAAAAAAAAAAAAAAAEAAAABAAAAAAAAAAEAAAABAAAAAQAAAAEAAAAAAAAAAQAAAAEAAAABAAAAAAAAAAEAAAAAAAAAAQAAAAAAAAAAAAAAAQAAAAAAAAABAAAAAQAAAAEAAAABAAAAAAAAAAAAAAABAAAAAQAAAAAAAAAAAAAAAAAAAAEAAAAAAAAAAAAAAAAAAAAAAAAAAAAAAAEAAAABAAAAAAAAAAAAAAABAAAAAAAAAAAAAAABAAAAAQAAAAAAAAABAAAAAAAAAAAAAAAAAAAAAAAAAAEAAAAAAAAAAAAAAAAAAAAAAAAAAAAAAAEAAAAAAAAAAQAAAAEAAAABAAAAAQAAAAEAAAABAAAAAQAAAAEAAAABAAAAAQAAAAEAAAABAAAAAQAAAAEAAAAAAAAAAAAAAAAAAAAAAAAAAAAAAAAAAAABAAAAAAAAAAEAAAAAAAAAAAAAAAEAAAAAAAAAAAAAAAEAAAAAAAAAAQAAAAEAAAAAAAAAAAAAAAAAAAAAAAAAAAAAAAAAAAAAAAAAAAAAAAAAAAAAAAAAAAAAAAAAAAAAAAAAAQAAAAAAAAAAAAAAAQAAAAAAAAABAAAAAAAAAAAAAAAAAAAAAAAAAAAAAAAAAAAAAAAAAAAAAAAAAAAAAAAAAAAAAAAAAAAAAAAAAAAAAAABAAAAAAAAAAAAAAAAAAAAAQAAAAAAAAABAAAAAAAAAAAAAAAAAAAAAAAAAAEAAAABAAAAAQAAAAAAAAAAAAAAAAAAAAAAAAABAAAAAAAAAAEAAAAAAAAAAQAAAAAAAAAAAAAAAAAAAAEAAAAAAAAAAAAAAAAAAAAAAAAAAAAAAAAAAAAAAAAAAQAAAAEAAAABAAAAAAAAAAAAAAAAAAAAAAAAAAAAAAAAAAAAAAAAAAAAAAAAAAAAAAAAAAAAAAABAAAAAQAAAAAAAAABAAAAAQAAAAEAAAAAAAAAAQAAAAEAAAAAAAAAAAAAAAAAAAAAAAAAAAAAAAEAAAAAAAAAAAAAAAAAAAAAAAAAAAAAAAEAAAAAAAAAAAAAAAAAAAABAAAAAAAAAAAAAAABAAAAAQAAAAAAAAAAAAAAAAAAAAAAAAAAAAAAAAAAAAEAAAAAAAAAAAAAAAAAAAAAAAAAAAAAAAAAAAAAAAAAAQAAAAAAAAAAAAAAAAAAAAAAAAAAAAAAAQAAAAAAAAAAAAAAAQAAAAAAAAAAAAAAAAAAAAAAAAAAAAAAAAAAAAAAAAAAAAAAAAAAAAAAAAAAAAAAAAAAAAEAAAAAAAAAAQAAAAEAAAAAAAAAAQAAAAAAAAAAAAAAAAAAAAAAAAAAAAAAAQAAAAAAAAAAAAAAAQAAAAAAAAABAAAAAAAAAAAAAAABAAAAAAAAAAEAAAAAAAAAAAAAAAAAAAAAAAAAAAAAAAAAAAAAAAAAAAAAAAEAAAABAAAAAAAAAAAAAAAAAAAAAAAAAAAAAAAAAAAAAQAAAAAAAAAAAAAAAAAAAAAAAAAAAAAAAAAAAAAAAAAAAAAAAAAAAAAAAAABAAAAAAAAAAAAAAAAAAAAAAAAAAAAAAAAAAAAAAAAAAEAAAAAAAAAAQAAAAAAAAAAAAAAAQAAAAAAAAAAAAAAAAAAAAAAAAAAAAAAAQAAAAEAAAAAAAAAAQAAAAAAAAABAAAAAAAAAAAAAAAAAAAAAAAAAAAAAAABAAAAAAAAAAAAAAABAAAAAAAAAAEAAAAAAAAAAQAAAAEAAAAAAAAAAAAAAAAAAAABAAAAAAAAAAAAAAAAAAAAAAAAAAAAAAAAAAAAAAAAAAAAAAAAAAAAAAAAAAAAAAABAAAAAAAAAAEAAAABAAAAAAAAAAAAAAAAAAAAAAAAAAAAAAAAAAAAAAAAAAAAAAAAAAAAAAAAAAAAAAAAAAAAAAAAAAAAAAAAAAAAAAAAAAAAAAAAAAAAAAAAAAAAAAAAAAAAAAAAAAAAAAAAAAAAAAAAAAEAAAABAAAAAQAAAAEAAAABAAAAAQAAAAAAAAA=",
           "dtype": "i4"
          },
          "opacity": 0.6,
          "showscale": false,
          "size": 5
         },
         "mode": "markers",
         "type": "scatter",
         "x": {
          "bdata": "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",
          "dtype": "f4"
         },
         "y": {
          "bdata": "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",
          "dtype": "f4"
         }
        }
       ],
       "layout": {
        "height": 600,
        "template": {
         "data": {
          "bar": [
           {
            "error_x": {
             "color": "#2a3f5f"
            },
            "error_y": {
             "color": "#2a3f5f"
            },
            "marker": {
             "line": {
              "color": "#E5ECF6",
              "width": 0.5
             },
             "pattern": {
              "fillmode": "overlay",
              "size": 10,
              "solidity": 0.2
             }
            },
            "type": "bar"
           }
          ],
          "barpolar": [
           {
            "marker": {
             "line": {
              "color": "#E5ECF6",
              "width": 0.5
             },
             "pattern": {
              "fillmode": "overlay",
              "size": 10,
              "solidity": 0.2
             }
            },
            "type": "barpolar"
           }
          ],
          "carpet": [
           {
            "aaxis": {
             "endlinecolor": "#2a3f5f",
             "gridcolor": "white",
             "linecolor": "white",
             "minorgridcolor": "white",
             "startlinecolor": "#2a3f5f"
            },
            "baxis": {
             "endlinecolor": "#2a3f5f",
             "gridcolor": "white",
             "linecolor": "white",
             "minorgridcolor": "white",
             "startlinecolor": "#2a3f5f"
            },
            "type": "carpet"
           }
          ],
          "choropleth": [
           {
            "colorbar": {
             "outlinewidth": 0,
             "ticks": ""
            },
            "type": "choropleth"
           }
          ],
          "contour": [
           {
            "colorbar": {
             "outlinewidth": 0,
             "ticks": ""
            },
            "colorscale": [
             [
              0,
              "#0d0887"
             ],
             [
              0.1111111111111111,
              "#46039f"
             ],
             [
              0.2222222222222222,
              "#7201a8"
             ],
             [
              0.3333333333333333,
              "#9c179e"
             ],
             [
              0.4444444444444444,
              "#bd3786"
             ],
             [
              0.5555555555555556,
              "#d8576b"
             ],
             [
              0.6666666666666666,
              "#ed7953"
             ],
             [
              0.7777777777777778,
              "#fb9f3a"
             ],
             [
              0.8888888888888888,
              "#fdca26"
             ],
             [
              1,
              "#f0f921"
             ]
            ],
            "type": "contour"
           }
          ],
          "contourcarpet": [
           {
            "colorbar": {
             "outlinewidth": 0,
             "ticks": ""
            },
            "type": "contourcarpet"
           }
          ],
          "heatmap": [
           {
            "colorbar": {
             "outlinewidth": 0,
             "ticks": ""
            },
            "colorscale": [
             [
              0,
              "#0d0887"
             ],
             [
              0.1111111111111111,
              "#46039f"
             ],
             [
              0.2222222222222222,
              "#7201a8"
             ],
             [
              0.3333333333333333,
              "#9c179e"
             ],
             [
              0.4444444444444444,
              "#bd3786"
             ],
             [
              0.5555555555555556,
              "#d8576b"
             ],
             [
              0.6666666666666666,
              "#ed7953"
             ],
             [
              0.7777777777777778,
              "#fb9f3a"
             ],
             [
              0.8888888888888888,
              "#fdca26"
             ],
             [
              1,
              "#f0f921"
             ]
            ],
            "type": "heatmap"
           }
          ],
          "histogram": [
           {
            "marker": {
             "pattern": {
              "fillmode": "overlay",
              "size": 10,
              "solidity": 0.2
             }
            },
            "type": "histogram"
           }
          ],
          "histogram2d": [
           {
            "colorbar": {
             "outlinewidth": 0,
             "ticks": ""
            },
            "colorscale": [
             [
              0,
              "#0d0887"
             ],
             [
              0.1111111111111111,
              "#46039f"
             ],
             [
              0.2222222222222222,
              "#7201a8"
             ],
             [
              0.3333333333333333,
              "#9c179e"
             ],
             [
              0.4444444444444444,
              "#bd3786"
             ],
             [
              0.5555555555555556,
              "#d8576b"
             ],
             [
              0.6666666666666666,
              "#ed7953"
             ],
             [
              0.7777777777777778,
              "#fb9f3a"
             ],
             [
              0.8888888888888888,
              "#fdca26"
             ],
             [
              1,
              "#f0f921"
             ]
            ],
            "type": "histogram2d"
           }
          ],
          "histogram2dcontour": [
           {
            "colorbar": {
             "outlinewidth": 0,
             "ticks": ""
            },
            "colorscale": [
             [
              0,
              "#0d0887"
             ],
             [
              0.1111111111111111,
              "#46039f"
             ],
             [
              0.2222222222222222,
              "#7201a8"
             ],
             [
              0.3333333333333333,
              "#9c179e"
             ],
             [
              0.4444444444444444,
              "#bd3786"
             ],
             [
              0.5555555555555556,
              "#d8576b"
             ],
             [
              0.6666666666666666,
              "#ed7953"
             ],
             [
              0.7777777777777778,
              "#fb9f3a"
             ],
             [
              0.8888888888888888,
              "#fdca26"
             ],
             [
              1,
              "#f0f921"
             ]
            ],
            "type": "histogram2dcontour"
           }
          ],
          "mesh3d": [
           {
            "colorbar": {
             "outlinewidth": 0,
             "ticks": ""
            },
            "type": "mesh3d"
           }
          ],
          "parcoords": [
           {
            "line": {
             "colorbar": {
              "outlinewidth": 0,
              "ticks": ""
             }
            },
            "type": "parcoords"
           }
          ],
          "pie": [
           {
            "automargin": true,
            "type": "pie"
           }
          ],
          "scatter": [
           {
            "fillpattern": {
             "fillmode": "overlay",
             "size": 10,
             "solidity": 0.2
            },
            "type": "scatter"
           }
          ],
          "scatter3d": [
           {
            "line": {
             "colorbar": {
              "outlinewidth": 0,
              "ticks": ""
             }
            },
            "marker": {
             "colorbar": {
              "outlinewidth": 0,
              "ticks": ""
             }
            },
            "type": "scatter3d"
           }
          ],
          "scattercarpet": [
           {
            "marker": {
             "colorbar": {
              "outlinewidth": 0,
              "ticks": ""
             }
            },
            "type": "scattercarpet"
           }
          ],
          "scattergeo": [
           {
            "marker": {
             "colorbar": {
              "outlinewidth": 0,
              "ticks": ""
             }
            },
            "type": "scattergeo"
           }
          ],
          "scattergl": [
           {
            "marker": {
             "colorbar": {
              "outlinewidth": 0,
              "ticks": ""
             }
            },
            "type": "scattergl"
           }
          ],
          "scattermap": [
           {
            "marker": {
             "colorbar": {
              "outlinewidth": 0,
              "ticks": ""
             }
            },
            "type": "scattermap"
           }
          ],
          "scattermapbox": [
           {
            "marker": {
             "colorbar": {
              "outlinewidth": 0,
              "ticks": ""
             }
            },
            "type": "scattermapbox"
           }
          ],
          "scatterpolar": [
           {
            "marker": {
             "colorbar": {
              "outlinewidth": 0,
              "ticks": ""
             }
            },
            "type": "scatterpolar"
           }
          ],
          "scatterpolargl": [
           {
            "marker": {
             "colorbar": {
              "outlinewidth": 0,
              "ticks": ""
             }
            },
            "type": "scatterpolargl"
           }
          ],
          "scatterternary": [
           {
            "marker": {
             "colorbar": {
              "outlinewidth": 0,
              "ticks": ""
             }
            },
            "type": "scatterternary"
           }
          ],
          "surface": [
           {
            "colorbar": {
             "outlinewidth": 0,
             "ticks": ""
            },
            "colorscale": [
             [
              0,
              "#0d0887"
             ],
             [
              0.1111111111111111,
              "#46039f"
             ],
             [
              0.2222222222222222,
              "#7201a8"
             ],
             [
              0.3333333333333333,
              "#9c179e"
             ],
             [
              0.4444444444444444,
              "#bd3786"
             ],
             [
              0.5555555555555556,
              "#d8576b"
             ],
             [
              0.6666666666666666,
              "#ed7953"
             ],
             [
              0.7777777777777778,
              "#fb9f3a"
             ],
             [
              0.8888888888888888,
              "#fdca26"
             ],
             [
              1,
              "#f0f921"
             ]
            ],
            "type": "surface"
           }
          ],
          "table": [
           {
            "cells": {
             "fill": {
              "color": "#EBF0F8"
             },
             "line": {
              "color": "white"
             }
            },
            "header": {
             "fill": {
              "color": "#C8D4E3"
             },
             "line": {
              "color": "white"
             }
            },
            "type": "table"
           }
          ]
         },
         "layout": {
          "annotationdefaults": {
           "arrowcolor": "#2a3f5f",
           "arrowhead": 0,
           "arrowwidth": 1
          },
          "autotypenumbers": "strict",
          "coloraxis": {
           "colorbar": {
            "outlinewidth": 0,
            "ticks": ""
           }
          },
          "colorscale": {
           "diverging": [
            [
             0,
             "#8e0152"
            ],
            [
             0.1,
             "#c51b7d"
            ],
            [
             0.2,
             "#de77ae"
            ],
            [
             0.3,
             "#f1b6da"
            ],
            [
             0.4,
             "#fde0ef"
            ],
            [
             0.5,
             "#f7f7f7"
            ],
            [
             0.6,
             "#e6f5d0"
            ],
            [
             0.7,
             "#b8e186"
            ],
            [
             0.8,
             "#7fbc41"
            ],
            [
             0.9,
             "#4d9221"
            ],
            [
             1,
             "#276419"
            ]
           ],
           "sequential": [
            [
             0,
             "#0d0887"
            ],
            [
             0.1111111111111111,
             "#46039f"
            ],
            [
             0.2222222222222222,
             "#7201a8"
            ],
            [
             0.3333333333333333,
             "#9c179e"
            ],
            [
             0.4444444444444444,
             "#bd3786"
            ],
            [
             0.5555555555555556,
             "#d8576b"
            ],
            [
             0.6666666666666666,
             "#ed7953"
            ],
            [
             0.7777777777777778,
             "#fb9f3a"
            ],
            [
             0.8888888888888888,
             "#fdca26"
            ],
            [
             1,
             "#f0f921"
            ]
           ],
           "sequentialminus": [
            [
             0,
             "#0d0887"
            ],
            [
             0.1111111111111111,
             "#46039f"
            ],
            [
             0.2222222222222222,
             "#7201a8"
            ],
            [
             0.3333333333333333,
             "#9c179e"
            ],
            [
             0.4444444444444444,
             "#bd3786"
            ],
            [
             0.5555555555555556,
             "#d8576b"
            ],
            [
             0.6666666666666666,
             "#ed7953"
            ],
            [
             0.7777777777777778,
             "#fb9f3a"
            ],
            [
             0.8888888888888888,
             "#fdca26"
            ],
            [
             1,
             "#f0f921"
            ]
           ]
          },
          "colorway": [
           "#636efa",
           "#EF553B",
           "#00cc96",
           "#ab63fa",
           "#FFA15A",
           "#19d3f3",
           "#FF6692",
           "#B6E880",
           "#FF97FF",
           "#FECB52"
          ],
          "font": {
           "color": "#2a3f5f"
          },
          "geo": {
           "bgcolor": "white",
           "lakecolor": "white",
           "landcolor": "#E5ECF6",
           "showlakes": true,
           "showland": true,
           "subunitcolor": "white"
          },
          "hoverlabel": {
           "align": "left"
          },
          "hovermode": "closest",
          "mapbox": {
           "style": "light"
          },
          "paper_bgcolor": "white",
          "plot_bgcolor": "#E5ECF6",
          "polar": {
           "angularaxis": {
            "gridcolor": "white",
            "linecolor": "white",
            "ticks": ""
           },
           "bgcolor": "#E5ECF6",
           "radialaxis": {
            "gridcolor": "white",
            "linecolor": "white",
            "ticks": ""
           }
          },
          "scene": {
           "xaxis": {
            "backgroundcolor": "#E5ECF6",
            "gridcolor": "white",
            "gridwidth": 2,
            "linecolor": "white",
            "showbackground": true,
            "ticks": "",
            "zerolinecolor": "white"
           },
           "yaxis": {
            "backgroundcolor": "#E5ECF6",
            "gridcolor": "white",
            "gridwidth": 2,
            "linecolor": "white",
            "showbackground": true,
            "ticks": "",
            "zerolinecolor": "white"
           },
           "zaxis": {
            "backgroundcolor": "#E5ECF6",
            "gridcolor": "white",
            "gridwidth": 2,
            "linecolor": "white",
            "showbackground": true,
            "ticks": "",
            "zerolinecolor": "white"
           }
          },
          "shapedefaults": {
           "line": {
            "color": "#2a3f5f"
           }
          },
          "ternary": {
           "aaxis": {
            "gridcolor": "white",
            "linecolor": "white",
            "ticks": ""
           },
           "baxis": {
            "gridcolor": "white",
            "linecolor": "white",
            "ticks": ""
           },
           "bgcolor": "#E5ECF6",
           "caxis": {
            "gridcolor": "white",
            "linecolor": "white",
            "ticks": ""
           }
          },
          "title": {
           "x": 0.05
          },
          "xaxis": {
           "automargin": true,
           "gridcolor": "white",
           "linecolor": "white",
           "ticks": "",
           "title": {
            "standoff": 15
           },
           "zerolinecolor": "white",
           "zerolinewidth": 2
          },
          "yaxis": {
           "automargin": true,
           "gridcolor": "white",
           "linecolor": "white",
           "ticks": "",
           "title": {
            "standoff": 15
           },
           "zerolinecolor": "white",
           "zerolinewidth": 2
          }
         }
        },
        "title": {
         "text": "KDE density on t-SNE 2D"
        },
        "width": 800
       }
      }
     },
     "metadata": {},
     "output_type": "display_data"
    }
   ],
   "source": [
    "# KDE 2D heatmap overlay on t-SNE 2D (using grid evaluation)\n",
    "from sklearn.model_selection import GridSearchCV\n",
    "kde = KernelDensity(bandwidth=0.5).fit(X_tsne2)\n",
    "xmin, ymin = X_tsne2.min(axis=0) - 1\n",
    "xmax, ymax = X_tsne2.max(axis=0) + 1\n",
    "xx, yy = np.meshgrid(np.linspace(xmin, xmax, 200), np.linspace(ymin, ymax, 200))\n",
    "grid = np.vstack([xx.ravel(), yy.ravel()]).T\n",
    "log_density = kde.score_samples(grid)\n",
    "density = np.exp(log_density).reshape(xx.shape)\n",
    "\n",
    "# Plotly heatmap + scatter\n",
    "fig_kde = go.Figure()\n",
    "fig_kde.add_trace(go.Heatmap(x=np.linspace(xmin, xmax, 200), y=np.linspace(ymin, ymax, 200), z=density,\n",
    "                             colorscale='Viridis', showscale=True, opacity=0.8))\n",
    "fig_kde.add_trace(go.Scatter(x=df_tsne2['x'], y=df_tsne2['y'], mode='markers',\n",
    "                             marker=dict(color=df_tsne2['target'], showscale=False, size=5, opacity=0.6)))\n",
    "fig_kde.update_layout(title='KDE density on t-SNE 2D', width=800, height=600)\n",
    "fig_kde.show()"
   ]
  },
  {
   "cell_type": "code",
   "execution_count": 13,
   "id": "8688d23b",
   "metadata": {},
   "outputs": [
    {
     "name": "stdout",
     "output_type": "stream",
     "text": [
      "GridSearch for LogisticRegression ...\n",
      "GridSearch for SVC ...\n",
      "GridSearch for RandomForest ...\n",
      "GridSearch for MLP ...\n"
     ]
    },
    {
     "data": {
      "text/html": [
       "<div>\n",
       "<style scoped>\n",
       "    .dataframe tbody tr th:only-of-type {\n",
       "        vertical-align: middle;\n",
       "    }\n",
       "\n",
       "    .dataframe tbody tr th {\n",
       "        vertical-align: top;\n",
       "    }\n",
       "\n",
       "    .dataframe thead th {\n",
       "        text-align: right;\n",
       "    }\n",
       "</style>\n",
       "<table border=\"1\" class=\"dataframe\">\n",
       "  <thead>\n",
       "    <tr style=\"text-align: right;\">\n",
       "      <th></th>\n",
       "      <th>best_params</th>\n",
       "      <th>accuracy</th>\n",
       "      <th>f1</th>\n",
       "      <th>roc_auc</th>\n",
       "    </tr>\n",
       "    <tr>\n",
       "      <th>model</th>\n",
       "      <th></th>\n",
       "      <th></th>\n",
       "      <th></th>\n",
       "      <th></th>\n",
       "    </tr>\n",
       "  </thead>\n",
       "  <tbody>\n",
       "    <tr>\n",
       "      <th>LogisticRegression</th>\n",
       "      <td>{'C': 10}</td>\n",
       "      <td>1.0</td>\n",
       "      <td>1.0</td>\n",
       "      <td>1.0</td>\n",
       "    </tr>\n",
       "    <tr>\n",
       "      <th>SVC</th>\n",
       "      <td>{'C': 0.1, 'kernel': 'linear'}</td>\n",
       "      <td>1.0</td>\n",
       "      <td>1.0</td>\n",
       "      <td>1.0</td>\n",
       "    </tr>\n",
       "    <tr>\n",
       "      <th>RandomForest</th>\n",
       "      <td>{'max_depth': None, 'n_estimators': 100}</td>\n",
       "      <td>1.0</td>\n",
       "      <td>1.0</td>\n",
       "      <td>1.0</td>\n",
       "    </tr>\n",
       "    <tr>\n",
       "      <th>MLP</th>\n",
       "      <td>{'hidden_layer_sizes': (100,), 'learning_rate_...</td>\n",
       "      <td>1.0</td>\n",
       "      <td>1.0</td>\n",
       "      <td>1.0</td>\n",
       "    </tr>\n",
       "  </tbody>\n",
       "</table>\n",
       "</div>"
      ],
      "text/plain": [
       "                                                          best_params  \\\n",
       "model                                                                   \n",
       "LogisticRegression                                          {'C': 10}   \n",
       "SVC                                    {'C': 0.1, 'kernel': 'linear'}   \n",
       "RandomForest                 {'max_depth': None, 'n_estimators': 100}   \n",
       "MLP                 {'hidden_layer_sizes': (100,), 'learning_rate_...   \n",
       "\n",
       "                    accuracy   f1  roc_auc  \n",
       "model                                       \n",
       "LogisticRegression       1.0  1.0      1.0  \n",
       "SVC                      1.0  1.0      1.0  \n",
       "RandomForest             1.0  1.0      1.0  \n",
       "MLP                      1.0  1.0      1.0  "
      ]
     },
     "execution_count": 13,
     "metadata": {},
     "output_type": "execute_result"
    }
   ],
   "source": [
    "# Models with GridSearchCV (same hyper-grids as before)\n",
    "param_grids = {\n",
    "    'LogisticRegression': {'C': [0.01, 0.1, 1, 10]},\n",
    "    'SVC': {'C': [0.1, 1, 10], 'kernel': ['linear', 'rbf']},\n",
    "    'RandomForest': {'n_estimators': [100, 200], 'max_depth': [None, 5, 10]},\n",
    "    'MLP': {'hidden_layer_sizes': [(50,), (100,)], 'learning_rate_init': [0.001, 0.01]}\n",
    "}\n",
    "models = {\n",
    "    'LogisticRegression': LogisticRegression(max_iter=2000, solver='lbfgs'),\n",
    "    'SVC': SVC(probability=True),\n",
    "    'RandomForest': RandomForestClassifier(random_state=42),\n",
    "    'MLP': MLPClassifier(max_iter=1000, random_state=42)\n",
    "}\n",
    "\n",
    "X_train, X_test, y_train, y_test = train_test_split(X_scaled, y, test_size=0.25, stratify=y, random_state=42)\n",
    "\n",
    "results = []\n",
    "for name, model in models.items():\n",
    "    print(f'GridSearch for {name} ...')\n",
    "    grid = GridSearchCV(model, param_grids[name], cv=3, scoring='f1', n_jobs=-1)\n",
    "    grid.fit(X_train, y_train)\n",
    "    best = grid.best_estimator_\n",
    "    preds = best.predict(X_test)\n",
    "    probs = best.predict_proba(X_test)[:,1] if hasattr(best, 'predict_proba') else None\n",
    "    res = {\n",
    "        'model': name,\n",
    "        'best_params': grid.best_params_,\n",
    "        'accuracy': accuracy_score(y_test, preds),\n",
    "        'f1': f1_score(y_test, preds),\n",
    "        'roc_auc': roc_auc_score(y_test, probs) if probs is not None else None\n",
    "    }\n",
    "    results.append(res)\n",
    "\n",
    "res_df = pd.DataFrame(results).set_index('model')\n",
    "res_df"
   ]
  },
  {
   "cell_type": "code",
   "execution_count": 14,
   "id": "c7bff345",
   "metadata": {},
   "outputs": [
    {
     "data": {
      "application/vnd.plotly.v1+json": {
       "config": {
        "plotlyServerURL": "https://plot.ly"
       },
       "data": [
        {
         "hovertemplate": "model=%{x}<br>f1=%{text}<extra></extra>",
         "legendgroup": "",
         "marker": {
          "color": "#636efa",
          "pattern": {
           "shape": ""
          }
         },
         "name": "",
         "orientation": "v",
         "showlegend": false,
         "text": {
          "bdata": "AAAAAAAA8D8AAAAAAADwPwAAAAAAAPA/AAAAAAAA8D8=",
          "dtype": "f8"
         },
         "textposition": "outside",
         "texttemplate": "%{text:.3f}",
         "type": "bar",
         "x": [
          "LogisticRegression",
          "SVC",
          "RandomForest",
          "MLP"
         ],
         "xaxis": "x",
         "y": {
          "bdata": "AAAAAAAA8D8AAAAAAADwPwAAAAAAAPA/AAAAAAAA8D8=",
          "dtype": "f8"
         },
         "yaxis": "y"
        }
       ],
       "layout": {
        "barmode": "relative",
        "height": 450,
        "legend": {
         "tracegroupgap": 0
        },
        "template": {
         "data": {
          "bar": [
           {
            "error_x": {
             "color": "#2a3f5f"
            },
            "error_y": {
             "color": "#2a3f5f"
            },
            "marker": {
             "line": {
              "color": "#E5ECF6",
              "width": 0.5
             },
             "pattern": {
              "fillmode": "overlay",
              "size": 10,
              "solidity": 0.2
             }
            },
            "type": "bar"
           }
          ],
          "barpolar": [
           {
            "marker": {
             "line": {
              "color": "#E5ECF6",
              "width": 0.5
             },
             "pattern": {
              "fillmode": "overlay",
              "size": 10,
              "solidity": 0.2
             }
            },
            "type": "barpolar"
           }
          ],
          "carpet": [
           {
            "aaxis": {
             "endlinecolor": "#2a3f5f",
             "gridcolor": "white",
             "linecolor": "white",
             "minorgridcolor": "white",
             "startlinecolor": "#2a3f5f"
            },
            "baxis": {
             "endlinecolor": "#2a3f5f",
             "gridcolor": "white",
             "linecolor": "white",
             "minorgridcolor": "white",
             "startlinecolor": "#2a3f5f"
            },
            "type": "carpet"
           }
          ],
          "choropleth": [
           {
            "colorbar": {
             "outlinewidth": 0,
             "ticks": ""
            },
            "type": "choropleth"
           }
          ],
          "contour": [
           {
            "colorbar": {
             "outlinewidth": 0,
             "ticks": ""
            },
            "colorscale": [
             [
              0,
              "#0d0887"
             ],
             [
              0.1111111111111111,
              "#46039f"
             ],
             [
              0.2222222222222222,
              "#7201a8"
             ],
             [
              0.3333333333333333,
              "#9c179e"
             ],
             [
              0.4444444444444444,
              "#bd3786"
             ],
             [
              0.5555555555555556,
              "#d8576b"
             ],
             [
              0.6666666666666666,
              "#ed7953"
             ],
             [
              0.7777777777777778,
              "#fb9f3a"
             ],
             [
              0.8888888888888888,
              "#fdca26"
             ],
             [
              1,
              "#f0f921"
             ]
            ],
            "type": "contour"
           }
          ],
          "contourcarpet": [
           {
            "colorbar": {
             "outlinewidth": 0,
             "ticks": ""
            },
            "type": "contourcarpet"
           }
          ],
          "heatmap": [
           {
            "colorbar": {
             "outlinewidth": 0,
             "ticks": ""
            },
            "colorscale": [
             [
              0,
              "#0d0887"
             ],
             [
              0.1111111111111111,
              "#46039f"
             ],
             [
              0.2222222222222222,
              "#7201a8"
             ],
             [
              0.3333333333333333,
              "#9c179e"
             ],
             [
              0.4444444444444444,
              "#bd3786"
             ],
             [
              0.5555555555555556,
              "#d8576b"
             ],
             [
              0.6666666666666666,
              "#ed7953"
             ],
             [
              0.7777777777777778,
              "#fb9f3a"
             ],
             [
              0.8888888888888888,
              "#fdca26"
             ],
             [
              1,
              "#f0f921"
             ]
            ],
            "type": "heatmap"
           }
          ],
          "histogram": [
           {
            "marker": {
             "pattern": {
              "fillmode": "overlay",
              "size": 10,
              "solidity": 0.2
             }
            },
            "type": "histogram"
           }
          ],
          "histogram2d": [
           {
            "colorbar": {
             "outlinewidth": 0,
             "ticks": ""
            },
            "colorscale": [
             [
              0,
              "#0d0887"
             ],
             [
              0.1111111111111111,
              "#46039f"
             ],
             [
              0.2222222222222222,
              "#7201a8"
             ],
             [
              0.3333333333333333,
              "#9c179e"
             ],
             [
              0.4444444444444444,
              "#bd3786"
             ],
             [
              0.5555555555555556,
              "#d8576b"
             ],
             [
              0.6666666666666666,
              "#ed7953"
             ],
             [
              0.7777777777777778,
              "#fb9f3a"
             ],
             [
              0.8888888888888888,
              "#fdca26"
             ],
             [
              1,
              "#f0f921"
             ]
            ],
            "type": "histogram2d"
           }
          ],
          "histogram2dcontour": [
           {
            "colorbar": {
             "outlinewidth": 0,
             "ticks": ""
            },
            "colorscale": [
             [
              0,
              "#0d0887"
             ],
             [
              0.1111111111111111,
              "#46039f"
             ],
             [
              0.2222222222222222,
              "#7201a8"
             ],
             [
              0.3333333333333333,
              "#9c179e"
             ],
             [
              0.4444444444444444,
              "#bd3786"
             ],
             [
              0.5555555555555556,
              "#d8576b"
             ],
             [
              0.6666666666666666,
              "#ed7953"
             ],
             [
              0.7777777777777778,
              "#fb9f3a"
             ],
             [
              0.8888888888888888,
              "#fdca26"
             ],
             [
              1,
              "#f0f921"
             ]
            ],
            "type": "histogram2dcontour"
           }
          ],
          "mesh3d": [
           {
            "colorbar": {
             "outlinewidth": 0,
             "ticks": ""
            },
            "type": "mesh3d"
           }
          ],
          "parcoords": [
           {
            "line": {
             "colorbar": {
              "outlinewidth": 0,
              "ticks": ""
             }
            },
            "type": "parcoords"
           }
          ],
          "pie": [
           {
            "automargin": true,
            "type": "pie"
           }
          ],
          "scatter": [
           {
            "fillpattern": {
             "fillmode": "overlay",
             "size": 10,
             "solidity": 0.2
            },
            "type": "scatter"
           }
          ],
          "scatter3d": [
           {
            "line": {
             "colorbar": {
              "outlinewidth": 0,
              "ticks": ""
             }
            },
            "marker": {
             "colorbar": {
              "outlinewidth": 0,
              "ticks": ""
             }
            },
            "type": "scatter3d"
           }
          ],
          "scattercarpet": [
           {
            "marker": {
             "colorbar": {
              "outlinewidth": 0,
              "ticks": ""
             }
            },
            "type": "scattercarpet"
           }
          ],
          "scattergeo": [
           {
            "marker": {
             "colorbar": {
              "outlinewidth": 0,
              "ticks": ""
             }
            },
            "type": "scattergeo"
           }
          ],
          "scattergl": [
           {
            "marker": {
             "colorbar": {
              "outlinewidth": 0,
              "ticks": ""
             }
            },
            "type": "scattergl"
           }
          ],
          "scattermap": [
           {
            "marker": {
             "colorbar": {
              "outlinewidth": 0,
              "ticks": ""
             }
            },
            "type": "scattermap"
           }
          ],
          "scattermapbox": [
           {
            "marker": {
             "colorbar": {
              "outlinewidth": 0,
              "ticks": ""
             }
            },
            "type": "scattermapbox"
           }
          ],
          "scatterpolar": [
           {
            "marker": {
             "colorbar": {
              "outlinewidth": 0,
              "ticks": ""
             }
            },
            "type": "scatterpolar"
           }
          ],
          "scatterpolargl": [
           {
            "marker": {
             "colorbar": {
              "outlinewidth": 0,
              "ticks": ""
             }
            },
            "type": "scatterpolargl"
           }
          ],
          "scatterternary": [
           {
            "marker": {
             "colorbar": {
              "outlinewidth": 0,
              "ticks": ""
             }
            },
            "type": "scatterternary"
           }
          ],
          "surface": [
           {
            "colorbar": {
             "outlinewidth": 0,
             "ticks": ""
            },
            "colorscale": [
             [
              0,
              "#0d0887"
             ],
             [
              0.1111111111111111,
              "#46039f"
             ],
             [
              0.2222222222222222,
              "#7201a8"
             ],
             [
              0.3333333333333333,
              "#9c179e"
             ],
             [
              0.4444444444444444,
              "#bd3786"
             ],
             [
              0.5555555555555556,
              "#d8576b"
             ],
             [
              0.6666666666666666,
              "#ed7953"
             ],
             [
              0.7777777777777778,
              "#fb9f3a"
             ],
             [
              0.8888888888888888,
              "#fdca26"
             ],
             [
              1,
              "#f0f921"
             ]
            ],
            "type": "surface"
           }
          ],
          "table": [
           {
            "cells": {
             "fill": {
              "color": "#EBF0F8"
             },
             "line": {
              "color": "white"
             }
            },
            "header": {
             "fill": {
              "color": "#C8D4E3"
             },
             "line": {
              "color": "white"
             }
            },
            "type": "table"
           }
          ]
         },
         "layout": {
          "annotationdefaults": {
           "arrowcolor": "#2a3f5f",
           "arrowhead": 0,
           "arrowwidth": 1
          },
          "autotypenumbers": "strict",
          "coloraxis": {
           "colorbar": {
            "outlinewidth": 0,
            "ticks": ""
           }
          },
          "colorscale": {
           "diverging": [
            [
             0,
             "#8e0152"
            ],
            [
             0.1,
             "#c51b7d"
            ],
            [
             0.2,
             "#de77ae"
            ],
            [
             0.3,
             "#f1b6da"
            ],
            [
             0.4,
             "#fde0ef"
            ],
            [
             0.5,
             "#f7f7f7"
            ],
            [
             0.6,
             "#e6f5d0"
            ],
            [
             0.7,
             "#b8e186"
            ],
            [
             0.8,
             "#7fbc41"
            ],
            [
             0.9,
             "#4d9221"
            ],
            [
             1,
             "#276419"
            ]
           ],
           "sequential": [
            [
             0,
             "#0d0887"
            ],
            [
             0.1111111111111111,
             "#46039f"
            ],
            [
             0.2222222222222222,
             "#7201a8"
            ],
            [
             0.3333333333333333,
             "#9c179e"
            ],
            [
             0.4444444444444444,
             "#bd3786"
            ],
            [
             0.5555555555555556,
             "#d8576b"
            ],
            [
             0.6666666666666666,
             "#ed7953"
            ],
            [
             0.7777777777777778,
             "#fb9f3a"
            ],
            [
             0.8888888888888888,
             "#fdca26"
            ],
            [
             1,
             "#f0f921"
            ]
           ],
           "sequentialminus": [
            [
             0,
             "#0d0887"
            ],
            [
             0.1111111111111111,
             "#46039f"
            ],
            [
             0.2222222222222222,
             "#7201a8"
            ],
            [
             0.3333333333333333,
             "#9c179e"
            ],
            [
             0.4444444444444444,
             "#bd3786"
            ],
            [
             0.5555555555555556,
             "#d8576b"
            ],
            [
             0.6666666666666666,
             "#ed7953"
            ],
            [
             0.7777777777777778,
             "#fb9f3a"
            ],
            [
             0.8888888888888888,
             "#fdca26"
            ],
            [
             1,
             "#f0f921"
            ]
           ]
          },
          "colorway": [
           "#636efa",
           "#EF553B",
           "#00cc96",
           "#ab63fa",
           "#FFA15A",
           "#19d3f3",
           "#FF6692",
           "#B6E880",
           "#FF97FF",
           "#FECB52"
          ],
          "font": {
           "color": "#2a3f5f"
          },
          "geo": {
           "bgcolor": "white",
           "lakecolor": "white",
           "landcolor": "#E5ECF6",
           "showlakes": true,
           "showland": true,
           "subunitcolor": "white"
          },
          "hoverlabel": {
           "align": "left"
          },
          "hovermode": "closest",
          "mapbox": {
           "style": "light"
          },
          "paper_bgcolor": "white",
          "plot_bgcolor": "#E5ECF6",
          "polar": {
           "angularaxis": {
            "gridcolor": "white",
            "linecolor": "white",
            "ticks": ""
           },
           "bgcolor": "#E5ECF6",
           "radialaxis": {
            "gridcolor": "white",
            "linecolor": "white",
            "ticks": ""
           }
          },
          "scene": {
           "xaxis": {
            "backgroundcolor": "#E5ECF6",
            "gridcolor": "white",
            "gridwidth": 2,
            "linecolor": "white",
            "showbackground": true,
            "ticks": "",
            "zerolinecolor": "white"
           },
           "yaxis": {
            "backgroundcolor": "#E5ECF6",
            "gridcolor": "white",
            "gridwidth": 2,
            "linecolor": "white",
            "showbackground": true,
            "ticks": "",
            "zerolinecolor": "white"
           },
           "zaxis": {
            "backgroundcolor": "#E5ECF6",
            "gridcolor": "white",
            "gridwidth": 2,
            "linecolor": "white",
            "showbackground": true,
            "ticks": "",
            "zerolinecolor": "white"
           }
          },
          "shapedefaults": {
           "line": {
            "color": "#2a3f5f"
           }
          },
          "ternary": {
           "aaxis": {
            "gridcolor": "white",
            "linecolor": "white",
            "ticks": ""
           },
           "baxis": {
            "gridcolor": "white",
            "linecolor": "white",
            "ticks": ""
           },
           "bgcolor": "#E5ECF6",
           "caxis": {
            "gridcolor": "white",
            "linecolor": "white",
            "ticks": ""
           }
          },
          "title": {
           "x": 0.05
          },
          "xaxis": {
           "automargin": true,
           "gridcolor": "white",
           "linecolor": "white",
           "ticks": "",
           "title": {
            "standoff": 15
           },
           "zerolinecolor": "white",
           "zerolinewidth": 2
          },
          "yaxis": {
           "automargin": true,
           "gridcolor": "white",
           "linecolor": "white",
           "ticks": "",
           "title": {
            "standoff": 15
           },
           "zerolinecolor": "white",
           "zerolinewidth": 2
          }
         }
        },
        "title": {
         "text": "Model F1-scores (test set)"
        },
        "width": 800,
        "xaxis": {
         "anchor": "y",
         "domain": [
          0,
          1
         ],
         "title": {
          "text": "model"
         }
        },
        "yaxis": {
         "anchor": "x",
         "domain": [
          0,
          1
         ],
         "range": [
          0,
          1.05
         ],
         "title": {
          "text": "f1"
         }
        }
       }
      }
     },
     "metadata": {},
     "output_type": "display_data"
    },
    {
     "data": {
      "text/html": [
       "<div>\n",
       "<style scoped>\n",
       "    .dataframe tbody tr th:only-of-type {\n",
       "        vertical-align: middle;\n",
       "    }\n",
       "\n",
       "    .dataframe tbody tr th {\n",
       "        vertical-align: top;\n",
       "    }\n",
       "\n",
       "    .dataframe thead th {\n",
       "        text-align: right;\n",
       "    }\n",
       "</style>\n",
       "<table border=\"1\" class=\"dataframe\">\n",
       "  <thead>\n",
       "    <tr style=\"text-align: right;\">\n",
       "      <th></th>\n",
       "      <th>best_params</th>\n",
       "      <th>accuracy</th>\n",
       "      <th>f1</th>\n",
       "      <th>roc_auc</th>\n",
       "    </tr>\n",
       "    <tr>\n",
       "      <th>model</th>\n",
       "      <th></th>\n",
       "      <th></th>\n",
       "      <th></th>\n",
       "      <th></th>\n",
       "    </tr>\n",
       "  </thead>\n",
       "  <tbody>\n",
       "    <tr>\n",
       "      <th>LogisticRegression</th>\n",
       "      <td>{'C': 10}</td>\n",
       "      <td>1.0</td>\n",
       "      <td>1.0</td>\n",
       "      <td>1.0</td>\n",
       "    </tr>\n",
       "    <tr>\n",
       "      <th>SVC</th>\n",
       "      <td>{'C': 0.1, 'kernel': 'linear'}</td>\n",
       "      <td>1.0</td>\n",
       "      <td>1.0</td>\n",
       "      <td>1.0</td>\n",
       "    </tr>\n",
       "    <tr>\n",
       "      <th>RandomForest</th>\n",
       "      <td>{'max_depth': None, 'n_estimators': 100}</td>\n",
       "      <td>1.0</td>\n",
       "      <td>1.0</td>\n",
       "      <td>1.0</td>\n",
       "    </tr>\n",
       "    <tr>\n",
       "      <th>MLP</th>\n",
       "      <td>{'hidden_layer_sizes': (100,), 'learning_rate_...</td>\n",
       "      <td>1.0</td>\n",
       "      <td>1.0</td>\n",
       "      <td>1.0</td>\n",
       "    </tr>\n",
       "  </tbody>\n",
       "</table>\n",
       "</div>"
      ],
      "text/plain": [
       "                                                          best_params  \\\n",
       "model                                                                   \n",
       "LogisticRegression                                          {'C': 10}   \n",
       "SVC                                    {'C': 0.1, 'kernel': 'linear'}   \n",
       "RandomForest                 {'max_depth': None, 'n_estimators': 100}   \n",
       "MLP                 {'hidden_layer_sizes': (100,), 'learning_rate_...   \n",
       "\n",
       "                    accuracy   f1  roc_auc  \n",
       "model                                       \n",
       "LogisticRegression       1.0  1.0      1.0  \n",
       "SVC                      1.0  1.0      1.0  \n",
       "RandomForest             1.0  1.0      1.0  \n",
       "MLP                      1.0  1.0      1.0  "
      ]
     },
     "execution_count": 14,
     "metadata": {},
     "output_type": "execute_result"
    }
   ],
   "source": [
    "# Plot results using Plotly bar charts\n",
    "fig_res = px.bar(res_df.reset_index(), x='model', y='f1', text='f1', title='Model F1-scores (test set)', width=800, height=450)\n",
    "fig_res.update_traces(texttemplate='%{text:.3f}', textposition='outside')\n",
    "fig_res.update_layout(yaxis=dict(range=[0,1.05]))\n",
    "fig_res.show()\n",
    "\n",
    "# Display table of results\n",
    "res_df"
   ]
  },
  {
   "cell_type": "markdown",
   "id": "5f2dd7fb",
   "metadata": {},
   "source": [
    "## Interprétation automatique des résultats\n",
    "\n",
    "**Séparation observée (t-SNE / UMAP)**  \n",
    "- La projection t-SNE (et UMAP si disponible) montre une **séparation nette** entre les deux classes. Cela indique que les features contiennent des signaux discriminants forts.  \n",
    "- t-SNE conserve principalement les voisinages locaux : les groupes serrés sur la projection sont des régions où beaucoup d'échantillons ont des caractéristiques similaires.\n",
    "\n",
    "**Densité (KDE)**  \n",
    "- Les cartes de densité révèlent des **points chauds** (high-density) qui correspondent à régions de l'espace latent où les échantillons sont très similaires. Ces régions peuvent informer la segmentation ou la recherche d'anomalies.  \n",
    "- Dans l'espace 3D, colorer les points par la densité locale (KDE) permet de repérer des noyaux de population non visibles sur une simple visualisation 2D.\n",
    "\n",
    "**Performances des modèles**  \n",
    "- Les modèles testés (LogisticRegression, SVC, RandomForest, MLP) sont évalués via GridSearchCV et montrent leurs meilleurs hyperparamètres.  \n",
    "- Si les scores (F1 / AUC) sont très élevés (proches de 1), vérifie :  \n",
    "  - stratification correcte du split (on l'utilise déjà),  \n",
    "  - fuite de données (features contenant l'étiquette ou informations dérivées),  \n",
    "  - complexité excessive des modèles sur peu de données (overfitting).  \n",
    "- Pour robustesse, envisage une validation croisée plus poussée (CV=5 ou stratified K-fold), et tester les modèles sur un jeu externe si possible.\n",
    "\n",
    "**Conseils pour la présentation**  \n",
    "- Montre t-SNE + KDE côte à côte pour illustrer structure & densité.  \n",
    "- Explique pourquoi t-SNE/UMAP sont utiles pour l'exploration mais **non adaptés** pour l'entraînement direct d'un classifieur (car ils ne préservent pas nécessairement la géométrie globale utile pour la généralisation).  \n",
    "- Ajoute une slide expliquant la méthodologie : preprocessing → réduction → KDE → training → évaluation. "
   ]
  }
 ],
 "metadata": {
  "kernelspec": {
   "display_name": "Python 3",
   "language": "python",
   "name": "python3"
  },
  "language_info": {
   "codemirror_mode": {
    "name": "ipython",
    "version": 3
   },
   "file_extension": ".py",
   "mimetype": "text/x-python",
   "name": "python",
   "nbconvert_exporter": "python",
   "pygments_lexer": "ipython3",
   "version": "3.11.9"
  }
 },
 "nbformat": 4,
 "nbformat_minor": 5
}
