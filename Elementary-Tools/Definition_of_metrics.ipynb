{
 "cells": [
  {
   "cell_type": "markdown",
   "id": "0f755075",
   "metadata": {},
   "source": [
    "**Creating a small synthetic dataset and computing two different metrics :**\n",
    "\n",
    "- Metric 1: Weighted Euclidean with a strong weight on Mass (to reflect unit-dominance)\n",
    "- Metric 2: Standardized Euclidean (divide differences by feature std) so all features balance\n",
    "\n",
    "We'll show that the closest and farthest pairs differ between the two metrics."
   ]
  },
  {
   "cell_type": "code",
   "execution_count": 1,
   "id": "ffd6d576",
   "metadata": {},
   "outputs": [
    {
     "name": "stdout",
     "output_type": "stream",
     "text": [
      "           Length_cm  Mass_kg  Temp_C  ColorIntensity\n",
      "sample_id                                            \n",
      "0               10.0   1000.0    20.0            0.50\n",
      "1               12.0   1001.0    22.0            0.60\n",
      "2               40.0     50.0    19.0            2.55\n",
      "3               31.0     49.0    19.2            0.53\n",
      "4               15.0    300.0    40.0            1.20\n",
      "5               14.5    305.0    39.8            1.22\n",
      "6               80.0     10.0    -5.0            0.10\n",
      "7               79.0     12.0    -4.8            0.12\n"
     ]
    }
   ],
   "source": [
    "import numpy as np\n",
    "import pandas as pd\n",
    "import itertools\n",
    "from math import sqrt\n",
    "\n",
    "# Construct a small dataset of 8 samples with 4 features (with units in the column names)\n",
    "data = np.array([\n",
    "    # Length_cm, Mass_kg, Temp_C, ColorIntensity_unitless\n",
    "    [10.0, 1000.0, 20.0, 0.50],   # sample 0: very large mass\n",
    "    [12.0, 1001.0, 22.0, 0.60],   # sample 1: very close mass to sample 0\n",
    "    [40.0,   50.0, 19.0, 2.55],   # sample 2: small mass cluster A\n",
    "    [31.0,   49.0, 19.2, 0.53],   # sample 3: close to sample 2 in many features\n",
    "    [15.0,  300.0, 40.0, 1.20],   # sample 4: medium mass, very different temp & color\n",
    "    [14.5,  305.0, 39.8, 1.22],   # sample 5: similar to sample 4\n",
    "    [80.0,   10.0, -5.0, 0.10],   # sample 6: extreme length, tiny mass, low temp\n",
    "    [79.0,   12.0, -4.8, 0.12],   # sample 7: close to sample 6\n",
    "])\n",
    "\n",
    "cols = [\"Length_cm\", \"Mass_kg\", \"Temp_C\", \"ColorIntensity\"]\n",
    "\n",
    "df = pd.DataFrame(data, columns=cols)\n",
    "df.index.name = \"sample_id\"\n",
    "\n",
    "print(df)"
   ]
  },
  {
   "cell_type": "code",
   "execution_count": 2,
   "id": "4daa4966",
   "metadata": {},
   "outputs": [],
   "source": [
    "# Metric 1: Weighted Euclidean (Mass has high weight to reflect its unit magnitude)\n",
    "weights = np.array([1.0, 100.0, 1.0, 1.0])  # Mass_kg heavily weighted\n",
    "\n",
    "def weighted_euclidean(x, y, w):\n",
    "    return np.sqrt(np.sum(w * (x - y)**2))\n",
    "\n",
    "# Metric 2: Standardized Euclidean (divide by std of each feature)\n",
    "stds = df.std(axis=0).values\n",
    "def standardized_euclidean(x, y, stds):\n",
    "    return np.linalg.norm((x - y) / stds)\n",
    "\n",
    "# Compute all pairwise distances\n",
    "pairs = list(itertools.combinations(range(len(df)), 2))\n",
    "distances_m1 = [(i, j, weighted_euclidean(df.iloc[i].values, df.iloc[j].values, weights)) for i, j in pairs]\n",
    "distances_m2 = [(i, j, standardized_euclidean(df.iloc[i].values, df.iloc[j].values, stds)) for i, j in pairs]\n",
    "\n",
    "min_m1 = min(distances_m1, key=lambda t: t[2])\n",
    "max_m1 = max(distances_m1, key=lambda t: t[2])\n",
    "min_m2 = min(distances_m2, key=lambda t: t[2])\n",
    "max_m2 = max(distances_m2, key=lambda t: t[2])"
   ]
  },
  {
   "cell_type": "code",
   "execution_count": 3,
   "id": "2f3a363e",
   "metadata": {},
   "outputs": [
    {
     "name": "stdout",
     "output_type": "stream",
     "text": [
      "Metric 1: Weighted Euclidean (Mass weighted 100x)\n",
      "  Closest pair: samples 0 & 1  -> distance = 10.392786\n",
      "           Length_cm  Mass_kg  Temp_C  ColorIntensity\n",
      "sample_id                                            \n",
      "0               10.0   1000.0    20.0             0.5\n",
      "1               12.0   1001.0    22.0             0.6\n",
      "\n",
      "  Farthest pair: samples 1 & 6  -> distance = 9910.270090\n",
      "           Length_cm  Mass_kg  Temp_C  ColorIntensity\n",
      "sample_id                                            \n",
      "1               12.0   1001.0    22.0             0.6\n",
      "6               80.0     10.0    -5.0             0.1\n",
      "\n",
      "------------------------------------------------------------\n",
      "\n",
      "Metric 2: Standardized Euclidean (z-score scaling)\n",
      "\n",
      "Feature std deviations (used for Metric 2):\n",
      "Length_cm          29.218313\n",
      "Mass_kg           424.365892\n",
      "Temp_C             17.011404\n",
      "ColorIntensity      0.804643\n",
      "dtype: float64\n",
      "\n",
      "  Closest pair: samples 4 & 5  -> distance = 0.034463\n",
      "           Length_cm  Mass_kg  Temp_C  ColorIntensity\n",
      "sample_id                                            \n",
      "4               15.0    300.0    40.0            1.20\n",
      "5               14.5    305.0    39.8            1.22\n",
      "\n",
      "  Farthest pair: samples 5 & 6  -> distance = 3.792305\n",
      "           Length_cm  Mass_kg  Temp_C  ColorIntensity\n",
      "sample_id                                            \n",
      "5               14.5    305.0    39.8            1.22\n",
      "6               80.0     10.0    -5.0            0.10\n"
     ]
    }
   ],
   "source": [
    "# Prepare results\n",
    "results = {\n",
    "    \"metric1_name\": \"Weighted Euclidean (Mass weighted 100x)\",\n",
    "    \"metric2_name\": \"Standardized Euclidean (z-score scaling)\",\n",
    "    \"metric1_closest\": min_m1,\n",
    "    \"metric1_farthest\": max_m1,\n",
    "    \"metric2_closest\": min_m2,\n",
    "    \"metric2_farthest\": max_m2,\n",
    "    \"stds\": stds,\n",
    "    \"weights\": weights\n",
    "}\n",
    "\n",
    "# Print computed distances and pairs\n",
    "# Metric 1 results\n",
    "print(f\"Metric 1: {results['metric1_name']}\")\n",
    "print(f\"  Closest pair: samples {min_m1[0]} & {min_m1[1]}  -> distance = {min_m1[2]:.6f}\")\n",
    "print(df.loc[[min_m1[0], min_m1[1]]])\n",
    "print()\n",
    "print(f\"  Farthest pair: samples {max_m1[0]} & {max_m1[1]}  -> distance = {max_m1[2]:.6f}\")\n",
    "print(df.loc[[max_m1[0], max_m1[1]]])\n",
    "print(\"\\n\" + \"-\"*60 + \"\\n\")\n",
    "\n",
    "# Metric 2 results\n",
    "print(f\"Metric 2: {results['metric2_name']}\\n\")\n",
    "print(f\"Feature std deviations (used for Metric 2):\\n{pd.Series(stds, index=cols)}\\n\")\n",
    "print(f\"  Closest pair: samples {min_m2[0]} & {min_m2[1]}  -> distance = {min_m2[2]:.6f}\")\n",
    "print(df.loc[[min_m2[0], min_m2[1]]])\n",
    "print()\n",
    "print(f\"  Farthest pair: samples {max_m2[0]} & {max_m2[1]}  -> distance = {max_m2[2]:.6f}\")\n",
    "print(df.loc[[max_m2[0], max_m2[1]]])"
   ]
  }
 ],
 "metadata": {
  "kernelspec": {
   "display_name": "Python 3",
   "language": "python",
   "name": "python3"
  },
  "language_info": {
   "codemirror_mode": {
    "name": "ipython",
    "version": 3
   },
   "file_extension": ".py",
   "mimetype": "text/x-python",
   "name": "python",
   "nbconvert_exporter": "python",
   "pygments_lexer": "ipython3",
   "version": "3.11.9"
  }
 },
 "nbformat": 4,
 "nbformat_minor": 5
}
