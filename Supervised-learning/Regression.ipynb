{
 "cells": [
  {
   "cell_type": "code",
   "execution_count": 20,
   "id": "ee2c98a8",
   "metadata": {},
   "outputs": [],
   "source": [
    "from sklearn.model_selection import train_test_split, GridSearchCV\n",
    "from sklearn.preprocessing import StandardScaler\n",
    "from sklearn.pipeline import Pipeline\n",
    "from sklearn.linear_model import Ridge, Lasso\n",
    "from sklearn.neural_network import MLPRegressor\n",
    "from sklearn.metrics import r2_score\n",
    "import numpy as np"
   ]
  },
  {
   "cell_type": "markdown",
   "id": "5583dffd",
   "metadata": {},
   "source": [
    "\n",
    "**Load data && Process**"
   ]
  },
  {
   "cell_type": "code",
   "execution_count": null,
   "id": "b5946ce2",
   "metadata": {},
   "outputs": [
    {
     "name": "stdout",
     "output_type": "stream",
     "text": [
      "Train set: (200, 200), Test set: (200, 200)\n"
     ]
    }
   ],
   "source": [
    "X_train = np.load(\"../data/regression/X_train.npy\")\n",
    "X_test = np.load(\"../data/regression/X_test.npy\")\n",
    "y_train = np.load(\"../data/regression/y_train.npy\")\n",
    "y_test = np.load(\"../data/regression/y_test.npy\")\n",
    "\n",
    "print(f\"Train set: {X_train.shape}, Test set: {X_test.shape}\")\n",
    "\n",
    "# Split into train/val\n",
    "X_tr, X_val, y_tr, y_val = train_test_split(\n",
    "    X_train, y_train, test_size=0.2, random_state=42\n",
    ")"
   ]
  },
  {
   "cell_type": "markdown",
   "id": "0458d19c",
   "metadata": {},
   "source": [
    "**Model 1: Ridge Regression**"
   ]
  },
  {
   "cell_type": "code",
   "execution_count": null,
   "id": "a5459a72",
   "metadata": {},
   "outputs": [
    {
     "name": "stdout",
     "output_type": "stream",
     "text": [
      "Ridge best params: {'alpha': 1.0}\n",
      "Ridge val R2: 0.7834015766238961\n"
     ]
    }
   ],
   "source": [
    "ridge_params = {\"alpha\": [0.001, 0.1, 1.0, 10.0, 100.0, 1000.0]}\n",
    "ridge = Ridge(random_state=42)\n",
    "ridge_pipe = Pipeline([\n",
    "    (\"scaler\", StandardScaler()),\n",
    "    (\"ridge\", Ridge(random_state=42))\n",
    "])\n",
    "ridge_grid = GridSearchCV(ridge, ridge_params, cv=5, scoring=\"r2\")\n",
    "ridge_grid.fit(X_tr, y_tr)\n",
    "\n",
    "best_ridge = ridge_grid.best_estimator_\n",
    "y_val_pred_ridge = best_ridge.predict(X_val)\n",
    "print(\"Ridge best params:\", ridge_grid.best_params_)\n",
    "print(\"Ridge val R2:\", r2_score(y_val, y_val_pred_ridge))"
   ]
  },
  {
   "cell_type": "markdown",
   "id": "dde801a0",
   "metadata": {},
   "source": [
    "**Model 2: Lasso Regression**"
   ]
  },
  {
   "cell_type": "code",
   "execution_count": 23,
   "id": "9ea00cfd",
   "metadata": {},
   "outputs": [
    {
     "name": "stdout",
     "output_type": "stream",
     "text": [
      "Lasso best params: {'lasso__alpha': 0.01}\n",
      "Lasso val R2: 0.918980777367542\n"
     ]
    }
   ],
   "source": [
    "lasso_params = {\"lasso__alpha\": [0.001, 0.01, 0.1, 1.0, 10.0, 100.0]}\n",
    "lasso_pipe = Pipeline([\n",
    "    (\"scaler\", StandardScaler()),\n",
    "    (\"lasso\", Lasso(random_state=42, max_iter=10000))\n",
    "])\n",
    "\n",
    "lasso_grid = GridSearchCV(lasso_pipe, lasso_params, cv=5, scoring=\"r2\")\n",
    "lasso_grid.fit(X_tr, y_tr)\n",
    "\n",
    "best_lasso = lasso_grid.best_estimator_\n",
    "y_val_pred_lasso = best_lasso.predict(X_val)\n",
    "print(\"Lasso best params:\", lasso_grid.best_params_)\n",
    "print(\"Lasso val R2:\", r2_score(y_val, y_val_pred_lasso))"
   ]
  },
  {
   "cell_type": "markdown",
   "id": "169739fa",
   "metadata": {},
   "source": [
    "**# Model 3: MLP Regressor**"
   ]
  },
  {
   "cell_type": "code",
   "execution_count": 24,
   "id": "786ab48f",
   "metadata": {},
   "outputs": [
    {
     "name": "stderr",
     "output_type": "stream",
     "text": [
      "C:\\Users\\kenti\\AppData\\Local\\Packages\\PythonSoftwareFoundation.Python.3.11_qbz5n2kfra8p0\\LocalCache\\local-packages\\Python311\\site-packages\\sklearn\\model_selection\\_search.py:412: VisibleDeprecationWarning: Creating an ndarray from ragged nested sequences (which is a list-or-tuple of lists-or-tuples-or ndarrays with different lengths or shapes) is deprecated. If you meant to do this, you must specify 'dtype=object' when creating the ndarray.\n",
      "  arr = np.array(param_list)\n"
     ]
    },
    {
     "name": "stdout",
     "output_type": "stream",
     "text": [
      "MLP best params: {'hidden_layer_sizes': (100, 50), 'learning_rate_init': 0.01, 'max_iter': 1000}\n",
      "MLP val R2: 0.7805044915797925\n"
     ]
    }
   ],
   "source": [
    "mlp_params = {\n",
    "    \"hidden_layer_sizes\": np.array([(50,), (100,), (100, 50)], dtype=object),\n",
    "    \"learning_rate_init\": [0.001, 0.01],\n",
    "    \"max_iter\": [1000]\n",
    "}\n",
    "mlp = MLPRegressor(random_state=42)\n",
    "mlp_grid = GridSearchCV(mlp, mlp_params, cv=3, scoring=\"r2\")\n",
    "mlp_grid.fit(X_tr, y_tr.ravel())\n",
    "\n",
    "best_mlp = mlp_grid.best_estimator_\n",
    "y_val_pred_mlp = best_mlp.predict(X_val)\n",
    "print(\"MLP best params:\", mlp_grid.best_params_)\n",
    "print(\"MLP val R2:\", r2_score(y_val, y_val_pred_mlp))"
   ]
  },
  {
   "cell_type": "markdown",
   "id": "f1e714ea",
   "metadata": {},
   "source": [
    "**Final Evaluation (TEST set ONCE)**"
   ]
  },
  {
   "cell_type": "code",
   "execution_count": 26,
   "id": "57dfc1a8",
   "metadata": {},
   "outputs": [
    {
     "name": "stdout",
     "output_type": "stream",
     "text": [
      "---- Final Results ----\n",
      "\n",
      "Ridge Test R2: 0.7309094860406974\n",
      "Lasso Test R2: 0.9344938037526456\n",
      "MLP Test R2: 0.6690551050866925\n"
     ]
    }
   ],
   "source": [
    "print(\"---- Final Results ----\\n\")\n",
    "y_pred_ridge = best_ridge.predict(X_test)\n",
    "y_pred_lasso = best_lasso.predict(X_test)\n",
    "y_pred_mlp = best_mlp.predict(X_test)\n",
    "\n",
    "print(\"Ridge Test R2:\", r2_score(y_test, y_pred_ridge))\n",
    "print(\"Lasso Test R2:\", r2_score(y_test, y_pred_lasso))\n",
    "print(\"MLP Test R2:\", r2_score(y_test, y_pred_mlp))"
   ]
  }
 ],
 "metadata": {
  "kernelspec": {
   "display_name": "Python 3",
   "language": "python",
   "name": "python3"
  },
  "language_info": {
   "codemirror_mode": {
    "name": "ipython",
    "version": 3
   },
   "file_extension": ".py",
   "mimetype": "text/x-python",
   "name": "python",
   "nbconvert_exporter": "python",
   "pygments_lexer": "ipython3",
   "version": "3.11.9"
  }
 },
 "nbformat": 4,
 "nbformat_minor": 5
}
